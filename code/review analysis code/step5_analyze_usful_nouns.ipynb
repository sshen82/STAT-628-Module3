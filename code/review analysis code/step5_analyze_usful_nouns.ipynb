{
 "cells": [
  {
   "cell_type": "markdown",
   "metadata": {},
   "source": [
    "# step 5: analyze useful nouns"
   ]
  },
  {
   "cell_type": "markdown",
   "metadata": {},
   "source": [
    "import librarys and load data set"
   ]
  },
  {
   "cell_type": "code",
   "execution_count": 1,
   "metadata": {},
   "outputs": [
    {
     "name": "stderr",
     "output_type": "stream",
     "text": [
      "Using TensorFlow backend.\n"
     ]
    }
   ],
   "source": [
    "# librarys\n",
    "import pandas as pd\n",
    "import nltk\n",
    "import sklearn\n",
    "import nltk.sentiment\n",
    "\n",
    "import re\n",
    "import pandas as pd\n",
    "import nltk\n",
    "import sklearn\n",
    "from nltk.stem import WordNetLemmatizer\n",
    "import numpy as np\n",
    "from nltk.tokenize import word_tokenize\n",
    "import nltk.sentiment\n",
    "import string\n",
    "# nltk.download('stopwords')\n",
    "# nltk.download('punkt')\n",
    "# nltk.download('wordnet')\n",
    "# nltk.download('averaged_perceptron_tagger')\n",
    "from nltk.corpus import stopwords\n",
    "from tqdm import tqdm\n",
    "from sklearn import linear_model\n",
    "import collections\n",
    "from gensim.models import Word2Vec\n",
    "from gensim.models import word2vec\n",
    "import multiprocessing\n",
    "import time\n",
    "import inflect\n",
    "from textblob import TextBlob\n",
    "import keras.preprocessing.text as T\n",
    "from keras.preprocessing.text import Tokenizer\n",
    "from sklearn.feature_extraction.text import CountVectorizer\n",
    "from sklearn.feature_extraction.text import TfidfTransformer\n",
    "\n",
    "## define stopwords\n",
    "sr = stopwords.words('english')\n",
    "p = inflect.engine()\n",
    "wnl = WordNetLemmatizer() \n",
    "table = str.maketrans('', '', string.punctuation)"
   ]
  },
  {
   "cell_type": "code",
   "execution_count": 2,
   "metadata": {},
   "outputs": [],
   "source": [
    "# function to change text to words\n",
    "def clean_review(text):\n",
    "    #Change n't into not\n",
    "    x = re.sub(r'n\\'t',' not',text)\n",
    "    #Change not word into not_word\n",
    "    x = re.sub(r'not ','not_',x)\n",
    "    #Split into words\n",
    "    x = word_tokenize(x)\n",
    "    #Remove punctuation\n",
    "    x = [w.translate(table) if not re.match(r'not_.*', w) else w for w in x]\n",
    "    #Change numbers into words\n",
    "    x = [p.number_to_words(w) if w.isdigit() else w  for w in x ]\n",
    "    #Remove non alphabetic\n",
    "    x = [w for w in x if w.isalpha() or re.match(r'not_.*',w)]\n",
    "    #Convert to lower case\n",
    "    x = [w.lower() for w in x]\n",
    "    #Remove stop words\n",
    "    x = [w for w in x if not w in sr]\n",
    "    ## lemmatization\n",
    "    x = [wnl.lemmatize(w) for w in x]\n",
    "    return x"
   ]
  },
  {
   "cell_type": "code",
   "execution_count": 25,
   "metadata": {},
   "outputs": [
    {
     "data": {
      "text/html": [
       "<div>\n",
       "<style scoped>\n",
       "    .dataframe tbody tr th:only-of-type {\n",
       "        vertical-align: middle;\n",
       "    }\n",
       "\n",
       "    .dataframe tbody tr th {\n",
       "        vertical-align: top;\n",
       "    }\n",
       "\n",
       "    .dataframe thead th {\n",
       "        text-align: right;\n",
       "    }\n",
       "</style>\n",
       "<table border=\"1\" class=\"dataframe\">\n",
       "  <thead>\n",
       "    <tr style=\"text-align: right;\">\n",
       "      <th></th>\n",
       "      <th>business_id</th>\n",
       "      <th>stars</th>\n",
       "      <th>bind_text</th>\n",
       "    </tr>\n",
       "  </thead>\n",
       "  <tbody>\n",
       "    <tr>\n",
       "      <th>0</th>\n",
       "      <td>nsNONDHbV7Vudqh21uicqw</td>\n",
       "      <td>3.5</td>\n",
       "      <td>Was very excited for happy hour and heard grea...</td>\n",
       "    </tr>\n",
       "    <tr>\n",
       "      <th>1</th>\n",
       "      <td>F06m2yQSPHIrb1IT7heYeQ</td>\n",
       "      <td>4.0</td>\n",
       "      <td>A Cantonese restaurant on the southwest side o...</td>\n",
       "    </tr>\n",
       "    <tr>\n",
       "      <th>2</th>\n",
       "      <td>c_FTil8s5PS2l_YJDQAXhA</td>\n",
       "      <td>4.0</td>\n",
       "      <td>Great food, friendly service, lovely atmospher...</td>\n",
       "    </tr>\n",
       "    <tr>\n",
       "      <th>3</th>\n",
       "      <td>vAbRNF0hJt91oCUpm_sdKw</td>\n",
       "      <td>3.5</td>\n",
       "      <td>I'm a FAN.  Loved this place.  Great service a...</td>\n",
       "    </tr>\n",
       "    <tr>\n",
       "      <th>4</th>\n",
       "      <td>z8H4Mdzl4jS9pYswj6Jf9w</td>\n",
       "      <td>3.5</td>\n",
       "      <td>Service was really poor.\\r\\r\\nMay try the King...</td>\n",
       "    </tr>\n",
       "  </tbody>\n",
       "</table>\n",
       "</div>"
      ],
      "text/plain": [
       "              business_id  stars  \\\n",
       "0  nsNONDHbV7Vudqh21uicqw    3.5   \n",
       "1  F06m2yQSPHIrb1IT7heYeQ    4.0   \n",
       "2  c_FTil8s5PS2l_YJDQAXhA    4.0   \n",
       "3  vAbRNF0hJt91oCUpm_sdKw    3.5   \n",
       "4  z8H4Mdzl4jS9pYswj6Jf9w    3.5   \n",
       "\n",
       "                                           bind_text  \n",
       "0  Was very excited for happy hour and heard grea...  \n",
       "1  A Cantonese restaurant on the southwest side o...  \n",
       "2  Great food, friendly service, lovely atmospher...  \n",
       "3  I'm a FAN.  Loved this place.  Great service a...  \n",
       "4  Service was really poor.\\r\\r\\nMay try the King...  "
      ]
     },
     "execution_count": 25,
     "metadata": {},
     "output_type": "execute_result"
    }
   ],
   "source": [
    "# load review data\n",
    "review_bind=pd.read_csv(\"review_bind.csv\")\n",
    "review_bind.head()"
   ]
  },
  {
   "cell_type": "code",
   "execution_count": 29,
   "metadata": {},
   "outputs": [],
   "source": [
    "# load dictionary of adjectives with positive/negative tags\n",
    "f = open('dict_adj.txt','r')\n",
    "a = f.read()\n",
    "dict_adj = eval(a)\n",
    "f.close()"
   ]
  },
  {
   "cell_type": "markdown",
   "metadata": {},
   "source": [
    "do word tokenization"
   ]
  },
  {
   "cell_type": "code",
   "execution_count": 5,
   "metadata": {},
   "outputs": [],
   "source": [
    "# do word tokenization\n",
    "clean_text = [[1]]*len(review_bind)\n",
    "for i in range(len(review_bind)):\n",
    "    clean_text[i]=clean_review(review_bind['bind_text'][i])"
   ]
  },
  {
   "cell_type": "markdown",
   "metadata": {},
   "source": [
    "define findadj function to find adjectives near a target noun"
   ]
  },
  {
   "cell_type": "code",
   "execution_count": 9,
   "metadata": {},
   "outputs": [],
   "source": [
    "# define findadj funciton\n",
    "def findadj(noun,text):\n",
    "    adj_word = [[1]]*len(text)\n",
    "    for i in range(len(text)):\n",
    "        word=text[i]        \n",
    "        pos_tag = nltk.pos_tag(word)\n",
    "        adjs = []\n",
    "        for j in range(len(word)):\n",
    "            if (word[j] == noun):\n",
    "                if ((j-1)>=0 and pos_tag[j-1][1] == 'JJ'):\n",
    "                    adjs.append(pos_tag[j-1][0])\n",
    "        adj_word[i]=adjs\n",
    "    return adj_word"
   ]
  },
  {
   "cell_type": "markdown",
   "metadata": {},
   "source": [
    "## lobster"
   ]
  },
  {
   "cell_type": "code",
   "execution_count": 226,
   "metadata": {},
   "outputs": [],
   "source": [
    "adj_lobster=findadj('lobster',clean_text)"
   ]
  },
  {
   "cell_type": "code",
   "execution_count": 38,
   "metadata": {},
   "outputs": [
    {
     "data": {
      "text/html": [
       "<div>\n",
       "<style scoped>\n",
       "    .dataframe tbody tr th:only-of-type {\n",
       "        vertical-align: middle;\n",
       "    }\n",
       "\n",
       "    .dataframe tbody tr th {\n",
       "        vertical-align: top;\n",
       "    }\n",
       "\n",
       "    .dataframe thead th {\n",
       "        text-align: right;\n",
       "    }\n",
       "</style>\n",
       "<table border=\"1\" class=\"dataframe\">\n",
       "  <thead>\n",
       "    <tr style=\"text-align: right;\">\n",
       "      <th></th>\n",
       "      <th>business_id</th>\n",
       "      <th>positive</th>\n",
       "      <th>negative</th>\n",
       "      <th>proportion</th>\n",
       "    </tr>\n",
       "  </thead>\n",
       "  <tbody>\n",
       "    <tr>\n",
       "      <th>0</th>\n",
       "      <td>nsNONDHbV7Vudqh21uicqw</td>\n",
       "      <td>0</td>\n",
       "      <td>0</td>\n",
       "      <td>NaN</td>\n",
       "    </tr>\n",
       "    <tr>\n",
       "      <th>1</th>\n",
       "      <td>F06m2yQSPHIrb1IT7heYeQ</td>\n",
       "      <td>0</td>\n",
       "      <td>0</td>\n",
       "      <td>NaN</td>\n",
       "    </tr>\n",
       "    <tr>\n",
       "      <th>2</th>\n",
       "      <td>c_FTil8s5PS2l_YJDQAXhA</td>\n",
       "      <td>0</td>\n",
       "      <td>0</td>\n",
       "      <td>NaN</td>\n",
       "    </tr>\n",
       "    <tr>\n",
       "      <th>3</th>\n",
       "      <td>vAbRNF0hJt91oCUpm_sdKw</td>\n",
       "      <td>0</td>\n",
       "      <td>0</td>\n",
       "      <td>NaN</td>\n",
       "    </tr>\n",
       "    <tr>\n",
       "      <th>4</th>\n",
       "      <td>z8H4Mdzl4jS9pYswj6Jf9w</td>\n",
       "      <td>0</td>\n",
       "      <td>0</td>\n",
       "      <td>NaN</td>\n",
       "    </tr>\n",
       "  </tbody>\n",
       "</table>\n",
       "</div>"
      ],
      "text/plain": [
       "              business_id  positive  negative  proportion\n",
       "0  nsNONDHbV7Vudqh21uicqw         0         0         NaN\n",
       "1  F06m2yQSPHIrb1IT7heYeQ         0         0         NaN\n",
       "2  c_FTil8s5PS2l_YJDQAXhA         0         0         NaN\n",
       "3  vAbRNF0hJt91oCUpm_sdKw         0         0         NaN\n",
       "4  z8H4Mdzl4jS9pYswj6Jf9w         0         0         NaN"
      ]
     },
     "execution_count": 38,
     "metadata": {},
     "output_type": "execute_result"
    }
   ],
   "source": [
    "lobster=pd.DataFrame(review_bind['business_id'])\n",
    "lobster['positive']=[0]*(len(review_bind))\n",
    "lobster['negative']=[0]*len(review_bind)\n",
    "lobster['proportion']=[np.nan]*len(review_bind)\n",
    "lobster.head()"
   ]
  },
  {
   "cell_type": "code",
   "execution_count": 39,
   "metadata": {},
   "outputs": [
    {
     "name": "stderr",
     "output_type": "stream",
     "text": [
      "C:\\Users\\GAO ZEJIN\\Anaconda3\\lib\\site-packages\\ipykernel_launcher.py:12: RuntimeWarning: invalid value encountered in longlong_scalars\n",
      "  if sys.path[0] == '':\n"
     ]
    },
    {
     "data": {
      "text/html": [
       "<div>\n",
       "<style scoped>\n",
       "    .dataframe tbody tr th:only-of-type {\n",
       "        vertical-align: middle;\n",
       "    }\n",
       "\n",
       "    .dataframe tbody tr th {\n",
       "        vertical-align: top;\n",
       "    }\n",
       "\n",
       "    .dataframe thead th {\n",
       "        text-align: right;\n",
       "    }\n",
       "</style>\n",
       "<table border=\"1\" class=\"dataframe\">\n",
       "  <thead>\n",
       "    <tr style=\"text-align: right;\">\n",
       "      <th></th>\n",
       "      <th>business_id</th>\n",
       "      <th>positive</th>\n",
       "      <th>negative</th>\n",
       "      <th>proportion</th>\n",
       "    </tr>\n",
       "  </thead>\n",
       "  <tbody>\n",
       "    <tr>\n",
       "      <th>0</th>\n",
       "      <td>nsNONDHbV7Vudqh21uicqw</td>\n",
       "      <td>88</td>\n",
       "      <td>6</td>\n",
       "      <td>0.93617</td>\n",
       "    </tr>\n",
       "    <tr>\n",
       "      <th>1</th>\n",
       "      <td>F06m2yQSPHIrb1IT7heYeQ</td>\n",
       "      <td>3</td>\n",
       "      <td>0</td>\n",
       "      <td>1.00000</td>\n",
       "    </tr>\n",
       "    <tr>\n",
       "      <th>2</th>\n",
       "      <td>c_FTil8s5PS2l_YJDQAXhA</td>\n",
       "      <td>1</td>\n",
       "      <td>0</td>\n",
       "      <td>1.00000</td>\n",
       "    </tr>\n",
       "    <tr>\n",
       "      <th>3</th>\n",
       "      <td>vAbRNF0hJt91oCUpm_sdKw</td>\n",
       "      <td>15</td>\n",
       "      <td>1</td>\n",
       "      <td>0.93750</td>\n",
       "    </tr>\n",
       "    <tr>\n",
       "      <th>4</th>\n",
       "      <td>z8H4Mdzl4jS9pYswj6Jf9w</td>\n",
       "      <td>1</td>\n",
       "      <td>0</td>\n",
       "      <td>1.00000</td>\n",
       "    </tr>\n",
       "  </tbody>\n",
       "</table>\n",
       "</div>"
      ],
      "text/plain": [
       "              business_id  positive  negative  proportion\n",
       "0  nsNONDHbV7Vudqh21uicqw        88         6     0.93617\n",
       "1  F06m2yQSPHIrb1IT7heYeQ         3         0     1.00000\n",
       "2  c_FTil8s5PS2l_YJDQAXhA         1         0     1.00000\n",
       "3  vAbRNF0hJt91oCUpm_sdKw        15         1     0.93750\n",
       "4  z8H4Mdzl4jS9pYswj6Jf9w         1         0     1.00000"
      ]
     },
     "execution_count": 39,
     "metadata": {},
     "output_type": "execute_result"
    }
   ],
   "source": [
    "from collections import Counter\n",
    "\n",
    "for i in range(len(adj_lobster)):\n",
    "    if(len(adj_lobster[i]) != 0):\n",
    "        dictionary=Counter(adj_lobster[i])\n",
    "        for word in dictionary.keys():\n",
    "            if (word in dict_adj.keys()):\n",
    "                if (dict_adj[word] == 'positive'):\n",
    "                    lobster.iat[i,1]=lobster['positive'][i]+dictionary[word]\n",
    "                else:\n",
    "                    lobster.iat[i,2]=lobster['negative'][i]+dictionary[word]\n",
    "        lobster.iat[i,3]=lobster['positive'][i]/(lobster['positive'][i]+lobster['negative'][i])\n",
    "lobster.head()"
   ]
  },
  {
   "cell_type": "code",
   "execution_count": 41,
   "metadata": {},
   "outputs": [
    {
     "data": {
      "text/plain": [
       "6022"
      ]
     },
     "execution_count": 41,
     "metadata": {},
     "output_type": "execute_result"
    }
   ],
   "source": [
    "np.sum(lobster['positive'])"
   ]
  },
  {
   "cell_type": "code",
   "execution_count": 42,
   "metadata": {},
   "outputs": [
    {
     "data": {
      "text/plain": [
       "374"
      ]
     },
     "execution_count": 42,
     "metadata": {},
     "output_type": "execute_result"
    }
   ],
   "source": [
    "np.sum(lobster['negative'])"
   ]
  },
  {
   "cell_type": "code",
   "execution_count": 46,
   "metadata": {},
   "outputs": [
    {
     "data": {
      "text/html": [
       "<div>\n",
       "<style scoped>\n",
       "    .dataframe tbody tr th:only-of-type {\n",
       "        vertical-align: middle;\n",
       "    }\n",
       "\n",
       "    .dataframe tbody tr th {\n",
       "        vertical-align: top;\n",
       "    }\n",
       "\n",
       "    .dataframe thead th {\n",
       "        text-align: right;\n",
       "    }\n",
       "</style>\n",
       "<table border=\"1\" class=\"dataframe\">\n",
       "  <thead>\n",
       "    <tr style=\"text-align: right;\">\n",
       "      <th></th>\n",
       "      <th>business_id</th>\n",
       "      <th>positive</th>\n",
       "      <th>negative</th>\n",
       "      <th>proportion</th>\n",
       "      <th>stars</th>\n",
       "    </tr>\n",
       "  </thead>\n",
       "  <tbody>\n",
       "    <tr>\n",
       "      <th>0</th>\n",
       "      <td>nsNONDHbV7Vudqh21uicqw</td>\n",
       "      <td>88</td>\n",
       "      <td>6</td>\n",
       "      <td>0.93617</td>\n",
       "      <td>3.5</td>\n",
       "    </tr>\n",
       "    <tr>\n",
       "      <th>1</th>\n",
       "      <td>F06m2yQSPHIrb1IT7heYeQ</td>\n",
       "      <td>3</td>\n",
       "      <td>0</td>\n",
       "      <td>1.00000</td>\n",
       "      <td>4.0</td>\n",
       "    </tr>\n",
       "    <tr>\n",
       "      <th>2</th>\n",
       "      <td>c_FTil8s5PS2l_YJDQAXhA</td>\n",
       "      <td>1</td>\n",
       "      <td>0</td>\n",
       "      <td>1.00000</td>\n",
       "      <td>4.0</td>\n",
       "    </tr>\n",
       "    <tr>\n",
       "      <th>3</th>\n",
       "      <td>vAbRNF0hJt91oCUpm_sdKw</td>\n",
       "      <td>15</td>\n",
       "      <td>1</td>\n",
       "      <td>0.93750</td>\n",
       "      <td>3.5</td>\n",
       "    </tr>\n",
       "    <tr>\n",
       "      <th>4</th>\n",
       "      <td>z8H4Mdzl4jS9pYswj6Jf9w</td>\n",
       "      <td>1</td>\n",
       "      <td>0</td>\n",
       "      <td>1.00000</td>\n",
       "      <td>3.5</td>\n",
       "    </tr>\n",
       "  </tbody>\n",
       "</table>\n",
       "</div>"
      ],
      "text/plain": [
       "              business_id  positive  negative  proportion  stars\n",
       "0  nsNONDHbV7Vudqh21uicqw        88         6     0.93617    3.5\n",
       "1  F06m2yQSPHIrb1IT7heYeQ         3         0     1.00000    4.0\n",
       "2  c_FTil8s5PS2l_YJDQAXhA         1         0     1.00000    4.0\n",
       "3  vAbRNF0hJt91oCUpm_sdKw        15         1     0.93750    3.5\n",
       "4  z8H4Mdzl4jS9pYswj6Jf9w         1         0     1.00000    3.5"
      ]
     },
     "execution_count": 46,
     "metadata": {},
     "output_type": "execute_result"
    }
   ],
   "source": [
    "lobster['stars']=review_bind['stars']\n",
    "lobster.head()"
   ]
  },
  {
   "cell_type": "code",
   "execution_count": 52,
   "metadata": {},
   "outputs": [
    {
     "data": {
      "text/html": [
       "<div>\n",
       "<style scoped>\n",
       "    .dataframe tbody tr th:only-of-type {\n",
       "        vertical-align: middle;\n",
       "    }\n",
       "\n",
       "    .dataframe tbody tr th {\n",
       "        vertical-align: top;\n",
       "    }\n",
       "\n",
       "    .dataframe thead th {\n",
       "        text-align: right;\n",
       "    }\n",
       "</style>\n",
       "<table border=\"1\" class=\"dataframe\">\n",
       "  <thead>\n",
       "    <tr style=\"text-align: right;\">\n",
       "      <th></th>\n",
       "      <th>proportion</th>\n",
       "      <th>stars</th>\n",
       "    </tr>\n",
       "  </thead>\n",
       "  <tbody>\n",
       "    <tr>\n",
       "      <th>proportion</th>\n",
       "      <td>1.000000</td>\n",
       "      <td>0.144111</td>\n",
       "    </tr>\n",
       "    <tr>\n",
       "      <th>stars</th>\n",
       "      <td>0.144111</td>\n",
       "      <td>1.000000</td>\n",
       "    </tr>\n",
       "  </tbody>\n",
       "</table>\n",
       "</div>"
      ],
      "text/plain": [
       "            proportion     stars\n",
       "proportion    1.000000  0.144111\n",
       "stars         0.144111  1.000000"
      ]
     },
     "execution_count": 52,
     "metadata": {},
     "output_type": "execute_result"
    }
   ],
   "source": [
    "lobster.loc[:,['proportion','stars']].corr()"
   ]
  },
  {
   "cell_type": "code",
   "execution_count": 53,
   "metadata": {},
   "outputs": [],
   "source": [
    "lobster.to_csv(\"lobster.csv\",index=False)"
   ]
  },
  {
   "cell_type": "markdown",
   "metadata": {},
   "source": [
    "# other nouns"
   ]
  },
  {
   "cell_type": "code",
   "execution_count": 54,
   "metadata": {},
   "outputs": [],
   "source": [
    "noun_list=[\"lobster\",\"crab\",\"shrimp\",\"oyster\",\"fish\",\"clam\",\"sauce\",\"wine\",\"stuff\",\"waiter\",\"waitress\",\"chef\",\"manager\",\"location\",\"style\",\"flavor\",\"plate\",\"service\",\"price\"]\n"
   ]
  },
  {
   "cell_type": "markdown",
   "metadata": {},
   "source": [
    "## crab"
   ]
  },
  {
   "cell_type": "code",
   "execution_count": 225,
   "metadata": {},
   "outputs": [],
   "source": [
    "adj_crab=findadj('crab',clean_text)"
   ]
  },
  {
   "cell_type": "code",
   "execution_count": 56,
   "metadata": {},
   "outputs": [],
   "source": [
    "crab=pd.DataFrame(review_bind['business_id'])\n",
    "crab['positive']=[0]*(len(review_bind))\n",
    "crab['negative']=[0]*len(review_bind)\n",
    "crab['proportion']=[np.nan]*len(review_bind)"
   ]
  },
  {
   "cell_type": "code",
   "execution_count": 57,
   "metadata": {},
   "outputs": [
    {
     "name": "stderr",
     "output_type": "stream",
     "text": [
      "C:\\Users\\GAO ZEJIN\\Anaconda3\\lib\\site-packages\\ipykernel_launcher.py:12: RuntimeWarning: invalid value encountered in longlong_scalars\n",
      "  if sys.path[0] == '':\n"
     ]
    },
    {
     "data": {
      "text/html": [
       "<div>\n",
       "<style scoped>\n",
       "    .dataframe tbody tr th:only-of-type {\n",
       "        vertical-align: middle;\n",
       "    }\n",
       "\n",
       "    .dataframe tbody tr th {\n",
       "        vertical-align: top;\n",
       "    }\n",
       "\n",
       "    .dataframe thead th {\n",
       "        text-align: right;\n",
       "    }\n",
       "</style>\n",
       "<table border=\"1\" class=\"dataframe\">\n",
       "  <thead>\n",
       "    <tr style=\"text-align: right;\">\n",
       "      <th></th>\n",
       "      <th>business_id</th>\n",
       "      <th>positive</th>\n",
       "      <th>negative</th>\n",
       "      <th>proportion</th>\n",
       "      <th>stars</th>\n",
       "    </tr>\n",
       "  </thead>\n",
       "  <tbody>\n",
       "    <tr>\n",
       "      <th>0</th>\n",
       "      <td>nsNONDHbV7Vudqh21uicqw</td>\n",
       "      <td>57</td>\n",
       "      <td>4</td>\n",
       "      <td>0.934426</td>\n",
       "      <td>3.5</td>\n",
       "    </tr>\n",
       "    <tr>\n",
       "      <th>1</th>\n",
       "      <td>F06m2yQSPHIrb1IT7heYeQ</td>\n",
       "      <td>3</td>\n",
       "      <td>1</td>\n",
       "      <td>0.750000</td>\n",
       "      <td>4.0</td>\n",
       "    </tr>\n",
       "    <tr>\n",
       "      <th>2</th>\n",
       "      <td>c_FTil8s5PS2l_YJDQAXhA</td>\n",
       "      <td>0</td>\n",
       "      <td>0</td>\n",
       "      <td>NaN</td>\n",
       "      <td>4.0</td>\n",
       "    </tr>\n",
       "    <tr>\n",
       "      <th>3</th>\n",
       "      <td>vAbRNF0hJt91oCUpm_sdKw</td>\n",
       "      <td>3</td>\n",
       "      <td>1</td>\n",
       "      <td>0.750000</td>\n",
       "      <td>3.5</td>\n",
       "    </tr>\n",
       "    <tr>\n",
       "      <th>4</th>\n",
       "      <td>z8H4Mdzl4jS9pYswj6Jf9w</td>\n",
       "      <td>0</td>\n",
       "      <td>0</td>\n",
       "      <td>NaN</td>\n",
       "      <td>3.5</td>\n",
       "    </tr>\n",
       "  </tbody>\n",
       "</table>\n",
       "</div>"
      ],
      "text/plain": [
       "              business_id  positive  negative  proportion  stars\n",
       "0  nsNONDHbV7Vudqh21uicqw        57         4    0.934426    3.5\n",
       "1  F06m2yQSPHIrb1IT7heYeQ         3         1    0.750000    4.0\n",
       "2  c_FTil8s5PS2l_YJDQAXhA         0         0         NaN    4.0\n",
       "3  vAbRNF0hJt91oCUpm_sdKw         3         1    0.750000    3.5\n",
       "4  z8H4Mdzl4jS9pYswj6Jf9w         0         0         NaN    3.5"
      ]
     },
     "execution_count": 57,
     "metadata": {},
     "output_type": "execute_result"
    }
   ],
   "source": [
    "from collections import Counter\n",
    "\n",
    "for i in range(len(adj_crab)):\n",
    "    if(len(adj_crab[i]) != 0):\n",
    "        dictionary=Counter(adj_crab[i])\n",
    "        for word in dictionary.keys():\n",
    "            if (word in dict_adj.keys()):\n",
    "                if (dict_adj[word] == 'positive'):\n",
    "                    crab.iat[i,1]=crab['positive'][i]+dictionary[word]\n",
    "                else:\n",
    "                    crab.iat[i,2]=crab['negative'][i]+dictionary[word]\n",
    "        crab.iat[i,3]=crab['positive'][i]/(crab['positive'][i]+crab['negative'][i])\n",
    "\n",
    "crab['stars']=review_bind['stars']\n",
    "crab.head()"
   ]
  },
  {
   "cell_type": "code",
   "execution_count": 58,
   "metadata": {},
   "outputs": [
    {
     "name": "stdout",
     "output_type": "stream",
     "text": [
      "3146\n",
      "479\n"
     ]
    }
   ],
   "source": [
    "print(np.sum(crab['positive']))\n",
    "print(np.sum(crab['negative']))"
   ]
  },
  {
   "cell_type": "code",
   "execution_count": 59,
   "metadata": {},
   "outputs": [
    {
     "data": {
      "text/html": [
       "<div>\n",
       "<style scoped>\n",
       "    .dataframe tbody tr th:only-of-type {\n",
       "        vertical-align: middle;\n",
       "    }\n",
       "\n",
       "    .dataframe tbody tr th {\n",
       "        vertical-align: top;\n",
       "    }\n",
       "\n",
       "    .dataframe thead th {\n",
       "        text-align: right;\n",
       "    }\n",
       "</style>\n",
       "<table border=\"1\" class=\"dataframe\">\n",
       "  <thead>\n",
       "    <tr style=\"text-align: right;\">\n",
       "      <th></th>\n",
       "      <th>proportion</th>\n",
       "      <th>stars</th>\n",
       "    </tr>\n",
       "  </thead>\n",
       "  <tbody>\n",
       "    <tr>\n",
       "      <th>proportion</th>\n",
       "      <td>1.000000</td>\n",
       "      <td>0.141837</td>\n",
       "    </tr>\n",
       "    <tr>\n",
       "      <th>stars</th>\n",
       "      <td>0.141837</td>\n",
       "      <td>1.000000</td>\n",
       "    </tr>\n",
       "  </tbody>\n",
       "</table>\n",
       "</div>"
      ],
      "text/plain": [
       "            proportion     stars\n",
       "proportion    1.000000  0.141837\n",
       "stars         0.141837  1.000000"
      ]
     },
     "execution_count": 59,
     "metadata": {},
     "output_type": "execute_result"
    }
   ],
   "source": [
    "crab.loc[:,['proportion','stars']].corr()"
   ]
  },
  {
   "cell_type": "code",
   "execution_count": 60,
   "metadata": {},
   "outputs": [],
   "source": [
    "crab.to_csv(\"crab.csv\",index=False)"
   ]
  },
  {
   "cell_type": "markdown",
   "metadata": {},
   "source": [
    "## shrimp"
   ]
  },
  {
   "cell_type": "code",
   "execution_count": 61,
   "metadata": {},
   "outputs": [],
   "source": [
    "adj_shrimp=findadj('shrimp',clean_text)"
   ]
  },
  {
   "cell_type": "code",
   "execution_count": 63,
   "metadata": {},
   "outputs": [
    {
     "name": "stderr",
     "output_type": "stream",
     "text": [
      "C:\\Users\\GAO ZEJIN\\Anaconda3\\lib\\site-packages\\ipykernel_launcher.py:17: RuntimeWarning: invalid value encountered in longlong_scalars\n"
     ]
    },
    {
     "data": {
      "text/html": [
       "<div>\n",
       "<style scoped>\n",
       "    .dataframe tbody tr th:only-of-type {\n",
       "        vertical-align: middle;\n",
       "    }\n",
       "\n",
       "    .dataframe tbody tr th {\n",
       "        vertical-align: top;\n",
       "    }\n",
       "\n",
       "    .dataframe thead th {\n",
       "        text-align: right;\n",
       "    }\n",
       "</style>\n",
       "<table border=\"1\" class=\"dataframe\">\n",
       "  <thead>\n",
       "    <tr style=\"text-align: right;\">\n",
       "      <th></th>\n",
       "      <th>business_id</th>\n",
       "      <th>positive</th>\n",
       "      <th>negative</th>\n",
       "      <th>proportion</th>\n",
       "      <th>stars</th>\n",
       "    </tr>\n",
       "  </thead>\n",
       "  <tbody>\n",
       "    <tr>\n",
       "      <th>0</th>\n",
       "      <td>nsNONDHbV7Vudqh21uicqw</td>\n",
       "      <td>42</td>\n",
       "      <td>2</td>\n",
       "      <td>0.954545</td>\n",
       "      <td>3.5</td>\n",
       "    </tr>\n",
       "    <tr>\n",
       "      <th>1</th>\n",
       "      <td>F06m2yQSPHIrb1IT7heYeQ</td>\n",
       "      <td>0</td>\n",
       "      <td>0</td>\n",
       "      <td>NaN</td>\n",
       "      <td>4.0</td>\n",
       "    </tr>\n",
       "    <tr>\n",
       "      <th>2</th>\n",
       "      <td>c_FTil8s5PS2l_YJDQAXhA</td>\n",
       "      <td>0</td>\n",
       "      <td>0</td>\n",
       "      <td>NaN</td>\n",
       "      <td>4.0</td>\n",
       "    </tr>\n",
       "    <tr>\n",
       "      <th>3</th>\n",
       "      <td>vAbRNF0hJt91oCUpm_sdKw</td>\n",
       "      <td>2</td>\n",
       "      <td>0</td>\n",
       "      <td>1.000000</td>\n",
       "      <td>3.5</td>\n",
       "    </tr>\n",
       "    <tr>\n",
       "      <th>4</th>\n",
       "      <td>z8H4Mdzl4jS9pYswj6Jf9w</td>\n",
       "      <td>0</td>\n",
       "      <td>0</td>\n",
       "      <td>NaN</td>\n",
       "      <td>3.5</td>\n",
       "    </tr>\n",
       "  </tbody>\n",
       "</table>\n",
       "</div>"
      ],
      "text/plain": [
       "              business_id  positive  negative  proportion  stars\n",
       "0  nsNONDHbV7Vudqh21uicqw        42         2    0.954545    3.5\n",
       "1  F06m2yQSPHIrb1IT7heYeQ         0         0         NaN    4.0\n",
       "2  c_FTil8s5PS2l_YJDQAXhA         0         0         NaN    4.0\n",
       "3  vAbRNF0hJt91oCUpm_sdKw         2         0    1.000000    3.5\n",
       "4  z8H4Mdzl4jS9pYswj6Jf9w         0         0         NaN    3.5"
      ]
     },
     "execution_count": 63,
     "metadata": {},
     "output_type": "execute_result"
    }
   ],
   "source": [
    "shrimp=pd.DataFrame(review_bind['business_id'])\n",
    "shrimp['positive']=[0]*(len(review_bind))\n",
    "shrimp['negative']=[0]*len(review_bind)\n",
    "shrimp['proportion']=[np.nan]*len(review_bind)\n",
    "\n",
    "from collections import Counter\n",
    "\n",
    "for i in range(len(adj_shrimp)):\n",
    "    if(len(adj_shrimp[i]) != 0):\n",
    "        dictionary=Counter(adj_shrimp[i])\n",
    "        for word in dictionary.keys():\n",
    "            if (word in dict_adj.keys()):\n",
    "                if (dict_adj[word] == 'positive'):\n",
    "                    shrimp.iat[i,1]=shrimp['positive'][i]+dictionary[word]\n",
    "                else:\n",
    "                    shrimp.iat[i,2]=shrimp['negative'][i]+dictionary[word]\n",
    "        shrimp.iat[i,3]=shrimp['positive'][i]/(shrimp['positive'][i]+shrimp['negative'][i])\n",
    "\n",
    "shrimp['stars']=review_bind['stars']\n",
    "shrimp.head()"
   ]
  },
  {
   "cell_type": "code",
   "execution_count": 64,
   "metadata": {},
   "outputs": [
    {
     "name": "stdout",
     "output_type": "stream",
     "text": [
      "4379\n",
      "269\n"
     ]
    }
   ],
   "source": [
    "print(np.sum(shrimp['positive']))\n",
    "print(np.sum(shrimp['negative']))"
   ]
  },
  {
   "cell_type": "code",
   "execution_count": 65,
   "metadata": {},
   "outputs": [
    {
     "data": {
      "text/html": [
       "<div>\n",
       "<style scoped>\n",
       "    .dataframe tbody tr th:only-of-type {\n",
       "        vertical-align: middle;\n",
       "    }\n",
       "\n",
       "    .dataframe tbody tr th {\n",
       "        vertical-align: top;\n",
       "    }\n",
       "\n",
       "    .dataframe thead th {\n",
       "        text-align: right;\n",
       "    }\n",
       "</style>\n",
       "<table border=\"1\" class=\"dataframe\">\n",
       "  <thead>\n",
       "    <tr style=\"text-align: right;\">\n",
       "      <th></th>\n",
       "      <th>proportion</th>\n",
       "      <th>stars</th>\n",
       "    </tr>\n",
       "  </thead>\n",
       "  <tbody>\n",
       "    <tr>\n",
       "      <th>proportion</th>\n",
       "      <td>1.000000</td>\n",
       "      <td>0.040376</td>\n",
       "    </tr>\n",
       "    <tr>\n",
       "      <th>stars</th>\n",
       "      <td>0.040376</td>\n",
       "      <td>1.000000</td>\n",
       "    </tr>\n",
       "  </tbody>\n",
       "</table>\n",
       "</div>"
      ],
      "text/plain": [
       "            proportion     stars\n",
       "proportion    1.000000  0.040376\n",
       "stars         0.040376  1.000000"
      ]
     },
     "execution_count": 65,
     "metadata": {},
     "output_type": "execute_result"
    }
   ],
   "source": [
    "shrimp.loc[:,['proportion','stars']].corr()"
   ]
  },
  {
   "cell_type": "code",
   "execution_count": 66,
   "metadata": {},
   "outputs": [],
   "source": [
    "shrimp.to_csv(\"shrimp.csv\",index=False)"
   ]
  },
  {
   "cell_type": "markdown",
   "metadata": {},
   "source": [
    "## oyster"
   ]
  },
  {
   "cell_type": "code",
   "execution_count": 67,
   "metadata": {},
   "outputs": [],
   "source": [
    "adj_oyster=findadj('oyster',clean_text)"
   ]
  },
  {
   "cell_type": "code",
   "execution_count": 69,
   "metadata": {},
   "outputs": [
    {
     "name": "stderr",
     "output_type": "stream",
     "text": [
      "C:\\Users\\GAO ZEJIN\\Anaconda3\\lib\\site-packages\\ipykernel_launcher.py:17: RuntimeWarning: invalid value encountered in longlong_scalars\n"
     ]
    },
    {
     "data": {
      "text/html": [
       "<div>\n",
       "<style scoped>\n",
       "    .dataframe tbody tr th:only-of-type {\n",
       "        vertical-align: middle;\n",
       "    }\n",
       "\n",
       "    .dataframe tbody tr th {\n",
       "        vertical-align: top;\n",
       "    }\n",
       "\n",
       "    .dataframe thead th {\n",
       "        text-align: right;\n",
       "    }\n",
       "</style>\n",
       "<table border=\"1\" class=\"dataframe\">\n",
       "  <thead>\n",
       "    <tr style=\"text-align: right;\">\n",
       "      <th></th>\n",
       "      <th>business_id</th>\n",
       "      <th>positive</th>\n",
       "      <th>negative</th>\n",
       "      <th>proportion</th>\n",
       "      <th>stars</th>\n",
       "    </tr>\n",
       "  </thead>\n",
       "  <tbody>\n",
       "    <tr>\n",
       "      <th>0</th>\n",
       "      <td>nsNONDHbV7Vudqh21uicqw</td>\n",
       "      <td>41</td>\n",
       "      <td>2</td>\n",
       "      <td>0.953488</td>\n",
       "      <td>3.5</td>\n",
       "    </tr>\n",
       "    <tr>\n",
       "      <th>1</th>\n",
       "      <td>F06m2yQSPHIrb1IT7heYeQ</td>\n",
       "      <td>0</td>\n",
       "      <td>0</td>\n",
       "      <td>NaN</td>\n",
       "      <td>4.0</td>\n",
       "    </tr>\n",
       "    <tr>\n",
       "      <th>2</th>\n",
       "      <td>c_FTil8s5PS2l_YJDQAXhA</td>\n",
       "      <td>9</td>\n",
       "      <td>1</td>\n",
       "      <td>0.900000</td>\n",
       "      <td>4.0</td>\n",
       "    </tr>\n",
       "    <tr>\n",
       "      <th>3</th>\n",
       "      <td>vAbRNF0hJt91oCUpm_sdKw</td>\n",
       "      <td>1</td>\n",
       "      <td>0</td>\n",
       "      <td>1.000000</td>\n",
       "      <td>3.5</td>\n",
       "    </tr>\n",
       "    <tr>\n",
       "      <th>4</th>\n",
       "      <td>z8H4Mdzl4jS9pYswj6Jf9w</td>\n",
       "      <td>4</td>\n",
       "      <td>1</td>\n",
       "      <td>0.800000</td>\n",
       "      <td>3.5</td>\n",
       "    </tr>\n",
       "  </tbody>\n",
       "</table>\n",
       "</div>"
      ],
      "text/plain": [
       "              business_id  positive  negative  proportion  stars\n",
       "0  nsNONDHbV7Vudqh21uicqw        41         2    0.953488    3.5\n",
       "1  F06m2yQSPHIrb1IT7heYeQ         0         0         NaN    4.0\n",
       "2  c_FTil8s5PS2l_YJDQAXhA         9         1    0.900000    4.0\n",
       "3  vAbRNF0hJt91oCUpm_sdKw         1         0    1.000000    3.5\n",
       "4  z8H4Mdzl4jS9pYswj6Jf9w         4         1    0.800000    3.5"
      ]
     },
     "execution_count": 69,
     "metadata": {},
     "output_type": "execute_result"
    }
   ],
   "source": [
    "oyster=pd.DataFrame(review_bind['business_id'])\n",
    "oyster['positive']=[0]*(len(review_bind))\n",
    "oyster['negative']=[0]*len(review_bind)\n",
    "oyster['proportion']=[np.nan]*len(review_bind)\n",
    "\n",
    "from collections import Counter\n",
    "\n",
    "for i in range(len(adj_oyster)):\n",
    "    if(len(adj_oyster[i]) != 0):\n",
    "        dictionary=Counter(adj_oyster[i])\n",
    "        for word in dictionary.keys():\n",
    "            if (word in dict_adj.keys()):\n",
    "                if (dict_adj[word] == 'positive'):\n",
    "                    oyster.iat[i,1]=oyster['positive'][i]+dictionary[word]\n",
    "                else:\n",
    "                    oyster.iat[i,2]=oyster['negative'][i]+dictionary[word]\n",
    "        oyster.iat[i,3]=oyster['positive'][i]/(oyster['positive'][i]+oyster['negative'][i])\n",
    "\n",
    "oyster['stars']=review_bind['stars']\n",
    "oyster.head()"
   ]
  },
  {
   "cell_type": "code",
   "execution_count": 70,
   "metadata": {},
   "outputs": [
    {
     "name": "stdout",
     "output_type": "stream",
     "text": [
      "3305\n",
      "180\n"
     ]
    }
   ],
   "source": [
    "print(np.sum(oyster['positive']))\n",
    "print(np.sum(oyster['negative']))"
   ]
  },
  {
   "cell_type": "code",
   "execution_count": 71,
   "metadata": {},
   "outputs": [
    {
     "data": {
      "text/html": [
       "<div>\n",
       "<style scoped>\n",
       "    .dataframe tbody tr th:only-of-type {\n",
       "        vertical-align: middle;\n",
       "    }\n",
       "\n",
       "    .dataframe tbody tr th {\n",
       "        vertical-align: top;\n",
       "    }\n",
       "\n",
       "    .dataframe thead th {\n",
       "        text-align: right;\n",
       "    }\n",
       "</style>\n",
       "<table border=\"1\" class=\"dataframe\">\n",
       "  <thead>\n",
       "    <tr style=\"text-align: right;\">\n",
       "      <th></th>\n",
       "      <th>proportion</th>\n",
       "      <th>stars</th>\n",
       "    </tr>\n",
       "  </thead>\n",
       "  <tbody>\n",
       "    <tr>\n",
       "      <th>proportion</th>\n",
       "      <td>1.000000</td>\n",
       "      <td>0.032166</td>\n",
       "    </tr>\n",
       "    <tr>\n",
       "      <th>stars</th>\n",
       "      <td>0.032166</td>\n",
       "      <td>1.000000</td>\n",
       "    </tr>\n",
       "  </tbody>\n",
       "</table>\n",
       "</div>"
      ],
      "text/plain": [
       "            proportion     stars\n",
       "proportion    1.000000  0.032166\n",
       "stars         0.032166  1.000000"
      ]
     },
     "execution_count": 71,
     "metadata": {},
     "output_type": "execute_result"
    }
   ],
   "source": [
    "oyster.loc[:,['proportion','stars']].corr()"
   ]
  },
  {
   "cell_type": "code",
   "execution_count": 72,
   "metadata": {},
   "outputs": [],
   "source": [
    "oyster.to_csv(\"oyster.csv\",index=False)"
   ]
  },
  {
   "cell_type": "markdown",
   "metadata": {},
   "source": [
    "## fish"
   ]
  },
  {
   "cell_type": "code",
   "execution_count": 73,
   "metadata": {},
   "outputs": [],
   "source": [
    "adj_fish=findadj('fish',clean_text)"
   ]
  },
  {
   "cell_type": "code",
   "execution_count": 75,
   "metadata": {},
   "outputs": [
    {
     "name": "stderr",
     "output_type": "stream",
     "text": [
      "C:\\Users\\GAO ZEJIN\\Anaconda3\\lib\\site-packages\\ipykernel_launcher.py:17: RuntimeWarning: invalid value encountered in longlong_scalars\n"
     ]
    },
    {
     "data": {
      "text/html": [
       "<div>\n",
       "<style scoped>\n",
       "    .dataframe tbody tr th:only-of-type {\n",
       "        vertical-align: middle;\n",
       "    }\n",
       "\n",
       "    .dataframe tbody tr th {\n",
       "        vertical-align: top;\n",
       "    }\n",
       "\n",
       "    .dataframe thead th {\n",
       "        text-align: right;\n",
       "    }\n",
       "</style>\n",
       "<table border=\"1\" class=\"dataframe\">\n",
       "  <thead>\n",
       "    <tr style=\"text-align: right;\">\n",
       "      <th></th>\n",
       "      <th>business_id</th>\n",
       "      <th>positive</th>\n",
       "      <th>negative</th>\n",
       "      <th>proportion</th>\n",
       "      <th>stars</th>\n",
       "    </tr>\n",
       "  </thead>\n",
       "  <tbody>\n",
       "    <tr>\n",
       "      <th>0</th>\n",
       "      <td>nsNONDHbV7Vudqh21uicqw</td>\n",
       "      <td>32</td>\n",
       "      <td>3</td>\n",
       "      <td>0.914286</td>\n",
       "      <td>3.5</td>\n",
       "    </tr>\n",
       "    <tr>\n",
       "      <th>1</th>\n",
       "      <td>F06m2yQSPHIrb1IT7heYeQ</td>\n",
       "      <td>7</td>\n",
       "      <td>0</td>\n",
       "      <td>1.000000</td>\n",
       "      <td>4.0</td>\n",
       "    </tr>\n",
       "    <tr>\n",
       "      <th>2</th>\n",
       "      <td>c_FTil8s5PS2l_YJDQAXhA</td>\n",
       "      <td>3</td>\n",
       "      <td>0</td>\n",
       "      <td>1.000000</td>\n",
       "      <td>4.0</td>\n",
       "    </tr>\n",
       "    <tr>\n",
       "      <th>3</th>\n",
       "      <td>vAbRNF0hJt91oCUpm_sdKw</td>\n",
       "      <td>10</td>\n",
       "      <td>0</td>\n",
       "      <td>1.000000</td>\n",
       "      <td>3.5</td>\n",
       "    </tr>\n",
       "    <tr>\n",
       "      <th>4</th>\n",
       "      <td>z8H4Mdzl4jS9pYswj6Jf9w</td>\n",
       "      <td>19</td>\n",
       "      <td>0</td>\n",
       "      <td>1.000000</td>\n",
       "      <td>3.5</td>\n",
       "    </tr>\n",
       "  </tbody>\n",
       "</table>\n",
       "</div>"
      ],
      "text/plain": [
       "              business_id  positive  negative  proportion  stars\n",
       "0  nsNONDHbV7Vudqh21uicqw        32         3    0.914286    3.5\n",
       "1  F06m2yQSPHIrb1IT7heYeQ         7         0    1.000000    4.0\n",
       "2  c_FTil8s5PS2l_YJDQAXhA         3         0    1.000000    4.0\n",
       "3  vAbRNF0hJt91oCUpm_sdKw        10         0    1.000000    3.5\n",
       "4  z8H4Mdzl4jS9pYswj6Jf9w        19         0    1.000000    3.5"
      ]
     },
     "execution_count": 75,
     "metadata": {},
     "output_type": "execute_result"
    }
   ],
   "source": [
    "fish=pd.DataFrame(review_bind['business_id'])\n",
    "fish['positive']=[0]*(len(review_bind))\n",
    "fish['negative']=[0]*len(review_bind)\n",
    "fish['proportion']=[np.nan]*len(review_bind)\n",
    "\n",
    "from collections import Counter\n",
    "\n",
    "for i in range(len(adj_fish)):\n",
    "    if(len(adj_fish[i]) != 0):\n",
    "        dictionary=Counter(adj_fish[i])\n",
    "        for word in dictionary.keys():\n",
    "            if (word in dict_adj.keys()):\n",
    "                if (dict_adj[word] == 'positive'):\n",
    "                    fish.iat[i,1]=fish['positive'][i]+dictionary[word]\n",
    "                else:\n",
    "                    fish.iat[i,2]=fish['negative'][i]+dictionary[word]\n",
    "        fish.iat[i,3]=fish['positive'][i]/(fish['positive'][i]+fish['negative'][i])\n",
    "\n",
    "fish['stars']=review_bind['stars']\n",
    "fish.head()"
   ]
  },
  {
   "cell_type": "code",
   "execution_count": 76,
   "metadata": {},
   "outputs": [
    {
     "name": "stdout",
     "output_type": "stream",
     "text": [
      "6646\n",
      "558\n"
     ]
    }
   ],
   "source": [
    "print(np.sum(fish['positive']))\n",
    "print(np.sum(fish['negative']))"
   ]
  },
  {
   "cell_type": "code",
   "execution_count": 77,
   "metadata": {},
   "outputs": [
    {
     "data": {
      "text/html": [
       "<div>\n",
       "<style scoped>\n",
       "    .dataframe tbody tr th:only-of-type {\n",
       "        vertical-align: middle;\n",
       "    }\n",
       "\n",
       "    .dataframe tbody tr th {\n",
       "        vertical-align: top;\n",
       "    }\n",
       "\n",
       "    .dataframe thead th {\n",
       "        text-align: right;\n",
       "    }\n",
       "</style>\n",
       "<table border=\"1\" class=\"dataframe\">\n",
       "  <thead>\n",
       "    <tr style=\"text-align: right;\">\n",
       "      <th></th>\n",
       "      <th>proportion</th>\n",
       "      <th>stars</th>\n",
       "    </tr>\n",
       "  </thead>\n",
       "  <tbody>\n",
       "    <tr>\n",
       "      <th>proportion</th>\n",
       "      <td>1.000000</td>\n",
       "      <td>0.269021</td>\n",
       "    </tr>\n",
       "    <tr>\n",
       "      <th>stars</th>\n",
       "      <td>0.269021</td>\n",
       "      <td>1.000000</td>\n",
       "    </tr>\n",
       "  </tbody>\n",
       "</table>\n",
       "</div>"
      ],
      "text/plain": [
       "            proportion     stars\n",
       "proportion    1.000000  0.269021\n",
       "stars         0.269021  1.000000"
      ]
     },
     "execution_count": 77,
     "metadata": {},
     "output_type": "execute_result"
    }
   ],
   "source": [
    "fish.loc[:,['proportion','stars']].corr()"
   ]
  },
  {
   "cell_type": "code",
   "execution_count": 78,
   "metadata": {},
   "outputs": [],
   "source": [
    "fish.to_csv(\"fish.csv\",index=False)"
   ]
  },
  {
   "cell_type": "markdown",
   "metadata": {},
   "source": [
    "## clam"
   ]
  },
  {
   "cell_type": "code",
   "execution_count": 79,
   "metadata": {},
   "outputs": [],
   "source": [
    "adj_clam=findadj('clam',clean_text)"
   ]
  },
  {
   "cell_type": "code",
   "execution_count": 81,
   "metadata": {},
   "outputs": [
    {
     "name": "stderr",
     "output_type": "stream",
     "text": [
      "C:\\Users\\GAO ZEJIN\\Anaconda3\\lib\\site-packages\\ipykernel_launcher.py:17: RuntimeWarning: invalid value encountered in longlong_scalars\n"
     ]
    },
    {
     "data": {
      "text/html": [
       "<div>\n",
       "<style scoped>\n",
       "    .dataframe tbody tr th:only-of-type {\n",
       "        vertical-align: middle;\n",
       "    }\n",
       "\n",
       "    .dataframe tbody tr th {\n",
       "        vertical-align: top;\n",
       "    }\n",
       "\n",
       "    .dataframe thead th {\n",
       "        text-align: right;\n",
       "    }\n",
       "</style>\n",
       "<table border=\"1\" class=\"dataframe\">\n",
       "  <thead>\n",
       "    <tr style=\"text-align: right;\">\n",
       "      <th></th>\n",
       "      <th>business_id</th>\n",
       "      <th>positive</th>\n",
       "      <th>negative</th>\n",
       "      <th>proportion</th>\n",
       "      <th>stars</th>\n",
       "    </tr>\n",
       "  </thead>\n",
       "  <tbody>\n",
       "    <tr>\n",
       "      <th>0</th>\n",
       "      <td>nsNONDHbV7Vudqh21uicqw</td>\n",
       "      <td>20</td>\n",
       "      <td>2</td>\n",
       "      <td>0.909091</td>\n",
       "      <td>3.5</td>\n",
       "    </tr>\n",
       "    <tr>\n",
       "      <th>1</th>\n",
       "      <td>F06m2yQSPHIrb1IT7heYeQ</td>\n",
       "      <td>4</td>\n",
       "      <td>0</td>\n",
       "      <td>1.000000</td>\n",
       "      <td>4.0</td>\n",
       "    </tr>\n",
       "    <tr>\n",
       "      <th>2</th>\n",
       "      <td>c_FTil8s5PS2l_YJDQAXhA</td>\n",
       "      <td>0</td>\n",
       "      <td>0</td>\n",
       "      <td>NaN</td>\n",
       "      <td>4.0</td>\n",
       "    </tr>\n",
       "    <tr>\n",
       "      <th>3</th>\n",
       "      <td>vAbRNF0hJt91oCUpm_sdKw</td>\n",
       "      <td>9</td>\n",
       "      <td>0</td>\n",
       "      <td>1.000000</td>\n",
       "      <td>3.5</td>\n",
       "    </tr>\n",
       "    <tr>\n",
       "      <th>4</th>\n",
       "      <td>z8H4Mdzl4jS9pYswj6Jf9w</td>\n",
       "      <td>0</td>\n",
       "      <td>0</td>\n",
       "      <td>NaN</td>\n",
       "      <td>3.5</td>\n",
       "    </tr>\n",
       "  </tbody>\n",
       "</table>\n",
       "</div>"
      ],
      "text/plain": [
       "              business_id  positive  negative  proportion  stars\n",
       "0  nsNONDHbV7Vudqh21uicqw        20         2    0.909091    3.5\n",
       "1  F06m2yQSPHIrb1IT7heYeQ         4         0    1.000000    4.0\n",
       "2  c_FTil8s5PS2l_YJDQAXhA         0         0         NaN    4.0\n",
       "3  vAbRNF0hJt91oCUpm_sdKw         9         0    1.000000    3.5\n",
       "4  z8H4Mdzl4jS9pYswj6Jf9w         0         0         NaN    3.5"
      ]
     },
     "execution_count": 81,
     "metadata": {},
     "output_type": "execute_result"
    }
   ],
   "source": [
    "clam=pd.DataFrame(review_bind['business_id'])\n",
    "clam['positive']=[0]*(len(review_bind))\n",
    "clam['negative']=[0]*len(review_bind)\n",
    "clam['proportion']=[np.nan]*len(review_bind)\n",
    "\n",
    "from collections import Counter\n",
    "\n",
    "for i in range(len(adj_clam)):\n",
    "    if(len(adj_clam[i]) != 0):\n",
    "        dictionary=Counter(adj_clam[i])\n",
    "        for word in dictionary.keys():\n",
    "            if (word in dict_adj.keys()):\n",
    "                if (dict_adj[word] == 'positive'):\n",
    "                    clam.iat[i,1]=clam['positive'][i]+dictionary[word]\n",
    "                else:\n",
    "                    clam.iat[i,2]=clam['negative'][i]+dictionary[word]\n",
    "        clam.iat[i,3]=clam['positive'][i]/(clam['positive'][i]+clam['negative'][i])\n",
    "\n",
    "clam['stars']=review_bind['stars']\n",
    "clam.head()"
   ]
  },
  {
   "cell_type": "code",
   "execution_count": 82,
   "metadata": {},
   "outputs": [
    {
     "name": "stdout",
     "output_type": "stream",
     "text": [
      "1154\n",
      "100\n"
     ]
    }
   ],
   "source": [
    "print(np.sum(clam['positive']))\n",
    "print(np.sum(clam['negative']))"
   ]
  },
  {
   "cell_type": "code",
   "execution_count": 83,
   "metadata": {},
   "outputs": [
    {
     "data": {
      "text/html": [
       "<div>\n",
       "<style scoped>\n",
       "    .dataframe tbody tr th:only-of-type {\n",
       "        vertical-align: middle;\n",
       "    }\n",
       "\n",
       "    .dataframe tbody tr th {\n",
       "        vertical-align: top;\n",
       "    }\n",
       "\n",
       "    .dataframe thead th {\n",
       "        text-align: right;\n",
       "    }\n",
       "</style>\n",
       "<table border=\"1\" class=\"dataframe\">\n",
       "  <thead>\n",
       "    <tr style=\"text-align: right;\">\n",
       "      <th></th>\n",
       "      <th>proportion</th>\n",
       "      <th>stars</th>\n",
       "    </tr>\n",
       "  </thead>\n",
       "  <tbody>\n",
       "    <tr>\n",
       "      <th>proportion</th>\n",
       "      <td>1.000000</td>\n",
       "      <td>0.110865</td>\n",
       "    </tr>\n",
       "    <tr>\n",
       "      <th>stars</th>\n",
       "      <td>0.110865</td>\n",
       "      <td>1.000000</td>\n",
       "    </tr>\n",
       "  </tbody>\n",
       "</table>\n",
       "</div>"
      ],
      "text/plain": [
       "            proportion     stars\n",
       "proportion    1.000000  0.110865\n",
       "stars         0.110865  1.000000"
      ]
     },
     "execution_count": 83,
     "metadata": {},
     "output_type": "execute_result"
    }
   ],
   "source": [
    "clam.loc[:,['proportion','stars']].corr()"
   ]
  },
  {
   "cell_type": "code",
   "execution_count": 84,
   "metadata": {},
   "outputs": [],
   "source": [
    "clam.to_csv(\"clam.csv\",index=False)"
   ]
  },
  {
   "cell_type": "markdown",
   "metadata": {},
   "source": [
    "## sauce"
   ]
  },
  {
   "cell_type": "code",
   "execution_count": 85,
   "metadata": {},
   "outputs": [],
   "source": [
    "adj_sauce=findadj('sauce',clean_text)"
   ]
  },
  {
   "cell_type": "code",
   "execution_count": 87,
   "metadata": {},
   "outputs": [
    {
     "name": "stderr",
     "output_type": "stream",
     "text": [
      "C:\\Users\\GAO ZEJIN\\Anaconda3\\lib\\site-packages\\ipykernel_launcher.py:17: RuntimeWarning: invalid value encountered in longlong_scalars\n"
     ]
    },
    {
     "data": {
      "text/html": [
       "<div>\n",
       "<style scoped>\n",
       "    .dataframe tbody tr th:only-of-type {\n",
       "        vertical-align: middle;\n",
       "    }\n",
       "\n",
       "    .dataframe tbody tr th {\n",
       "        vertical-align: top;\n",
       "    }\n",
       "\n",
       "    .dataframe thead th {\n",
       "        text-align: right;\n",
       "    }\n",
       "</style>\n",
       "<table border=\"1\" class=\"dataframe\">\n",
       "  <thead>\n",
       "    <tr style=\"text-align: right;\">\n",
       "      <th></th>\n",
       "      <th>business_id</th>\n",
       "      <th>positive</th>\n",
       "      <th>negative</th>\n",
       "      <th>proportion</th>\n",
       "      <th>stars</th>\n",
       "    </tr>\n",
       "  </thead>\n",
       "  <tbody>\n",
       "    <tr>\n",
       "      <th>0</th>\n",
       "      <td>nsNONDHbV7Vudqh21uicqw</td>\n",
       "      <td>18</td>\n",
       "      <td>3</td>\n",
       "      <td>0.857143</td>\n",
       "      <td>3.5</td>\n",
       "    </tr>\n",
       "    <tr>\n",
       "      <th>1</th>\n",
       "      <td>F06m2yQSPHIrb1IT7heYeQ</td>\n",
       "      <td>8</td>\n",
       "      <td>0</td>\n",
       "      <td>1.000000</td>\n",
       "      <td>4.0</td>\n",
       "    </tr>\n",
       "    <tr>\n",
       "      <th>2</th>\n",
       "      <td>c_FTil8s5PS2l_YJDQAXhA</td>\n",
       "      <td>2</td>\n",
       "      <td>0</td>\n",
       "      <td>1.000000</td>\n",
       "      <td>4.0</td>\n",
       "    </tr>\n",
       "    <tr>\n",
       "      <th>3</th>\n",
       "      <td>vAbRNF0hJt91oCUpm_sdKw</td>\n",
       "      <td>0</td>\n",
       "      <td>2</td>\n",
       "      <td>0.000000</td>\n",
       "      <td>3.5</td>\n",
       "    </tr>\n",
       "    <tr>\n",
       "      <th>4</th>\n",
       "      <td>z8H4Mdzl4jS9pYswj6Jf9w</td>\n",
       "      <td>4</td>\n",
       "      <td>0</td>\n",
       "      <td>1.000000</td>\n",
       "      <td>3.5</td>\n",
       "    </tr>\n",
       "  </tbody>\n",
       "</table>\n",
       "</div>"
      ],
      "text/plain": [
       "              business_id  positive  negative  proportion  stars\n",
       "0  nsNONDHbV7Vudqh21uicqw        18         3    0.857143    3.5\n",
       "1  F06m2yQSPHIrb1IT7heYeQ         8         0    1.000000    4.0\n",
       "2  c_FTil8s5PS2l_YJDQAXhA         2         0    1.000000    4.0\n",
       "3  vAbRNF0hJt91oCUpm_sdKw         0         2    0.000000    3.5\n",
       "4  z8H4Mdzl4jS9pYswj6Jf9w         4         0    1.000000    3.5"
      ]
     },
     "execution_count": 87,
     "metadata": {},
     "output_type": "execute_result"
    }
   ],
   "source": [
    "sauce=pd.DataFrame(review_bind['business_id'])\n",
    "sauce['positive']=[0]*(len(review_bind))\n",
    "sauce['negative']=[0]*len(review_bind)\n",
    "sauce['proportion']=[np.nan]*len(review_bind)\n",
    "\n",
    "from collections import Counter\n",
    "\n",
    "for i in range(len(adj_sauce)):\n",
    "    if(len(adj_sauce[i]) != 0):\n",
    "        dictionary=Counter(adj_sauce[i])\n",
    "        for word in dictionary.keys():\n",
    "            if (word in dict_adj.keys()):\n",
    "                if (dict_adj[word] == 'positive'):\n",
    "                    sauce.iat[i,1]=sauce['positive'][i]+dictionary[word]\n",
    "                else:\n",
    "                    sauce.iat[i,2]=sauce['negative'][i]+dictionary[word]\n",
    "        sauce.iat[i,3]=sauce['positive'][i]/(sauce['positive'][i]+sauce['negative'][i])\n",
    "\n",
    "sauce['stars']=review_bind['stars']\n",
    "sauce.head()"
   ]
  },
  {
   "cell_type": "code",
   "execution_count": 88,
   "metadata": {},
   "outputs": [
    {
     "name": "stdout",
     "output_type": "stream",
     "text": [
      "4909\n",
      "209\n"
     ]
    }
   ],
   "source": [
    "print(np.sum(sauce['positive']))\n",
    "print(np.sum(sauce['negative']))"
   ]
  },
  {
   "cell_type": "code",
   "execution_count": 89,
   "metadata": {},
   "outputs": [
    {
     "data": {
      "text/html": [
       "<div>\n",
       "<style scoped>\n",
       "    .dataframe tbody tr th:only-of-type {\n",
       "        vertical-align: middle;\n",
       "    }\n",
       "\n",
       "    .dataframe tbody tr th {\n",
       "        vertical-align: top;\n",
       "    }\n",
       "\n",
       "    .dataframe thead th {\n",
       "        text-align: right;\n",
       "    }\n",
       "</style>\n",
       "<table border=\"1\" class=\"dataframe\">\n",
       "  <thead>\n",
       "    <tr style=\"text-align: right;\">\n",
       "      <th></th>\n",
       "      <th>proportion</th>\n",
       "      <th>stars</th>\n",
       "    </tr>\n",
       "  </thead>\n",
       "  <tbody>\n",
       "    <tr>\n",
       "      <th>proportion</th>\n",
       "      <td>1.000000</td>\n",
       "      <td>0.127738</td>\n",
       "    </tr>\n",
       "    <tr>\n",
       "      <th>stars</th>\n",
       "      <td>0.127738</td>\n",
       "      <td>1.000000</td>\n",
       "    </tr>\n",
       "  </tbody>\n",
       "</table>\n",
       "</div>"
      ],
      "text/plain": [
       "            proportion     stars\n",
       "proportion    1.000000  0.127738\n",
       "stars         0.127738  1.000000"
      ]
     },
     "execution_count": 89,
     "metadata": {},
     "output_type": "execute_result"
    }
   ],
   "source": [
    "sauce.loc[:,['proportion','stars']].corr()"
   ]
  },
  {
   "cell_type": "code",
   "execution_count": 90,
   "metadata": {},
   "outputs": [],
   "source": [
    "sauce.to_csv(\"sauce.csv\",index=False)"
   ]
  },
  {
   "cell_type": "markdown",
   "metadata": {},
   "source": [
    "## wine"
   ]
  },
  {
   "cell_type": "code",
   "execution_count": 91,
   "metadata": {},
   "outputs": [],
   "source": [
    "adj_wine=findadj('wine',clean_text)"
   ]
  },
  {
   "cell_type": "code",
   "execution_count": 93,
   "metadata": {},
   "outputs": [
    {
     "name": "stderr",
     "output_type": "stream",
     "text": [
      "C:\\Users\\GAO ZEJIN\\Anaconda3\\lib\\site-packages\\ipykernel_launcher.py:17: RuntimeWarning: invalid value encountered in longlong_scalars\n"
     ]
    },
    {
     "data": {
      "text/html": [
       "<div>\n",
       "<style scoped>\n",
       "    .dataframe tbody tr th:only-of-type {\n",
       "        vertical-align: middle;\n",
       "    }\n",
       "\n",
       "    .dataframe tbody tr th {\n",
       "        vertical-align: top;\n",
       "    }\n",
       "\n",
       "    .dataframe thead th {\n",
       "        text-align: right;\n",
       "    }\n",
       "</style>\n",
       "<table border=\"1\" class=\"dataframe\">\n",
       "  <thead>\n",
       "    <tr style=\"text-align: right;\">\n",
       "      <th></th>\n",
       "      <th>business_id</th>\n",
       "      <th>positive</th>\n",
       "      <th>negative</th>\n",
       "      <th>proportion</th>\n",
       "      <th>stars</th>\n",
       "    </tr>\n",
       "  </thead>\n",
       "  <tbody>\n",
       "    <tr>\n",
       "      <th>0</th>\n",
       "      <td>nsNONDHbV7Vudqh21uicqw</td>\n",
       "      <td>22</td>\n",
       "      <td>3</td>\n",
       "      <td>0.880000</td>\n",
       "      <td>3.5</td>\n",
       "    </tr>\n",
       "    <tr>\n",
       "      <th>1</th>\n",
       "      <td>F06m2yQSPHIrb1IT7heYeQ</td>\n",
       "      <td>0</td>\n",
       "      <td>0</td>\n",
       "      <td>NaN</td>\n",
       "      <td>4.0</td>\n",
       "    </tr>\n",
       "    <tr>\n",
       "      <th>2</th>\n",
       "      <td>c_FTil8s5PS2l_YJDQAXhA</td>\n",
       "      <td>3</td>\n",
       "      <td>0</td>\n",
       "      <td>1.000000</td>\n",
       "      <td>4.0</td>\n",
       "    </tr>\n",
       "    <tr>\n",
       "      <th>3</th>\n",
       "      <td>vAbRNF0hJt91oCUpm_sdKw</td>\n",
       "      <td>4</td>\n",
       "      <td>0</td>\n",
       "      <td>1.000000</td>\n",
       "      <td>3.5</td>\n",
       "    </tr>\n",
       "    <tr>\n",
       "      <th>4</th>\n",
       "      <td>z8H4Mdzl4jS9pYswj6Jf9w</td>\n",
       "      <td>23</td>\n",
       "      <td>1</td>\n",
       "      <td>0.958333</td>\n",
       "      <td>3.5</td>\n",
       "    </tr>\n",
       "  </tbody>\n",
       "</table>\n",
       "</div>"
      ],
      "text/plain": [
       "              business_id  positive  negative  proportion  stars\n",
       "0  nsNONDHbV7Vudqh21uicqw        22         3    0.880000    3.5\n",
       "1  F06m2yQSPHIrb1IT7heYeQ         0         0         NaN    4.0\n",
       "2  c_FTil8s5PS2l_YJDQAXhA         3         0    1.000000    4.0\n",
       "3  vAbRNF0hJt91oCUpm_sdKw         4         0    1.000000    3.5\n",
       "4  z8H4Mdzl4jS9pYswj6Jf9w        23         1    0.958333    3.5"
      ]
     },
     "execution_count": 93,
     "metadata": {},
     "output_type": "execute_result"
    }
   ],
   "source": [
    "wine=pd.DataFrame(review_bind['business_id'])\n",
    "wine['positive']=[0]*(len(review_bind))\n",
    "wine['negative']=[0]*len(review_bind)\n",
    "wine['proportion']=[np.nan]*len(review_bind)\n",
    "\n",
    "from collections import Counter\n",
    "\n",
    "for i in range(len(adj_wine)):\n",
    "    if(len(adj_wine[i]) != 0):\n",
    "        dictionary=Counter(adj_wine[i])\n",
    "        for word in dictionary.keys():\n",
    "            if (word in dict_adj.keys()):\n",
    "                if (dict_adj[word] == 'positive'):\n",
    "                    wine.iat[i,1]=wine['positive'][i]+dictionary[word]\n",
    "                else:\n",
    "                    wine.iat[i,2]=wine['negative'][i]+dictionary[word]\n",
    "        wine.iat[i,3]=wine['positive'][i]/(wine['positive'][i]+wine['negative'][i])\n",
    "\n",
    "wine['stars']=review_bind['stars']\n",
    "wine.head()"
   ]
  },
  {
   "cell_type": "code",
   "execution_count": 94,
   "metadata": {},
   "outputs": [
    {
     "name": "stdout",
     "output_type": "stream",
     "text": [
      "2170\n",
      "119\n"
     ]
    }
   ],
   "source": [
    "print(np.sum(wine['positive']))\n",
    "print(np.sum(wine['negative']))"
   ]
  },
  {
   "cell_type": "code",
   "execution_count": 95,
   "metadata": {},
   "outputs": [
    {
     "data": {
      "text/html": [
       "<div>\n",
       "<style scoped>\n",
       "    .dataframe tbody tr th:only-of-type {\n",
       "        vertical-align: middle;\n",
       "    }\n",
       "\n",
       "    .dataframe tbody tr th {\n",
       "        vertical-align: top;\n",
       "    }\n",
       "\n",
       "    .dataframe thead th {\n",
       "        text-align: right;\n",
       "    }\n",
       "</style>\n",
       "<table border=\"1\" class=\"dataframe\">\n",
       "  <thead>\n",
       "    <tr style=\"text-align: right;\">\n",
       "      <th></th>\n",
       "      <th>proportion</th>\n",
       "      <th>stars</th>\n",
       "    </tr>\n",
       "  </thead>\n",
       "  <tbody>\n",
       "    <tr>\n",
       "      <th>proportion</th>\n",
       "      <td>1.000000</td>\n",
       "      <td>-0.059381</td>\n",
       "    </tr>\n",
       "    <tr>\n",
       "      <th>stars</th>\n",
       "      <td>-0.059381</td>\n",
       "      <td>1.000000</td>\n",
       "    </tr>\n",
       "  </tbody>\n",
       "</table>\n",
       "</div>"
      ],
      "text/plain": [
       "            proportion     stars\n",
       "proportion    1.000000 -0.059381\n",
       "stars        -0.059381  1.000000"
      ]
     },
     "execution_count": 95,
     "metadata": {},
     "output_type": "execute_result"
    }
   ],
   "source": [
    "wine.loc[:,['proportion','stars']].corr()"
   ]
  },
  {
   "cell_type": "code",
   "execution_count": 96,
   "metadata": {},
   "outputs": [],
   "source": [
    "wine.to_csv(\"wine.csv\",index=False)"
   ]
  },
  {
   "cell_type": "markdown",
   "metadata": {},
   "source": [
    "## stuff"
   ]
  },
  {
   "cell_type": "code",
   "execution_count": 97,
   "metadata": {},
   "outputs": [],
   "source": [
    "adj_stuff=findadj('stuff',clean_text)"
   ]
  },
  {
   "cell_type": "code",
   "execution_count": 99,
   "metadata": {},
   "outputs": [
    {
     "name": "stderr",
     "output_type": "stream",
     "text": [
      "C:\\Users\\GAO ZEJIN\\Anaconda3\\lib\\site-packages\\ipykernel_launcher.py:17: RuntimeWarning: invalid value encountered in longlong_scalars\n"
     ]
    },
    {
     "data": {
      "text/html": [
       "<div>\n",
       "<style scoped>\n",
       "    .dataframe tbody tr th:only-of-type {\n",
       "        vertical-align: middle;\n",
       "    }\n",
       "\n",
       "    .dataframe tbody tr th {\n",
       "        vertical-align: top;\n",
       "    }\n",
       "\n",
       "    .dataframe thead th {\n",
       "        text-align: right;\n",
       "    }\n",
       "</style>\n",
       "<table border=\"1\" class=\"dataframe\">\n",
       "  <thead>\n",
       "    <tr style=\"text-align: right;\">\n",
       "      <th></th>\n",
       "      <th>business_id</th>\n",
       "      <th>positive</th>\n",
       "      <th>negative</th>\n",
       "      <th>proportion</th>\n",
       "      <th>stars</th>\n",
       "    </tr>\n",
       "  </thead>\n",
       "  <tbody>\n",
       "    <tr>\n",
       "      <th>0</th>\n",
       "      <td>nsNONDHbV7Vudqh21uicqw</td>\n",
       "      <td>5</td>\n",
       "      <td>0</td>\n",
       "      <td>1.0</td>\n",
       "      <td>3.5</td>\n",
       "    </tr>\n",
       "    <tr>\n",
       "      <th>1</th>\n",
       "      <td>F06m2yQSPHIrb1IT7heYeQ</td>\n",
       "      <td>0</td>\n",
       "      <td>0</td>\n",
       "      <td>NaN</td>\n",
       "      <td>4.0</td>\n",
       "    </tr>\n",
       "    <tr>\n",
       "      <th>2</th>\n",
       "      <td>c_FTil8s5PS2l_YJDQAXhA</td>\n",
       "      <td>0</td>\n",
       "      <td>0</td>\n",
       "      <td>NaN</td>\n",
       "      <td>4.0</td>\n",
       "    </tr>\n",
       "    <tr>\n",
       "      <th>3</th>\n",
       "      <td>vAbRNF0hJt91oCUpm_sdKw</td>\n",
       "      <td>0</td>\n",
       "      <td>0</td>\n",
       "      <td>NaN</td>\n",
       "      <td>3.5</td>\n",
       "    </tr>\n",
       "    <tr>\n",
       "      <th>4</th>\n",
       "      <td>z8H4Mdzl4jS9pYswj6Jf9w</td>\n",
       "      <td>0</td>\n",
       "      <td>0</td>\n",
       "      <td>NaN</td>\n",
       "      <td>3.5</td>\n",
       "    </tr>\n",
       "  </tbody>\n",
       "</table>\n",
       "</div>"
      ],
      "text/plain": [
       "              business_id  positive  negative  proportion  stars\n",
       "0  nsNONDHbV7Vudqh21uicqw         5         0         1.0    3.5\n",
       "1  F06m2yQSPHIrb1IT7heYeQ         0         0         NaN    4.0\n",
       "2  c_FTil8s5PS2l_YJDQAXhA         0         0         NaN    4.0\n",
       "3  vAbRNF0hJt91oCUpm_sdKw         0         0         NaN    3.5\n",
       "4  z8H4Mdzl4jS9pYswj6Jf9w         0         0         NaN    3.5"
      ]
     },
     "execution_count": 99,
     "metadata": {},
     "output_type": "execute_result"
    }
   ],
   "source": [
    "stuff=pd.DataFrame(review_bind['business_id'])\n",
    "stuff['positive']=[0]*(len(review_bind))\n",
    "stuff['negative']=[0]*len(review_bind)\n",
    "stuff['proportion']=[np.nan]*len(review_bind)\n",
    "\n",
    "from collections import Counter\n",
    "\n",
    "for i in range(len(adj_stuff)):\n",
    "    if(len(adj_stuff[i]) != 0):\n",
    "        dictionary=Counter(adj_stuff[i])\n",
    "        for word in dictionary.keys():\n",
    "            if (word in dict_adj.keys()):\n",
    "                if (dict_adj[word] == 'positive'):\n",
    "                    stuff.iat[i,1]=stuff['positive'][i]+dictionary[word]\n",
    "                else:\n",
    "                    stuff.iat[i,2]=stuff['negative'][i]+dictionary[word]\n",
    "        stuff.iat[i,3]=stuff['positive'][i]/(stuff['positive'][i]+stuff['negative'][i])\n",
    "\n",
    "stuff['stars']=review_bind['stars']\n",
    "stuff.head()"
   ]
  },
  {
   "cell_type": "code",
   "execution_count": 100,
   "metadata": {},
   "outputs": [
    {
     "name": "stdout",
     "output_type": "stream",
     "text": [
      "802\n",
      "58\n"
     ]
    }
   ],
   "source": [
    "print(np.sum(stuff['positive']))\n",
    "print(np.sum(stuff['negative']))"
   ]
  },
  {
   "cell_type": "code",
   "execution_count": 101,
   "metadata": {},
   "outputs": [
    {
     "data": {
      "text/html": [
       "<div>\n",
       "<style scoped>\n",
       "    .dataframe tbody tr th:only-of-type {\n",
       "        vertical-align: middle;\n",
       "    }\n",
       "\n",
       "    .dataframe tbody tr th {\n",
       "        vertical-align: top;\n",
       "    }\n",
       "\n",
       "    .dataframe thead th {\n",
       "        text-align: right;\n",
       "    }\n",
       "</style>\n",
       "<table border=\"1\" class=\"dataframe\">\n",
       "  <thead>\n",
       "    <tr style=\"text-align: right;\">\n",
       "      <th></th>\n",
       "      <th>proportion</th>\n",
       "      <th>stars</th>\n",
       "    </tr>\n",
       "  </thead>\n",
       "  <tbody>\n",
       "    <tr>\n",
       "      <th>proportion</th>\n",
       "      <td>1.000000</td>\n",
       "      <td>0.055047</td>\n",
       "    </tr>\n",
       "    <tr>\n",
       "      <th>stars</th>\n",
       "      <td>0.055047</td>\n",
       "      <td>1.000000</td>\n",
       "    </tr>\n",
       "  </tbody>\n",
       "</table>\n",
       "</div>"
      ],
      "text/plain": [
       "            proportion     stars\n",
       "proportion    1.000000  0.055047\n",
       "stars         0.055047  1.000000"
      ]
     },
     "execution_count": 101,
     "metadata": {},
     "output_type": "execute_result"
    }
   ],
   "source": [
    "stuff.loc[:,['proportion','stars']].corr()"
   ]
  },
  {
   "cell_type": "code",
   "execution_count": 102,
   "metadata": {},
   "outputs": [],
   "source": [
    "stuff.to_csv(\"oyster.csv\",index=False)"
   ]
  },
  {
   "cell_type": "markdown",
   "metadata": {},
   "source": [
    "## waiter"
   ]
  },
  {
   "cell_type": "code",
   "execution_count": 103,
   "metadata": {},
   "outputs": [],
   "source": [
    "adj_waiter=findadj('waiter',clean_text)"
   ]
  },
  {
   "cell_type": "code",
   "execution_count": 105,
   "metadata": {},
   "outputs": [
    {
     "name": "stderr",
     "output_type": "stream",
     "text": [
      "C:\\Users\\GAO ZEJIN\\Anaconda3\\lib\\site-packages\\ipykernel_launcher.py:17: RuntimeWarning: invalid value encountered in longlong_scalars\n"
     ]
    },
    {
     "data": {
      "text/html": [
       "<div>\n",
       "<style scoped>\n",
       "    .dataframe tbody tr th:only-of-type {\n",
       "        vertical-align: middle;\n",
       "    }\n",
       "\n",
       "    .dataframe tbody tr th {\n",
       "        vertical-align: top;\n",
       "    }\n",
       "\n",
       "    .dataframe thead th {\n",
       "        text-align: right;\n",
       "    }\n",
       "</style>\n",
       "<table border=\"1\" class=\"dataframe\">\n",
       "  <thead>\n",
       "    <tr style=\"text-align: right;\">\n",
       "      <th></th>\n",
       "      <th>business_id</th>\n",
       "      <th>positive</th>\n",
       "      <th>negative</th>\n",
       "      <th>proportion</th>\n",
       "      <th>stars</th>\n",
       "    </tr>\n",
       "  </thead>\n",
       "  <tbody>\n",
       "    <tr>\n",
       "      <th>0</th>\n",
       "      <td>nsNONDHbV7Vudqh21uicqw</td>\n",
       "      <td>12</td>\n",
       "      <td>1</td>\n",
       "      <td>0.923077</td>\n",
       "      <td>3.5</td>\n",
       "    </tr>\n",
       "    <tr>\n",
       "      <th>1</th>\n",
       "      <td>F06m2yQSPHIrb1IT7heYeQ</td>\n",
       "      <td>1</td>\n",
       "      <td>0</td>\n",
       "      <td>1.000000</td>\n",
       "      <td>4.0</td>\n",
       "    </tr>\n",
       "    <tr>\n",
       "      <th>2</th>\n",
       "      <td>c_FTil8s5PS2l_YJDQAXhA</td>\n",
       "      <td>1</td>\n",
       "      <td>0</td>\n",
       "      <td>1.000000</td>\n",
       "      <td>4.0</td>\n",
       "    </tr>\n",
       "    <tr>\n",
       "      <th>3</th>\n",
       "      <td>vAbRNF0hJt91oCUpm_sdKw</td>\n",
       "      <td>7</td>\n",
       "      <td>3</td>\n",
       "      <td>0.700000</td>\n",
       "      <td>3.5</td>\n",
       "    </tr>\n",
       "    <tr>\n",
       "      <th>4</th>\n",
       "      <td>z8H4Mdzl4jS9pYswj6Jf9w</td>\n",
       "      <td>2</td>\n",
       "      <td>2</td>\n",
       "      <td>0.500000</td>\n",
       "      <td>3.5</td>\n",
       "    </tr>\n",
       "  </tbody>\n",
       "</table>\n",
       "</div>"
      ],
      "text/plain": [
       "              business_id  positive  negative  proportion  stars\n",
       "0  nsNONDHbV7Vudqh21uicqw        12         1    0.923077    3.5\n",
       "1  F06m2yQSPHIrb1IT7heYeQ         1         0    1.000000    4.0\n",
       "2  c_FTil8s5PS2l_YJDQAXhA         1         0    1.000000    4.0\n",
       "3  vAbRNF0hJt91oCUpm_sdKw         7         3    0.700000    3.5\n",
       "4  z8H4Mdzl4jS9pYswj6Jf9w         2         2    0.500000    3.5"
      ]
     },
     "execution_count": 105,
     "metadata": {},
     "output_type": "execute_result"
    }
   ],
   "source": [
    "waiter=pd.DataFrame(review_bind['business_id'])\n",
    "waiter['positive']=[0]*(len(review_bind))\n",
    "waiter['negative']=[0]*len(review_bind)\n",
    "waiter['proportion']=[np.nan]*len(review_bind)\n",
    "\n",
    "from collections import Counter\n",
    "\n",
    "for i in range(len(adj_waiter)):\n",
    "    if(len(adj_waiter[i]) != 0):\n",
    "        dictionary=Counter(adj_waiter[i])\n",
    "        for word in dictionary.keys():\n",
    "            if (word in dict_adj.keys()):\n",
    "                if (dict_adj[word] == 'positive'):\n",
    "                    waiter.iat[i,1]=waiter['positive'][i]+dictionary[word]\n",
    "                else:\n",
    "                    waiter.iat[i,2]=waiter['negative'][i]+dictionary[word]\n",
    "        waiter.iat[i,3]=waiter['positive'][i]/(waiter['positive'][i]+waiter['negative'][i])\n",
    "\n",
    "waiter['stars']=review_bind['stars']\n",
    "waiter.head()"
   ]
  },
  {
   "cell_type": "code",
   "execution_count": 106,
   "metadata": {},
   "outputs": [
    {
     "name": "stdout",
     "output_type": "stream",
     "text": [
      "1468\n",
      "267\n"
     ]
    }
   ],
   "source": [
    "print(np.sum(waiter['positive']))\n",
    "print(np.sum(waiter['negative']))"
   ]
  },
  {
   "cell_type": "code",
   "execution_count": 107,
   "metadata": {},
   "outputs": [
    {
     "data": {
      "text/html": [
       "<div>\n",
       "<style scoped>\n",
       "    .dataframe tbody tr th:only-of-type {\n",
       "        vertical-align: middle;\n",
       "    }\n",
       "\n",
       "    .dataframe tbody tr th {\n",
       "        vertical-align: top;\n",
       "    }\n",
       "\n",
       "    .dataframe thead th {\n",
       "        text-align: right;\n",
       "    }\n",
       "</style>\n",
       "<table border=\"1\" class=\"dataframe\">\n",
       "  <thead>\n",
       "    <tr style=\"text-align: right;\">\n",
       "      <th></th>\n",
       "      <th>proportion</th>\n",
       "      <th>stars</th>\n",
       "    </tr>\n",
       "  </thead>\n",
       "  <tbody>\n",
       "    <tr>\n",
       "      <th>proportion</th>\n",
       "      <td>1.000000</td>\n",
       "      <td>0.267945</td>\n",
       "    </tr>\n",
       "    <tr>\n",
       "      <th>stars</th>\n",
       "      <td>0.267945</td>\n",
       "      <td>1.000000</td>\n",
       "    </tr>\n",
       "  </tbody>\n",
       "</table>\n",
       "</div>"
      ],
      "text/plain": [
       "            proportion     stars\n",
       "proportion    1.000000  0.267945\n",
       "stars         0.267945  1.000000"
      ]
     },
     "execution_count": 107,
     "metadata": {},
     "output_type": "execute_result"
    }
   ],
   "source": [
    "waiter.loc[:,['proportion','stars']].corr()"
   ]
  },
  {
   "cell_type": "code",
   "execution_count": 108,
   "metadata": {},
   "outputs": [],
   "source": [
    "waiter.to_csv(\"waiter.csv\",index=False)"
   ]
  },
  {
   "cell_type": "markdown",
   "metadata": {},
   "source": [
    "## waitress"
   ]
  },
  {
   "cell_type": "code",
   "execution_count": 109,
   "metadata": {},
   "outputs": [],
   "source": [
    "adj_waitress=findadj('waitress',clean_text)"
   ]
  },
  {
   "cell_type": "code",
   "execution_count": 111,
   "metadata": {},
   "outputs": [
    {
     "name": "stderr",
     "output_type": "stream",
     "text": [
      "C:\\Users\\GAO ZEJIN\\Anaconda3\\lib\\site-packages\\ipykernel_launcher.py:17: RuntimeWarning: invalid value encountered in longlong_scalars\n"
     ]
    },
    {
     "data": {
      "text/html": [
       "<div>\n",
       "<style scoped>\n",
       "    .dataframe tbody tr th:only-of-type {\n",
       "        vertical-align: middle;\n",
       "    }\n",
       "\n",
       "    .dataframe tbody tr th {\n",
       "        vertical-align: top;\n",
       "    }\n",
       "\n",
       "    .dataframe thead th {\n",
       "        text-align: right;\n",
       "    }\n",
       "</style>\n",
       "<table border=\"1\" class=\"dataframe\">\n",
       "  <thead>\n",
       "    <tr style=\"text-align: right;\">\n",
       "      <th></th>\n",
       "      <th>business_id</th>\n",
       "      <th>positive</th>\n",
       "      <th>negative</th>\n",
       "      <th>proportion</th>\n",
       "      <th>stars</th>\n",
       "    </tr>\n",
       "  </thead>\n",
       "  <tbody>\n",
       "    <tr>\n",
       "      <th>0</th>\n",
       "      <td>nsNONDHbV7Vudqh21uicqw</td>\n",
       "      <td>9</td>\n",
       "      <td>2</td>\n",
       "      <td>0.818182</td>\n",
       "      <td>3.5</td>\n",
       "    </tr>\n",
       "    <tr>\n",
       "      <th>1</th>\n",
       "      <td>F06m2yQSPHIrb1IT7heYeQ</td>\n",
       "      <td>3</td>\n",
       "      <td>1</td>\n",
       "      <td>0.750000</td>\n",
       "      <td>4.0</td>\n",
       "    </tr>\n",
       "    <tr>\n",
       "      <th>2</th>\n",
       "      <td>c_FTil8s5PS2l_YJDQAXhA</td>\n",
       "      <td>1</td>\n",
       "      <td>0</td>\n",
       "      <td>1.000000</td>\n",
       "      <td>4.0</td>\n",
       "    </tr>\n",
       "    <tr>\n",
       "      <th>3</th>\n",
       "      <td>vAbRNF0hJt91oCUpm_sdKw</td>\n",
       "      <td>1</td>\n",
       "      <td>0</td>\n",
       "      <td>1.000000</td>\n",
       "      <td>3.5</td>\n",
       "    </tr>\n",
       "    <tr>\n",
       "      <th>4</th>\n",
       "      <td>z8H4Mdzl4jS9pYswj6Jf9w</td>\n",
       "      <td>4</td>\n",
       "      <td>0</td>\n",
       "      <td>1.000000</td>\n",
       "      <td>3.5</td>\n",
       "    </tr>\n",
       "  </tbody>\n",
       "</table>\n",
       "</div>"
      ],
      "text/plain": [
       "              business_id  positive  negative  proportion  stars\n",
       "0  nsNONDHbV7Vudqh21uicqw         9         2    0.818182    3.5\n",
       "1  F06m2yQSPHIrb1IT7heYeQ         3         1    0.750000    4.0\n",
       "2  c_FTil8s5PS2l_YJDQAXhA         1         0    1.000000    4.0\n",
       "3  vAbRNF0hJt91oCUpm_sdKw         1         0    1.000000    3.5\n",
       "4  z8H4Mdzl4jS9pYswj6Jf9w         4         0    1.000000    3.5"
      ]
     },
     "execution_count": 111,
     "metadata": {},
     "output_type": "execute_result"
    }
   ],
   "source": [
    "waitress=pd.DataFrame(review_bind['business_id'])\n",
    "waitress['positive']=[0]*(len(review_bind))\n",
    "waitress['negative']=[0]*len(review_bind)\n",
    "waitress['proportion']=[np.nan]*len(review_bind)\n",
    "\n",
    "from collections import Counter\n",
    "\n",
    "for i in range(len(adj_waitress)):\n",
    "    if(len(adj_waitress[i]) != 0):\n",
    "        dictionary=Counter(adj_waitress[i])\n",
    "        for word in dictionary.keys():\n",
    "            if (word in dict_adj.keys()):\n",
    "                if (dict_adj[word] == 'positive'):\n",
    "                    waitress.iat[i,1]=waitress['positive'][i]+dictionary[word]\n",
    "                else:\n",
    "                    waitress.iat[i,2]=waitress['negative'][i]+dictionary[word]\n",
    "        waitress.iat[i,3]=waitress['positive'][i]/(waitress['positive'][i]+waitress['negative'][i])\n",
    "\n",
    "waitress['stars']=review_bind['stars']\n",
    "waitress.head()"
   ]
  },
  {
   "cell_type": "code",
   "execution_count": 112,
   "metadata": {},
   "outputs": [
    {
     "name": "stdout",
     "output_type": "stream",
     "text": [
      "1424\n",
      "284\n"
     ]
    }
   ],
   "source": [
    "print(np.sum(waitress['positive']))\n",
    "print(np.sum(waitress['negative']))"
   ]
  },
  {
   "cell_type": "code",
   "execution_count": 113,
   "metadata": {},
   "outputs": [
    {
     "data": {
      "text/html": [
       "<div>\n",
       "<style scoped>\n",
       "    .dataframe tbody tr th:only-of-type {\n",
       "        vertical-align: middle;\n",
       "    }\n",
       "\n",
       "    .dataframe tbody tr th {\n",
       "        vertical-align: top;\n",
       "    }\n",
       "\n",
       "    .dataframe thead th {\n",
       "        text-align: right;\n",
       "    }\n",
       "</style>\n",
       "<table border=\"1\" class=\"dataframe\">\n",
       "  <thead>\n",
       "    <tr style=\"text-align: right;\">\n",
       "      <th></th>\n",
       "      <th>proportion</th>\n",
       "      <th>stars</th>\n",
       "    </tr>\n",
       "  </thead>\n",
       "  <tbody>\n",
       "    <tr>\n",
       "      <th>proportion</th>\n",
       "      <td>1.000000</td>\n",
       "      <td>0.164274</td>\n",
       "    </tr>\n",
       "    <tr>\n",
       "      <th>stars</th>\n",
       "      <td>0.164274</td>\n",
       "      <td>1.000000</td>\n",
       "    </tr>\n",
       "  </tbody>\n",
       "</table>\n",
       "</div>"
      ],
      "text/plain": [
       "            proportion     stars\n",
       "proportion    1.000000  0.164274\n",
       "stars         0.164274  1.000000"
      ]
     },
     "execution_count": 113,
     "metadata": {},
     "output_type": "execute_result"
    }
   ],
   "source": [
    "waitress.loc[:,['proportion','stars']].corr()"
   ]
  },
  {
   "cell_type": "code",
   "execution_count": 114,
   "metadata": {},
   "outputs": [],
   "source": [
    "waitress.to_csv(\"waitress.csv\",index=False)"
   ]
  },
  {
   "cell_type": "markdown",
   "metadata": {},
   "source": [
    "## chef"
   ]
  },
  {
   "cell_type": "code",
   "execution_count": 115,
   "metadata": {},
   "outputs": [],
   "source": [
    "adj_chef=findadj('chef',clean_text)"
   ]
  },
  {
   "cell_type": "code",
   "execution_count": 117,
   "metadata": {},
   "outputs": [
    {
     "name": "stderr",
     "output_type": "stream",
     "text": [
      "C:\\Users\\GAO ZEJIN\\Anaconda3\\lib\\site-packages\\ipykernel_launcher.py:17: RuntimeWarning: invalid value encountered in longlong_scalars\n"
     ]
    },
    {
     "data": {
      "text/html": [
       "<div>\n",
       "<style scoped>\n",
       "    .dataframe tbody tr th:only-of-type {\n",
       "        vertical-align: middle;\n",
       "    }\n",
       "\n",
       "    .dataframe tbody tr th {\n",
       "        vertical-align: top;\n",
       "    }\n",
       "\n",
       "    .dataframe thead th {\n",
       "        text-align: right;\n",
       "    }\n",
       "</style>\n",
       "<table border=\"1\" class=\"dataframe\">\n",
       "  <thead>\n",
       "    <tr style=\"text-align: right;\">\n",
       "      <th></th>\n",
       "      <th>business_id</th>\n",
       "      <th>positive</th>\n",
       "      <th>negative</th>\n",
       "      <th>proportion</th>\n",
       "      <th>stars</th>\n",
       "    </tr>\n",
       "  </thead>\n",
       "  <tbody>\n",
       "    <tr>\n",
       "      <th>0</th>\n",
       "      <td>nsNONDHbV7Vudqh21uicqw</td>\n",
       "      <td>2</td>\n",
       "      <td>0</td>\n",
       "      <td>1.0</td>\n",
       "      <td>3.5</td>\n",
       "    </tr>\n",
       "    <tr>\n",
       "      <th>1</th>\n",
       "      <td>F06m2yQSPHIrb1IT7heYeQ</td>\n",
       "      <td>1</td>\n",
       "      <td>0</td>\n",
       "      <td>1.0</td>\n",
       "      <td>4.0</td>\n",
       "    </tr>\n",
       "    <tr>\n",
       "      <th>2</th>\n",
       "      <td>c_FTil8s5PS2l_YJDQAXhA</td>\n",
       "      <td>0</td>\n",
       "      <td>0</td>\n",
       "      <td>NaN</td>\n",
       "      <td>4.0</td>\n",
       "    </tr>\n",
       "    <tr>\n",
       "      <th>3</th>\n",
       "      <td>vAbRNF0hJt91oCUpm_sdKw</td>\n",
       "      <td>1</td>\n",
       "      <td>0</td>\n",
       "      <td>1.0</td>\n",
       "      <td>3.5</td>\n",
       "    </tr>\n",
       "    <tr>\n",
       "      <th>4</th>\n",
       "      <td>z8H4Mdzl4jS9pYswj6Jf9w</td>\n",
       "      <td>3</td>\n",
       "      <td>0</td>\n",
       "      <td>1.0</td>\n",
       "      <td>3.5</td>\n",
       "    </tr>\n",
       "  </tbody>\n",
       "</table>\n",
       "</div>"
      ],
      "text/plain": [
       "              business_id  positive  negative  proportion  stars\n",
       "0  nsNONDHbV7Vudqh21uicqw         2         0         1.0    3.5\n",
       "1  F06m2yQSPHIrb1IT7heYeQ         1         0         1.0    4.0\n",
       "2  c_FTil8s5PS2l_YJDQAXhA         0         0         NaN    4.0\n",
       "3  vAbRNF0hJt91oCUpm_sdKw         1         0         1.0    3.5\n",
       "4  z8H4Mdzl4jS9pYswj6Jf9w         3         0         1.0    3.5"
      ]
     },
     "execution_count": 117,
     "metadata": {},
     "output_type": "execute_result"
    }
   ],
   "source": [
    "chef=pd.DataFrame(review_bind['business_id'])\n",
    "chef['positive']=[0]*(len(review_bind))\n",
    "chef['negative']=[0]*len(review_bind)\n",
    "chef['proportion']=[np.nan]*len(review_bind)\n",
    "\n",
    "from collections import Counter\n",
    "\n",
    "for i in range(len(adj_chef)):\n",
    "    if(len(adj_chef[i]) != 0):\n",
    "        dictionary=Counter(adj_chef[i])\n",
    "        for word in dictionary.keys():\n",
    "            if (word in dict_adj.keys()):\n",
    "                if (dict_adj[word] == 'positive'):\n",
    "                    chef.iat[i,1]=chef['positive'][i]+dictionary[word]\n",
    "                else:\n",
    "                    chef.iat[i,2]=chef['negative'][i]+dictionary[word]\n",
    "        chef.iat[i,3]=chef['positive'][i]/(chef['positive'][i]+chef['negative'][i])\n",
    "\n",
    "chef['stars']=review_bind['stars']\n",
    "chef.head()"
   ]
  },
  {
   "cell_type": "code",
   "execution_count": 118,
   "metadata": {},
   "outputs": [
    {
     "name": "stdout",
     "output_type": "stream",
     "text": [
      "818\n",
      "48\n"
     ]
    }
   ],
   "source": [
    "print(np.sum(chef['positive']))\n",
    "print(np.sum(chef['negative']))"
   ]
  },
  {
   "cell_type": "code",
   "execution_count": 119,
   "metadata": {},
   "outputs": [
    {
     "data": {
      "text/html": [
       "<div>\n",
       "<style scoped>\n",
       "    .dataframe tbody tr th:only-of-type {\n",
       "        vertical-align: middle;\n",
       "    }\n",
       "\n",
       "    .dataframe tbody tr th {\n",
       "        vertical-align: top;\n",
       "    }\n",
       "\n",
       "    .dataframe thead th {\n",
       "        text-align: right;\n",
       "    }\n",
       "</style>\n",
       "<table border=\"1\" class=\"dataframe\">\n",
       "  <thead>\n",
       "    <tr style=\"text-align: right;\">\n",
       "      <th></th>\n",
       "      <th>proportion</th>\n",
       "      <th>stars</th>\n",
       "    </tr>\n",
       "  </thead>\n",
       "  <tbody>\n",
       "    <tr>\n",
       "      <th>proportion</th>\n",
       "      <td>1.000000</td>\n",
       "      <td>0.252342</td>\n",
       "    </tr>\n",
       "    <tr>\n",
       "      <th>stars</th>\n",
       "      <td>0.252342</td>\n",
       "      <td>1.000000</td>\n",
       "    </tr>\n",
       "  </tbody>\n",
       "</table>\n",
       "</div>"
      ],
      "text/plain": [
       "            proportion     stars\n",
       "proportion    1.000000  0.252342\n",
       "stars         0.252342  1.000000"
      ]
     },
     "execution_count": 119,
     "metadata": {},
     "output_type": "execute_result"
    }
   ],
   "source": [
    "chef.loc[:,['proportion','stars']].corr()"
   ]
  },
  {
   "cell_type": "code",
   "execution_count": 120,
   "metadata": {},
   "outputs": [],
   "source": [
    "chef.to_csv(\"chef.csv\",index=False)"
   ]
  },
  {
   "cell_type": "markdown",
   "metadata": {},
   "source": [
    "## manager"
   ]
  },
  {
   "cell_type": "code",
   "execution_count": 121,
   "metadata": {},
   "outputs": [],
   "source": [
    "adj_manager=findadj('manager',clean_text)"
   ]
  },
  {
   "cell_type": "code",
   "execution_count": 123,
   "metadata": {},
   "outputs": [
    {
     "name": "stderr",
     "output_type": "stream",
     "text": [
      "C:\\Users\\GAO ZEJIN\\Anaconda3\\lib\\site-packages\\ipykernel_launcher.py:17: RuntimeWarning: invalid value encountered in longlong_scalars\n"
     ]
    },
    {
     "data": {
      "text/html": [
       "<div>\n",
       "<style scoped>\n",
       "    .dataframe tbody tr th:only-of-type {\n",
       "        vertical-align: middle;\n",
       "    }\n",
       "\n",
       "    .dataframe tbody tr th {\n",
       "        vertical-align: top;\n",
       "    }\n",
       "\n",
       "    .dataframe thead th {\n",
       "        text-align: right;\n",
       "    }\n",
       "</style>\n",
       "<table border=\"1\" class=\"dataframe\">\n",
       "  <thead>\n",
       "    <tr style=\"text-align: right;\">\n",
       "      <th></th>\n",
       "      <th>business_id</th>\n",
       "      <th>positive</th>\n",
       "      <th>negative</th>\n",
       "      <th>proportion</th>\n",
       "      <th>stars</th>\n",
       "    </tr>\n",
       "  </thead>\n",
       "  <tbody>\n",
       "    <tr>\n",
       "      <th>0</th>\n",
       "      <td>nsNONDHbV7Vudqh21uicqw</td>\n",
       "      <td>2</td>\n",
       "      <td>2</td>\n",
       "      <td>0.5</td>\n",
       "      <td>3.5</td>\n",
       "    </tr>\n",
       "    <tr>\n",
       "      <th>1</th>\n",
       "      <td>F06m2yQSPHIrb1IT7heYeQ</td>\n",
       "      <td>0</td>\n",
       "      <td>0</td>\n",
       "      <td>NaN</td>\n",
       "      <td>4.0</td>\n",
       "    </tr>\n",
       "    <tr>\n",
       "      <th>2</th>\n",
       "      <td>c_FTil8s5PS2l_YJDQAXhA</td>\n",
       "      <td>1</td>\n",
       "      <td>0</td>\n",
       "      <td>1.0</td>\n",
       "      <td>4.0</td>\n",
       "    </tr>\n",
       "    <tr>\n",
       "      <th>3</th>\n",
       "      <td>vAbRNF0hJt91oCUpm_sdKw</td>\n",
       "      <td>0</td>\n",
       "      <td>0</td>\n",
       "      <td>NaN</td>\n",
       "      <td>3.5</td>\n",
       "    </tr>\n",
       "    <tr>\n",
       "      <th>4</th>\n",
       "      <td>z8H4Mdzl4jS9pYswj6Jf9w</td>\n",
       "      <td>1</td>\n",
       "      <td>0</td>\n",
       "      <td>1.0</td>\n",
       "      <td>3.5</td>\n",
       "    </tr>\n",
       "  </tbody>\n",
       "</table>\n",
       "</div>"
      ],
      "text/plain": [
       "              business_id  positive  negative  proportion  stars\n",
       "0  nsNONDHbV7Vudqh21uicqw         2         2         0.5    3.5\n",
       "1  F06m2yQSPHIrb1IT7heYeQ         0         0         NaN    4.0\n",
       "2  c_FTil8s5PS2l_YJDQAXhA         1         0         1.0    4.0\n",
       "3  vAbRNF0hJt91oCUpm_sdKw         0         0         NaN    3.5\n",
       "4  z8H4Mdzl4jS9pYswj6Jf9w         1         0         1.0    3.5"
      ]
     },
     "execution_count": 123,
     "metadata": {},
     "output_type": "execute_result"
    }
   ],
   "source": [
    "manager=pd.DataFrame(review_bind['business_id'])\n",
    "manager['positive']=[0]*(len(review_bind))\n",
    "manager['negative']=[0]*len(review_bind)\n",
    "manager['proportion']=[np.nan]*len(review_bind)\n",
    "\n",
    "from collections import Counter\n",
    "\n",
    "for i in range(len(adj_manager)):\n",
    "    if(len(adj_manager[i]) != 0):\n",
    "        dictionary=Counter(adj_manager[i])\n",
    "        for word in dictionary.keys():\n",
    "            if (word in dict_adj.keys()):\n",
    "                if (dict_adj[word] == 'positive'):\n",
    "                    manager.iat[i,1]=manager['positive'][i]+dictionary[word]\n",
    "                else:\n",
    "                    manager.iat[i,2]=manager['negative'][i]+dictionary[word]\n",
    "        manager.iat[i,3]=manager['positive'][i]/(manager['positive'][i]+manager['negative'][i])\n",
    "\n",
    "manager['stars']=review_bind['stars']\n",
    "manager.head()"
   ]
  },
  {
   "cell_type": "code",
   "execution_count": 124,
   "metadata": {},
   "outputs": [
    {
     "name": "stdout",
     "output_type": "stream",
     "text": [
      "586\n",
      "263\n"
     ]
    }
   ],
   "source": [
    "print(np.sum(manager['positive']))\n",
    "print(np.sum(manager['negative']))"
   ]
  },
  {
   "cell_type": "code",
   "execution_count": 125,
   "metadata": {},
   "outputs": [
    {
     "data": {
      "text/html": [
       "<div>\n",
       "<style scoped>\n",
       "    .dataframe tbody tr th:only-of-type {\n",
       "        vertical-align: middle;\n",
       "    }\n",
       "\n",
       "    .dataframe tbody tr th {\n",
       "        vertical-align: top;\n",
       "    }\n",
       "\n",
       "    .dataframe thead th {\n",
       "        text-align: right;\n",
       "    }\n",
       "</style>\n",
       "<table border=\"1\" class=\"dataframe\">\n",
       "  <thead>\n",
       "    <tr style=\"text-align: right;\">\n",
       "      <th></th>\n",
       "      <th>proportion</th>\n",
       "      <th>stars</th>\n",
       "    </tr>\n",
       "  </thead>\n",
       "  <tbody>\n",
       "    <tr>\n",
       "      <th>proportion</th>\n",
       "      <td>1.000000</td>\n",
       "      <td>0.209061</td>\n",
       "    </tr>\n",
       "    <tr>\n",
       "      <th>stars</th>\n",
       "      <td>0.209061</td>\n",
       "      <td>1.000000</td>\n",
       "    </tr>\n",
       "  </tbody>\n",
       "</table>\n",
       "</div>"
      ],
      "text/plain": [
       "            proportion     stars\n",
       "proportion    1.000000  0.209061\n",
       "stars         0.209061  1.000000"
      ]
     },
     "execution_count": 125,
     "metadata": {},
     "output_type": "execute_result"
    }
   ],
   "source": [
    "manager.loc[:,['proportion','stars']].corr()"
   ]
  },
  {
   "cell_type": "code",
   "execution_count": 126,
   "metadata": {},
   "outputs": [],
   "source": [
    "manager.to_csv(\"manager.csv\",index=False)"
   ]
  },
  {
   "cell_type": "markdown",
   "metadata": {},
   "source": [
    "## location"
   ]
  },
  {
   "cell_type": "code",
   "execution_count": 127,
   "metadata": {},
   "outputs": [],
   "source": [
    "adj_location=findadj('location',clean_text)"
   ]
  },
  {
   "cell_type": "code",
   "execution_count": 129,
   "metadata": {},
   "outputs": [
    {
     "name": "stderr",
     "output_type": "stream",
     "text": [
      "C:\\Users\\GAO ZEJIN\\Anaconda3\\lib\\site-packages\\ipykernel_launcher.py:17: RuntimeWarning: invalid value encountered in longlong_scalars\n"
     ]
    },
    {
     "data": {
      "text/html": [
       "<div>\n",
       "<style scoped>\n",
       "    .dataframe tbody tr th:only-of-type {\n",
       "        vertical-align: middle;\n",
       "    }\n",
       "\n",
       "    .dataframe tbody tr th {\n",
       "        vertical-align: top;\n",
       "    }\n",
       "\n",
       "    .dataframe thead th {\n",
       "        text-align: right;\n",
       "    }\n",
       "</style>\n",
       "<table border=\"1\" class=\"dataframe\">\n",
       "  <thead>\n",
       "    <tr style=\"text-align: right;\">\n",
       "      <th></th>\n",
       "      <th>business_id</th>\n",
       "      <th>positive</th>\n",
       "      <th>negative</th>\n",
       "      <th>proportion</th>\n",
       "      <th>stars</th>\n",
       "    </tr>\n",
       "  </thead>\n",
       "  <tbody>\n",
       "    <tr>\n",
       "      <th>0</th>\n",
       "      <td>nsNONDHbV7Vudqh21uicqw</td>\n",
       "      <td>5</td>\n",
       "      <td>1</td>\n",
       "      <td>0.833333</td>\n",
       "      <td>3.5</td>\n",
       "    </tr>\n",
       "    <tr>\n",
       "      <th>1</th>\n",
       "      <td>F06m2yQSPHIrb1IT7heYeQ</td>\n",
       "      <td>0</td>\n",
       "      <td>0</td>\n",
       "      <td>NaN</td>\n",
       "      <td>4.0</td>\n",
       "    </tr>\n",
       "    <tr>\n",
       "      <th>2</th>\n",
       "      <td>c_FTil8s5PS2l_YJDQAXhA</td>\n",
       "      <td>2</td>\n",
       "      <td>0</td>\n",
       "      <td>1.000000</td>\n",
       "      <td>4.0</td>\n",
       "    </tr>\n",
       "    <tr>\n",
       "      <th>3</th>\n",
       "      <td>vAbRNF0hJt91oCUpm_sdKw</td>\n",
       "      <td>2</td>\n",
       "      <td>0</td>\n",
       "      <td>1.000000</td>\n",
       "      <td>3.5</td>\n",
       "    </tr>\n",
       "    <tr>\n",
       "      <th>4</th>\n",
       "      <td>z8H4Mdzl4jS9pYswj6Jf9w</td>\n",
       "      <td>10</td>\n",
       "      <td>0</td>\n",
       "      <td>1.000000</td>\n",
       "      <td>3.5</td>\n",
       "    </tr>\n",
       "  </tbody>\n",
       "</table>\n",
       "</div>"
      ],
      "text/plain": [
       "              business_id  positive  negative  proportion  stars\n",
       "0  nsNONDHbV7Vudqh21uicqw         5         1    0.833333    3.5\n",
       "1  F06m2yQSPHIrb1IT7heYeQ         0         0         NaN    4.0\n",
       "2  c_FTil8s5PS2l_YJDQAXhA         2         0    1.000000    4.0\n",
       "3  vAbRNF0hJt91oCUpm_sdKw         2         0    1.000000    3.5\n",
       "4  z8H4Mdzl4jS9pYswj6Jf9w        10         0    1.000000    3.5"
      ]
     },
     "execution_count": 129,
     "metadata": {},
     "output_type": "execute_result"
    }
   ],
   "source": [
    "location=pd.DataFrame(review_bind['business_id'])\n",
    "location['positive']=[0]*(len(review_bind))\n",
    "location['negative']=[0]*len(review_bind)\n",
    "location['proportion']=[np.nan]*len(review_bind)\n",
    "\n",
    "from collections import Counter\n",
    "\n",
    "for i in range(len(adj_location)):\n",
    "    if(len(adj_location[i]) != 0):\n",
    "        dictionary=Counter(adj_location[i])\n",
    "        for word in dictionary.keys():\n",
    "            if (word in dict_adj.keys()):\n",
    "                if (dict_adj[word] == 'positive'):\n",
    "                    location.iat[i,1]=location['positive'][i]+dictionary[word]\n",
    "                else:\n",
    "                    location.iat[i,2]=location['negative'][i]+dictionary[word]\n",
    "        location.iat[i,3]=location['positive'][i]/(location['positive'][i]+location['negative'][i])\n",
    "\n",
    "location['stars']=review_bind['stars']\n",
    "location.head()"
   ]
  },
  {
   "cell_type": "code",
   "execution_count": 130,
   "metadata": {},
   "outputs": [
    {
     "name": "stdout",
     "output_type": "stream",
     "text": [
      "2053\n",
      "99\n"
     ]
    }
   ],
   "source": [
    "print(np.sum(location['positive']))\n",
    "print(np.sum(location['negative']))"
   ]
  },
  {
   "cell_type": "code",
   "execution_count": 131,
   "metadata": {},
   "outputs": [
    {
     "data": {
      "text/html": [
       "<div>\n",
       "<style scoped>\n",
       "    .dataframe tbody tr th:only-of-type {\n",
       "        vertical-align: middle;\n",
       "    }\n",
       "\n",
       "    .dataframe tbody tr th {\n",
       "        vertical-align: top;\n",
       "    }\n",
       "\n",
       "    .dataframe thead th {\n",
       "        text-align: right;\n",
       "    }\n",
       "</style>\n",
       "<table border=\"1\" class=\"dataframe\">\n",
       "  <thead>\n",
       "    <tr style=\"text-align: right;\">\n",
       "      <th></th>\n",
       "      <th>proportion</th>\n",
       "      <th>stars</th>\n",
       "    </tr>\n",
       "  </thead>\n",
       "  <tbody>\n",
       "    <tr>\n",
       "      <th>proportion</th>\n",
       "      <td>1.000000</td>\n",
       "      <td>0.058156</td>\n",
       "    </tr>\n",
       "    <tr>\n",
       "      <th>stars</th>\n",
       "      <td>0.058156</td>\n",
       "      <td>1.000000</td>\n",
       "    </tr>\n",
       "  </tbody>\n",
       "</table>\n",
       "</div>"
      ],
      "text/plain": [
       "            proportion     stars\n",
       "proportion    1.000000  0.058156\n",
       "stars         0.058156  1.000000"
      ]
     },
     "execution_count": 131,
     "metadata": {},
     "output_type": "execute_result"
    }
   ],
   "source": [
    "location.loc[:,['proportion','stars']].corr()"
   ]
  },
  {
   "cell_type": "code",
   "execution_count": 132,
   "metadata": {},
   "outputs": [],
   "source": [
    "location.to_csv(\"location.csv\",index=False)"
   ]
  },
  {
   "cell_type": "markdown",
   "metadata": {},
   "source": [
    "## style"
   ]
  },
  {
   "cell_type": "code",
   "execution_count": 133,
   "metadata": {},
   "outputs": [],
   "source": [
    "adj_style=findadj('style',clean_text)"
   ]
  },
  {
   "cell_type": "code",
   "execution_count": 135,
   "metadata": {},
   "outputs": [
    {
     "name": "stderr",
     "output_type": "stream",
     "text": [
      "C:\\Users\\GAO ZEJIN\\Anaconda3\\lib\\site-packages\\ipykernel_launcher.py:17: RuntimeWarning: invalid value encountered in longlong_scalars\n"
     ]
    },
    {
     "data": {
      "text/html": [
       "<div>\n",
       "<style scoped>\n",
       "    .dataframe tbody tr th:only-of-type {\n",
       "        vertical-align: middle;\n",
       "    }\n",
       "\n",
       "    .dataframe tbody tr th {\n",
       "        vertical-align: top;\n",
       "    }\n",
       "\n",
       "    .dataframe thead th {\n",
       "        text-align: right;\n",
       "    }\n",
       "</style>\n",
       "<table border=\"1\" class=\"dataframe\">\n",
       "  <thead>\n",
       "    <tr style=\"text-align: right;\">\n",
       "      <th></th>\n",
       "      <th>business_id</th>\n",
       "      <th>positive</th>\n",
       "      <th>negative</th>\n",
       "      <th>proportion</th>\n",
       "      <th>stars</th>\n",
       "    </tr>\n",
       "  </thead>\n",
       "  <tbody>\n",
       "    <tr>\n",
       "      <th>0</th>\n",
       "      <td>nsNONDHbV7Vudqh21uicqw</td>\n",
       "      <td>5</td>\n",
       "      <td>0</td>\n",
       "      <td>1.000000</td>\n",
       "      <td>3.5</td>\n",
       "    </tr>\n",
       "    <tr>\n",
       "      <th>1</th>\n",
       "      <td>F06m2yQSPHIrb1IT7heYeQ</td>\n",
       "      <td>14</td>\n",
       "      <td>1</td>\n",
       "      <td>0.933333</td>\n",
       "      <td>4.0</td>\n",
       "    </tr>\n",
       "    <tr>\n",
       "      <th>2</th>\n",
       "      <td>c_FTil8s5PS2l_YJDQAXhA</td>\n",
       "      <td>0</td>\n",
       "      <td>0</td>\n",
       "      <td>NaN</td>\n",
       "      <td>4.0</td>\n",
       "    </tr>\n",
       "    <tr>\n",
       "      <th>3</th>\n",
       "      <td>vAbRNF0hJt91oCUpm_sdKw</td>\n",
       "      <td>0</td>\n",
       "      <td>0</td>\n",
       "      <td>NaN</td>\n",
       "      <td>3.5</td>\n",
       "    </tr>\n",
       "    <tr>\n",
       "      <th>4</th>\n",
       "      <td>z8H4Mdzl4jS9pYswj6Jf9w</td>\n",
       "      <td>2</td>\n",
       "      <td>0</td>\n",
       "      <td>1.000000</td>\n",
       "      <td>3.5</td>\n",
       "    </tr>\n",
       "  </tbody>\n",
       "</table>\n",
       "</div>"
      ],
      "text/plain": [
       "              business_id  positive  negative  proportion  stars\n",
       "0  nsNONDHbV7Vudqh21uicqw         5         0    1.000000    3.5\n",
       "1  F06m2yQSPHIrb1IT7heYeQ        14         1    0.933333    4.0\n",
       "2  c_FTil8s5PS2l_YJDQAXhA         0         0         NaN    4.0\n",
       "3  vAbRNF0hJt91oCUpm_sdKw         0         0         NaN    3.5\n",
       "4  z8H4Mdzl4jS9pYswj6Jf9w         2         0    1.000000    3.5"
      ]
     },
     "execution_count": 135,
     "metadata": {},
     "output_type": "execute_result"
    }
   ],
   "source": [
    "style=pd.DataFrame(review_bind['business_id'])\n",
    "style['positive']=[0]*(len(review_bind))\n",
    "style['negative']=[0]*len(review_bind)\n",
    "style['proportion']=[np.nan]*len(review_bind)\n",
    "\n",
    "from collections import Counter\n",
    "\n",
    "for i in range(len(adj_style)):\n",
    "    if(len(adj_style[i]) != 0):\n",
    "        dictionary=Counter(adj_style[i])\n",
    "        for word in dictionary.keys():\n",
    "            if (word in dict_adj.keys()):\n",
    "                if (dict_adj[word] == 'positive'):\n",
    "                    style.iat[i,1]=style['positive'][i]+dictionary[word]\n",
    "                else:\n",
    "                    style.iat[i,2]=style['negative'][i]+dictionary[word]\n",
    "        style.iat[i,3]=style['positive'][i]/(style['positive'][i]+style['negative'][i])\n",
    "\n",
    "style['stars']=review_bind['stars']\n",
    "style.head()"
   ]
  },
  {
   "cell_type": "code",
   "execution_count": 136,
   "metadata": {},
   "outputs": [
    {
     "name": "stdout",
     "output_type": "stream",
     "text": [
      "1189\n",
      "15\n"
     ]
    }
   ],
   "source": [
    "print(np.sum(style['positive']))\n",
    "print(np.sum(style['negative']))"
   ]
  },
  {
   "cell_type": "code",
   "execution_count": 137,
   "metadata": {},
   "outputs": [
    {
     "data": {
      "text/html": [
       "<div>\n",
       "<style scoped>\n",
       "    .dataframe tbody tr th:only-of-type {\n",
       "        vertical-align: middle;\n",
       "    }\n",
       "\n",
       "    .dataframe tbody tr th {\n",
       "        vertical-align: top;\n",
       "    }\n",
       "\n",
       "    .dataframe thead th {\n",
       "        text-align: right;\n",
       "    }\n",
       "</style>\n",
       "<table border=\"1\" class=\"dataframe\">\n",
       "  <thead>\n",
       "    <tr style=\"text-align: right;\">\n",
       "      <th></th>\n",
       "      <th>proportion</th>\n",
       "      <th>stars</th>\n",
       "    </tr>\n",
       "  </thead>\n",
       "  <tbody>\n",
       "    <tr>\n",
       "      <th>proportion</th>\n",
       "      <td>1.000000</td>\n",
       "      <td>-0.047149</td>\n",
       "    </tr>\n",
       "    <tr>\n",
       "      <th>stars</th>\n",
       "      <td>-0.047149</td>\n",
       "      <td>1.000000</td>\n",
       "    </tr>\n",
       "  </tbody>\n",
       "</table>\n",
       "</div>"
      ],
      "text/plain": [
       "            proportion     stars\n",
       "proportion    1.000000 -0.047149\n",
       "stars        -0.047149  1.000000"
      ]
     },
     "execution_count": 137,
     "metadata": {},
     "output_type": "execute_result"
    }
   ],
   "source": [
    "style.loc[:,['proportion','stars']].corr()"
   ]
  },
  {
   "cell_type": "code",
   "execution_count": 138,
   "metadata": {},
   "outputs": [],
   "source": [
    "style.to_csv(\"style.csv\",index=False)"
   ]
  },
  {
   "cell_type": "markdown",
   "metadata": {},
   "source": [
    "## flavor"
   ]
  },
  {
   "cell_type": "code",
   "execution_count": 139,
   "metadata": {},
   "outputs": [],
   "source": [
    "adj_flavor=findadj('flavor',clean_text)"
   ]
  },
  {
   "cell_type": "code",
   "execution_count": 141,
   "metadata": {},
   "outputs": [
    {
     "name": "stderr",
     "output_type": "stream",
     "text": [
      "C:\\Users\\GAO ZEJIN\\Anaconda3\\lib\\site-packages\\ipykernel_launcher.py:17: RuntimeWarning: invalid value encountered in longlong_scalars\n"
     ]
    },
    {
     "data": {
      "text/html": [
       "<div>\n",
       "<style scoped>\n",
       "    .dataframe tbody tr th:only-of-type {\n",
       "        vertical-align: middle;\n",
       "    }\n",
       "\n",
       "    .dataframe tbody tr th {\n",
       "        vertical-align: top;\n",
       "    }\n",
       "\n",
       "    .dataframe thead th {\n",
       "        text-align: right;\n",
       "    }\n",
       "</style>\n",
       "<table border=\"1\" class=\"dataframe\">\n",
       "  <thead>\n",
       "    <tr style=\"text-align: right;\">\n",
       "      <th></th>\n",
       "      <th>business_id</th>\n",
       "      <th>positive</th>\n",
       "      <th>negative</th>\n",
       "      <th>proportion</th>\n",
       "      <th>stars</th>\n",
       "    </tr>\n",
       "  </thead>\n",
       "  <tbody>\n",
       "    <tr>\n",
       "      <th>0</th>\n",
       "      <td>nsNONDHbV7Vudqh21uicqw</td>\n",
       "      <td>23</td>\n",
       "      <td>2</td>\n",
       "      <td>0.92</td>\n",
       "      <td>3.5</td>\n",
       "    </tr>\n",
       "    <tr>\n",
       "      <th>1</th>\n",
       "      <td>F06m2yQSPHIrb1IT7heYeQ</td>\n",
       "      <td>4</td>\n",
       "      <td>1</td>\n",
       "      <td>0.80</td>\n",
       "      <td>4.0</td>\n",
       "    </tr>\n",
       "    <tr>\n",
       "      <th>2</th>\n",
       "      <td>c_FTil8s5PS2l_YJDQAXhA</td>\n",
       "      <td>0</td>\n",
       "      <td>0</td>\n",
       "      <td>NaN</td>\n",
       "      <td>4.0</td>\n",
       "    </tr>\n",
       "    <tr>\n",
       "      <th>3</th>\n",
       "      <td>vAbRNF0hJt91oCUpm_sdKw</td>\n",
       "      <td>4</td>\n",
       "      <td>0</td>\n",
       "      <td>1.00</td>\n",
       "      <td>3.5</td>\n",
       "    </tr>\n",
       "    <tr>\n",
       "      <th>4</th>\n",
       "      <td>z8H4Mdzl4jS9pYswj6Jf9w</td>\n",
       "      <td>6</td>\n",
       "      <td>0</td>\n",
       "      <td>1.00</td>\n",
       "      <td>3.5</td>\n",
       "    </tr>\n",
       "  </tbody>\n",
       "</table>\n",
       "</div>"
      ],
      "text/plain": [
       "              business_id  positive  negative  proportion  stars\n",
       "0  nsNONDHbV7Vudqh21uicqw        23         2        0.92    3.5\n",
       "1  F06m2yQSPHIrb1IT7heYeQ         4         1        0.80    4.0\n",
       "2  c_FTil8s5PS2l_YJDQAXhA         0         0         NaN    4.0\n",
       "3  vAbRNF0hJt91oCUpm_sdKw         4         0        1.00    3.5\n",
       "4  z8H4Mdzl4jS9pYswj6Jf9w         6         0        1.00    3.5"
      ]
     },
     "execution_count": 141,
     "metadata": {},
     "output_type": "execute_result"
    }
   ],
   "source": [
    "flavor=pd.DataFrame(review_bind['business_id'])\n",
    "flavor['positive']=[0]*(len(review_bind))\n",
    "flavor['negative']=[0]*len(review_bind)\n",
    "flavor['proportion']=[np.nan]*len(review_bind)\n",
    "\n",
    "from collections import Counter\n",
    "\n",
    "for i in range(len(adj_flavor)):\n",
    "    if(len(adj_flavor[i]) != 0):\n",
    "        dictionary=Counter(adj_flavor[i])\n",
    "        for word in dictionary.keys():\n",
    "            if (word in dict_adj.keys()):\n",
    "                if (dict_adj[word] == 'positive'):\n",
    "                    flavor.iat[i,1]=flavor['positive'][i]+dictionary[word]\n",
    "                else:\n",
    "                    flavor.iat[i,2]=flavor['negative'][i]+dictionary[word]\n",
    "        flavor.iat[i,3]=flavor['positive'][i]/(flavor['positive'][i]+flavor['negative'][i])\n",
    "\n",
    "flavor['stars']=review_bind['stars']\n",
    "flavor.head()"
   ]
  },
  {
   "cell_type": "code",
   "execution_count": 142,
   "metadata": {},
   "outputs": [
    {
     "name": "stdout",
     "output_type": "stream",
     "text": [
      "4228\n",
      "279\n"
     ]
    }
   ],
   "source": [
    "print(np.sum(flavor['positive']))\n",
    "print(np.sum(flavor['negative']))"
   ]
  },
  {
   "cell_type": "code",
   "execution_count": 143,
   "metadata": {},
   "outputs": [
    {
     "data": {
      "text/html": [
       "<div>\n",
       "<style scoped>\n",
       "    .dataframe tbody tr th:only-of-type {\n",
       "        vertical-align: middle;\n",
       "    }\n",
       "\n",
       "    .dataframe tbody tr th {\n",
       "        vertical-align: top;\n",
       "    }\n",
       "\n",
       "    .dataframe thead th {\n",
       "        text-align: right;\n",
       "    }\n",
       "</style>\n",
       "<table border=\"1\" class=\"dataframe\">\n",
       "  <thead>\n",
       "    <tr style=\"text-align: right;\">\n",
       "      <th></th>\n",
       "      <th>proportion</th>\n",
       "      <th>stars</th>\n",
       "    </tr>\n",
       "  </thead>\n",
       "  <tbody>\n",
       "    <tr>\n",
       "      <th>proportion</th>\n",
       "      <td>1.000000</td>\n",
       "      <td>0.167174</td>\n",
       "    </tr>\n",
       "    <tr>\n",
       "      <th>stars</th>\n",
       "      <td>0.167174</td>\n",
       "      <td>1.000000</td>\n",
       "    </tr>\n",
       "  </tbody>\n",
       "</table>\n",
       "</div>"
      ],
      "text/plain": [
       "            proportion     stars\n",
       "proportion    1.000000  0.167174\n",
       "stars         0.167174  1.000000"
      ]
     },
     "execution_count": 143,
     "metadata": {},
     "output_type": "execute_result"
    }
   ],
   "source": [
    "flavor.loc[:,['proportion','stars']].corr()"
   ]
  },
  {
   "cell_type": "code",
   "execution_count": 144,
   "metadata": {},
   "outputs": [],
   "source": [
    "flavor.to_csv(\"flavor.csv\",index=False)"
   ]
  },
  {
   "cell_type": "markdown",
   "metadata": {},
   "source": [
    "## plate"
   ]
  },
  {
   "cell_type": "code",
   "execution_count": 145,
   "metadata": {},
   "outputs": [],
   "source": [
    "adj_plate=findadj('plate',clean_text)"
   ]
  },
  {
   "cell_type": "code",
   "execution_count": 147,
   "metadata": {},
   "outputs": [
    {
     "name": "stderr",
     "output_type": "stream",
     "text": [
      "C:\\Users\\GAO ZEJIN\\Anaconda3\\lib\\site-packages\\ipykernel_launcher.py:17: RuntimeWarning: invalid value encountered in longlong_scalars\n"
     ]
    },
    {
     "data": {
      "text/html": [
       "<div>\n",
       "<style scoped>\n",
       "    .dataframe tbody tr th:only-of-type {\n",
       "        vertical-align: middle;\n",
       "    }\n",
       "\n",
       "    .dataframe tbody tr th {\n",
       "        vertical-align: top;\n",
       "    }\n",
       "\n",
       "    .dataframe thead th {\n",
       "        text-align: right;\n",
       "    }\n",
       "</style>\n",
       "<table border=\"1\" class=\"dataframe\">\n",
       "  <thead>\n",
       "    <tr style=\"text-align: right;\">\n",
       "      <th></th>\n",
       "      <th>business_id</th>\n",
       "      <th>positive</th>\n",
       "      <th>negative</th>\n",
       "      <th>proportion</th>\n",
       "      <th>stars</th>\n",
       "    </tr>\n",
       "  </thead>\n",
       "  <tbody>\n",
       "    <tr>\n",
       "      <th>0</th>\n",
       "      <td>nsNONDHbV7Vudqh21uicqw</td>\n",
       "      <td>11</td>\n",
       "      <td>1</td>\n",
       "      <td>0.916667</td>\n",
       "      <td>3.5</td>\n",
       "    </tr>\n",
       "    <tr>\n",
       "      <th>1</th>\n",
       "      <td>F06m2yQSPHIrb1IT7heYeQ</td>\n",
       "      <td>1</td>\n",
       "      <td>0</td>\n",
       "      <td>1.000000</td>\n",
       "      <td>4.0</td>\n",
       "    </tr>\n",
       "    <tr>\n",
       "      <th>2</th>\n",
       "      <td>c_FTil8s5PS2l_YJDQAXhA</td>\n",
       "      <td>0</td>\n",
       "      <td>0</td>\n",
       "      <td>NaN</td>\n",
       "      <td>4.0</td>\n",
       "    </tr>\n",
       "    <tr>\n",
       "      <th>3</th>\n",
       "      <td>vAbRNF0hJt91oCUpm_sdKw</td>\n",
       "      <td>1</td>\n",
       "      <td>2</td>\n",
       "      <td>0.333333</td>\n",
       "      <td>3.5</td>\n",
       "    </tr>\n",
       "    <tr>\n",
       "      <th>4</th>\n",
       "      <td>z8H4Mdzl4jS9pYswj6Jf9w</td>\n",
       "      <td>7</td>\n",
       "      <td>0</td>\n",
       "      <td>1.000000</td>\n",
       "      <td>3.5</td>\n",
       "    </tr>\n",
       "  </tbody>\n",
       "</table>\n",
       "</div>"
      ],
      "text/plain": [
       "              business_id  positive  negative  proportion  stars\n",
       "0  nsNONDHbV7Vudqh21uicqw        11         1    0.916667    3.5\n",
       "1  F06m2yQSPHIrb1IT7heYeQ         1         0    1.000000    4.0\n",
       "2  c_FTil8s5PS2l_YJDQAXhA         0         0         NaN    4.0\n",
       "3  vAbRNF0hJt91oCUpm_sdKw         1         2    0.333333    3.5\n",
       "4  z8H4Mdzl4jS9pYswj6Jf9w         7         0    1.000000    3.5"
      ]
     },
     "execution_count": 147,
     "metadata": {},
     "output_type": "execute_result"
    }
   ],
   "source": [
    "plate=pd.DataFrame(review_bind['business_id'])\n",
    "plate['positive']=[0]*(len(review_bind))\n",
    "plate['negative']=[0]*len(review_bind)\n",
    "plate['proportion']=[np.nan]*len(review_bind)\n",
    "\n",
    "from collections import Counter\n",
    "\n",
    "for i in range(len(adj_plate)):\n",
    "    if(len(adj_plate[i]) != 0):\n",
    "        dictionary=Counter(adj_plate[i])\n",
    "        for word in dictionary.keys():\n",
    "            if (word in dict_adj.keys()):\n",
    "                if (dict_adj[word] == 'positive'):\n",
    "                    plate.iat[i,1]=plate['positive'][i]+dictionary[word]\n",
    "                else:\n",
    "                    plate.iat[i,2]=plate['negative'][i]+dictionary[word]\n",
    "        plate.iat[i,3]=plate['positive'][i]/(plate['positive'][i]+plate['negative'][i])\n",
    "\n",
    "plate['stars']=review_bind['stars']\n",
    "plate.head()"
   ]
  },
  {
   "cell_type": "code",
   "execution_count": 148,
   "metadata": {},
   "outputs": [
    {
     "name": "stdout",
     "output_type": "stream",
     "text": [
      "1931\n",
      "325\n"
     ]
    }
   ],
   "source": [
    "print(np.sum(plate['positive']))\n",
    "print(np.sum(plate['negative']))"
   ]
  },
  {
   "cell_type": "code",
   "execution_count": 149,
   "metadata": {},
   "outputs": [
    {
     "data": {
      "text/html": [
       "<div>\n",
       "<style scoped>\n",
       "    .dataframe tbody tr th:only-of-type {\n",
       "        vertical-align: middle;\n",
       "    }\n",
       "\n",
       "    .dataframe tbody tr th {\n",
       "        vertical-align: top;\n",
       "    }\n",
       "\n",
       "    .dataframe thead th {\n",
       "        text-align: right;\n",
       "    }\n",
       "</style>\n",
       "<table border=\"1\" class=\"dataframe\">\n",
       "  <thead>\n",
       "    <tr style=\"text-align: right;\">\n",
       "      <th></th>\n",
       "      <th>proportion</th>\n",
       "      <th>stars</th>\n",
       "    </tr>\n",
       "  </thead>\n",
       "  <tbody>\n",
       "    <tr>\n",
       "      <th>proportion</th>\n",
       "      <td>1.000000</td>\n",
       "      <td>0.119764</td>\n",
       "    </tr>\n",
       "    <tr>\n",
       "      <th>stars</th>\n",
       "      <td>0.119764</td>\n",
       "      <td>1.000000</td>\n",
       "    </tr>\n",
       "  </tbody>\n",
       "</table>\n",
       "</div>"
      ],
      "text/plain": [
       "            proportion     stars\n",
       "proportion    1.000000  0.119764\n",
       "stars         0.119764  1.000000"
      ]
     },
     "execution_count": 149,
     "metadata": {},
     "output_type": "execute_result"
    }
   ],
   "source": [
    "plate.loc[:,['proportion','stars']].corr()"
   ]
  },
  {
   "cell_type": "code",
   "execution_count": 150,
   "metadata": {},
   "outputs": [],
   "source": [
    "plate.to_csv(\"plate.csv\",index=False)"
   ]
  },
  {
   "cell_type": "markdown",
   "metadata": {},
   "source": [
    "## service"
   ]
  },
  {
   "cell_type": "code",
   "execution_count": 151,
   "metadata": {},
   "outputs": [],
   "source": [
    "adj_service=findadj('service',clean_text)"
   ]
  },
  {
   "cell_type": "code",
   "execution_count": 153,
   "metadata": {},
   "outputs": [
    {
     "data": {
      "text/html": [
       "<div>\n",
       "<style scoped>\n",
       "    .dataframe tbody tr th:only-of-type {\n",
       "        vertical-align: middle;\n",
       "    }\n",
       "\n",
       "    .dataframe tbody tr th {\n",
       "        vertical-align: top;\n",
       "    }\n",
       "\n",
       "    .dataframe thead th {\n",
       "        text-align: right;\n",
       "    }\n",
       "</style>\n",
       "<table border=\"1\" class=\"dataframe\">\n",
       "  <thead>\n",
       "    <tr style=\"text-align: right;\">\n",
       "      <th></th>\n",
       "      <th>business_id</th>\n",
       "      <th>positive</th>\n",
       "      <th>negative</th>\n",
       "      <th>proportion</th>\n",
       "      <th>stars</th>\n",
       "    </tr>\n",
       "  </thead>\n",
       "  <tbody>\n",
       "    <tr>\n",
       "      <th>0</th>\n",
       "      <td>nsNONDHbV7Vudqh21uicqw</td>\n",
       "      <td>94</td>\n",
       "      <td>21</td>\n",
       "      <td>0.817391</td>\n",
       "      <td>3.5</td>\n",
       "    </tr>\n",
       "    <tr>\n",
       "      <th>1</th>\n",
       "      <td>F06m2yQSPHIrb1IT7heYeQ</td>\n",
       "      <td>13</td>\n",
       "      <td>3</td>\n",
       "      <td>0.812500</td>\n",
       "      <td>4.0</td>\n",
       "    </tr>\n",
       "    <tr>\n",
       "      <th>2</th>\n",
       "      <td>c_FTil8s5PS2l_YJDQAXhA</td>\n",
       "      <td>13</td>\n",
       "      <td>1</td>\n",
       "      <td>0.928571</td>\n",
       "      <td>4.0</td>\n",
       "    </tr>\n",
       "    <tr>\n",
       "      <th>3</th>\n",
       "      <td>vAbRNF0hJt91oCUpm_sdKw</td>\n",
       "      <td>20</td>\n",
       "      <td>7</td>\n",
       "      <td>0.740741</td>\n",
       "      <td>3.5</td>\n",
       "    </tr>\n",
       "    <tr>\n",
       "      <th>4</th>\n",
       "      <td>z8H4Mdzl4jS9pYswj6Jf9w</td>\n",
       "      <td>34</td>\n",
       "      <td>2</td>\n",
       "      <td>0.944444</td>\n",
       "      <td>3.5</td>\n",
       "    </tr>\n",
       "  </tbody>\n",
       "</table>\n",
       "</div>"
      ],
      "text/plain": [
       "              business_id  positive  negative  proportion  stars\n",
       "0  nsNONDHbV7Vudqh21uicqw        94        21    0.817391    3.5\n",
       "1  F06m2yQSPHIrb1IT7heYeQ        13         3    0.812500    4.0\n",
       "2  c_FTil8s5PS2l_YJDQAXhA        13         1    0.928571    4.0\n",
       "3  vAbRNF0hJt91oCUpm_sdKw        20         7    0.740741    3.5\n",
       "4  z8H4Mdzl4jS9pYswj6Jf9w        34         2    0.944444    3.5"
      ]
     },
     "execution_count": 153,
     "metadata": {},
     "output_type": "execute_result"
    }
   ],
   "source": [
    "service=pd.DataFrame(review_bind['business_id'])\n",
    "service['positive']=[0]*(len(review_bind))\n",
    "service['negative']=[0]*len(review_bind)\n",
    "service['proportion']=[np.nan]*len(review_bind)\n",
    "\n",
    "from collections import Counter\n",
    "\n",
    "for i in range(len(adj_service)):\n",
    "    if(len(adj_service[i]) != 0):\n",
    "        dictionary=Counter(adj_service[i])\n",
    "        for word in dictionary.keys():\n",
    "            if (word in dict_adj.keys()):\n",
    "                if (dict_adj[word] == 'positive'):\n",
    "                    service.iat[i,1]=service['positive'][i]+dictionary[word]\n",
    "                else:\n",
    "                    service.iat[i,2]=service['negative'][i]+dictionary[word]\n",
    "        service.iat[i,3]=service['positive'][i]/(service['positive'][i]+service['negative'][i])\n",
    "\n",
    "service['stars']=review_bind['stars']\n",
    "service.head()"
   ]
  },
  {
   "cell_type": "code",
   "execution_count": 154,
   "metadata": {},
   "outputs": [
    {
     "name": "stdout",
     "output_type": "stream",
     "text": [
      "15458\n",
      "3162\n"
     ]
    }
   ],
   "source": [
    "print(np.sum(service['positive']))\n",
    "print(np.sum(service['negative']))"
   ]
  },
  {
   "cell_type": "code",
   "execution_count": 155,
   "metadata": {},
   "outputs": [
    {
     "data": {
      "text/html": [
       "<div>\n",
       "<style scoped>\n",
       "    .dataframe tbody tr th:only-of-type {\n",
       "        vertical-align: middle;\n",
       "    }\n",
       "\n",
       "    .dataframe tbody tr th {\n",
       "        vertical-align: top;\n",
       "    }\n",
       "\n",
       "    .dataframe thead th {\n",
       "        text-align: right;\n",
       "    }\n",
       "</style>\n",
       "<table border=\"1\" class=\"dataframe\">\n",
       "  <thead>\n",
       "    <tr style=\"text-align: right;\">\n",
       "      <th></th>\n",
       "      <th>proportion</th>\n",
       "      <th>stars</th>\n",
       "    </tr>\n",
       "  </thead>\n",
       "  <tbody>\n",
       "    <tr>\n",
       "      <th>proportion</th>\n",
       "      <td>1.000000</td>\n",
       "      <td>0.580465</td>\n",
       "    </tr>\n",
       "    <tr>\n",
       "      <th>stars</th>\n",
       "      <td>0.580465</td>\n",
       "      <td>1.000000</td>\n",
       "    </tr>\n",
       "  </tbody>\n",
       "</table>\n",
       "</div>"
      ],
      "text/plain": [
       "            proportion     stars\n",
       "proportion    1.000000  0.580465\n",
       "stars         0.580465  1.000000"
      ]
     },
     "execution_count": 155,
     "metadata": {},
     "output_type": "execute_result"
    }
   ],
   "source": [
    "service.loc[:,['proportion','stars']].corr()"
   ]
  },
  {
   "cell_type": "code",
   "execution_count": 156,
   "metadata": {},
   "outputs": [],
   "source": [
    "service.to_csv(\"service.csv\",index=False)"
   ]
  },
  {
   "cell_type": "markdown",
   "metadata": {},
   "source": [
    "## price"
   ]
  },
  {
   "cell_type": "code",
   "execution_count": 157,
   "metadata": {},
   "outputs": [],
   "source": [
    "adj_price=findadj('price',clean_text)"
   ]
  },
  {
   "cell_type": "code",
   "execution_count": 159,
   "metadata": {},
   "outputs": [
    {
     "name": "stderr",
     "output_type": "stream",
     "text": [
      "C:\\Users\\GAO ZEJIN\\Anaconda3\\lib\\site-packages\\ipykernel_launcher.py:17: RuntimeWarning: invalid value encountered in longlong_scalars\n"
     ]
    },
    {
     "data": {
      "text/html": [
       "<div>\n",
       "<style scoped>\n",
       "    .dataframe tbody tr th:only-of-type {\n",
       "        vertical-align: middle;\n",
       "    }\n",
       "\n",
       "    .dataframe tbody tr th {\n",
       "        vertical-align: top;\n",
       "    }\n",
       "\n",
       "    .dataframe thead th {\n",
       "        text-align: right;\n",
       "    }\n",
       "</style>\n",
       "<table border=\"1\" class=\"dataframe\">\n",
       "  <thead>\n",
       "    <tr style=\"text-align: right;\">\n",
       "      <th></th>\n",
       "      <th>business_id</th>\n",
       "      <th>positive</th>\n",
       "      <th>negative</th>\n",
       "      <th>proportion</th>\n",
       "      <th>stars</th>\n",
       "    </tr>\n",
       "  </thead>\n",
       "  <tbody>\n",
       "    <tr>\n",
       "      <th>0</th>\n",
       "      <td>nsNONDHbV7Vudqh21uicqw</td>\n",
       "      <td>32</td>\n",
       "      <td>5</td>\n",
       "      <td>0.864865</td>\n",
       "      <td>3.5</td>\n",
       "    </tr>\n",
       "    <tr>\n",
       "      <th>1</th>\n",
       "      <td>F06m2yQSPHIrb1IT7heYeQ</td>\n",
       "      <td>11</td>\n",
       "      <td>0</td>\n",
       "      <td>1.000000</td>\n",
       "      <td>4.0</td>\n",
       "    </tr>\n",
       "    <tr>\n",
       "      <th>2</th>\n",
       "      <td>c_FTil8s5PS2l_YJDQAXhA</td>\n",
       "      <td>5</td>\n",
       "      <td>0</td>\n",
       "      <td>1.000000</td>\n",
       "      <td>4.0</td>\n",
       "    </tr>\n",
       "    <tr>\n",
       "      <th>3</th>\n",
       "      <td>vAbRNF0hJt91oCUpm_sdKw</td>\n",
       "      <td>9</td>\n",
       "      <td>2</td>\n",
       "      <td>0.818182</td>\n",
       "      <td>3.5</td>\n",
       "    </tr>\n",
       "    <tr>\n",
       "      <th>4</th>\n",
       "      <td>z8H4Mdzl4jS9pYswj6Jf9w</td>\n",
       "      <td>13</td>\n",
       "      <td>2</td>\n",
       "      <td>0.866667</td>\n",
       "      <td>3.5</td>\n",
       "    </tr>\n",
       "  </tbody>\n",
       "</table>\n",
       "</div>"
      ],
      "text/plain": [
       "              business_id  positive  negative  proportion  stars\n",
       "0  nsNONDHbV7Vudqh21uicqw        32         5    0.864865    3.5\n",
       "1  F06m2yQSPHIrb1IT7heYeQ        11         0    1.000000    4.0\n",
       "2  c_FTil8s5PS2l_YJDQAXhA         5         0    1.000000    4.0\n",
       "3  vAbRNF0hJt91oCUpm_sdKw         9         2    0.818182    3.5\n",
       "4  z8H4Mdzl4jS9pYswj6Jf9w        13         2    0.866667    3.5"
      ]
     },
     "execution_count": 159,
     "metadata": {},
     "output_type": "execute_result"
    }
   ],
   "source": [
    "price=pd.DataFrame(review_bind['business_id'])\n",
    "price['positive']=[0]*(len(review_bind))\n",
    "price['negative']=[0]*len(review_bind)\n",
    "price['proportion']=[np.nan]*len(review_bind)\n",
    "\n",
    "from collections import Counter\n",
    "\n",
    "for i in range(len(adj_price)):\n",
    "    if(len(adj_price[i]) != 0):\n",
    "        dictionary=Counter(adj_price[i])\n",
    "        for word in dictionary.keys():\n",
    "            if (word in dict_adj.keys()):\n",
    "                if (dict_adj[word] == 'positive'):\n",
    "                    price.iat[i,1]=price['positive'][i]+dictionary[word]\n",
    "                else:\n",
    "                    price.iat[i,2]=price['negative'][i]+dictionary[word]\n",
    "        price.iat[i,3]=price['positive'][i]/(price['positive'][i]+price['negative'][i])\n",
    "\n",
    "price['stars']=review_bind['stars']\n",
    "price.head()"
   ]
  },
  {
   "cell_type": "code",
   "execution_count": 160,
   "metadata": {},
   "outputs": [
    {
     "name": "stdout",
     "output_type": "stream",
     "text": [
      "7869\n",
      "802\n"
     ]
    }
   ],
   "source": [
    "print(np.sum(price['positive']))\n",
    "print(np.sum(price['negative']))"
   ]
  },
  {
   "cell_type": "code",
   "execution_count": 161,
   "metadata": {},
   "outputs": [
    {
     "data": {
      "text/html": [
       "<div>\n",
       "<style scoped>\n",
       "    .dataframe tbody tr th:only-of-type {\n",
       "        vertical-align: middle;\n",
       "    }\n",
       "\n",
       "    .dataframe tbody tr th {\n",
       "        vertical-align: top;\n",
       "    }\n",
       "\n",
       "    .dataframe thead th {\n",
       "        text-align: right;\n",
       "    }\n",
       "</style>\n",
       "<table border=\"1\" class=\"dataframe\">\n",
       "  <thead>\n",
       "    <tr style=\"text-align: right;\">\n",
       "      <th></th>\n",
       "      <th>proportion</th>\n",
       "      <th>stars</th>\n",
       "    </tr>\n",
       "  </thead>\n",
       "  <tbody>\n",
       "    <tr>\n",
       "      <th>proportion</th>\n",
       "      <td>1.000000</td>\n",
       "      <td>0.221228</td>\n",
       "    </tr>\n",
       "    <tr>\n",
       "      <th>stars</th>\n",
       "      <td>0.221228</td>\n",
       "      <td>1.000000</td>\n",
       "    </tr>\n",
       "  </tbody>\n",
       "</table>\n",
       "</div>"
      ],
      "text/plain": [
       "            proportion     stars\n",
       "proportion    1.000000  0.221228\n",
       "stars         0.221228  1.000000"
      ]
     },
     "execution_count": 161,
     "metadata": {},
     "output_type": "execute_result"
    }
   ],
   "source": [
    "price.loc[:,['proportion','stars']].corr()"
   ]
  },
  {
   "cell_type": "code",
   "execution_count": 162,
   "metadata": {},
   "outputs": [],
   "source": [
    "price.to_csv(\"price.csv\",index=False)"
   ]
  },
  {
   "cell_type": "markdown",
   "metadata": {},
   "source": [
    "## desert"
   ]
  },
  {
   "cell_type": "code",
   "execution_count": 163,
   "metadata": {},
   "outputs": [],
   "source": [
    "adj_desert=findadj('desert',clean_text)"
   ]
  },
  {
   "cell_type": "code",
   "execution_count": 165,
   "metadata": {},
   "outputs": [
    {
     "name": "stderr",
     "output_type": "stream",
     "text": [
      "C:\\Users\\GAO ZEJIN\\Anaconda3\\lib\\site-packages\\ipykernel_launcher.py:17: RuntimeWarning: invalid value encountered in longlong_scalars\n"
     ]
    },
    {
     "data": {
      "text/html": [
       "<div>\n",
       "<style scoped>\n",
       "    .dataframe tbody tr th:only-of-type {\n",
       "        vertical-align: middle;\n",
       "    }\n",
       "\n",
       "    .dataframe tbody tr th {\n",
       "        vertical-align: top;\n",
       "    }\n",
       "\n",
       "    .dataframe thead th {\n",
       "        text-align: right;\n",
       "    }\n",
       "</style>\n",
       "<table border=\"1\" class=\"dataframe\">\n",
       "  <thead>\n",
       "    <tr style=\"text-align: right;\">\n",
       "      <th></th>\n",
       "      <th>business_id</th>\n",
       "      <th>positive</th>\n",
       "      <th>negative</th>\n",
       "      <th>proportion</th>\n",
       "      <th>stars</th>\n",
       "    </tr>\n",
       "  </thead>\n",
       "  <tbody>\n",
       "    <tr>\n",
       "      <th>0</th>\n",
       "      <td>nsNONDHbV7Vudqh21uicqw</td>\n",
       "      <td>8</td>\n",
       "      <td>0</td>\n",
       "      <td>1.0</td>\n",
       "      <td>3.5</td>\n",
       "    </tr>\n",
       "    <tr>\n",
       "      <th>1</th>\n",
       "      <td>F06m2yQSPHIrb1IT7heYeQ</td>\n",
       "      <td>0</td>\n",
       "      <td>0</td>\n",
       "      <td>NaN</td>\n",
       "      <td>4.0</td>\n",
       "    </tr>\n",
       "    <tr>\n",
       "      <th>2</th>\n",
       "      <td>c_FTil8s5PS2l_YJDQAXhA</td>\n",
       "      <td>0</td>\n",
       "      <td>0</td>\n",
       "      <td>NaN</td>\n",
       "      <td>4.0</td>\n",
       "    </tr>\n",
       "    <tr>\n",
       "      <th>3</th>\n",
       "      <td>vAbRNF0hJt91oCUpm_sdKw</td>\n",
       "      <td>2</td>\n",
       "      <td>0</td>\n",
       "      <td>1.0</td>\n",
       "      <td>3.5</td>\n",
       "    </tr>\n",
       "    <tr>\n",
       "      <th>4</th>\n",
       "      <td>z8H4Mdzl4jS9pYswj6Jf9w</td>\n",
       "      <td>1</td>\n",
       "      <td>0</td>\n",
       "      <td>1.0</td>\n",
       "      <td>3.5</td>\n",
       "    </tr>\n",
       "  </tbody>\n",
       "</table>\n",
       "</div>"
      ],
      "text/plain": [
       "              business_id  positive  negative  proportion  stars\n",
       "0  nsNONDHbV7Vudqh21uicqw         8         0         1.0    3.5\n",
       "1  F06m2yQSPHIrb1IT7heYeQ         0         0         NaN    4.0\n",
       "2  c_FTil8s5PS2l_YJDQAXhA         0         0         NaN    4.0\n",
       "3  vAbRNF0hJt91oCUpm_sdKw         2         0         1.0    3.5\n",
       "4  z8H4Mdzl4jS9pYswj6Jf9w         1         0         1.0    3.5"
      ]
     },
     "execution_count": 165,
     "metadata": {},
     "output_type": "execute_result"
    }
   ],
   "source": [
    "desert=pd.DataFrame(review_bind['business_id'])\n",
    "desert['positive']=[0]*(len(review_bind))\n",
    "desert['negative']=[0]*len(review_bind)\n",
    "desert['proportion']=[np.nan]*len(review_bind)\n",
    "\n",
    "from collections import Counter\n",
    "\n",
    "for i in range(len(adj_desert)):\n",
    "    if(len(adj_desert[i]) != 0):\n",
    "        dictionary=Counter(adj_desert[i])\n",
    "        for word in dictionary.keys():\n",
    "            if (word in dict_adj.keys()):\n",
    "                if (dict_adj[word] == 'positive'):\n",
    "                    desert.iat[i,1]=desert['positive'][i]+dictionary[word]\n",
    "                else:\n",
    "                    desert.iat[i,2]=desert['negative'][i]+dictionary[word]\n",
    "        desert.iat[i,3]=desert['positive'][i]/(desert['positive'][i]+desert['negative'][i])\n",
    "\n",
    "desert['stars']=review_bind['stars']\n",
    "desert.head()"
   ]
  },
  {
   "cell_type": "code",
   "execution_count": 166,
   "metadata": {},
   "outputs": [
    {
     "name": "stdout",
     "output_type": "stream",
     "text": [
      "358\n",
      "13\n"
     ]
    }
   ],
   "source": [
    "print(np.sum(desert['positive']))\n",
    "print(np.sum(desert['negative']))"
   ]
  },
  {
   "cell_type": "code",
   "execution_count": 167,
   "metadata": {},
   "outputs": [
    {
     "data": {
      "text/html": [
       "<div>\n",
       "<style scoped>\n",
       "    .dataframe tbody tr th:only-of-type {\n",
       "        vertical-align: middle;\n",
       "    }\n",
       "\n",
       "    .dataframe tbody tr th {\n",
       "        vertical-align: top;\n",
       "    }\n",
       "\n",
       "    .dataframe thead th {\n",
       "        text-align: right;\n",
       "    }\n",
       "</style>\n",
       "<table border=\"1\" class=\"dataframe\">\n",
       "  <thead>\n",
       "    <tr style=\"text-align: right;\">\n",
       "      <th></th>\n",
       "      <th>proportion</th>\n",
       "      <th>stars</th>\n",
       "    </tr>\n",
       "  </thead>\n",
       "  <tbody>\n",
       "    <tr>\n",
       "      <th>proportion</th>\n",
       "      <td>1.000000</td>\n",
       "      <td>0.075071</td>\n",
       "    </tr>\n",
       "    <tr>\n",
       "      <th>stars</th>\n",
       "      <td>0.075071</td>\n",
       "      <td>1.000000</td>\n",
       "    </tr>\n",
       "  </tbody>\n",
       "</table>\n",
       "</div>"
      ],
      "text/plain": [
       "            proportion     stars\n",
       "proportion    1.000000  0.075071\n",
       "stars         0.075071  1.000000"
      ]
     },
     "execution_count": 167,
     "metadata": {},
     "output_type": "execute_result"
    }
   ],
   "source": [
    "desert.loc[:,['proportion','stars']].corr()"
   ]
  },
  {
   "cell_type": "code",
   "execution_count": 168,
   "metadata": {},
   "outputs": [],
   "source": [
    "desert.to_csv(\"desert.csv\",index=False)"
   ]
  },
  {
   "cell_type": "markdown",
   "metadata": {},
   "source": [
    "## appetizer"
   ]
  },
  {
   "cell_type": "code",
   "execution_count": 169,
   "metadata": {},
   "outputs": [],
   "source": [
    "adj_appetizer=findadj('appetizer',clean_text)"
   ]
  },
  {
   "cell_type": "code",
   "execution_count": 171,
   "metadata": {},
   "outputs": [
    {
     "name": "stderr",
     "output_type": "stream",
     "text": [
      "C:\\Users\\GAO ZEJIN\\Anaconda3\\lib\\site-packages\\ipykernel_launcher.py:17: RuntimeWarning: invalid value encountered in longlong_scalars\n"
     ]
    },
    {
     "data": {
      "text/html": [
       "<div>\n",
       "<style scoped>\n",
       "    .dataframe tbody tr th:only-of-type {\n",
       "        vertical-align: middle;\n",
       "    }\n",
       "\n",
       "    .dataframe tbody tr th {\n",
       "        vertical-align: top;\n",
       "    }\n",
       "\n",
       "    .dataframe thead th {\n",
       "        text-align: right;\n",
       "    }\n",
       "</style>\n",
       "<table border=\"1\" class=\"dataframe\">\n",
       "  <thead>\n",
       "    <tr style=\"text-align: right;\">\n",
       "      <th></th>\n",
       "      <th>business_id</th>\n",
       "      <th>positive</th>\n",
       "      <th>negative</th>\n",
       "      <th>proportion</th>\n",
       "      <th>stars</th>\n",
       "    </tr>\n",
       "  </thead>\n",
       "  <tbody>\n",
       "    <tr>\n",
       "      <th>0</th>\n",
       "      <td>nsNONDHbV7Vudqh21uicqw</td>\n",
       "      <td>23</td>\n",
       "      <td>0</td>\n",
       "      <td>1.000000</td>\n",
       "      <td>3.5</td>\n",
       "    </tr>\n",
       "    <tr>\n",
       "      <th>1</th>\n",
       "      <td>F06m2yQSPHIrb1IT7heYeQ</td>\n",
       "      <td>0</td>\n",
       "      <td>0</td>\n",
       "      <td>NaN</td>\n",
       "      <td>4.0</td>\n",
       "    </tr>\n",
       "    <tr>\n",
       "      <th>2</th>\n",
       "      <td>c_FTil8s5PS2l_YJDQAXhA</td>\n",
       "      <td>1</td>\n",
       "      <td>0</td>\n",
       "      <td>1.000000</td>\n",
       "      <td>4.0</td>\n",
       "    </tr>\n",
       "    <tr>\n",
       "      <th>3</th>\n",
       "      <td>vAbRNF0hJt91oCUpm_sdKw</td>\n",
       "      <td>5</td>\n",
       "      <td>1</td>\n",
       "      <td>0.833333</td>\n",
       "      <td>3.5</td>\n",
       "    </tr>\n",
       "    <tr>\n",
       "      <th>4</th>\n",
       "      <td>z8H4Mdzl4jS9pYswj6Jf9w</td>\n",
       "      <td>4</td>\n",
       "      <td>0</td>\n",
       "      <td>1.000000</td>\n",
       "      <td>3.5</td>\n",
       "    </tr>\n",
       "  </tbody>\n",
       "</table>\n",
       "</div>"
      ],
      "text/plain": [
       "              business_id  positive  negative  proportion  stars\n",
       "0  nsNONDHbV7Vudqh21uicqw        23         0    1.000000    3.5\n",
       "1  F06m2yQSPHIrb1IT7heYeQ         0         0         NaN    4.0\n",
       "2  c_FTil8s5PS2l_YJDQAXhA         1         0    1.000000    4.0\n",
       "3  vAbRNF0hJt91oCUpm_sdKw         5         1    0.833333    3.5\n",
       "4  z8H4Mdzl4jS9pYswj6Jf9w         4         0    1.000000    3.5"
      ]
     },
     "execution_count": 171,
     "metadata": {},
     "output_type": "execute_result"
    }
   ],
   "source": [
    "appetizer=pd.DataFrame(review_bind['business_id'])\n",
    "appetizer['positive']=[0]*(len(review_bind))\n",
    "appetizer['negative']=[0]*len(review_bind)\n",
    "appetizer['proportion']=[np.nan]*len(review_bind)\n",
    "\n",
    "from collections import Counter\n",
    "\n",
    "for i in range(len(adj_appetizer)):\n",
    "    if(len(adj_appetizer[i]) != 0):\n",
    "        dictionary=Counter(adj_appetizer[i])\n",
    "        for word in dictionary.keys():\n",
    "            if (word in dict_adj.keys()):\n",
    "                if (dict_adj[word] == 'positive'):\n",
    "                    appetizer.iat[i,1]=appetizer['positive'][i]+dictionary[word]\n",
    "                else:\n",
    "                    appetizer.iat[i,2]=appetizer['negative'][i]+dictionary[word]\n",
    "        appetizer.iat[i,3]=appetizer['positive'][i]/(appetizer['positive'][i]+appetizer['negative'][i])\n",
    "\n",
    "appetizer['stars']=review_bind['stars']\n",
    "appetizer.head()"
   ]
  },
  {
   "cell_type": "code",
   "execution_count": 172,
   "metadata": {},
   "outputs": [
    {
     "name": "stdout",
     "output_type": "stream",
     "text": [
      "1824\n",
      "92\n"
     ]
    }
   ],
   "source": [
    "print(np.sum(appetizer['positive']))\n",
    "print(np.sum(appetizer['negative']))"
   ]
  },
  {
   "cell_type": "code",
   "execution_count": 173,
   "metadata": {},
   "outputs": [
    {
     "data": {
      "text/html": [
       "<div>\n",
       "<style scoped>\n",
       "    .dataframe tbody tr th:only-of-type {\n",
       "        vertical-align: middle;\n",
       "    }\n",
       "\n",
       "    .dataframe tbody tr th {\n",
       "        vertical-align: top;\n",
       "    }\n",
       "\n",
       "    .dataframe thead th {\n",
       "        text-align: right;\n",
       "    }\n",
       "</style>\n",
       "<table border=\"1\" class=\"dataframe\">\n",
       "  <thead>\n",
       "    <tr style=\"text-align: right;\">\n",
       "      <th></th>\n",
       "      <th>proportion</th>\n",
       "      <th>stars</th>\n",
       "    </tr>\n",
       "  </thead>\n",
       "  <tbody>\n",
       "    <tr>\n",
       "      <th>proportion</th>\n",
       "      <td>1.000000</td>\n",
       "      <td>0.057042</td>\n",
       "    </tr>\n",
       "    <tr>\n",
       "      <th>stars</th>\n",
       "      <td>0.057042</td>\n",
       "      <td>1.000000</td>\n",
       "    </tr>\n",
       "  </tbody>\n",
       "</table>\n",
       "</div>"
      ],
      "text/plain": [
       "            proportion     stars\n",
       "proportion    1.000000  0.057042\n",
       "stars         0.057042  1.000000"
      ]
     },
     "execution_count": 173,
     "metadata": {},
     "output_type": "execute_result"
    }
   ],
   "source": [
    "appetizer.loc[:,['proportion','stars']].corr()"
   ]
  },
  {
   "cell_type": "code",
   "execution_count": 174,
   "metadata": {},
   "outputs": [],
   "source": [
    "appetizer.to_csv(\"appetizer.csv\",index=False)"
   ]
  },
  {
   "cell_type": "markdown",
   "metadata": {},
   "source": [
    "## bread"
   ]
  },
  {
   "cell_type": "code",
   "execution_count": 177,
   "metadata": {},
   "outputs": [],
   "source": [
    "adj_bread=findadj('bread',clean_text)"
   ]
  },
  {
   "cell_type": "code",
   "execution_count": 179,
   "metadata": {},
   "outputs": [
    {
     "name": "stderr",
     "output_type": "stream",
     "text": [
      "C:\\Users\\GAO ZEJIN\\Anaconda3\\lib\\site-packages\\ipykernel_launcher.py:17: RuntimeWarning: invalid value encountered in longlong_scalars\n"
     ]
    },
    {
     "data": {
      "text/html": [
       "<div>\n",
       "<style scoped>\n",
       "    .dataframe tbody tr th:only-of-type {\n",
       "        vertical-align: middle;\n",
       "    }\n",
       "\n",
       "    .dataframe tbody tr th {\n",
       "        vertical-align: top;\n",
       "    }\n",
       "\n",
       "    .dataframe thead th {\n",
       "        text-align: right;\n",
       "    }\n",
       "</style>\n",
       "<table border=\"1\" class=\"dataframe\">\n",
       "  <thead>\n",
       "    <tr style=\"text-align: right;\">\n",
       "      <th></th>\n",
       "      <th>business_id</th>\n",
       "      <th>positive</th>\n",
       "      <th>negative</th>\n",
       "      <th>proportion</th>\n",
       "      <th>stars</th>\n",
       "    </tr>\n",
       "  </thead>\n",
       "  <tbody>\n",
       "    <tr>\n",
       "      <th>0</th>\n",
       "      <td>nsNONDHbV7Vudqh21uicqw</td>\n",
       "      <td>34</td>\n",
       "      <td>4</td>\n",
       "      <td>0.894737</td>\n",
       "      <td>3.5</td>\n",
       "    </tr>\n",
       "    <tr>\n",
       "      <th>1</th>\n",
       "      <td>F06m2yQSPHIrb1IT7heYeQ</td>\n",
       "      <td>0</td>\n",
       "      <td>0</td>\n",
       "      <td>NaN</td>\n",
       "      <td>4.0</td>\n",
       "    </tr>\n",
       "    <tr>\n",
       "      <th>2</th>\n",
       "      <td>c_FTil8s5PS2l_YJDQAXhA</td>\n",
       "      <td>1</td>\n",
       "      <td>0</td>\n",
       "      <td>1.000000</td>\n",
       "      <td>4.0</td>\n",
       "    </tr>\n",
       "    <tr>\n",
       "      <th>3</th>\n",
       "      <td>vAbRNF0hJt91oCUpm_sdKw</td>\n",
       "      <td>12</td>\n",
       "      <td>1</td>\n",
       "      <td>0.923077</td>\n",
       "      <td>3.5</td>\n",
       "    </tr>\n",
       "    <tr>\n",
       "      <th>4</th>\n",
       "      <td>z8H4Mdzl4jS9pYswj6Jf9w</td>\n",
       "      <td>11</td>\n",
       "      <td>0</td>\n",
       "      <td>1.000000</td>\n",
       "      <td>3.5</td>\n",
       "    </tr>\n",
       "  </tbody>\n",
       "</table>\n",
       "</div>"
      ],
      "text/plain": [
       "              business_id  positive  negative  proportion  stars\n",
       "0  nsNONDHbV7Vudqh21uicqw        34         4    0.894737    3.5\n",
       "1  F06m2yQSPHIrb1IT7heYeQ         0         0         NaN    4.0\n",
       "2  c_FTil8s5PS2l_YJDQAXhA         1         0    1.000000    4.0\n",
       "3  vAbRNF0hJt91oCUpm_sdKw        12         1    0.923077    3.5\n",
       "4  z8H4Mdzl4jS9pYswj6Jf9w        11         0    1.000000    3.5"
      ]
     },
     "execution_count": 179,
     "metadata": {},
     "output_type": "execute_result"
    }
   ],
   "source": [
    "bread=pd.DataFrame(review_bind['business_id'])\n",
    "bread['positive']=[0]*(len(review_bind))\n",
    "bread['negative']=[0]*len(review_bind)\n",
    "bread['proportion']=[np.nan]*len(review_bind)\n",
    "\n",
    "from collections import Counter\n",
    "\n",
    "for i in range(len(adj_bread)):\n",
    "    if(len(adj_bread[i]) != 0):\n",
    "        dictionary=Counter(adj_bread[i])\n",
    "        for word in dictionary.keys():\n",
    "            if (word in dict_adj.keys()):\n",
    "                if (dict_adj[word] == 'positive'):\n",
    "                    bread.iat[i,1]=bread['positive'][i]+dictionary[word]\n",
    "                else:\n",
    "                    bread.iat[i,2]=bread['negative'][i]+dictionary[word]\n",
    "        bread.iat[i,3]=bread['positive'][i]/(bread['positive'][i]+bread['negative'][i])\n",
    "\n",
    "bread['stars']=review_bind['stars']\n",
    "bread.head()"
   ]
  },
  {
   "cell_type": "code",
   "execution_count": 180,
   "metadata": {},
   "outputs": [
    {
     "name": "stdout",
     "output_type": "stream",
     "text": [
      "2066\n",
      "140\n"
     ]
    }
   ],
   "source": [
    "print(np.sum(bread['positive']))\n",
    "print(np.sum(bread['negative']))"
   ]
  },
  {
   "cell_type": "code",
   "execution_count": 181,
   "metadata": {},
   "outputs": [
    {
     "data": {
      "text/html": [
       "<div>\n",
       "<style scoped>\n",
       "    .dataframe tbody tr th:only-of-type {\n",
       "        vertical-align: middle;\n",
       "    }\n",
       "\n",
       "    .dataframe tbody tr th {\n",
       "        vertical-align: top;\n",
       "    }\n",
       "\n",
       "    .dataframe thead th {\n",
       "        text-align: right;\n",
       "    }\n",
       "</style>\n",
       "<table border=\"1\" class=\"dataframe\">\n",
       "  <thead>\n",
       "    <tr style=\"text-align: right;\">\n",
       "      <th></th>\n",
       "      <th>proportion</th>\n",
       "      <th>stars</th>\n",
       "    </tr>\n",
       "  </thead>\n",
       "  <tbody>\n",
       "    <tr>\n",
       "      <th>proportion</th>\n",
       "      <td>1.000000</td>\n",
       "      <td>0.004778</td>\n",
       "    </tr>\n",
       "    <tr>\n",
       "      <th>stars</th>\n",
       "      <td>0.004778</td>\n",
       "      <td>1.000000</td>\n",
       "    </tr>\n",
       "  </tbody>\n",
       "</table>\n",
       "</div>"
      ],
      "text/plain": [
       "            proportion     stars\n",
       "proportion    1.000000  0.004778\n",
       "stars         0.004778  1.000000"
      ]
     },
     "execution_count": 181,
     "metadata": {},
     "output_type": "execute_result"
    }
   ],
   "source": [
    "bread.loc[:,['proportion','stars']].corr()"
   ]
  },
  {
   "cell_type": "code",
   "execution_count": 182,
   "metadata": {},
   "outputs": [],
   "source": [
    "bread.to_csv(\"price.csv\",index=False)"
   ]
  },
  {
   "cell_type": "markdown",
   "metadata": {},
   "source": [
    "## salad"
   ]
  },
  {
   "cell_type": "code",
   "execution_count": 183,
   "metadata": {},
   "outputs": [],
   "source": [
    "adj_salad=findadj('salad',clean_text)"
   ]
  },
  {
   "cell_type": "code",
   "execution_count": 185,
   "metadata": {},
   "outputs": [
    {
     "name": "stderr",
     "output_type": "stream",
     "text": [
      "C:\\Users\\GAO ZEJIN\\Anaconda3\\lib\\site-packages\\ipykernel_launcher.py:17: RuntimeWarning: invalid value encountered in longlong_scalars\n"
     ]
    },
    {
     "data": {
      "text/html": [
       "<div>\n",
       "<style scoped>\n",
       "    .dataframe tbody tr th:only-of-type {\n",
       "        vertical-align: middle;\n",
       "    }\n",
       "\n",
       "    .dataframe tbody tr th {\n",
       "        vertical-align: top;\n",
       "    }\n",
       "\n",
       "    .dataframe thead th {\n",
       "        text-align: right;\n",
       "    }\n",
       "</style>\n",
       "<table border=\"1\" class=\"dataframe\">\n",
       "  <thead>\n",
       "    <tr style=\"text-align: right;\">\n",
       "      <th></th>\n",
       "      <th>business_id</th>\n",
       "      <th>positive</th>\n",
       "      <th>negative</th>\n",
       "      <th>proportion</th>\n",
       "      <th>stars</th>\n",
       "    </tr>\n",
       "  </thead>\n",
       "  <tbody>\n",
       "    <tr>\n",
       "      <th>0</th>\n",
       "      <td>nsNONDHbV7Vudqh21uicqw</td>\n",
       "      <td>21</td>\n",
       "      <td>1</td>\n",
       "      <td>0.954545</td>\n",
       "      <td>3.5</td>\n",
       "    </tr>\n",
       "    <tr>\n",
       "      <th>1</th>\n",
       "      <td>F06m2yQSPHIrb1IT7heYeQ</td>\n",
       "      <td>0</td>\n",
       "      <td>0</td>\n",
       "      <td>NaN</td>\n",
       "      <td>4.0</td>\n",
       "    </tr>\n",
       "    <tr>\n",
       "      <th>2</th>\n",
       "      <td>c_FTil8s5PS2l_YJDQAXhA</td>\n",
       "      <td>1</td>\n",
       "      <td>0</td>\n",
       "      <td>1.000000</td>\n",
       "      <td>4.0</td>\n",
       "    </tr>\n",
       "    <tr>\n",
       "      <th>3</th>\n",
       "      <td>vAbRNF0hJt91oCUpm_sdKw</td>\n",
       "      <td>2</td>\n",
       "      <td>0</td>\n",
       "      <td>1.000000</td>\n",
       "      <td>3.5</td>\n",
       "    </tr>\n",
       "    <tr>\n",
       "      <th>4</th>\n",
       "      <td>z8H4Mdzl4jS9pYswj6Jf9w</td>\n",
       "      <td>2</td>\n",
       "      <td>1</td>\n",
       "      <td>0.666667</td>\n",
       "      <td>3.5</td>\n",
       "    </tr>\n",
       "  </tbody>\n",
       "</table>\n",
       "</div>"
      ],
      "text/plain": [
       "              business_id  positive  negative  proportion  stars\n",
       "0  nsNONDHbV7Vudqh21uicqw        21         1    0.954545    3.5\n",
       "1  F06m2yQSPHIrb1IT7heYeQ         0         0         NaN    4.0\n",
       "2  c_FTil8s5PS2l_YJDQAXhA         1         0    1.000000    4.0\n",
       "3  vAbRNF0hJt91oCUpm_sdKw         2         0    1.000000    3.5\n",
       "4  z8H4Mdzl4jS9pYswj6Jf9w         2         1    0.666667    3.5"
      ]
     },
     "execution_count": 185,
     "metadata": {},
     "output_type": "execute_result"
    }
   ],
   "source": [
    "salad=pd.DataFrame(review_bind['business_id'])\n",
    "salad['positive']=[0]*(len(review_bind))\n",
    "salad['negative']=[0]*len(review_bind)\n",
    "salad['proportion']=[np.nan]*len(review_bind)\n",
    "\n",
    "from collections import Counter\n",
    "\n",
    "for i in range(len(adj_salad)):\n",
    "    if(len(adj_salad[i]) != 0):\n",
    "        dictionary=Counter(adj_salad[i])\n",
    "        for word in dictionary.keys():\n",
    "            if (word in dict_adj.keys()):\n",
    "                if (dict_adj[word] == 'positive'):\n",
    "                    salad.iat[i,1]=salad['positive'][i]+dictionary[word]\n",
    "                else:\n",
    "                    salad.iat[i,2]=salad['negative'][i]+dictionary[word]\n",
    "        salad.iat[i,3]=salad['positive'][i]/(salad['positive'][i]+salad['negative'][i])\n",
    "\n",
    "salad['stars']=review_bind['stars']\n",
    "salad.head()"
   ]
  },
  {
   "cell_type": "code",
   "execution_count": 186,
   "metadata": {},
   "outputs": [
    {
     "name": "stdout",
     "output_type": "stream",
     "text": [
      "1773\n",
      "96\n"
     ]
    }
   ],
   "source": [
    "print(np.sum(salad['positive']))\n",
    "print(np.sum(salad['negative']))"
   ]
  },
  {
   "cell_type": "code",
   "execution_count": 187,
   "metadata": {},
   "outputs": [
    {
     "data": {
      "text/html": [
       "<div>\n",
       "<style scoped>\n",
       "    .dataframe tbody tr th:only-of-type {\n",
       "        vertical-align: middle;\n",
       "    }\n",
       "\n",
       "    .dataframe tbody tr th {\n",
       "        vertical-align: top;\n",
       "    }\n",
       "\n",
       "    .dataframe thead th {\n",
       "        text-align: right;\n",
       "    }\n",
       "</style>\n",
       "<table border=\"1\" class=\"dataframe\">\n",
       "  <thead>\n",
       "    <tr style=\"text-align: right;\">\n",
       "      <th></th>\n",
       "      <th>proportion</th>\n",
       "      <th>stars</th>\n",
       "    </tr>\n",
       "  </thead>\n",
       "  <tbody>\n",
       "    <tr>\n",
       "      <th>proportion</th>\n",
       "      <td>1.000000</td>\n",
       "      <td>0.054725</td>\n",
       "    </tr>\n",
       "    <tr>\n",
       "      <th>stars</th>\n",
       "      <td>0.054725</td>\n",
       "      <td>1.000000</td>\n",
       "    </tr>\n",
       "  </tbody>\n",
       "</table>\n",
       "</div>"
      ],
      "text/plain": [
       "            proportion     stars\n",
       "proportion    1.000000  0.054725\n",
       "stars         0.054725  1.000000"
      ]
     },
     "execution_count": 187,
     "metadata": {},
     "output_type": "execute_result"
    }
   ],
   "source": [
    "salad.loc[:,['proportion','stars']].corr()"
   ]
  },
  {
   "cell_type": "code",
   "execution_count": 188,
   "metadata": {},
   "outputs": [],
   "source": [
    "salad.to_csv(\"salad.csv\",index=False)"
   ]
  },
  {
   "cell_type": "markdown",
   "metadata": {},
   "source": [
    "## side"
   ]
  },
  {
   "cell_type": "code",
   "execution_count": 189,
   "metadata": {},
   "outputs": [],
   "source": [
    "adj_side=findadj('side',clean_text)"
   ]
  },
  {
   "cell_type": "code",
   "execution_count": 191,
   "metadata": {},
   "outputs": [
    {
     "name": "stderr",
     "output_type": "stream",
     "text": [
      "C:\\Users\\GAO ZEJIN\\Anaconda3\\lib\\site-packages\\ipykernel_launcher.py:17: RuntimeWarning: invalid value encountered in longlong_scalars\n"
     ]
    },
    {
     "data": {
      "text/html": [
       "<div>\n",
       "<style scoped>\n",
       "    .dataframe tbody tr th:only-of-type {\n",
       "        vertical-align: middle;\n",
       "    }\n",
       "\n",
       "    .dataframe tbody tr th {\n",
       "        vertical-align: top;\n",
       "    }\n",
       "\n",
       "    .dataframe thead th {\n",
       "        text-align: right;\n",
       "    }\n",
       "</style>\n",
       "<table border=\"1\" class=\"dataframe\">\n",
       "  <thead>\n",
       "    <tr style=\"text-align: right;\">\n",
       "      <th></th>\n",
       "      <th>business_id</th>\n",
       "      <th>positive</th>\n",
       "      <th>negative</th>\n",
       "      <th>proportion</th>\n",
       "      <th>stars</th>\n",
       "    </tr>\n",
       "  </thead>\n",
       "  <tbody>\n",
       "    <tr>\n",
       "      <th>0</th>\n",
       "      <td>nsNONDHbV7Vudqh21uicqw</td>\n",
       "      <td>29</td>\n",
       "      <td>5</td>\n",
       "      <td>0.852941</td>\n",
       "      <td>3.5</td>\n",
       "    </tr>\n",
       "    <tr>\n",
       "      <th>1</th>\n",
       "      <td>F06m2yQSPHIrb1IT7heYeQ</td>\n",
       "      <td>9</td>\n",
       "      <td>1</td>\n",
       "      <td>0.900000</td>\n",
       "      <td>4.0</td>\n",
       "    </tr>\n",
       "    <tr>\n",
       "      <th>2</th>\n",
       "      <td>c_FTil8s5PS2l_YJDQAXhA</td>\n",
       "      <td>1</td>\n",
       "      <td>0</td>\n",
       "      <td>1.000000</td>\n",
       "      <td>4.0</td>\n",
       "    </tr>\n",
       "    <tr>\n",
       "      <th>3</th>\n",
       "      <td>vAbRNF0hJt91oCUpm_sdKw</td>\n",
       "      <td>12</td>\n",
       "      <td>1</td>\n",
       "      <td>0.923077</td>\n",
       "      <td>3.5</td>\n",
       "    </tr>\n",
       "    <tr>\n",
       "      <th>4</th>\n",
       "      <td>z8H4Mdzl4jS9pYswj6Jf9w</td>\n",
       "      <td>10</td>\n",
       "      <td>1</td>\n",
       "      <td>0.909091</td>\n",
       "      <td>3.5</td>\n",
       "    </tr>\n",
       "  </tbody>\n",
       "</table>\n",
       "</div>"
      ],
      "text/plain": [
       "              business_id  positive  negative  proportion  stars\n",
       "0  nsNONDHbV7Vudqh21uicqw        29         5    0.852941    3.5\n",
       "1  F06m2yQSPHIrb1IT7heYeQ         9         1    0.900000    4.0\n",
       "2  c_FTil8s5PS2l_YJDQAXhA         1         0    1.000000    4.0\n",
       "3  vAbRNF0hJt91oCUpm_sdKw        12         1    0.923077    3.5\n",
       "4  z8H4Mdzl4jS9pYswj6Jf9w        10         1    0.909091    3.5"
      ]
     },
     "execution_count": 191,
     "metadata": {},
     "output_type": "execute_result"
    }
   ],
   "source": [
    "side=pd.DataFrame(review_bind['business_id'])\n",
    "side['positive']=[0]*(len(review_bind))\n",
    "side['negative']=[0]*len(review_bind)\n",
    "side['proportion']=[np.nan]*len(review_bind)\n",
    "\n",
    "from collections import Counter\n",
    "\n",
    "for i in range(len(adj_side)):\n",
    "    if(len(adj_side[i]) != 0):\n",
    "        dictionary=Counter(adj_side[i])\n",
    "        for word in dictionary.keys():\n",
    "            if (word in dict_adj.keys()):\n",
    "                if (dict_adj[word] == 'positive'):\n",
    "                    side.iat[i,1]=side['positive'][i]+dictionary[word]\n",
    "                else:\n",
    "                    side.iat[i,2]=side['negative'][i]+dictionary[word]\n",
    "        side.iat[i,3]=side['positive'][i]/(side['positive'][i]+side['negative'][i])\n",
    "\n",
    "side['stars']=review_bind['stars']\n",
    "side.head()"
   ]
  },
  {
   "cell_type": "code",
   "execution_count": 192,
   "metadata": {},
   "outputs": [
    {
     "name": "stdout",
     "output_type": "stream",
     "text": [
      "3711\n",
      "392\n"
     ]
    }
   ],
   "source": [
    "print(np.sum(side['positive']))\n",
    "print(np.sum(side['negative']))"
   ]
  },
  {
   "cell_type": "code",
   "execution_count": 193,
   "metadata": {},
   "outputs": [
    {
     "data": {
      "text/html": [
       "<div>\n",
       "<style scoped>\n",
       "    .dataframe tbody tr th:only-of-type {\n",
       "        vertical-align: middle;\n",
       "    }\n",
       "\n",
       "    .dataframe tbody tr th {\n",
       "        vertical-align: top;\n",
       "    }\n",
       "\n",
       "    .dataframe thead th {\n",
       "        text-align: right;\n",
       "    }\n",
       "</style>\n",
       "<table border=\"1\" class=\"dataframe\">\n",
       "  <thead>\n",
       "    <tr style=\"text-align: right;\">\n",
       "      <th></th>\n",
       "      <th>proportion</th>\n",
       "      <th>stars</th>\n",
       "    </tr>\n",
       "  </thead>\n",
       "  <tbody>\n",
       "    <tr>\n",
       "      <th>proportion</th>\n",
       "      <td>1.000000</td>\n",
       "      <td>0.205917</td>\n",
       "    </tr>\n",
       "    <tr>\n",
       "      <th>stars</th>\n",
       "      <td>0.205917</td>\n",
       "      <td>1.000000</td>\n",
       "    </tr>\n",
       "  </tbody>\n",
       "</table>\n",
       "</div>"
      ],
      "text/plain": [
       "            proportion     stars\n",
       "proportion    1.000000  0.205917\n",
       "stars         0.205917  1.000000"
      ]
     },
     "execution_count": 193,
     "metadata": {},
     "output_type": "execute_result"
    }
   ],
   "source": [
    "side.loc[:,['proportion','stars']].corr()"
   ]
  },
  {
   "cell_type": "code",
   "execution_count": 194,
   "metadata": {},
   "outputs": [],
   "source": [
    "side.to_csv(\"side.csv\",index=False)"
   ]
  },
  {
   "cell_type": "markdown",
   "metadata": {},
   "source": [
    "## soup"
   ]
  },
  {
   "cell_type": "code",
   "execution_count": 195,
   "metadata": {},
   "outputs": [],
   "source": [
    "adj_soup=findadj('soup',clean_text)"
   ]
  },
  {
   "cell_type": "code",
   "execution_count": 197,
   "metadata": {},
   "outputs": [
    {
     "name": "stderr",
     "output_type": "stream",
     "text": [
      "C:\\Users\\GAO ZEJIN\\Anaconda3\\lib\\site-packages\\ipykernel_launcher.py:17: RuntimeWarning: invalid value encountered in longlong_scalars\n"
     ]
    },
    {
     "data": {
      "text/html": [
       "<div>\n",
       "<style scoped>\n",
       "    .dataframe tbody tr th:only-of-type {\n",
       "        vertical-align: middle;\n",
       "    }\n",
       "\n",
       "    .dataframe tbody tr th {\n",
       "        vertical-align: top;\n",
       "    }\n",
       "\n",
       "    .dataframe thead th {\n",
       "        text-align: right;\n",
       "    }\n",
       "</style>\n",
       "<table border=\"1\" class=\"dataframe\">\n",
       "  <thead>\n",
       "    <tr style=\"text-align: right;\">\n",
       "      <th></th>\n",
       "      <th>business_id</th>\n",
       "      <th>positive</th>\n",
       "      <th>negative</th>\n",
       "      <th>proportion</th>\n",
       "      <th>stars</th>\n",
       "    </tr>\n",
       "  </thead>\n",
       "  <tbody>\n",
       "    <tr>\n",
       "      <th>0</th>\n",
       "      <td>nsNONDHbV7Vudqh21uicqw</td>\n",
       "      <td>4</td>\n",
       "      <td>0</td>\n",
       "      <td>1.0</td>\n",
       "      <td>3.5</td>\n",
       "    </tr>\n",
       "    <tr>\n",
       "      <th>1</th>\n",
       "      <td>F06m2yQSPHIrb1IT7heYeQ</td>\n",
       "      <td>9</td>\n",
       "      <td>0</td>\n",
       "      <td>1.0</td>\n",
       "      <td>4.0</td>\n",
       "    </tr>\n",
       "    <tr>\n",
       "      <th>2</th>\n",
       "      <td>c_FTil8s5PS2l_YJDQAXhA</td>\n",
       "      <td>0</td>\n",
       "      <td>0</td>\n",
       "      <td>NaN</td>\n",
       "      <td>4.0</td>\n",
       "    </tr>\n",
       "    <tr>\n",
       "      <th>3</th>\n",
       "      <td>vAbRNF0hJt91oCUpm_sdKw</td>\n",
       "      <td>3</td>\n",
       "      <td>0</td>\n",
       "      <td>1.0</td>\n",
       "      <td>3.5</td>\n",
       "    </tr>\n",
       "    <tr>\n",
       "      <th>4</th>\n",
       "      <td>z8H4Mdzl4jS9pYswj6Jf9w</td>\n",
       "      <td>2</td>\n",
       "      <td>0</td>\n",
       "      <td>1.0</td>\n",
       "      <td>3.5</td>\n",
       "    </tr>\n",
       "  </tbody>\n",
       "</table>\n",
       "</div>"
      ],
      "text/plain": [
       "              business_id  positive  negative  proportion  stars\n",
       "0  nsNONDHbV7Vudqh21uicqw         4         0         1.0    3.5\n",
       "1  F06m2yQSPHIrb1IT7heYeQ         9         0         1.0    4.0\n",
       "2  c_FTil8s5PS2l_YJDQAXhA         0         0         NaN    4.0\n",
       "3  vAbRNF0hJt91oCUpm_sdKw         3         0         1.0    3.5\n",
       "4  z8H4Mdzl4jS9pYswj6Jf9w         2         0         1.0    3.5"
      ]
     },
     "execution_count": 197,
     "metadata": {},
     "output_type": "execute_result"
    }
   ],
   "source": [
    "soup=pd.DataFrame(review_bind['business_id'])\n",
    "soup['positive']=[0]*(len(review_bind))\n",
    "soup['negative']=[0]*len(review_bind)\n",
    "soup['proportion']=[np.nan]*len(review_bind)\n",
    "\n",
    "from collections import Counter\n",
    "\n",
    "for i in range(len(adj_soup)):\n",
    "    if(len(adj_soup[i]) != 0):\n",
    "        dictionary=Counter(adj_soup[i])\n",
    "        for word in dictionary.keys():\n",
    "            if (word in dict_adj.keys()):\n",
    "                if (dict_adj[word] == 'positive'):\n",
    "                    soup.iat[i,1]=soup['positive'][i]+dictionary[word]\n",
    "                else:\n",
    "                    soup.iat[i,2]=soup['negative'][i]+dictionary[word]\n",
    "        soup.iat[i,3]=soup['positive'][i]/(soup['positive'][i]+soup['negative'][i])\n",
    "\n",
    "soup['stars']=review_bind['stars']\n",
    "soup.head()"
   ]
  },
  {
   "cell_type": "code",
   "execution_count": 198,
   "metadata": {},
   "outputs": [
    {
     "name": "stdout",
     "output_type": "stream",
     "text": [
      "1555\n",
      "68\n"
     ]
    }
   ],
   "source": [
    "print(np.sum(soup['positive']))\n",
    "print(np.sum(soup['negative']))"
   ]
  },
  {
   "cell_type": "code",
   "execution_count": 199,
   "metadata": {},
   "outputs": [
    {
     "data": {
      "text/html": [
       "<div>\n",
       "<style scoped>\n",
       "    .dataframe tbody tr th:only-of-type {\n",
       "        vertical-align: middle;\n",
       "    }\n",
       "\n",
       "    .dataframe tbody tr th {\n",
       "        vertical-align: top;\n",
       "    }\n",
       "\n",
       "    .dataframe thead th {\n",
       "        text-align: right;\n",
       "    }\n",
       "</style>\n",
       "<table border=\"1\" class=\"dataframe\">\n",
       "  <thead>\n",
       "    <tr style=\"text-align: right;\">\n",
       "      <th></th>\n",
       "      <th>proportion</th>\n",
       "      <th>stars</th>\n",
       "    </tr>\n",
       "  </thead>\n",
       "  <tbody>\n",
       "    <tr>\n",
       "      <th>proportion</th>\n",
       "      <td>1.000000</td>\n",
       "      <td>-0.012645</td>\n",
       "    </tr>\n",
       "    <tr>\n",
       "      <th>stars</th>\n",
       "      <td>-0.012645</td>\n",
       "      <td>1.000000</td>\n",
       "    </tr>\n",
       "  </tbody>\n",
       "</table>\n",
       "</div>"
      ],
      "text/plain": [
       "            proportion     stars\n",
       "proportion    1.000000 -0.012645\n",
       "stars        -0.012645  1.000000"
      ]
     },
     "execution_count": 199,
     "metadata": {},
     "output_type": "execute_result"
    }
   ],
   "source": [
    "soup.loc[:,['proportion','stars']].corr()"
   ]
  },
  {
   "cell_type": "code",
   "execution_count": 200,
   "metadata": {},
   "outputs": [],
   "source": [
    "soup.to_csv(\"soup.csv\",index=False)"
   ]
  },
  {
   "cell_type": "markdown",
   "metadata": {},
   "source": [
    "## drink"
   ]
  },
  {
   "cell_type": "code",
   "execution_count": 201,
   "metadata": {},
   "outputs": [],
   "source": [
    "adj_drink=findadj('drink',clean_text)"
   ]
  },
  {
   "cell_type": "code",
   "execution_count": 203,
   "metadata": {},
   "outputs": [
    {
     "name": "stderr",
     "output_type": "stream",
     "text": [
      "C:\\Users\\GAO ZEJIN\\Anaconda3\\lib\\site-packages\\ipykernel_launcher.py:17: RuntimeWarning: invalid value encountered in longlong_scalars\n"
     ]
    },
    {
     "data": {
      "text/html": [
       "<div>\n",
       "<style scoped>\n",
       "    .dataframe tbody tr th:only-of-type {\n",
       "        vertical-align: middle;\n",
       "    }\n",
       "\n",
       "    .dataframe tbody tr th {\n",
       "        vertical-align: top;\n",
       "    }\n",
       "\n",
       "    .dataframe thead th {\n",
       "        text-align: right;\n",
       "    }\n",
       "</style>\n",
       "<table border=\"1\" class=\"dataframe\">\n",
       "  <thead>\n",
       "    <tr style=\"text-align: right;\">\n",
       "      <th></th>\n",
       "      <th>business_id</th>\n",
       "      <th>positive</th>\n",
       "      <th>negative</th>\n",
       "      <th>proportion</th>\n",
       "      <th>stars</th>\n",
       "    </tr>\n",
       "  </thead>\n",
       "  <tbody>\n",
       "    <tr>\n",
       "      <th>0</th>\n",
       "      <td>nsNONDHbV7Vudqh21uicqw</td>\n",
       "      <td>29</td>\n",
       "      <td>3</td>\n",
       "      <td>0.906250</td>\n",
       "      <td>3.5</td>\n",
       "    </tr>\n",
       "    <tr>\n",
       "      <th>1</th>\n",
       "      <td>F06m2yQSPHIrb1IT7heYeQ</td>\n",
       "      <td>0</td>\n",
       "      <td>0</td>\n",
       "      <td>NaN</td>\n",
       "      <td>4.0</td>\n",
       "    </tr>\n",
       "    <tr>\n",
       "      <th>2</th>\n",
       "      <td>c_FTil8s5PS2l_YJDQAXhA</td>\n",
       "      <td>3</td>\n",
       "      <td>0</td>\n",
       "      <td>1.000000</td>\n",
       "      <td>4.0</td>\n",
       "    </tr>\n",
       "    <tr>\n",
       "      <th>3</th>\n",
       "      <td>vAbRNF0hJt91oCUpm_sdKw</td>\n",
       "      <td>3</td>\n",
       "      <td>1</td>\n",
       "      <td>0.750000</td>\n",
       "      <td>3.5</td>\n",
       "    </tr>\n",
       "    <tr>\n",
       "      <th>4</th>\n",
       "      <td>z8H4Mdzl4jS9pYswj6Jf9w</td>\n",
       "      <td>2</td>\n",
       "      <td>1</td>\n",
       "      <td>0.666667</td>\n",
       "      <td>3.5</td>\n",
       "    </tr>\n",
       "  </tbody>\n",
       "</table>\n",
       "</div>"
      ],
      "text/plain": [
       "              business_id  positive  negative  proportion  stars\n",
       "0  nsNONDHbV7Vudqh21uicqw        29         3    0.906250    3.5\n",
       "1  F06m2yQSPHIrb1IT7heYeQ         0         0         NaN    4.0\n",
       "2  c_FTil8s5PS2l_YJDQAXhA         3         0    1.000000    4.0\n",
       "3  vAbRNF0hJt91oCUpm_sdKw         3         1    0.750000    3.5\n",
       "4  z8H4Mdzl4jS9pYswj6Jf9w         2         1    0.666667    3.5"
      ]
     },
     "execution_count": 203,
     "metadata": {},
     "output_type": "execute_result"
    }
   ],
   "source": [
    "drink=pd.DataFrame(review_bind['business_id'])\n",
    "drink['positive']=[0]*(len(review_bind))\n",
    "drink['negative']=[0]*len(review_bind)\n",
    "drink['proportion']=[np.nan]*len(review_bind)\n",
    "\n",
    "from collections import Counter\n",
    "\n",
    "for i in range(len(adj_drink)):\n",
    "    if(len(adj_drink[i]) != 0):\n",
    "        dictionary=Counter(adj_drink[i])\n",
    "        for word in dictionary.keys():\n",
    "            if (word in dict_adj.keys()):\n",
    "                if (dict_adj[word] == 'positive'):\n",
    "                    drink.iat[i,1]=drink['positive'][i]+dictionary[word]\n",
    "                else:\n",
    "                    drink.iat[i,2]=drink['negative'][i]+dictionary[word]\n",
    "        drink.iat[i,3]=drink['positive'][i]/(drink['positive'][i]+drink['negative'][i])\n",
    "\n",
    "drink['stars']=review_bind['stars']\n",
    "drink.head()"
   ]
  },
  {
   "cell_type": "code",
   "execution_count": 204,
   "metadata": {},
   "outputs": [
    {
     "name": "stdout",
     "output_type": "stream",
     "text": [
      "2409\n",
      "222\n"
     ]
    }
   ],
   "source": [
    "print(np.sum(drink['positive']))\n",
    "print(np.sum(drink['negative']))"
   ]
  },
  {
   "cell_type": "code",
   "execution_count": 205,
   "metadata": {},
   "outputs": [
    {
     "data": {
      "text/html": [
       "<div>\n",
       "<style scoped>\n",
       "    .dataframe tbody tr th:only-of-type {\n",
       "        vertical-align: middle;\n",
       "    }\n",
       "\n",
       "    .dataframe tbody tr th {\n",
       "        vertical-align: top;\n",
       "    }\n",
       "\n",
       "    .dataframe thead th {\n",
       "        text-align: right;\n",
       "    }\n",
       "</style>\n",
       "<table border=\"1\" class=\"dataframe\">\n",
       "  <thead>\n",
       "    <tr style=\"text-align: right;\">\n",
       "      <th></th>\n",
       "      <th>proportion</th>\n",
       "      <th>stars</th>\n",
       "    </tr>\n",
       "  </thead>\n",
       "  <tbody>\n",
       "    <tr>\n",
       "      <th>proportion</th>\n",
       "      <td>1.00000</td>\n",
       "      <td>0.15451</td>\n",
       "    </tr>\n",
       "    <tr>\n",
       "      <th>stars</th>\n",
       "      <td>0.15451</td>\n",
       "      <td>1.00000</td>\n",
       "    </tr>\n",
       "  </tbody>\n",
       "</table>\n",
       "</div>"
      ],
      "text/plain": [
       "            proportion    stars\n",
       "proportion     1.00000  0.15451\n",
       "stars          0.15451  1.00000"
      ]
     },
     "execution_count": 205,
     "metadata": {},
     "output_type": "execute_result"
    }
   ],
   "source": [
    "drink.loc[:,['proportion','stars']].corr()"
   ]
  },
  {
   "cell_type": "code",
   "execution_count": 206,
   "metadata": {},
   "outputs": [],
   "source": [
    "drink.to_csv(\"drink.csv\",index=False)"
   ]
  },
  {
   "cell_type": "markdown",
   "metadata": {},
   "source": [
    "## server"
   ]
  },
  {
   "cell_type": "code",
   "execution_count": 207,
   "metadata": {},
   "outputs": [],
   "source": [
    "adj_server=findadj('server',clean_text)"
   ]
  },
  {
   "cell_type": "code",
   "execution_count": 209,
   "metadata": {},
   "outputs": [
    {
     "name": "stderr",
     "output_type": "stream",
     "text": [
      "C:\\Users\\GAO ZEJIN\\Anaconda3\\lib\\site-packages\\ipykernel_launcher.py:17: RuntimeWarning: invalid value encountered in longlong_scalars\n"
     ]
    },
    {
     "data": {
      "text/html": [
       "<div>\n",
       "<style scoped>\n",
       "    .dataframe tbody tr th:only-of-type {\n",
       "        vertical-align: middle;\n",
       "    }\n",
       "\n",
       "    .dataframe tbody tr th {\n",
       "        vertical-align: top;\n",
       "    }\n",
       "\n",
       "    .dataframe thead th {\n",
       "        text-align: right;\n",
       "    }\n",
       "</style>\n",
       "<table border=\"1\" class=\"dataframe\">\n",
       "  <thead>\n",
       "    <tr style=\"text-align: right;\">\n",
       "      <th></th>\n",
       "      <th>business_id</th>\n",
       "      <th>positive</th>\n",
       "      <th>negative</th>\n",
       "      <th>proportion</th>\n",
       "      <th>stars</th>\n",
       "    </tr>\n",
       "  </thead>\n",
       "  <tbody>\n",
       "    <tr>\n",
       "      <th>0</th>\n",
       "      <td>nsNONDHbV7Vudqh21uicqw</td>\n",
       "      <td>15</td>\n",
       "      <td>3</td>\n",
       "      <td>0.833333</td>\n",
       "      <td>3.5</td>\n",
       "    </tr>\n",
       "    <tr>\n",
       "      <th>1</th>\n",
       "      <td>F06m2yQSPHIrb1IT7heYeQ</td>\n",
       "      <td>4</td>\n",
       "      <td>0</td>\n",
       "      <td>1.000000</td>\n",
       "      <td>4.0</td>\n",
       "    </tr>\n",
       "    <tr>\n",
       "      <th>2</th>\n",
       "      <td>c_FTil8s5PS2l_YJDQAXhA</td>\n",
       "      <td>2</td>\n",
       "      <td>0</td>\n",
       "      <td>1.000000</td>\n",
       "      <td>4.0</td>\n",
       "    </tr>\n",
       "    <tr>\n",
       "      <th>3</th>\n",
       "      <td>vAbRNF0hJt91oCUpm_sdKw</td>\n",
       "      <td>3</td>\n",
       "      <td>1</td>\n",
       "      <td>0.750000</td>\n",
       "      <td>3.5</td>\n",
       "    </tr>\n",
       "    <tr>\n",
       "      <th>4</th>\n",
       "      <td>z8H4Mdzl4jS9pYswj6Jf9w</td>\n",
       "      <td>9</td>\n",
       "      <td>0</td>\n",
       "      <td>1.000000</td>\n",
       "      <td>3.5</td>\n",
       "    </tr>\n",
       "  </tbody>\n",
       "</table>\n",
       "</div>"
      ],
      "text/plain": [
       "              business_id  positive  negative  proportion  stars\n",
       "0  nsNONDHbV7Vudqh21uicqw        15         3    0.833333    3.5\n",
       "1  F06m2yQSPHIrb1IT7heYeQ         4         0    1.000000    4.0\n",
       "2  c_FTil8s5PS2l_YJDQAXhA         2         0    1.000000    4.0\n",
       "3  vAbRNF0hJt91oCUpm_sdKw         3         1    0.750000    3.5\n",
       "4  z8H4Mdzl4jS9pYswj6Jf9w         9         0    1.000000    3.5"
      ]
     },
     "execution_count": 209,
     "metadata": {},
     "output_type": "execute_result"
    }
   ],
   "source": [
    "server=pd.DataFrame(review_bind['business_id'])\n",
    "server['positive']=[0]*(len(review_bind))\n",
    "server['negative']=[0]*len(review_bind)\n",
    "server['proportion']=[np.nan]*len(review_bind)\n",
    "\n",
    "from collections import Counter\n",
    "\n",
    "for i in range(len(adj_server)):\n",
    "    if(len(adj_server[i]) != 0):\n",
    "        dictionary=Counter(adj_server[i])\n",
    "        for word in dictionary.keys():\n",
    "            if (word in dict_adj.keys()):\n",
    "                if (dict_adj[word] == 'positive'):\n",
    "                    server.iat[i,1]=server['positive'][i]+dictionary[word]\n",
    "                else:\n",
    "                    server.iat[i,2]=server['negative'][i]+dictionary[word]\n",
    "        server.iat[i,3]=server['positive'][i]/(server['positive'][i]+server['negative'][i])\n",
    "\n",
    "server['stars']=review_bind['stars']\n",
    "server.head()"
   ]
  },
  {
   "cell_type": "code",
   "execution_count": 210,
   "metadata": {},
   "outputs": [
    {
     "name": "stdout",
     "output_type": "stream",
     "text": [
      "2796\n",
      "363\n"
     ]
    }
   ],
   "source": [
    "print(np.sum(server['positive']))\n",
    "print(np.sum(server['negative']))"
   ]
  },
  {
   "cell_type": "code",
   "execution_count": 211,
   "metadata": {},
   "outputs": [
    {
     "data": {
      "text/html": [
       "<div>\n",
       "<style scoped>\n",
       "    .dataframe tbody tr th:only-of-type {\n",
       "        vertical-align: middle;\n",
       "    }\n",
       "\n",
       "    .dataframe tbody tr th {\n",
       "        vertical-align: top;\n",
       "    }\n",
       "\n",
       "    .dataframe thead th {\n",
       "        text-align: right;\n",
       "    }\n",
       "</style>\n",
       "<table border=\"1\" class=\"dataframe\">\n",
       "  <thead>\n",
       "    <tr style=\"text-align: right;\">\n",
       "      <th></th>\n",
       "      <th>proportion</th>\n",
       "      <th>stars</th>\n",
       "    </tr>\n",
       "  </thead>\n",
       "  <tbody>\n",
       "    <tr>\n",
       "      <th>proportion</th>\n",
       "      <td>1.000000</td>\n",
       "      <td>0.098419</td>\n",
       "    </tr>\n",
       "    <tr>\n",
       "      <th>stars</th>\n",
       "      <td>0.098419</td>\n",
       "      <td>1.000000</td>\n",
       "    </tr>\n",
       "  </tbody>\n",
       "</table>\n",
       "</div>"
      ],
      "text/plain": [
       "            proportion     stars\n",
       "proportion    1.000000  0.098419\n",
       "stars         0.098419  1.000000"
      ]
     },
     "execution_count": 211,
     "metadata": {},
     "output_type": "execute_result"
    }
   ],
   "source": [
    "server.loc[:,['proportion','stars']].corr()"
   ]
  },
  {
   "cell_type": "code",
   "execution_count": 212,
   "metadata": {},
   "outputs": [],
   "source": [
    "server.to_csv(\"server.csv\",index=False)"
   ]
  },
  {
   "cell_type": "markdown",
   "metadata": {},
   "source": [
    "## size"
   ]
  },
  {
   "cell_type": "code",
   "execution_count": 213,
   "metadata": {},
   "outputs": [],
   "source": [
    "adj_size=findadj('size',clean_text)"
   ]
  },
  {
   "cell_type": "code",
   "execution_count": 215,
   "metadata": {},
   "outputs": [
    {
     "name": "stderr",
     "output_type": "stream",
     "text": [
      "C:\\Users\\GAO ZEJIN\\Anaconda3\\lib\\site-packages\\ipykernel_launcher.py:17: RuntimeWarning: invalid value encountered in longlong_scalars\n"
     ]
    },
    {
     "data": {
      "text/html": [
       "<div>\n",
       "<style scoped>\n",
       "    .dataframe tbody tr th:only-of-type {\n",
       "        vertical-align: middle;\n",
       "    }\n",
       "\n",
       "    .dataframe tbody tr th {\n",
       "        vertical-align: top;\n",
       "    }\n",
       "\n",
       "    .dataframe thead th {\n",
       "        text-align: right;\n",
       "    }\n",
       "</style>\n",
       "<table border=\"1\" class=\"dataframe\">\n",
       "  <thead>\n",
       "    <tr style=\"text-align: right;\">\n",
       "      <th></th>\n",
       "      <th>business_id</th>\n",
       "      <th>positive</th>\n",
       "      <th>negative</th>\n",
       "      <th>proportion</th>\n",
       "      <th>stars</th>\n",
       "    </tr>\n",
       "  </thead>\n",
       "  <tbody>\n",
       "    <tr>\n",
       "      <th>0</th>\n",
       "      <td>nsNONDHbV7Vudqh21uicqw</td>\n",
       "      <td>5</td>\n",
       "      <td>3</td>\n",
       "      <td>0.625</td>\n",
       "      <td>3.5</td>\n",
       "    </tr>\n",
       "    <tr>\n",
       "      <th>1</th>\n",
       "      <td>F06m2yQSPHIrb1IT7heYeQ</td>\n",
       "      <td>0</td>\n",
       "      <td>1</td>\n",
       "      <td>0.000</td>\n",
       "      <td>4.0</td>\n",
       "    </tr>\n",
       "    <tr>\n",
       "      <th>2</th>\n",
       "      <td>c_FTil8s5PS2l_YJDQAXhA</td>\n",
       "      <td>0</td>\n",
       "      <td>0</td>\n",
       "      <td>NaN</td>\n",
       "      <td>4.0</td>\n",
       "    </tr>\n",
       "    <tr>\n",
       "      <th>3</th>\n",
       "      <td>vAbRNF0hJt91oCUpm_sdKw</td>\n",
       "      <td>2</td>\n",
       "      <td>0</td>\n",
       "      <td>1.000</td>\n",
       "      <td>3.5</td>\n",
       "    </tr>\n",
       "    <tr>\n",
       "      <th>4</th>\n",
       "      <td>z8H4Mdzl4jS9pYswj6Jf9w</td>\n",
       "      <td>1</td>\n",
       "      <td>0</td>\n",
       "      <td>1.000</td>\n",
       "      <td>3.5</td>\n",
       "    </tr>\n",
       "  </tbody>\n",
       "</table>\n",
       "</div>"
      ],
      "text/plain": [
       "              business_id  positive  negative  proportion  stars\n",
       "0  nsNONDHbV7Vudqh21uicqw         5         3       0.625    3.5\n",
       "1  F06m2yQSPHIrb1IT7heYeQ         0         1       0.000    4.0\n",
       "2  c_FTil8s5PS2l_YJDQAXhA         0         0         NaN    4.0\n",
       "3  vAbRNF0hJt91oCUpm_sdKw         2         0       1.000    3.5\n",
       "4  z8H4Mdzl4jS9pYswj6Jf9w         1         0       1.000    3.5"
      ]
     },
     "execution_count": 215,
     "metadata": {},
     "output_type": "execute_result"
    }
   ],
   "source": [
    "size=pd.DataFrame(review_bind['business_id'])\n",
    "size['positive']=[0]*(len(review_bind))\n",
    "size['negative']=[0]*len(review_bind)\n",
    "size['proportion']=[np.nan]*len(review_bind)\n",
    "\n",
    "from collections import Counter\n",
    "\n",
    "for i in range(len(adj_size)):\n",
    "    if(len(adj_size[i]) != 0):\n",
    "        dictionary=Counter(adj_size[i])\n",
    "        for word in dictionary.keys():\n",
    "            if (word in dict_adj.keys()):\n",
    "                if (dict_adj[word] == 'positive'):\n",
    "                    size.iat[i,1]=size['positive'][i]+dictionary[word]\n",
    "                else:\n",
    "                    size.iat[i,2]=size['negative'][i]+dictionary[word]\n",
    "        size.iat[i,3]=size['positive'][i]/(size['positive'][i]+size['negative'][i])\n",
    "\n",
    "size['stars']=review_bind['stars']\n",
    "size.head()"
   ]
  },
  {
   "cell_type": "code",
   "execution_count": 216,
   "metadata": {},
   "outputs": [
    {
     "name": "stdout",
     "output_type": "stream",
     "text": [
      "1217\n",
      "137\n"
     ]
    }
   ],
   "source": [
    "print(np.sum(size['positive']))\n",
    "print(np.sum(size['negative']))"
   ]
  },
  {
   "cell_type": "code",
   "execution_count": 217,
   "metadata": {},
   "outputs": [
    {
     "data": {
      "text/html": [
       "<div>\n",
       "<style scoped>\n",
       "    .dataframe tbody tr th:only-of-type {\n",
       "        vertical-align: middle;\n",
       "    }\n",
       "\n",
       "    .dataframe tbody tr th {\n",
       "        vertical-align: top;\n",
       "    }\n",
       "\n",
       "    .dataframe thead th {\n",
       "        text-align: right;\n",
       "    }\n",
       "</style>\n",
       "<table border=\"1\" class=\"dataframe\">\n",
       "  <thead>\n",
       "    <tr style=\"text-align: right;\">\n",
       "      <th></th>\n",
       "      <th>proportion</th>\n",
       "      <th>stars</th>\n",
       "    </tr>\n",
       "  </thead>\n",
       "  <tbody>\n",
       "    <tr>\n",
       "      <th>proportion</th>\n",
       "      <td>1.000000</td>\n",
       "      <td>0.000978</td>\n",
       "    </tr>\n",
       "    <tr>\n",
       "      <th>stars</th>\n",
       "      <td>0.000978</td>\n",
       "      <td>1.000000</td>\n",
       "    </tr>\n",
       "  </tbody>\n",
       "</table>\n",
       "</div>"
      ],
      "text/plain": [
       "            proportion     stars\n",
       "proportion    1.000000  0.000978\n",
       "stars         0.000978  1.000000"
      ]
     },
     "execution_count": 217,
     "metadata": {},
     "output_type": "execute_result"
    }
   ],
   "source": [
    "size.loc[:,['proportion','stars']].corr()"
   ]
  },
  {
   "cell_type": "code",
   "execution_count": 218,
   "metadata": {},
   "outputs": [],
   "source": [
    "size.to_csv(\"size.csv\",index=False)"
   ]
  },
  {
   "cell_type": "markdown",
   "metadata": {},
   "source": [
    "## food"
   ]
  },
  {
   "cell_type": "code",
   "execution_count": 219,
   "metadata": {},
   "outputs": [],
   "source": [
    "adj_food=findadj('food',clean_text)"
   ]
  },
  {
   "cell_type": "code",
   "execution_count": 220,
   "metadata": {},
   "outputs": [
    {
     "name": "stdout",
     "output_type": "stream",
     "text": [
      "[['u', 'birthday', 'good', 'delicious', 'excellent', 'long', 'amazing', 'dry', 'cellar', 'attentive', 'bad', 'bad', 'underquality', 'cellar', 'average', 'eclectic', 'memorable', 'wonderful', 'different', 'dent', 'romantic', 'great', 'upscale', 'good', 'bad', 'good', 'much', 'fabulous', 'attentive', 'good', 'much', 'anniversary', 'great', 'disappointed', 'sloppy', 'incredible', 'delicious', 'wonderful', 'eat', 'important', 'awesome', 'rich', 'good', 'good', 'enjoy', 'helpful', 'good', 'comfortable', 'great', 'bad', 'good', 'great', 'helpful', 'steak', 'mediocre', 'entree', 'fresh', 'excessive', 'fresh', 'good', 'nice', 'great', 'memorable', 'great', 'delight', 'terrible', 'quality', 'delicious', 'cellar', 'excitement', 'negative', 'great', 'great', 'great', 'table', 'good', 'overall', 'phoenix', 'goodness', 'knowledgeable', 'great', 'bad', 'bad', 'much', 'amazing', 'amazing', 'not_ordering', 'great', 'enjoyable', 'not_private', 'wildfish', 'awesome', 'good', 'good', 'ordinary', 'good', 'hard', 'excellent', 'superlative', 'saladthe', 'expensive', 'awesome', 'courteous', 'underground', 'great', 'great', 'fresh', 'good', 'attentive', 'wonderful', 'excellent', 'delicious', 'great', 'excellent', 'great', 'good', 'horrible', 'overall', 'good', 'good', 'favorite', 'amazing', 'oh', 'much', 'good', 'much', 'extensive', 'slow', 'inedible', 'wonderful', 'plenty', 'dreary'], ['chinese', 'cantonese', 'cantonese', 'chinese', 'professional', 'chinese', 'chinese', 'cantonese', 'plenty', 'chinese', 'chinese', 'chinese', 'pro', 'chinese', 'expensive', 'chinese', 'consistent', 'chinese', 'clean', 'chinese', 'chinese', 'chinese', 'fine', 'asian', 'chinese', 'knowledgeable', 'chinese', 'great', 'chinese', 'chinese', 'chinese', 'cantonese', 'chinese', 'chinese', 'chinese', 'delicious', 'chinese', 'delicious', 'chinese', 'chinese', 'chinese', 'chinese', 'authentic', 'great', 'good', 'chinese', 'likely', 'chinese', 'chinese', 'give', 'likely', 'delicious', 'great', 'chinese', 'much', 'cantonese', 'chinese', 'chinese', 'chinatown', 'chinese', 'chinese', 'great', 'chinese', 'chinese', 'great', 'chinese', 'clean', 'chinese', 'good', 'chinese', 'chinese', 'chinese'], ['great', 'much', 'pricey', 'delicious', 'great', 'incredible', 'fantastic', 'prepared', 'great'], ['fantabulous', 'great', 'great', 'good', 'nice', 'not_give', 'good', 'wonderful', 'special', 'poor', 'friendly', 'give', 'big', 'friendly', 'fresh', 'overall'], ['italian', 'italian', 'delicious', 'wonderful', 'knowledgeable', 'good', 'overall', 'great', 'great', 'italian', 'italian', 'bad', 'creative', 'delicious', 'simple', 'excellent', 'half', 'helpful', 'phenomenal', 'incredible', 'knowledgeable', 'early', 'good', 'delicious', 'fantastic', 'italian', 'dish', 'consistent', 'excellent', 'good', 'italian', 'great', 'italian', 'disappointing', 'good', 'delightful', 'busy', 'great', 'impeccable', 'amazing', 'italian', 'mine', 'fresh', 'italian', 'nice', 'incredible', 'good', 'waitress', 'italian', 'italian', 'italian', 'ok', 'much', 'italian', 'italian', 'small', 'attentive', 'good', 'impeccable', 'bad'], ['excellent', 'friendly', 'great', 'luck', 'mexican', 'good', 'great', 'nice', 'salsa', 'mexican', 'mexican', 'average', 'good', 'delicious', 'mexican', 'excellant', 'great', 'mexican', 'great', 'favorite', 'great', 'mexican', 'first', 'great', 'attentive', 'mexican', 'great', 'great', 'wonderful', 'wonderful', 'mexican', 'good', 'nice', 'great', 'good', 'complaint', 'good', 'mexican', 'fresh', 'mexican', 'tasty', 'sure', 'fourteen', 'mexican', 'reality', 'mexican', 'mexican', 'u', 'mexican'], ['pleasant', 'great', 'courteous', 'good', 'friendly', 'plenty', 'delicious', 'great', 'great', 'outstanding', 'authentic', 'great', 'stole', 'good', 'great', 'restaurant', 'asian', 'good', 'flavorful', 'authentic', 'picky', 'thai', 'thai', 'great', 'great', 'healthy', 'not_do', 'good', 'great', 'good', 'great', 'good', 'fresh', 'right', 'much', 'bad', 'different', 'terrible', 'incredible', 'chinese', 'good', 'good', 'good', 'great', 'great', 'good', 'thai', 'great', 'overall', 'restaurant', 'delicious', 'thai', 'excellent', 'great', 'good', 'good', 'good', 'good', 'davidson', 'second', 'thai', 'fabulous', 'good', 'great', 'good', 'thai', 'great', 'great', 'different', 'good', 'awesome', 'excellent', 'fresh', 'tasty', 'good', 'fast', 'good', 'u', 'sure', 'delicious', 'good', 'inexpensive', 'not_make', 'thai', 'incredible', 'delicious', 'show', 'place', 'fantastic', 'excellent'], ['friendly', 'table', 'worth', 'touchig', 'great', 'little', 'good', 'liked', 'clean', 'good', 'good', 'delicious', 'japanese', 'japanese', 'japanese', 'plenty', 'helpful', 'great', 'awesome', 'good', 'simple', 'full', 'nice', 'good', 'available', 'great', 'pick', 'japanese', 'great', 'japanese', 'great'], ['good', 'flavorful', 'great', 'good', 'great', 'great', 'enjoy', 'horrible', 'not_happy', 'pleased', 'pricey', 'stale', 'great', 'good', 'decent', 'average', 'comp', 'not_bad', 'good', 'write', 'warmth', 'pleasant', 'great', 'good', 'real', 'fast', 'bad', 'saturday', 'great', 'great', 'greasy'], ['great', 'wrong', 'important', 'overall', 'old', 'overall', 'much', 'hot', 'not_just', 'u', 'helpful', 'great', 'overall'], ['pricey', 'bunch', 'cooky', 'delicious', 'delicious', 'southern', 'fantastic', 'ok', 'delicious', 'small', 'quick', 'great', 'compare', 'cajuncreole', 'incredible', 'great', 'great', 'good', 'decent', 'quality', 'excellent', 'wonderful', 'plenty', 'nola', 'great', 'good', 'good', 'great', 'delicious', 'good', 'great', 'great', 'sandwich'], ['great', 'many', 'fanatic', 'good', 'much', 'great', 'table', 'u', 'long', 'want', 'drink', 'good', 'great', 'overall', 'nice', 'dish'], ['chinese', 'great', 'great', 'great', 'impressed', 'happy', 'overall', 'hot', 'not_busy', 'good', 'local', 'downtown', 'fresh', 'empty'], ['friendly', 'great', 'good', 'good', 'good', 'unique', 'good', 'great', 'worth', 'delicious', 'ran', 'great', 'good'], ['delectable', 'beautiful', 'orgasmic', 'durant', 'good', 'japanese', 'delicious', 'good', 'fresh', 'several', 'poor', 'authentic', 'focus', 'nature', 'attentive', 'japanese', 'sushisashimijapanese', 'great', 'different', 'cantonese', 'great', 'next', 'phenomenal', 'great', 'japanese', 'great', 'japanese', 'great', 'japanese', 'much', 'asian', 'attentive', 'novel', 'delicious', 'japanese', 'right', 'japanese', 'japanese', 'new', 'whole', 'japanese', 'fabulous', 'japanese', 'incredible', 'opposite', 'excellent', 'great', 'japanese', 'manhattan', 'attractive', 'great'], ['chinese', 'minute', 'bun', 'seat', 'taiwanese', 'sure', 'taiwanese', 'good', 'korean', 'taiwanese', 'great', 'taiwanese', 'chinese', 'taiwanese', 'chinese', 'excellent', 'asian', 'good', 'great', 'outstanding', 'great', 'chinese', 'tasty', 'asian', 'chinese', 'chinese', 'chinese', 'chinese', 'taiwanese', 'chinese', 'chinese', 'taiwanese', 'freaky', 'taiwanese', 'taiwanese', 'friendly', 'disappointing', 'noodle', 'taiwanese', 'not_just', 'chinese', 'taiwanese', 'taiwanese', 'excellent', 'cordial', 'restaurant', 'chinese', 'taiwanese', 'good', 'good', 'asian', 'chinese', 'difficult', 'taiwanese', 'average', 'taiwanese', 'asian', 'taiwanese', 'good', 'taiwanesechinese', 'ethnic', 'chinese', 'traditional', 'americanizedasian', 'taiwaneseasian', 'excellent', 'original', 'delicious', 'awesome', 'taiwanese', 'good', 'asian', 'chinese', 'average', 'chinesetaiwanese', 'great', 'excellent', 'hard', 'nice', 'asian', 'delicious', 'enthusiastic', 'good', 'taiwanesechinese', 'taiwanese', 'unbeatable', 'fresh', 'sublime', 'taiwanese', 'chinese', 'great', 'dish', 'authentic', 'chinese', 'taiwanese', 'good', 'chinese', 'delicious', 'eggplant', 'asian', 'delicious', 'asian', 'taiwanese', 'taiwanese', 'good', 'taiwanese', 'taiwanese', 'american', 'great', 'much', 'efficient', 'consistent', 'possible', 'good', 'nice', 'great', 'chinesetaiwanese', 'forgotten', 'chinese', 'ok', 'taiwanese', 'chinese', 'chinese', 'chinese'], ['u', 'delicious', 'bad', 'top', 'quality', 'good', 'enough', 'establishment', 'great', 'great', 'fresh', 'nice', 'great', 'mexican', 'great', 'u', 'excellent', 'bad', 'exceptional', 'efficient', 'great', 'quick', 'excellent', 'good', 'good', 'brilliant', 'authentic', 'great', 'busy', 'fantastic', 'helpful', 'enough', 'bad', 'great', 'prompt', 'delicious', 'great', 'bad', 'fancy', 'red', 'asian', 'asian', 'amazing', 'great', 'great', 'top', 'gnat', 'disappointed', 'free', 'delicious', 'nice', 'great', 'ive', 'great', 'good', 'bad', 'asian', 'great', 'asian', 'good', 'efficient', 'good', 'fresh', 'delightful', 'nice', 'good', 'uncomfortable', 'excellent', 'busy', 'outstanding', 'much', 'solid', 'fake', 'mall', 'wrong', 'great', 'good', 'outstanding', 'great', 'u', 'excellent', 'yummy', 'much', 'great', 'smile', 'new', 'tasty', 'great', 'delicious', 'reasonable', 'menu', 'personal', 'helpful', 'nice', 'delicious', 'funny', 'excellent', 'delicious', 'reasonable', 'memorable', 'quiet', 'fresh', 'japanese', 'great', 'server', 'italian', 'great', 'friendly', 'amazing', 'wonderful', 'delicious', 'great', 'japanese', 'delicious', 'attentive', 'great', 'awesome', 'japanese', 'favorite', 'much', 'delicious', 'great', 'free', 'awesome', 'good', 'asian', 'good', 'quick', 'good', 'fresh', 'sick', 'aware', 'many', 'great', 'knowledgeable', 'good', 'lunch', 'unpretentious', 'ran', 'superior', 'good', 'average', 'overall', 'excellent'], ['basic', 'special', 'ok', 'great', 'good', 'appetizer', 'little', 'excellent', 'great', 'disappointed', 'average', 'first', 'due', 'eat', 'server', 'great', 'great', 'dish', 'little', 'horrible', 'much', 'excellent', 'cool', 'sure', 'great', 'awful', 'excellent', 'great', 'great', 'standard', 'main', 'sure', 'disappointed', 'hostess', 'table', 'disappointed', 'wish', 'good', 'extraordinary', 'overall', 'great', 'good', 'several', 'special', 'wonderful', 'good', 'fun', 'delicious', 'good', 'terrible', 'great', 'actual', 'delicious', 'stay', 'delicious', 'great', 'not_care', 'great', 'horrible', 'fabulous', 'great', 'uninspired', 'mall', 'good', 'great', 'delish', 'delicious', 'overall', 'indifferent', 'napa', 'know', 'overall', 'fantastic', 'attentive', 'great', 'good', 'overall', 'good', 'delicious', 'good', 'great', 'angel', 'fantastic', 'phenomenal', 'great', 'update', 'good', 'excessive', 'great', 'second', 'predict', 'sure', 'terrific', 'much', 'great', 'great', 'overall', 'good', 'chinese', 'enjoyable', 'pricey', 'good', 'wrong', 'unbelievable', 'great', 'good', 'disappointed', 'worth', 'acceptable', 'give', 'sustainable', 'attentive', 'ask', 'brilliant', 'overall', 'sustainable', 'wish', 'ok', 'expensive', 'good', 'high', 'accompany', 'wrong', 'attentive', 'bad', 'ambitious', 'great', 'good', 'impressed', 'table', 'great', 'important', 'overall', 'nice', 'great', 'light', 'funny', 'fine', 'not_for', 'great', 'horrible', 'average', 'good', 'mediocre', 'mediocre', 'incredible', 'bad', 'good', 'okay', 'fantastic', 'good', 'good', 'impressive', 'good', 'awesome', 'expensive', 'establishment', 'good', 'treat', 'boo', 'happy', 'clean', 'good', 'creative', 'stick', 'fancy', 'great', 'wonderful', 'u', 'good', 'lunch', 'not_elevate', 'dead', 'memorable', 'good', 'wrong', 'overall', 'expensive', 'not_regret', 'ask', 'hungry', 'great', 'good', 'good', 'hot', 'much', 'great', 'good', 'good', 'asian', 'half', 'great', 'good', 'good', 'open', 'fifty', 'good', 'speechless', 'impeccable', 'outstanding', 'excellent', 'good', 'culinary', 'great', 'not_mention', 'good', 'great', 'good', 'chewy', 'upscale', 'great', 'overall', 'complimentary', 'excellent', 'overall', 'excellent', 'fantastic', 'great', 'impeccable', 'good', 'good', 'casual', 'extraordinary', 'tasty', 'great', 'fantastic', 'special', 'u', 'insane', 'great', 'impressed', 'bad', 'sure', 'overall', 'sustainable', 'wonderful', 'stickler', 'special'], ['clean', 'good', 'hot', 'impressive', 'friendly', 'great', 'new', 'nice', 'american', 'chinese', 'chinese', 'sick', 'wonderful', 'nice', 'disappointed', 'expensive', 'modern', 'hot', 'enough', 'table', 'sunday', 'great', 'asian', 'asian', 'good', 'jogoyas', 'chinese', 'luv', 'decent', 'fresh', 'chinese', 'gross', 'happy', 'good', 'bar', 'hot', 'good', 'asian', 'attentive', 'overall', 'healthy', 'not_busy', 'nice', 'free', 'asian', 'much', 'chinese', 'chinese', 'next', 'cold', 'horrible', 'healthy', 'warm', 'u', 'u', 'raw', 'clean', 'excellent', 'good', 'good', 'hot', 'hot', 'type', 'chinese', 'much', 'asian', 'chinese', 'good', 'strong', 'chinese', 'different', 'chinese', 'le', 'busy', 'hot', 'chinese', 'lukewarm', 'not_much', 'clean'], ['attractive', 'good', 'staleness', 'good', 'good', 'buffet', 'great', 'high', 'good', 'excellent', 'favorite', 'good', 'good', 'good', 'much', 'chinese', 'much', 'hot', 'good', 'swear', 'different', 'delicious', 'entire', 'great', 'chinese', 'asian', 'wrong', 'delicious', 'overall', 'vega', 'worth', 'crustacean', 'expensive', 'dirty', 'wrong', 'extra', 'chinese', 'great', 'true', 'want', 'sure', 'hot', 'monitor', 'different', 'chinese', 'wait', 'stale', 'chinese', 'good', 'great', 'poor', 'unlabeled', 'overall', 'huge', 'worth', 'not_take', 'hot', 'not_late', 'high', 'consume', 'like', 'mexican', 'asian', 'vega', 'much', 'delicious', 'good', 'good', 'good', 'establishment', 'good', 'hot', 'chinese', 'good', 'dry', 'average', 'empty', 'exquisite', 'perfect', 'good', 'upscale', 'great', 'much', 'different', 'mexican', 'cheap', 'much', 'much', 'available', 'good', 'much', 'raw', 'good', 'fresh', 'favorite', 'attentive', 'worth', 'chinese', 'fourteen', 'asian', 'chinese', 'mexican', 'certain', 'sick', 'asian', 'hot', 'worth', 'elsethe', 'actual', 'not_for', 'simultaneous', 'buffet', 'excellent', 'great', 'not_tasty', 'unsatisfied', 'ethnic', 'much', 'hot', 'forth', 'horrible', 'new', 'disappointed', 'good', 'good', 'real', 'great', 'subpar', 'chinese', 'mexican', 'chinese', 'good', 'hot', 'type', 'great', 'real', 'good', 'free', 'good', 'type', 'much', 'much', 'many', 'many', 'buffet', 'hot', 'great', 'beautiful', 'say', 'overall', 'crappy', 'horrible', 'thirsty', 'fresh', 'ethnic', 'good', 'regular', 'delicious', 'ace', 'alternative', 'table', 'enjoyable', 'bad', 'good', 'hot', 'chinese', 'not_eat', 'mexican', 'expensive', 'local', 'asian', 'different', 'chinese', 'asian', 'great', 'american', 'italian', 'asian', 'dish', 'eastern', 'prime', 'horrible'], ['interested', 'great', 'healthy', 'good', 'busy', 'mexican', 'great', 'great', 'good', 'california', 'long', 'great', 'cool', 'great', 'awhile', 'good', 'great', 'fantastic', 'great', 'new', 'clean', 'good', 'great', 'decent', 'healthy', 'poor', 'mexican', 'great', 'great', 'fast', 'mexican', 'great', 'great', 'freshness', 'complete', 'u', 'impressed', 'good', 'different', 'overall', 'good', 'disappointment', 'underwhelming', 'sad', 'elated', 'bite', 'shitty', 'healthyish', 'fresh', 'awesome', 'good', 'basic', 'mexican', 'great', 'sure', 'attentive', 'good', 'hot', 'wahoo', 'sigh', 'good', 'solid', 'julie', 'awesome', 'horrible', 'great', 'shot', 'mexican', 'nice', 'pricey', 'minute', 'friendly', 'cheap', 'horrible', 'delicious', 'mexican', 'good', 'hot', 'lamp', 'tasty', 'awesome', 'good', 'great', 'healthy', 'delicious', 'spot', 'fresh', 'fresh', 'great', 'fresh', 'great', 'easy', 'good', 'great', 'great', 'flavorful'], ['norleansstyle', 'good', 'great', 'cajun', 'great', 'great', 'louisiana', 'horrible', 'disappoint', 'great', 'great', 'good', 'good', 'attentive', 'great', 'attentive', 'southern', 'busy', 'clean', 'huge', 'great', 'great', 'cajun', 'flavorful', 'authentic', 'good', 'great', 'great', 'good', 'great', 'good', 'generous', 'fabulous', 'good'], ['overall', 'u', 'bad', 'helpful', 'good', 'different', 'excellent', 'real', 'happy', 'much', 'adequate', 'excellent', 'good', 'full', 'kinda'], ['hot', 'healthy', 'not_get', 'great', 'delicious', 'good', 'delicious', 'friendly', 'great', 'new', 'delicious', 'new', 'good'], ['great', 'great', 'flavorful', 'affordable', 'summerlicious', 'great', 'great', 'disappointed', 'several', 'enough', 'excellent', 'tasty', 'perfect', 'good', 'trendy', 'actual', 'good', 'bad', 'noisy', 'decent', 'cheese', 'u', 'great', 'impersonal', 'u', 'hostess', 'happy', 'table', 'uninteresting', 'eat', 'give', 'excellent', 'bunch', 'rundown', 'much', 'great', 'great', 'good'], ['chinese', 'bad', 'good', 'good', 'great', 'place', 'chinese', 'chinese', 'good', 'dangerous', 'chinese', 'asian', 'chinese', 'aisle', 'chinese', 'great', 'horrible', 'slow', 'laughable', 'cheap', 'chinese', 'chinese', 'chinese', 'good', 'chinese', 'cheap', 'quality', 'good', 'cheap', 'cheap', 'good', 'chinese', 'chinese', 'know', 'chinese', 'decent', 'good', 'worth', 'decent', 'top', 'chinese', 'decent', 'chinese', 'actual', 'overall', 'good', 'authentic', 'great', 'name', 'quick', 'not_much', 'chinese', 'forgettable', 'dish', 'chinese', 'good', 'solid', 'reasonable', 'quick', 'chinese', 'aggressive', 'chinese', 'ate', 'much', 'chinese', 'exact', 'chinese', 'average', 'type', 'free', 'cut', 'table', 'ridiculous', 'cheap', 'gross', 'chinese', 'good', 'great', 'excellent', 'tasty', 'surprised', 'fair', 'horrible', 'chinese', 'good', 'common', 'expensive', 'terrible', 'great', 'lol', 'asian', 'wait', 'chinese', 'canadian', 'table', 'decent', 'housekitchen', 'resturant', 'jan'], ['great', 'lunch', 'delicious', 'wonderful', 'tasty', 'empty', 'excellent', 'good', 'awesome', 'thai'], ['friendly', 'good', 'fantastic', 'cajun', 'pick', 'delicious', 'tasty', 'vietnamese', 'bad', 'good', 'not_feelin', 'wrong', 'good', 'ate', 'july'], ['gourmet', 'forth', 'bad', 'fifteen', 'long', 'u', 'terrible', 'horrible', 'frozen', 'frozen', 'prepare', 'hot', 'not_imagine', 'fast', 'bad', 'frozen', 'good', 'good', 'fine', 'bad', 'unpalatable', 'fry', 'pescetarian', 'fast'], ['good', 'plenty', 'establishment', 'chinese', 'understaffed', 'expensive', 'chinese', 'great', 'great', 'big', 'good', 'table', 'multitude', 'chinese', 'much', 'plenty', 'arrive', 'great', 'table', 'overall', 'good', 'chinese', 'fool', 'nostalgic', 'arrival'], ['good', 'good', 'portuguese', 'artistic', 'excellent', 'chiado', 'delicious', 'stellar', 'unbelievable', 'short', 'u', 'excellent', 'good', 'delicious', 'wrong', 'settle', 'favourite', 'impressed', 'portuguese', 'top', 'great', 'great', 'not_bad', 'portuguese', 'wonderful', 'good', 'full', 'summerlicious', 'worth', 'delicious', 'wine', 'peasant', 'touch', 'yummy', 'enough', 'portuguese', 'compete'], ['good', 'skip', 'good', 'good', 'good', 'delicious', 'good'], ['cajun', 'good', 'lot', 'interactive', 'great', 'summary', 'little', 'creole', 'good', 'good', 'wonderful', 'excellent', 'fantastic', 'great', 'excellent', 'good', 'delicious', 'negative', 'great', 'little', 'great', 'good', 'overall', 'summerlicious', 'delicious', 'good', 'excellent', 'favorite', 'knowledgeable', 'stellar', 'impressed', 'average'], ['good', 'free', 'great', 'carry', 'great', 'special', 'rl', 'favorite', 'iffy', 'great', 'busy', 'decent', 'great', 'perfect', 'nice', 'delicious', 'empty', 'u', 'p'], ['good', 'good', 'thai', 'thai', 'favorite', 'thai', 'thai', 'minute', 'great', 'slow', 'good', 'thai', 'fabulous', 'good', 'awesome', 'great', 'not_impressed', 'long', 'yummy', 'pleasant', 'good', 'good', 'excellent', 'great', 'great', 'marginal', 'good', 'complete', 'unpretentious', 'ok', 'tasty', 'summary', 'great', 'good', 'sauce', 'slow', 'asianamerican', 'great', 'busy', 'arrive', 'great', 'good', 'hot', 'artistic', 'fantastic', 'airplane', 'sure', 'u', 'great', 'favorite', 'good', 'standard', 'dive', 'different', 'ethic', 'phoenix', 'delicious', 'excellent', 'good', 'good', 'great', 'delicious', 'know', 'great', 'good', 'good', 'thai', 'impressed', 'great', 'decent', 'helpful', 'thai', 'good', 'right', 'due', 'good', 'routine', 'asian', 'thai', 'great', 'fresh', 'yummy', 'favorite', 'happy', 'asian', 'delicious', 'great', 'dive', 'overall', 'great', 'attentive', 'minimal', 'attentive', 'good', 'overall', 'busy', 'good', 'thai', 'great', 'east', 'good', 'delicious', 'good', 'good', 'good', 'mexican', 'tasty', 'great', 'thai', 'great', 'amazing', 'hot', 'narrow', 'good', 'thai', 'thai', 'alive', 'not_the', 'loud', 'delicious', 'thai', 'enough', 'table', 'top', 'good', 'thai', 'u', 'asian', 'overall', 'great', 'great', 'dive', 'pleasant', 'thai', 'wonderful', 'sure', 'good', 'excellent', 'excellent', 'great', 'receive', 'great', 'great', 'u', 'happy', 'wrong', 'good', 'thai', 'busy', 'great', 'good', 'overall', 'great', 'patient', 'thursday', 'great', 'attentive', 'delicious', 'top', 'good', 'awesome', 'mexican', 'thai', 'poor', 'good', 'great'], ['chinese', 'pleased', 'chinese', 'chinese', 'much', 'good', 'good', 'chinese', 'asian', 'chinese', 'u', 'good', 'good', 'chinese', 'overall', 'good', 'chinese', 'imo', 'chinese', 'quick', 'good', 'good', 'asian', 'frenchitalian', 'little', 'fresh', 'chinese', 'good', 'chinese', 'good', 'chinese', 'authentic', 'overall', 'cantonese', 'chinese', 'awesome', 'excellent', 'full', 'great', 'late', 'reasonable', 'chinese', 'good', 'chinese', 'good', 'chinese', 'good', 'much', 'chinese', 'good', 'chinese', 'disappointed', 'chinese', 'eat', 'helpful', 'good', 'chinese', 'chinese', 'u', 'much', 'great', 'good', 'authentic', 'guess', 'chinese', 'free', 'delicious', 'chinese', 'not_happy', 'chinese', 'chinese', 'reasonable', 'great', 'good', 'overall', 'chinese', 'chinese', 'chinese', 'chinese', 'u', 'disappointed', 'good', 'much', 'chinese', 'chinese', 'chinese', 'gelatinous', 'italian', 'mexican', 'chinese', 'asian', 'chinese', 'good', 'great', 'great', 'chinese', 'chinese', 'chinese', 'wok', 'u', 'type', 'chinese', 'ethnic', 'chinese', 'horrible', 'mexican', 'awesome', 'free', 'chinese', 'delicious', 'chinese', 'hr', 'u', 'chinese', 'chinese', 'authentic', 'chinese', 'chinese', 'refill', 'chinese', 'chinese', 'excellent', 'chinese', 'chinese', 'ethic', 'chinese', 'chinese', 'asian', 'good', 'bite', 'chinese', 'chinese', 'asian', 'much', 'asian', 'bad', 'cold', 'fast', 'poor', 'chinese', 'awesome', 'late', 'chinese', 'chinese', 'fabulous', 'great', 'overall', 'authentic', 'great', 'wall', 'chinese', 'chinese', 'great', 'chinese', 'sum', 'good', 'authentic', 'asian', 'stare', 'enough', 'chinese', 'chinese', 'terrible', 'frozen', 'straight', 'chinese', 'chinese', 'chinese', 'vega', 'decent', 'chinese', 'chinese', 'good', 'boxed', 'bad', 'sad', 'many', 'chinese', 'chinese', 'little', 'authentic', 'ok', 'familiar', 'busy', 'chinese', 'chinese', 'chinese', 'yummy', 'bad', 'fresh', 'old', 'chinese', 'wait', 'chinese', 'old', 'chinese', 'chinese', 'asian', 'good', 'asian', 'chinese', 'plate', 'cantonese', 'chinese', 'good', 'greasy', 'old', 'curious', 'chinese', 'chinese', 'u', 'good', 'great', 'chinese', 'dish', 'good', 'chinese', 'noodle', 'chinese', 'huge', 'delicious', 'chinese', 'chinese', 'perfect', 'low', 'chinese', 'full', 'chinese', 'impressed', 'chinese', 'huge', 'hot', 'good', 'chinese', 'chinese', 'chinese', 'great', 'flag', 'attentive', 'chinese', 'special', 'leaf', 'different', 'excellent', 'chinese', 'chinese', 'not_return', 'perfect', 'chinese', 'ethnic', 'little', 'excellent', 'chinese', 'disappointed', 'vega', 'table', 'oh', 'english', 'chinese', 'replenish', 'slow', 'chinese', 'chinese', 'bad', 'cart', 'chinese', 'good', 'chinese', 'horrible', 'great', 'good', 'good', 'chinese', 'enough', 'chinese', 'chinese', 'chinese', 'chinese', 'chinese', 'friendly', 'overall', 'seafood', 'delicious', 'chinese', 'chinese', 'chinese', 'chinese', 'chinese', 'chinese', 'chinese', 'chinese', 'small', 'not_just', 'great', 'good', 'chinese', 'friendly', 'chinese', 'knowledgeable', 'much', 'chinese', 'chinese', 'chinese', 'chinese', 'surprised', 'promising', 'many', 'asian', 'great', 'chinese', 'chinese', 'overall', 'good', 'asian', 'favorite', 'miss', 'delicious', 'great', 'chinese', 'delicious', 'sure', 'reasonable', 'chinese', 'chinese', 'chinese', 'restaurant', 'great', 'cantonese', 'thursday', 'chinese', 'mixed', 'chinese', 'chinese', 'cantonese', 'chinese', 'great', 'chinese', 'great', 'oriental', 'chinese', 'amazing', 'chinese', 'chinese', 'great', 'good', 'chinese', 'table', 'chinese', 'chinese', 'great', 'cantonese', 'chinese', 'chinese', 'american', 'chinese', 'sure', 'white', 'chinese', 'chinese', 'pong', 'chinese', 'chinese', 'plenty', 'chinese', 'cheap', 'chinese', 'chinese', 'delicious', 'understand', 'u', 'ok', 'great', 'various', 'various', 'different', 'enough', 'chinese', 'great', 'open'], ['exceptional', 'dish', 'greek', 'special', 'greek', 'greek', 'awesome', 'greek', 'similar', 'exact', 'u', 'outstanding', 'greek', 'attentive', 'nice', 'nice', 'upscale', 'greek', 'whole', 'greek', 'greek', 'friendly', 'excellent', 'delicious', 'greek', 'fresh', 'greek', 'happy', 'finish', 'great', 'special', 'hard', 'great', 'great', 'great', 'nice', 'want', 'greek', 'great', 'greek', 'eat', 'u', 'great', 'good', 'greek', 'excellent', 'knowledgeable', 'scoop', 'overall', 'excellent', 'greek', 'good', 'whole', 'prepared', 'greek', 'good', 'greek', 'good', 'nice', 'healthy', 'perfect', 'greek', 'greek', 'good', 'delicious', 'prepared', 'greek', 'great', 'sufficient', 'helpful', 'wrong', 'u', 'good', 'extra', 'flavorful', 'memorable', 'good', 'fresh', 'greek', 'overall', 'mediterranean', 'great', 'greek', 'greek', 'good', 'greek', 'great', 'greek', 'much', 'good', 'good', 'excellent', 'nice', 'greek', 'great', 'fresh', 'regard', 'good', 'greek', 'mediterranean', 'greek', 'raw', 'excellent', 'empty', 'greek', 'great', 'great', 'simple', 'simple', 'great', 'fresh', 'u', 'great', 'anniversary', 'amazing', 'glacial', 'great', 'not_crazy', 'greek', 'whole', 'great', 'wonderful', 'great', 'greek', 'write', 'cultural', 'passion', 'chic', 'u', 'great', 'fresh', 'comparable', 'greek', 'greek', 'wonderful', 'excellent', 'top', 'actual', 'sample', 'excellent', 'good', 'good', 'good', 'quality', 'greek', 'excellent', 'great', 'nice', 'vega', 'excellent', 'greek', 'good', 'good', 'expensive', 'greek', 'upgrade', 'fresh', 'next', 'good', 'great', 'mediterranean', 'much', 'basic', 'fantastic', 'incredible', 'real', 'delicious', 'attentive', 'greek', 'great', 'great', 'special', 'delicious', 'special', 'expensive', 'fantastic', 'great', 'good', 'greek', 'great', 'average', 'delicious', 'vega', 'impeccable', 'greek', 'unbelievable', 'vouch', 'new', 'extraordinary', 'alright', 'familiar', 'greek', 'saturday', 'greek', 'first', 'reasonable', 'quality', 'greek', 'great', 'full', 'impeccable', 'flavorfreshness', 'fresh', 'organic', 'todd', 'good', 'exceptional', 'delicious', 'excellent', 'greek', 'greek', 'great', 'great', 'efficient', 'good', 'receive', 'delicious', 'amazing', 'great', 'excellent', 'great', 'average', 'greek', 'greek', 'overall', 'amazing', 'good', 'right', 'eclectic', 'delicious', 'vague', 'insufficient', 'great', 'greek', 'friendly', 'restaurant', 'enough', 'enough', 'accurate', 'amazing', 'fantastic', 'bad', 'greek', 'greek', 'delicious', 'expensive', 'amazing', 'not_creative', 'greek', 'vega', 'type', 'antibiotic', 'fresh', 'serious', 'amazing', 'impressed', 'greek', 'expensive', 'special', 'impeccable', 'fresh', 'healthy'], ['vega', 'nice', 'chinese', 'asian', 'chinese', 'chinese', 'chinese', 'exceptional', 'chinese', 'noodle', 'disappointed', 'happy', 'delicious', 'chinese', 'good', 'chinese', 'extra', 'chinese', 'overall', 'great', 'good', 'chinese', 'nice', 'chinese', 'hot', 'great', 'u', 'chinese', 'tasty', 'chinese', 'new', 'cantonese', 'clean', 'comfortable', 'chinese', 'overall', 'great', 'szechuan', 'chinese', 'asian', 'cold', 'fresh', 'chinese', 'chinese', 'good', 'chinese', 'decent', 'great', 'chinese', 'chinese', 'clean', 'awesome', 'chinese', 'not_chinese', 'chinese', 'good', 'bad', 'awesome', 'chinese', 'principal', 'chinese', 'chinese', 'chinese', 'chinese', 'chinese', 'chinese', 'much', 'good', 'excellent', 'chinese', 'chinese', 'clean', 'u', 'special', 'healthy', 'filthy', 'chinese', 'wgarlic', 'clean', 'chinese', 'fantastic', 'general', 'different', 'chinese', 'delicious', 'empty', 'organic', 'chinese', 'chinese', 'good', 'asian', 'attentive', 'chinese'], ['enthusiastic', 'great', 'healthy', 'mexican', 'mexican', 'fresh', 'great', 'good', 'bad', 'great', 'great', 'excellent', 'cheap', 'healthy', 'great', 'good', 'tasty', 'good', 'pleasant', 'good', 'mexican', 'waited', 'great', 'mexican', 'fresh', 'good', 'great', 'big', 'vega', 'u', 'great', 'tasty', 'great', 'not_received', 'clean', 'top', 'good', 'fast', 'establishment', 'mexican', 'good', 'miss', 'worth', 'fast', 'black', 'great', 'outstanding', 'ok', 'comp', 'sure', 'healthy', 'great', 'fresh', 'inexpensive', 'great', 'fantastic', 'good', 'great', 'good', 'junior', 'mexican', 'regular', 'togo', 'great', 'wahoo', 'okay', 'good', 'excellent', 'fresh', 'good', 'good', 'good', 'healthy', 'lady', 'great', 'not_come', 'healthy', 'fresh', 'good', 'great', 'great', 'good', 'tashia'], ['great', 'good', 'bad', 'good', 'japanese', 'japanese', 'poor', 'japanese', 'stuff', 'worth', 'japanese', 'old', 'great', 'pleased', 'japanese', 'impressed', 'finish', 'large', 'fabulous', 'japanese', 'cheap', 'japanese', 'japanese', 'good', 'good', 'table', 'good', 'bad', 'japanese', 'japanese', 'japanese', 'japanese', 'japanese', 'japanese', 'japanese', 'cheap', 'good', 'great', 'reasonable', 'japanese', 'japanese', 'japanese', 'japanese', 'asian', 'good', 'udon', 'decent', 'japanese', 'japanese', 'japanese', 'japanese', 'pleased', 'delicious', 'fresh', 'miss', 'good', 'great', 'japanese', 'japanese', 'japanese', 'japanese', 'american', 'japanese', 'japanese', 'japanese', 'japanese', 'japanese', 'good', 'japanese', 'japanese', 'great', 'great', 'japanese', 'japanese', 'japanese', 'japanese', 'great', 'attentive', 'japanese', 'not_like', 'lunch', 'waitress', 'worn', 'not_gotten', 'wrong', 'japanese', 'japanese', 'slow', 'japanese', 'great', 'asian', 'japanese', 'fifteen', 'wow', 'japanese', 'japanese', 'great', 'nice', 'fish', 'japanese', 'cannotgive', 'usual', 'avoid', 'good', 'japanese', 'good', 'good', 'japanese', 'disappointed', 'not_care', 'fine', 'great', 'japanese', 'japanese', 'fantastic', 'japanese', 'japanese', 'authentic', 'japanese'], ['nice', 'great', 'good', 'commendable', 'great', 'lake', 'good', 'horrible', 'great', 'good', 'bad', 'good', 'great', 'good', 'good', 'ok', 'great', 'blah', 'good', 'overall', 'great', 'long', 'high', 'great', 'fresh', 'dessert', 'overall', 'prompt', 'good', 'concerned', 'worth', 'delicious'], ['chinese', 'ok', 'horrible', 'good', 'chinese', 'chinese', 'delicious', 'great', 'chinese', 'vietnamese', 'poor', 'bad', 'dish', 'much', 'vietnamese', 'cambodian', 'delicious', 'friendly', 'chinese', 'great', 'great', 'much', 'plenty', 'overall', 'consistent', 'vietnamese', 'chinese', 'good', 'good', 'vietnamese', 'chinese', 'vietnamese', 'chinese', 'enough', 'khmerchinesethaiviet', 'chinese', 'good', 'asian', 'chinese', 'good', 'hungry', 'chinese', 'vietnamese', 'chinese', 'good', 'chinese', 'delicious', 'good', 'overall', 'chinese', 'establishment', 'crab', 'chinese', 'chinese', 'good', 'chinese', 'chinese', 'chinese', 'vietnamese', 'good', 'vietnamese', 'chinese', 'chinese', 'vietnamese', 'chinese', 'good', 'vietnamese', 'good', 'chinese', 'asian', 'vietnamese', 'chinese', 'chinese', 'nice', 'vietnamese', 'chinese', 'tough', 'chinese', 'chinese', 'asian', 'dish', 'authentic', 'great', 'excellent', 'chinese', 'chinese', 'chinese', 'vietnamese', 'chinese', 'chinese', 'good', 'chinese', 'chinese'], ['excellent', 'asian', 'chinese', 'great', 'great', 'great', 'chinese', 'chinese', 'chinese', 'live', 'chinese', 'asian', 'wonderful', 'flawless', 'chinese', 'chinese', 'chinese', 'chinese', 'fresh', 'excellent', 'u', 'good', 'chinese', 'chinese', 'chinese', 'good', 'chinese', 'chinese', 'chinese', 'chinese', 'u', 'great', 'chinese', 'chinese', 'outstanding', 'chinese', 'chinese', 'chinese', 'chinese', 'chinese', 'cantonese', 'enjoyable', 'great', 'chinese', 'impressed', 'chinese', 'chinese', 'chinese', 'usual', 'chinese', 'great', 'great', 'chinese', 'chinese', 'outstanding', 'fresh', 'chinese', 'healthy', 'great', 'delicious', 'chinese', 'chinese', 'similar', 'chinese', 'chinese', 'excellent', 'chinese', 'chinese', 'chinese', 'chinese', 'chinese', 'great', 'popular', 'favourite', 'great', 'chinese', 'chinese', 'great', 'chinese', 'chinese', 'chinese', 'chinese', 'close', 'americanchinese', 'chinese', 'chinese', 'great', 'pick', 'disappointing', 'horrible', 'great', 'awesome', 'wrong', 'chinese', 'chinese', 'chinese', 'chinese', 'nice', 'fake', 'chinese', 'chinese', 'asian', 'chinese', 'poor', 'chinese', 'chinese', 'chinese', 'chinese'], ['hot', 'uncomfortable', 'quick', 'thai', 'delicious', 'reasonable', 'strong', 'mexican', 'swaddee', 'enjoy', 'thai', 'good', 'good', 'flash', 'good', 'ok', 'good', 'thai', 'asian', 'restaurant', 'love', 'slow', 'luck', 'great', 'wait', 'ethnic', 'ethnic', 'much', 'nice', 'enough', 'thai'], ['great', 'clean', 'great', 'clean', 'healthy', 'fresh', 'nice', 'great', 'excellent', 'fresh', 'fresh', 'steep'], ['delicious', 'great', 'fabulous', 'fast', 'great', 'worth', 'attentive', 'great', 'great', 'good', 'great', 'good', 'fresh', 'great', 'good', 'not_eat', 'great', 'sure', 'spectacular', 'good', 'overall', 'overall', 'fresh', 'reasonable', 'hard', 'good', 'great', 'ask', 'great', 'great', 'great', 'solicitous', 'great', 'great', 'great', 'pricey', 'good', 'excellent', 'consistent', 'great', 'good', 'great', 'bad', 'fair', 'clean', 'nice', 'good', 'great', 'awesome', 'good', 'good', 'disappointing', 'top', 'excellent', 'overall', 'poor', 'bring', 'great', 'awesome', 'excellent', 'true', 'helpful', 'great', 'enjoy', 'great', 'good'], ['terrible', 'great', 'casual', 'fantastic', 'great', 'helpful', 'great', 'great', 'not_much', 'not_bad', 'delicious', 'great', 'great', 'excellent', 'oh', 'great', 'great', 'incredible', 'excellent', 'tasty', 'horrible', 'awesome', 'good', 'favorite', 'not_like', 'hushpuppiesamazing', 'great', 'excellent', 'bib', 'reliable', 'poor', 'not_like', 'flavorful', 'great', 'great', 'sure', 'excellent', 'attentive', 'great', 'great', 'excellent', 'great', 'warm', 'refill', 'chicken', 'terrible', 'right'], ['good', 'busy', 'terrible', 'not_like', 'mexican', 'authentic', 'poor', 'not_care', 'mexican', 'great', 'particular', 'fast', 'good', 'hideous', 'mexican', 'correct', 'mexican'], ['overall', 'good', 'fresh', 'good', 'first', 'great', 'great', 'bad', 'hot', 'great', 'crawfish', 'sick', 'helpful'], ['authentic', 'much', 'filipino', 'good', 'good', 'ur', 'clean', 'good', 'bad', 'favorite', 'filipino', 'ok', 'ok', 'everyday', 'not_like', 'wrong', 'bit', 'hot', 'filipino', 'wait', 'vietnamese', 'vietnamese', 'filipino', 'old', 'filipino', 'filthy', 'great', 'decent', 'horrendous', 'bad', 'fine', 'stale', 'filipino', 'great', 'great', 'big', 'attentive', 'ok', 'choose', 'usual', 'much', 'filipino', 'sixty', 'not_part', 'great', 'great', 'vietnamese', 'vietnamese', 'vietnamese', 'filipino', 'good', 'good', 'much', 'disappointing', 'filipino', 'filipino', 'quality', 'steep', 'bad', 'asian', 'clean', 'great', 'dish', 'presentation', 'good', 'great', 'delicious', 'long', 'pinoy', 'nice', 'top', 'great', 'good', 'filipino', 'terrible'], ['good', 'great', 'half', 'excellent', 'italian', 'u', 'frozen', 'empty', 'quality', 'disappointing', 'great', 'delicious', 'empty', 'hah', 'great', 'italian', 'great', 'full', 'bad', 'italian', 'incredible', 'good', 'italian', 'live', 'italian', 'attentive', 'affordable', 'happy', 'efficient', 'attentive', 'good', 'good', 'great', 'italian', 'nice', 'unhappy', 'great', 'general', 'good', 'italian', 'italian', 'great', 'italian', 'terrible', 'italian', 'italian', 'stop', 'great', 'cheese', 'great', 'italian', 'italian', 'u', 'great', 'sure', 'italian', 'delicious', 'italian', 'italian', 'italian', 'italian', 'personal', 'italian', 'awesome', 'not_italian', 'much', 'italian', 'good', 'particular', 'actual', 'marginal', 'good', 'reasonable', 'knowledgeable', 'great', 'good', 'good', 'app', 'italian', 'much', 'italian', 'good', 'delicious', 'right', 'great', 'italian', 'nice', 'etc', 'italian', 'good', 'attentive', 'italian', 'tasty', 'amazing', 'certain', 'good', 'italian', 'curdious', 'good'], ['funny', 'friendly', 'great', 'funny', 'incredible', 'terrasse', 'pleasant', 'chic', 'perfect', 'terrace', 'delicious', 'delicious', 'important'], ['fast', 'great', 'healthy', 'excellent', 'incredible', 'flavour', 'bring', 'wrong', 'great', 'fresh', 'wait', 'tasty'], ['unremarkable', 'mexican', 'greasy', 'mediocre', 'mexican', 'mexican', 'mexican', 'mexican', 'mexican', 'impressed', 'mexican', 'excellent', 'great', 'mexican', 'mexican', 'good', 'tasty', 'mexican', 'bad', 'mexican', 'not_know', 'mexican'], ['italian', 'italian', 'italian', 'delicious', 'italian', 'italian', 'good', 'awesome', 'outstanding', 'wonderful', 'great', 'meal', 'italian', 'italian', 'good', 'good', 'like', 'good', 'disappointed', 'italian', 'italian', 'italian', 'italian', 'tasty', 'italian', 'italian', 'horrible', 'wonderful', 'impressed', 'italian', 'table', 'italian', 'attentive', 'good', 'happy', 'mexican', 'cheese', 'tasty', 'great', 'italian', 'italian', 'great', 'good', 'italian', 'great', 'disappointing', 'delicious', 'great', 'reasonable', 'low', 'italian', 'great', 'wonderful', 'italian', 'italian', 'great', 'great', 'excellent', 'clear', 'bad', 'italian', 'actual', 'great', 'expensive', 'amazing', 'helpful', 'italian', 'cucina', 'italian', 'fast', 'certain', 'italian', 'good', 'fine', 'good', 'wrong', 'particular', 'cold', 'enough', 'italian', 'italian', 'italian', 'italian'], ['jamaican', 'jamaican', 'good', 'great', 'cheap', 'great', 'great', 'u', 'fish', 'bad', 'great', 'caribbean', 'caribbean', 'much', 'much', 'delicious', 'whiskey', 'good', 'good', 'great', 'great', 'good', 'cool', 'entree', 'unique', 'good', 'great', 'impressed', 'marginal', 'good', 'excellent', 'slow', 'dive', 'u'], ['solid', 'reasonable', 'attentive', 'enjoy', 'atmosphere', 'great', 'good', 'great', 'happy', 'nice', 'great', 'good', 'great', 'delicious', 'great', 'sure', 'incredible', 'good', 'bad', 'short', 'great', 'fast', 'severe', 'not_for', 'fresh', 'excellent', 'japanese', 'great', 'great', 'great', 'much', 'great', 'terrible', 'delicious', 'rid', 'great', 'minute', 'japanese', 'helpful', 'great', 'friendly', 'good'], ['overall', 'expensive', 'unpleasant', 'beautiful', 'u', 'right', 'great', 'good', 'slow', 'upscale', 'u', 'bad', 'small', 'ok', 'bite', 'large', 'entree', 'delicious', 'sick', 'good', 'overall', 'excellent', 'excellent', 'excellent', 'god', 'excellent', 'great', 'wine', 'great', 'bad', 'happy', 'different', 'lackluster', 'good', 'amazing', 'knowledgeable', 'simple', 'atrocious', 'overall', 'excellent', 'finish', 'great', 'great', 'great', 'tasty', 'uncorked', 'good', 'helpful', 'good', 'silent', 'textural', 'delicious', 'lackluster', 'horrible', 'not_walk', 'flavorful', 'different', 'tasty', 'expensive', 'great', 'expensive', 'great', 'flavor', 'great', 'u', 'bad', 'overall'], ['pick', 'excellent', 'busy', 'excellent', 'great', 'receive', 'poor', 'waitress', 'poor', 'good', 'uggggg'], ['good', 'pouch', 'great', 'spice', 'enough', 'good', 'raw', 'overall', 'overall', 'good', 'delicious', 'regular', 'weak', 'great', 'great', 'good', 'overall', 'wrong', 'fifteen', 'southern', 'wait', 'great', 'delicious', 'crawfish', 'delicious', 'awesome', 'favorite', 'inexcusable', 'plenty', 'great', 'overall', 'fyi', 'attentive', 'adequate', 'friendly', 'good', 'good', 'packed', 'decent', 'edible', 'good', 'delish', 'not_give', 'overall', 'much', 'great', 'bunch', 'crawfish', 'great', 'efficient', 'crazy', 'finish', 'right', 'good', 'excellent', 'pick', 'good', 'disappointing', 'good', 'delicious', 'u', 'clean', 'overall', 'knowledgeable', 'great', 'good', 'hot', 'great', 'good', 'busy', 'type', 'attentive', 'good', 'not_wear', 'good', 'sure', 'overall', 'funny', 'wait', 'affordable', 'good', 'delicious', 'great', 'good', 'great', 'table', 'good', 'great', 'good', 'good', 'great', 'delicious', 'good', 'edible', 'delicious', 'good', 'outside', 'fresh', 'manner', 'not_disappointed', 'friendly', 'asap', 'good', 'garlic', 'friend', 'attentive', 'long', 'gap', 'wait', 'overall', 'minute', 'good', 'finish', 'sure', 'u', 'u', 'overall', 'much', 'overall', 'outstanding', 'great', 'personal', 'delicious', 'delicious', 'eat', 'cajun', 'great', 'great', 'awesome', 'helpful', 'good', 'radish', 'great', 'good', 'great', 'surgery', 'full', 'good', 'attentive', 'great', 'great', 'not_the', 'much', 'everyday', 'not_had', 'clean', 'sure', 'enjoy', 'great', 'great', 'anniversary', 'mushy', 'great', 'quality', 'overdue', 'good', 'not_much', 'excellent', 'great', 'bad', 'girl', 'excellent'], ['tough', 'favorite', 'good', 'chinese', 'unfortunate', 'great', 'picky', 'awesome', 'great', 'excellent', 'excellent', 'relaxed', 'delicious', 'know', 'delicious', 'excellent', 'ethnic', 'empty', 'good', 'outdoor', 'thai', 'good', 'excellent', 'amazing', 'thai', 'personable', 'thai'], ['inadequate', 'asian', 'soup', 'many', 'ok', 'meal', 'filipino', 'expensive', 'horrible', 'bad', 'delicious', 'serve', 'bad', 'delicious'], ['mexican', 'mexican', 'mexican', 'mexican', 'mexican', 'mexican', 'mexican', 'great', 'mexican', 'great', 'mexican', 'mexican', 'mexican', 'comfortable', 'great', 'great', 'delicious', 'good', 'great', 'great', 'mexican', 'great', 'good', 'great', 'great', 'mexican', 'mexican', 'mexican', 'mexican', 'fresh', 'great', 'mexican', 'u', 'delicious', 'delicious', 'great', 'good', 'mexican', 'good', 'great', 'mexican', 'efficient', 'mexican', 'great', 'mexican', 'great', 'good', 'mexican', 'mexican', 'great', 'nuked', 'great', 'not_beautiful', 'good', 'delicious', 'good', 'authentic', 'great', 'mexican', 'salsa', 'mexican', 'mexican', 'mexican', 'awesome'], ['pricey', 'overall', 'fresh', 'cold', 'asian', 'chinese', 'not_much', 'alot', 'good', 'efficient', 'awesome', 'hot', 'tasty', 'chinese', 'quarantine', 'good', 'hot', 'mean', 'hot', 'western', 'chinese', 'gc', 'overall', 'hot', 'not_hoard', 'hot', 'fresh', 'chinese', 'good', 'tight', 'sure', 'modern', 'decent', 'average', 'fresh', 'main', 'hot', 'okay', 'much', 'hot', 'chinese', 'great', 'nice', 'sick', 'different', 'wish', 'scrap', 'much', 'overall', 'hot', 'sick', 'hot', 'great', 'good', 'happy', 'good', 'chinese', 'chinese', 'huge', 'raw', 'real', 'empty', 'good', 'great', 'chinese', 'great', 'good', 'cooked', 'hot', 'hot', 'hot', 'raw', 'hot', 'different', 'warm', 'fantastic', 'real', 'different', 'overall', 'hot', 'hot', 'good', 'long', 'spoonful', 'chinese', 'expensive', 'slow', 'clean', 'fresh', 'hot', 'right', 'good', 'hot', 'much', 'not_much', 'chinese', 'similar', 'hot', 'great', 'much', 'chinese', 'fresh', 'mexican', 'warm', 'different', 'spectacular', 'special', 'first'], ['awesome', 'good', 'good', 'great', 'great', 'elegant', 'good', 'great', 'responsive', 'lunch', 'disappointed', 'surprise', 'great', 'busy', 'french', 'fresh', 'not_over-fried', 'great', 'good', 'good', 'great', 'good', 'solid', 'great', 'great', 'great', 'fantastic', 'excellent', 'fine', 'delicious', 'good', 'fast', 'great', 'great', 'good', 'generous', 'fresh', 'great', 'good', 'great', 'casual', 'crappy', 'great', 'special', 'amazing', 'good', 'fancy', 'delicious', 'good', 'good', 'good', 'good', 'excellent', 'french', 'good', 'awful', 'delicious', 'select', 'receive', 'great', 'great', 'attentive', 'u', 'slow', 'bad', 'picky', 'good', 'excellent', 'friendly', 'delicious', 'good', 'good', 'amazing', 'french', 'incredible', 'table', 'nice', 'great', 'nice', 'good', 'great', 'overall', 'awesome', 'min', 'good', 'good', 'small', 'attentive', 'good', 'awful', 'great', 'fantastic', 'great', 'empty', 'good', 'incredible', 'weekly', 'outstanding', 'good', 'good', 'good', 'french', 'great', 'excellent', 'great', 'good', 'exemplary', 'sixty', 'great', 'good', 'table', 'good', 'excellent', 'lady', 'amazing', 'unique'], ['flexible', 'favorite', 'great', 'delicious', 'flavorful', 'fine', 'local', 'cajun', 'good', 'great', 'friendly', 'good', 'good', 'delicious', 'delicious', 'hot', 'personable', 'good', 'nice', 'great', 'much', 'delicious', 'excellent', 'unhappy', 'great', 'hot', 'great', 'fresh', 'cajun', 'knowledgeable', 'good', 'actual', 'small', 'great', 'great', 'amazing', 'enjoy', 'good', 'specific', 'not_neglect', 'excellent', 'american', 'awesome', 'good', 'fantastic', 'much'], ['incredible', 'great', 'delicious', 'excellent', 'gracious', 'wonderful', 'sumptuous', 'great', 'good', 'phenomenal', 'great', 'fine', 'gorgeous', 'attentive', 'prepared', 'wonderful', 'good', 'entree', 'fantastic', 'attentive', 'incredible', 'delicious', 'free', 'good', 'good', 'outstanding', 'sure', 'overall', 'great', 'unbelievable', 'good', 'eat', 'great', 'fantastic', 'incredible', 'generous', 'great', 'amazing', 'attentive', 'incredible', 'rich'], ['reasonable', 'reasonable', 'fantastic', 'tasty', 'receive', 'expensive', 'cool', 'favorite', 'worth', 'great', 'particular', 'delicious', 'warm', 'awesome', 'argentinean', 'extra', 'argentinian', 'good', 'good', 'awesome', 'beautiful', 'great', 'awesome', 'u', 'excellent', 'betterthanaverage', 'last', 'great', 'delicious', 'worth', 'wonderful', 'great', 'incredible', 'awesome', 'good', 'delicious', 'impressed', 'great', 'favorite', 'great', 'unique', 'good', 'skeptical', 'fantastic', 'sample', 'good', 'friendly', 'argentinian', 'authentic', 'delicious', 'fantastic', 'saturday', 'good', 'delicious', 'great', 'argentinian', 'delicious', 'salad', 'flavorful', 'delicious', 'great', 'overall', 'worth', 'good', 'content', 'much', 'unreal', 'delicious', 'not_pleasant', 'not_speak', 'great', 'good', 'great', 'argentinian', 'great', 'swallow', 'good', 'much', 'good', 'argentinian', 'unique', 'phenomenal', 'delicious', 'great', 'great', 'great', 'wrong', 'lamb', 'delicious', 'empty', 'good', 'solid', 'outstanding', 'obvious', 'lengthy', 'incredible', 'favorite', 'good', 'great', 'helpful', 'good', 'great', 'argentinian', 'delicious', 'great', 'outside', 'great', 'delicious', 'painful', 'delicious', 'overall', 'good', 'bring', 'argentinean', 'different', 'great', 'nice', 'argentinian', 'not_impressed', 'delicious', 'amazing', 'good', 'fresh', 'pleasant', 'friendly', 'good', 'argentinian', 'tasty', 'excellent', 'argentinian', 'delicious', 'indian', 'disappointed', 'argentinian', 'good', 'organic', 'consistent', 'argentinian', 'not_like', 'great', 'delicious', 'great', 'raw', 'wait', 'delicious', 'fair', 'great', 'receive', 'much', 'slow', 'enough', 'great', 'fresh', 'burnt', 'drown', 'great', 'incredible', 'table', 'gaucho', 'great', 'phenomenal', 'great', 'fantastic', 'special', 'great', 'amazing', 'argentinian', 'great', 'great', 'pittsburgh', 'delicious', 'delicious', 'great', 'pleasant', 'great', 'amazing', 'bad', 'actual', 'clean', 'good', 'great', 'sure', 'great', 'quick', 'busy', 'great', 'fantastic', 'rad', 'amazing', 'amazing', 'nice', 'great', 'simple', 'large', 'argentinian', 'argentinian', 'argentinian', 'amazing', 'delicious', 'argentinian', 'authentic', 'excellent', 'wrong', 'good', 'amusement', 'good', 'not_know', 'evident', 'great', 'amazing', 'good', 'good', 'wonderful', 'indian', 'incredible', 'awesome', 'great', 'incredible', 'enjoyable', 'clean', 'worth', 'wonderful', 'high', 'great', 'amazing', 'outstanding', 'great', 'awesome', 'extraordinary', 'great', 'great', 'great', 'fantastic', 'good', 'wrong', 'good', 'great', 'door', 'perfect', 'good', 'ready', 'sandwich', 'delicious', 'vocabulary', 'first', 'awesome', 'saturday', 'good', 'delicious', 'great', 'argentinian', 'good', 'great', 'fabulous', 'authentic', 'amazing', 'much', 'excellent', 'bonus', 'great', 'great', 'great', 'fifty', 'sick', 'not_least', 'great', 'impressed', 'great', 'great', 'great', 'worth', 'great', 'great', 'unbelievable', 'various', 'good', 'good', 'ultimate', 'great', 'great', 'simple', 'not_mind-blowing', 'table', 'delicious', 'good', 'awesome', 'great', 'favorite', 'flavorful', 'minute', 'affordable', 'good', 'american', 'good', 'authentic', 'authentic', 'fancy', 'sorry', 'incredible', 'true', 'flavorful', 'minute', 'translate', 'good', 'long', 'nice', 'tag', 'amazing', 'incredible', 'fast', 'burnt', 'great', 'amazing', 'true', 'overall', 'busy', 'small', 'argentinian', 'argentinian', 'unbelievable', 'argentinian', 'great', 'good', 'great', 'great', 'great', 'inventive', 'give', 'not_know', 'delicious', 'great', 'good', 'good', 'outstanding', 'similar', 'good', 'add', 'delicious', 'enough', 'delicious', 'vegetable', 'argentinian', 'great', 'delicious', 'optimistic', 'awesome', 'nice', 'great', 'great', 'great', 'clumsy', 'not_miss', 'argentinian', 'fresh', 'great', 'great', 'unique', 'tasty', 'good', 'overall', 'gaucho', 'ethnic', 'argentinian', 'incredible', 'worth', 'good', 'good', 'great', 'excellent', 'excellent', 'passionate', 'memorable', 'regular', 'friend', 'delicious', 'delicious', 'argentina', 'unconventional', 'good', 'much', 'seventy', 'not_dampen', 'great', 'awesome', 'shrimp'], ['great', 'italian', 'pleased', 'wonderful', 'delicious', 'good', 'italian', 'pushy', 'acceptable', 'great', 'good', 'thumb', 'italian', 'residual', 'spectacular', 'great', 'lousy', 'not_italian', 'italian', 'great', 'italian', 'good', 'italian', 'bad', 'italian', 'awesome', 'good', 'attentive', 'good', 'pleasant', 'excellent', 'great', 'great', 'italian', 'table', 'italian', 'excellent', 'terrible', 'italian', 'italian', 'italian', 'accustomed', 'great', 'fantastic', 'consistent', 'server', 'italian', 'italian', 'italian', 'possible', 'scottsdale', 'authentic', 'free', 'empty', 'great', 'good', 'good', 'friendly', 'wine', 'italian', 'italian', 'great', 'delicious', 'good', 'u', 'italian'], ['finish', 'excellent', 'great', 'great', 'good'], ['romantic', 'vega', 'much', 'u', 'rich', 'impeccable', 'u', 'important', 'not_ask', 'touch', 'bite', 'fabulous', 'fabulous', 'plain', 'beautiful', 'delicious', 'great', 'great', 'delicious', 'not_cheap', 'ribeye', 'restaurant', 'tough', 'outstanding', 'incredible', 'empty', 'clean', 'fine', 'not_the', 'uniqueness', 'u', 'great', 'incredible', 'wonderful', 'gross', 'restaurant', 'italian', 'side', 'disastrous', 'little', 'omg', 'great', 'italian', 'delicious', 'special', 'beautiful', 'italian', 'good', 'expensive', 'miss', 'great', 'great', 'sour', 'fine', 'uniqueness', 'good', 'great', 'special', 'not_happy', 'italian', 'overall', 'italian', 'dish', 'bite', 'perfect', 'hot', 'informative', 'u', 'respect', 'vega', 'nice', 'impeccable', 'available', 'venitian', 'unimpressed', 'expensive', 'table', 'wonderful', 'delightful', 'good', 'excellent', 'overall', 'much', 'fabulous', 'good', 'anniversary', 'bizarre', 'prepare', 'many', 'disappointed', 'good', 'sad', 'present', 'great', 'enough', 'vega', 'poor', 'excellent', 'exotic', 'good', 'good', 'plenty', 'great', 'italian', 'dish', 'italian', 'excellent', 'phenomenal', 'italian', 'good', 'fabulous', 'close', 'extraordinary', 'phenomenal', 'impressive', 'good', 'good', 'italian', 'italian', 'authentic', 'good', 'type', 'delicious', 'terrible', 'spectacular', 'delicious', 'expensive', 'italian', 'type', 'superior', 'bad', 'fantastic', 'excellent', 'italian', 'great', 'wtf', 'elegant', 'wow', 'great', 'vegetarian', 'zimmern', 'minimum', 'thank', 'ask', 'unbelievable'], ['delicious', 'delicious', 'italian', 'reasonable', 'exceptional', 'delicious', 'italian', 'different', 'italian', 'great', 'italian', 'italian', 'wonderful', 'italian', 'delcious', 'restaurant', 'fantastic', 'great', 'phenomenal', 'funny', 'attentive', 'italian', 'italian', 'table', 'great', 'good', 'good', 'horrible', 'great', 'excellent', 'tasty', 'delicious', 'italian', 'italian', 'good', 'tasty', 'great', 'due', 'amazing', 'great', 'delicious', 'italian', 'delicious', 'italian', 'great', 'delicious', 'italian', 'enough', 'u', 'italian', 'italian', 'good', 'welcome', 'delicious', 'great', 'italian', 'italian', 'italian', 'awesome', 'italian', 'italian', 'italian', 'italian', 'amazing', 'italian', 'nice', 'heavy', 'italian', 'excellent', 'good', 'italian', 'great', 'vega', 'italian', 'italian', 'much', 'not_for', 'welcome', 'italian', 'great', 'cheap', 'favorite', 'delicious', 'attentive', 'attentive', 'fantastic', 'great', 'sure', 'great', 'awful', 'seventy', 'great', 'italian', 'italian'], ['mexican', 'mexican', 'awesome', 'mexican', 'mexican', 'possible', 'horrible', 'awful', 'mexican', 'not_memorable', 'mexican', 'mexican', 'good', 'mexican', 'easy', 'great', 'mexican', 'mediocre', 'good', 'authentic', 'mexican', 'mexican', 'good', 'agree', 'disappointed', 'mexican', 'not_any', 'great', 'con', 'good', 'great', 'mexican', 'not_mean', 'mexican', 'mexican', 'mexican', 'excellent', 'mexican', 'worth', 'awesome'], ['great', 'great', 'great', 'u', 'actual', 'prepared', 'standard', 'special', 'january', 'actual', 'good', 'great', 'free', 'fry', 'excellent', 'delicious', 'great', 'great', 'great', 'shrimp', 'careful', 'southern', 'fish', 'southern', 'delicious', 'great', 'southern', 'great', 'soul', 'good', 'southern', 'great', 'delicious', 'great', 'southern', 'disappointed', 'awesome', 'fast', 'good', 'great', 'great', 'wonderful', 'puppy', 'vega', 'good', 'find', 'entire', 'table', 'great', 'puppy', 'vega', 'good', 'excellent', 'real', 'southern', 'great', 'good', 'excellent', 'fit', 'worth', 'excellent', 'southern', 'southern', 'table', 'good', 'southern', 'friendly', 'type', 'excellent', 'good', 'busy', 'puppy', 'stop', 'good', 'southern', 'overall', 'delicious', 'great', 'excellent', 'frozen', 'southern', 'southern', 'much', 'delicious', 'excellent', 'bad', 'quick', 'great', 'enjoy', 'southern', 'frozen', 'wrong', 'great', 'good', 'disappointed', 'great', 'excellent', 'great', 'southern', 'good', 'southern', 'great', 'great', 'southern', 'good', 'good', 'plate', 'southern', 'southern', 'eat', 'good', 'nice', 'not_ready', 'great', 'disappointed', 'memorable', 'good', 'regret'], ['good', 'generous', 'overall', 'nice', 'overall', 'great', 'bit', 'little', 'fresh', 'hot', 'vegetarian', 'yummy', 'sure', 'japanese', 'japanese', 'comfortable', 'brief', 'awesome', 'japanese', 'not_go', 'great', 'japanese', 'japanese', 'quality', 'overall', 'japanese', 'sushijapanese', 'japanese', 'overall', 'friendly', 'overall', 'excellent', 'japanese', 'japanese', 'japanese', 'japanese', 'fresh', 'japanese', 'fresh', 'chinese', 'japanese', 'disappointed', 'much', 'attentive', 'busy'], ['indian', 'great', 'indian', 'fantastic', 'indian', 'indian', 'salt', 'attentive', 'great', 'indian', 'great', 'indian', 'tonight', 'good', 'nepalese', 'indian', 'excellent', 'excellent', 'ate', 'great', 'u', 'great', 'great', 'excellent', 'indian', 'good', 'chaat', 'indian', 'tasty', 'indian', 'great', 'welcome', 'indian', 'indian', 'indian', 'great', 'good', 'indian', 'nice', 'good', 'comfortable', 'indian', 'nice', 'indian', 'hot', 'vegetarian', 'fabulous', 'different', 'good', 'indian', 'immediate', 'great', 'excellent', 'indian', 'outstanding', 'downtown', 'great', 'indian', 'indian', 'indian', 'vegetarian'], ['knowledgeable', 'mexican', 'friendly', 'mexican', 'mexican', 'right', 'minute', 'mexican', 'mexican', 'beat', 'appropriate', 'subpar', 'great', 'clean', 'fresh', 'good', 'great', 'good', 'cheese', 'good', 'wait', 'happy', 'small'], ['overall', 'intimate', 'perfect', 'good', 'glad', 'favorite', 'great', 'beautiful', 'impressive', 'great', 'french', 'french', 'great', 'great', 'terrible', 'child', 'good', 'french', 'good', 'great', 'good', 'french', 'fresh', 'impeccable', 'french', 'french', 'frozen', 'good', 'helpful', 'picky', 'fine', 'whole', 'good', 'intimate', 'good', 'slow', 'french', 'excellent', 'good', 'french', 'clean', 'decadent', 'perry', 'romantic', 'lit', 'good', 'fool', 'approachable', 'high', 'spectacular', 'busy', 'french', 'excellent', 'french', 'great', 'french', 'disappointing', 'good', 'french', 'delicious', 'knowledgeable', 'american', 'french', 'delicious', 'good', 'happy', 'average', 'french', 'french', 'french', 'french', 'french', 'delightful', 'welcome', 'french', 'fabulous', 'french', 'french', 'much', 'great', 'french', 'remarkable', 'good', 'fabulous', 'soso', 'wonderful'], ['italian', 'italian', 'italian', 'empty', 'italian', 'eggplant', 'hose', 'italian', 'good', 'fine', 'italian', 'italian', 'italian', 'italian', 'italian', 'good', 'great', 'fantastic', 'great', 'good', 'italian', 'italian', 'great', 'italian', 'itailian', 'authentic', 'italian', 'great', 'italian', 'terrible', 'excellent', 'third', 'excellent', 'wrong', 'great', 'jackpot', 'good', 'hot', 'italian', 'pineapple', 'italian', 'italian', 'excellent', 'italian', 'italian', 'small', 'italian', 'free', 'good', 'italian', 'dish', 'italian', 'great', 'italian', 'fantastic', 'enough', 'stuff', 'picky', 'italian', 'italian', 'solid', 'awesome', 'italian', 'fantastic', 'italian', 'excellent', 'fantastic', 'italian', 'italian', 'strip', 'warm', 'italian', 'great', 'heavy', 'great', 'fabulous', 'fantastic', 'italian', 'italian', 'impressed', 'outstanding', 'table', 'italian', 'italian', 'phenomenal', 'ok', 'nice', 'italian', 'wonderful', 'great', 'great', 'short', 'italian', 'italian', 'u', 'great', 'authentic', 'great', 'great', 'former', 'great', 'italian', 'italian', 'excellent', 'negative', 'good', 'italian', 'great', 'great', 'average', 'delicious', 'bad', 'authentic', 'italian', 'excellent', 'italian', 'italian', 'italian', 'italian', 'italian', 'hair', 'great', 'italian', 'italian', 'fabulous', 'italian', 'italian', 'good', 'italian', 'italian', 'not_getting', 'amazing', 'italian', 'italian', 'normal', 'gotten', 'ok', 'attentive', 'italian', 'not_getting', 'italian', 'nose', 'great', 'italian', 'italian', 'italian', 'table', 'italian', 'italian', 'moderate', 'italian', 'entree', 'pleasant', 'heavy', 'prepared'], ['friendly', 'chinese', 'good', 'chinese', 'chinese', 'chinese', 'saltiness', 'good', 'chinese', 'chinese', 'chinese', 'available', 'bad', 'chinese', 'chinese', 'good', 'good', 'good', 'delicious', 'chinese', 'chinese', 'fast', 'chinese', 'chinese', 'chinese', 'chinese', 'chinese', 'good', 'chinese', 'great', 'bad', 'chinese', 'great', 'good', 'chinese', 'nice', 'chinese', 'flavorful', 'chinese', 'great', 'great', 'delicious', 'great', 'fast', 'chinese', 'chinese', 'chinese', 'chinese', 'chinese', 'chinese', 'chinese', 'chinese', 'fantastic', 'chinese', 'efficient', 'picky', 'chinese', 'chinese', 'awesome', 'chinese', 'chinese', 'good', 'chinese', 'chinese', 'actual', 'great', 'good', 'chinese', 'chinese', 'chinese', 'chinese', 'chinese', 'great', 'chinese', 'chinese', 'delicious', 'good', 'chinese', 'nasty', 'good', 'chinese', 'thai', 'chinese', 'chinese', 'chinese', 'ready', 'correct', 'happy', 'good'], ['fast', 'venetian', 'peasant', 'good', 'nice', 'horrible', 'much', 'important', 'vega', 'table', 'casual', 'venetian', 'different', 'delicious', 'surprise', 'nice', 'great', 'stall', 'great', 'not_worth', 'excellent', 'decent', 'wrong', 'amazing', 'little', 'small', 'delicious', 'nearby', 'table', 'great', 'delicious', 'disappointed', 'expensive', 'etc', 'casual', 'incredible', 'small', 'canal', 'specific', 'venetian', 'delicious', 'good', 'bad', 'overall', 'much', 'crazy', 'inch', 'wait', 'give', 'new', 'good', 'fast', 'busy', 'slow', 'place', 'fast', 'good', 'overall', 'frill', 'tho', 'good', 'short', 'venetian', 'restaurant', 'sign', 'great', 'typical', 'good', 'favorite', 'great', 'expensive', 'venetian', 'much', 'venetian', 'favorite', 'great', 'great', 'u', 'little', 'fast', 'counter', 'expensive', 'venetian', 'casual', 'overall', 'nice', 'ok', 'great', 'aware', 'grab', 'pick', 'long', 'venetian', 'not_make', 'main', 'good', 'much', 'small', 'venetianpalazzo', 'cheap', 'expensive', 'nice'], ['good', 'knowledgeable', 'great', 'italian', 'italian', 'italianamerican', 'italian', 'wish', 'italian', 'good', 'italian', 'mediocre', 'italian', 'togo', 'great', 'italian', 'italian', 'delicious', 'italian', 'italian', 'italian', 'excellent', 'friendly', 'delicious', 'good', 'great', 'great', 'american', 'horrible', 'dish', 'vega', 'italian', 'italian', 'great', 'good', 'terrible', 'italian', 'seventy', 'great', 'italian', 'italian', 'excellent', 'wonderful', 'italian', 'italian', 'italian', 'good', 'italian', 'italian', 'italian', 'italian', 'good', 'wonderful', 'awesome', 'wonderful', 'italian', 'awesome', 'italian', 'italian', 'italian', 'italian', 'average', 'italian', 'excellent', 'great', 'italian', 'helpful', 'burnt', 'italian', 'good', 'enjoy', 'good', 'great', 'italian', 'italian', 'friendly', 'nice', 'italian', 'italian', 'unlucky', 'italian', 'good', 'restaurant', 'italian', 'italian', 'italian', 'tasty', 'italian', 'delicious', 'poor', 'great', 'wonderful', 'vega', 'italian', 'italian', 'good', 'frozen', 'negative', 'italian', 'excessive', 'italian', 'italian', 'italian', 'italian', 'italian', 'special', 'much', 'overall', 'italian', 'great', 'italian', 'italian', 'good', 'italian', 'great', 'overall', 'italian', 'fresh', 'italian', 'italian', 'italian', 'great', 'italian', 'shame', 'excellent', 'special', 'great', 'good', 'italian', 'italian', 'great', 'great', 'good', 'italian', 'great', 'italian', 'good', 'italian', 'great', 'good', 'delicious', 'traditional', 'expensive', 'good', 'available', 'dish', 'excellent', 'joe', 'italian', 'average', 'italian', 'clean', 'italian', 'excellent', 'vegetable', 'italian', 'u', 'italian', 'terrible', 'good', 'great', 'italian', 'curious', 'not_the', 'lackluster', 'dead', 'excellent', 'atrocious', 'italian', 'quality', 'italian', 'italian', 'great', 'cute', 'great', 'italian', 'restaurant'], ['good', 'vietnamese', 'good', 'quick', 'vietnamese', 'general', 'great', 'vietnamese', 'good', 'busy', 'little', 'suck', 'good', 'vietnamese', 'vietnamese', 'ethnic', 'vietnamese', 'attentive', 'vietnamese', 'vietnemese', 'great', 'great', 'vietnamese', 'excellent', 'great', 'crowd', 'good', 'slow', 'vietnamese', 'good', 'efficient', 'excellent', 'friendly', 'great', 'nice', 'great', 'vietnamese', 'great', 'vietnamese', 'favorite', 'vietnamese', 'terrible', 'vietnamese', 'vietnamese', 'favorite', 'delicious', 'yummy', 'noodle', 'consistent', 'great', 'reasonable', 'old', 'vietnamese', 'great', 'vietnamese', 'vietnamese', 'good', 'vietnamese', 'flavorful', 'authentic', 'good', 'overall', 'not_having', 'vietnamese', 'vietnamese', 'excellent', 'delicious', 'vietnamese', 'vietnamese', 'great', 'vietnamese', 'severe', 'horrible', 'dirty', 'average', 'busy', 'wonderful', 'vietnamese', 'delicious', 'vietnamese', 'vietnamese', 'authentic', 'great', 'good', 'vietnamese', 'great', 'polite', 'fresh', 'awesome', 'overall', 'fast', 'good', 'great', 'california', 'good', 'vietnamese', 'overall', 'good', 'good', 'reasonable', 'restaurant', 'solid', 'clean', 'sure', 'vietnamese', 'vietnamese', 'asian', 'vietnamese', 'great', 'great', 'fine', 'real', 'vietnamese', 'consistent', 'vietnamese', 'vietnamese', 'happy', 'know', 'good', 'great', 'busy', 'clean', 'great'], ['good', 'awesome', 'excellent', 'worth', 'enough', 'overall', 'sweet', 'certain', 'good', 'superior', 'free', 'great', 'good', 'japanese', 'decent', 'busy', 'picky', 'great', 'great', 'korean', 'great', 'u', 'attentive', 'table', 'good', 'great', 'excellent', 'good', 'much', 'japanese', 'late', 'good', 'good', 'large', 'good'], ['nice', 'good', 'spacious', 'great', 'good', 'free', 'great', 'great', 'unlv', 'great', 'raw', 'asian', 'delicious', 'great', 'good', 'great', 'awful', 'terrible', 'good', 'enjoyable', 'good', 'american', 'fair', 'great', 'delicious', 'nice', 'great', 'great', 'great', 'good', 'top', 'good', 'good', 'uneaten', 'awesome', 'delicious', 'inexpensive', 'awesome', 'great', 'good', 'delicious', 'many', 'unlv', 'great', 'delicious', 'lot', 'happy', 'good', 'free', 'good', 'acceptable', 'japanese', 'free'], ['seafood', 'phenomenal', 'messy', 'u', 'receive', 'attentive', 'much', 'good', 'nice', 'courteous', 'simple', 'delicious', 'fantastic', 'fresh', 'awesome', 'delicious', 'outstanding', 'downside', 'hazardous'], ['overall', 'excellent', 'u', 'good', 'dish', 'helpful', 'japanese', 'interested', 'enough', 'bad', 'authentic'], ['nice', 'want', 'hot', 'nice', 'delicious', 'crappy', 'excellent', 'good', 'spectacular', 'good', 'good', 'good', 'free', 'not_think', 'mexican', 'mexican', 'long', 'awesome', 'tasty', 'excellent', 'tasteless', 'frozen', 'good', 'fancy', 'fish', 'good', 'not_cheap'], ['unfriendly', 'main', 'minor', 'good', 'eat', 'good', 'prep', 'u', 'good', 'busy', 'hot', 'overall', 'great', 'decent', 'okay', 'loud', 'sauce', 'awesome', 'friendly', 'attentive', 'great', 'busy', 'cool', 'great', 'full', 'korean', 'great', 'full', 'bad', 'attentive', 'similar', 'good', 'reasonable', 'upstairs', 'attentive', 'delicious', 'bearable', 'good', 'friendly', 'attentive', 'cu', 'busy', 'messy', 'eating', 'fantastic', 'good', 'great', 'good', 'yummy', 'type', 'outstanding', 'good', 'pricey', 'fun', 'huge'], ['overall', 'great', 'fresh', 'knowledgeable', 'great', 'good', 'u', 'great', 'great', 'excellent', 'high', 'strict', 'salad', 'fine', 'empty', 'u', 'helpful', 'good', 'disappointed', 'great', 'overall', 'great', 'overall', 'nice', 'knowledgeable', 'good', 'helpful', 'standoffish', 'good', 'great', 'sick', 'good', 'great', 'fantastic', 'good', 'great', 'good', 'good', 'nice', 'delicous', 'great', 'empty', 'u', 'bad', 'awesome', 'fantastic', 'good', 'good', 'excellent', 'excellent', 'fabulous', 'table', 'good', 'great', 'little', 'great', 'good', 'nice', 'surprised', 'great', 'good', 'great', 'ect', 'hopeful', 'top', 'great', 'severe', 'exceptional', 'good', 'great', 'great', 'terrible', 'terrible', 'great', 'special', 'great', 'good', 'great', 'great', 'great', 'great', 'knowledgeable', 'fantastic', 'full', 'great', 'excellent', 'taco', 'unexpected', 'great', 'great', 'great'], ['nice', 'authentic', 'ethiopian', 'ethiopian', 'hot', 'ethiopianeritrean', 'good', 'spotty', 'ethiopian', 'ethiopian', 'eritreanethiopian', 'delicious', 'good', 'prepared', 'not_expect', 'ethiopian', 'ethiopian', 'pick', 'simple', 'delicious', 'ethiopian', 'ethiopian', 'ethiopian', 'casual', 'pleasant', 'great', 'delicious', 'ethiopian', 'timer', 'ethiopian', 'ethiopian', 'ethnic', 'attentive', 'special', 'excellent', 'delicious', 'good', 'ethiopian', 'ethiopian', 'odd', 'dish', 'ethnic', 'unfair', 'eritrean', 'wonderful', 'great', 'ethiopian', 'normal', 'fantastic', 'delicious', 'good', 'ethiopian', 'first', 'u', 'fresh', 'great', 'vegetarian'], ['great', 'great', 'great', 'fantastic', 'helpful', 'special', 'great', 'good', 'excellent', 'empty', 'decent', 'great', 'appetizer', 'fish', 'see', 'grab', 'tasty', 'sick', 'whole', 'whole', 'good', 'good', 'great', 'expensive', 'great', 'high', 'wonderful', 'good', 'real', 'great', 'great', 'torn', 'good', 'great', 'reasonable', 'prompt', 'excellent', 'full', 'long', 'frozen', 'good', 'great', 'great', 'great', 'upscale', 'casual', 'great', 'awesome', 'knowledgeable', 'great', 'fantastic', 'wonderful', 'wrong', 'friendly', 'great', 'attentive', 'common'], ['good', 'fill', 'great', 'enough', 'meal', 'great', 'overall', 'good', 'good', 'expect', 'nice', 'great', 'expensive', 'good', 'good', 'great', 'great', 'type', 'favorite', 'obvious', 'nice', 'excellent', 'serious', 'good', 'good'], ['nice', 'chinese', 'chinese', 'chinese', 'great', 'good', 'chinese', 'inexpensive', 'chinese', 'chinese', 'chinese', 'good', 'chinese', 'not_happy', 'chinese', 'chinese', 'chinese', 'chinese', 'great', 'asian', 'inexpensive', 'good', 'szechwan', 'chinese', 'receive', 'chinese', 'great', 'chinese', 'laugh', 'chinese', 'chinese', 'awful'], ['disappointed', 'poor', 'excellent', 'italian', 'italian', 'good', 'flavorful', 'good', 'good', 'great', 'good', 'italian', 'great', 'table', 'great', 'much', 'u', 'cold'], ['not_picky', 'good', 'chinese', 'awesome', 'chinese', 'great', 'english', 'good', 'chinese', 'chinese', 'chinese', 'chinese', 'chinese', 'chinese', 'excellent', 'specific', 'chinese', 'crowd', 'good', 'great', 'chinese', 'good', 'pleased', 'chinese', 'good', 'chinese', 'chinese', 'great', 'chinese', 'chinese', 'delicious', 'chinese', 'great', 'good', 'great', 'chinese', 'chinese', 'chinese', 'horrible', 'chinese', 'good', 'good', 'cantonese', 'chinese', 'chinese', 'great', 'great', 'incredible', 'helpful', 'great', 'chinese', 'chinese', 'chinese', 'chinese', 'great', 'good', 'chinese', 'chinese', 'delicious', 'chinese', 'great', 'chinese', 'chinese', 'chinese', 'relative', 'graduate', 'chinese', 'great', 'good', 'worth', 'chinese', 'excellent', 'good', 'chinese', 'second', 'chinese', 'good', 'delicious', 'chinese', 'chineseamerican', 'chinese', 'asian', 'asian', 'happy', 'fair', 'good', 'apropo', 'slow', 'chinese', 'great', 'consistent', 'chinese', 'chinese', 'cantonese', 'sesh', 'chinese', 'chinese', 'chinese', 'enjoy', 'large', 'great', 'chinese', 'little', 'chinese', 'excellent', 'good', 'perfect', 'great', 'chinese', 'chinese', 'chinese', 'clean', 'much', 'le', 'chinese', 'chinese', 'chinese', 'satisfied', 'chinese', 'chinese', 'u', 'chinese', 'chinese', 'chinese', 'true', 'good', 'chinese', 'wonderful', 'fantastic', 'chinese', 'enough', 'chinese', 'chinese', 'great', 'cantonese', 'chinese', 'cheap', 'chinese', 'chinese', 'great', 'average', 'chinese', 'great', 'basic', 'chinese', 'chinese', 'chinese', 'chinese', 'chinese', 'chinese', 'chinese', 'chinese', 'chinese', 'chinese', 'great', 'great', 'good', 'chinese', 'chinese', 'great', 'ate', 'chinese', 'chinese', 'chinese', 'asian', 'asian', 'asian', 'chinese', 'chinese', 'quality', 'chinese', 'chinese', 'good', 'special', 'helpful', 'express', 'chinese', 'chinese', 'good', 'chinese', 'mediocre', 'chinese', 'great', 'chinese', 'inconsistent', 'great', 'chinese', 'first', 'le', 'dish', 'gamble', 'chinese', 'full', 'chinese', 'polished', 'chinese', 'average', 'chinese', 'chinese', 'slow', 'wrong', 'asian', 'asian', 'chinese', 'chinese', 'chinese', 'chinese', 'asian', 'chinese', 'chinese', 'chinese', 'chinese', 'respectful', 'delicious', 'chinese', 'great', 'chinese', 'gravy', 'chinese', 'chinese', 'clear', 'chinese', 'thai', 'much', 'chinese', 'authentic', 'february', 'chinese', 'chinese', 'high', 'wrong', 'bad', 'alive', 'chinese', 'chinese', 'chinese', 'chinese', 'base', 'chinese', 'chinese', 'chinese', 'chinese', 'chinese', 'chinese', 'chinese', 'disappointed', 'top', 'fond', 'chinese', 'asian', 'chinese', 'not_care', 'chinese', 'chinese', 'horrible', 'vega', 'duck', 'chinese', 'good', 'worth', 'excellent', 'great', 'great', 'chinese', 'good', 'chinese', 'chinese', 'american', 'chinese', 'lucky', 'chinese', 'chinese', 'chinese', 'asian', 'chinese', 'good', 'chinese', 'fantastic', 'chinese', 'great', 'chinese', 'type', 'chinese', 'great', 'chinese', 'good', 'chinese', 'great', 'chinese', 'chinese', 'chinese', 'chinese', 'chinese', 'chinese', 'smile', 'lousy', 'good', 'great', 'chinese', 'chinese', 'chinese', 'chinese', 'chinese', 'chinese', 'chinese'], ['delicious', 'incredible', 'thai', 'delicious', 'phenomenal', 'delicious', 'fresh', 'good', 'tasty', 'clean', 'important', 'decor', 'awesome', 'great', 'great', 'exceptional', 'efficient', 'delicious', 'finish', 'delicious', 'helpful', 'incredible', 'fresh', 'delicious', 'pleasant', 'friendly', 'delicious', 'delicious', 'thai', 'great', 'great', 'dish', 'thai', 'modern'], ['vietnamese', 'clean', 'vietnamese', 'good', 'vietnamese', 'horrible', 'yummy', 'great', 'good', 'delicious', 'next', 'good', 'fresh', 'great', 'vietnamese', 'good', 'happy', 'vietnamese', 'vietnamese', 'happy', 'decent', 'viet', 'like', 'slow', 'decent', 'vietnamese', 'good', 'vietnamese', 'vietnamese', 'bring', 'viet', 'viet', 'great', 'good', 'quick', 'nice', 'good', 'friendly', 'good', 'doecial', 'vietnamese', 'vietnamese', 'vietnamese', 'polite', 'little', 'fresh', 'vietnamese', 'great', 'good', 'great', 'asian', 'vietnamese', 'vietnamese', 'delicious', 'vietnamese', 'vietnamese', 'quick', 'table', 'vietnamese', 'vietnamese', 'vietnamese', 'vietnamese', 'great', 'efficient', 'whole', 'weekly', 'plenty', 'good', 'great', 'great', 'vietnamese', 'vietnamese', 'fresh', 'extra', 'free', 'great', 'vietnamese', 'vietnamese', 'delicious', 'great', 'good', 'vietnamese', 'delicious', 'good', 'eat', 'awesome', 'quick', 'great', 'dish', 'vietnamese', 'good', 'good', 'vietnamese', 'love', 'mixed', 'great', 'mean'], ['good', 'japanese', 'great', 'wait', 'japanese', 'japanese', 'japanese', 'scottsdale', 'nice', 'attentive', 'japanese', 'sushi', 'large', 'fresh', 'much', 'japanese', 'japanese', 'nice', 'slow', 'sweet', 'japanese', 'fresh', 'great', 'great', 'japanese', 'japanese', 'japanese', 'favorful', 'great'], ['not_excellent', 'japanese', 'plenty', 'pick', 'delicious', 'not_fast', 'delicious', 'great', 'asian', 'asian', 'japanese', 'heavy', 'bc', 'asian', 'japanese', 'not_expensive'], ['clean', 'good', 'ohhh', 'lousy', 'nice', 'downhill', 'tea', 'fresh', 'tonight', 'good', 'fast', 'drink', 'great', 'u', 'bag', 'wonderful', 'great', 'special', 'excellent', 'great'], ['chinese', 'red', 'chinese', 'chinese', 'gross', 'delicious', 'great', 'americanchinese', 'chinese', 'chinese', 'great', 'chinese', 'good', 'excellent', 'chinese', 'hot', 'great', 'great', 'great', 'pleased', 'good', 'chinese', 'friendly', 'special', 'great', 'nasty', 'fine', 'chinese', 'u', 'great', 'chinese', 'chinese', 'chinese', 'chinese', 'happy', 'attentive', 'long', 'chinese', 'chinese', 'divey', 'awful', 'chinese', 'chinese', 'chinese', 'chinese', 'great', 'think', 'chinese', 'actual', 'chinese', 'delicious', 'good', 'chinese', 'chinese', 'chinese', 'good', 'restaurant', 'terrible', 'great', 'great', 'delicious'], ['fabulous', 'frozen', 'not_impressed', 'eating', 'attentive', 'great', 'great', 'good', 'much', 'decent', 'not_horrendous', 'disappointed', 'bad', 'gross', 'fourth', 'brunch', 'sandwich', 'not_horrible', 'bad', 'bad', 'bad', 'slow', 'good', 'good', 'draw', 'chickenour', 'great', 'table', 'great', 'attentive', 'great', 'good', 'worth', 'awesome', 'disappointed', 'different', 'enough', 'great', 'favorite', 'average', 'attentive', 'great', 'great', 'amazing', 'horrible', 'eleven', 'great', 'not_touching', 'great', 'great', 'great', 'shame', 'fine', 'many', 'fantastic', 'perfect', 'personable', 'favorite', 'excellent', 'amazing', 'nice', 'great', 'dive', 'attentive', 'good', 'great', 'quick', 'polite', 'good', 'gracious', 'great', 'great', 'good', 'fantastic', 'great', 'marginal', 'enough', 'fresh', 'good', 'excellent', 'u', 'okay', 'table', 'nice', 'hear', 'great', 'eastern', 'clean', 'great', 'worth', 'outstanding', 'bad', 'reasonable', 'forgetful', 'great', 'appologetic', 'good', 'bad', 'awesome', 'curious', 'great', 'fabulous', 'good', 'nonexistent', 'pricey', 'wonderful', 'good', 'wonderful', 'table', 'overall', 'overall', 'good', 'good', 'great', 'steep', 'popular', 'not_happy', 'next', 'overall', 'great', 'great', 'awesome', 'right', 'good'], ['italian', 'open', 'good', 'much', 'great', 'ittalian', 'wonderful', 'great', 'italian', 'great', 'great', 'italian', 'italian', 'italian', 'italian', 'not_expecting', 'great', 'italian', 'great', 'great', 'great', 'italian', 'italian', 'not_touch', 'italian', 'italian', 'great', 'italian', 'italian', 'wonderful'], ['great', 'great', 'great', 'great', 'asian', 'chinese', 'chinese', 'whole', 'chinese', 'thought', 'chinese', 'chinese', 'entree', 'chinese', 'overall', 'chinese', 'chinese', 'great', 'great', 'tasty', 'asian', 'good', 'chinese', 'different', 'chinese', 'great', 'cantonese', 'chinese', 'asian', 'fresh', 'excellent', 'good', 'fast'], ['great', 'excellent', 'great', 'good', 'narrow', 'full', 'good', 'good', 'good', 'awesome', 'disappointed', 'great', 'wrong', 'hot', 'bad', 'bad', 'enjoyable', 'good', 'waitress', 'congenial', 'good', 'much', 'top', 'overall', 'bad', 'crappy', 'great', 'warm', 'full', 'fit'], ['tasty', 'tasty', 'outdoor', 'chinese', 'chinese', 'chinese', 'problematic', 'great', 'u', 'expensive', 'cantonese', 'great', 'cantonese', 'overall', 'eighty', 'good', 'chinese', 'chinese', 'chinese', 'chinese', 'similar', 'fancy', 'delicious', 'chinese', 'chinese', 'excellent', 'chinese', 'chinese', 'asian', 'overall', 'excellent', 'chinese', 'chinese', 'excess', 'great', 'clean', 'authentic', 'chinese', 'u', 'excellent', 'chinese', 'cantonese', 'good', 'cantonese', 'fine', 'chinese', 'not_modern', 'efficient', 'busy', 'chinese', 'consistent', 'asian', 'great', 'average', 'chinese', 'chinese', 'good', 'chinese', 'chinese', 'great'], ['chinese', 'excellent', 'chinese', 'disappointed', 'signal', 'disappointing', 'chinese', 'chinese', 'chinese', 'busy', 'fresh', 'eatable', 'wrong', 'asian', 'asian', 'great', 'asian', 'chinese', 'plentiful', 'great', 'additional', 'chinese', 'wrong', 'good', 'chinese', 'chinese', 'chinese', 'chinese'], ['attentive', 'mexican', 'not_a', 'good', 'great', 'different', 'pride', 'authentic', 'mexican', 'great', 'great', 'mexican', 'good', 'delicious', 'table', 'mexican', 'establishment', 'unremarkable', 'greek'], ['awesome', 'chinese', 'chinese', 'chinese', 'great', 'great', 'chinese', 'chinese', 'chinese', 'chinese', 'good', 'chinese', 'top', 'high', 'delicious', 'chinese', 'chinese', 'chineseamerican', 'chinese', 'nice', 'cantonese', 'chinese', 'clean', 'chinese', 'chinese', 'great', 'good', 'frozen', 'cantonese', 'disappointed', 'chinese', 'chinese', 'chinese', 'chinese', 'chinese', 'old', 'delicious', 'good', 'excellent', 'chinese', 'good', 'worth', 'oriental'], ['delicious', 'good', 'hot', 'fresh', 'hot', 'clean', 'good', 'awesome', 'clean', 'sure', 'flavorful', 'good', 'fresh', 'great', 'excellent', 'asian', 'exceptional', 'chinese', 'half', 'close', 'rival', 'tasty', 'great', 'impecable', 'terrible', 'not_good', 'busy', 'hot', 'much', 'great', 'hot', 'table', 'excellent', 'overall', 'cold', 'good', 'mediocre', 'fish', 'awesome', 'special', 'good', 'great', 'great', 'nice'], ['good', 'good', 'good', 'little', 'good', 'terrible', 'warm', 'bad', 'awful', 'steep', 'bad', 'mediocre', 'terrible', 'obvious', 'busy', 'horrible', 'attentive', 'table', 'short', 'good', 'friend', 'not_picky', 'friendly', 'good', 'sick', 'terrible', 'next', 'u', 'great', 'ask', 'overall', 'nice', 'full', 'not_care', 'terrible', 'good', 'wait', 'great', 'great', 'nasty', 'table', 'terrible', 'great', 'helpful', 'uncomfortable', 'spectacular', 'empty', 'attentive', 'horrible', 'quick', 'attentive', 'gross', 'happy', 'good', 'receive', 'good', 'great', 'good'], ['good', 'italian', 'good', 'italian', 'hot', 'sure', 'great', 'great', 'sure', 'good', 'wine', 'italian', 'good', 'friendly', 'great', 'italian', 'serve', 'inattentive', 'italian', 'californiaitalian', 'good', 'surav', 'wonderful', 'inexcusable', 'tasty', 'italian', 'italian', 'italian', 'good', 'good', 'excellent', 'good', 'fantastic', 'good'], ['sure', 'sure', 'quick', 'not_finish', 'great', 'tasty', 'hot', 'japanese', 'attentive', 'good', 'japanese', 'terrible', 'quick', 'good', 'outstanding', 'japanese', 'great', 'great', 'awesome', 'much', 'great', 'sick', 'nigiri', 'reliable', 'enjoy', 'fantastic', 'not_finish', 'fresh', 'fresh', 'empty', 'great', 'wonderful', 'not_get', 'sick', 'second', 'not_due', 'bad', 'real', 'great', 'full', 'great', 'delicious', 'great', 'strip', 'great', 'good', 'not_fresh', 'raw', 'overall', 'sad', 'great', 'leftover', 'many', 'add', 'great', 'great', 'great', 'great', 'excellent', 'good', 'not_busy', 'great', 'pregnant', 'not_like', 'attentive', 'u', 'quick', 'great', 'professional', 'japanese', 'korean', 'great', 'good', 'good', 'great', 'solid', 'regular', 'ya', 'outstanding', 'japanese', 'good', 'not_think', 'overall', 'decent', 'fresh', 'good', 'good', 'summary', 'u', 'delicious', 'japanese', 'umiya', 'allyoucaneat', 'great', 'u', 'not_stingy', 'overall', 'fresh', 'complementary', 'friendly', 'delicious', 'particular', 'korean', 'quality', 'great', 'great', 'umiya', 'polite', 'excellent', 'good', 'clean', 'delicious', 'not_mean', 'not_finish', 'great', 'terrible', 'good', 'great', 'not_finish', 'halloween', 'excellent', 'great', 'delicious', 'great', 'excellent', 'great', 'delicious', 'great', 'great', 'fair', 'great', 'tasty', 'second', 'due', 'prepared', 'random', 'enjoy', 'great', 'uni', 'minute', 'excellent', 'proper', 'awesome', 'great', 'overall', 'lunch', 'tasty', 'bad', 'exceptional', 'great', 'good', 'unwanted', 'overall', 'excellent', 'outside', 'japanese', 'big', 'great', 'update', 'next', 'drop', 'raw', 'great', 'great', 'awesome', 'restaurant', 'spacious', 'favorite', 'not_the', 'delicious', 'bad', 'important', 'fresh', 'great', 'excellent', 'fresh', 'attentive', 'good', 'good', 'great', 'front', 'great', 'japanese', 'japanese', 'disappointed', 'great', 'fantastic', 'many', 'asian', 'japanese', 'busy', 'great', 'crappy', 'japanese', 'japanese', 'japanese', 'japanese', 'recommend', 'perfect', 'chinese', 'good', 'much', 'great', 'glad', 'amazing', 'japanese', 'hazardous', 'vigorous', 'great', 'fresh', 'excellent', 'nice', 'great', 'excellent', 'great', 'disgusted', 'front', 'fast', 'outstanding', 'good', 'great', 'delicious', 'excellent', 'japanese', 'authentic', 'great', 'strip'], ['hot', 'hilarious', 'tasty', 'great', 'oyster', 'great', 'good', 'saturday', 'much', 'unattentive', 'great', 'great', 'busy', 'friendly'], ['good', 'casual', 'many', 'casual', 'bad', 'actual', 'slow', 'great', 'much', 'main', 'le', 'poor', 'obvious', 'delicious', 'excellent', 'good', 'flavour', 'decent', 'potato', 'great', 'table'], ['chinese', 'chinese', 'chinese', 'establishment', 'not_come', 'chinese', 'good', 'cantonese', 'japanese', 'great', 'past', 'chinese', 'chinese', 'chinese', 'overall', 'chinese', 'new', 'outstanding', 'chinese', 'chinese', 'chinese', 'chinese', 'chinese', 'great', 'chinese', 'cantonese', 'standard', 'good', 'cheap', 'special', 'chinese', 'terrible', 'chinese', 'good', 'fast', 'chinese', 'chinese', 'great', 'clean', 'chinese', 'chinese', 'great', 'chinese', 'freshness', 'chinese', 'good', 'overall', 'ridiculous', 'good', 'cheap', 'great', 'great', 'asian', 'chinese', 'nice', 'cantonese', 'u', 'uswhen', 'chinese', 'chinese', 'good', 'good', 'clean', 'sorry', 'chinese', 'chinese', 'good', 'good', 'chinese', 'chinese', 'great', 'tasty'], ['spectacular', 'excellent', 'broad', 'wonderful', 'pleasant', 'peruvian', 'great', 'exceptional', 'sleeve', 'basic', 'peruvian', 'unique', 'good', 'ethnic', 'peruvian', 'peruvian', 'peruvian', 'peruvian', 'peruvian', 'delicious', 'good', 'peruvian', 'fantastic', 'peruvian', 'peruvian', 'small', 'peruvian', 'unique', 'attentive', 'peruvian', 'plate', 'terrible', 'special', 'peruvian', 'awesome', 'peruvian', 'great', 'american', 'peruvian', 'indicative', 'peruvian', 'peruvian', 'peruvian', 'authentic', 'ethnic', 'great', 'atmospherethe', 'peruvian', 'peruvian', 'great', 'peruvian', 'good', 'great', 'latin', 'peruvian', 'peruvian', 'peruvian', 'peruvian', 'special', 'good', 'peruvian', 'knowledgeable', 'good', 'wonderful', 'great', 'great', 'authentic'], ['great', 'overall', 'impressive', 'good', 'disappointed', 'knowledgable', 'okay', 'great', 'summary', 'great', 'great', 'whole', 'vegetarian', 'restaurant', 'average', 'sweet', 'high', 'clean', 'reachable', 'excellent', 'certain', 'ok', 'excellent', 'ok', 'great', 'japanese', 'great', 'good', 'pro', 'japanese', 'good', 'bad', 'great', 'prepared', 'japanese', 'lot', 'perfect', 'incredible', 'great', 'full', 'japanese', 'cheap', 'awesome', 'fifteen', 'hungry', 'great', 'wrong', 'overall', 'good', 'japanese', 'wonderful', 'average', 'average', 'overall', 'prepared', 'tricky', 'great', 'fine', 'much', 'helpful', 'great', 'great', 'knowledgeable', 'much', 'good', 'good', 'overwhelmed', 'great', 'friendly', 'wonderful', 'vega', 'great', 'great', 'great', 'possible', 'not_japanese', 'peruvian', 'free', 'amazing', 'exceptional', 'good', 'impressive', 'due', 'great', 'fantastic', 'impeccable', 'cognizant', 'good', 'great', 'japanese', 'attentive', 'spa', 'forth', 'delicious', 'excellent', 'good', 'favorite', 'amazing', 'good', 'good', 'full', 'different', 'good', 'dynamic', 'spend', 'much', 'decent', 'usd', 'compliment', 'good', 'main', 'impeccable', 'allergy', 'good', 'good', 'excellent', 'okayish', 'bad', 'tiny', 'tasty', 'great', 'good', 'impressive', 'good', 'vega', 'good', 'great', 'much', 'exceptional', 'delicious', 'mediocre', 'vega', 'great', 'japanese', 'much', 'decent', 'decent', 'overall', 'japanese', 'american', 'japanese', 'peruvian', 'attentive', 'awesome', 'great', 'amazing', 'wrong', 'decent', 'japanese', 'excellent', 'excellent', 'restaurant', 'great', 'nobu', 'good', 'additional', 'amazing', 'much', 'amazing', 'unprofessional', 'japanese', 'outstanding', 'average', 'asian', 'wonderful', 'conf', 'cold', 'allergy', 'little', 'delicious', 'expensive', 'delicious', 'pro', 'reasonable', 'horrible', 'great', 'excellent', 'japanese', 'great', 'japanese', 'regular', 'delicious', 'awesome', 'u', 'hot', 'delectable', 'overall', 'incredible', 'unbelievable', 'favorite', 'little', 'good', 'great', 'good', 'u', 'amazing', 'awful', 'whole', 'heavy', 'japanese', 'japanese', 'table', 'japanese', 'wrong', 'chic', 'fabulous', 'much', 'impress', 'outstanding', 'good', 'wonderful', 'good', 'great', 'japanese', 'great', 'impressed', 'overall', 'helpful', 'vega', 'japanese', 'thought', 'cocktail', 'clean', 'sure', 'u', 'fine', 'amazing', 'zesty', 'usual', 'japanese', 'good', 'good', 'different', 'le', 'great', 'good', 'good', 'great', 'terrific', 'enough', 'u', 'japanese', 'favorite', 'nice', 'old', 'good', 'sublime', 'much', 'fabulous', 'rundown', 'good', 'delicious', 'different', 'nice', 'raw', 'japanese', 'unfortunate', 'worth', 'much', 'great', 'u', 'good'], ['unhealthy', 'quick', 'fresh', 'simple', 'helpful'], ['subpar', 'finale', 'delicious', 'live', 'wish', 'italian', 'ridiculous', 'excellent', 'much', 'italian', 'great', 'awesome', 'informative', 'good', 'delicious', 'matter', 'not_keep', 'brilliant', 'subpar', 'italian', 'italian', 'professional', 'great', 'delicious', 'good', 'not_crowded', 'good', 'italian', 'great', 'lead', 'pretentious', 'flavorful', 'lago', 'good', 'great', 'terrible', 'amazing', 'italian', 'great', 'validate'], ['horrible', 'finish', 'japanese', 'friendly', 'modern', 'japanese', 'much', 'japanese', 'understandable', 'reflective', 'overall', 'full', 'bad', 'japanese', 'good', 'japanese', 'good', 'japanese', 'fresh'], ['good', 'rare', 'helpful', 'crazy', 'great', 'great', 'clean', 'good', 'ridiculous', 'chinese', 'fresh', 'run', 'bad', 'scale', 'great', 'bad', 'asian', 'great', 'bad', 'disappointed', 'good', 'many', 'nice', 'grab', 'good', 'much', 'good', 'positive', 'busy', 'awesome', 'not_bad', 'u', 'good', 'little', 'good', 'unjust', 'fifteen', 'little', 'raw', 'japanese', 'vega', 'table', 'asian', 'fresh', 'fresh', 'good', 'open', 'fresh', 'good', 'foreign'], ['good', 'crappy', 'satisfied', 'chinese', 'attentive', 'enjoyed', 'bad', 'aware', 'plenty', 'tealunch', 'affordable', 'tasty', 'outstanding', 'overall', 'sum', 'good', 'full', 'clean', 'polite', 'hot', 'exciting'], ['long', 'vietnamese', 'vietnamese', 'vietnamese', 'vietnamese', 'good', 'sweet', 'vietnamese', 'vietnamese', 'great', 'good', 'vietnamese', 'fantastic', 'asian', 'vietnamese'], ['japanese', 'japanese', 'japanese', 'expensive', 'good', 'much', 'bring', 'good', 'good', 'japanese', 'bad', 'japanese', 'clean', 'japanese', 'japanese', 'beautiful', 'excellent', 'great', 'exterior', 'japanese', 'great', 'japanese', 'japanese', 'great', 'japanese', 'japanese', 'japanese', 'japanese', 'japanese', 'friendly', 'japanese', 'great', 'incredible', 'good', 'attentive', 'terrific', 'little', 'not_empty', 'thirsty', 'fair', 'japanese', 'hot', 'hot', 'not_care', 'great', 'friendly', 'expensive', 'japanese', 'japanese', 'authentic', 'japanese', 'japanese', 'japanese', 'awesome', 'japanese', 'japanese', 'japanese', 'japanese', 'japanese', 'attentive', 'great', 'japanese', 'japanese', 'great', 'friendly', 'great', 'fantastic', 'japanese', 'gross', 'evident', 'japanese', 'japanese', 'japanese', 'awesome', 'japanese', 'fish', 'right', 'japanese', 'eat', 'good', 'japanese', 'good', 'exquisite', 'great', 'japanese', 'japanese', 'japanese', 'pit', 'japanese', 'hot', 'raw', 'fantastic', 'polite', 'good'], ['ok', 'noticed', 'receive', 'fresh', 'disappointed', 'good', 'good', 'ridiculous', 'long', 'good', 'waitress', 'slow', 'attentive', 'slow', 'bad', 'nut', 'excellent'], ['good', 'wonderful', 'not_sure', 'open', 'great', 'good', 'wanted', 'awesome', 'pittsburgh', 'great', 'choosy', 'good', 'awesome', 'next', 'cambodian', 'new', 'overall', 'asian', 'cambodianasian', 'incredible', 'different', 'finish', 'cheap', 'great', 'authentic', 'humble', 'quick', 'low', 'asian', 'asian', 'eloquent', 'fresh', 'good', 'good', 'good', 'stuff', 'delicious', 'cambodian', 'window'], ['waiter', 'good', 'great', 'delicious', 'italian', 'great', 'italian', 'fantastic', 'italian', 'italian', 'fabulous', 'consistent', 'tasty', 'great', 'crappy', 'nice', 'good', 'italian', 'friendly', 'great', 'great', 'great', 'perfect', 'great', 'minimal', 'italian', 'not_for', 'italian', 'great', 'italian', 'not_happy', 'overall', 'italian', 'italian', 'inedible', 'bad', 'minute', 'italian', 'great', 'mediocre', 'happy', 'outside', 'good', 'attentive', 'good', 'good', 'u', 'hot', 'good', 'excellent', 'excellent', 'italianstyle', 'italian', 'italian', 'incredible', 'attentive', 'italian', 'good', 'italian', 'excellent', 'excellent', 'nice', 'italian', 'italian', 'great', 'pleased', 'great', 'excellent', 'fast', 'u', 'quality', 'excellent', 'great', 'italian', 'delicious', 'excellent', 'excellent', 'bread', 'hungry', 'fabulous', 'entree', 'italian', 'great', 'good', 'italian', 'past', 'intrusive', 'italian', 'great', 'italian', 'perfect', 'heavy', 'italian', 'italian', 'happy', 'italian', 'good', 'comparable', 'italian', 'wish', 'italian', 'italian', 'helpful', 'great', 'great', 'italian', 'poor', 'favorite', 'entree', 'delicious', 'amazing', 'excellent', 'italian', 'comparable', 'much', 'remarkable', 'great', 'great', 'ventanos', 'italian', 'u', 'good', 'great', 'great', 'italian', 'great', 'wonderful', 'italian', 'great', 'great', 'u', 'overall', 'good', 'italian', 'mediocre', 'u', 'huge', 'italian', 'great', 'italian', 'delicious', 'sure', 'good', 'exceptional', 'great', 'incredible', 'attentive', 'great', 'great', 'ventano', 'overall', 'good', 'good', 'italian', 'full', 'overall', 'great', 'great', 'great', 'delicious', 'great', 'italian', 'disappointed', 'good', 'slciilian', 'good', 'happy', 'beautiful', 'awesome', 'great', 'italian', 'not_care', 'u', 'italian', 'door', 'authentic', 'helpful', 'italian', 'tasty', 'nice', 'great', 'great', 'lunch', 'italian', 'good', 'enough', 'great', 'italian', 'fantastic', 'italian', 'good', 'italian', 'nice', 'italian', 'good', 'hot', 'cold', 'hot', 'great', 'italian', 'italian', 'friendly', 'italian', 'italian', 'overall', 'italian', 'great', 'great', 'italian', 'great', 'italian', 'sure', 'italian', 'good', 'able', 'great', 'bad', 'italian', 'italian', 'easy', 'wonderful', 'high', 'great', 'excellent', 'different', 'table', 'great', 'wrong', 'great', 'italian', 'italian', 'great', 'delicious', 'wonderful', 'great', 'expensive', 'tough', 'excellent', 'good', 'amazing', 'good', 'good', 'excellent', 'great', 'outstanding', 'overall', 'efficient', 'italian', 'italian', 'italian', 'great', 'vega', 'great', 'ordered', 'long', 'excellent', 'overall', 'overall', 'disappointment', 'good', 'italian', 'excellent', 'norm', 'average', 'entree', 'ten', 'great', 'delicious', 'u', 'italian', 'delicious', 'great', 'italian', 'sad', 'italian', 'great', 'outstanding'], ['good', 'cheap', 'chinese', 'actual', 'terrible', 'cafe', 'good', 'close', 'reasonable', 'cheap', 'upscale', 'cafe', 'chinese', 'good', 'excellent'], ['good', 'great', 'excellent', 'delicious', 'overall', 'excellent', 'good', 'great', 'delicious'], ['pushy', 'good', 'cool', 'rabbit', 'nice', 'not_care', 'greasy', 'much', 'great', 'prepared', 'good', 'small', 'overthetop', 'great', 'mexican', 'bad', 'overall', 'great', 'big', 'outstanding', 'odd', 'great', 'picky', 'not_like', 'outstanding', 'pricey', 'comfortable', 'delicious', 'great', 'good', 'simple', 'high', 'nice', 'good', 'decent', 'outstanding', 'busy', 'slow', 'great', 'noodle'], ['italian', 'italian', 'awesome', 'finish', 'great', 'incredible', 'favorite', 'great', 'italian', 'italian', 'italian', 'italian', 'great', 'great', 'italian', 'great', 'excellent', 'italian', 'italian', 'italian', 'good', 'complaint', 'place', 'italian', 'italian', 'italian', 'good', 'italian', 'ate', 'delicious', 'excited', 'good', 'expensive', 'italian', 'great', 'italian', 'fine', 'italian', 'fresh', 'italian', 'great', 'usual', 'good', 'hysterical', 'great', 'italian', 'good', 'warm', 'great', 'high', 'excellent', 'italian', 'u', 'charm', 'good', 'great', 'italian', 'courteous', 'knowledgeable', 'full', 'italian', 'italian', 'quick', 'italian', 'picky', 'italian', 'italian', 'italian', 'italian', 'italian', 'italian', 'delicious', 'fabulous', 'italian', 'mean', 'u', 'great', 'italian', 'great', 'yay', 'great', 'good', 'italian', 'good', 'monday', 'efficient', 'italian', 'weekday', 'eighty', 'italian', 'great', 'good', 'general', 'good', 'italian', 'busy', 'cheaper', 'rich', 'excellent', 'several', 'great', 'good', 'good', 'good', 'italian', 'tonight', 'italian', 'decent', 'scarf', 'excellent', 'italian', 'italian', 'francisco', 'delicious', 'great', 'italian', 'delicious', 'italian', 'tiny', 'italian', 'excellent', 'italian', 'good', 'cover', 'mediocre', 'delicious', 'great', 'great', 'italian', 'italian', 'cover', 'mediocre', 'great', 'italian', 'great', 'italian', 'good', 'awesome', 'desirable', 'matter', 'italian', 'italian', 'italian', 'fantastic', 'great', 'italian', 'professional', 'italian', 'outstanding'], ['good', 'chinese', 'chinese', 'chinese', 'great', 'excellent', 'chinese', 'new', 'good', 'minute', 'wow', 'delicious', 'bit', 'pleased', 'awesome', 'chinese', 'much', 'chinese', 'favorite', 'chinese', 'chinese', 'u', 'pick', 'chinese', 'chinese', 'chinese', 'good', 'chinese', 'chinese', 'good'], ['awesome', 'helpful', 'familiar', 'great', 'disappointed', 'great', 'proud', 'similar', 'nice', 'nice', 'italian', 'good', 'phenomenal', 'good', 'good', 'bad', 'great', 'good', 'unique', 'good', 'filipino', 'good', 'filipino', 'dirty', 'curious', 'authentic', 'great', 'cold', 'awesome', 'good', 'impecable', 'attentive', 'excellent', 'good', 'calamari', 'great', 'old', 'attentive', 'good', 'native', 'good', 'overall', 'great', 'authentic', 'cannotcomment', 'overall', 'untill', 'fresh', 'cheerful', 'good', 'ethnic'], ['stop', 'southern', 'great', 'good', 'much', 'sad', 'great', 'excellent', 'available', 'great', 'good', 'great', 'great', 'plenty', 'great', 'good', 'delicious', 'american', 'impressed', 'creole', 'cool', 'hot', 'consistent', 'different', 'good', 'good', 'authentic', 'great', 'cajun', 'tasty', 'cajun', 'good', 'different', 'delicious', 'great', 'outstanding', 'overall', 'great', 'good', 'actual', 'awesome', 'great', 'ok', 'awesome', 'outstanding', 'good', 'good', 'great', 'exceptional', 'awful', 'great', 'strong', 'great', 'great', 'razzoos', 'good', 'incredible', 'great', 'good', 'good', 'hot', 'minute', 'restaurant', 'sweet', 'flexible', 'excellent', 'great', 'finish', 'overall', 'tasty', 'great', 'fantastic', 'good', 'much', 'good', 'good', 'great', 'great', 'know', 'dry', 'good', 'great', 'great', 'friendly', 'great', 'amazing', 'good', 'delicious', 'good', 'much', 'good', 'consistent', 'cajun', 'authentic', 'american', 'disappointed', 'great', 'concord', 'much', 'good', 'incredible', 'carolina', 'high', 'good'], ['flavourful', 'chinese', 'quick', 'chinese', 'good', 'toronto', 'inconsistent', 'delicious', 'delicious', 'great', 'chinese', 'cantonese', 'fresh', 'chinese', 'consistent', 'expensive', 'chinese', 'cantonese', 'individual', 'asian', 'asian', 'asian', 'pragmatic', 'chinese', 'korean', 'solid', 'plastic', 'chinese', 'chinese'], ['great', 'unremarkable', 'restaurant', 'good', 'fabulous', 'great', 'spectacular', 'good', 'terrible', 'wonderful', 'average', 'fantastic', 'excellent', 'good', 'pricey', 'strong', 'great', 'great', 'excellent', 'spectacular', 'sacrifice'], ['average', 'excellent', 'finish', 'great', 'japanese', 'unorganized', 'great', 'awesome', 'much', 'extra', 'good', 'great', 'bad', 'great', 'comfortable', 'awesome', 'quick', 'great', 'excellent', 'great', 'menu', 'excellent', 'delicious', 'horrible', 'much', 'japanese', 'teppanyaki', 'quick', 'sushi', 'nice', 'u', 'japanese', 'great', 'free', 'good', 'knowledgeable', 'japanese', 'good', 'great', 'good', 'good', 'tasty', 'good', 'japanese', 'table', 'great', 'good', 'favorite', 'great', 'terrible', 'top', 'much', 'friendly', 'good', 'good', 'nonfish', 'usual', 'nice', 'gracious', 'decent', 'good', 'dirty', 'fancy', 'good', 'excellent', 'actual', 'attentive', 'great', 'asian', 'whole', 'great', 'frozen', 'thai', 'asshole', 'great', 'japaneseamerican', 'good', 'great', 'overall', 'long', 'not_enjoy', 'great', 'great', 'quick'], ['bad', 'hot', 'quick', 'great', 'attentive', 'good', 'wu', 'great', 'outstanding', 'attentive', 'great', 'knowledgeable', 'excellent', 'wish', 'unique', 'great', 'great', 'delicious', 'overall', 'great', 'table', 'lackluster', 'bad', 'bad', 'great', 'bad', 'asian', 'chinese', 'great', 'asian', 'nice', 'messy', 'main', 'perfect', 'courteous', 'great', 'great'], ['attentive', 'great', 'fast', 'attentive', 'fresh', 'good', 'amicable', 'great', 'great', 'fresh', 'stellar', 'attentive', 'smooth', 'excellent', 'excellent', 'great', 'great', 'hot', 'great'], ['awesome', 'italian', 'special', 'delicious', 'horrible', 'drive', 'italian', 'u', 'efficient', 'oh', 'italian', 'italian', 'old', 'good', 'typical', 'underrated', 'good', 'italian', 'nice', 'finish', 'great', 'good', 'great', 'tip', 'leftover', 'great', 'good', 'poor', 'u', 'excellent', 'great', 'fresh', 'delicious', 'attentive', 'italian', 'personable', 'average', 'italian', 'good', 'bread', 'stale', 'general', 'u', 'italian', 'different', 'fast', 'italian', 'good', 'delicious', 'good', 'friendly', 'meal', 'phenomenal', 'good', 'great', 'professional', 'italian', 'great', 'delicious', 'hair', 'good', 'good', 'special', 'great', 'not_good', 'delicious', 'decent', 'great', 'italian', 'cold', 'great', 'italian', 'good', 'excellent', 'good', 'italian', 'harsh', 'italian', 'italian', 'u', 'italian', 'good', 'excellent', 'last', 'fantastic', 'good', 'great', 'outstanding', 'good', 'italian', 'great', 'decent', 'delicious', 'italian', 'italian', 'good', 'much', 'great', 'equivalent'], ['great', 'mexican', 'delicious', 'table', 'mexican', 'delicious', 'great', 'much', 'mexican', 'great', 'excellent', 'mexican', 'mexican', 'mexican', 'welcome', 'good', 'mexican', 'mexican', 'delicious', 'spicy', 'good', 'mexican', 'excellent', 'impressed', 'u', 'mexican', 'mexican', 'delicious', 'friendly', 'great', 'great', 'mexican', 'mexican', 'mexican', 'great', 'sorry', 'yummy', 'mexican', 'decent', 'mexican', 'decent', 'good', 'mexican', 'mexican', 'great', 'friendly', 'great', 'mexican', 'not_us', 'mexican', 'good', 'excited', 'american', 'nana', 'knowledgeable', 'quality', 'great', 'mexican', 'great', 'mexican', 'yummy', 'mexican', 'good', 'slow', 'fantastic', 'mexican', 'mexican', 'great', 'mexican', 'great', 'great', 'delicious', 'great', 'good', 'mexican', 'gross', 'mexican', 'mexican', 'mexican', 'delicious', 'mexican', 'mexican', 'good', 'mexican', 'mexican', 'slow', 'mexican', 'mexican', 'mexican', 'fantastic', 'prepared', 'clean', 'great', 'great', 'sure', 'tasty', 'mexican', 'excellent', 'friendly', 'fantastic', 'great', 'mexican', 'fantastic', 'mexican', 'great', 'mexican', 'mexican', 'mexican', 'quick', 'picky', 'good', 'sweet', 'mexican', 'mexican', 'mexican', 'mexican', 'much', 'mexican', 'mexican', 'delicious', 'good', 'good', 'friendly', 'great', 'delicious', 'good', 'friendly', 'great', 'nice'], ['indian', 'indian', 'indian', 'indian', 'indian', 'indian', 'indian', 'indian', 'mexican', 'indian', 'fresh', 'indian', 'great', 'great', 'good', 'good', 'great', 'indian', 'authentic', 'indian', 'indian', 'indian', 'indian', 'delicious', 'indian', 'great', 'indian', 'indian', 'indian', 'dusty', 'indian', 'indian', 'flavorful', 'indian', 'inferior', 'indian', 'indian', 'different', 'indian', 'great', 'indian', 'indian', 'great', 'indian', 'great', 'good', 'little', 'indian', 'indian', 'indian', 'indian', 'indian', 'excellent', 'indian', 'good', 'great', 'table', 'lndian', 'excellent', 'indian', 'indian', 'good', 'ethnic', 'indian', 'indian', 'indian', 'indian', 'indian', 'indian', 'indian', 'indian', 'indian', 'indian', 'indian', 'indian', 'indian', 'great', 'good', 'indian', 'indian', 'restaurant', 'indian', 'indian', 'indian', 'indian', 'bad', 'indian', 'indian', 'indian', 'indian', 'good', 'indian', 'meal', 'indian', 'indian', 'fresh', 'indian', 'indian', 'fantastic', 'exterior', 'indian', 'red', 'indian', 'indian', 'delicious', 'indian', 'authentic', 'indian', 'indian', 'indian', 'good', 'indian', 'expensive', 'great', 'indian', 'indian', 'indian', 'indian', 'excellent', 'indian', 'wonderful', 'indian', 'mean', 'indian', 'indian', 'indian', 'phoenix', 'indian', 'indian', 'ethnic', 'indian', 'indian', 'indian', 'indian', 'much', 'caribbean', 'indian', 'indian', 'exotic', 'wonderful', 'indian', 'hard', 'indian', 'indian', 'indian', 'indian', 'great', 'much', 'great', 'indian', 'indian', 'indian', 'indian', 'indian', 'excellent', 'nice', 'friendly', 'indian'], ['great', 'mexican', 'not_busy', 'mexican', 'mexican', 'important', 'mexican', 'good', 'good', 'mexican', 'delicious', 'spicey', 'mexican', 'overall', 'wonderful', 'resturant', 'great', 'attentive', 'platic', 'mexican', 'friendly', 'great', 'wonderful', 'mexican', 'mexican', 'mexican', 'overdue', 'mexican', 'excellent', 'good', 'good', 'delicious', 'much', 'good', 'mexican', 'mexican', 'mexican', 'dish', 'large', 'mexican', 'give', 'good', 'mexican', 'great', 'attentive', 'warm', 'awesome', 'mexican', 'mexican', 'great', 'mexican', 'great', 'mexican', 'call', 'mexican', 'amazing', 'good', 'not_empty', 'reasonable', 'mexican', 'mexican', 'yummy', 'resturant', 'mexican', 'mexican', 'mexican', 'terrible'], ['chinese', 'consistent', 'remarkable', 'great', 'good', 'chinese', 'chinese', 'chinese', 'different', 'terrible', 'good', 'chinese', 'chinese', 'weekday', 'hot', 'new', 'chinese', 'chinese', 'artificial', 'good', 'tasty', 'chinese', 'chinese', 'chinese', 'good', 'fantastic', 'ok', 'great', 'fresh', 'chinese', 'chinese', 'overall', 'hot', 'chinese', 'great', 'bad', 'chinese', 'good', 'good', 'overall', 'delicious', 'bad', 'delicious', 'delicious', 'chinese', 'good', 'good', 'fresh', 'reasonable', 'chinese', 'holiday', 'delicious', 'sweet', 'early', 'chinese', 'good', 'chinese', 'inedible', 'good', 'chinese', 'good', 'chinese', 'asian', 'particular', 'enough', 'chinese', 'much', 'acceptable', 'horrible', 'give', 'good', 'good', 'available', 'good', 'whhhhhite', 'bad', 'chinese', 'usa', 'chinese', 'chinese', 'chinese', 'chinese', 'good', 'chinese', 'chinese', 'much', 'chinese', 'chinese', 'good', 'chinese', 'table', 'different', 'good', 'good', 'nice', 'traditional', 'unfortunately', 'basic', 'awesome', 'full', 'tried', 'chinese', 'bad', 'short', 'mean', 'chinese', 'amount', 'fresh', 'fresh', 'good', 'great', 'reasonable', 'chinese', 'chinese', 'not_beautiful', 'mekong', 'hot', 'good', 'good', 'chinese', 'delicious'], ['good', 'great', 'stellar', 'italian', 'outstanding', 'italian', 'good', 'great', 'great', 'italian', 'great', 'good', 'outstanding', 'frozen', 'much', 'italian', 'outstanding', 'great', 'great', 'excellent', 'great', 'special', 'great', 'great', 'happy', 'u', 'good', 'awesome', 'italian', 'horrible', 'italian', 'awesome', 'outstanding', 'nice', 'great', 'fabulous', 'italian', 'exceptional', 'great', 'italian', 'good', 'good', 'awesome', 'wine'], ['chinese', 'chinese', 'chinese', 'excellent', 'chinese', 'good', 'chinese', 'great', 'chinese', 'great', 'excellent', 'normal', 'good', 'u', 'great', 'chinese', 'great', 'chinese', 'clean', 'perfect', 'chinese', 'clean', 'chinese', 'chinese', 'chinese', 'chinese', 'chinese', 'delicious', 'happy', 'chinese', 'ethnic', 'chinese', 'friendly', 'hot', 'chinese', 'chinese', 'chinese', 'chinese', 'chinese', 'clean', 'chinese', 'chinese', 'chinese', 'chinese', 'chinese', 'chinese', 'chinese', 'chinese', 'overall', 'mushy', 'mushy', 'great', 'chinese', 'chinese', 'chinese', 'box', 'chinese', 'chinese', 'good', 'traditional', 'chinese', 'dad', 'open', 'chinese', 'learn', 'great', 'dish', 'good', 'chinese', 'overall', 'good', 'chinese', 'chinese', 'clean', 'incredible', 'good', 'chinese', 'chinese', 'chinese', 'great', 'chinese', 'chinese', 'chinese', 'chinese', 'delicious', 'asian', 'chinese', 'identical', 'chinese', 'chinese', 'chinese', 'chinese', 'chinese', 'u', 'fresh', 'chinese', 'satisfied', 'clean'], ['wonderful', 'array', 'good', 'great', 'nervous', 'sick', 'friendly', 'type', 'chinese', 'lunch', 'chinese', 'chinese', 'miss', 'future', 'hot', 'good', 'raw', 'temporary', 'weigh', 'hot', 'chinese', 'chinese', 'great', 'chinese', 'wok', 'chinese', 'chinese', 'asian', 'chinese', 'chinese', 'overall', 'pricey', 'wrong', 'chinese', 'adventurous', 'chinese', 'decent', 'chinese', 'korean', 'tasty', 'ok', 'asian', 'cold', 'wide', 'adequate', 'asian', 'actual', 'much', 'last', 'chef', 'good', 'delicious', 'sixteen', 'horrible', 'awesome', 'great', 'good', 'wow', 'dish', 'average', 'dirty', 'hot', 'isle', 'authentic', 'enough', 'hot', 'nasty', 'much', 'hot', 'crappy', 'asian', 'delicious', 'fair', 'good', 'unorganic', 'first', 'chinese', 'new', 'great', 'chinese', 'particular', 'various', 'good', 'hard', 'fresh', 'hot', 'pricey', 'horrible', 'chinese', 'different', 'comfortable', 'hot', 'chinese', 'much', 'theme', 'not_the', 'hot', 'several', 'asian', 'dish', 'great', 'clean', 'excellent', 'chinese', 'hot', 'chinese', 'chinese', 'wipe', 'wrong', 'good', 'cold', 'american', 'skeptical', 'bad', 'good', 'buffet', 'asian'], ['good', 'bad', 'wonderful', 'certain', 'much', 'puhleese', 'pick', 'busy', 'u', 'generous', 'nite', 'minute', 'not_stellar', 'corporate', 'excellent', 'good', 'bad', 'poor', 'excellent', 'wrong', 'atrocious', 'side'], ['good', 'eaten', 'plenty', 'thai', 'good', 'excellent', 'positive', 'great', 'good', 'korean', 'dish', 'deelish', 'vega', 'helpful', 'happy', 'korean', 'good', 'thai', 'spectacular', 'good', 'korean', 'excellent', 'amazing', 'korean', 'korean', 'thai', 'average', 'interactive', 'great', 'thai', 'korean', 'good', 'garlic'], ['good', 'full', 'flavorful', 'amazing', 'not_steal', 'dirty', 'bib', 'restaurant', 'excellent'], ['mediocre', 'poor', 'little', 'little', 'cheerful', 'good', 'wrong', 'flavor', 'half', 'horrible', 'funny', 'great', 'dirty', 'excellent', 'ketchup'], ['fantastic', 'good', 'delicious', 'great', 'delicious', 'good', 'much', 'table', 'worth', 'great', 'heavy', 'suck', 'great', 'great', 'great', 'great', 'awesome', 'not_think', 'noisy', 'not_devour', 'understand', 'long', 'underwhelmed', 'bad', 'not_fast', 'not_typical', 'great', 'empty', 'fast', 'pricey', 'good', 'great', 'good', 'pricey', 'many', 'slow', 'usual', 'generous', 'much', 'average', 'excellent', 'horrible', 'friendly', 'great', 'awesome', 'mediocre', 'great', 'happy', 'ambience', 'consistent', 'great', 'fabulous', 'different', 'loud', 'horrible', 'cold', 'mixed', 'grateful', 'phoenician', 'professional', 'great', 'great', 'awesome', 'quick', 'slimy', 'healthy', 'outstanding', 'great', 'amaze', 'much', 'outstanding', 'standard', 'top', 'ask', 'full', 'great', 'inspect', 'wait', 'great', 'complaint', 'delicious', 'terrible', 'great', 'creole', 'fresh', 'delicious', 'amazing', 'excellent', 'many', 'knowledgable', 'great', 'outstanding', 'delicious', 'tasty', 'great', 'fantastic', 'new', 'delicious', 'short', 'great', 'southern', 'great', 'much', 'late', 'great', 'great', 'honesty', 'happy', 'decent', 'polite', 'new', 'great', 'u', 'good', 'excellent', 'excellent', 'overall', 'much', 'likeable', 'friendly', 'good', 'good', 'good', 'great', 'huge', 'great', 'great', 'great', 'worth', 'great', 'attentive', 'great', 'happy', 'much', 'good', 'excellent', 'delish', 'much', 'great', 'great', 'average', 'wonderful', 'glad', 'much', 'delicious', 'excellent', 'south', 'great', 'great', 'great', 'good', 'fantastic', 'attentive', 'good', 'fifty', 'good', 'wonderful', 'happy', 'great', 'cajun', 'great', 'good', 'helpful', 'excellent', 'cajun', 'atmosphere', 'cajun', 'fix', 'past', 'excellent', 'expensive', 'loud', 'great', 'different', 'impeccable', 'gorgeous', 'efficient', 'great', 'spice', 'southern', 'glad', 'fantastic', 'bad', 'good', 'energetic', 'memorable', 'pappdeaux', 'new', 'average', 'knowledgeable', 'excellent', 'great', 'sure', 'good', 'excellent', 'excellent', 'much', 'good', 'good', 'delicious', 'delicious', 'friendly', 'unbelievable', 'busy', 'great', 'fantastic', 'good', 'excellent', 'great', 'comparable', 'nice', 'cajun', 'bleh', 'good', 'good', 'appetite', 'great', 'not_charge', 'frozen', 'delicious', 'lmao', 'great', 'excellent', 'great', 'horrible', 'cold', 'mixed', 'great', 'great', 'good', 'live', 'great', 'knowledgable', 'great', 'great', 'exceptional', 'excellent', 'nice', 'beautiful', 'great', 'much', 'average', 'drag', 'u', 'great', 'good', 'fantastic', 'great', 'tasty', 'great', 'great', 'beautiful', 'good', 'delicious', 'helpful', 'not_remember', 'busy', 'great', 'delicious', 'u', 'excellent', 'good', 'pleasant', 'happy', 'exceptional', 'second', 'good', 'local', 'delicious', 'horrible', 'delicious', 'phoenix', 'southern', 'great', 'great', 'great', 'great', 'excellent', 'bad', 'great', 'temp', 'swear', 'great', 'delicious', 'actual', 'great', 'outstanding', 'great', 'great', 'competent', 'fantastic', 'expensive', 'greatthe', 'great', 'minute', 'professional', 'great', 'great', 'good', 'pricey', 'papadeaux', 'not_just', 'great', 'excellent', 'great', 'fantastic', 'delicious', 'great', 'great', 'overall', 'not_happy', 'passable', 'excellent', 'exceptional', 'great', 'great', 'good', 'prepare', 'fantastic', 'great', 'phenomenal', 'damn', 'empty', 'excellent', 'good', 'unhappy', 'disappointed', 'good', 'not_bad', 'great', 'knowledgeable', 'great', 'great', 'excellent', 'perfect', 'attentive', 'delicious', 'plenty', 'great', 'great', 'condusive', 'tell', 'good', 'u', 'full', 'awesome', 'beautiful', 'quick', 'plenty', 'huge', 'great', 'good', 'great', 'good', 'good', 'great', 'great', 'awesome', 'great', 'loud', 'fresh', 'pricey', 'bad', 'good', 'great', 'awesome', 'bad', 'table', 'accurate', 'excited', 'amazing', 'good', 'excellent', 'u', 'not_rite', 'prompt', 'wonderful', 'wrong', 'great', 'bread', 'good', 'good', 'awesome', 'mediocre', 'organic', 'good', 'good', 'hot', 'great', 'beautiful', 'average', 'delicious', 'wonderful', 'tip', 'fine', 'great', 'great', 'unreal', 'avoid', 'nice', 'great', 'good', 'much', 'fast', 'great', 'u', 'different', 'enough', 'rare', 'fresh', 'fantastic'], ['average', 'great', 'solid', 'underwhelmed', 'disappointing', 'good', 'quick', 'great', 'long', 'small', 'cold', 'good', 'hushpuppy', 'waitress', 'different', 'not_enjoy', 'overall', 'good', 'good', 'quality', 'full', 'awesome', 'good', 'tough', 'great', 'great'], ['excellent', 'good', 'italian', 'great', 'good', 'great', 'friendly', 'good', 'short', 'little', 'eclectic', 'great', 'delish', 'much', 'g', 'worth', 'good', 'perfect', 'great', 'restaurant', 'much', 'excellent', 'good', 'mexican', 'great', 'fantastic', 'good', 'great', 'good', 'disappointed', 'italian', 'great', 'overall', 'gorgeous', 'great', 'update'], ['great', 'great', 'great', 'glad', 'wrong', 'good', 'door', 'good', 'correct', 'good', 'busy', 'good', 'poor', 'actual', 'similar', 'not_serving', 'great', 'great', 'great', 'good', 'fresh', 'fresh', 'bad'], ['greek', 'good', 'mediterranean', 'greek', 'good', 'simple', 'greek', 'great', 'frozen', 'greek', 'average', 'mediterranean', 'greek', 'greek', 'fast', 'good', 'poor', 'greek', 'greek', 'cozy', 'overall', 'greek', 'chinese', 'greek', 'great', 'great', 'delicious', 'personable', 'caliber', 'not_anonymous'], ['hot', 'special', 'prompt', 'phoenix', 'u', 'frozen', 'mexican', 'mexican', 'great', 'mexican', 'meant', 'mexican', 'good', 'mexican', 'bad', 'mexican', 'mexican', 'mexican', 'mexican', 'excellent', 'great', 'good', 'mexican', 'busy', 'mexican', 'adequate', 'great', 'great', 'mexican', 'mexican', 'mexican', 'mexican', 'mexican', 'mexican', 'mexican', 'mexican', 'quiet', 'busy', 'mexican'], ['italian', 'good', 'exquisite', 'scrumptious', 'hungry', 'italian', 'italian', 'great', 'italian', 'good', 'pick', 'italian', 'great', 'good', 'great', 'iffy', 'great', 'italian', 'italian', 'italian', 'italian', 'good', 'picking', 'great', 'italian', 'friendly', 'italian', 'delicious', 'italian', 'square', 'italian', 'good', 'great', 'important', 'good', 'great', 'italian', 'sweet', 'great', 'delicious', 'great', 'italian', 'excellent', 'italian', 'italian', 'italian', 'italian', 'good', 'good', 'delicious', 'great', 'great', 'good', 'italian', 'good', 'consistent', 'excellent', 'awesome', 'italian', 'italian', 'italian', 'great', 'italian', 'outstanding', 'great', 'italian', 'delicious', 'italian', 'italian', 'italian', 'devour', 'good', 'italian', 'good', 'good', 'great', 'italian', 'arizona', 'italian', 'outstanding', 'great', 'good', 'great', 'great', 'great', 'italian', 'italian', 'manner', 'fresh', 'excellent', 'great', 'not_pretentious', 'good', 'italian', 'great', 'good', 'good', 'good', 'italian', 'great', 'delicious', 'enough', 'authentic', 'great', 'italian', 'great', 'solid', 'small', 'italian', 'much', 'italian', 'italian', 'italian', 'great', 'fancy', 'amazing', 'good', 'great', 'good', 'italian', 'menu', 'awesome', 'italian', 'delicious', 'italian', 'little'], ['helpful', 'overall', 'happy', 'warm', 'great', 'excellent', 'clean', 'absent', 'great', 'fine', 'not_happy', 'good', 'different', 'nice', 'average', 'pleased', 'great', 'bad', 'great', 'bad', 'delicious', 'good'], ['chinese', 'chinese', 'chinese', 'chinese', 'chinese', 'chinese', 'chinese', 'chinese', 'chinese', 'chinese', 'chinese', 'much', 'good', 'asian', 'chinese', 'good', 'chinese', 'chinese', 'chinese', 'delicious', 'chinese', 'chinese', 'chinese', 'chinese', 'good', 'chinese', 'chinese', 'great', 'delicious', 'excellent', 'chinese', 'much', 'enough', 'excellent', 'extra', 'great', 'chinese', 'chinese', 'chinese'], ['courteous', 'fine', 'delicious', 'attentive', 'gross', 'mexican', 'great', 'mexican', 'mexican', 'mexican', 'mexican', 'mexican', 'fresh', 'mexican', 'mexican', 'not_receive', 'original', 'decent', 'mexican', 'mexican', 'mexican', 'good', 'mexican', 'mexican', 'inattentive', 'fifteen', 'excellent', 'good', 'decent', 'excellent', 'good', 'mexican', 'mexican', 'wrong', 'wrong', 'appetizer', 'crappy', 'mexican', 'mexican', 'mexican', 'mexican', 'good', 'mexican', 'fast', 'mexican', 'mexican', 'much', 'good', 'impressed', 'great', 'good', 'disappointed', 'wonderful', 'tasty', 'good', 'free', 'mexican', 'amazing', 'mexican', 'great', 'mexican', 'great', 'unacceptable', 'mediocre', 'mexican', 'mexican', 'great', 'mexican', 'awful', 'much', 'bad', 'great', 'long', 'great', 'mexican', 'mexican', 'attentive', 'mexican', 'extra', 'mexican', 'delicious'], ['sure', 'good', 'great', 'fresh', 'good', 'overall', 'great', 'bring', 'costco', 'great', 'mexican', 'great', 'great', 'mexican', 'terrible', 'le'], ['mexican', 'mexican', 'mexican', 'mexican', 'mexican', 'mexican', 'mexican', 'great', 'good', 'mexican', 'average', 'great', 'much', 'nice', 'great', 'mexican', 'great', 'mexican', 'worth', 'good', 'outstanding', 'much', 'fair', 'see', 'amazing', 'great', 'mexican', 'mexican', 'great', 'good', 'mexican', 'mexican', 'great', 'festive', 'friendly', 'mexican', 'mexican', 'memorable', 'great', 'great', 'attentive', 'authentic', 'mexican', 'top', 'nice', 'mexican', 'delicious', 'outstanding', 'good', 'nice', 'mexican', 'mexican', 'mexican', 'mexican', 'authentic', 'mexican', 'mexican', 'efficient', 'friendly', 'great', 'good', 'mexican', 'mexican', 'mexican', 'efficient', 'fantastic', 'mexican', 'delicious', 'excellent', 'great', 'mexican', 'enough', 'mexican', 'menudo', 'great', 'delicious', 'mexican', 'mexican', 'mexican', 'good', 'mexican', 'mexican', 'mexican', 'mexican', 'friendly', 'good', 'mexican', 'great', 'mexican', 'margarita', 'mexican', 'great', 'mexican', 'mexican', 'mexican', 'great', 'mexican', 'mexican', 'mexican', 'mexican', 'mexican', 'mexican', 'total', 'authentic', 'great', 'disappointed', 'lupita', 'mexican', 'mexican', 'love', 'mexican', 'mexican', 'mexican', 'u', 'excellent', 'dish', 'good', 'mexican'], ['louisiana', 'southern', 'frozen', 'good', 'hot', 'hot', 'fast', 'minute', 'pro', 'good', 'good', 'great', 'not_feasible', 'not_clean', 'southern', 'freid', 'southern', 'gumbo', 'southern', 'actual', 'good', 'great', 'overall', 'exceptional', 'fat', 'delicious'], ['meal', 'terrible', 'special', 'greek', 'disappointing', 'great', 'greek', 'nice', 'greek', 'bad', 'greek', 'much', 'greek', 'finish', 'authentic', 'favorite', 'greek', 'overhaul', 'regardless', 'delicious', 'greek', 'reasonable', 'u', 'not_happy', 'bad', 'great', 'greek', 'horrible', 'likely', 'greek', 'restaurant'], ['great', 'great', 'friendly', 'fast', 'good', 'comfortable', 'good', 'italian', 'great', 'possible', 'fine', 'high', 'good', 'good', 'good', 'good', 'great', 'carrabbas', 'horrible', 'excellent', 'excellent', 'start', 'unfortunate', 'u', 'fresh', 'fresh', 'short', 'fine', 'disappointing', 'excellent', 'proper', 'italian', 'great', 'great', 'italian', 'italian', 'category', 'efficient', 'awful', 'want', 'wrong', 'enjoyable'], ['average', 'great', 'chinese', 'decent', 'attentive', 'special', 'good', 'cantonese', 'fresh', 'authentic', 'cantonese', 'chinese', 'chinese', 'chinese', 'good', 'chinese', 'happy', 'good', 'chinese', 'chinese', 'chinese', 'chinese', 'mean', 'cantonese', 'good', 'good', 'good', 'good', 'cantonese', 'sweaty', 'chaotic', 'chinese', 'chinese', 'cantonese', 'chinese', 'chinese', 'fantastic', 'burnt', 'cantonese', 'chinese', 'overall', 'overall', 'chinese', 'american', 'great', 'good', 'excellent', 'clean', 'tasty', 'cantonese', 'interior', 'chinese', 'chinese', 'great', 'great', 'chinese', 'quality', 'chinese', 'attentive', 'chinese'], ['great', 'u', 'table', 'frozen', 'confused', 'good', 'good', 'happy', 'neat', 'great', 'good', 'minor', 'attentive', 'frozen', 'free', 'existent', 'special', 'fry', 'condiment', 'favorite', 'con', 'great', 'good', 'cold'], ['great', 'awesome', 'good', 'great', 'nice', 'friendly', 'good', 'great', 'plenty', 'overall', 'reasonable', 'expensive', 'good', 'good', 'great', 'overall', 'decent', 'lousy', 'underwhelmed', 'oyster', 'entree', 'excellent', 'good', 'average', 'great', 'quick', 'good', 'great', 'good', 'dish', 'good', 'ok', 'delicious', 'not_busy', 'delicious', 'excellent', 'good', 'useless', 'amazing', 'regret', 'u', 'not_just', 'fresh', 'uneven', 'attitude', 'attentive', 'friendly', 'great', 'great', 'high', 'great', 'impressed', 'great', 'fine', 'great', 'generous', 'fabulous', 'bad', 'enough', 'wonderful', 'average', 'sick', 'quick', 'disappointed', 'exceptional', 'mediocre', 'reminiscent', 'great', 'great', 'helpful', 'hallie', 'fantastic', 'good', 'good', 'impressed', 'nice', 'bad', 'bad', 'excellent', 'miss', 'table', 'great'], ['awful', 'disappointing', 'nice', 'awful', 'clear', 'nasty', 'salad', 'decent', 'alex', 'write', 'good'], ['wrong', 'efficient', 'awesome', 'impeccable', 'great', 'not_worth', 'excellent', 'great'], ['great', 'impressed', 'not_bad', 'funky', 'impressed', 'overall', 'intrusive', 'delightful', 'positive', 'great', 'good', 'impressed', 'professional', 'excellent', 'weird', 'eclectic', 'tasty', 'impeccable', 'fantastic', 'good', 'basic', 'fabulous', 'great', 'great', 'terrible', 'ugh', 'many', 'mary', 'overall', 'dish', 'much', 'great', 'wait', 'plate', 'fantastic', 'quality', 'wish', 'different', 'awesome', 'salad', 'great', 'great', 'strange', 'wrong', 'delicious', 'giant'], ['good', 'warm', 'good', 'brunch', 'special', 'good', 'great', 'not_intrusive', 'right', 'overall', 'good', 'gray', 'good', 'excellent', 'great', 'much', 'good', 'dish', 'good', 'fantastic', 'disappointed', 'past', 'decent', 'good', 'spacious', 'awesome', 'not_impress', 'unbelievable', 'good', 'excellent', 'good', 'good'], ['great', 'u', 'u', 'tap', 'good', 'italian', 'u', 'good', 'good', 'ale', 'overall', 'small'], ['happy', 'good', 'much'], ['great', 'main', 'italian', 'excellent', 'fantastic', 'good', 'excellent', 'small', 'good', 'great', 'great', 'fine', 'italian', 'u', 'italian', 'italian', 'italian', 'italian', 'italian', 'delicious', 'friendly', 'italian', 'great', 'italian', 'delicious', 'excellent', 'good', 'italian', 'italian', 'not_already', 'fantastic', 'italian', 'italian', 'delicious', 'good', 'not_have', 'italian', 'italian', 'italian', 'high', 'delicious', 'good', 'happy', 'italian', 'italian', 'italian', 'anonymous', 'interesting', 'italian', 'good', 'good', 'great'], ['great', 'terrible', 'expensive', 'good', 'hear', 'excellent', 'kingfish', 'special', 'strong', 'excellent', 'shellfish', 'delicious', 'fresh'], ['great', 'good', 'good', 'decent', 'top', 'top', 'inattentive', 'average', 'total', 'chinese', 'right', 'good', 'unbeatable', 'chinese', 'msg'], ['wine', 'great', 'exceptional', 'favorite', 'great', 'reasonable', 'good', 'attentive', 'good', 'excellent', 'great', 'pleased', 'exceptional', 'delicious', 'perfect', 'awesome', 'great', 'great', 'average', 'excellent', 'restaurant', 'attentive', 'efficient', 'incredible', 'enjoyable', 'excellent', 'attentive', 'good', 'delicious', 'great', 'excellent', 'decent', 'great', 'great', 'great', 'great', 'good', 'excellent', 'fabulous', 'great', 'tiny', 'great', 'professional', 'outstanding', 'good', 'u', 'delicious', 'excellent', 'awesome', 'great', 'good', 'special', 'phenomenal'], ['chinese', 'chinese', 'chinese', 'good', 'chinese', 'chinese', 'good', 'asian', 'chinese', 'contrary', 'chinese', 'good', 'chinese', 'chinese', 'sure', 'chinese', 'american', 'chinese', 'good', 'chinese', 'chinese', 'chinese', 'hot', 'chinese', 'good', 'attentive', 'excellent', 'friendly', 'clean', 'good', 'clean', 'chinese', 'chinese', 'good', 'chinese', 'chinese', 'chinese', 'chinese', 'chinese', 'chinese', 'chinese', 'excellent', 'chinese', 'bad', 'chinese', 'additional', 'great', 'little', 'attentive', 'clean', 'cheese', 'chinese', 'great', 'great', 'chinese', 'good', 'great', 'chinese', 'great', 'chinese', 'great', 'chinese', 'overall', 'chinese', 'chinese', 'sure', 'excellent', 'chinese', 'lucky', 'chinese', 'chinese', 'asian', 'chinese', 'great', 'delicious', 'asian', 'chinese', 'minute', 'much', 'chinese', 'fast', 'chinese', 'chinese', 'chinese', 'great', 'large', 'chinese', 'chinese', 'chinese', 'great', 'unexpected', 'chinese', 'chinese', 'great', 'chinese', 'chinese', 'delicious', 'chinese', 'authentic', 'chinese', 'bunch', 'chinese', 'chinese', 'chinese', 'chinese', 'chinese', 'chinese', 'decent', 'attentive', 'chinese', 'cantonese', 'great', 'chinese', 'consistent', 'good', 'great', 'available', 'chinese', 'simple', 'full', 'chinese'], ['chinese', 'fresh', 'chinese', 'helpful', 'chinese', 'chinese', 'chinese', 'wow', 'care', 'chinese', 'chinese', 'fantastic', 'chinese', 'chinese', 'awesome', 'chinese', 'chinese', 'delicious', 'hot', 'hot', 'wonderful', 'fresh', 'chinese', 'chinese', 'right', 'chinese', 'chinese', 'reasonable', 'chinese', 'great', 'quick', 'chinese', 'chinese', 'great', 'good', 'great', 'chinese', 'quality', 'good', 'chinese', 'fresh', 'great', 'chinese', 'chinese', 'chinese', 'chinese', 'awesome', 'quality', 'chinese', 'chinese', 'great', 'chinese', 'chinese', 'chinese', 'chinese', 'great', 'excellent', 'asian', 'chinese', 'excellent', 'chinese', 'good', 'decent', 'chinese', 'chinese', 'chinese', 'asian', 'new', 'worth', 'prepared', 'chinese', 'chinese', 'overall', 'chinese', 'chinese', 'chinese', 'chinese', 'asian', 'chinese', 'chinese', 'small', 'easy', 'chinese', 'good', 'reasonable', 'clean', 'chinese', 'agree', 'chinese', 'exceptional', 'amazing', 'short', 'fantastic', 'chinese', 'welcome', 'chinese', 'chinese', 'chinese', 'chinese', 'great', 'chinese', 'chinese', 'chinese', 'chinese', 'chinese', 'chinese', 'unmatchable', 'chinese', 'chinese', 'chinese', 'chinese', 'excellent', 'chinese', 'chinese', 'chinese', 'good', 'chinese'], ['online', 'pick', 'chinese', 'dish', 'spicy', 'comparable', 'chinese', 'clean', 'overall', 'possible', 'great', 'chinese', 'u', 'minute', 'u', 'chinese', 'chinese', 'much', 'chinese', 'chinese', 'delicious', 'quick', 'great', 'free', 'easy', 'chinese', 'chineese', 'asian', 'great', 'fast', 'chinese', 'chinese', 'chinese', 'great', 'chinese', 'awful', 'chinese', 'good', 'asian', 'great', 'chinese', 'chinese', 'chinese', 'chinese', 'chinese', 'chinese', 'chinese', 'asian', 'terrible', 'chinese', 'outstanding'], ['great', 'new', 'wrong', 'table', 'great', 'attentive', 'good', 'good', 'good', 'japanesekorean', 'japanese', 'delicious'], ['amazing', 'great', 'good', 'table', 'attentive', 'happy', 'excellent', 'much', 'important', 'proper', 'unprofessional', 'different', 'u', 'unfortunate', 'fresh', 'overall', 'lunch'], ['nasty', 'nasty', 'slow', 'cold', 'quick', 'bad', 'great', 'low', 'table', 'lousy', 'mom', 'great', 'awesome', 'great', 'table', 'slow', 'puppy', 'much', 'great', 'good', 'tonight', 'perfect', 'terrible', 'great', 'terrible', 'horrible', 'wellthe', 'good', 'bit', 'good', 'menu', 'great', 'enough', 'good', 'puppy', 'present', 'good', 'bad', 'not_be', 'bad', 'great', 'helpful', 'common', 'good', 'bad', 'bad', 'good', 'fantastic', 'sure', 'empty', 'great', 'white', 'good', 'table', 'heir', 'disappointing', 'great', 'great', 'great', 'certain', 'rush', 'wait', 'great', 'mediocre', 'great', 'much', 'awesome', 'bad', 'not_disappoint', 'great', 'great', 'not_get', 'great', 'great', 'great', 'new', 'additional', 'obnoxious', 'delicious', 'wish', 'perfect', 'table', 'inattentive', 'good', 'delicious', 'mishap', 'enough', 'sure', 'good', 'dry', 'cold'], ['bunch', 'summary', 'bite', 'fantastic', 'japanese', 'excellent', 'fifty', 'little', 'adventurous', 'cool', 'ok', 'stuff', 'good', 'ogden', 'decor', 'much', 'japanese', 'japanese', 'japanese', 'japanese', 'good', 'fresh', 'small', 'great', 'fit', 'great', 'not_enough'], ['reasonable', 'prompt', 'chinese', 'frill', 'tip', 'good', 'great', 'regular', 'terrible', 'usd', 'regardless', 'wish', 'ok'], ['free', 'chinese', 'delicious', 'great', 'chinese', 'delicious', 'chinese', 'chopstick', 'chinese', 'chinese', 'fantastic', 'chinese', 'chinese', 'chinese', 'chinese', 'old', 'interested', 'chinese', 'awful', 'chinese', 'chinese', 'good', 'u', 'chinese', 'good', 'chinese', 'chinese', 'chinese', 'chinese', 'chinese', 'chinese', 'wrong', 'chinese', 'tasty', 'cheap', 'second', 'good', 'outside', 'chinese', 'great', 'large', 'great', 'fantastic', 'chinese', 'awesome', 'helpful', 'great', 'chinese', 'chinese', 'chinese', 'chinese', 'chinese', 'phoenix', 'chinese', 'fantastic', 'generous', 'fresh', 'chinese', 'chinese', 'chinese', 'chinese', 'great', 'extra', 'quick', 'chinese', 'chinese', 'great', 'cooky', 'chinese', 'great', 'chinese', 'incredible', 'chinese', 'subpar', 'chinese', 'chinese', 'chinese', 'chinese', 'free', 'chinese', 'asian', 'generous', 'chinese', 'chinese', 'enough', 'average', 'chinese', 'sad', 'free', 'chinese', 'chinese', 'fresh', 'chinese', 'chinese', 'chinese', 'good', 'chinese', 'italian', 'chinese', 'chinese', 'chinese', 'great', 'great', 'chinese', 'asian', 'chinese', 'great', 'unbelievable', 'good', 'great', 'good', 'fresh', 'chinese', 'not_far', 'much', 'great', 'delicious', 'much', 'chinese', 'chinese', 'chinese', 'great', 'chinese', 'chinese', 'chinese', 'good', 'actual', 'chinese', 'chinese', 'wrong', 'right', 'chinese', 'chinese', 'chinese', 'delicious', 'chinese', 'chinese', 'chinese', 'much', 'chinese', 'chinese', 'dish', 'generous'], ['italian', 'cheap', 'great', 'wrong', 'italian', 'good', 'italian', 'crappy', 'great', 'great', 'fabulous', 'great', 'cold', 'unsatisfied', 'great', 'outstanding', 'great', 'ask', 'good', 'good', 'italian', 'astronaut', 'flavor', 'italian', 'great', 'good', 'great', 'familiar', 'italian', 'italian', 'italian', 'delicious', 'good', 'bad', 'bag', 'italian', 'great', 'great', 'carraba', 'italian'], ['awesome', 'good', 'great', 'mexican', 'great', 'fantastic', 'not_do', 'delicious', 'awesome', 'good', 'great', 'yummy', 'great', 'great', 'mexican', 'amazing', 'mexican', 'great', 'excellent', 'great', 'great', 'perfect', 'fast', 'great', 'happy', 'mexican', 'mexican', 'mexican', 'knowledgeable', 'great', 'great', 'mexican', 'attentive', 'attentive', 'efficient', 'great', 'great', 'u', 'great', 'good', 'happy', 'unique', 'delicious', 'u', 'delicious', 'expensive', 'great', 'good', 'amazing', 'apprehensive', 'awesome', 'mexican', 'mexican', 'delicious'], ['good', 'great', 'wonderful', 'great', 'good', 'knowledgable', 'delicious', 'overall', 'good', 'wine', 'wine', 'attentive', 'sure', 'terrible', 'ordinary', 'general', 'good', 'delicious', 'remarkable', 'good', 'fantastic', 'fabulous', 'fry', 'excellent', 'good', 'great', 'happy', 'great', 'unbelievable', 'aware', 'worth', 'different', 'u', 'attentive', 'great', 'great', 'fantastic', 'delicious', 'delicious', 'fantastic', 'full'], ['delicious', 'mexican', 'great', 'mexican', 'overall', 'much', 'mexican', 'mexican', 'ur', 'mexican', 'good', 'delicious', 'good', 'overall', 'great', 'overall', 'great', 'mexican', 'great', 'great', 'mexican', 'mexican', 'great', 'mexican', 'friendly', 'good', 'consistent', 'mexican', 'mexican'], ['great', 'excellent', 'delicious', 'strooong', 'chinese', 'japanese', 'asian', 'good', 'asian', 'good', 'chinese', 'minute', 'japanese', 'chinese', 'minute', 'chinese', 'great', 'excellent', 'helpful', 'chinese', 'great', 'friendly', 'asian', 'minute', 'great'], ['overall', 'good', 'follow', 'u', 'generous', 'casual', 'great', 'follow', 'filipino', 'green', 'overall'], ['standard', 'acceptable', 'much', 'good', 'enough', 'hot', 'good', 'enough', 'tray', 'good', 'great', 'disappointing', 'great', 'bougie', 'great', 'fair', 'ton', 'overall', 'friendly', 'much'], ['ethnic', 'amazing', 'common', 'complex', 'vega', 'great', 'fresh', 'good', 'japanese', 'good', 'japanese', 'japanese', 'great', 'japanese', 'outstanding', 'great', 'tasty', 'japanese', 'beautiful', 'great', 'great', 'desired'], ['u', 'chinese', 'chinese', 'authentic', 'great', 'noodle', 'enjoy', 'excellent', 'normal', 'chinese', 'chinese', 'dish', 'u', 'chinese', 'cantonese', 'chinese', 'chinese', 'alright', 'reasonable', 'good', 'good', 'not_ordered', 'chinese', 'good', 'vegetable', 'good', 'cantonese', 'busy', 'bad', 'helpful', 'chinese', 'chinese', 'simple', 'happy', 'much', 'overall', 'consistent', 'chinese', 'not_finish', 'bad', 'good', 'cantonese', 'little', 'mild', 'chinese', 'special', 'yummy', 'shit', 'unmemorable', 'drunk', 'chinese', 'chinese', 'chinese', 'much', 'chinese', 'chinese', 'good', 'great', 'cantonese', 'chinese', 'chinese', 'amazing', 'chinese', 'chinese', 'impressed', 'impeccable', 'great', 'eat', 'windlash', 'much', 'good', 'chine', 'chinese', 'good', 'fair', 'cantonese', 'quick', 'great', 'allergic', 'enjoyable'], ['good', 'great', 'mexican', 'incredible', 'attentive', 'fresh', 'mexican', 'good', 'bad', 'receive', 'good', 'amazing', 'good', 'awesome', 'terrible', 'wrong', 'great', 'big', 'good', 'good', 'vega', 'great', 'great', 'authentic', 'authentic', 'norteno', 'great', 'amazing', 'terrible', 'overall', 'great', 'great', 'mexican', 'quick', 'good', 'disappointed', 'popular', 'great', 'big', 'good', 'correct', 'good', 'good', 'delicious', 'ur', 'great', 'mexican', 'nice', 'musician', 'good', 'good', 'poor', 'mexican', 'awesome', 'hill', 'great', 'good', 'receive', 'busy', 'mexican', 'bad', 'overall', 'delicious', 'good', 'delicious', 'great', 'cool', 'ready', 'optimistic', 'great', 'great', 'great', 'mexican', 'great', 'fresh', 'enough', 'attentive', 'simple', 'good', 'mexican', 'mexican', 'horrible', 'great', 'actual', 'good', 'authentic', 'mexican', 'hair', 'nasty', 'great', 'great', 'good', 'micheladas'], ['fresh', 'good', 'fantastic', 'great', 'past', 'main', 'wrong', 'great', 'adventurous', 'great', 'delicious', 'thai', 'authentic', 'luck', 'great', 'great', 'good', 'asian', 'hot', 'delicious', 'attentive', 'past', 'amazing', 'good', 'hot', 'delicious', 'great', 'excellent', 'good', 'great', 'good', 'delicious', 'good', 'great', 'slow', 'great', 'flavorful', 'thai', 'negative', 'u', 'great', 'great', 'good', 'til', 'not_delicious', 'usual', 'asian', 'much', 'thai', 'great', 'great', 'good', 'pleasant', 'much', 'outstanding', 'good', 'fantastic', 'delish', 'great', 'excellent', 'excellent', 'wait', 'sat', 'good', 'good', 'incredible', 'good', 'sure', 'drink', 'nice', 'awesome', 'excellent', 'fantastic', 'great', 'fresh', 'thai', 'mi', 'ate', 'terrible', 'poor', 'delicious', 'thai', 'wonderful', 'thai', 'great', 'thai', 'variety', 'great', 'hot', 'authentic', 'good', 'u', 'fantastic', 'small'], ['good', 'wong', 'chinese', 'chinese', 'chinese', 'bad', 'average', 'overall', 'great', 'sure', 'good', 'enough', 'chinese', 'chinese', 'authentic', 'fresh', 'cheerful', 'chinese', 'good'], ['good', 'not_care', 'great', 'fry', 'comfortable', 'nice', 'not_bring', 'great', 'summary', 'type', 'nc', 'bad', 'good', 'nice'], ['nice', 'overall', 'mexican', 'authentic', 'mexican', 'good', 'attentive', 'great', 'mexican', 'mexican', 'great', 'delicious', 'good', 'loud', 'busy'], ['much', 'nice', 'tasty', 'inventive', 'table', 'delicious', 'wrong', 'overall', 'japanese', 'asian', 'japanese', 'wonderful', 'great', 'wrong', 'great', 'crappy', 'great', 'japanese', 'not_for', 'eat', 'tofu', 'steep', 'good', 'mediocre', 'lot', 'wrong', 'fantastic', 'accompany'], ['right', 'good', 'friendly', 'miss', 'disappointed', 'horrible', 'great', 'good', 'good', 'open', 'right', 'great', 'nice', 'good', 'awesome', 'free', 'yummy', 'u', 'meal', 'delicious', 'great', 'unfair', 'happy', 'pseudopolynesian', 'good', 'mexican', 'excellent', 'good', 'pretentious', 'great', 'good', 'great', 'attentive', 'great', 'tasty', 'good', 'great', 'good', 'excellent', 'good', 'great', 'great', 'great', 'great', 'tasty', 'old', 'delicious', 'good', 'great', 'different', 'good', 'awesome', 'not_oh-my-god-i-was-totally-blown-away', 'good', 'delicious', 'great', 'phenomenal', 'good', 'efficient', 'excellent', 'great', 'nice', 'nice', 'delish', 'great', 'many', 'fantastic', 'tasty', 'hawaiian', 'great', 'great', 'great', 'average', 'great', 'outside', 'good', 'not_hawaiian', 'not_til', 'great', 'excellent', 'phenomenal', 'great', 'great', 'polynesian', 'great', 'great', 'great', 'excellent', 'good', 'fine', 'dallas', 'right', 'wonderful', 'eclectic', 'german', 'awesome', 'upside', 'nice', 'great', 'ok', 'unsafe', 'raw', 'delicious', 'fantastic', 'hawaiian', 'delicious', 'consistant', 'interested', 'delicious', 'great', 'great', 'little', 'great', 'scrumptious', 'favorite', 'decent', 'good', 'hawaian', 'good', 'bean', 'perfect', 'great', 'good', 'great', 'hawaiian', 'great', 'miss', 'great', 'disappointed', 'incredible', 'hype', 'nice', 'bite', 'great', 'delicious', 'disappointed', 'delicious', 'polynesian', 'excellent', 'great', 'great', 'great', 'right', 'good', 'regular', 'happy', 'delicious', 'hawaiian', 'great', 'good', 'cool', 'top', 'cool', 'delicious', 'great', 'delicious', 'bad', 'prompt', 'great', 'excellent', 'modern', 'hawaiian', 'good', 'good', 'cool', 'special', 'special', 'omg', 'reasonable', 'extensive', 'fantastic', 'delicious', 'delish', 'good', 'good', 'great', 'come', 'good', 'great', 'awesome', 'good', 'outstanding', 'ok', 'great', 'hawaiian', 'incredible', 'great', 'good', 'much', 'great', 'agree', 'favor', 'right', 'hawaiian', 'ok', 'excellent', 'large', 'rich', 'tasty', 'fabulous', 'dark', 'fantastic', 'attentive', 'delicious', 'delicious', 'tasty', 'told', 'great', 'good', 'great', 'excellent', 'delicious', 'great', 'exotic', 'island', 'strong', 'yummy', 'good', 'delicious', 'reasonable', 'sample', 'overall', 'not_putting', 'great', 'great', 'new', 'awesome', 'fabulous', 'good', 'great', 'great', 'atmosphere', 'nice', 'awesome', 'great', 'polynesian', 'not_tried', 'ran', 'delicious', 'delicious', 'perfect', 'nauseous', 'nice', 'great', 'hawaiian', 'great', 'yummo', 'oh', 'hawaiian', 'underwhelmed', 'good', 'tuck', 'delicious', 'nice', 'awesome', 'debate', 'great', 'much', 'great', 'great', 'important', 'wonderful', 'much', 'amazing', 'knowledgable', 'favorite', 'great', 'good', 'fishy', 'oomph', 'delicious', 'main', 'affordable', 'excellent', 'gorgeous', 'noisy', 'potato', 'delicious', 'good', 'overpriced', 'ok', 'ok', 'good'], ['good', 'simple', 'crappy', 'expensive', 'busy', 'unspectacular', 'bad', 'future', 'old', 'fine', 'awesome', 'bad', 'bad', 'dad', 'low', 'atmosphere', 'decent', 'fine', 'unspectacular', 'decent', 'attentive', 'good', 'bad', 'favorite', 'son', 'crazy', 'busy', 'busy', 'attentive', 'great', 'poor', 'average'], ['quick', 'slow', 'busy', 'helpful', 'great', 'good', 'u', 'great', 'frustrating', 'actual', 'good', 'southern', 'good', 'tasty', 'wonderful', 'spacey'], ['dirty', 'incredible', 'great', 'mexican', 'mexican', 'delicious', 'great', 'mexican', 'nice', 'delicious', 'great', 'cool', 'powerful', 'easy', 'great', 'great', 'worth', 'much', 'elegant', 'great', 'unique', 'much', 'different', 'delicious', 'delicious', 'good', 'wonderful'], ['good', 'large', 'awesome', 'fifteen', 'good', 'great', 'minute', 'lousy', 'southern', 'bad', 'much', 'perfect', 'u', 'unique', 'amazing', 'much', 'much', 'delectable', 'great', 'not_think', 'awesome', 'awesome', 'prepare', 'good', 'good', 'great', 'u', 'overall', 'mg', 'great', 'great', 'serious', 'overall', 'overall', 'bread', 'average', 'wonderful', 'prepare', 'worth', 'exquisite', 'good', 'awesome', 'good', 'bad', 'inefficient', 'entire', 'good', 'top', 'new', 'great', 'disappoint', 'hilarious', 'raw', 'understood', 'perfect', 'good', 'good', 'attentive', 'chinese', 'good', 'early', 'similar', 'favorite', 'good', 'good', 'excellent', 'overall', 'delicious', 'great', 'possible', 'excellent', 'great', 'great', 'everyday', 'good', 'friendly', 'great', 'cannotfinish', 'great', 'great', 'delicious', 'fresh', 'good', 'good', 'good', 'great', 'u', 'spoonful', 'slow', 'wonderful', 'good', 'great', 'delicious', 'good', 'good', 'good', 'good', 'different', 'much', 'shareable', 'plenty', 'great', 'finish', 'orleansstyle', 'great', 'finish', 'plenty', 'good', 'good', 'much', 'good', 'tiny', 'delicious', 'awesome', 'exceptional', 'good', 'great', 'excellent', 'soggy', 'amazing', 'great', 'great', 'great', 'cajunstyle', 'enjoyable', 'good', 'much', 'open', 'good', 'dish', 'wait', 'great', 'good', 'u', 'sure', 'small', 'awesome', 'southern', 'massive', 'yummy', 'good', 'delicious', 'cajun', 'worth', 'overall', 'want', 'great', 'much', 'great', 'long', 'attentive', 'type', 'much', 'receive', 'worth', 'awesome', 'good', 'much', 'enough', 'worth', 'overall', 'great', 'great', 'good', 'good', 'great', 'great', 'friendly', 'irritable', 'overall', 'good', 'good', 'okish', 'hr', 'not_fast', 'good', 'minute', 'good', 'yummy', 'great', 'finish', 'thick', 'similar', 'serious', 'wonderful', 'helpful', 'good', 'rest', 'nola', 'smokey', 'great', 'delicious', 'wrong', 'good', 'good', 'sad', 'great', 'great', 'fresh', 'overall', 'special', 'apps', 'good', 'good', 'understand', 'delicious', 'open', 'excellent', 'great', 'good', 'good', 'solid', 'possible', 'cool', 'excellent', 'much', 'worth', 'restaurant', 'funny', 'vent', 'vent', 'good', 'hot', 'wonderful', 'luck', 'great', 'great', 'great', 'much', 'vega', 'similar', 'great', 'happy', 'awhile', 'delicious', 'southern', 'lousy', 'enough', 'nice', 'great', 'great', 'horrible', 'good', 'vega', 'overall', 'good', 'good', 'fresh', 'excellent', 'wait', 'not_feasible', 'good', 'awesome', 'suppose', 'great', 'lucky', 'awesome', 'rich', 'southern', 'creamy', 'patient', 'nice', 'not_give', 'great', 'great', 'good', 'good', 'fresh', 'delicious', 'awesome', 'good', 'eat', 'actual', 'finish', 'excellent', 'plentiful', 'great', 'excellent', 'fresh', 'not_worth', 'good', 'flavor', 'cajun', 'great', 'great', 'good', 'good', 'good', 'great', 'good', 'great', 'great', 'similar', 'fantastic', 'wrong', 'overall', 'great', 'good', 'second', 'not_think', 'hot', 'great', 'creamy', 'good', 'soulful', 'worth', 'local', 'mild', 'good', 'overall', 'good', 'ate', 'delicious', 'great', 'good', 'unbelievable', 'great', 'sensational', 'nice', 'good', 'great', 'good', 'hidden', 'mean', 'delicious', 'fancy', 'good', 'u', 'individual', 'great', 'great', 'great', 'loved', 'fast', 'next', 'great', 'delicious', 'delicious', 'coz', 'awesome', 'hang', 'delicious', 'good', 'outstanding', 'extreme', 'great', 'bad', 'usual', 'good', 'excellent', 'due', 'good', 'total', 'good', 'combo', 'nice', 'hopeful', 'sick', 'busy', 'bar', 'delicious', 'excellent', 'much', 'establishment', 'excellent', 'fantastic', 'mean', 'delicious', 'hype', 'serious', 'chair', 'wrong', 'awesome', 'happy', 'delish', 'sayin', 'awesome', 'knowledgeable', 'not_expect', 'fast', 'good', 'funny', 'fantastic', 'first', 'sundaythursday', 'actual', 'great', 'ridiculous', 'extraordinary', 'great', 'patient', 'great', 'long', 'great', 'finish', 'gumbo', 'delicious', 'wrong', 'good', 'great', 'indian', 'worth', 'good', 'cajuncreole', 'not_mean', 'decent', 'u', 'good', 'prepare', 'box', 'free', 'attentive', 'true'], ['dead', 'italian', 'pedestrian', 'prompt', 'tear', 'salad', 'good', 'overall', 'great', 'italian', 'italian', 'good', 'inedible', 'italian', 'italian', 'great', 'plastic', 'great', 'great', 'italian', 'minute', 'fantastic', 'great', 'excellent', 'italian', 'italian', 'italian', 'little', 'italian', 'italian', 'good', 'great', 'italian', 'great', 'spotty', 'good', 'excellent', 'great', 'terrific', 'italian', 'italian', 'italian', 'italian', 'excellent', 'delicious', 'italian', 'italian', 'italian', 'italian', 'good', 'italian', 'good', 'great', 'great', 'awesome', 'u', 'awesome', 'italian', 'fantastic', 'italian', 'table', 'italian', 'good', 'delicious', 'terrible', 'italian', 'great', 'u', 'italian', 'poor', 'great', 'phenomenal', 'italian', 'decent', 'great'], ['japanese', 'adventurous', 'great', 'beautiful', 'attentive', 'japanese', 'much', 'great', 'fish', 'exotic', 'japanese', 'beautiful', 'delicious', 'great', 'great', 'enough', 'nice', 'tasty', 'different', 'japanese', 'japanese', 'plenty', 'le', 'great', 'knowledgeable', 'much', 'delicious', 'great', 'simple', 'delicious', 'superb', 'japanese', 'excellent', 'right', 'japanese', 'good', 'quality', 'professional', 'fine', 'delicious', 'fantastic', 'japanese', 'great', 'japanese', 'great'], ['clean', 'worn', 'hot', 'hot', 'available', 'excellent', 'asian', 'bad', 'usual', 'boyfriend', 'good', 'busy', 'sick', 'new', 'fresh', 'fresh', 'chinese', 'fresh', 'not_returning', 'chinese', 'good', 'dinner', 'great', 'asian', 'vegetarian', 'good', 'short', 'chinese', 'plenty', 'good', 'chinese', 'good', 'u', 'prepared', 'asian', 'asian', 'good', 'good', 'raw', 'poor', 'buffet', 'much', 'fresh', 'different', 'expensive', 'asian', 'american', 'keep', 'chinese', 'good', 'dry', 'good', 'tasty', 'good', 'fresh', 'asian', 'chinese', 'grab', 'fresh', 'asian', 'delicious', 'clean', 'not_from', 'overall', 'good', 'attentive', 'different', 'awesome', 'much', 'spit', 'cold', 'good', 'chinese', 'enjoyable', 'good', 'chinese', 'awesome', 'filthy', 'good', 'good', 'chinese', 'asian', 'chinese', 'delicious', 'chinese', 'ect', 'unique', 'chinese', 'attentive', 'fresh', 'chinese', 'asian', 'many', 'busy', 'negative', 'degreesthe', 'poor', 'chinese', 'great', 'chinese', 'cautious', 'great', 'lousy', 'not_busy', 'quick', 'good', 'good', 'good', 'great', 'chinese', 'great', 'asian', 'chinese', 'chinese', 'ethnic', 'handle', 'unappetizing', 'soggy', 'unlimited', 'much', 'average', 'hot', 'great', 'clean', 'fresh', 'chinese'], ['comfortable', 'hot', 'u', 'excellent', 'not_busy', 'awful', 'great', 'great', 'great', 'different', 'phenomenal', 'great', 'minute', 'wonderful', 'bad', 'mediocre', 'excellent', 'phenomenal', 'regular', 'phenomenal', 'friendly', 'cocktail', 'serious', 'disappointed', 'fast', 'salad', 'good', 'perfect', 'great', 'long', 'long', 'good', 'favorite', 'excellent', 'not_hungry', 'summary', 'hungry', 'much', 'fantastic', 'romantic', 'fill', 'slow', 'great', 'right', 'great', 'ok', 'nice', 'brunch', 'delicious', 'great', 'great', 'overworked', 'much', 'u', 'amazing', 'high', 'selective', 'u', 'horrible', 'decent', 'full', 'great', 'torn', 'not_include', 'beautiful', 'great', 'attentive', 'great', 'fourth', 'good', 'table', 'spoonful', 'u', 'average', 'fair', 'regret', 'incredible', 'little', 'separate', 'slow', 'excellent', 'great', 'slow', 'not_have', 'beautiful', 'ok', 'great', 'outstanding', 'sugary', 'awesome', 'great', 'perfect', 'great', 'generous', 'great', 'nice', 'great', 'great', 'wonderful', 'amazing', 'delicious'], ['chinese', 'julie', 'great', 'wait', 'good', 'good', 'drink', 'busy', 'sandwich', 'much', 'good', 'empty', 'good', 'great', 'unacceptable', 'full', 'awesome'], ['indian', 'indian', 'indian', 'indian', 'indian', 'indian', 'indian', 'indian', 'indian', 'good', 'friendly', 'indian', 'awesome', 'indian', 'indian', 'not_indian', 'indian', 'great', 'indian', 'great', 'indian', 'indian', 'indian', 'indian', 'great', 'indian', 'indian', 'indian', 'indian', 'indian', 'good', 'indian', 'indian', 'indian', 'delish', 'happy', 'indian', 'indian', 'indian', 'indian', 'awesome', 'great', 'indian', 'great', 'indian', 'outstanding', 'delicious', 'indian', 'indian', 'indian', 'great', 'indian', 'indian', 'indian', 'indian', 'great', 'good', 'great', 'par', 'great', 'indian', 'good', 'indian', 'delicious', 'indian', 'indian', 'indian', 'indian', 'good', 'indian', 'authentic', 'excellent', 'indian', 'indian', 'quality', 'excellent', 'indian', 'awesome', 'indian', 'indian', 'indian', 'indian', 'delicious', 'indian', 'good', 'indian', 'indian', 'indian', 'prepared', 'good', 'indian', 'indian', 'indian', 'great', 'indian', 'indian', 'indian', 'indian', 'great', 'fast', 'prefab', 'fresh', 'indian', 'bad', 'indian', 'excellent', 'indian', 'indian', 'ok', 'warm', 'indian', 'total', 'indian', 'indian'], ['u', 'mexican', 'great', 'mexican', 'mexican', 'great', 'mexican', 'good', 'mexican', 'mexican', 'good', 'slow', 'mexican', 'mexican', 'good', 'usual', 'big', 'mexican', 'mexican', 'great', 'not_the', 'decent', 'fresh', 'great', 'gross', 'mexican', 'mexican', 'mexican', 'mexican', 'full', 'great', 'sure', 'mexican', 'mexican', 'mexican', 'mexican', 'mexican', 'mexican', 'mexican', 'excellent', 'disappointed', 'busy', 'fast', 'mexican', 'mexican', 'great', 'mexican', 'quick', 'good', 'sure', 'presentation'], ['mexicanamerican', 'slow', 'mexican', 'good', 'slow', 'mexican', 'mexican', 'finish', 'margarita', 'excellent', 'great', 'not_agree', 'decent', 'mexican', 'ok', 'mexican', 'mexican', 'good', 'good', 'mexican', 'mexican', 'mexican', 'mexican', 'mexican', 'entree', 'mexican', 'mexican', 'high', 'flavorful', 'okay', 'disappointed', 'average', 'salsa', 'mexican', 'good', 'courteous', 'mexican', 'flavorful', 'poor', 'good', 'mexican', 'mexican', 'agree', 'mexican', 'mexican', 'horrible', 'mexican', 'mexican', 'mexican', 'impressed', 'great', 'mexican', 'good', 'mexican', 'mexcian', 'great', 'shame', 'mexican', 'excellent', 'lousy', 'mexcian', 'mexican', 'bad', 'mexican', 'mexican', 'wait', 'mexican', 'delicious', 'mexican', 'much', 'mexican', 'nasty', 'dry', 'mexican', 'mexican', 'mexican', 'good', 'u', 'delicious', 'nice', 'great', 'mild', 'mexican', 'u', 'restaurant', 'good', 'good', 'gross', 'mexican', 'mexican', 'mexican', 'mexican', 'mexican', 'much', 'mexican', 'good', 'salsa', 'nice', 'mexican', 'mexican', 'mexican', 'mexican', 'mexican', 'mexican', 'mexican', 'type', 'mexican', 'favorite', 'delicious', 'good', 'mexican', 'not_happy', 'mexican', 'happy', 'mexican', 'good', 'mexican', 'good', 'mexican', 'good', 'mexican', 'mexican', 'mexican', 'mexican', 'amazing', 'authentic', 'mexican', 'mexican', 'mexican', 'great', 'mexican', 'mexican', 'good', 'average', 'good', 'mexican', 'mexican', 'mexican', 'great', 'second', 'mexican', 'mexican', 'decent'], ['great', 'healthy', 'enough', 'fresh', 'efficient'], ['chinese', 'unpleasantness', 'chinese', 'ethnic', 'great', 'chinese', 'chinese', 'chinese', 'average', 'asian', 'chinese', 'disappointing', 'u', 'worth', 'chinese', 'perfect', 'crappy', 'spit', 'chinese', 'chinese', 'chinese', 'good', 'delicious', 'messy', 'chinese', 'overall', 'spiciness', 'chinese', 'delicious', 'right', 'szechuan', 'chinese', 'acceptable', 'chinese', 'sichuan', 'chinese', 'perfect', 'right', 'chinese', 'worth', 'worth', 'chinese', 'sichuan', 'not_bad', 'good', 'great', 'chinese', 'u', 'nice', 'chinese', 'chinese', 'chinese', 'chinese', 'chinese', 'chinese', 'sichuan', 'chinese', 'busy', 'chinese', 'great', 'favorite', 'chinese', 'not_great', 'nice', 'hot', 'fresh', 'chinese'], ['great', 'spanish', 'great', 'fine', 'italian', 'outstanding', 'friendly', 'great', 'spanishportuguese', 'good', 'spanish', 'attentive', 'poor', 'hefty', 'bite', 'enjoyable', 'spanish', 'excellent', 'great', 'disappointed', 'great', 'tasty', 'u', 'much', 'bad', 'courteous', 'overall', 'underliquored', 'fine', 'iberian', 'much', 'adventurous', 'good', 'wish', 'excellent', 'spanish', 'spanish', 'spanish', 'good', 'iberian', 'great', 'great', 'drinkable', 'spanish', 'eat', 'unimpressed', 'top', 'excellent', 'spanish', 'good', 'portugese', 'spanish', 'portuguesespanish', 'not_here', 'attentive', 'fine', 'authentic', 'good', 'polite', 'good', 'spanish', 'spanish', 'authentic', 'good', 'good', 'dusty'], ['mexican', 'nice', 'great', 'mexican', 'nice', 'great', 'fast', 'ate', 'mexican', 'mexican', 'mexican', 'fast', 'mexican', 'disappointed', 'bad', 'good', 'great', 'mexican', 'mexican', 'mexican', 'mexican'], ['great', 'good', 'korean', 'korean', 'authentic', 'korean', 'korean', 'korean', 'friendly', 'korean', 'great', 'great', 'great', 'korean', 'fresh', 'korean', 'korean', 'korean', 'great', 'korean', 'lyrical', 'korean', 'korean', 'korean', 'korean', 'korean', 'korean', 'udon', 'much', 'korean', 'korean', 'good', 'korean', 'ok', 'korean', 'korean', 'korean', 'korean', 'great', 'korean', 'korean', 'great', 'korean', 'korean', 'korean', 'much', 'like', 'horrible', 'great', 'korean', 'korean', 'korean', 'korean', 'korean', 'enough', 'korean', 'great', 'korean', 'delicious', 'korean', 'highschool', 'chinese', 'korean', 'korean', 'good', 'korean', 'attentive', 'korean', 'korean', 'korean', 'good', 'korean', 'korean', 'korean', 'korean', 'korean', 'korean', 'korean', 'korean', 'korean', 'great', 'good', 'korean', 'full', 'korean', 'sure', 'asian', 'korean', 'korean', 'cooked', 'korean', 'korean', 'korean', 'korean', 'korean', 'korean', 'good', 'korean', 'amazing', 'korean', 'korean', 'korean', 'delicious', 'korean', 'korean', 'korean', 'korean', 'korean', 'good', 'good', 'korean', 'korean', 'stingy', 'korean', 'korean', 'korean', 'korean', 'great', 'korean', 'hot', 'korean', 'korean', 'update', 'favorite', 'korean', 'last', 'poor', 'korean', 'chinese', 'great', 'great', 'korean', 'attentive', 'korean', 'korean', 'good', 'korean', 'busy', 'affordable', 'korean', 'korean', 'good', 'partial', 'korean', 'korean', 'delicious', 'korean', 'korean', 'excellent', 'korean', 'korean', 'delicious', 'korean', 'korean', 'great', 'average', 'korean', 'korean', 'korean', 'korean', 'delicious', 'korean', 'great', 'good', 'korean', 'dish', 'bad', 'great', 'great', 'korean', 'korean', 'korean', 'good', 'delicious', 'enough', 'clean', 'great', 'korean', 'korean', 'friendly', 'korean', 'korean', 'korean', 'plenty', 'terrible', 'korean'], ['great', 'table', 'much', 'okay', 'chinese', 'chinese', 'good', 'chinese', 'chinese', 'chinese', 'chinese', 'qualityauthentic', 'excellent', 'good', 'chinese', 'certain', 'chinese', 'chinese', 'good', 'great', 'great', 'reasonable', 'huge', 'ok', 'much', 'possible', 'chinese', 'chinese', 'great', 'chinese', 'overall', 'strip', 'good', 'good', 'delicious', 'cantonese', 'liked', 'chinese', 'single', 'miscellaneous', 'bad', 'clean', 'delish', 'late', 'chinese', 'miss', 'authentic', 'full', 'chinese', 'chinese', 'dish', 'chinese', 'soggy', 'u', 'cantonese', 'not_cheap', 'chinese', 'meh', 'american', 'asian', 'asian', 'chinese', 'shrimp', 'good', 'chinese', 'chinese', 'mediocre', 'late', 'impressive', 'amazing', 'vega', 'massive', 'chinese', 'great', 'fresh', 'asian', 'scoop', 'chinese', 'chinese', 'traditional', 'chinese', 'great', 'good', 'overall', 'big', 'chinese', 'chinese', 'important', 'delicious', 'excellent', 'bad', 'not_happy', 'great', 'chinese', 'chinese', 'delicious', 'good', 'enough', 'miss', 'chinese', 'chinese', 'great', 'overall', 'happy', 'much', 'excellent', 'meal', 'good', 'type', 'chinese', 'good', 'delicious', 'easy', 'delicious', 'new', 'chinese', 'level', 'nice', 'asian', 'chinese', 'chinese', 'chinese', 'need', 'chinese', 'good', 'chinese', 'favorite', 'delicious', 'slow', 'chinese', 'good', 'good', 'rude', 'vega', 'chinese', 'high', 'happy', 'chinese', 'disappointed', 'lukewarm', 'great', 'chinese', 'loud', 'nice', 'overall', 'ordinary', 'delicious', 'fresh', 'not_acceptable', 'chinese', 'chinese', 'asian', 'asian', 'chinese', 'chinese', 'temp', 'second', 'sick', 'chinese', 'scrumptious', 'instant', 'touch', 'full', 'atrocious', 'frank', 'nonexistent', 'chinese', 'good', 'great', 'chinese', 'little', 'table', 'chinese', 'pair', 'authenticity', 'unremarkable', 'hot', 'early', 'helpful', 'front', 'overall', 'sum', 'high', 'disappointed', 'hot', 'dish', 'decent', 'bad', 'overall', 'bad'], ['excellent', 'much', 'accompany', 'u', 'awesome', 'worth', 'fantastic', 'special', 'sure', 'pick', 'excellent', 'frozen', 'great', 'overall', 'asian', 'good', 'awesome', 'fried', 'suck', 'great', 'asian', 'asian', 'great', 'adorable', 'louisiana', 'friendly'], ['great', 'delicious', 'favorite', 'mexican', 'great', 'dubious', 'excellent', 'mexican', 'mexican', 'excellent', 'mexican', 'great', 'great', 'mexican', 'mexican', 'authentic', 'fresh', 'mexican', 'great', 'good', 'high', 'fantastic', 'excellent', 'mexican', 'excellent', 'fantastic', 'great', 'mexican', 'mexican', 'mexican', 'mexican', 'mexican', 'mexican', 'authentic', 'awesome', 'great', 'mexican', 'good', 'great', 'delicious', 'mexican', 'good', 'mexican', 'delicious', 'mexican', 'authentic', 'great', 'good', 'good', 'delicious', 'mexican', 'good', 'mexican', 'good', 'good', 'childish'], ['hot', 'delicious', 'good', 'overall', 'italian', 'great', 'excellent', 'mexican', 'disappointed', 'mexican', 'overall', 'table', 'mexican', 'new', 'chinese', 'clean', 'mexican', 'great', 'delicious', 'great', 'mexican', 'nice', 'excellent', 'mexican', 'nice', 'attentive', 'table', 'great', 'chinese', 'terrible', 'good'], ['chinese', 'good', 'fresh', 'great', 'good', 'tea', 'unsafe', 'great', 'great', 'amazing', 'good', 'mean', 'great', 'thai', 'frozen', 'good', 'thai', 'wish', 'excellent', 'get', 'thai', 'nice', 'nonameican', 'sweet', 'favorite', 'good', 'fantastic', 'asian', 'thai', 'wait', 'cheap', 'flavorful', 'great', 'thai', 'thai', 'thai', 'attentive', 'simple', 'good', 'good', 'half', 'delicious', 'good', 'clean', 'great', 'thai', 'excellent', 'friendly', 'dirty', 'path', 'acceptable', 'great', 'modern', 'good', 'joint', 'great', 'double', 'busy', 'great', 'perfect', 'thai', 'helpful', 'mall', 'dad', 'solid', 'great', 'delicious', 'indescribable', 'good', 'great', 'msg', 'good', 'clean', 'good', 'good', 'overall', 'mean', 'describe', 'thai', 'great', 'thai', 'great', 'desperate', 'thai', 'overall', 'flavorful', 'thai', 'good', 'great', 'awesome', 'u', 'noticeable', 'great', 'not_expensive', 'clean', 'good', 'sure', 'chinese', 'great', 'burritoesque', 'open', 'thai', 'seedy', 'thai', 'short', 'great', 'wonderful', 'hot', 'authentic', 'good', 'authentic', 'exceptional', 'good', 'awesome', 'delicious', 'thai', 'great', 'great', 'ready', 'courteous', 'quick', 'delicious', 'great', 'trump', 'quality', 'great', 'great', 'empty', 'great', 'great', 'much', 'service', 'good', 'not_get', 'yummy', 'great', 'fresh', 'thai', 'thai', 'nice', 'great', 'thai', 'great', 'fantastic', 'delicious', 'delicious', 'affordable', 'stylish', 'good', 'disappointed', 'flavorful', 'thai', 'great', 'nice', 'not_for', 'great', 'great', 'great', 'great', 'thai', 'overall', 'good', 'thai', 'delicious', 'prompt', 'good', 'punctual', 'packed', 'good', 'delicious', 'great', 'great', 'awesome', 'great', 'cellar', 'cafe', 'clean', 'great', 'slow', 'overall', 'great', 'pick', 'good', 'traditional', 'hot', 'helpful', 'great', 'clean', 'delicious', 'steady', 'thai', 'fantastic', 'thai', 'excellent', 'hot', 'easy', 'place', 'delicious', 'good', 'great', 'hot', 'worth', 'sure', 'thai', 'togo', 'good', 'great', 'fantastic', 'bad', 'thai', 'great', 'thai', 'awesome', 'norcal', 'wonderful', 'understaffed', 'great', 'thai', 'not_get', 'thai', 'nice', 'sweet', 'good', 'nice', 'phenomenal', 'thai', 'good', 'great', 'thai', 'terrible', 'clean', 'thai', 'impeccable', 'asian', 'thai', 'noodle', 'important', 'huge', 'great', 'great', 'excellent', 'delicious', 'great', 'thai', 'rude', 'thai', 'tasty', 'pleased', 'excellent', 'good', 'fantastic', 'great', 'great', 'great', 'asian', 'asian', 'attentive', 'great', 'central', 'warm', 'nice', 'shareable', 'modern', 'friendly', 'overall', 'thai', 'good', 'excellent', 'bc', 'much', 'hideaway', 'great'], ['wine', 'great', 'good', 'plenty', 'reasonable', 'fifty', 'new', 'u', 'great', 'type', 'overall', 'horrible', 'good', 'bad', 'bad', 'similar', 'u'], ['not_acceptable', 'italian', 'u', 'poor', 'entree', 'unacceptable', 'delightful', 'wrong', 'fabulous', 'various', 'nice', 'waiter', 'good', 'great', 'u', 'italian', 'restaurant', 'special', 'reasonable', 'good'], ['great', 'fine', 'messy', 'great', 'delicious', 'great', 'top', 'min', 'slow', 'not_good', 'wrestle', 'hot', 'decent', 'enough', 'great', 'good', 'fine', 'good', 'special', 'busy', 'flavour', 'not_worth', 'poly', 'great', 'delicious', 'asap', 'glove', 'much', 'upscale', 'table', 'yellow', 'bad', 'overall', 'care', 'wrong', 'great', 'unique', 'give', 'good'], ['amazing', 'asian', 'japanese', 'tasty', 'delicious', 'good', 'great', 'great', 'good', 'good', 'friendly', 'glove', 'maggot', 'asian', 'excellent', 'gracious'], ['chinese', 'asian', 'chinese', 'chinese', 'chinese', 'not_consistent', 'friendly', 'attentive', 'chinese', 'pick', 'chinese', 'chinese', 'excellent', 'chinese', 'great', 'chinese', 'chinese', 'chinese', 'chinese'], ['excellent', 'wait', 'great', 'overall', 'tray', 'good', 'average', 'comparable', 'middle', 'great', 'happy', 'great', 'excellent', 'overall', 'eat', 'delicious', 'efficient', 'fresh', 'fast', 'great', 'fresh', 'great', 'excellent', 'good', 'affordable', 'table', 'fast', 'real', 'outside', 'good', 'expedite', 'sandwich', 'underpar', 'great', 'pricey', 'great', 'awful'], ['not_have', 'table', 'amazing', 'excellent', 'lucky', 'nice', 'great', 'top', 'tonight', 'delicious', 'good', 'great', 'salad', 'special', 'clean', 'good', 'great', 'possible', 'nice', 'good', 'good', 'excellent', 'efficient', 'bunch', 'attentive', 'second', 'top', 'great', 'great', 'outstanding', 'delicious', 'great', 'responsible', 'wonderful', 'excellent', 'great', 'great', 'good'], ['mexican', 'poor', 'mexican', 'mexican', 'mexican', 'good', 'flavorful', 'mexican', 'mexican', 'mexican', 'mexican', 'great', 'mexican', 'great', 'mexican', 'excellent', 'thirsty', 'u', 'wait', 'mexican', 'delicious', 'mexican', 'great', 'tasty', 'mexican', 'mexican', 'new', 'great', 'delicious', 'great', 'great', 'mexican', 'wonderful', 'delicious', 'mexican', 'good', 'mexican', 'slow', 'mexican', 'tasty', 'mexican', 'joint', 'mexican', 'mexican'], ['miss', 'friendly', 'not_like', 'great', 'additional', 'spectacular', 'extract', 'great', 'average', 'elegant', 'awesome', 'overall', 'resturant', 'good', 'gray'], ['inattentive', 'much', 'incredible', 'japanese', 'actual', 'finish', 'japanese', 'great', 'enthusiastic', 'japanese', 'japanese', 'delicious', 'entree', 'japanese', 'overall', 'great', 'exceptional', 'oriental', 'japanese', 'hungry', 'japanese', 'overall', 'great', 'italian', 'penny', 'seasonal', 'tasty', 'great', 'general', 'great', 'good', 'par', 'courteous', 'full', 'dish', 'good', 'happy', 'japanese', 'japanese', 'japanese', 'u', 'decent', 'great', 'japanese', 'dish', 'chart', 'creative', 'yummy', 'delicious', 'fantastic', 'japanese', 'attentive', 'magical', 'fantastic', 'delicious', 'phenomenal', 'wrong', 'japanese', 'japanese', 'japanese', 'happy', 'japanese', 'n', 'consistent', 'allergy', 'attentive', 'u', 'great', 'excellent', 'solid', 'great', 'polite', 'delicious', 'delicious', 'nice', 'delicious', 'great', 'fancy', 'overall', 'attentive', 'second', 'foodmenu', 'attentive', 'delicious', 'dish', 'overall', 'delicious', 'good', 'japanese', 'delicious', 'impeccable', 'not_come', 'exceptional', 'fresh', 'delicious', 'friendly', 'knowledgable', 'delicious', 'winterlicious', 'good', 'great', 'japanese', 'delicious', 'fantastic', 'fine', 'japanese', 'good', 'excellent', 'enjoyable', 'beautiful', 'delicious', 'much', 'good', 'back', 'modern', 'tiny', 'nice', 'knowledgeable', 'enough', 'good', 'great', 'excellent', 'overhyped', 'delicious', 'box', 'informative', 'underwhelming', 'much', 'overall', 'phenomenal', 'pricey', 'ur', 'japanese', 'great', 'impressed', 'not_picky', 'slow', 'empty'], ['mexican', 'good', 'mexican', 'decent', 'mexican', 'mexican', 'mexican', 'good', 'mexican', 'great', 'mexican', 'smokey', 'impressed', 'mexican', 'mexican', 'authentic', 'mexican', 'delight', 'table', 'good', 'great', 'great', 'great', 'delicious', 'margarita', 'mexican', 'mexican', 'excellent', 'awesome', 'delicious', 'great', 'mexican', 'awesome', 'mexican', 'good', 'mexican', 'great', 'gross', 'mexican', 'mexican', 'mexican', 'delicious', 'mexican', 'excellent', 'mexican', 'great', 'ok', 'mexican', 'mexican', 'good', 'mexican', 'mexican', 'mexican', 'great', 'mexican', 'excellent', 'outstanding', 'mexican', 'mexican', 'mexican', 'mexican', 'mexican', 'mexican', 'authentic', 'tasty', 'impeccable', 'mexican', 'mexican', 'great', 'good', 'awesome', 'great', 'mexican', 'mexican', 'good', 'authentic', 'mexican'], ['girl', 'great', 'not_blame', 'uncomfortable', 'long', 'expensive', 'care', 'sorry', 'much', 'good', 'cold', 'great', 'bad', 'horrible', 'sweet', 'good', 'new', 'new', 'raw', 'great', 'thumb', 'great', 'great', 'fair', 'tasty', 'amazing', 'great', 'awesome', 'not_gotten', 'not_gotten', 'top', 'quick', 'table', 'not_keeping', 'horrible', 'arrive', 'good', 'happy', 'busy', 'gamethe', 'busy', 'full', 'impressed', 'good', 'ok', 'needing', 'good', 'frozen', 'pick', 'minute', 'left', 'decent', 'nice', 'usual', 'tired', 'ok', 'great', 'great', 'great', 'ask', 'sure'], ['hawaiian', 'great', 'plenty', 'friendly', 'great', 'tastiness', 'rare', 'hawaiian', 'fabulous', 'nice', 'hot', 'ok', 'chinese', 'excellent', 'hawaiian', 'hawaiian', 'hawaiian', 'hawaiian', 'uniqueness', 'hawaiian', 'hawaiian', 'awesome', 'hawaiian', 'low', 'mall', 'great', 'bbqhawaiian', 'worth', 'hawaiian', 'hawaiian', 'hawaiian', 'delicious', 'good', 'sure', 'fast', 'great', 'hawaiian', 'good', 'great', 'great', 'great', 'hawaiian', 'fresh', 'hawaiian', 'great', 'good', 'asian', 'inexpensive', 'good', 'hawaiian', 'regular', 'delicious', 'great', 'good', 'good', 'great', 'delicious', 'good', 'great', 'great', 'good', 'great', 'good', 'great', 'hawaiian', 'hawaiian', 'awesome', 'good', 'great', 'great', 'hawaiian', 'raw', 'overall', 'hawaiianpacific', 'local', 'good', 'hawaiian', 'hawaiian', 'awesome', 'great', 'great', 'solid', 'hawaiian', 'hawaiian', 'hawaiian', 'friendly', 'enough', 'hawaiian', 'clean', 'great', 'hawaii', 'hawaiian', 'hawaiian', 'hawaiian', 'describe', 'nice', 'good', 'different', 'hawaiian', 'great', 'disappointed', 'happy', 'hawaiian', 'fat', 'great', 'good', 'ten', 'hawaiian', 'hawaiian', 'hawaiian', 'hawaiian', 'fresh', 'great', 'clean', 'good', 'good', 'ish', 'good', 'good', 'quick', 'cheap', 'polite', 'fresh', 'awesome', 'hawaiian', 'mouth', 'hawaiian', 'fantastic', 'great', 'hawaiian', 'hawaiian', 'much', 'hawaiian', 'much', 'hawaiian', 'local', 'clean', 'good', 'hawaiian', 'hawaiian', 'delicious', 'finish', 'great', 'much', 'hawaiian', 'chinese', 'finish', 'bad', 'hawaiian', 'counter', 'enough', 'u', 'u', 'awesome', 'great', 'clean', 'delicious', 'type', 'hawaiian', 'good', 'unique', 'clean', 'deceptive', 'excellent', 'great', 'hawaiian', 'disappointed', 'hawaiian', 'hawaiian', 'good', 'reasonable', 'hawaiian', 'enough', 'hawaiian', 'decent', 'hawaiian', 'outstanding', 'hawaiian', 'hawaiian', 'great', 'great'], ['japanese', 'japanese', 'excellent', 'much', 'japanese', 'japanese', 'great', 'bad', 'decent', 'japanese', 'good', 'good', 'japanese', 'happy', 'good', 'fantastic', 'good', 'allergy', 'cool', 'ok', 'japanese', 'japanese', 'japanese', 'japanese', 'japanesecanadian', 'unrecognisable', 'much', 'japanese', 'japanese', 'traditional', 'much', 'nami', 'raw', 'authentic'], ['great', 'great', 'personable', 'mexican', 'busy', 'consistent', 'much', 'mexican', 'good', 'michoacan', 'mexican', 'good', 'second', 'delicious', 'great', 'mexican', 'lunch', 'sick', 'great', 'great', 'mexican', 'wonderful', 'great', 'mexican', 'mexican', 'wish', 'great', 'mexican', 'mexican', 'frozen', 'mexican', 'busy', 'overall', 'slow', 'great', 'mexican', 'great', 'mexican', 'mexican', 'great', 'lousy', 'table', 'mexican', 'great', 'good', 'good', 'mexican', 'mexican', 'awesome', 'mexican', 'mexican', 'mexican', 'mexican', 'mexican', 'authentic', 'mexican', 'good', 'mexican', 'mexican', 'mexican', 'good', 'bean', 'bite', 'good', 'great', 'delicious', 'long', 'mexican', 'mexican', 'mexican', 'great', 'efficient', 'good', 'mexican', 'delicous', 'great', 'great', 'nacho', 'good', 'helpful', 'mexican', 'mexican', 'mexican', 'mexican', 'mexican', 'short', 'good', 'mexican', 'good', 'mexican', 'outstanding', 'amazing', 'mexican', 'fantastic', 'mexican', 'excellent', 'good', 'hot', 'mexican', 'mexican', 'fantastic', 'mischief', 'disappointed', 'mexican', 'fantastic', 'mexican', 'mexican', 'great', 'friendly', 'mexican', 'mexican', 'mexican', 'great', 'delicious', 'mexican', 'not_acceptable', 'mexican', 'mexican', 'mexican', 'favorite', 'salsa', 'good', 'mexican', 'great', 'not_ask', 'delicious', 'nasty', 'mexican', 'delicious', 'mexican', 'mexican', 'mexican', 'mexican', 'great', 'great', 'hot', 'awful', 'much', 'fantastic', 'good', 'mexican', 'mexican', 'great', 'good', 'good', 'great', 'mexican', 'good', 'excellent', 'great', 'mexican', 'mexican', 'mexican', 'mexican', 'high', 'mexican', 'spectacular', 'generous', 'scarf', 'loud', 'good', 'mexican', 'quick', 'disappointing', 'mexican', 'mexican', 'mexican', 'mexican', 'great', 'good', 'mexican', 'great', 'delicious', 'mexican', 'fantastic', 'great', 'spectacular', 'mexican', 'mexican', 'mexican', 'mexican', 'mexican', 'sure', 'great', 'great', 'mexican', 'mexican', 'mexican', 'mexican', 'mexican', 'exceptional', 'mexican', 'much', 'mexican', 'good', 'apologized', 'good', 'quick', 'great', 'mexican', 'mexican', 'excellent', 'mexican', 'due', 'mexican', 'great', 'mexican', 'mexican', 'not_know', 'mexican', 'slow', 'bustling', 'great', 'mexican', 'great', 'mexican', 'mexican', 'upset', 'sick', 'mexican', 'great', 'mexican', 'mexican', 'mexican', 'mexican', 'mexican', 'great', 'mexican', 'mexican', 'mexican', 'good', 'mexican', 'mexican', 'awful', 'mexican', 'mexican', 'mexican', 'mexican', 'mexican', 'real', 'real', 'mexican', 'good', 'great', 'great', 'not_mexican', 'mexican', 'eat', 'mexican', 'great', 'mexican', 'mexican', 'mexican', 'great', 'mexican', 'great', 'awful', 'outstanding', 'mexican', 'mexican', 'tasty', 'mexican', 'mexican', 'mexican', 'mexican', 'mexican', 'good', 'mexican', 'great', 'vega', 'mexican', 'mexican', 'mexican', 'great', 'delicious', 'excess', 'great', 'lousy', 'exemplary', 'good', 'good', 'mexican', 'mexican', 'mexican', 'great', 'mexican', 'mexican', 'mexican', 'good', 'nice', 'good', 'great', 'else', 'mexican', 'good', 'arrive', 'mexican', 'great', 'mexican', 'mexican', 'mexican', 'mexican', 'mexican', 'solid', 'great', 'great', 'mexican', 'nice', 'mexican', 'fabulous', 'mexican', 'mexican', 'great', 'mexican', 'great', 'mexican', 'great', 'mexican', 'mexican', 'mexican', 'mexican', 'mexican', 'great', 'mexican', 'great', 'mexican', 'excellent', 'delicious', 'great', 'mexican', 'mexican', 'excellent', 'great', 'mexican', 'mexican', 'speechless', 'great', 'attentive', 'not_like', 'good', 'mexican', 'uneventful', 'good', 'mexican', 'attentive', 'mexican', 'bad', 'incredible', 'good', 'mexican', 'bad', 'great', 'great', 'good', 'like', 'great', 'spanish', 'spanish', 'authentic', 'good', 'familiar', 'ate', 'mexican', 'great', 'mexican', 'mexican', 'mexican', 'great', 'mexican', 'mexican', 'attentive', 'mexican', 'mexican', 'mexican', 'great', 'mexican', 'asian', 'mexican', 'mexican', 'fabulous', 'mexican', 'mexican', 'good', 'good', 'mexican', 'mexican', 'disappointed', 'bad', 'amazing', 'delicious', 'incredible', 'authentic', 'delicious', 'mexican', 'ordinary', 'mexican', 'beautiful', 'full', 'mexican', 'mexican', 'bad', 'mexican', 'great', 'mexican', 'mexican', 'chinese', 'unwelcome', 'mexican', 'mexican', 'mexican', 'good', 'mexican', 'positive', 'mexican', 'mexican', 'great', 'good', 'mexican', 'mexican', 'mexican', 'spectacular', 'bad', 'sure', 'great', 'great', 'place', 'gross', 'mexican', 'lucky', 'mexican', 'fresh', 'mexican', 'great', 'mexican', 'mexican', 'top', 'good', 'good', 'mexican', 'good', 'nice', 'good', 'mexican', 'mexican', 'good', 'mexican', 'mexican', 'great', 'mexican', 'great', 'good', 'good', 'mexican', 'large', 'finish', 'great', 'great', 'mexican', 'mixed', 'great', 'mexican', 'mexican', 'not_back', 'mexican', 'nice', 'lindo', 'great', 'mexican', 'mexican', 'mexican', 'mexican', 'awful', 'quick', 'mexican', 'perfect', 'great', 'mexican', 'mexican', 'bad', 'not_mexican', 'mexican', 'bad', 'mexican', 'mexican', 'bad', 'mexican', 'great', 'mexican', 'lunch', 'mexican', 'mexican', 'exact', 'good', 'mexican', 'mexican', 'hungry', 'good', 'mexican', 'fantastic', 'mexican', 'good', 'mexican', 'imaginable', 'mexican', 'mexican', 'mexican', 'amazing', 'mexican', 'mexican', 'mexican', 'mexican', 'not_enjoy', 'mexican', 'mexican', 'mexican', 'delicious', 'excellent', 'wonderful', 'good', 'great', 'mexican', 'mexican', 'mexican', 'great', 'understaffed', 'excellent', 'great', 'friendly', 'ok', 'mexican', 'delicious', 'good', 'plenty', 'good', 'mexican', 'great', 'good', 'attentive', 'good', 'similar', 'great', 'mexican', 'delicious', 'mexican', 'mexican', 'good', 'fantastic', 'awesome', 'bad', 'good', 'slow', 'great', 'mexican', 'mexican', 'mexican', 'great', 'mexican', 'mexican', 'mexican', 'mexican', 'weak', 'mexican', 'mexican', 'actual', 'table', 'mexican', 'mexican', 'outdid', 'disappointed', 'mexican', 'disappointed', 'mexican', 'decent', 'mexican', 'mexican', 'mexican', 'great', 'wonderful', 'mexican', 'delicious', 'mexican', 'good', 'asian', 'mexican', 'great', 'mexican', 'mexican', 'mexican', 'mexican', 'mexican', 'mexican', 'worth', 'mexican', 'good', 'mexican', 'wrong', 'great'], ['okay', 'child', 'great', 'nasty', 'great', 'great', 'excellent', 'good', 'good'], ['great', 'chinese', 'chinese', 'tough', 'fresh', 'wish', 'great', 'hot', 'nonexistent', 'chinese', 'impressive', 'chinese', 'good', 'chinese', 'typical', 'chinese', 'u', 'average', 'chinese', 'buffet', 'asian', 'asian', 'chinese', 'filthy', 'good', 'good'], ['indian', 'indian', 'indian', 'indian', 'weekday', 'indian', 'indian', 'indian', 'delightful', 'indian', 'indian', 'indian', 'delicious', 'great', 'great', 'minimal', 'indian', 'indian', 'indian', 'delicious', 'indian', 'indian', 'indian', 'nice', 'great', 'indian', 'little', 'indian', 'indian', 'old', 'indian', 'indian', 'good', 'indian', 'indian', 'indian', 'indian', 'indian', 'indian', 'great', 'indian', 'indian', 'indian'], ['mexican', 'excellent', 'mariscos', 'spanish', 'new', 'great', 'good', 'great', 'minute', 'good', 'supper', 'authentic', 'good', 'mexican', 'fresh', 'mexican', 'not_receive', 'mexican', 'attentive', 'excellent', 'table', 'good', 'excellent', 'wrong', 'great'], ['sure', 'peruvian', 'tasty', 'minute', 'liked', 'peruvian', 'great', 'peruvian', 'attentive', 'great', 'peruvian', 'delicious', 'peruvian', 'peruvian', 'peruvian', 'clean', 'latin', 'peruvian', 'peruvian', 'peruvian', 'high', 'peruvian', 'type', 'peruvian', 'peruvian', 'peruvian', 'peruvian', 'peruvian', 'peruvian', 'minute', 'liked', 'good', 'peruvian', 'peruvian', 'delicious', 'excellent', 'delicious', 'receive', 'peruvian', 'great', 'peruvian', 'excellent', 'peruvian', 'great', 'peruvian', 'peruvian', 'enoigh', 'peruvian', 'peruvian', 'peruvian', 'peruvian', 'peruvian', 'peruvian', 'great', 'peruvian', 'peruvian', 'peruvian', 'good', 'peruvian', 'peruvian', 'peruvian', 'peruvian', 'great', 'huge', 'peruvian', 'peruvian', 'peruvian', 'peruvian', 'peruvian', 'peruvian', 'great', 'peruvian', 'great', 'peruvian', 'peruvian', 'peruvian', 'amazing', 'peruvian', 'peruvian', 'not_expect', 'peruvian', 'u', 'good', 'peruvian', 'peruvian', 'cuban', 'good', 'flavorful', 'disappointed', 'peruvian', 'peruvian', 'peruvian', 'peruvian', 'delicious', 'peruvian', 'peruvian', 'not_happy', 'little', 'peruvian', 'peruvian', 'great', 'peruvian', 'good', 'peruvian', 'not_just', 'peruvian', 'good', 'peruvian', 'spent', 'great', 'peruvian', 'great', 'excellent', 'peruvian', 'peruvian', 'peruvian', 'delicious', 'happy', 'peruvian', 'unacceptable', 'simple', 'peruvian', 'peruvian', 'peruvian', 'peruvian', 'good', 'peruvian', 'peruvian', 'peruvian', 'peruvian', 'peruvian', 'hawaiian', 'peruvian', 'peruvian', 'peruvian', 'delicious', 'peruvian', 'peruvian', 'collect', 'worth', 'peruvian', 'asian', 'thankful', 'peruvian', 'peruvian', 'overall', 'peruvian', 'peruvian', 'good', 'good', 'peruvian', 'peruvian', 'peruvian', 'different', 'peruvian', 'peruvian', 'good', 'peruvian', 'brilliant', 'peruvian', 'nice', 'peruvian', 'peruvian', 'amazing', 'peruvian', 'huge', 'peruvian', 'peruvian', 'peruvian', 'attentive', 'peruvian', 'peruvian', 'peruvian', 'peruvian', 'peruvian'], ['great', 'unfortunate', 'clean', 'dish', 'careful', 'tasty', 'chinese', 'chinese', 'chinese', 'good', 'great', 'chinatown', 'good', 'chinese', 'chinese', 'slow', 'overall', 'bad', 'good', 'sum', 'chinese', 'fantastic', 'good', 'normal', 'overall', 'chinese', 'chinese', 'chinese', 'chinese', 'much', 'excellent', 'good', 'attentive', 'regular', 'u', 'serve', 'good', 'impressed', 'awhile', 'general', 'beholden', 'plenty', 'disappointed', 'liberal', 'old', 'clean', 'chinese', 'u', 'chinese', 'chinese', 'chinese', 'frozen', 'thank', 'chinese', 'table', 'excess', 'nasty', 'chinese', 'ocean', 'cart', 'delicious', 'good', 'rid', 'good', 'good', 'americanchinese', 'good', 'chinese', 'asian', 'bad', 'overall', 'different', 'pleased', 'chinese', 'chinese', 'good', 'dish', 'full', 'fresh', 'chinese', 'chinese', 'new', 'good', 'uncover', 'hungry', 'good', 'good', 'slow', 'asian', 'terrible', 'chinese', 'great', 'original', 'good', 'dish', 'good', 'plenty', 'cold', 'u', 'chinese', 'full', 'namedoffered', 'great'], ['outstanding', 'asian', 'good', 'great', 'asian', 'awful', 'fast', 'great', 'asian', 'leaf', 'overall', 'great', 'perspective', 'spectacular', 'pm', 'happy', 'obvious', 'asian', 'korean', 'imo', 'overall', 'right', 'asian', 'chinese'], ['good', 'starfish', 'okay', 'fifteen', 'good', 'great', 'great', 'attentive', 'good'], ['good', 'cheese', 'delicious', 'wonderful', 'good', 'great', 'mexican', 'quick', 'great', 'busy', 'great', 'great', 'local', 'great', 'good', 'delicious', 'chicken', 'third', 'mexican', 'tricky', 'good', 'clean', 'great', 'mexican', 'drunk', 'mexican', 'good', 'great', 'wait', 'mexican', 'good', 'nice', 'good', 'mexicanstyle', 'mess', 'mexican', 'real', 'mexican', 'fast', 'jamaican', 'fantastic', 'excellent', 'hot', 'unpleasant', 'mexican', 'tasty', 'mexican', 'good', 'mexican', 'good', 'much', 'fast', 'mexican', 'delicious', 'mexican', 'great', 'fantastic', 'good', 'tasty', 'wait', 'favour', 'good', 'fresh', 'good', 'amazing', 'thursday', 'delicious', 'good', 'great', 'cheap', 'mexican', 'popular', 'mexican', 'mexican', 'mexican', 'mexican', 'mexican', 'great', 'good', 'delicious', 'mexican', 'american', 'trendy', 'excellent', 'mexican', 'delicious', 'mexican', 'short', 'great', 'mexican', 'mexican', 'incredible', 'great', 'mexican', 'mexican', 'finish', 'many', 'not_seen', 'good', 'expensive', 'mexican', 'mexican', 'delicious', 'delicous', 'poor', 'mexican', 'pro', 'joint', 'tablepick', 'fresh', 'great', 'mexican', 'underestimate', 'excellent', 'great', 'great', 'good', 'overall', 'mexican', 'great', 'mexican', 'worth', 'quick', 'true'], ['wonderful', 'great', 'good', 'great', 'suitable', 'scary', 'stick', 'good', 'slow', 'nice', 'mushy', 'excellent', 'pricey', 'good', 'nice', 'good', 'good', 'good', 'attentive', 'not_picky', 'excellent', 'good', 'good'], ['incredible', 'hot', 'wonderful', 'excellent', 'decent', 'great', 'servicethe', 'usual', 'much', 'amazing', 'great', 'japanese', 'artistic', 'affordable', 'great', 'quality', 'fresh', 'wonderful', 'eric', 'much', 'fantastic', 'disappointing', 'outstanding', 'bad', 'great', 'busy', 'great', 'vegetable', 'good', 'great', 'japanese', 'great', 'busy', 'nutty', 'eaten', 'good', 'attentive', 'sunday', 'japanese', 'type', 'favorite', 'hot', 'ok', 'awesome', 'happy', 'eat', 'favorite', 'attentive', 'great', 'delicious', 'great', 'awesome', 'korean', 'japanese', 'true', 'great', 'fresh', 'usual', 'fantastic', 'awesome', 'great', 'great', 'good', 'real', 'excellent', 'great', 'fresh', 'good', 'complementary', 'japanese', 'japanese', 'attentive', 'japanese', 'good', 'fabulous', 'japanese', 'fam', 'possible', 'dial', 'wait', 'hot', 'reasonable', 'free', 'free', 'great', 'reasonable', 'different', 'overall', 'great', 'nice', 'good', 'enjoy', 'great', 'good', 'flavorful', 'tiny', 'japanese', 'good', 'great', 'finish', 'welcome', 'great', 'attentive'], ['low', 'u', 'good', 'steep', 'excellent', 'tiny', 'impressed', 'various', 'bad', 'great', 'slow', 'full', 'much', 'phenomenal', 'good', 'awful', 'delicious', 'good'], ['mexican', 'great', 'authentic', 'eg', 'dry', 'weekly', 'mexican', 'great', 'great', 'mexican', 'mexican', 'mexican', 'mexican', 'mexican', 'great', 'mexican', 'authentic', 'mexican', 'mexican', 'sketchy', 'good', 'fast', 'mexican', 'good', 'gross', 'mexican', 'good', 'outside', 'mexican', 'great', 'clean', 'gym', 'mexican', 'mexican', 'mexican', 'fastmexican', 'mexican', 'weekly', 'mexican', 'great', 'good', 'eat', 'ready', 'delicious', 'mexican', 'mexican', 'mexican', 'mexican', 'nice', 'mexican', 'restaurant', 'mexican', 'delicious', 'mexican', 'great', 'mexican', 'mexican', 'mexican', 'delicious', 'mexican', 'excellent'], ['wonderful', 'finish', 'fine', 'greasy', 'greasy', 'clean', 'fried', 'great', 'great', 'finish', 'good', 'enough', 'try', 'staple', 'outstanding', 'great', 'pricey', 'ahole', 'fine', 'awesome', 'great', 'good', 'wonderful', 'clean', 'great', 'hot', 'enough', 'fast', 'taiwanese', 'not_much', 'good', 'perfect', 'ok', 'underwhelmed', 'uk', 'fast', 'terrible', 'worth', 'great', 'great', 'fast', 'plenty', 'simple', 'fresh', 'overall', 'rest', 'compact', 'overall', 'great', 'sitdown', 'nice', 'different', 'favorite', 'wait', 'friendly', 'drunk', 'great', 'popular', 'ridiculous', 'friedcrispy', 'reasonable', 'good', 'good', 'great', 'quick', 'empty', 'overall', 'wow', 'good', 'overall', 'overall', 'good', 'quality', 'great', 'good', 'quick', 'delicious', 'bad', 'opinionbut', 'lucky', 'small', 'uk', 'traditional', 'helpful', 'not_expensive', 'next', 'great', 'fast', 'disappointing', 'bad', 'greasy', 'summary', 'lot', 'minute', 'box', 'good', 'fast', 'table', 'bad', 'great', 'excellent', 'favorite', 'great', 'nice', 'disappointed', 'disappointed', 'plenty', 'lukewarm', 'good', 'sweet', 'u', 'different', 'good', 'wait', 'affordable', 'clean', 'temperature', 'fast', 'main', 'great', 'great', 'fast', 'fresh', 'actual', 'conventional', 'staple', 'u', 'good', 'awesome', 'critique', 'excellent', 'good', 'fresh', 'comfort', 'eat', 'british', 'gourmet', 'breading', 'eat', 'much', 'tasty', 'great', 'good', 'decent', 'strip', 'fresh', 'quick', 'pick', 'fry', 'table', 'excellent', 'good', 'awesome', 'nice', 'receive', 'great', 'delicious', 'eat', 'poor', 'fast', 'minute', 'good', 'great', 'good', 'fast', 'good', 'seafoodfast', 'great', 'scrumptious', 'great', 'favorite'], ['chinese', 'chinese', 'great', 'know', 'chinese', 'cantonese', 'chinese', 'reasonable', 'chinese', 'good', 'similar', 'cantonese', 'chinese', 'high', 'overall', 'symptom', 'overall', 'good', 'chopstick', 'happy'], ['phenomenal', 'great', 'exceptional', 'favorite', 'great', 'asian', 'american', 'vietnamese', 'fav', 'great', 'asian'], ['reasonable', 'enough', 'spanish', 'good', 'outstanding', 'good', 'horrible', 'mexican', 'impressed', 'mexican', 'restaurant', 'mexican', 'english', 'wait', 'mexican', 'type', 'professional', 'different', 'excellent', 'mexican', 'good', 'fancy'], ['attentive', 'spend', 'great', 'great', 'necessary', 'overall', 'not_busy', 'table', 'incredible', 'capable', 'bad', 'excellent', 'welcome', 'good', 'happy', 'lot', 'finish', 'fabulous', 'happy', 'efficient', 'awhile', 'good', 'careful', 'pleasant', 'fan', 'bad', 'empty', 'nacho', 'overall', 'utensil', 'bad', 'good', 'complaint', 'great', 'delightful', 'late', 'mixed', 'spacious', 'restaurant', 'quick', 'scrap', 'great', 'good', 'right', 'great', 'good', 'great', 'satisfied', 'quick', 'great', 'asian', 'not_asian', 'spacious', 'plenty', 'great', 'poor', 'salad', 'right', 'good', 'low', 'good', 'full', 'available', 'delicious'], ['u', 'good', 'excellent', 'reasonable', 'great', 'wrong', 'great', 'great', 'amazing', 'great', 'good', 'great', 'good', 'second', 'thai', 'thai', 'thai', 'u', 'special', 'great', 'excellent', 'eat', 'good', 'sunday', 'much', 'great', 'good', 'thai', 'much', 'good', 'amazing', 'much', 'delicious', 'great', 'much', 'arrival', 'thai', 'much', 'thai', 'inconsistent', 'old', 'great', 'chinese', 'great', 'friendly', 'pick', 'hot', 'cheap', 'not_give', 'great', 'thai', 'chinese', 'awesome', 'good', 'ok', 'good', 'good', 'good', 'cautious', 'tasty', 'plenty', 'thai', 'enjoy', 'good', 'comfortable', 'inedible', 'wait', 'shame', 'good', 'msg', 'give', 'wrong', 'prepare', 'thai', 'thai', 'thaiasian', 'prepare', 'nice', 'odd', 'meal', 'good', 'great', 'american', 'nice', 'good', 'chinese', 'boba', 'good', 'difficult', 'great', 'update', 'nasty', 'great', 'old', 'receive', 'worth', 'knowledgeable', 'usual', 'great', 'good', 'thai', 'thai', 'slow', 'thai', 'good', 'amazing', 'good', 'sticky', 'chinese', 'thai', 'thai', 'second', 'good', 'great', 'vietnamese', 'asian', 'shadow', 'good', 'great', 'authentic', 'good', 'great', 'reasonable', 'agree'], ['fresh', 'thaiasian', 'thai', 'okay', 'happy', 'good', 'awful', 'great', 'good', 'great', 'not_right', 'asian', 'disappointed', 'professional', 'excellent', 'great', 'great', 'overall', 'great', 'return', 'great', 'good', 'great', 'u', 'delicious', 'lamp', 'great', 'much', 'thai', 'memorable', 'u', 'great', 'nice', 'thai', 'hot', 'great', 'ethnic', 'authentic', 'great', 'wrong', 'thai', 'good', 'great', 'much', 'excellent', 'delicious', 'good', 'great', 'asian', 'asian', 'fantastic', 'good', 'good', 'great', 'receive', 'good', 'overall', 'thai', 'excellent', 'atmosphere', 'exceptional', 'great', 'thai', 'great', 'excellent', 'enough', 'excellent', 'fancy', 'slow', 'horrible', 'delicious', 'thai', 'short', 'great', 'thankful', 'much', 'good', 'great', 'tip', 'amazing', 'bad', 'delicious', 'great', 'mild', 'polite', 'modern', 'various', 'awesome', 'good', 'thai', 'asian', 'excellent', 'exceptional', 'great', 'thai', 'thai', 'arrive', 'good', 'fantastic', 'steady', 'good', 'meal', 'overall', 'ok', 'actual', 'thai', 'delicious', 'good', 'thai', 'thai', 'picky', 'delicious', 'nice', 'great', 'great', 'asian', 'good', 'great', 'main', 'good', 'good', 'ale', 'indian', 'ethnic', 'great', 'thai', 'comfortable', 'overall', 'excellent', 'horrible', 'good', 'good', 'great', 'uptown', 'good', 'good', 'busy', 'good', 'mediocre', 'great', 'dish', 'enjoyable', 'excellent', 'indian', 'good', 'flavourful', 'great', 'impressed', 'summary', 'hot', 'great', 'asian', 'great', 'ok', 'thai', 'good'], ['delicious', 'terrible', 'good', 'good', 'good', 'double', 'decent', 'helpful', 'great', 'laden', 'content', 'terrible'], ['special', 'good', 'excellent', 'good', 'delicious', 'good', 'great', 'true', 'thai', 'awesome', 'thai', 'not_finish', 'high', 'thai', 'great', 'close', 'good', 'fabulous', 'great', 'great', 'authentic', 'good', 'want', 'great', 'expensive', 'enough', 'nice', 'fresh', 'quick', 'authentic', 'thai', 'thai', 'chinese', 'great', 'cool', 'thai', 'good', 'excellent', 'u', 'thai', 'dine', 'great', 'average', 'good', 'authentic', 'great', 'thai', 'pick', 'great', 'not_aware', 'certain', 'delicious', 'amazing', 'chinese', 'location', 'thai'], ['awful', 'high', 'great', 'great', 'finish', 'good', 'great', 'great', 'hot', 'birthday', 'fresh', 'attentive', 'full', 'tasty', 'fantastic', 'delicious', 'freshness', 'quality', 'rowdy', 'great', 'website', 'good', 'respectable', 'great', 'much', 'great', 'ok', 'odd', 'oyster', 'happy', 'great', 'amazing', 'le', 'knowledgeable', 'fantastic', 'great'], ['great', 'great', 'much', 'fresh', 'great', 'right', 'lovely', 'great', 'great', 'not_finish', 'good', 'disappointed', 'great', 'favorite', 'delicious', 'reversed', 'violent', 'good'], ['delicious', 'wonderful', 'wonderful', 'knowledgeable', 'excellent', 'great', 'great', 'good', 'great', 'awful', 'caribbean', 'wonderful', 'excellent', 'caribbean', 'good', 'flavorful'], ['good', 'busy', 'u', 'italian', 'great', 'italian', 'italian', 'good', 'mall', 'great'], ['good', 'great', 'meh', 'give'], ['italian', 'italian', 'tasty', 'nice', 'italian', 'delicious', 'italian', 'italian', 'good', 'helpful', 'italian', 'frozen', 'italian', 'great', 'italian', 'american', 'attentive', 'italian', 'italian', 'rigatony', 'good', 'italian', 'italian', 'italian', 'italian', 'italian', 'italian', 'italian', 'prompt', 'italian', 'italian', 'italian', 'le', 'italian', 'fantastic', 'great', 'u', 'italian', 'italian', 'great', 'good', 'italian', 'italian', 'great', 'italian', 'good', 'italian', 'picky', 'italian', 'italian', 'italian', 'italian', 'great', 'italian', 'delicious', 'good', 'italian', 'italian', 'italian', 'italian', 'salad', 'noisy', 'tasty', 'wrong', 'italian', 'italian', 'poor', 'tasteless', 'lunch', 'delicious', 'italian', 'great', 'italian', 'italian', 'great', 'good', 'italian', 'italian', 'great', 'italian', 'good', 'average', 'tasty', 'italian', 'great', 'great', 'italian', 'perfect', 'overall', 'italian', 'authentic', 'italian', 'good', 'great', 'italian', 'italian', 'overall', 'plenty', 'great', 'italian', 'good', 'italian', 'much', 'quick', 'delicious', 'great', 'italian', 'excellent', 'good', 'good', 'good', 'fast', 'great', 'nice', 'awesome', 'saturday', 'plenty', 'italian', 'good', 'italian', 'good', 'italian', 'delicious', 'italian', 'jess', 'italian', 'italian', 'sure', 'excellent', 'finish', 'right', 'italian', 'italian', 'good', 'not_believe', 'italian', 'italian', 'italian', 'italianamerican', 'great', 'great', 'favorite', 'poor', 'italian', 'italian', 'phenomenal', 'italian', 'pick', 'bad', 'amazing', 'delicious', 'italian', 'italian', 'italian', 'italian', 'italian', 'italian', 'good', 'italian', 'much', 'good', 'italian', 'edible', 'italian', 'overall', 'great', 'good', 'italian', 'great', 'great', 'anniversary', 'good', 'italian', 'italian', 'impressed', 'great', 'great', 'italian', 'tempe', 'italian', 'last', 'good', 'loud', 'good', 'good', 'grow', 'consistent', 'great', 'italian', 'fresh', 'italian', 'whatnot', 'italian', 'great', 'italian', 'enthusiastic', 'italian', 'italian', 'delicious', 'great', 'reasonable', 'rigatoni', 'italian', 'great', 'great', 'top', 'u', 'italian', 'italian', 'awesome', 'italian', 'great', 'great', 'italian', 'meatball', 'good', 'generic', 'knowledgeable', 'italian', 'awesome', 'great', 'knowledgeable', 'italian', 'great', 'italian', 'delicious', 'good', 'italian', 'italian', 'italian', 'nice', 'good', 'attentive', 'italian', 'good', 'local', 'italian', 'exceptional', 'hot', 'great', 'italian', 'italian', 'sugar', 'italian', 'excellent', 'itallian', 'u', 'italian', 'great', 'italian', 'italian', 'good', 'italian', 'great', 'excellent', 'great', 'solid', 'italian', 'italian', 'u', 'phenomenal', 'rigatoni', 'delicious', 'italian', 'great', 'enjoy', 'exceptional', 'italian', 'great', 'italian', 'enough', 'delicious', 'italian', 'delicious', 'great', 'critical', 'italian', 'great', 'italian', 'good', 'waitress', 'fresh', 'italian', 'great', 'good', 'italian', 'good', 'italian', 'wrong', 'italian', 'good'], ['fresh', 'great', 'wow', 'awesome', 'mexican', 'awesome', 'excellent', 'good', 'excellent', 'great', 'mexican', 'mexican', 'good', 'miss', 'good', 'mexican', 'great', 'excellent', 'impressed', 'mexican', 'pleasant', 'mexican', 'nice', 'mexican', 'mexican', 'mexican', 'english', 'great', 'great', 'mexican', 'table', 'mexican', 'mexican', 'mexican', 'great', 'great', 'great', 'mexican', 'mexican', 'friendly', 'mexican', 'mexican', 'delicious', 'great', 'great', 'mexican', 'not_bad', 'delicious', 'great', 'attentive', 'large', 'great', 'great', 'mexican', 'great', 'great', 'mexican', 'mexican', 'mexican', 'mexican', 'professional', 'great', 'great', 'excellent', 'much', 'noteworthy', 'great', 'special', 'wonderful', 'happy', 'attentive', 'great', 'good', 'mexican', 'mexican', 'friendly', 'overall', 'good', 'mexican', 'mexican', 'great', 'great', 'mexican', 'happy', 'outstanding', 'mexican', 'mexican', 'much', 'attentive', 'mexican', 'mexican', 'important', 'mexican', 'mexican', 'late', 'mexican', 'outstanding', 'great', 'good', 'authentic', 'excellent', 'great', 'great', 'good', 'wrong', 'mexican', 'mexican', 'great', 'good', 'great', 'mexican', 'mediocre', 'impressed', 'great', 'mexican', 'great', 'good', 'mexican', 'mexican', 'decor', 'nice', 'great', 'warm', 'mexican', 'small', 'great', 'great', 'great', 'excellent', 'great', 'mexican', 'mexican', 'good', 'mexican', 'volcano', 'good', 'pleased', 'phenomenal', 'awesome', 'mexican', 'great', 'mexican', 'mexican', 'good', 'mexican', 'mexican', 'real', 'mexican', 'delicious', 'mexican', 'friendly', 'delicious', 'fantastic', 'mexican', 'sightless', 'mexican', 'great', 'mexican', 'authentic', 'delicious', 'mexican', 'great', 'good', 'much', 'dish', 'good', 'not_all', 'mexican', 'delicious', 'mexican', 'mariscos', 'excellent', 'mexican', 'mexican', 'mexican', 'full', 'great', 'mexican', 'authentic', 'much', 'mexican', 'atmosphereauthentic', 'great', 'bean'], ['much', 'pricey', 'great', 'high', 'different', 'perfect', 'delicious', 'serious', 'massive', 'different', 'korean', 'weird', 'expensive', 'busy', 'pleased', 'japanese', 'overall', 'great', 'excellent', 'good', 'pas'], ['mexican', 'mexican', 'much', 'mexican', 'good', 'mexican', 'fresh', 'mexican', 'good', 'great', 'great', 'clean', 'excellent', 'excellent', 'great', 'good', 'good', 'not_touch', 'mexican', 'reasonable', 'mexican', 'cheap', 'mexican', 'mexican', 'good', 'mexican', 'excellent', 'fresh', 'great', 'mexican', 'wonderful', 'good', 'great', 'mexican', 'great', 'mexican', 'helpful', 'japanese', 'great', 'mexican', 'fresh', 'good', 'great', 'great', 'mexican', 'delicious', 'mexican', 'mexican', 'great', 'mexican', 'mexican', 'u', 'mexican', 'good', 'great', 'mexican', 'mexican', 'delicious', 'excellent', 'fantastic', 'mexican', 'mexican'], ['great', 'dish', 'hot', 'u', 'small', 'worthwhile', 'good', 'friendly', 'great', 'outstanding', 'like', 'italian', 'italian', 'great', 'sorry', 'u', 'great', 'franco', 'good', 'unhappy', 'not_busy', 'not_anymore..', 'great', 'u', 'italian', 'raw', 'italian', 'good', 'attentive', 'italian', 'bring', 'great', 'italian', 'raw', 'wonderful', 'great', 'great', 'overall', 'much', 'excellent', 'nice', 'hot', 'good', 'nice', 'gross', 'italian'], ['excellent', 'efficient', 'different', 'bite', 'reasonable', 'poor', 'great', 'eat', 'outstanding', 'crazy', 'mixed', 'tip', 'expensive', 'excellent', 'awesome', 'clean', 'great', 'helpful', 'good', 'overall'], ['top', 'hot', 'cold', 'anniversary', 'good', 'good', 'different', 'casual', 'fabulous', 'americana', 'u', 'good', 'great', 'great', 'amazing', 'not_know', 'table', 'great', 'consistent', 'overall', 'fair', 'u', 'severe', 'finish', 'great', 'amazing', 'great', 'ok', 'great', 'much', 'correct', 'great', 'excellent', 'nice', 'scrumptious', 'not_serving', 'dish', 'fabulous', 'great', 'everyday', 'mexican', 'great', 'potential', 'wonderful', 'much', 'slow', 'full', 'inglorious', 'wonderful', 'nasty', 'delicious', 'great', 'fabulous', 'sure', 'not_want', 'great', 'excellent', 'pleasant', 'not_mesh', 'outstanding', 'excellent', 'lebanese', 'eddie', 'fabulous', 'disappointed', 'great', 'spectacular', 'good', 'great', 'good', 'good', 'amazing', 'good', 'great', 'good', 'comp', 'tremendous', 'spectacular', 'good', 'informative', 'excellent', 'table', 'touch', 'much', 'wonderful', 'great', 'delicious', 'poor', 'mediocre', 'excellent', 'athlete', 'interesting', 'bad'], ['heavy', 'horrible', 'u', 'great', 'good', 'boulevard', 'acceptable', 'great', 'italian', 'bread', 'bad', 'miss', 'italian', 'u', 'horrible', 'slow'], ['excellent', 'great', 'fresh', 'friendly', 'good', 'good', 'good', 'great', 'local', 'wonderful', 'disappointed'], ['good', 'minute', 'perfect', 'fantastic', 'much', 'prosecco', 'delicous', 'average', 'omg', 'tosimilar', 'great', 'buffet', 'good', 'u', 'impeccable', 'good', 'bad', 'much', 'great', 'great', 'friendthe', 'good', 'good', 'exceptional', 'top', 'much', 'avoid', 'passe', 'great', 'clean', 'delish', 'good', 'good', 'busy', 'particular', 'great', 'not_finish', 'great', 'awesome', 'awesome', 'awesome', 'great', 'good', 'good', 'severe', 'adamant', 'ok'], ['solid', 'fresh', 'freshdelicious', 'good', 'salad', 'good', 'super', 'super', 'great', 'clean', 'pick', 'much', 'super', 'healthy', 'enough', 'delicious', 'super', 'great', 'enough', 'fresh', 'ton', 'super', 'excellent'], ['hot', 'early', 'japanese', 'hot', 'fresh', 'avoid', 'hot', 'hot', 'believe', 'hot', 'expensive', 'hot', 'regular', 'hot', 'hot', 'hot', 'hot', 'japanese', 'hot', 'hot', 'hot', 'hot', 'hot', 'prepare', 'chinese', 'piece', 'piece', 'good', 'hot', 'hot', 'strip', 'much', 'normal', 'vega', 'extra', 'buffet', 'hot', 'hot', 'hot', 'hot', 'hot', 'warm', 'japanese', 'japanese', 'japanese', 'hot', 'full', 'lunch', 'asian', 'new', 'japanese', 'warm', 'wonderful', 'hot', 'hot', 'good', 'hot', 'overall', 'hot', 'restuarant', 'bad', 'hot', 'hot', 'hot', 'asian', 'hot', 'japanese', 'hot', 'good', 'hot', 'hot', 'hot', 'hot', 'hot', 'good', 'great', 'hot', 'hot', 'hot', 'happy', 'different', 'good', 'japanese', 'special', 'japanese', 'hot', 'much', 'chinese', 'hot', 'good', 'japanese'], ['worth', 'great', 'vietnamese', 'worth', 'ethnic', 'vietnamese', 'american', 'vietnamese', 'cool', 'type', 'wait', 'good'], ['minute', 'good', 'great', 'hot', 'great', 'minute', 'hot', 'ur', 'whiff', 'greasy', 'terrible', 'good', 'worth', 'pick', 'great', 'outstanding', 'fresh', 'terrible', 'great', 'eat', 'joint', 'amount', 'great', 'excellent', 'friendly', 'chinese', 'average', 'spear', 'delicious', 'high', 'great', 'delicious', 'previous', 'great', 'amazing', 'free', 'amazing', 'good', 'fresh'], ['delicious', 'not_least', 'good', 'diet', 'usual', 'good', 'necessary', 'overall', 'sure', 'southern', 'creole', 'friendly', 'delicious', 'good', 'colorful', 'ask', 'odd', 'wrong', 'give', 'not_keep', 'bad', 'delicious', 'non', 'good', 'great', 'great', 'apologize', 'drive', 'great', 'different', 'popular', 'good', 'fabulous', 'enough', 'plenty', 'terrible', 'wrong', 'min', 'long', 'disappointed', 'excellent', 'knowledgeable', 'lv', 'great', 'great', 'favorite', 'great', 'disappointed', 'hot', 'not_make', 'delicious', 'worth', 'hopeful', 'good', 'amazing'], ['great', 'ample', 'great', 'wonderful', 'great', 'good', 'good', 'fantastic', 'excellent', 'mexican', 'great', 'great', 'excellent', 'delicious', 'solid', 'aware'], ['great', 'great', 'okay', 'high', 'grateful', 'awful', 'fast', 'bad', 'helpful', 'good', 'wrong', 'good', 'kinda', 'fast', 'dick', 'delicious', 'disappointed', 'free', 'overall', 'lobster', 'high', 'fast', 'wrong', 'awesome', 'little', 'good', 'wholesome', 'great', 'overall', 'flavorful', 'great', 'little', 'fast', 'overpriced', 'expensive', 'fast', 'cheese', 'good', 'type', 'minute', 'good', 'obnoxious', 'pricey', 'good', 'good', 'main', 'vega', 'good', 'small', 'terrible', 'nice', 'great', 'horrible', 'great', 'great', 'quick', 'unique', 'fast', 'limited', 'mall', 'little', 'fast', 'good', 'pricey', 'fast', 'expensive', 'mall', 'mall', 'tasty', 'yummy', 'good', 'huge', 'average', 'great', 'easy', 'good', 'front', 'weird', 'mary', 'much', 'mall', 'not_bad', 'excellent', 'next', 'awesome', 'fair', 'good', 'casual', 'excellent', 'fast', 'good', 'fast', 'wonderful', 'fast', 'good', 'busy', 'great', 'good', 'favorite', 'awful'], ['pm', 'possible', 'happy', 'complaint', 'waiter', 'great', 'great', 'efficient', 'good', 'table', 'great', 'good', 'miss', 'bad', 'good', 'great', 'busy', 'sad', 'friendly'], ['fine', 'great', 'chinese', 'chinese', 'chinese', 'cantonese', 'chinese', 'chinese', 'chinese', 'chinese', 'level', 'great', 'nice', 'chinese', 'chinese', 'chinese', 'good', 'chinese', 'chinese', 'great', 'chinese', 'chinese', 'good', 'chinese', 'overall', 'good', 'chinese', 'chinese', 'chinese', 'chinese', 'good', 'strange', 'chinese', 'chinese', 'chinese', 'good', 'u', 'worth', 'chinese', 'chinese', 'chinese', 'disappointed', 'chinese', 'chinese', 'chinese', 'chinese', 'chinese', 'not_mean', 'involved', 'much', 'asian', 'whirl', 'chinese', 'chinese', 'chinese', 'not_care', 'affordable', 'chinese', 'chinese', 'glutinous', 'fresh', 'chinese', 'chinese', 'terrible', 'delicious', 'chinese', 'hot', 'warm', 'hot', 'good', 'much', 'long', 'full'], ['quick', 'sick', 'okay', 'ridiculous', 'good', 'chinese', 'chinese', 'good', 'asian', 'different', 'not_compensate', 'asian', 'straight', 'symptom', 'chinese', 'nasty', 'economic', 'great', 'suspect', 'dirty', 'sick', 'chinese', 'clean', 'nasty', 'nasty', 'clean', 'good', 'nasty'], ['horrible', 'good', 'much', 'great', 'prepare', 'helpful', 'great', 'overall', 'want', 'enough', 'waitress', 'dish', 'finish', 'not_eaten', 'alot', 'much', 'good', 'great', 'good', 'enough', 'good', 'good', 'dead', 'nice'], ['high', 'wrong', 'excellent', 'excellent', 'italian', 'not_fast', 'wear', 'italian', 'happy', 'italian', 'good', 'second', 'good', 'dish', 'italian', 'italian', 'italian', 'adn', 'good', 'italian', 'italian', 'great', 'italian', 'loud', 'excellent', 'usual', 'good', 'unbelievable', 'italian', 'reasonable', 'not_great', 'le', 'u', 'efficient', 'expensive', 'attentive', 'italian', 'italian', 'good', 'italian', 'phenomenal', 'good', 'italian', 'place', 'important', 'key', 'fantastic', 'good', 'outstanding', 'horrible', 'dreadful', 'poor', 'good', 'italian', 'italian', 'amazing', 'personal', 'fresh', 'decent', 'italian', 'bad', 'min', 'good', 'amazing', 'fantastic', 'friendly', 'irvine', 'italian', 'italian', 'fantastic', 'great', 'italian', 'italian', 'italian', 'small', 'attentive', 'italian', 'italy', 'not_make', 'edible', 'awesome', 'attentive', 'great', 'good', 'good', 'italian', 'great', 'italian', 'great', 'italian', 'italian', 'italian', 'delicious', 'excellent', 'outstanding', 'reasonable', 'terrible', 'good', 'italian', 'italian', 'not_think', 'bad', 'finish', 'great', 'great', 'good', 'italian', 'plaisant', 'good', 'italian', 'overall', 'italian', 'great', 'italian', 'good', 'tiny', 'delicious', 'third', 'excellent', 'italian', 'picky', 'easy', 'helpful', 'delicous', 'italian', 'italian', 'italian', 'italien', 'exact', 'good', 'nice', 'italian', 'dismal', 'frozen', 'great', 'good', 'lemon', 'italian', 'decent', 'slow', 'italian', 'great', 'great', 'great', 'good', 'romantic', 'chinese', 'italian', 'italian', 'italian', 'good', 'little', 'decent', 'italian', 'great', 'ridiculous', 'vega', 'good', 'excellent', 'nice', 'good', 'good', 'italian', 'bearable', 'italian', 'excellent', 'lunch', 'decline', 'italian', 'italian', 'amazing', 'good', 'good', 'double', 'obvious', 'wrong', 'italian', 'italian', 'italian', 'italian', 'top', 'bleh', 'great', 'good', 'great'], ['friend', 'impeccable', 'disappointed', 'good', 'good', 'great', 'delightful', 'delicious', 'great', 'tasty', 'behave', 'decent', 'tasty', 'nice', 'good', 'delicious', 'delicious', 'delicious', 'want', 'excellent', 'great', 'difficult', 'actual', 'happy', 'good', 'great', 'decent', 'great', 'advantage', 'bottlecan', 'patio', 'ate', 'manner', 'attentive', 'great', 'lol', 'spastic', 'great', 'fantastic', 'good', 'special', 'good', 'good', 'seat', 'u', 'little', 'stay', 'edible', 'crowd', 'good', 'much', 'good', 'good', 'great', 'prompt', 'fantastic', 'delicious', 'great', 'pleased', 'great', 'good', 'minute', 'good', 'slow', 'excellent', 'great', 'not_expect', 'great', 'fan', 'enjoyable', 'friendly', 'excellent', 'inexpensive', 'obnoxious', 'good', 'lackluster', 'much', 'good', 'good', 'delicious', 'attentiveness', 'good', 'great', 'good', 'good', 'meh', 'friendly', 'disappointed', 'great', 'u', 'u', 'good', 'slow', 'good', 'good', 'ok', 'good', 'great', 'good', 'great', 'atmosphere', 'delicious', 'special', 'great', 'nice', 'great', 'impressed', 'great', 'mediocre', 'fabulous', 'excellent', 'good', 'prompt', 'good', 'delicious', 'enough', 'awesome', 'good', 'ton', 'need', 'tasty', 'good', 'good', 'great', 'great', 'fantastic', 'special', 'actual', 'great', 'crappy', 'great', 'good', 'great', 'awesome', 'awesome', 'great', 'great', 'great', 'bar', 'great', 'great', 'earth', 'good', 'warm', 'plenty', 'nuscense', 'great', 'good', 'spectacular', 'good', 'okay', 'great', 'right', 'much', 'nice'], ['horrible', 'sure', 'enough', 'affordable', 'awesome', 'good', 'japanese', 'sufficient', 'great', 'great', 'good', 'phenomenal', 'affordable', 'hot', 'great', 'helpful', 'hot', 'yummy', 'good', 'busy', 'wish', 'delicious', 'great', 'fresh', 'good', 'bright', 'actual', 'positive', 'appetizer', 'hot', 'great', 'good', 'plenty', 'delicious', 'le', 'overall', 'similar', 'helpful', 'little', 'clean', 'fresh', 'hot', 'much', 'great', 'delicious', 'fresh'], ['cool', 'worth', 'wait', 'slow', 'lousy', 'great', 'entree', 'enough', 'usual', 'nice', 'crappy', 'low', 'great', 'exotic', 'horrible', 'fresh', 'good', 'understaffed', 'good', 'terrible', 'great', 'good', 'first', 'table', 'good', 'great', 'little', 'dish', 'spear'], ['chinese', 'much', 'chinese', 'good', 'awesome', 'chinese', 'chinese', 'favorite', 'chinese', 'chinese', 'good', 'chinese', 'chinese', 'tasty', 'chinese', 'entree', 'asian', 'chinese', 'good', 'overall', 'not_order', 'chinese', 'chinese', 'asian', 'bad', 'average', 'asian', 'good', 'asian', 'chinese', 'chinese', 'sister', 'chinese', 'minute', 'gross', 'fresh', 'doordash', 'good', 'attentive', 'chinese', 'chinese', 'chinese', 'pick', 'fast', 'good', 'horrible', 'americanchinese', 'chinese', 'oncethe', 'good', 'chinese', 'chinese', 'much', 'good', 'nice', 'chinese', 'chinese'], ['consistent', 'disappointing', 'good', 'slow', 'outstanding', 'fair', 'excellent', 'much', 'tried', 'gem', 'great', 'passable', 'worth', 'good', 'low', 'overall', 'satisfied', 'long', 'terrible', 'horrible'], ['great', 'fresh', 'entree', 'bad', 'great', 'free', 'bad', 'great', 'excellent', 'amazing'], ['not_bad', 'chinese', 'excellent', 'chinese', 'chinese', 'chinese', 'u', 'extra', 'big', 'good', 'dish', 'chinese', 'hospitable'], ['cafe', 'cafe', 'good', 'not_me', 'cantonese', 'great', 'generous', 'chinese', 'helpful', 'great', 'quick', 'chinese', 'effective', 'enough', 'important', 'chinese', 'chinese', 'ridiculous', 'tasty', 'chinese', 'chinese', 'bad', 'small', 'dated', 'clean', 'nice', 'chinese', 'good', 'western', 'good'], ['good', 'table', 'freshness', 'accidental', 'hot', 'enough', 'restaurant', 'good', 'good', 'nice', 'nasty', 'consistent', 'worth', 'nice', 'bad', 'awesome', 'nice', 'u', 'disappointed', 'great', 'back', 'excellent', 'overall', 'good', 'door', 'quick', 'early', 'attentive'], ['overall', 'excellent', 'great', 'good', 'french', 'great', 'french', 'good', 'nonexistent', 'solid', 'knowledgable', 'average', 'great', 'decent', 'attentive', 'ok', 'min', 'plenty', 'wonderful', 'average', 'fancy', 'great', 'fatty', 'fantastic', 'disappointing', 'great', 'french', 'bad', 'french', 'cheese', 'disappointed', 'terrible', 'good', 'great', 'amazing', 'great', 'u', 'firstrate', 'dish', 'decent', 'good', 'french', 'high', 'big', 'decent', 'good', 'good', 'much', 'weird', 'bad', 'great', 'overall', 'devil', 'nineteen', 'good', 'great', 'good', 'u', 'knowledgeable', 'great', 'full', 'enough', 'upscale', 'french', 'theme', 'excellent', 'delicious', 'much', 'great', 'french', 'view', 'name', 'french', 'good', 'dark', 'frenchy', 'recommend', 'french', 'u', 'great', 'entree', 'strong', 'french', 'great', 'bad', 'much', 'good', 'bizarre', 'french', 'disappointed', 'french', 'actual', 'great', 'french', 'french', 'fantastic', 'ok', 'expensive', 'fantastic', 'delicious', 'free', 'great', 'tasty', 'great', 'u', 'exquisite', 'attentive', 'great', 'unintrusive', 'good', 'fantastic', 'long', 'french', 'bouchon', 'french', 'necessary', 'good', 'fair', 'expensive', 'much', 'much', 'knowledgeable', 'pleasant', 'attentive', 'great', 'solid', 'dry', 'future', 'delicious', 'little', 'excellent'], ['italian', 'delicious', 'mexican', 'expect', 'mexican', 'casual', 'great', 'great', 'itallian', 'delicious', 'great', 'great', 'mexican', 'clean', 'responsive', 'mexican', 'good', 'great', 'italian', 'great', 'friendly', 'great', 'good', 'italian', 'italian'], ['free', 'helpful', 'decor', 'raw', 'bad', 'fresh', 'fresh', 'great'], ['ok', 'friendly', 'chinese', 'chinese', 'delicious', 'dish', 'salt', 'chinese', 'nice', 'great', 'chinese', 'chinese', 'chinese', 'chinese', 'good', 'chinese', 'chinese', 'chinese', 'good', 'chinese', 'chinese', 'pick', 'good', 'chinese', 'chinese', 'delicious', 'henderson', 'happy', 'many', 'great', 'decent', 'chinese', 'chinese', 'special', 'upkeep', 'stellar', 'chinese', 'wrong', 'good'], ['mexican', 'many', 'good', 'bad', 'table', 'eighteen', 'worth', 'not_like', 'many', 'great', 'great', 'main', 'good', 'normal', 'good', 'available', 'chinese', 'free', 'asian', 'american', 'vega', 'overall', 'overall', 'disappointed', 'personable', 'tasty', 'delicious', 'asian', 'quality', 'expensive', 'small', 'good', 'heavy', 'excellent', 'bachannal', 'brunch', 'great', 'u', 'anniversary', 'u', 'old', 'new', 'disappointed', 'good', 'italian', 'asian', 'poor', 'poor', 'bad', 'worth', 'high', 'great', 'u', 'terrible', 'brazilian', 'outrageous', 'chinese', 'chinese', 'great', 'dry', 'great', 'good', 'dead', 'disappointing', 'old', 'horrible', 'frozen', 'asian', 'expensive', 'expensive', 'overall', 'good', 'mediocre', 'chinese', 'average', 'different', 'ok', 'poor', 'good', 'typical', 'vega', 'mimosa', 'good', 'additional', 'chinese', 'crappy', 'busy', 'top', 'chinese', 'early', 'leg', 'drab', 'great', 'asian', 'touch', 'corral', 'generic', 'bad', 'hot', 'hot', 'chinese', 'good', 'latin', 'chinese', 'awful', 'empty', 'u', 'last', 'overall', 'enjoy', 'table', 'chinese', 'chinese', 'good', 'mediocre', 'glamorous', 'disappointing', 'bad', 'asian', 'uneaten', 'good', 'teeny', 'asian', 'asian', 'good', 'much', 'middle', 'good', 'empty', 'regular', 'ethnic', 'bite', 'chinese', 'chinese', 'chinese', 'good', 'delicious', 'italian', 'great', 'sure', 'much', 'hot', 'preservative', 'delicious', 'clean', 'good', 'chinese', 'poor', 'torture', 'laugh', 'touch', 'new', 'good', 'hot', 'strong', 'poor', 'not_go', 'old', 'enjoyable', 'son', 'international', 'mexican', 'chinese', 'amazing', 'great', 'much', 'past', 'sure', 'additional', 'great', 'not_worth', 'delicious', 'great'], ['great', 'comfortable', 'amazing', 'low', 'attentive', 'disappointing', 'fine', 'great', 'chic', 'terrible', 'knowledgeable', 'good', 'unfortunate', 'excellent', 'delicious', 'reliable', 'great', 'special', 'nice', 'strange', 'delicious', 'attentive'], ['door', 'u', 'restaurant', 'good', 'great', 'italian', 'great', 'italian', 'italian', 'italian', 'poor', 'italian', 'wrong', 'not_bad', 'italian', 'great', 'italian', 'frozen', 'fantastic', 'table', 'lunch', 'long', 'unhappy', 'lifetime', 'empty', 'italian', 'italian', 'good', 'busy', 'meal', 'lackluster', 'heavy', 'bad', 'great', 'delightful', 'excellent', 'italian', 'table', 'italian', 'italian', 'great', 'plenty', 'italian', 'italian', 'good', 'great', 'decor', 'great', 'italian', 'receive', 'new', 'great', 'outdated', 'excellent', 'bite', 'italian', 'excellent', 'excellent', 'italian', 'great', 'not_receive', 'bad', 'bad', 'wonderful', 'authentic', 'amazing', 'great'], ['decent', 'scottish', 'delicious'], ['hawaiian', 'hawaiian', 'hawaiian', 'hawaiian', 'hawaiian', 'pick', 'chinese', 'glad', 'ton', 'hawaiian', 'positive', 'greek', 'local', 'hawaiian', 'hawaiian', 'good', 'fast', 'ate', 'nice', 'good', 'flavorful', 'chinese', 'hawaiian', 'hawaiian', 'satisfied', 'hawaiian', 'hawaiian', 'delicious', 'good', 'great', 'type', 'hawaiian'], ['good', 'excellent', 'fancy', 'nice', 'table', 'gray', 'wonderful', 'impressed', 'italian', 'great', 'excellent', 'italian', 'great', 'italian', 'delicious', 'outstanding', 'wonderful', 'strange', 'great', 'italian', 'nice', 'great', 'generous'], ['great', 'awesome', 'italian', 'decent', 'mediocre', 'good', 'italian', 'rush', 'friendly', 'italian', 'good', 'horrible', 'good', 'good', 'informative', 'good', 'actual', 'much', 'delicious', 'meal'], ['excellent', 'incredible', 'great', 'u', 'free', 'gloomy', 'generous', 'good', 'dish', 'severe', 'excellent', 'overall'], ['crappy', 'past', 'italian', 'italian', 'great', 'right', 'mean', 'italian', 'second', 'original', 'bad', 'crappy', 'alright', 'good', 'good', 'good', 'good', 'italian', 'italian', 'real', 'free', 'great', 'bad', 'crappy', 'comfortable', 'bite', 'good', 'incorrect', 'italian', 'poor', 'bad', 'great', 'delicious', 'great', 'italian', 'italian', 'great', 'italian', 'italian', 'good', 'great'], ['great', 'jamaican', 'jamaican', 'caribbean', 'jamaican', 'not_good', 'jamaican', 'delicious', 'jamaican', 'good', 'jamaican', 'great', 'real', 'jamaican', 'great', 'jamaican', 'caribbean', 'caribbean', 'great', 'wonderful', 'clean', 'jamaican', 'great', 'indian', 'new', 'crappy', 'many', 'favorite', 'indian', 'caribbean', 'great', 'jamaican', 'great', 'jamaican', 'great', 'jamaican', 'jamaican', 'jamaican', 'good', 'jamaican', 'pm', 'jamaican', 'good', 'special', 'jamaican', 'u', 'sure', 'jamaican', 'jamaican', 'not_jamaican', 'jamaican', 'jamaican', 'jamaican', 'menu', 'jamaican', 'jamaican', 'good', 'caribbean', 'authentic', 'pleased', 'jamaican', 'good', 'lucky', 'good', 'arrive', 'jamaican', 'jamaican', 'huge', 'caribbean', 'past', 'u', 'clean', 'boyfriend', 'jamaican', 'menu', 'great', 'jamaican', 'jamaican', 'jamaican', 'jamaican', 'good', 'jamaican', 'good', 'clean', 'jamaican'], ['sure', 'great', 'great', 'fresh', 'btw', 'great', 'fresh', 'crappy', 'nice', 'saturday', 'next', 'fine', 'u', 'knowledgeable', 'worth', 'not_for', 'free', 'similar', 'slow', 'overall', 'fantastic', 'various', 'give', 'clean', 'bunch', 'u', 'plastic', 'delicious', 'great', 'sanitary', 'picture', 'u', 'usual', 'bring', 'outside', 'outside', 'outside', 'warm', 'good', 'phenomenal', 'good', 'terrible', 'wait', 'receive', 'type', 'special', 'table', 'ask', 'top', 'great', 'drool', 'outstanding', 'sure', 'sick', 'overall', 'nice', 'wait', 'lousy', 'u', 'impressed', 'awesome', 'good', 'great', 'great', 'spectacular', 'spiciness', 'good', 'great', 'high', 'u', 'enjoy', 'wrong', 'squish', 'great', 'great', 'good', 'friendly', 'friendly', 'wish', 'amazing', 'wonderful', 'delicious', 'full', 'overall', 'u', 'messy', 'busy', 'free', 'great', 'great', 'new', 'excellent', 'prompt', 'good', 'happy', 'great', 'tasty', 'hot', 'great'], ['fantastic', 'fresh', 'helpful', 'expensive', 'good', 'upscale', 'wonderful', 'good', 'awesome', 'gilbert', 'sweet', 'delicious', 'delicious', 'good', 'superb', 'great', 'good', 'incredible', 'good', 'special', 'seafoodfabulous', 'minute', 'great', 'good', 'great', 'high', 'great', 'good', 'many', 'good', 'fresh', 'great', 'fresh', 'good', 'excellent', 'excellent', 'outstanding', 'large', 'impressed', 'special', 'much', 'kick', 'great', 'great', 'great', 'great', 'decent', 'great', 'excellent', 'full', 'good', 'good', 'aware', 'overall', 'excellent', 'fresh', 'great', 'delicious', 'good', 'spectacular', 'great', 'great', 'awesome', 'great', 'great', 'great', 'awesome', 'overall', 'great', 'unfinished', 'negative', 'awesome', 'wish', 'delicious', 'good', 'outstanding', 'excellent', 'awesome', 'great', 'great', 'great', 'attentive', 'ok', 'southern', 'delicious', 'fresh', 'great', 'excellent', 'great', 'great', 'excellent', 'great', 'wonderful', 'not_equal', 'anniversary', 'modern', 'good', 'fresh', 'good', 'much', 'great', 'superb', 'slow', 'bad', 'great', 'mum', 'full', 'different', 'fantastic', 'fresh', 'great', 'happy', 'great', 'friend', 'great', 'fantastic', 'prompt', 'great', 'awesome', 'slow', 'great', 'not_disappoint', 'friendly', 'great', 'excellent', 'excellent', 'phenomenal', 'great', 'good', 'see', 'ok', 'great', 'good', 'great', 'great', 'disappointing', 'potential', 'good', 'good', 'good', 'delicious', 'equal', 'succulent', 'delicious', 'gilbert', 'great', 'great', 'great', 'good', 'much', 'impressed', 'good', 'great', 'decent', 'excellant', 'sample', 'overall', 'enjoy', 'much', 'cold', 'great', 'eaten', 'pricey', 'favorite', 'impeccable', 'good', 'bad', 'excellent', 'awesome', 'overall', 'prepare', 'unfortunate', 'not_finish', 'reflect', 'great', 'great', 'u', 'poor', 'slow', 'great', 'great', 'exceptional', 'personable', 'knowledgeable', 'great', 'dish'], ['disappointed', 'mexican', 'mexican', 'forth', 'fresh', 'mexican', 'mexican', 'authentic', 'fast', 'good', 'mexican', 'mexican', 'mexican', 'good', 'great', 'mexican', 'fastish', 'mexican', 'good', 'easy', 'mexican', 'friendly', 'mexican', 'mexican', 'great', 'mexican', 'great', 'fresh', 'mexican', 'mexican', 'mexican', 'fast', 'fast', 'good', 'mexican', 'mexican', 'mexican', 'happy', 'great', 'mexican', 'good', 'mexican', 'bad', 'mexican', 'fresh', 'mexican', 'mexican'], ['asian', 'chinese', 'american', 'chinese', 'chinese', 'nice', 'free', 'american', 'asian', 'asian', 'many', 'tremendous', 'dry', 'chinese', 'hot', 'chinese', 'good', 'chinese', 'hot', 'chinese', 'american', 'fresh', 'chinese', 'old', 'good', 'certain', 'overall', 'flavorful', 'great', 'bad', 'editable', 'busy', 'sushi', 'ethnic', 'american', 'next', 'chinese', 'chinese', 'chinese', 'good', 'hot', 'old', 'good', 'good', 'serious', 'much', 'good', 'chinese', 'chinese', 'american', 'old', 'chinese', 'quiet', 'chinese', 'diverse', 'buffet', 'loud', 'chinese', 'type', 'asian', 'chineseasian', 'chinese', 'chinese', 'fresh', 'terrible', 'hot', 'awesome', 'hot', 'hot', 'hot', 'high', 'hot', 'hot', 'cold', 'hot', 'great', 'important', 'chinese', 'great', 'delicious', 'much', 'good', 'asian', 'chinese', 'chinese', 'reasonable', 'american', 'chinese', 'hot', 'much', 'fantastic', 'instant', 'cheap', 'mixed', 'chinese', 'chinese', 'much', 'chinese', 'awesome', 'chinese', 'good', 'great', 'warm', 'many', 'hot', 'chinese', 'chinese', 'american'], ['bad', 'nice', 'clean', 'bean', 'mexican', 'mexican', 'great', 'good', 'good', 'horrible', 'great', 'ate', 'overall', 'mexican', 'horrible', 'good', 'nice', 'great', 'horrible', 'good', 'good'], ['large', 'wonderful', 'delicious', 'wonderful', 'italian', 'italian', 'americanitalian', 'enough', 'mediocre', 'great', 'great', 'italian', 'fantastic', 'italian', 'good', 'beautiful', 'happy', 'excellent', 'helpful', 'italian', 'not_awful'], ['chinese', 'great', 'excellent', 'u', 'not_too', 'chinese', 'good', 'chinese', 'chinese', 'chinese', 'chinese', 'consistent', 'excellent', 'chinese', 'chinese', 'cheap', 'quick', 'chinese', 'nice', 'good', 'efficient', 'dish', 'chinese', 'minute', 'chinese', 'chinese', 'special', 'cantonese', 'much', 'chinese', 'chinese', 'chinese', 'chinese', 'chinese', 'right', 'chinese', 'good', 'chinese', 'chinese', 'great', 'chinese', 'chinese', 'chinese', 'chinese', 'enough', 'much', 'wait', 'chinese', 'chinese', 'good', 'stay', 'chinese', 'type', 'cantonese', 'warm', 'chinese', 'enough', 'chinese', 'chinese', 'terrible', 'chinese', 'sure', 'chinese'], ['wonderful', 'good', 'chinese', 'chinese', 'chinese', 'chinese', 'chinese', 'chinese', 'overall', 'chinese', 'quick', 'chinese', 'generic', 'great', 'enough', 'delicious', 'average', 'chinese', 'chinese', 'chinese', 'good', 'chinese', 'overall', 'exciting', 'friendly', 'chinese', 'ate', 'good', 'hot', 'overall', 'great', 'asian', 'bad', 'decent', 'chinese', 'chinese', 'chinese', 'decent', 'chinese', 'chinese', 'chinese', 'average', 'fancy', 'chinese', 'public'], ['reasonable', 'busy', 'chinese', 'noodle', 'wrong', 'minute', 'decent', 'great', 'delicious', 'japanese', 'subpar', 'good', 'japanese', 'chinese', 'great', 'extra', 'quality', 'much', 'whole', 'pick', 'good', 'u', 'extra', 'japanese', 'exceptional', 'delicious', 'hot', 'decent', 'worth', 'japanese', 'japanese', 'korean', 'japanese', 'great'], ['terrible', 'consistent', 'great', 'first', 'deliscious', 'great', 'quality', 'prepare', 'great', 'great', 'great', 'great', 'great', 'good', 'apps', 'pleasant', 'excellent', 'terrible', 'bad', 'great', 'deliscious', 'great', 'consistent', 'wrong', 'great', 'good', 'great', 'great', 'good', 'great', 'good', 'fine', 'good', 'front', 'great'], ['adequate', 'decent', 'excellent', 'good', 'good', 'entire', 'bad', 'wonderful', 'overall', 'good', 'snotty', 'bad', 'great', 'not_return', 'excellent', 'fish', 'wrong', 'pathetic', 'twenty', 'sure', 'brunch', 'great', 'good', 'excellent', 'u', 'poor', 'not_much', 'pricey', 'good', 'good', 'good', 'good', 'great', 'terrible', 'awesome', 'good', 'nice', 'average', 'happy', 'horrible', 'nonexistent', 'fine', 'great', 'good'], ['waitress', 'wonderful', 'magical', 'italian', 'front', 'knowledgeable', 'italy', 'good', 'busy', 'impeccible', 'meal', 'great', 'warm', 'good', 'good', 'italian', 'classy', 'expensive', 'good', 'agree', 'birthday', 'wonderful', 'exquisite', 'fair'], ['quality', 'chinese', 'hot', 'bad', 'hot', 'wait', 'delicious', 'average', 'usual', 'empty', 'fresh', 'slow', 'hot', 'courteous', 'clean', 'chinese', 'uncomfortable', 'chinese', 'chinese', 'courteous', 'warm', 'present', 'large', 'gross', 'not_know', 'chinese', 'reasonable'], ['prepare', 'glad', 'capable', 'good', 'thrive', 'delicious', 'reasonable', 'professional', 'short', 'bad', 'great', 'top', 'overall', 'little', 'great', 'nice', 'italian', 'great', 'japanese', 'fresh', 'great', 'professional', 'great'], ['anyways', 'sushi', 'japanese', 'japanese', 'good', 'friendly', 'great', 'japanese', 'calgary', 'favorite', 'good'], ['good', 'fine', 'inspect', 'good', 'tasty', 'uncle', 'u', 'not_receive', 'plate', 'slow', 'real', 'free', 'overall', 'busy', 'free', 'great', 'usual', 'crowd', 'prepared'], ['new', 'great', 'attentive', 'good', 'generous', 'great', 'ask', 'decent', 'table', 'mendota', 'excellent', 'much', 'valid', 'great', 'short', 'unprofessional', 'great', 'u', 'u', 'third', 'good', 'lousy'], ['vega', 'great', 'table', 'great', 'bitter', 'long', 'fresh', 'good', 'mediocre', 'perfect', 'hot', 'lousy', 'clean', 'nice', 'fantastic', 'not_due', 'great', 'great', 'casual', 'assortment', 'fantastic', 'fresh', 'attentive', 'great', 'great', 'good', 'not_professional', 'good', 'great', 'delicious', 'good', 'top', 'eat', 'great', 'delicious', 'amount', 'inexpensive', 'friendly', 'mall', 'much', 'delicious', 'creole', 'overall', 'stingy', 'minute', 'enough', 'great'], ['nice', 'much', 'great', 'excellent', 'good', 'good', 'good', 'good', 'stop', 'spare', 'extra', 'much', 'messy', 'wrong', 'good', 'sure', 'warm', 'great', 'not_open', 'finish', 'live', 'much', 'cold', 'not_fast', 'bring', 'not_eat', 'sure', 'much', 'much', 'curious', 'inside', 'much', 'good', 'minute', 'great', 'delicious', 'good', 'good', 'wrong', 'wet', 'good', 'fresh', 'cold', 'cold', 'fresh', 'mediocre', 'receive', 'good', 'bunch', 'good', 'good', 'u', 'great', 'good', 'good', 'receive', 'great', 'instagram'], ['tasty', 'awesome', 'quick', 'good', 'greasy', 'great', 'great', 'amazing', 'long', 'delicious', 'great', 'great', 'give', 'good', 'hot', 'excellent', 'wait', 'nearby', 'great', 'greasy', 'great', 'overall', 'great', 'great', 'phenomenal', 'not_for', 'british', 'great', 'big', 'unintrusive', 'friendly', 'delicious'], ['favorite', 'perfect', 'excellent', 'not_bad', 'good', 'sure'], ['decent', 'fresh', 'delicious', 'italian', 'much', 'evident', 'delicious', 'italian', 'good', 'italian', 'hot', 'good', 'italian', 'mushy', 'italian', 'inattentive', 'unremarkable', 'great', 'u', 'sicilian', 'italian', 'italian', 'good', 'delicious', 'perfect', 'disappointed', 'great', 'italian', 'friendly', 'delicious', 'delicious'], ['long', 'much', 'not_hungry', 'certain', 'great', 'mean', 'enjoyed', 'great', 'great', 'delicious', 'professional', 'not_stop', 'great', 'comfortable', 'attentive', 'great', 'excellent', 'eating', 'great', 'hungry', 'delicious', 'great', 'delicious', 'good', 'delish', 'finish', 'excellent', 'table', 'awesome', 'delicious', 'great', 'good', 'overall', 'great', 'nice', 'good', 'much', 'serivceandthe', 'reasonable', 'much', 'quick', 'attentive', 'crazy', 'good', 'good', 'good', 'inattentive', 'good', 'expensive', 'busy', 'impressed', 'great', 'much', 'new', 'good', 'enough', 'messy', 'great', 'ok', 'bad', 'know', 'fresh', 'flavor', 'great', 'quick', 'friendly', 'nice', 'good', 'short', 'enough', 'restaurant', 'happy', 'sufficient', 'consistent', 'delicious', 'not_like', 'great', 'good', 'cheap', 'delicious', 'establishment', 'fresh', 'fried', 'next', 'great', 'sure', 'good', 'delicious', 'bright', 'delicious', 'great', 'u', 'fantastic', 'tasty', 'ready', 'weird', 'great', 'reasonable', 'amazing', 'good', 'table', 'good', 'nice', 'bc', 'alright', 'nice', 'full', 'enough', 'flavorful', 'fifteen', 'amazing', 'great', 'big', 'great', 'good', 'ready', 'great', 'messygood', 'enjoy', 'great', 'frozen', 'table', 'amazing', 'nice', 'hot', 'server', 'helpful', 'great', 'server', 'helpful', 'nyc', 'great', 'delicious', 'tasty', 'great', 'good', 'minute', 'serve', 'hungry', 'great', 'similar', 'good', 'ten', 'great', 'great', 'sunday', 'fast', 'quality', 'horrible', 'good', 'good', 'fresh', 'hot', 'great', 'great', 'great', 'dirty', 'table', 'great', 'u', 'free', 'great', 'delicious', 'great', 'messy', 'know', 'good', 'finish', 'excellent', 'great', 'cold', 'great', 'long', 'good', 'good', 'delicious', 'next', 'good', 'hot', 'happy', 'la', 'worth', 'much', 'good', 'overall', 'great', 'great', 'friendly', 'good', 'awesome', 'table', 'great', 'good', 'great', 'great', 'forgive', 'great', 'top', 'perfect', 'not_want', 'top', 'good', 'good', 'crab'], ['nearby', 'much', 'dreadful', 'cheap', 'good', 'enjoyable', 'raw', 'good', 'great', 'great', 'friendly', 'tasty', 'oh', 'tasty', 'pnc', 'uncomfortable', 'good', 'terrible', 'horrible', 'great', 'table', 'ok', 'good', 'fit', 'etc', 'good', 'great', 'know'], ['flair', 'great', 'great', 'great', 'good', 'great', 'great', 'overall', 'loud', 'special', 'u', 'great'], ['great', 'cheap', 'refill', 'polite', 'good', 'good', 'delicious', 'great', 'great', 'great', 'helpful', 'name', 'monthly', 'know', 'real', 'good', 'good', 'fix', 'interior', 'strong', 'great', 'great', 'delicious', 'nice', 'great', 'great', 'good', 'seasonal', 'great', 'positive', 'sure', 'delicious', 'good', 'important', 'excellent', 'allergy', 'ok', 'awesome', 'good', 'sure', 'great', 'sure', 'delicious', 'good', 'raw', 'awesome', 'courteous', 'typical', 'terrible', 'great', 'full', 'good', 'happy', 'good', 'knowledgeable', 'wonderful', 'excellent', 'busy', 'good', 'awesome', 'not_just', 'overall', 'good', 'mary', 'delicious', 'great', 'awesome', 'attentive', 'hear', 'u', 'fantastic', 'good', 'awesome', 'ok', 'awesome', 'amazing', 'tooth', 'delicious', 'consistent', 'delicious', 'outstanding', 'receive', 'great', 'bunch', 'great', 'good', 'whole', 'tasty', 'subpar', 'exceptional', 'exceptional', 'average', 'ordinary', 'disappointed', 'touch', 'good', 'u', 'great', 'great'], ['chinese', 'chinese', 'chinese', 'cheap', 'chinese', 'adequate', 'chinese', 'delicious', 'great', 'chinese', 'top', 'delicious', 'chinese', 'good', 'good', 'chinese', 'chinese', 'chinese', 'affordable', 'chinese', 'overall', 'good', 'good', 'overall', 'chinese', 'chinese', 'chinese', 'average', 'chinese', 'chinese', 'cantonese', 'delicious', 'chinese', 'chase', 'chinese'], ['nasty', 'great', 'good', 'good', 'perfect', 'happy', 'much', 'much', 'happy', 'saw', 'worth', 'good', 'great', 'u', 'fresh', 'sure', 'good', 'bad', 'good', 'good', 'delicious', 'perfect', 'good', 'much', 'good', 'great', 'good', 'good', 'good', 'not_know', 'delicious', 'great', 'good', 'friendly', 'great', 'wonderful', 'vega', 'great', 'great', 'much', 'fabulous', 'overall', 'great', 'great', 'incredible'], ['impressed', 'lax', 'actual', 'proper', 'good', 'good', 'different', 'outstanding', 'double', 'plate', 'favorite', 'le', 'good', 'overall', 'excellent', 'next', 'friendly', 'gross'], ['extraordinary', 'clean', 'miss', 'good', 'hot', 'excellent', 'great', 'overwhelming', 'japanese', 'many', 'much', 'much', 'raw', 'great', 'par', 'impressed'], ['meal', 'great', 'wrong', 'bad', 'jean', 'nasty', 'much', 'good', 'good', 'great', 'delicious', 'good', 'restaurant', 'straight', 'u', 'glisten', 'great', 'pleased', 'expensive', 'cold'], ['mexican', 'quick', 'mexican', 'mexican', 'mexican', 'good', 'good', 'mexican', 'good', 'great', 'mexican', 'great', 'mexican', 'great', 'mexican', 'mexican', 'great', 'much', 'frozen', 'mexican', 'mexican', 'bottle', 'mexican', 'mexican', 'not_have', 'happy', 'mexican', 'le', 'good', 'mexican', 'excellent', 'ready', 'great', 'good', 'mexican', 'good', 'mexican', 'flavorful', 'good', 'not_finish', 'major', 'not_in', 'mexican', 'tasty', 'mexican', 'great', 'hill', 'terrible', 'mexican', 'dessert', 'mexican', 'many', 'attentive', 'mexican', 'not_bad', 'average', 'busy', 'fair', 'mexican', 'mexican', 'mexican', 'plate', 'terrible', 'great', 'mexican', 'good', 'mexican', 'mexican', 'mexican', 'spanish', 'good', 'good', 'fast', 'mexican', 'mexican', 'terrible', 'small', 'great', 'good', 'mexican', 'great', 'mexican', 'mexican', 'mexican', 'mexican', 'mexican', 'consistent', 'overall', 'delicious', 'mexican', 'mexican', 'mexican', 'hispanic', 'great', 'mexican', 'overall', 'awesome', 'great', 'good', 'large', 'terrible', 'lemon', 'mexican', 'mexican', 'mexican', 'great', 'mexican', 'taco', 'mexican', 'mexican', 'centennial', 'good', 'good', 'picky', 'mexican', 'much', 'fantastic', 'good', 'great', 'good', 'mexican', 'mexican', 'amazing', 'exemplary', 'mexican', 'mexican', 'bad', 'mexican', 'great', 'mexcian', 'big', 'mexican', 'mexican', 'great', 'excellent', 'mexican', 'great', 'decent', 'marginal', 'great', 'awesome', 'mexican', 'excellent', 'mexican', 'good', 'overall', 'mexican', 'mexican', 'mexican', 'mexican', 'great', 'margarita', 'excellent', 'great', 'good', 'mexican', 'mexican', 'soggy', 'noticed', 'mexican', 'mexican', 'exotic', 'bad', 'great', 'great', 'awesome', 'great', 'table', 'great', 'terrible', 'bad', 'authentic', 'authentic', 'mexican', 'mexican', 'pricey', 'mexican', 'great', 'bad', 'helpful', 'mexican', 'mexican', 'mexican', 'mexican', 'mexican', 'great', 'excellent', 'great', 'great', 'mexican', 'mexican', 'great', 'great', 'mexican', 'good', 'gross', 'fresh', 'dry', 'attentive', 'great', 'mexican', 'great', 'mexican', 'efficient', 'delicious', 'mexican', 'mexican', 'good', 'good', 'mexican', 'outstanding', 'good', 'good', 'overall', 'wonderful', 'mexican', 'great', 'attentive', 'mexican', 'good', 'mexican', 'mexican', 'amazing', 'fresh', 'mexican', 'mexican', 'strip', 'mexican', 'great', 'mexican', 'mexican', 'great', 'wrong', 'mexican', 'great', 'unique', 'michoacan', 'mexican', 'mexican', 'mexican', 'good', 'mexican', 'good', 'good', 'mexican', 'michocan'], ['italian', 'wonderful', 'great', 'good', 'excellent', 'italian', 'nice', 'nice', 'italian', 'right', 'italian', 'italian', 'little', 'wonderful', 'moderate', 'gear', 'delicious', 'good', 'exceptional', 'phenomenal', 'great', 'italian', 'italian', 'italian', 'excellent', 'good', 'fantastic', 'overall', 'great', 'great', 'great', 'good', 'table'], ['enough', 'fresh', 'mexican', 'eat', 'fresh', 'fast', 'good', 'fish', 'clean', 'hot', 'delicious', 'passable', 'eat', 'authentic', 'nice', 'fastcasual', 'good', 'nicer', 'awesome', 'excellent'], ['shanghainese', 'nice', 'clean', 'chinese', 'actual', 'good', 'good', 'chinese', 'gorgeous', 'delicious', 'dish', 'comparable', 'quiet', 'shanghainese', 'shanghainese', 'shanghainese', 'shanghainese', 'shanghainese', 'shanghainese', 'shanghainese', 'shanghainese', 'various', 'chinese', 'shanghainese', 'shanghainese', 'shanghainese', 'attentive', 'delicious', 'shanghainese', 'tasty', 'nice', 'chinese', 'great', 'chinese', 'chinese', 'chinese', 'good', 'chinese', 'chinese', 'delicious', 'raw', 'skimpy', 'shanghainese', 'shanghainese', 'good', 'not_their', 'fresh', 'skeptical', 'not_fast', 'chinese', 'solid', 'shanghainese', 'chinese', 'pleasant', 'chinese', 'chinese'], ['good', 'unpleasant', 'lunch', 'great', 'amateur', 'not_much', 'reasonable', 'mediocre', 'prompt', 'nice', 'great', 'sick', 'greatawsome', 'fresh', 'good', 'entree', 'great', 'decent', 'clean', 'great', 'attentive', 'empty', 'fantastic', 'friendly', 'overall', 'sure', 'consistent', 'good', 'wonderful', 'great', 'enough', 'yucky', 'good', 'table', 'nasty', 'inedible', 'pleasant', 'ok', 'inexpensive', 'much', 'average', 'sure', 'attentive', 'fish', 'wonderful'], ['hot', 'overall', 'cold', 'chinese', 'bad', 'filthy', 'available', 'filthy', 'mediocre', 'english', 'top', 'chinese', 'great', 'chinese', 'lousy', 'sht', 'average', 'awesome', 'chinese', 'horrible', 'chinese', 'welcome', 'chinese', 'chinese', 'chinese', 'not_busy', 'chinese', 'caca', 'good', 'chinese', 'disappointed', 'vega', 'chinese', 'clean', 'aesthetic', 'chinese', 'fresh', 'chinese', 'nasty', 'great', 'bad', 'chinese', 'nonexistent', 'bizarre', 'good', 'overall', 'small', 'full', 'chinese', 'chinese', 'much', 'upside', 'u', 'excellent', 'chinese', 'great', 'chinese', 'chinese', 'chinese', 'chinese', 'chinese', 'not_come', 'chinese', 'great', 'chinese', 'wrong', 'chinese', 'chinese', 'good', 'rude', 'u', 'old', 'good', 'clean', 'chinese', 'good', 'chinese', 'efficient', 'bad', 'good', 'chinese', 'different', 'good', 'foreign', 'chinese', 'chinese', 'chinese', 'full', 'bad', 'disappointed', 'chinese', 'chinese', 'bad', 'chinese', 'chinese', 'not_want', 'horrible', 'togo', 'overall', 'visible', 'sum', 'horrible', 'full', 'free', 'harsh', 'chinese', 'good', 'sure', 'excellent', 'crappy', 'swear', 'asian', 'chinese', 'awful', 'table', 'good', 'great', 'nonchinese', 'bad', 'nightmare', 'good', 'good', 'cheap', 'chinese', 'good', 'chinese', 'bad', 'chinese', 'chinese', 'terrible', 'slow', 'chinese', 'chinese', 'chinese', 'good', 'good', 'chinese', 'free', 'chinese', 'u', 'chinese', 'odd', 'good', 'good', 'awful', 'unwelcome', 'dish', 'decent', 'unprofessional', 'visible', 'waitress', 'chinese', 'table', 'hot', 'chinese', 'terrible', 'chinese', 'fresh', 'chinese', 'overall', 'applicable', 'temp', 'much', 'gross', 'sticky', 'poor', 'terrible', 'phenomenal', 'chinese', 'authentic'], ['fish', 'right', 'nice', 'great', 'clean', 'expensive', 'decent', 'good', 'good', 'fresh', 'vega', 'great', 'great', 'good', 'great', 'horrible', 'japanese', 'japanese', 'japanese'], ['expensive', 'outstanding', 'great', 'exceptional', 'good', 'upstairs', 'knowledgeable', 'little', 'little'], ['chinese', 'chinese', 'great', 'chinese', 'nice', 'chinese', 'chinese', 'chinese', 'chinese', 'chinese', 'ok', 'great', 'friendly', 'chinese', 'great', 'chinese', 'different', 'chinese', 'chinese', 'good', 'chinese', 'chinese', 'weird', 'average', 'double', 'chinese', 'chinese', 'much', 'chinese', 'chinese', 'good', 'chinese', 'chinese', 'chinese', 'chinese', 'next', 'delicious', 'chinese', 'minute', 'chinese', 'great', 'chinese', 'fresh', 'chinese', 'good', 'chinese', 'chinese', 'great', 'chinese', 'chinese', 'chinese', 'fabulous', 'chinese', 'chinese', 'dumb', 'vegetable', 'chinese', 'chinese', 'great', 'great', 'chinese', 'great', 'pick', 'great', 'chinese', 'chinese', 'chinese', 'chinese', 'chinese', 'chinese', 'not_be', 'good', 'chinese', 'chinese', 'good', 'chinese', 'chinese', 'chinese', 'dumb', 'vegetable', 'chinese', 'chinese', 'chinese', 'chinese', 'chinese', 'sour', 'chinese', 'chinese', 'enough', 'chinese', 'good', 'chinese', 'chinese', 'chinese', 'chinese', 'great', 'chinese', 'great', 'great', 'great', 'chinese', 'chinese', 'chinese', 'good', 'chinese', 'chinese', 'chinese', 'chinese', 'regular', 'chinese', 'chinese', 'much', 'chinese', 'quick', 'chinese', 'chinese', 'special', 'chinese', 'chinese', 'chinese', 'chinese', 'chinese', 'chinese', 'chinese', 'chinese', 'quick', 'fast', 'sick', 'chinese', 'tasty', 'warm', 'bit', 'chinese'], ['chinese', 'good', 'chinese', 'good', 'chinese', 'asian', 'great', 'great', 'good', 'attentive', 'not_possible', 'chinese'], ['italian', 'guy', 'enough', 'full', 'italian', 'good', 'italian', 'awesome', 'good', 'good', 'good', 'inferior', 'u', 'delish', 'italian', 'great', 'italian', 'special', 'good', 'good', 'great', 'good', 'sure', 'great'], ['italian', 'great', 'horrible', 'italian', 'clear', 'knowledgeable', 'tasty', 'clear', 'attentive', 'good', 'italian', 'italian', 'not_exceptional', 'excellent', 'impeccable', 'excellent', 'italian', 'fantastic', 'bad', 'great', 'great', 'good', 'much', 'good', 'overhype', 'great', 'good', 'fabulous', 'incredible', 'italian', 'fabulous', 'great'], ['dip', 'extra', 'much', 'decent', 'wonderful', 'great', 'good', 'courteous', 'overall', 'clean', 'great', 'clean', 'horrible', 'awesome', 'good', 'consistent', 'great', 'excellent', 'great', 'fantastic', 'great', 'great', 'table', 'tasteless', 'delicious', 'delicious', 'great'], ['mexican', 'open', 'worth', 'great', 'confident', 'great', 'mexican', 'mexican', 'mexican', 'mexican', 'mexican', 'tonight', 'good', 'tonight'], ['overall', 'new', 'excellent', 'normal', 'lady', 'u', 'great', 'first', 'minute', 'carbheavy', 'disappointed', 'sardine', 'good', 'u', 'nice', 'notchthe', 'u', 'good', 'overall'], ['mexican', 'traditional', 'good', 'delicious', 'withe', 'mexican', 'delicious', 'great', 'mexican', 'authentic', 'not_in', 'mexican', 'great', 'mexican', 'real', 'delicious'], ['complement', 'satisfied', 'overall', 'good', 'italian', 'great', 'ethnic', 'excellent', 'exceptional', 'long', 'hot', 'sure', 'amazing', 'efficient', 'excellent', 'great', 'frozen', 'not_dig', 'good', 'excellent', 'bad', 'good', 'italian'], ['delicious', 'venetian', 'lunch', 'mucho', 'professional', 'italian', 'wonderful', 'horrible', 'high', 'finicky', 'picky', 'list', 'italian', 'uncoook', 'spectacular', 'website', 'italian', 'great', 'italian', 'italian', 'good', 'unspecial', 'not_for', 'entree', 'italian', 'knowledgable', 'italian', 'friday', 'great', 'italian', 'average', 'high', 'great', 'sweet', 'excellant', 'spicy', 'italian', 'fantastic', 'db', 'impeccable', 'good', 'excellent', 'bread', 'recipe', 'aspect', 'amazing', 'overall', 'u', 'bad', 'italian', 'sexy', 'short', 'wonderful', 'good', 'perfect', 'dog', 'great', 'perfect', 'favorite', 'italian', 'delicious', 'terrible', 'sublime', 'nyc', 'perfect', 'great', 'good', 'good', 'little', 'superior', 'drink', 'italian', 'good', 'alternate', 'horrible', 'great', 'many', 'degree', 'due', 'excellent', 'delicious', 'ridiculous', 'italian', 'outstanding', 'excellent', 'exquisite', 'good', 'italian', 'good', 'terrible', 'fantastic', 'great', 'italian', 'great', 'overall', 'appreciate', 'excellent', 'terrible', 'average', 'good', 'overall', 'italian', 'great', 'helpful', 'italian', 'good', 'much', 'delicious', 'pleased', 'italian', 'professional', 'terrible', 'excellent', 'great', 'spectacular', 'great', 'impeccable', 'wish', 'italian', 'italian', 'great', 'not_cheap', 'good', 'delicious', 'much', 'disappointing', 'italian', 'great', 'great', 'overall', 'different', 'waitress', 'knowledgeable', 'italian', 'excellent', 'praised', 'good', 'equal', 'great', 'italian', 'disappointed', 'meal', 'italian', 'not_obtrusive', 'good', 'not_stellar', 'wine', 'great', 'fantastic', 'italian', 'knowleadgeable', 'cannotfathom', 'dry', 'pricey', 'particular', 'great', 'fine', 'wrong', 'good', 'italian', 'outstanding', 'good', 'excellent', 'expensive', 'intimate', 'italian', 'average', 'simple', 'excellent', 'excellent', 'bad', 'u', 'good', 'italian', 'little', 'good', 'italian', 'overall', 'italian', 'main', 'lackluster', 'italian', 'full', 'much', 'good', 'knowledgeable', 'good', 'complex', 'helpful', 'pricy', 'fabulous', 'wrong', 'wish', 'good', 'wonderful', 'u', 'impeccable', 'venetian', 'substandard', 'great', 'italian', 'italian', 'italian', 'excellent', 'expensive', 'disappointed', 'good', 'first', 'impressed', 'nice', 'italian', 'much', 'authentic', 'good', 'alternate', 'horrible', 'delicious', 'delightful', 'italian', 'big', 'spectacular', 'usual', 'good', 'good', 'superior', 'complex', 'italian', 'enough', 'bad', 'great', 'italian', 'u', 'good', 'nice', 'tremendous', 'new'], ['delicious', 'french', 'weird', 'greek', 'greek', 'greek', 'smile', 'perfect', 'good', 'sweet', 'quiet', 'greek', 'great', 'overall', 'amazing', 'exceptional', 'greek'], ['consistent', 'not_cheap', 'good', 'know', 'average', 'delicious', 'chinese', 'chinese', 'good', 'not_for', 'chinese', 'good', 'good', 'solid', 'short', 'chinese', 'distract', 'bad', 'overall', 'chinese'], ['good', 'disappointed', 'good', 'nice', 'fair', 'bring', 'chinese', 'unacceptable', 'bad', 'bad', 'chinese', 'fast'], ['great', 'awesome', 'receive', 'itoverall', 'delicious', 'door', 'enough', 'good', 'ok', 'good', 'not_come', 'great', 'good', 'great', 'luck', 'great', 'great', 'good', 'good', 'delicious', 'overall', 'good', 'patient', 'great', 'fifteen', 'hard', 'greasy', 'favourite', 'horrible', 'good', 'creative', 'good', 'centric', 'toronto', 'many', 'bad', 'overall', 'liked', 'disappointed', 'bad', 'great', 'friend'], ['mexican', 'shame', 'mexican', 'not_taste', 'mexican', 'great', 'mexican', 'mexican', 'mexican', 'bad', 'mexican', 'mexican', 'good', 'great', 'clean', 'great', 'great', 'mexican', 'excellent', 'great', 'great', 'weekday', 'mexican', 'glorias', 'mexican', 'mexican', 'good', 'huge', 'great', 'mexican', 'mexican', 'mexican', 'mexican', 'ok', 'great', 'great', 'u', 'mexican', 'great', 'fabulous', 'delicious', 'amazing', 'mexican', 'mexican', 'excellent', 'great', 'great', 'great', 'mexican', 'everyday', 'great', 'mexican', 'mexican', 'delicious', 'authentic', 'excellent', 'little', 'fresh', 'mexican', 'good', 'mexican', 'great', 'delicious', 'full', 'mexican', 'mexican', 'mexican', 'good', 'mexican', 'tasteless', 'hot', 'mexican', 'mexican', 'mexican', 'storefront', 'mexican', 'mexican', 'excellent', 'mexican', 'mexican', 'similar', 'good', 'mexican', 'mexican', 'mexican', 'mexican', 'mexican', 'mexican', 'tasty', 'happy', 'excellent', 'good', 'mexican', 'ate', 'u', 'not_enjoy', 'not_disappoint', 'mexican', 'mexican', 'mexican', 'nice', 'w', 'mexican', 'mexican', 'mexican', 'mental', 'attentive', 'mexican', 'mexican', 'good', 'authentic', 'good', 'great', 'come', 'mexican', 'good', 'good', 'mexican', 'mexican', 'mexican', 'excellent', 'great', 'authentic', 'mexican', 'mexican', 'mexican', 'great', 'awesome', 'mexican', 'mexican', 'generous', 'mexican', 'mexican', 'good', 'mexican', 'mexican', 'mexican', 'mexican', 'mexican', 'mexican', 'delicious', 'mexican', 'fantastic', 'great', 'mexican', 'excellent', 'mexican', 'finish', 'authentic', 'mexican', 'stellar'], ['chinese', 'reasonable', 'sum', 'durian', 'overall', 'good', 'tasty', 'great', 'restaurant', 'chinese', 'average', 'unsatisfied', 'slow', 'chinese', 'cantonese', 'u'], ['knowledgable', 'canadian', 'fine', 'incredible', 'not_expect', 'sick', 'great', 'delectable', 'great', 'great', 'worth', 'tremendous', 'great', 'separate', 'ummm', 'awesome', 'good', 'much', 'great', 'alternative', 'hungry', 'incredible', 'terrific', 'not_disappoint', 'excellent', 'good', 'wrong', 'delicious', 'delicious', 'good', 'good', 'great', 'good', 'excellent', 'various', 'great', 'excellent', 'u', 'professional', 'bad', 'good', 'incredible', 'sure', 'u', 'sure', 'great', 'great', 'excellent', 'cold', 'normal', 'spectacular', 'awesome', 'slowstyle', 'good', 'stop', 'great', 'perfect', 'good', 'incredible', 'true', 'great', 'great', 'good', 'vibe', 'not_just', 'wonderful', 'sleep', 'excellent', 'great', 'excellent', 'great', 'chuck', 'attitudebut', 'gorgeous', 'delicious', 'beautiful', 'great', 'attentive'], ['southern', 'southern', 'southern', 'southern', 'soul', 'spiritual', 'burnt', 'southern', 'nice', 'right', 'overall', 'great', 'great', 'good', 'good', 'good', 'southern', 'southern', 'great', 'good', 'update', 'not_have', 'southern', 'good', 'southern', 'bustle', 'great', 'delicious'], ['good', 'great', 'great', 'nice'], ['high', 'slow', 'bad', 'portuguese', 'quality', 'nice', 'great', 'portuguese', 'squid', 'excellent', 'beautiful', 'good', 'tasty', 'unprofessional', 'nice'], ['good', 'u', 'wrong', 'funny', 'great', 'great', 'delicious', 'beautiful', 'nice', 'stingy', 'great', 'exceptional', 'reasonable', 'great', 'great', 'nice', 'horrible', 'great', 'delicious', 'great', 'wonderful', 'great', 'great', 'great', 'awesome', 'u', 'good', 'good', 'typical', 'great', 'great', 'not_for', 'initial', 'awesome', 'vega', 'excellent', 'quick', 'good', 'attentive', 'good', 'amazing', 'excellent', 'slow'], ['seafoodmexican', 'greasy', 'good', 'great', 'good', 'tambien', 'tasty', 'mexican', 'delicious', 'table', 'unappealing', 'hospitable', 'mexican', 'hot', 'mexican', 'mexican', 'decent', 'great', 'awesome', 'good', 'great', 'receive', 'diabla'], ['terrible', 'superior', 'terrible', 'italian', 'great', 'nice', 'carrabba', 'different', 'wonderful', 'delicious', 'lackluster', 'open', 'good', 'prepared', 'great', 'overall', 'great', 'decent', 'decent'], ['disappointed', 'decent', 'favorite', 'nice', 'ordered', 'friendly', 'awesome', 'good', 'terrible', 'excellent', 'u', 'great', 'slow', 'attentive', 'disappointing', 'delicious', 'delicious', 'outstanding', 'inattentive', 'personal', 'favorite', 'not_affected', 'not_get', 'great', 'good', 'delicious', 'exceptional', 'good', 'fine', 'wrong', 'great', 'vega', 'good', 'much', 'delicious', 'great', 'vega', 'good', 'tonight', 'great', 'high', 'wrong', 'raw', 'raw', 'decent', 'great', 'good', 'fatty', 'worth', 'casual', 'table', 'great', 'much', 'not_have', 'many', 'indication', 'spice', 'decent', 'plenty', 'good', 'great', 'good', 'table', 'ask', 'not_fresh', 'overall', 'fantastic', 'wonderful', 'great', 'long', 'u', 'good', 'nice', 'overall', 'horrible', 'awesome', 'vega', 'helpful', 'vega', 'good', 'great', 'free', 'dent', 'great', 'top', 'busy', 'great', 'not_sushi', 'great', 'great', 'stuff', 'good', 'yummy', 'worth', 'great', 'raw', 'delectable', 'decent', 'good'], ['excusable', 'poor', 'attentive', 'excellent', 'clean', 'underwhelmed', 'good', 'friendly', 'server', 'seafood', 'great', 'much', 'crawfish', 'fish', 'thumb', 'delicious', 'overall', 'attentive', 'great', 'horrible', 'concept', 'obvious', 'restaurant', 'pick', 'nervous', 'great', 'great', 'full', 'terrible', 'good', 'good', 'knowledgeable', 'great', 'not_clean', 'table', 'great', 'southern', 'slow', 'great', 'good', 'good', 'menu', 'wrong', 'great', 'table', 'important', 'crappy', 'bad', 'special', 'overall', 'good', 'bad', 'wrong', 'fantastic', 'good', 'overall', 'delicious', 'actual', 'great', 'overall', 'great', 'imo', 'reasonable', 'great', 'good', 'great', 'shrimp', 'great', 'main', 'awesome', 'slow', 'u', 'bag', 'table', 'eaten', 'nice', 'visible', 'boyfriend', 'friendly', 'good', 'cold', 'not_finish', 'enough', 'enjoying', 'not_receiving', 'favorite', 'great', 'not_feel', 'knowledgeable', 'phenomenal', 'great'], ['crappy', 'friendly', 'type', 'artificial', 'overall', 'good', 'good', 'fresh', 'fresh', 'pick', 'table'], ['good', 'mediocre', 'overall', 'nice', 'much', 'great', 'bizzare', 'favorite', 'much', 'consistent', 'amazing', 'dingy', 'incredible', 'next', 'flavorful', 'cantonese', 'good', 'actual', 'experience', 'nose', 'great', 'hungry', 'good', 'sea', 'anniversary', 'great', 'come', 'great', 'lot', 'enough', 'good', 'good', 'good', 'much', 'ordinary', 'enough', 'good', 'new', 'fantastic', 'clean', 'chinese', 'wonderful', 'amazing', 'aware', 'good', 'enormous', 'great', 'reasonable', 'fish', 'much', 'free', 'finish', 'much', 'lotttt', 'delicious', 'chinese', 'chinese', 'good', 'tasty', 'not_inexpensive', 'much', 'awesome', 'top', 'mediocre', 'serious', 'enough', 'much', 'successful', 'mediocre', 'gross', 'chinese', 'great', 'good', 'u', 'busy', 'good', 'good', 'great', 'enough', 'chinese', 'much', 'much', 'good', 'overall', 'much', 'much', 'good', 'sea', 'chinese', 'lot', 'much', 'dirty', 'popular', 'enough', 'omei', 'favorite', 'table', 'enough', 'chinese', 'fresh', 'asian', 'neutral', 'door', 'awesome', 'great', 'incomparable', 'fresh', 'raw', 'great', 'good', 'enough', 'helpful', 'live', 'vegetable', 'overall', 'good', 'small', 'chinese', 'cantonese', 'cantonese', 'impeccable', 'chinese', 'lucky', 'old', 'much', 'tasty', 'overall', 'weekday', 'decent', 'much', 'finish', 'tastiness', 'great', 'enough'], ['spectacular', 'sure', 'cheap', 'cheap', 'nice', 'nice', 'fast', 'frozen', 'frozen'], ['italian', 'useless', 'efficient', 'italian', 'good', 'excellent', 'good', 'sir', 'friendly', 'tasty', 'good', 'italian', 'decent', 'u', 'great', 'italian', 'good', 'fifty', 'good', 'happy', 'great', 'not_know', 'great', 'good', 'u', 'great', 'great', 'nice', 'shame', 'impressed', 'good', 'rude', 'italian', 'italian', 'friendly', 'u', 'sicilian', 'southern', 'western', 'italian', 'sicilian', 'good', 'awesome', 'italian', 'wonderful'], ['excellent', 'not_like', 'decor', 'delicious', 'wrong', 'top', 'new', 'great', 'fantastic', 'amazing', 'amazing', 'excellent', 'much', 'similar', 'great', 'great', 'great', 'vegetarian', 'great', 'wonderful', 'unbelievable', 'future', 'asian', 'picky', 'excellent', 'great', 'satisfied', 'quality', 'good', 'asian', 'nice', 'great', 'great', 'delicious', 'excellent', 'awesome', 'delicious', 'extraordinary', 'exceptional', 'thai', 'thai', 'happy', 'pick', 'actual', 'ok', 'great', 'delicious', 'excellent', 'thai', 'arawan', 'awesome', 'fabulous', 'fabulous', 'thai', 'simple', 'thai', 'popular', 'good', 'bunch', 'phenomenal', 'great', 'great', 'good', 'great', 'delicious', 'fine', 'worthy', 'tasty', 'u', 'original', 'thai', 'nice', 'beautiful', 'thai', 'good', 'good', 'good', 'delicious', 'los', 'fabulous', 'asian', 'overall', 'delicious', 'excellent', 'delicious', 'good', 'wonderful', 'thai', 'delicious', 'fantastic', 'good', 'good', 'great', 'restaurant', 'good', 'clean', 'u', 'thai', 'excellent', 'excellent', 'great', 'delicious', 'great', 'good', 'not_for', 'great', 'clean', 'great', 'top', 'delicious', 'picky', 'weekday', 'establishment', 'special', 'nice', 'authentic', 'amazing', 'great', 'good', 'available', 'thai', 'attentive', 'high', 'serf', 'good', 'nice', 'delicious', 'good', 'good', 'good', 'personable', 'great', 'great', 'thai', 'tasteful', 'asian', 'picky', 'excellent', 'fresh', 'next', 'optimistic', 'average', 'great', 'delicious', 'prepared', 'good', 'aisian', 'excellent', 'excellent', 'good', 'inattentive', 'follow', 'good', 'amazing', 'clean', 'great', 'impeccable', 'worth', 'overall', 'nice', 'table', 'u', 'thai', 'good', 'delicious', 'great', 'msg', 'asian', 'great', 'fantastic', 'atmosphere', 'great', 'thai', 'great', 'delicious', 'great', 'pretentious', 'flavorful', 'good', 'attentive', 'unbelievable', 'tasty', 'thai', 'main', 'beautiful', 'next', 'scrumptious', 'peaceful', 'wonderful', 'little', 'not_regret', 'excellent', 'open', 'thai', 'great', 'delicious', 'great', 'good', 'great', 'hot', 'appreciate', 'modern', 'thai', 'long', 'good', 'wonderful', 'u', 'u', 'girl', 'great', 'good', 'great', 'outstanding', 'delicious', 'great', 'excellent', 'clean', 'nice', 'thai', 'not_the', 'thai', 'incredible', 'overall', 'great', 'beautiful', 'regret', 'nice', 'friendly', 'good', 'want', 'good', 'excellent', 'delicious', 'happy', 'excellent', 'vega', 'great', 'awesome', 'thai', 'good', 'thai', 'happy', 'great', 'great', 'wonderful', 'good', 'beautiful', 'delicious', 'regular', 'spectacular', 'overall', 'excellent', 'fresh', 'great', 'full', 'good', 'thai', 'special', 'great', 'good', 'funny', 'finish', 'great', 'great', 'thai', 'good', 'thai', 'thai', 'helpful', 'korean', 'entree', 'thai', 'fantastic', 'delicious', 'overall', 'amazing', 'fabulous', 'thai', 'great', 'different', 'good', 'decor'], ['torontonian', 'small', 'efficient', 'finish', 'first', 'fresh', 'good', 'large', 'good', 'awesome', 'pleasant', 'great', 'pleasant', 'wrong', 'friendly', 'table', 'poor', 'good', 'korean'], ['mexican', 'mexican', 'mexican', 'mexican', 'not_happen', 'great', 'delicious', 'overall', 'mexican', 'mexican', 'frozen', 'mexican', 'good', 'fine', 'mexican', 'mexican', 'happy', 'great', 'mexican', 'mexican', 'attentive', 'mexican', 'good', 'mexican', 'good', 'mexican', 'attentive', 'tasty', 'great', 'delicious', 'great', 'mexican', 'thick', 'great', 'wonderful', 'reasonable', 'delicious', 'ok', 'great', 'delicious', 'mexican', 'horrible', 'uneventful', 'great', 'mexican', 'good', 'good', 'good', 'good', 'good', 'mexican', 'good', 'mexican', 'great'], ['great', 'chinese', 'small', 'wrong', 'plenty', 'helpful', 'short', 'terrible', 'chinese', 'nice', 'chinese', 'good', 'not_input'], ['ok', 'great', 'enjoy', 'spacious', 'much', 'good', 'good', 'slow', 'great', 'terrible', 'understatement', 'helpful', 'good', 'innovative', 'prep', 'receive', 'great', 'matter', 'enjoy', 'great', 'u', 'awkward', 'great', 'certain', 'not_mentioning', 'great', 'fantastic', 'horrible', 'atrocious', 'professional', 'ur', 'allllll', 'great', 'excellent', 'overall', 'overall', 'attentive', 'meal', 'mean', 'poor', 'great', 'delicious', 'great', 'nitrous'], ['mexican', 'good', 'delicious', 'excellent', 'nice', 'good', 'good', 'great', 'good', 'mexican', 'slow', 'busy', 'bad', 'awhile', 'mexican', 'excellent', 'delicious', 'table', 'great', 'great', 'mexican', 'great', 'great', 'good', 'mexican', 'memorable', 'mocajete', 'excellent', 'great', 'mexican', 'attentive', 'mexican', 'authentic', 'mexican', 'mexican', 'mexican', 'great', 'mexican', 'mexican', 'receive', 'good', 'u', 'outstanding', 'mexican', 'enough', 'mexican', 'awesome', 'great', 'mexican', 'high', 'mexican', 'appetizer', 'busy', 'good', 'mexican', 'delicious', 'excellent', 'good', 'mexican', 'mexican', 'clean', 'mexican', 'great', 'great', 'mexican', 'mexican', 'great', 'great', 'busy', 'mexican', 'amazing', 'delicious', 'mexican', 'great', 'excellent', 'great', 'great', 'mexican', 'awesome', 'good', 'mexican', 'mexican', 'awesome', 'mexican', 'wrong', 'mexican', 'great', 'mexican', 'great', 'good', 'mexican', 'great', 'mexican', 'good', 'real', 'mexican', 'awesome', 'awesome', 'great', 'great', 'mexican', 'delicious', 'awesome', 'mexican', 'mexican'], ['japanese', 'amazing', 'attentive', 'vega', 'delicious', 'great', 'subpar', 'raku', 'excellent', 'excellent', 'tasty', 'japanese', 'japanese', 'good', 'japanese', 'phenomenal', 'fresh', 'appetite', 'gras', 'japanese', 'japanese', 'great', 'not_happy', 'fresh', 'japanese', 'wrong', 'amazing', 'japanese', 'japanese', 'delicious', 'many', 'hard', 'japanese', 'japanese', 'beautiful', 'much', 'japanese', 'favorite', 'modern', 'exquisite', 'upscale', 'japanese', 'unbelievable', 'japanese', 'raw', 'good', 'gorgeous', 'different', 'japanese', 'u', 'good', 'simple', 'hot', 'great', 'japanese', 'expensive', 'vega', 'sushijapanese', 'japanese', 'deep', 'hot', 'cold', 'great', 'udon', 'memorable', 'japanese', 'japanese', 'good', 'great', 'good', 'average', 'terrible', 'poor', 'much', 'japanese', 'japanese', 'japanese', 'japanese', 'japanese', 'different', 'innexpensive', 'japanese', 'friendly', 'japanese', 'outstanding', 'japanese', 'great', 'japanese', 'delicious', 'japanese', 'lucky', 'solo', 'sweet', 'weird', 'hidden', 'reasonable', 'japanese', 'much', 'good', 'much', 'great', 'subtle', 'japanese', 'skeptical', 'japanese', 'u', 'tiny', 'japanese', 'fantastic', 'nice', 'delicious', 'bite', 'delicious', 'much', 'japanese', 'prepared', 'creative', 'japanese', 'delicious', 'amazing', 'small', 'japanese', 'great', 'u', 'japanese', 'japanese', 'great', 'table', 'japanese', 'popular', 'japanese', 'restaurant', 'hot', 'amazing', 'great', 'japanese', 'great', 'japanese', 'yeah', 'japanese', 'impressive', 'raw', 'excellent', 'japanese', 'japanese', 'japanese', 'good', 'miss', 'friendly', 'japanese', 'good', 'japanese', 'impeccable', 'japanese', 'authentic', 'great', 'hick', 'japanese', 'simple', 'savor', 'helpful', 'japanese', 'hungry', 'sleepy', 'great', 'good', 'excellent', 'enough', 'great', 'good', 'ultimate', 'chef', 'general', 'rendezvous', 'great', 'amazing', 'spectacular', 'awesome', 'eat', 'japanese', 'extraordinary', 'japanese', 'different', 'great', 'japanese', 'helpful', 'knowledgeable', 'establishment', 'japanese', 'awesome', 'incredible', 'good', 'sure', 'bite', 'delicious', 'tasty', 'good', 'excellent', 'exceptional', 'asian', 'second', 'japanese', 'japanese', 'japanese', 'japanese', 'booze', 'usual', 'japanese', 'japanese', 'eclectic', 'good', 'japanese', 'japanese', 'japanese', 'japanese', 'enough', 'little', 'great', 'great', 'great', 'raw', 'sustainable', 'incredible', 'good', 'fresh', 'thoughtfulness', 'odd', 'much', 'regular', 'slow', 'attentive', 'good', 'phenomenal', 'japanese', 'great', 'good', 'good', 'pricey', 'japanese', 'not_all', 'japanese', 'interesting', 'japanese', 'cool', 'japanese', 'bizarre', 'hype', 'glorious', 'much', 'much', 'new', 'expensive', 'good', 'japanese', 'japanese', 'japanese', 'slow', 'japanese', 'japanese', 'great', 'simple', 'good', 'delicious', 'japanese', 'japanese', 'wonderful', 'good', 'japanese', 'good', 'excellent', 'fresh', 'great', 'japanese', 'japaneese', 'great', 'flavorful', 'good', 'japanese', 'japanese', 'japanese', 'japanese', 'japanese', 'rude', 'good', 'guess', 'good', 'good', 'perfect', 'bad', 'authentic', 'le', 'japanese', 'sexy', 'japanese', 'much', 'amazing', 'happy', 'thoughtful', 'delicious', 'good', 'good', 'perfect', 'great', 'great', 'meal', 'short', 'phenomenal', 'japanese', 'outstanding', 'powerful', 'japanese', 'japanese', 'great', 'come', 'great', 'satisfied', 'type', 'good', 'good', 'different', 'free', 'japanese', 'great', 'japanese', 'chinatown', 'japanese', 'overall', 'nonasian', 'amazing', 'japanese', 'japanese', 'japanese', 'japanese', 'japanese', 'chinesemalaysian', 'fish', 'great', 'japanese', 'worth', 'oh', 'japanese', 'good', 'japanese', 'japanese', 'japanese', 'friendly', 'delicious', 'japanese', 'asian', 'great', 'good', 'table', 'good', 'great', 'raw', 'certain', 'japanese', 'letdown', 'japanese', 'japanese', 'sublime', 'excellent', 'great', 'friendly', 'incredible', 'japanese', 'sour', 'girl', 'japanese', 'great', 'excellent', 'japanese', 'cold', 'good', 'great', 'good', 'quality', 'japanese', 'delicious', 'prepared', 'tofu', 'great', 'japanese', 'japanese', 'eat', 'japanese', 'not_careful', 'raw', 'small', 'japanese', 'good', 'awesome', 'wonderful', 'asian', 'good', 'asian', 'japanese', 'japanese', 'overall', 'rare', 'realist', 'restaurant', 'japanese', 'japanese', 'asian', 'attentive', 'japanese', 'incredible', 'fantastic', 'liked', 'bad', 'excellent', 'japanese', 'raku', 'traditional', 'u', 'japanese', 'japanese', 'cold', 'wrong', 'unbelievable', 'u', 'overall', 'regular', 'great', 'good', 'complete', 'excellent', 'awesome', 'japanese', 'japanese', 'great', 'japanese', 'authentic', 'flavorful', 'japanese', 'informative', 'great', 'full', 'japanese', 'japanese', 'bit', 'new', 'japanese', 'attentive', 'japanese'], ['great', 'great', 'fast', 'third', 'great', 'good', 'efficient', 'good', 'mexican', 'mexican', 'mexican', 'much', 'mexican', 'mexican', 'mexican', 'fantastic', 'yummy', 'delicious', 'mexican', 'shocked', 'plenty', 'mexican', 'mexican', 'mexican', 'mexican', 'large', 'mexican', 'friendly', 'mexican', 'huge'], ['chinese', 'chinese', 'chinese', 'chinese', 'fantastic', 'u', 'chinese', 'chinese', 'chinese', 'nice', 'decent', 'chinese', 'chinese', 'chinese', 'disappointing', 'chinese', 'great', 'chinese', 'great', 'chinese', 'asian', 'chinese', 'bite', 'excellent', 'chinese', 'much', 'know', 'chinese', 'chinese', 'chinese', 'chinese', 'chinese', 'outstanding', 'not_gorge-worthy', 'impeccable', 'average', 'chinese', 'incredible', 'nice', 'chinese', 'chinese', 'chinese', 'chinese', 'great', 'wrong', 'chinese', 'chinese', 'chinese', 'good', 'taiwanese', 'chinese', 'chinese', 'overall', 'chinese', 'expensive', 'average', 'friendly', 'excellent', 'hot', 'chinese', 'chinese', 'chinese', 'perfect', 'excellent', 'chinese', 'quality', 'chinese', 'hip', 'chinese', 'lei', 'excellent', 'nice', 'good', 'chinese', 'chinese', 'chinese', 'chinese', 'great', 'asian', 'chinese', 'great', 'splurge', 'chinese', 'impeccable', 'chinese', 'great', 'chinese', 'happy', 'chinese', 'decent', 'elegant', 'horrible', 'good', 'chinese', 'chinese', 'chinese', 'good', 'chinese', 'lei', 'chinese', 'chinese', 'chinese', 'chinese', 'chinese', 'excellent', 'chinese', 'chinese', 'chinese', 'chinese', 'chinese', 'dive', 'good', 'excellent', 'chinese', 'adequate', 'overall', 'bad', 'good', 'good', 'chinese', 'outstanding', 'chinese', 'good', 'chinese', 'chinese', 'u', 'chinese', 'chinese', 'chinese', 'impeccable', 'good', 'noodle', 'chinese', 'chinese', 'inattentive', 'asian', 'chinese', 'table', 'overall', 'chinese', 'hot', 'chinese', 'chinese', 'terrible', 'not_the', 'chinese', 'excellent', 'chinese', 'good', 'chinese', 'chinese', 'disappointed', 'chinese', 'chinese', 'fine', 'excellent', 'chinese', 'chinese', 'good', 'chinese', 'good', 'impeccable', 'hot', 'hot', 'good', 'chinese', 'perfect', 'chinese', 'chinese', 'chinese', 'not_like', 'know', 'chinese', 'chinese', 'spear', 'chinese', 'french', 'chinese'], ['great', 'good', 'u', 'good', 'p', 'good', 'wrong', 'good', 'long', 'crayon', 'attentive', 'good', 'original', 'wait', 'bad', 'type', 'great', 'main', 'terrible'], ['great', 'good', 'attentive', 'u', 'u', 'much', 'excellent', 'great', 'lucky', 'favorite', 'professional', 'enough', 'friendly', 'good', 'frozen', 'atrocious', 'dust', 'tasty', 'receive', 'table', 'fancy', 'u', 'busy', 'enough', 'u', 'decent', 'ask', 'excellent', 'outstanding'], ['different', 'great', 'good', 'good', 'good', 'not_happy', 'worth', 'nigiri', 'terrible', 'japanese', 'le', 'great', 'due', 'menu', 'great', 'great', 'nice', 'great', 'good', 'great', 'pleasurable', 'good', 'clean', 'japanese', 'horrible', 'nick', 'great', 'prepare', 'sasa', 'great', 'fantastic', 'great', 'poor', 'yay', 'fourteen', 'u', 'good', 'awesome', 'receive', 'nice', 'pick', 'favorite', 'slimy', 'good', 'feat', 'fresh', 'great', 'good', 'hot', 'great', 'weird', 'japanese', 'great', 'great', 'great', 'good', 'fresh', 'overall', 'overall', 'excellent', 'tasty', 'nice', 'good', 'buddy', 'great', 'excellent', 'long', 'great', 'tonight', 'great', 'impossible', 'wait', 'great'], ['recommend', 'go', 'great', 'great', 'choy', 'fresh', 'chinese', 'satisfactory', 'chinese', 'chinese', 'good', 'chinese', 'good', 'good', 'chinese', 'small', 'chinese', 'inedible', 'consistent', 'chinese', 'chinese', 'chinese', 'chinese', 'chinese'], ['fresh', 'delicious', 'chinese', 'bad', 'chinese', 'open', 'utensil', 'chinese', 'nice', 'decent', 'good', 'picture', 'regular', 'good', 'good', 'clean', 'not_enough', 'authentic', 'brunch', 'clean', 'great', 'chinese', 'sixty', 'enough', 'great', 'fine', 'good', 'nice', 'chinese', 'not_like', 'chinese', 'chinese', 'cold', 'great', 'great', 'expletive', 'chinese', 'good', 'hot', 'great', 'chinese', 'good', 'cantonese', 'u', 'decent', 'overall', 'old', 'sure', 'touch', 'large', 'pushy', 'cantonese', 'quick', 'u', 'overall', 'not_gotten', 'chinese', 'chinese', 'bad', 'wary', 'much', 'good', 'chinese', 'new', 'good', 'not_read', 'excellent', 'crazy', 'chinese', 'chinese', 'chinese', 'asian', 'chinese', 'solid', 'good', 'sum', 'nasty', 'terrible', 'good', 'chinese', 'lunch', 'nitpick', 'cold', 'delicious', 'authentic', 'clean', 'minute', 'available', 'delicious', 'several', 'chinese', 'new', 'ok', 'chinese', 'chinese', 'new', 'good', 'rude', 'authentic', 'good', 'not_want', 'overall', 'not_busy', 'hot', 'chinese', 'overall', 'oily', 'greasy', 'ok', 'great'], ['tiny', 'fantastic', 'mall', 'simple', 'tasty', 'good', 'avg', 'quality', 'great', 'heavy', 'good', 'outdoor', 'private', 'good', 'drank', 'great', 'good', 'good', 'favorite', 'mall', 'tasty', 'mall', 'small', 'great', 'asian', 'great', 'mandatory', 'great', 'excellent', 'good', 'small', 'quick', 'good', 'small', 'delicious', 'good', 'little', 'not_least', 'expensive', 'great', 'great', 'outdoor', 'good', 'seattle', 'great', 'good', 'steep', 'good', 'great', 'good', 'nice', 'good', 'uncomfortable', 'small', 'tiny', 'efficient', 'mall'], ['delicious', 'chinese', 'chinese', 'prompt', 'chinese', 'clean', 'chinese', 'chinese', 'great', 'chinese', 'tried', 'ran', 'great', 'chinese', 'delicious', 'wide', 'chinese', 'chinese', 'asian', 'vegetable', 'chinese', 'asian', 'cafe', 'chinese', 'asian', 'ummmm', 'gross', 'cafe', 'cantonese', 'main', 'poor', 'great', 'chinese', 'excellent', 'chinese', 'inexpensive', 'chinese', 'guess', 'great', 'helpful', 'overall', 'enough', 'delicious', 'chinese', 'great', 'cafe', 'cafe', 'aware', 'great', 'chinese', 'chinese', 'good', 'chinese', 'wendy', 'great', 'great', 'different', 'good', 'good', 'chinese', 'chinese', 'asian', 'asian', 'nostalgic', 'good', 'chinese', 'asian', 'cafe', 'uye', 'nice', 'good', 'cafe', 'great', 'great', 'asian', 'not_expect', 'lv', 'tasty', 'great', 'u', 'decent', 'minute', 'great', 'chinese', 'mediocre', 'cantonese', 'chinese', 'chinese', 'average', 'happy', 'great', 'chinese', 'great', 'chinese', 'great', 'good', 'tasty', 'delicious', 'happy', 'chinese', 'chinese', 'asian', 'chinese', 'chinese', 'chinese', 'overall', 'chinese', 'authentic', 'chinese', 'chinese', 'asian', 'chinese', 'ok', 'overall', 'different', 'reasonable', 'overall', 'chinese', 'cantonese', 'standard', 'chinese', 'chinese', 'chinese', 'great', 'great', 'chinese', 'great', 'fresh', 'chinese', 'chinese', 'noodle', 'chinese', 'good', 'ideal', 'photo', 'chinese', 'inexpensive', 'chinese', 'excellent', 'authentic', 'ethnic', 'chinese', 'long', 'asian', 'chinese', 'chinese', 'chinese', 'chinese', 'rich', 'asian', 'delicious', 'terrible', 'nasty', 'chinese', 'vietnamese', 'chinese', 'chinese', 'load', 'chinese', 'wrong', 'good', 'actual', 'chinesevietnamese', 'good', 'much', 'asian', 'asian', 'good', 'chinese', 'chinese', 'much', 'americanchinese', 'excellent', 'consistent', 'good', 'different', 'chinese', 'chinese', 'great', 'front', 'attentive', 'asian', 'effortless', 'asian', 'vega', 'chinese', 'chinese', 'good', 'cantonese', 'tasty', 'chinese', 'chinese', 'fantastic', 'excellent', 'chinese', 'clean', 'asian', 'chinese', 'delicious', 'asian', 'chinese', 'chinese', 'traditional', 'great', 'delicious', 'street', 'asian', 'asian', 'fantastic', 'notice', 'chinese', 'great', 'chinese', 'chinese', 'chinese', 'chinese', 'terrible', 'awesome', 'great', 'chinese', 'chinese', 'chinese'], ['delicious', 'awesome', 'good', 'slow', 'u', 'good', 'good', 'asian', 'good', 'thai', 'much', 'thai', 'main', 'great', 'u', 'plastic', 'staple', 'great', 'great', 'nervous', 'pleasant', 'curious', 'thai', 'flavorful', 'thai', 'great', 'loud', 'exceptional', 'thai', 'thai', 'great', 'good', 'excellent', 'arrive', 'great', 'underwhelmed', 'great', 'great', 'didthe', 'dish', 'fresh', 'great', 'grit', 'asian', 'ingredient', 'thai', 'busy', 'flavorful', 'awesome', 'good', 'disappointing', 'thai', 'thai', 'pro', 'good', 'great', 'clear', 'good', 'u', 'turn', 'great', 'decent', 'marginal', 'good', 'pittsburgh', 'thai', 'good', 'table', 'good', 'great', 'good', 'great', 'incredible', 'much', 'due', 'lackluster', 'good', 'good', 'usual', 'aware', 'asian', 'thai', 'great', 'excellent', 'helpful', 'enjoyable', 'overall', 'great', 'great', 'nice', 'enough', 'entree', 'thai', 'dish', 'phenomenal', 'delicious', 'thai', 'delicious', 'last', 'great', 'delicious', 'great', 'not_much', 'wonderful', 'scattered', 'indian', 'good', 'ethnic', 'thai', 'good', 'sort', 'bite', 'thai', 'actual', 'great', 'thai', 'thai', 'thai', 'much', 'awesome', 'thai', 'similar', 'ew', 'asian', 'delicious', 'good', 'busy', 'great', 'great', 'great', 'liked', 'favorite', 'good', 'not_nuclear-spiced', 'good', 'great', 'delicious', 'prompt', 'thai', 'thai', 'thai', 'nicky', 'fifteen', 'thai', 'great', 'great', 'vietnamese', 'attentive', 'fifteen', 'good', 'awesome', 'good', 'great', 'great', 'thai', 'delicious', 'good', 'good', 'great', 'great', 'fantastic', 'thai', 'tea', 'thai', 'good', 'noisy', 'thai', 'awesome', 'great', 'pick'], ['ample', 'incredible', 'wait', 'good', 'good', 'great', 'unrecognizable', 'prepare', 'full', 'restaurant', 'great', 'good', 'much', 'scallop', 'good', 'excellent', 'leave', 'nice', 'unprofessional', 'spacious', 'not_finish', 'overall', 'good', 'good', 'great', 'restaurant', 'wrong', 'overall', 'great', 'crowd', 'plenty', 'large', 'u', 'nice', 'enough', 'great', 'full', 'busy', 'good', 'much', 'great', 'fresh', 'nice', 'enough', 'awesome', 'finish', 'great', 'empty', 'disappointing', 'much', 'restaurant', 'delicious', 'shovel', 'great', 'good', 'good'], ['free', 'awesome', 'excellent', 'great', 'great', 'good'], ['good', 'nice', 'great', 'great', 'tasty', 'authentic', 'delicious', 'mexican', 'fast', 'welcoming', 'fresh', 'taco', 'top', 'conscious', 'u', 'mexican', 'freshness', 'free', 'good', 'incredible', 'good', 'amazing', 'clean', 'glassroofed', 'genuine', 'recommend', 'authentic', 'great', 'good', 'fresh', 'fresh', 'great', 'poor', 'great', 'nice', 'wait', 'unique', 'great', 'friendly', 'info', 'delicious', 'fast', 'helpful', 'impressed', 'great', 'mexican', 'poor', 'excellent', 'good', 'local', 'nice', 'great', 'attentive', 'restaurant', 'perfect', 'great'], ['good', 'mexican', 'u', 'lol', 'not_finish', 'mexican', 'not_finish', 'not_finish', 'not_liking', 'good', 'great', 'amazing', 'mexican', 'tequila', 'favorite', 'want', 'upfront', 'mexican', 'awesome', 'great', 'mexican', 'mexican', 'great', 'average', 'important', 'mexican', 'good', 'mexican', 'fresh', 'ole', 'mexican', 'great', 'u', 'mexican', 'great', 'mexican', 'good', 'good', 'mexican', 'mexican', 'frozen', 'terrible', 'mexican', 'great', 'mexican', 'mexican', 'great', 'great', 'mexican', 'mexican', 'mexican', 'mexican', 'mexican', 'great', 'mexican', 'mexican', 'delicious', 'mexican', 'mexican', 'good', 'excellent', 'great', 'good', 'great', 'mexican', 'mexican', 'mexican', 'mexican', 'mexican', 'mexican', 'mexican', 'bright', 'not_any', 'great', 'mexican', 'delicious', 'favorite', 'vega', 'mexican', 'arrival', 'mexican', 'mexican', 'purpose', 'mexican', 'mexican', 'hispanic', 'mexican', 'juan', 'good', 'smooth', 'mexican', 'fanominal', 'vega', 'fine', 'mexican', 'excellent', 'amount', 'mexican', 'mexican', 'great', 'mexican', 'nice', 'mexican', 'mexican', 'good', 'good', 'great', 'mexican', 'authentic', 'mexican', 'mexican', 'excellent', 'great', 'good', 'american', 'good', 'plate', 'mexican', 'mexican', 'good', 'sick', 'great', 'mexican', 'lousy', 'friendly', 'mexican', 'clean', 'great', 'mexican', 'good', 'mexican', 'mexican', 'wish', 'good', 'much', 'great', 'outstanding', 'awesome', 'mexican', 'die', 'mexican', 'fine', 'choose', 'great', 'mexican', 'great', 'mexican', 'decent', 'mexican', 'mexican', 'great', 'delicious', 'restaurant', 'good', 'wonderful', 'great', 'delicious', 'actual', 'favorite', 'authentic', 'mexican', 'mexican', 'great', 'meal', 'mexican', 'mexican', 'mexican', 'mexican', 'mexican', 'mexican', 'great', 'mexican', 'mexican', 'mexican', 'mexican', 'mexican', 'pricey', 'authentic', 'great', 'mexican', 'good', 'mexican', 'good', 'mexican', 'great', 'worth', 'excellent', 'mexican', 'horrible', 'mexican', 'great', 'great', 'mexican', 'huge', 'friendly', 'mexican', 'great', 'good', 'mexican', 'delicious', 'great', 'mexican', 'outstanding', 'good', 'mexican', 'mexican', 'great', 'tremendous', 'update', 'mexican', 'excellent', 'mexican', 'mexican', 'mexican', 'great', 'great', 'mexican', 'excellent', 'mexican', 'mexican', 'authentic', 'good', 'mexican', 'good', 'mexican', 'u', 'good', 'mexican', 'friendly', 'mexican', 'mexican', 'hot', 'attentive', 'mexican', 'great', 'mexican', 'mexican', 'good', 'mexican', 'great', 'mexican', 'dead', 'delicious', 'good', 'mexican', 'great', 'mexican', 'mexican', 'mexican', 'mexican', 'great', 'mexican', 'mexican', 'mexican', 'authentic', 'awesome', 'mexican', 'potential', 'mexican', 'pleasant', 'expensive', 'excellent', 'mexican', 'mexican', 'receive', 'mexican', 'great', 'mexican', 'good', 'mexican', 'rican', 'mexican', 'mexican', 'mexican', 'mexican', 'delicious', 'mexican', 'mexican', 'great', 'excellent', 'solid', 'mexican', 'mexican', 'mexican', 'mexican', 'complimentary', 'great', 'bad', 'great', 'vega', 'severe', 'mexican', 'generous', 'great', 'great', 'good', 'mexican', 'mexican', 'mexican', 'good', 'mexican', 'mexican', 'green', 'mexican', 'mexican', 'mexican', 'mexican', 'mexican', 'sure', 'uncomfortable', 'knowledgeable', 'awesome', 'mexican', 'great', 'disappointed', 'mexican', 'nice', 'mexican', 'wrong', 'straw', 'great', 'mexican', 'mexican', 'mexican', 'cold', 'awesome', 'great', 'mexican', 'mexican', 'much', 'much', 'menu', 'mexican', 'mexican', 'mexican', 'mexican', 'much', 'great', 'mexican', 'mexican', 'mexican', 'favorite', 'mexican', 'vega', 'margarita', 'unhappy', 'mexican', 'attentive', 'mexican', 'mexican', 'weird', 'good', 'open', 'excellent', 'mexican', 'mexican', 'mexican', 'mexican', 'minute', 'great', 'mexican', 'stellar', 'mexican', 'great', 'mexican', 'mexican', 'great', 'mexican', 'good', 'attentive', 'mean', 'spanish', 'lunch', 'ton', 'mexican', 'mexican', 'mexican', 'mexican', 'mexican', 'empty', 'mexican', 'mexican', 'quick', 'bad', 'mexican', 'excellent', 'great', 'different', 'special', 'mexican', 'intrusive', 'ethnic', 'mexican', 'mexican', 'mexican', 'mexican', 'small', 'great', 'han', 'mexican', 'mexican', 'mexican', 'mexican', 'bean', 'mexican', 'mexican', 'mexican', 'mexican', 'mexican', 'mexican', 'mexican', 'mexican', 'mexican', 'nice', 'mexican', 'mexican', 'mexican', 'great', 'mexican', 'mexican', 'attentive', 'helpful', 'great', 'excellent', 'great', 'mexican', 'knowledgeable', 'latin', 'excellent', 'garlic', 'disappointed', 'mexican', 'great', 'good', 'margarita', 'mexican', 'meal', 'ok', 'weird', 'mexican', 'great', 'great', 'u', 'mexican', 'sure', 'mexican', 'mexican', 'mexican', 'great', 'mexican', 'great', 'good', 'fabulous', 'downtown', 'excellent', 'mexican', 'great', 'wrong', 'authentic', 'delicious', 'mexican', 'mexican', 'great', 'restaurant', 'mexican', 'plenty', 'mexican', 'mexican', 'skimp', 'mexican', 'mexican', 'great', 'mexican', 'amazing', 'mexican', 'not_expect', 'mexican', 'mexican', 'not_fine', 'restaurant', 'spectacular', 'mexican', 'queen', 'great', 'mexican', 'happy', 'wonderful', 'fabulous', 'great', 'mexican', 'impeccable', 'mexican', 'bean', 'mexican', 'special', 'great', 'great', 'mexican', 'exceptional', 'great', 'mexican', 'mexican', 'phenomenal', 'mexican', 'mexican', 'mexican', 'authentic', 'mexican', 'great', 'mexican', 'great', 'affordable', 'mexican', 'mexican', 'overall', 'mexican', 'delicious', 'good', 'mexican', 'fabulous', 'mexican', 'great', 'great', 'awesome', 'good', 'great', 'stop', 'fantastic', 'restaurant', 'wrong', 'great', 'great', 'fabulous', 'delicious', 'full', 'mexican', 'happy', 'mexican', 'great'], ['frozen', 'doable', 'exact', 'ingredient', 'delicious', 'crappy', 'cheap', 'frozen', 'great', 'bad', 'good', 'fast', 'good', 'free', 'british', 'thatthe', 'good', 'frozen', 'fast', 'horrible', 'not_stupid'], ['not_helpful', 'great', 'ok', 'mediocre', 'poor', 'great', 'star', 'great', 'wait', 'favorite', 'good', 'boring', 'excellent', 'good', 'taco', 'great', 'good', 'inexpensive', 'good', 'good', 'great'], ['not_intrusive', 'excellent', 'correct', 'decent', 'excellent', 'much', 'enormous', 'much', 'ginormous', 'needlesstosay', 'puppy', 'great', 'great', 'good', 'great', 'ok', 'overall', 'much', 'wrong', 'delicious', 'not_want', 'enough'], ['unbelievable', 'awesome', 'fresh', 'great', 'overpriced', 'great', 'fresh', 'hiccup'], ['stellar', 'wrong', 'excellent', 'unimpressed', 'single', 'massive', 'good', 'good', 'great', 'chic', 'excellent', 'overall', 'great', 'real', 'tapasstyle', 'wonderful', 'incredible', 'great', 'extra', 'good', 'much', 'sensory', 'complimented', 'not_drench', 'spend', 'good', 'serious', 'delicious', 'great', 'sure', 'ordinary', 'outstanding', 'friendly', 'seablue', 'great', 'excellent', 'great', 'good', 'sure', 'good', 'comfortable', 'basic', 'gorgeous', 'great', 'awesome', 'great', 'awesome', 'ok', 'great', 'ok', 'special', 'good', 'know', 'little', 'wonderful', 'welcome'], ['chinese', 'chinese', 'chinese', 'chinese', 'horrible', 'chinese', 'good', 'not_apologetic', 'chinese', 'chinese', 'chinese', 'quick', 'quick', 'great', 'overall', 'good', 'chinese', 'great', 'nice', 'chinese', 'authentic', 'overall', 'chinese', 'outstanding', 'good', 'good', 'chinese', 'good', 'good', 'great', 'good', 'chinese', 'want', 'chinese', 'favorite', 'good', 'chinese', 'quick', 'plenty', 'nice', 'picky', 'unprofessional', 'nice', 'chinese', 'chinese', 'chinese', 'chinese', 'chinese', 'chinese', 'full', 'gross', 'chinese', 'dead', 'chinese', 'delicious', 'right', 'fresh', 'chinese', 'good', 'cold', 'chinese', 'decent', 'chinese', 'decent', 'chinese', 'great'], ['plenty', 'great', 'good', 'polite', 'sure', 'excellent', 'hungry', 'awesome', 'good', 'tight', 'good', 'fresh', 'negative', 'great', 'great', 'great', 'good', 'awful', 'fault', 'fine', 'great', 'bad', 'awesome', 'fresh', 'good', 'fresh', 'great', 'excellent', 'early', 'great', 'great', 'good', 'wrong', 'asian', 'tiny', 'fresh', 'usual', 'great', 'long', 'great', 'tasty', 'great', 'decent', 'good', 'restaurant', 'japanese', 'u', 'great', 'uncomfortable', 'bad', 'favorite', 'hot', 'good', 'fabulous', 'delicious', 'disappointed', 'much', 'japanese', 'good', 'liked', 'excellent', 'excellent', 'delicious', 'small', 'not_7-7:30', 'good', 'wrong', 'asian', 'handle', 'great', 'sushi', 'little', 'good', 'alley', 'chinese', 'quality', 'asian', 'filthy', 'great', 'great', 'great', 'outstanding', 'great', 'great', 'wonderful', 'japanese', 'good', 'good', 'hot', 'great', 'horrible'], ['frozen', 'actual', 'good', 'quick', 'much', 'bad', 'eaten', 'good', 'true', 'chinese', 'pete', 'great', 'sauce', 'frozen', 'not_bad', 'not_for', 'worth', 'not_judge', 'helpful', 'fantastic', 'froze', 'real', 'fish', 'u', 'great', 'good', 'magnificent', 'average', 'gross', 'good', 'fast', 'much'], ['okay', 'overall', 'free', 'good', 'atmosphere', 'last', 'great', 'helpful', 'not_open', 'good', 'clean', 'excellent', 'excellent'], ['excellent', 'lunch', 'overall', 'fish', 'real', 'healthy', 'fast', 'fresh', 'fish', 'reasonable', 'great', 'wish', 'great', 'quality', 'lady'], ['great', 'great', 'nice', 'weird', 'disappointing', 'good', 'third', 'service', 'good', 'not_the', 'much', 'hot', 'fine', 'prep', 'free', 'overall', 'terrible', 'complaint', 'excellent'], ['whole', 'fresh', 'good', 'much', 'good', 'clean', 'much', 'whole', 'good', 'fresh', 'whole', 'fresh', 'great'], ['comparable', 'fantastic', 'good', 'fantastic', 'disappointed', 'excellent', 'delicious', 'excellent', 'tasty', 'authentic', 'thai', 'healthy', 'great', 'like', 'chinese', 'good'], ['upscale', 'old', 'open', 'inappropriate', 'fast', 'fast', 'enjoyable', 'little', 'mexican', 'dine', 'quick', 'great', 'loud', 'new', 'ready'], ['delicious', 'good', 'delicious', 'table', 'thai', 'nice', 'good', 'thai', 'awesome', 'authenticity', 'wonderful', 'great', 'great', 'wonderful', 'vegetablesthe', 'large', 'great', 'full', 'friendly', 'pick', 'great', 'restaurant', 'great', 'thai', 'delicious', 'good', 'noodle', 'fresh', 'fair', 'good', 'good', 'reasonable', 'excellent', 'good', 'great', 'ok'], ['good', 'hot', 'japanese', 'happy', 'busy', 'wonderful', 'nice', 'joint', 'great', 'terrible', 'good', 'japanese', 'great', 'great', 'great', 'u', 'great', 'ghetto', 'fresh', 'good', 'hair', 'delicious', 'good', 'good', 'great', 'great', 'great', 'first', 'fresh', 'small', 'great', 'not_serve', 'bad', 'bite', 'great', 'great', 'outstanding', 'good', 'eat', 'fresh', 'fresh', 'fabulous', 'great', 'fantastic', 'fishy', 'good', 'wonderful', 'delicious', 'pick', 'japanese', 'great', 'basic', 'meant', 'delicious', 'enjoy', 'hot', 'fresh', 'rapid', 'great', 'sure', 'slow', 'great', 'awesome', 'good', 'reasonable', 'wrong', 'much', 'great', 'great', 'last', 'perfect'], ['enough', 'much', 'new', 'excellent', 'pricey', 'average', 'fantastic', 'good', 'great', 'live', 'awesome', 'front', 'average', 'great', 'good', 'high', 'mediocre', 'much', 'gotten', 'dubious', 'nasty', 'tot', 'much', 'unique'], ['ethnic', 'authentic', 'ethnic', 'chinese', 'chinese', 'chinese', 'great', 'chinese', 'chinese', 'asian', 'sichuan', 'sichuan', 'chinese', 'chinese', 'chinese', 'hot', 'great', 'chuan', 'chinese', 'u', 'bunch', 'sichuan', 'polite', 'chinese', 'decent', 'chinese', 'sichuan', 'chinese', 'chinese', 'chinese', 'chinese', 'oncethe', 'chinese', 'great', 'exotic', 'szechuan', 'chinese', 'chinese', 'great', 'chinese', 'chinese', 'chinese', 'sichuan', 'dish', 'staple', 'dian', 'greasy', 'asian', 'chinese', 'mala', 'chinese', 'chinese', 'americanchinese', 'quick', 'chinese', 'chinese', 'chinese', 'chinese', 'chinese', 'chinese', 'chinese', 'great', 'fast', 'overall', 'bad', 'chinese', 'chinese', 'good', 'chinese', 'sichuan', 'chinese', 'asian', 'chinese', 'chinese', 'chinese', 'chinese', 'authentic', 'great', 'chinese', 'chinese', 'chinese', 'chinese', 'japanese', 'asian', 'chinese', 'chinese', 'awful', 'great', 'tasty', 'sichuan', 'chinese', 'asian', 'chinese', 'chinese', 'chinese', 'weird', 'chinese', 'much', 'chinese', 'sichuan', 'chinese', 'perfect', 'chinese', 'good', 'chinese', 'chinese', 'chinese', 'authentic', 'chinese', 'chinese', 'chinese', 'chinese', 'chinese', 'asian', 'chinese', 'chinese', 'chinese', 'chinese', 'chinese', 'good', 'authentic', 'chinese', 'chinese', 'sign', 'chinese', 'pro', 'chinese', 'chinese', 'disjointed', 'dish', 'asian', 'chinese', 'sichuan', 'chinese', 'sichuan', 'chinese', 'chinatown', 'chinese', 'different', 'chinese', 'chinese', 'chinese', 'chinese', 'overall', 'chinese', 'chinese', 'update', 'good', 'chinese', 'chinese', 'chinese', 'chinese', 'sichuan', 'chinese', 'chinese', 'chinese'], ['fresh', 'good', 'great', 'hot', 'asian', 'chinese', 'nice', 'busy', 'enough', 'dish', 'dirty', 'endless', 'chinese', 'good', 'chinese', 'disappointment', 'chinese', 'chinese', 'cheap', 'chinese', 'good', 'fancy', 'chinese', 'chinese', 'clean', 'good', 'great', 'american', 'solid', 'chinese', 'good', 'great', 'not_end', 'hot', 'good', 'good', 'huge', 'chinese', 'great', 'american', 'terrible', 'nasty', 'chinese', 'chinese', 'great', 'ive', 'good', 'good', 'public', 'decent', 'good', 'chinese', 'not_want', 'chinese', 'aspect', 'attentive', 'good', 'clean', 'efficient', 'good', 'table', 'subpar', 'warm', 'mean', 'good', 'sea', 'chinese', 'beautiful', 'free', 'chinese', 'many', 'chinese', 'chinese', 'great', 'extraordinary', 'great', 'bizarre', 'much', 'beautiful', 'attentive', 'greasy', 'good', 'not_porportional', 'clean', 'little', 'beautiful', 'mexican', 'good', 'chinese', 'chinese'], ['not_open', 'good', 'good', 'good', 'sick', 'good', 'delicious', 'average', 'amazing', 'good', 'friendly', 'knowledgeable', 'prepared', 'great', 'good', 'vega', 'fabulous', 'efficient', 'great', 'not_know', 'good', 'good', 'quick', 'good', 'great', 'good', 'clean', 'good', 'impressive', 'good', 'average', 'great', 'dry', 'diet', 'delicious', 'quick', 'good', 'delicious', 'great', 'cheese', 'table', 'table', 'u', 'delicious', 'great', 'gamble', 'excellent', 'guess', 'impressed', 'guess'], ['italian', 'italian', 'good', 'great', 'tuscanitalian', 'finish', 'italian', 'italian', 'overall', 'great', 'average', 'nice', 'italian', 'italian', 'nibble', 'awesome', 'busy', 'italian', 'excellent', 'italian', 'italian', 'good', 'delicious', 'outstanding', 'italian', 'not_miss', 'hot', 'italian', 'italian', 'equal', 'expensive', 'good', 'italian', 'clean', 'phenomenal', 'italian', 'italian', 'good', 'not_for', 'italian', 'italian', 'ok', 'fine', 'italian', 'italian', 'italian', 'italian', 'italian', 'italian', 'type', 'summary', 'great', 'italian', 'italian', 'giuseppe', 'great', 'wonderful', 'italian', 'weak', 'ok', 'italian', 'italian', 'italian', 'italian', 'italian', 'italian', 'italian', 'great', 'good', 'excellent', 'italian', 'tasty', 'italian', 'not_happy', 'italian', 'great', 'italian', 'italian', 'desired', 'good', 'authentic', 'italian', 'italian', 'italian', 'good', 'italian', 'fast', 'italian', 'great', 'italian', 'great', 'great', 'good', 'bad', 'great', 'much', 'favorite', 'italian', 'italian', 'italian', 'italian', 'attentive', 'cordial', 'giuseppe', 'italian', 'shoddy', 'great', 'awesome', 'high', 'nice', 'good', 'close', 'italian', 'comfortable', 'good', 'italian', 'good', 'italian', 'table', 'italian', 'italian', 'mexican', 'ugh', 'italian', 'italian', 'italian', 'tacky', 'great', 'good', 'italian', 'italian', 'italian', 'italian', 'italian', 'whole', 'sure', 'italian', 'italian', 'italian', 'great', 'italian', 'great', 'good', 'good', 'fantastic'], ['local', 'plenty', 'exceptional', 'delicious', 'ironic', 'nice', 'excellent', 'good', 'good', 'poor', 'poor', 'expensive', 'memorable', 'garnish', 'unique', 'important', 'fantastic', 'magician', 'professional', 'great', 'great', 'fine', 'delicious', 'good', 'overall', 'third', 'bad', 'terrible', 'little', 'sad', 'great', 'delicious', 'casual', 'passionate', 'good', 'good', 'good', 'disappointed', 'delicious', 'enthusiastic', 'impressed', 'professional', 'overall', 'comfortable', 'great', 'chuck', 'great', 'delicious', 'great', 'recommend', 'amazingness', 'happy', 'delicious', 'excellent', 'fan', 'great', 'worth'], ['good', 'camerican', 'good', 'chinese', 'chinese', 'much', 'much', 'bean', 'secondary', 'overall', 'good', 'great', 'similar', 'horrible', 'ok', 'consistent', 'not_busy', 'coolz', 'dish', 'good', 'great', 'dish', 'asia', 'asia', 'asia'], ['great', 'good', 'outstanding', 'not_come', 'great', 'great', 'classy', 'good', 'good', 'great', 'happy', 'u', 'lunch', 'knowledgeable', 'wonderful', 'great', 'excellent', 'pricey', 'wonderful', 'good', 'great', 'mechanical', 'wonderful', 'magic', 'u', 'exceptional', 'solid', 'excellent', 'april', 'excellent', 'great', 'wonderful', 'great', 'great', 'awesome', 'great', 'good', 'good', 'good', 'good', 'impressed', 'attentive', 'nice', 'good', 'friendly', 'good', 'disappointed', 'good', 'fantastic', 'perfect', 'incredible', 'great', 'great', 'not_enjoy'], ['skip', 'attentive', 'bad', 'great', 'attentive', 'terrible', 'bring', 'hear', 'edible', 'ok', 'good', 'great', 'great', 'bad', 'bad', 'fishy', 'hot', 'slow', 'bad', 'existent', 'terrible', 'delicious', 'nice', 'great', 'decent', 'delish', 'not_try', 'unremarkable', 'pathetic', 'ok', 'fast', 'much', 'nasty', 'terrible', 'receive', 'airport', 'slow', 'expensive', 'poor'], ['fresh', 'great', 'incredible', 'fabulous', 'great', 'reasonable', 'good', 'great', 'polite', 'ant', 'particular', 'flavorless', 'good', 'great', 'ant', 'japanese', 'great', 'good', 'great', 'perfect', 'korean', 'delicious', 'japanese', 'japanese'], ['weekly', 'amazing', 'italian', 'italian', 'italian', 'italian', 'good', 'italian', 'expensive', 'enough', 'good', 'great', 'fresh', 'great', 'delicious', 'excellent', 'behavior', 'good', 'italian'], ['phenomenal', 'local', 'sure', 'expensive', 'awesome', 'great', 'tip', 'sustainable', 'passionate', 'upbeat', 'noodle', 'good', 'bad', 'bad', 'pleased', 'great', 'good', 'fresh', 'sustainable', 'phenomenal', 'delicious', 'decadent', 'big'], ['great', 'great', 'excellent', 'enough', 'great', 'average', 'italian', 'not_feel', 'picky', 'great', 'italian', 'good', 'italian', 'incredible', 'italian', 'great', 'great', 'overall', 'italian', 'great', 'great', 'nice', 'italian', 'italian', 'much', 'italian', 'agree', 'delicious', 'outstanding', 'great', 'italian', 'great', 'italian', 'italian', 'italian', 'bountiful', 'great', 'italian', 'delicious', 'beautiful', 'italian', 'italian', 'good', 'nc', 'italian', 'italian', 'great', 'italian', 'italian', 'wonderful', 'good', 'italian', 'great', 'italian', 'average', 'italian']]"
     ]
    },
    {
     "name": "stdout",
     "output_type": "stream",
     "text": [
      "\n"
     ]
    }
   ],
   "source": [
    "print(adj_food)"
   ]
  },
  {
   "cell_type": "code",
   "execution_count": 221,
   "metadata": {},
   "outputs": [
    {
     "data": {
      "text/html": [
       "<div>\n",
       "<style scoped>\n",
       "    .dataframe tbody tr th:only-of-type {\n",
       "        vertical-align: middle;\n",
       "    }\n",
       "\n",
       "    .dataframe tbody tr th {\n",
       "        vertical-align: top;\n",
       "    }\n",
       "\n",
       "    .dataframe thead th {\n",
       "        text-align: right;\n",
       "    }\n",
       "</style>\n",
       "<table border=\"1\" class=\"dataframe\">\n",
       "  <thead>\n",
       "    <tr style=\"text-align: right;\">\n",
       "      <th></th>\n",
       "      <th>business_id</th>\n",
       "      <th>positive</th>\n",
       "      <th>negative</th>\n",
       "      <th>proportion</th>\n",
       "      <th>stars</th>\n",
       "    </tr>\n",
       "  </thead>\n",
       "  <tbody>\n",
       "    <tr>\n",
       "      <th>0</th>\n",
       "      <td>nsNONDHbV7Vudqh21uicqw</td>\n",
       "      <td>102</td>\n",
       "      <td>15</td>\n",
       "      <td>0.871795</td>\n",
       "      <td>3.5</td>\n",
       "    </tr>\n",
       "    <tr>\n",
       "      <th>1</th>\n",
       "      <td>F06m2yQSPHIrb1IT7heYeQ</td>\n",
       "      <td>70</td>\n",
       "      <td>1</td>\n",
       "      <td>0.985915</td>\n",
       "      <td>4.0</td>\n",
       "    </tr>\n",
       "    <tr>\n",
       "      <th>2</th>\n",
       "      <td>c_FTil8s5PS2l_YJDQAXhA</td>\n",
       "      <td>9</td>\n",
       "      <td>0</td>\n",
       "      <td>1.000000</td>\n",
       "      <td>4.0</td>\n",
       "    </tr>\n",
       "    <tr>\n",
       "      <th>3</th>\n",
       "      <td>vAbRNF0hJt91oCUpm_sdKw</td>\n",
       "      <td>13</td>\n",
       "      <td>1</td>\n",
       "      <td>0.928571</td>\n",
       "      <td>3.5</td>\n",
       "    </tr>\n",
       "    <tr>\n",
       "      <th>4</th>\n",
       "      <td>z8H4Mdzl4jS9pYswj6Jf9w</td>\n",
       "      <td>54</td>\n",
       "      <td>4</td>\n",
       "      <td>0.931034</td>\n",
       "      <td>3.5</td>\n",
       "    </tr>\n",
       "  </tbody>\n",
       "</table>\n",
       "</div>"
      ],
      "text/plain": [
       "              business_id  positive  negative  proportion  stars\n",
       "0  nsNONDHbV7Vudqh21uicqw       102        15    0.871795    3.5\n",
       "1  F06m2yQSPHIrb1IT7heYeQ        70         1    0.985915    4.0\n",
       "2  c_FTil8s5PS2l_YJDQAXhA         9         0    1.000000    4.0\n",
       "3  vAbRNF0hJt91oCUpm_sdKw        13         1    0.928571    3.5\n",
       "4  z8H4Mdzl4jS9pYswj6Jf9w        54         4    0.931034    3.5"
      ]
     },
     "execution_count": 221,
     "metadata": {},
     "output_type": "execute_result"
    }
   ],
   "source": [
    "food=pd.DataFrame(review_bind['business_id'])\n",
    "food['positive']=[0]*(len(review_bind))\n",
    "food['negative']=[0]*len(review_bind)\n",
    "food['proportion']=[np.nan]*len(review_bind)\n",
    "\n",
    "from collections import Counter\n",
    "\n",
    "for i in range(len(adj_food)):\n",
    "    if(len(adj_food[i]) != 0):\n",
    "        dictionary=Counter(adj_food[i])\n",
    "        for word in dictionary.keys():\n",
    "            if (word in dict_adj.keys()):\n",
    "                if (dict_adj[word] == 'positive'):\n",
    "                    food.iat[i,1]=food['positive'][i]+dictionary[word]\n",
    "                else:\n",
    "                    food.iat[i,2]=food['negative'][i]+dictionary[word]\n",
    "        food.iat[i,3]=food['positive'][i]/(food['positive'][i]+food['negative'][i])\n",
    "\n",
    "food['stars']=review_bind['stars']\n",
    "food.head()"
   ]
  },
  {
   "cell_type": "code",
   "execution_count": 222,
   "metadata": {},
   "outputs": [
    {
     "name": "stdout",
     "output_type": "stream",
     "text": [
      "24047\n",
      "1907\n"
     ]
    }
   ],
   "source": [
    "print(np.sum(food['positive']))\n",
    "print(np.sum(food['negative']))"
   ]
  },
  {
   "cell_type": "code",
   "execution_count": 223,
   "metadata": {},
   "outputs": [
    {
     "data": {
      "text/html": [
       "<div>\n",
       "<style scoped>\n",
       "    .dataframe tbody tr th:only-of-type {\n",
       "        vertical-align: middle;\n",
       "    }\n",
       "\n",
       "    .dataframe tbody tr th {\n",
       "        vertical-align: top;\n",
       "    }\n",
       "\n",
       "    .dataframe thead th {\n",
       "        text-align: right;\n",
       "    }\n",
       "</style>\n",
       "<table border=\"1\" class=\"dataframe\">\n",
       "  <thead>\n",
       "    <tr style=\"text-align: right;\">\n",
       "      <th></th>\n",
       "      <th>proportion</th>\n",
       "      <th>stars</th>\n",
       "    </tr>\n",
       "  </thead>\n",
       "  <tbody>\n",
       "    <tr>\n",
       "      <th>proportion</th>\n",
       "      <td>1.000000</td>\n",
       "      <td>0.547101</td>\n",
       "    </tr>\n",
       "    <tr>\n",
       "      <th>stars</th>\n",
       "      <td>0.547101</td>\n",
       "      <td>1.000000</td>\n",
       "    </tr>\n",
       "  </tbody>\n",
       "</table>\n",
       "</div>"
      ],
      "text/plain": [
       "            proportion     stars\n",
       "proportion    1.000000  0.547101\n",
       "stars         0.547101  1.000000"
      ]
     },
     "execution_count": 223,
     "metadata": {},
     "output_type": "execute_result"
    }
   ],
   "source": [
    "food.loc[:,['proportion','stars']].corr()"
   ]
  },
  {
   "cell_type": "code",
   "execution_count": 224,
   "metadata": {},
   "outputs": [],
   "source": [
    "food.to_csv(\"size.csv\",index=False)"
   ]
  }
 ],
 "metadata": {
  "kernelspec": {
   "display_name": "Python 3",
   "language": "python",
   "name": "python3"
  },
  "language_info": {
   "codemirror_mode": {
    "name": "ipython",
    "version": 3
   },
   "file_extension": ".py",
   "mimetype": "text/x-python",
   "name": "python",
   "nbconvert_exporter": "python",
   "pygments_lexer": "ipython3",
   "version": "3.6.7"
  }
 },
 "nbformat": 4,
 "nbformat_minor": 2
}
