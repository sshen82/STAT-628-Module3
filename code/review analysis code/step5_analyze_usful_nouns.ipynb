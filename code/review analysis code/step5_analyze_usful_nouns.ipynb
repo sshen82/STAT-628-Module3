{
 "cells": [
  {
   "cell_type": "markdown",
   "metadata": {},
   "source": [
    "# step 5: analyze useful nouns"
   ]
  },
  {
   "cell_type": "markdown",
   "metadata": {},
   "source": [
    "import librarys and load data set"
   ]
  },
  {
   "cell_type": "code",
   "execution_count": 1,
   "metadata": {},
   "outputs": [
    {
     "name": "stderr",
     "output_type": "stream",
     "text": [
      "Using TensorFlow backend.\n"
     ]
    }
   ],
   "source": [
    "# librarys\n",
    "import pandas as pd\n",
    "import nltk\n",
    "import sklearn\n",
    "import nltk.sentiment\n",
    "\n",
    "import re\n",
    "import pandas as pd\n",
    "import nltk\n",
    "import sklearn\n",
    "from nltk.stem import WordNetLemmatizer\n",
    "import numpy as np\n",
    "from nltk.tokenize import word_tokenize\n",
    "import nltk.sentiment\n",
    "import string\n",
    "# nltk.download('stopwords')\n",
    "# nltk.download('punkt')\n",
    "# nltk.download('wordnet')\n",
    "# nltk.download('averaged_perceptron_tagger')\n",
    "from nltk.corpus import stopwords\n",
    "from tqdm import tqdm\n",
    "from sklearn import linear_model\n",
    "import collections\n",
    "from gensim.models import Word2Vec\n",
    "from gensim.models import word2vec\n",
    "import multiprocessing\n",
    "import time\n",
    "import inflect\n",
    "from textblob import TextBlob\n",
    "import keras.preprocessing.text as T\n",
    "from keras.preprocessing.text import Tokenizer\n",
    "from sklearn.feature_extraction.text import CountVectorizer\n",
    "from sklearn.feature_extraction.text import TfidfTransformer\n",
    "\n",
    "## define stopwords\n",
    "sr = stopwords.words('english')\n",
    "p = inflect.engine()\n",
    "wnl = WordNetLemmatizer() \n",
    "table = str.maketrans('', '', string.punctuation)"
   ]
  },
  {
   "cell_type": "code",
   "execution_count": 2,
   "metadata": {},
   "outputs": [],
   "source": [
    "# function to change text to words\n",
    "def clean_review(text):\n",
    "    #Change n't into not\n",
    "    x = re.sub(r'n\\'t',' not',text)\n",
    "    #Change not word into not_word\n",
    "    x = re.sub(r'not ','not_',x)\n",
    "    #Split into words\n",
    "    x = word_tokenize(x)\n",
    "    #Remove punctuation\n",
    "    x = [w.translate(table) if not re.match(r'not_.*', w) else w for w in x]\n",
    "    #Change numbers into words\n",
    "    x = [p.number_to_words(w) if w.isdigit() else w  for w in x ]\n",
    "    #Remove non alphabetic\n",
    "    x = [w for w in x if w.isalpha() or re.match(r'not_.*',w)]\n",
    "    #Convert to lower case\n",
    "    x = [w.lower() for w in x]\n",
    "    #Remove stop words\n",
    "    x = [w for w in x if not w in sr]\n",
    "    ## lemmatization\n",
    "    x = [wnl.lemmatize(w) for w in x]\n",
    "    return x"
   ]
  },
  {
   "cell_type": "code",
   "execution_count": 25,
   "metadata": {},
   "outputs": [
    {
     "data": {
      "text/html": [
       "<div>\n",
       "<style scoped>\n",
       "    .dataframe tbody tr th:only-of-type {\n",
       "        vertical-align: middle;\n",
       "    }\n",
       "\n",
       "    .dataframe tbody tr th {\n",
       "        vertical-align: top;\n",
       "    }\n",
       "\n",
       "    .dataframe thead th {\n",
       "        text-align: right;\n",
       "    }\n",
       "</style>\n",
       "<table border=\"1\" class=\"dataframe\">\n",
       "  <thead>\n",
       "    <tr style=\"text-align: right;\">\n",
       "      <th></th>\n",
       "      <th>business_id</th>\n",
       "      <th>stars</th>\n",
       "      <th>bind_text</th>\n",
       "    </tr>\n",
       "  </thead>\n",
       "  <tbody>\n",
       "    <tr>\n",
       "      <th>0</th>\n",
       "      <td>nsNONDHbV7Vudqh21uicqw</td>\n",
       "      <td>3.5</td>\n",
       "      <td>Was very excited for happy hour and heard grea...</td>\n",
       "    </tr>\n",
       "    <tr>\n",
       "      <th>1</th>\n",
       "      <td>F06m2yQSPHIrb1IT7heYeQ</td>\n",
       "      <td>4.0</td>\n",
       "      <td>A Cantonese restaurant on the southwest side o...</td>\n",
       "    </tr>\n",
       "    <tr>\n",
       "      <th>2</th>\n",
       "      <td>c_FTil8s5PS2l_YJDQAXhA</td>\n",
       "      <td>4.0</td>\n",
       "      <td>Great food, friendly service, lovely atmospher...</td>\n",
       "    </tr>\n",
       "    <tr>\n",
       "      <th>3</th>\n",
       "      <td>vAbRNF0hJt91oCUpm_sdKw</td>\n",
       "      <td>3.5</td>\n",
       "      <td>I'm a FAN.  Loved this place.  Great service a...</td>\n",
       "    </tr>\n",
       "    <tr>\n",
       "      <th>4</th>\n",
       "      <td>z8H4Mdzl4jS9pYswj6Jf9w</td>\n",
       "      <td>3.5</td>\n",
       "      <td>Service was really poor.\\r\\r\\nMay try the King...</td>\n",
       "    </tr>\n",
       "  </tbody>\n",
       "</table>\n",
       "</div>"
      ],
      "text/plain": [
       "              business_id  stars  \\\n",
       "0  nsNONDHbV7Vudqh21uicqw    3.5   \n",
       "1  F06m2yQSPHIrb1IT7heYeQ    4.0   \n",
       "2  c_FTil8s5PS2l_YJDQAXhA    4.0   \n",
       "3  vAbRNF0hJt91oCUpm_sdKw    3.5   \n",
       "4  z8H4Mdzl4jS9pYswj6Jf9w    3.5   \n",
       "\n",
       "                                           bind_text  \n",
       "0  Was very excited for happy hour and heard grea...  \n",
       "1  A Cantonese restaurant on the southwest side o...  \n",
       "2  Great food, friendly service, lovely atmospher...  \n",
       "3  I'm a FAN.  Loved this place.  Great service a...  \n",
       "4  Service was really poor.\\r\\r\\nMay try the King...  "
      ]
     },
     "execution_count": 25,
     "metadata": {},
     "output_type": "execute_result"
    }
   ],
   "source": [
    "# load review data\n",
    "review_bind=pd.read_csv(\"review_bind.csv\")\n",
    "review_bind.head()"
   ]
  },
  {
   "cell_type": "code",
   "execution_count": 29,
   "metadata": {},
   "outputs": [],
   "source": [
    "# load dictionary of adjectives with positive/negative tags\n",
    "f = open('dict_adj.txt','r')\n",
    "a = f.read()\n",
    "dict_adj = eval(a)\n",
    "f.close()"
   ]
  },
  {
   "cell_type": "markdown",
   "metadata": {},
   "source": [
    "do word tokenization"
   ]
  },
  {
   "cell_type": "code",
   "execution_count": 5,
   "metadata": {},
   "outputs": [],
   "source": [
    "# do word tokenization\n",
    "clean_text = [[1]]*len(review_bind)\n",
    "for i in range(len(review_bind)):\n",
    "    clean_text[i]=clean_review(review_bind['bind_text'][i])"
   ]
  },
  {
   "cell_type": "markdown",
   "metadata": {},
   "source": [
    "define findadj function to find adjectives near a target noun"
   ]
  },
  {
   "cell_type": "code",
   "execution_count": 9,
   "metadata": {},
   "outputs": [],
   "source": [
    "# define findadj funciton\n",
    "def findadj(noun,text):\n",
    "    adj_word = [[1]]*len(text)\n",
    "    for i in range(len(text)):\n",
    "        word=text[i]        \n",
    "        pos_tag = nltk.pos_tag(word)\n",
    "        adjs = []\n",
    "        for j in range(len(word)):\n",
    "            if (word[j] == noun):\n",
    "                if ((j-1)>=0 and pos_tag[j-1][1] == 'JJ'):\n",
    "                    adjs.append(pos_tag[j-1][0])\n",
    "        adj_word[i]=adjs\n",
    "    return adj_word"
   ]
  },
  {
   "cell_type": "markdown",
   "metadata": {},
   "source": [
    "## analyse informative nouns\n",
    "\n",
    "### lobster"
   ]
  },
  {
   "cell_type": "code",
   "execution_count": 226,
   "metadata": {},
   "outputs": [],
   "source": [
    "# get adjectives near lobster\n",
    "adj_lobster=findadj('lobster',clean_text)"
   ]
  },
  {
   "cell_type": "code",
   "execution_count": 38,
   "metadata": {},
   "outputs": [
    {
     "data": {
      "text/html": [
       "<div>\n",
       "<style scoped>\n",
       "    .dataframe tbody tr th:only-of-type {\n",
       "        vertical-align: middle;\n",
       "    }\n",
       "\n",
       "    .dataframe tbody tr th {\n",
       "        vertical-align: top;\n",
       "    }\n",
       "\n",
       "    .dataframe thead th {\n",
       "        text-align: right;\n",
       "    }\n",
       "</style>\n",
       "<table border=\"1\" class=\"dataframe\">\n",
       "  <thead>\n",
       "    <tr style=\"text-align: right;\">\n",
       "      <th></th>\n",
       "      <th>business_id</th>\n",
       "      <th>positive</th>\n",
       "      <th>negative</th>\n",
       "      <th>proportion</th>\n",
       "    </tr>\n",
       "  </thead>\n",
       "  <tbody>\n",
       "    <tr>\n",
       "      <th>0</th>\n",
       "      <td>nsNONDHbV7Vudqh21uicqw</td>\n",
       "      <td>0</td>\n",
       "      <td>0</td>\n",
       "      <td>NaN</td>\n",
       "    </tr>\n",
       "    <tr>\n",
       "      <th>1</th>\n",
       "      <td>F06m2yQSPHIrb1IT7heYeQ</td>\n",
       "      <td>0</td>\n",
       "      <td>0</td>\n",
       "      <td>NaN</td>\n",
       "    </tr>\n",
       "    <tr>\n",
       "      <th>2</th>\n",
       "      <td>c_FTil8s5PS2l_YJDQAXhA</td>\n",
       "      <td>0</td>\n",
       "      <td>0</td>\n",
       "      <td>NaN</td>\n",
       "    </tr>\n",
       "    <tr>\n",
       "      <th>3</th>\n",
       "      <td>vAbRNF0hJt91oCUpm_sdKw</td>\n",
       "      <td>0</td>\n",
       "      <td>0</td>\n",
       "      <td>NaN</td>\n",
       "    </tr>\n",
       "    <tr>\n",
       "      <th>4</th>\n",
       "      <td>z8H4Mdzl4jS9pYswj6Jf9w</td>\n",
       "      <td>0</td>\n",
       "      <td>0</td>\n",
       "      <td>NaN</td>\n",
       "    </tr>\n",
       "  </tbody>\n",
       "</table>\n",
       "</div>"
      ],
      "text/plain": [
       "              business_id  positive  negative  proportion\n",
       "0  nsNONDHbV7Vudqh21uicqw         0         0         NaN\n",
       "1  F06m2yQSPHIrb1IT7heYeQ         0         0         NaN\n",
       "2  c_FTil8s5PS2l_YJDQAXhA         0         0         NaN\n",
       "3  vAbRNF0hJt91oCUpm_sdKw         0         0         NaN\n",
       "4  z8H4Mdzl4jS9pYswj6Jf9w         0         0         NaN"
      ]
     },
     "execution_count": 38,
     "metadata": {},
     "output_type": "execute_result"
    }
   ],
   "source": [
    "# prepare empty data frame table\n",
    "lobster=pd.DataFrame(review_bind['business_id'])\n",
    "lobster['positive']=[0]*(len(review_bind))\n",
    "lobster['negative']=[0]*len(review_bind)\n",
    "lobster['proportion']=[np.nan]*len(review_bind)\n",
    "lobster.head()"
   ]
  },
  {
   "cell_type": "code",
   "execution_count": 39,
   "metadata": {},
   "outputs": [
    {
     "name": "stderr",
     "output_type": "stream",
     "text": [
      "C:\\Users\\GAO ZEJIN\\Anaconda3\\lib\\site-packages\\ipykernel_launcher.py:12: RuntimeWarning: invalid value encountered in longlong_scalars\n",
      "  if sys.path[0] == '':\n"
     ]
    },
    {
     "data": {
      "text/html": [
       "<div>\n",
       "<style scoped>\n",
       "    .dataframe tbody tr th:only-of-type {\n",
       "        vertical-align: middle;\n",
       "    }\n",
       "\n",
       "    .dataframe tbody tr th {\n",
       "        vertical-align: top;\n",
       "    }\n",
       "\n",
       "    .dataframe thead th {\n",
       "        text-align: right;\n",
       "    }\n",
       "</style>\n",
       "<table border=\"1\" class=\"dataframe\">\n",
       "  <thead>\n",
       "    <tr style=\"text-align: right;\">\n",
       "      <th></th>\n",
       "      <th>business_id</th>\n",
       "      <th>positive</th>\n",
       "      <th>negative</th>\n",
       "      <th>proportion</th>\n",
       "    </tr>\n",
       "  </thead>\n",
       "  <tbody>\n",
       "    <tr>\n",
       "      <th>0</th>\n",
       "      <td>nsNONDHbV7Vudqh21uicqw</td>\n",
       "      <td>88</td>\n",
       "      <td>6</td>\n",
       "      <td>0.93617</td>\n",
       "    </tr>\n",
       "    <tr>\n",
       "      <th>1</th>\n",
       "      <td>F06m2yQSPHIrb1IT7heYeQ</td>\n",
       "      <td>3</td>\n",
       "      <td>0</td>\n",
       "      <td>1.00000</td>\n",
       "    </tr>\n",
       "    <tr>\n",
       "      <th>2</th>\n",
       "      <td>c_FTil8s5PS2l_YJDQAXhA</td>\n",
       "      <td>1</td>\n",
       "      <td>0</td>\n",
       "      <td>1.00000</td>\n",
       "    </tr>\n",
       "    <tr>\n",
       "      <th>3</th>\n",
       "      <td>vAbRNF0hJt91oCUpm_sdKw</td>\n",
       "      <td>15</td>\n",
       "      <td>1</td>\n",
       "      <td>0.93750</td>\n",
       "    </tr>\n",
       "    <tr>\n",
       "      <th>4</th>\n",
       "      <td>z8H4Mdzl4jS9pYswj6Jf9w</td>\n",
       "      <td>1</td>\n",
       "      <td>0</td>\n",
       "      <td>1.00000</td>\n",
       "    </tr>\n",
       "  </tbody>\n",
       "</table>\n",
       "</div>"
      ],
      "text/plain": [
       "              business_id  positive  negative  proportion\n",
       "0  nsNONDHbV7Vudqh21uicqw        88         6     0.93617\n",
       "1  F06m2yQSPHIrb1IT7heYeQ         3         0     1.00000\n",
       "2  c_FTil8s5PS2l_YJDQAXhA         1         0     1.00000\n",
       "3  vAbRNF0hJt91oCUpm_sdKw        15         1     0.93750\n",
       "4  z8H4Mdzl4jS9pYswj6Jf9w         1         0     1.00000"
      ]
     },
     "execution_count": 39,
     "metadata": {},
     "output_type": "execute_result"
    }
   ],
   "source": [
    "# count positive/negative adjectives near lobster and compute positive proportion\n",
    "from collections import Counter\n",
    "\n",
    "for i in range(len(adj_lobster)):\n",
    "    if(len(adj_lobster[i]) != 0):\n",
    "        dictionary=Counter(adj_lobster[i])\n",
    "        for word in dictionary.keys():\n",
    "            if (word in dict_adj.keys()):\n",
    "                if (dict_adj[word] == 'positive'):\n",
    "                    lobster.iat[i,1]=lobster['positive'][i]+dictionary[word]\n",
    "                else:\n",
    "                    lobster.iat[i,2]=lobster['negative'][i]+dictionary[word]\n",
    "        lobster.iat[i,3]=lobster['positive'][i]/(lobster['positive'][i]+lobster['negative'][i])\n",
    "lobster.head()"
   ]
  },
  {
   "cell_type": "code",
   "execution_count": 41,
   "metadata": {},
   "outputs": [
    {
     "data": {
      "text/plain": [
       "6022"
      ]
     },
     "execution_count": 41,
     "metadata": {},
     "output_type": "execute_result"
    }
   ],
   "source": [
    "# compute total positive tag\n",
    "np.sum(lobster['positive'])"
   ]
  },
  {
   "cell_type": "code",
   "execution_count": 42,
   "metadata": {},
   "outputs": [
    {
     "data": {
      "text/plain": [
       "374"
      ]
     },
     "execution_count": 42,
     "metadata": {},
     "output_type": "execute_result"
    }
   ],
   "source": [
    "# compute total negative tag\n",
    "np.sum(lobster['negative'])"
   ]
  },
  {
   "cell_type": "code",
   "execution_count": 46,
   "metadata": {},
   "outputs": [
    {
     "data": {
      "text/html": [
       "<div>\n",
       "<style scoped>\n",
       "    .dataframe tbody tr th:only-of-type {\n",
       "        vertical-align: middle;\n",
       "    }\n",
       "\n",
       "    .dataframe tbody tr th {\n",
       "        vertical-align: top;\n",
       "    }\n",
       "\n",
       "    .dataframe thead th {\n",
       "        text-align: right;\n",
       "    }\n",
       "</style>\n",
       "<table border=\"1\" class=\"dataframe\">\n",
       "  <thead>\n",
       "    <tr style=\"text-align: right;\">\n",
       "      <th></th>\n",
       "      <th>business_id</th>\n",
       "      <th>positive</th>\n",
       "      <th>negative</th>\n",
       "      <th>proportion</th>\n",
       "      <th>stars</th>\n",
       "    </tr>\n",
       "  </thead>\n",
       "  <tbody>\n",
       "    <tr>\n",
       "      <th>0</th>\n",
       "      <td>nsNONDHbV7Vudqh21uicqw</td>\n",
       "      <td>88</td>\n",
       "      <td>6</td>\n",
       "      <td>0.93617</td>\n",
       "      <td>3.5</td>\n",
       "    </tr>\n",
       "    <tr>\n",
       "      <th>1</th>\n",
       "      <td>F06m2yQSPHIrb1IT7heYeQ</td>\n",
       "      <td>3</td>\n",
       "      <td>0</td>\n",
       "      <td>1.00000</td>\n",
       "      <td>4.0</td>\n",
       "    </tr>\n",
       "    <tr>\n",
       "      <th>2</th>\n",
       "      <td>c_FTil8s5PS2l_YJDQAXhA</td>\n",
       "      <td>1</td>\n",
       "      <td>0</td>\n",
       "      <td>1.00000</td>\n",
       "      <td>4.0</td>\n",
       "    </tr>\n",
       "    <tr>\n",
       "      <th>3</th>\n",
       "      <td>vAbRNF0hJt91oCUpm_sdKw</td>\n",
       "      <td>15</td>\n",
       "      <td>1</td>\n",
       "      <td>0.93750</td>\n",
       "      <td>3.5</td>\n",
       "    </tr>\n",
       "    <tr>\n",
       "      <th>4</th>\n",
       "      <td>z8H4Mdzl4jS9pYswj6Jf9w</td>\n",
       "      <td>1</td>\n",
       "      <td>0</td>\n",
       "      <td>1.00000</td>\n",
       "      <td>3.5</td>\n",
       "    </tr>\n",
       "  </tbody>\n",
       "</table>\n",
       "</div>"
      ],
      "text/plain": [
       "              business_id  positive  negative  proportion  stars\n",
       "0  nsNONDHbV7Vudqh21uicqw        88         6     0.93617    3.5\n",
       "1  F06m2yQSPHIrb1IT7heYeQ         3         0     1.00000    4.0\n",
       "2  c_FTil8s5PS2l_YJDQAXhA         1         0     1.00000    4.0\n",
       "3  vAbRNF0hJt91oCUpm_sdKw        15         1     0.93750    3.5\n",
       "4  z8H4Mdzl4jS9pYswj6Jf9w         1         0     1.00000    3.5"
      ]
     },
     "execution_count": 46,
     "metadata": {},
     "output_type": "execute_result"
    }
   ],
   "source": [
    "# final table\n",
    "lobster['stars']=review_bind['stars']\n",
    "lobster.head()"
   ]
  },
  {
   "cell_type": "code",
   "execution_count": 52,
   "metadata": {},
   "outputs": [
    {
     "data": {
      "text/html": [
       "<div>\n",
       "<style scoped>\n",
       "    .dataframe tbody tr th:only-of-type {\n",
       "        vertical-align: middle;\n",
       "    }\n",
       "\n",
       "    .dataframe tbody tr th {\n",
       "        vertical-align: top;\n",
       "    }\n",
       "\n",
       "    .dataframe thead th {\n",
       "        text-align: right;\n",
       "    }\n",
       "</style>\n",
       "<table border=\"1\" class=\"dataframe\">\n",
       "  <thead>\n",
       "    <tr style=\"text-align: right;\">\n",
       "      <th></th>\n",
       "      <th>proportion</th>\n",
       "      <th>stars</th>\n",
       "    </tr>\n",
       "  </thead>\n",
       "  <tbody>\n",
       "    <tr>\n",
       "      <th>proportion</th>\n",
       "      <td>1.000000</td>\n",
       "      <td>0.144111</td>\n",
       "    </tr>\n",
       "    <tr>\n",
       "      <th>stars</th>\n",
       "      <td>0.144111</td>\n",
       "      <td>1.000000</td>\n",
       "    </tr>\n",
       "  </tbody>\n",
       "</table>\n",
       "</div>"
      ],
      "text/plain": [
       "            proportion     stars\n",
       "proportion    1.000000  0.144111\n",
       "stars         0.144111  1.000000"
      ]
     },
     "execution_count": 52,
     "metadata": {},
     "output_type": "execute_result"
    }
   ],
   "source": [
    "# compute correlation coeficient\n",
    "lobster.loc[:,['proportion','stars']].corr()"
   ]
  },
  {
   "cell_type": "code",
   "execution_count": 53,
   "metadata": {},
   "outputs": [],
   "source": [
    "# save data\n",
    "lobster.to_csv(\"lobster.csv\",index=False)"
   ]
  },
  {
   "cell_type": "markdown",
   "metadata": {},
   "source": [
    "## crab"
   ]
  },
  {
   "cell_type": "code",
   "execution_count": 225,
   "metadata": {},
   "outputs": [],
   "source": [
    "# get adjectives near crab\n",
    "adj_crab=findadj('crab',clean_text)"
   ]
  },
  {
   "cell_type": "code",
   "execution_count": 56,
   "metadata": {},
   "outputs": [],
   "source": [
    "# prepare empty data frame table\n",
    "crab=pd.DataFrame(review_bind['business_id'])\n",
    "crab['positive']=[0]*(len(review_bind))\n",
    "crab['negative']=[0]*len(review_bind)\n",
    "crab['proportion']=[np.nan]*len(review_bind)"
   ]
  },
  {
   "cell_type": "code",
   "execution_count": 57,
   "metadata": {},
   "outputs": [
    {
     "name": "stderr",
     "output_type": "stream",
     "text": [
      "C:\\Users\\GAO ZEJIN\\Anaconda3\\lib\\site-packages\\ipykernel_launcher.py:12: RuntimeWarning: invalid value encountered in longlong_scalars\n",
      "  if sys.path[0] == '':\n"
     ]
    },
    {
     "data": {
      "text/html": [
       "<div>\n",
       "<style scoped>\n",
       "    .dataframe tbody tr th:only-of-type {\n",
       "        vertical-align: middle;\n",
       "    }\n",
       "\n",
       "    .dataframe tbody tr th {\n",
       "        vertical-align: top;\n",
       "    }\n",
       "\n",
       "    .dataframe thead th {\n",
       "        text-align: right;\n",
       "    }\n",
       "</style>\n",
       "<table border=\"1\" class=\"dataframe\">\n",
       "  <thead>\n",
       "    <tr style=\"text-align: right;\">\n",
       "      <th></th>\n",
       "      <th>business_id</th>\n",
       "      <th>positive</th>\n",
       "      <th>negative</th>\n",
       "      <th>proportion</th>\n",
       "      <th>stars</th>\n",
       "    </tr>\n",
       "  </thead>\n",
       "  <tbody>\n",
       "    <tr>\n",
       "      <th>0</th>\n",
       "      <td>nsNONDHbV7Vudqh21uicqw</td>\n",
       "      <td>57</td>\n",
       "      <td>4</td>\n",
       "      <td>0.934426</td>\n",
       "      <td>3.5</td>\n",
       "    </tr>\n",
       "    <tr>\n",
       "      <th>1</th>\n",
       "      <td>F06m2yQSPHIrb1IT7heYeQ</td>\n",
       "      <td>3</td>\n",
       "      <td>1</td>\n",
       "      <td>0.750000</td>\n",
       "      <td>4.0</td>\n",
       "    </tr>\n",
       "    <tr>\n",
       "      <th>2</th>\n",
       "      <td>c_FTil8s5PS2l_YJDQAXhA</td>\n",
       "      <td>0</td>\n",
       "      <td>0</td>\n",
       "      <td>NaN</td>\n",
       "      <td>4.0</td>\n",
       "    </tr>\n",
       "    <tr>\n",
       "      <th>3</th>\n",
       "      <td>vAbRNF0hJt91oCUpm_sdKw</td>\n",
       "      <td>3</td>\n",
       "      <td>1</td>\n",
       "      <td>0.750000</td>\n",
       "      <td>3.5</td>\n",
       "    </tr>\n",
       "    <tr>\n",
       "      <th>4</th>\n",
       "      <td>z8H4Mdzl4jS9pYswj6Jf9w</td>\n",
       "      <td>0</td>\n",
       "      <td>0</td>\n",
       "      <td>NaN</td>\n",
       "      <td>3.5</td>\n",
       "    </tr>\n",
       "  </tbody>\n",
       "</table>\n",
       "</div>"
      ],
      "text/plain": [
       "              business_id  positive  negative  proportion  stars\n",
       "0  nsNONDHbV7Vudqh21uicqw        57         4    0.934426    3.5\n",
       "1  F06m2yQSPHIrb1IT7heYeQ         3         1    0.750000    4.0\n",
       "2  c_FTil8s5PS2l_YJDQAXhA         0         0         NaN    4.0\n",
       "3  vAbRNF0hJt91oCUpm_sdKw         3         1    0.750000    3.5\n",
       "4  z8H4Mdzl4jS9pYswj6Jf9w         0         0         NaN    3.5"
      ]
     },
     "execution_count": 57,
     "metadata": {},
     "output_type": "execute_result"
    }
   ],
   "source": [
    "# count positive/negative adjectives near crab and compute positive proportion\n",
    "from collections import Counter\n",
    "\n",
    "for i in range(len(adj_crab)):\n",
    "    if(len(adj_crab[i]) != 0):\n",
    "        dictionary=Counter(adj_crab[i])\n",
    "        for word in dictionary.keys():\n",
    "            if (word in dict_adj.keys()):\n",
    "                if (dict_adj[word] == 'positive'):\n",
    "                    crab.iat[i,1]=crab['positive'][i]+dictionary[word]\n",
    "                else:\n",
    "                    crab.iat[i,2]=crab['negative'][i]+dictionary[word]\n",
    "        crab.iat[i,3]=crab['positive'][i]/(crab['positive'][i]+crab['negative'][i])\n",
    "\n",
    "crab['stars']=review_bind['stars']\n",
    "crab.head()"
   ]
  },
  {
   "cell_type": "code",
   "execution_count": 58,
   "metadata": {},
   "outputs": [
    {
     "name": "stdout",
     "output_type": "stream",
     "text": [
      "3146\n",
      "479\n"
     ]
    }
   ],
   "source": [
    "# compute total positive/negative tag\n",
    "print(np.sum(crab['positive']))\n",
    "print(np.sum(crab['negative']))"
   ]
  },
  {
   "cell_type": "code",
   "execution_count": 59,
   "metadata": {},
   "outputs": [
    {
     "data": {
      "text/html": [
       "<div>\n",
       "<style scoped>\n",
       "    .dataframe tbody tr th:only-of-type {\n",
       "        vertical-align: middle;\n",
       "    }\n",
       "\n",
       "    .dataframe tbody tr th {\n",
       "        vertical-align: top;\n",
       "    }\n",
       "\n",
       "    .dataframe thead th {\n",
       "        text-align: right;\n",
       "    }\n",
       "</style>\n",
       "<table border=\"1\" class=\"dataframe\">\n",
       "  <thead>\n",
       "    <tr style=\"text-align: right;\">\n",
       "      <th></th>\n",
       "      <th>proportion</th>\n",
       "      <th>stars</th>\n",
       "    </tr>\n",
       "  </thead>\n",
       "  <tbody>\n",
       "    <tr>\n",
       "      <th>proportion</th>\n",
       "      <td>1.000000</td>\n",
       "      <td>0.141837</td>\n",
       "    </tr>\n",
       "    <tr>\n",
       "      <th>stars</th>\n",
       "      <td>0.141837</td>\n",
       "      <td>1.000000</td>\n",
       "    </tr>\n",
       "  </tbody>\n",
       "</table>\n",
       "</div>"
      ],
      "text/plain": [
       "            proportion     stars\n",
       "proportion    1.000000  0.141837\n",
       "stars         0.141837  1.000000"
      ]
     },
     "execution_count": 59,
     "metadata": {},
     "output_type": "execute_result"
    }
   ],
   "source": [
    "# compute correlation coeficient\n",
    "crab.loc[:,['proportion','stars']].corr()"
   ]
  },
  {
   "cell_type": "code",
   "execution_count": 60,
   "metadata": {},
   "outputs": [],
   "source": [
    "# save data\n",
    "crab.to_csv(\"crab.csv\",index=False)"
   ]
  },
  {
   "cell_type": "markdown",
   "metadata": {},
   "source": [
    "## shrimp"
   ]
  },
  {
   "cell_type": "code",
   "execution_count": 61,
   "metadata": {},
   "outputs": [],
   "source": [
    "# get adjectives near shrimp\n",
    "adj_shrimp=findadj('shrimp',clean_text)"
   ]
  },
  {
   "cell_type": "code",
   "execution_count": 63,
   "metadata": {},
   "outputs": [
    {
     "name": "stderr",
     "output_type": "stream",
     "text": [
      "C:\\Users\\GAO ZEJIN\\Anaconda3\\lib\\site-packages\\ipykernel_launcher.py:17: RuntimeWarning: invalid value encountered in longlong_scalars\n"
     ]
    },
    {
     "data": {
      "text/html": [
       "<div>\n",
       "<style scoped>\n",
       "    .dataframe tbody tr th:only-of-type {\n",
       "        vertical-align: middle;\n",
       "    }\n",
       "\n",
       "    .dataframe tbody tr th {\n",
       "        vertical-align: top;\n",
       "    }\n",
       "\n",
       "    .dataframe thead th {\n",
       "        text-align: right;\n",
       "    }\n",
       "</style>\n",
       "<table border=\"1\" class=\"dataframe\">\n",
       "  <thead>\n",
       "    <tr style=\"text-align: right;\">\n",
       "      <th></th>\n",
       "      <th>business_id</th>\n",
       "      <th>positive</th>\n",
       "      <th>negative</th>\n",
       "      <th>proportion</th>\n",
       "      <th>stars</th>\n",
       "    </tr>\n",
       "  </thead>\n",
       "  <tbody>\n",
       "    <tr>\n",
       "      <th>0</th>\n",
       "      <td>nsNONDHbV7Vudqh21uicqw</td>\n",
       "      <td>42</td>\n",
       "      <td>2</td>\n",
       "      <td>0.954545</td>\n",
       "      <td>3.5</td>\n",
       "    </tr>\n",
       "    <tr>\n",
       "      <th>1</th>\n",
       "      <td>F06m2yQSPHIrb1IT7heYeQ</td>\n",
       "      <td>0</td>\n",
       "      <td>0</td>\n",
       "      <td>NaN</td>\n",
       "      <td>4.0</td>\n",
       "    </tr>\n",
       "    <tr>\n",
       "      <th>2</th>\n",
       "      <td>c_FTil8s5PS2l_YJDQAXhA</td>\n",
       "      <td>0</td>\n",
       "      <td>0</td>\n",
       "      <td>NaN</td>\n",
       "      <td>4.0</td>\n",
       "    </tr>\n",
       "    <tr>\n",
       "      <th>3</th>\n",
       "      <td>vAbRNF0hJt91oCUpm_sdKw</td>\n",
       "      <td>2</td>\n",
       "      <td>0</td>\n",
       "      <td>1.000000</td>\n",
       "      <td>3.5</td>\n",
       "    </tr>\n",
       "    <tr>\n",
       "      <th>4</th>\n",
       "      <td>z8H4Mdzl4jS9pYswj6Jf9w</td>\n",
       "      <td>0</td>\n",
       "      <td>0</td>\n",
       "      <td>NaN</td>\n",
       "      <td>3.5</td>\n",
       "    </tr>\n",
       "  </tbody>\n",
       "</table>\n",
       "</div>"
      ],
      "text/plain": [
       "              business_id  positive  negative  proportion  stars\n",
       "0  nsNONDHbV7Vudqh21uicqw        42         2    0.954545    3.5\n",
       "1  F06m2yQSPHIrb1IT7heYeQ         0         0         NaN    4.0\n",
       "2  c_FTil8s5PS2l_YJDQAXhA         0         0         NaN    4.0\n",
       "3  vAbRNF0hJt91oCUpm_sdKw         2         0    1.000000    3.5\n",
       "4  z8H4Mdzl4jS9pYswj6Jf9w         0         0         NaN    3.5"
      ]
     },
     "execution_count": 63,
     "metadata": {},
     "output_type": "execute_result"
    }
   ],
   "source": [
    "# prepare empty data frame table\n",
    "shrimp=pd.DataFrame(review_bind['business_id'])\n",
    "shrimp['positive']=[0]*(len(review_bind))\n",
    "shrimp['negative']=[0]*len(review_bind)\n",
    "shrimp['proportion']=[np.nan]*len(review_bind)\n",
    "\n",
    "# count positive/negative adjectives near shrimp and compute positive proportion\n",
    "from collections import Counter\n",
    "\n",
    "for i in range(len(adj_shrimp)):\n",
    "    if(len(adj_shrimp[i]) != 0):\n",
    "        dictionary=Counter(adj_shrimp[i])\n",
    "        for word in dictionary.keys():\n",
    "            if (word in dict_adj.keys()):\n",
    "                if (dict_adj[word] == 'positive'):\n",
    "                    shrimp.iat[i,1]=shrimp['positive'][i]+dictionary[word]\n",
    "                else:\n",
    "                    shrimp.iat[i,2]=shrimp['negative'][i]+dictionary[word]\n",
    "        shrimp.iat[i,3]=shrimp['positive'][i]/(shrimp['positive'][i]+shrimp['negative'][i])\n",
    "\n",
    "shrimp['stars']=review_bind['stars']\n",
    "shrimp.head()"
   ]
  },
  {
   "cell_type": "code",
   "execution_count": 64,
   "metadata": {},
   "outputs": [
    {
     "name": "stdout",
     "output_type": "stream",
     "text": [
      "4379\n",
      "269\n"
     ]
    }
   ],
   "source": [
    "# compute total positive/negative tag\n",
    "print(np.sum(shrimp['positive']))\n",
    "print(np.sum(shrimp['negative']))"
   ]
  },
  {
   "cell_type": "code",
   "execution_count": 65,
   "metadata": {},
   "outputs": [
    {
     "data": {
      "text/html": [
       "<div>\n",
       "<style scoped>\n",
       "    .dataframe tbody tr th:only-of-type {\n",
       "        vertical-align: middle;\n",
       "    }\n",
       "\n",
       "    .dataframe tbody tr th {\n",
       "        vertical-align: top;\n",
       "    }\n",
       "\n",
       "    .dataframe thead th {\n",
       "        text-align: right;\n",
       "    }\n",
       "</style>\n",
       "<table border=\"1\" class=\"dataframe\">\n",
       "  <thead>\n",
       "    <tr style=\"text-align: right;\">\n",
       "      <th></th>\n",
       "      <th>proportion</th>\n",
       "      <th>stars</th>\n",
       "    </tr>\n",
       "  </thead>\n",
       "  <tbody>\n",
       "    <tr>\n",
       "      <th>proportion</th>\n",
       "      <td>1.000000</td>\n",
       "      <td>0.040376</td>\n",
       "    </tr>\n",
       "    <tr>\n",
       "      <th>stars</th>\n",
       "      <td>0.040376</td>\n",
       "      <td>1.000000</td>\n",
       "    </tr>\n",
       "  </tbody>\n",
       "</table>\n",
       "</div>"
      ],
      "text/plain": [
       "            proportion     stars\n",
       "proportion    1.000000  0.040376\n",
       "stars         0.040376  1.000000"
      ]
     },
     "execution_count": 65,
     "metadata": {},
     "output_type": "execute_result"
    }
   ],
   "source": [
    "# compute correlation coeficient\n",
    "shrimp.loc[:,['proportion','stars']].corr()"
   ]
  },
  {
   "cell_type": "code",
   "execution_count": 66,
   "metadata": {},
   "outputs": [],
   "source": [
    "# save data\n",
    "shrimp.to_csv(\"shrimp.csv\",index=False)"
   ]
  },
  {
   "cell_type": "markdown",
   "metadata": {},
   "source": [
    "## oyster"
   ]
  },
  {
   "cell_type": "code",
   "execution_count": 67,
   "metadata": {},
   "outputs": [],
   "source": [
    "# get adjectives near oyster\n",
    "adj_oyster=findadj('oyster',clean_text)"
   ]
  },
  {
   "cell_type": "code",
   "execution_count": 69,
   "metadata": {},
   "outputs": [
    {
     "name": "stderr",
     "output_type": "stream",
     "text": [
      "C:\\Users\\GAO ZEJIN\\Anaconda3\\lib\\site-packages\\ipykernel_launcher.py:17: RuntimeWarning: invalid value encountered in longlong_scalars\n"
     ]
    },
    {
     "data": {
      "text/html": [
       "<div>\n",
       "<style scoped>\n",
       "    .dataframe tbody tr th:only-of-type {\n",
       "        vertical-align: middle;\n",
       "    }\n",
       "\n",
       "    .dataframe tbody tr th {\n",
       "        vertical-align: top;\n",
       "    }\n",
       "\n",
       "    .dataframe thead th {\n",
       "        text-align: right;\n",
       "    }\n",
       "</style>\n",
       "<table border=\"1\" class=\"dataframe\">\n",
       "  <thead>\n",
       "    <tr style=\"text-align: right;\">\n",
       "      <th></th>\n",
       "      <th>business_id</th>\n",
       "      <th>positive</th>\n",
       "      <th>negative</th>\n",
       "      <th>proportion</th>\n",
       "      <th>stars</th>\n",
       "    </tr>\n",
       "  </thead>\n",
       "  <tbody>\n",
       "    <tr>\n",
       "      <th>0</th>\n",
       "      <td>nsNONDHbV7Vudqh21uicqw</td>\n",
       "      <td>41</td>\n",
       "      <td>2</td>\n",
       "      <td>0.953488</td>\n",
       "      <td>3.5</td>\n",
       "    </tr>\n",
       "    <tr>\n",
       "      <th>1</th>\n",
       "      <td>F06m2yQSPHIrb1IT7heYeQ</td>\n",
       "      <td>0</td>\n",
       "      <td>0</td>\n",
       "      <td>NaN</td>\n",
       "      <td>4.0</td>\n",
       "    </tr>\n",
       "    <tr>\n",
       "      <th>2</th>\n",
       "      <td>c_FTil8s5PS2l_YJDQAXhA</td>\n",
       "      <td>9</td>\n",
       "      <td>1</td>\n",
       "      <td>0.900000</td>\n",
       "      <td>4.0</td>\n",
       "    </tr>\n",
       "    <tr>\n",
       "      <th>3</th>\n",
       "      <td>vAbRNF0hJt91oCUpm_sdKw</td>\n",
       "      <td>1</td>\n",
       "      <td>0</td>\n",
       "      <td>1.000000</td>\n",
       "      <td>3.5</td>\n",
       "    </tr>\n",
       "    <tr>\n",
       "      <th>4</th>\n",
       "      <td>z8H4Mdzl4jS9pYswj6Jf9w</td>\n",
       "      <td>4</td>\n",
       "      <td>1</td>\n",
       "      <td>0.800000</td>\n",
       "      <td>3.5</td>\n",
       "    </tr>\n",
       "  </tbody>\n",
       "</table>\n",
       "</div>"
      ],
      "text/plain": [
       "              business_id  positive  negative  proportion  stars\n",
       "0  nsNONDHbV7Vudqh21uicqw        41         2    0.953488    3.5\n",
       "1  F06m2yQSPHIrb1IT7heYeQ         0         0         NaN    4.0\n",
       "2  c_FTil8s5PS2l_YJDQAXhA         9         1    0.900000    4.0\n",
       "3  vAbRNF0hJt91oCUpm_sdKw         1         0    1.000000    3.5\n",
       "4  z8H4Mdzl4jS9pYswj6Jf9w         4         1    0.800000    3.5"
      ]
     },
     "execution_count": 69,
     "metadata": {},
     "output_type": "execute_result"
    }
   ],
   "source": [
    "# prepare empty data frame table\n",
    "oyster=pd.DataFrame(review_bind['business_id'])\n",
    "oyster['positive']=[0]*(len(review_bind))\n",
    "oyster['negative']=[0]*len(review_bind)\n",
    "oyster['proportion']=[np.nan]*len(review_bind)\n",
    "\n",
    "# count positive/negative adjectives near oyster and compute positive proportion\n",
    "from collections import Counter\n",
    "\n",
    "for i in range(len(adj_oyster)):\n",
    "    if(len(adj_oyster[i]) != 0):\n",
    "        dictionary=Counter(adj_oyster[i])\n",
    "        for word in dictionary.keys():\n",
    "            if (word in dict_adj.keys()):\n",
    "                if (dict_adj[word] == 'positive'):\n",
    "                    oyster.iat[i,1]=oyster['positive'][i]+dictionary[word]\n",
    "                else:\n",
    "                    oyster.iat[i,2]=oyster['negative'][i]+dictionary[word]\n",
    "        oyster.iat[i,3]=oyster['positive'][i]/(oyster['positive'][i]+oyster['negative'][i])\n",
    "\n",
    "oyster['stars']=review_bind['stars']\n",
    "oyster.head()"
   ]
  },
  {
   "cell_type": "code",
   "execution_count": 70,
   "metadata": {},
   "outputs": [
    {
     "name": "stdout",
     "output_type": "stream",
     "text": [
      "3305\n",
      "180\n"
     ]
    }
   ],
   "source": [
    "# compute total positive/negative tag\n",
    "print(np.sum(oyster['positive']))\n",
    "print(np.sum(oyster['negative']))"
   ]
  },
  {
   "cell_type": "code",
   "execution_count": 71,
   "metadata": {},
   "outputs": [
    {
     "data": {
      "text/html": [
       "<div>\n",
       "<style scoped>\n",
       "    .dataframe tbody tr th:only-of-type {\n",
       "        vertical-align: middle;\n",
       "    }\n",
       "\n",
       "    .dataframe tbody tr th {\n",
       "        vertical-align: top;\n",
       "    }\n",
       "\n",
       "    .dataframe thead th {\n",
       "        text-align: right;\n",
       "    }\n",
       "</style>\n",
       "<table border=\"1\" class=\"dataframe\">\n",
       "  <thead>\n",
       "    <tr style=\"text-align: right;\">\n",
       "      <th></th>\n",
       "      <th>proportion</th>\n",
       "      <th>stars</th>\n",
       "    </tr>\n",
       "  </thead>\n",
       "  <tbody>\n",
       "    <tr>\n",
       "      <th>proportion</th>\n",
       "      <td>1.000000</td>\n",
       "      <td>0.032166</td>\n",
       "    </tr>\n",
       "    <tr>\n",
       "      <th>stars</th>\n",
       "      <td>0.032166</td>\n",
       "      <td>1.000000</td>\n",
       "    </tr>\n",
       "  </tbody>\n",
       "</table>\n",
       "</div>"
      ],
      "text/plain": [
       "            proportion     stars\n",
       "proportion    1.000000  0.032166\n",
       "stars         0.032166  1.000000"
      ]
     },
     "execution_count": 71,
     "metadata": {},
     "output_type": "execute_result"
    }
   ],
   "source": [
    "# compute correlation coeficient\n",
    "oyster.loc[:,['proportion','stars']].corr()"
   ]
  },
  {
   "cell_type": "code",
   "execution_count": 72,
   "metadata": {},
   "outputs": [],
   "source": [
    "# save data\n",
    "oyster.to_csv(\"oyster.csv\",index=False)"
   ]
  },
  {
   "cell_type": "markdown",
   "metadata": {},
   "source": [
    "## fish"
   ]
  },
  {
   "cell_type": "code",
   "execution_count": 73,
   "metadata": {},
   "outputs": [],
   "source": [
    "# get adjectives near fish\n",
    "adj_fish=findadj('fish',clean_text)"
   ]
  },
  {
   "cell_type": "code",
   "execution_count": 75,
   "metadata": {},
   "outputs": [
    {
     "name": "stderr",
     "output_type": "stream",
     "text": [
      "C:\\Users\\GAO ZEJIN\\Anaconda3\\lib\\site-packages\\ipykernel_launcher.py:17: RuntimeWarning: invalid value encountered in longlong_scalars\n"
     ]
    },
    {
     "data": {
      "text/html": [
       "<div>\n",
       "<style scoped>\n",
       "    .dataframe tbody tr th:only-of-type {\n",
       "        vertical-align: middle;\n",
       "    }\n",
       "\n",
       "    .dataframe tbody tr th {\n",
       "        vertical-align: top;\n",
       "    }\n",
       "\n",
       "    .dataframe thead th {\n",
       "        text-align: right;\n",
       "    }\n",
       "</style>\n",
       "<table border=\"1\" class=\"dataframe\">\n",
       "  <thead>\n",
       "    <tr style=\"text-align: right;\">\n",
       "      <th></th>\n",
       "      <th>business_id</th>\n",
       "      <th>positive</th>\n",
       "      <th>negative</th>\n",
       "      <th>proportion</th>\n",
       "      <th>stars</th>\n",
       "    </tr>\n",
       "  </thead>\n",
       "  <tbody>\n",
       "    <tr>\n",
       "      <th>0</th>\n",
       "      <td>nsNONDHbV7Vudqh21uicqw</td>\n",
       "      <td>32</td>\n",
       "      <td>3</td>\n",
       "      <td>0.914286</td>\n",
       "      <td>3.5</td>\n",
       "    </tr>\n",
       "    <tr>\n",
       "      <th>1</th>\n",
       "      <td>F06m2yQSPHIrb1IT7heYeQ</td>\n",
       "      <td>7</td>\n",
       "      <td>0</td>\n",
       "      <td>1.000000</td>\n",
       "      <td>4.0</td>\n",
       "    </tr>\n",
       "    <tr>\n",
       "      <th>2</th>\n",
       "      <td>c_FTil8s5PS2l_YJDQAXhA</td>\n",
       "      <td>3</td>\n",
       "      <td>0</td>\n",
       "      <td>1.000000</td>\n",
       "      <td>4.0</td>\n",
       "    </tr>\n",
       "    <tr>\n",
       "      <th>3</th>\n",
       "      <td>vAbRNF0hJt91oCUpm_sdKw</td>\n",
       "      <td>10</td>\n",
       "      <td>0</td>\n",
       "      <td>1.000000</td>\n",
       "      <td>3.5</td>\n",
       "    </tr>\n",
       "    <tr>\n",
       "      <th>4</th>\n",
       "      <td>z8H4Mdzl4jS9pYswj6Jf9w</td>\n",
       "      <td>19</td>\n",
       "      <td>0</td>\n",
       "      <td>1.000000</td>\n",
       "      <td>3.5</td>\n",
       "    </tr>\n",
       "  </tbody>\n",
       "</table>\n",
       "</div>"
      ],
      "text/plain": [
       "              business_id  positive  negative  proportion  stars\n",
       "0  nsNONDHbV7Vudqh21uicqw        32         3    0.914286    3.5\n",
       "1  F06m2yQSPHIrb1IT7heYeQ         7         0    1.000000    4.0\n",
       "2  c_FTil8s5PS2l_YJDQAXhA         3         0    1.000000    4.0\n",
       "3  vAbRNF0hJt91oCUpm_sdKw        10         0    1.000000    3.5\n",
       "4  z8H4Mdzl4jS9pYswj6Jf9w        19         0    1.000000    3.5"
      ]
     },
     "execution_count": 75,
     "metadata": {},
     "output_type": "execute_result"
    }
   ],
   "source": [
    "# prepare empty data frame table\n",
    "fish=pd.DataFrame(review_bind['business_id'])\n",
    "fish['positive']=[0]*(len(review_bind))\n",
    "fish['negative']=[0]*len(review_bind)\n",
    "fish['proportion']=[np.nan]*len(review_bind)\n",
    "\n",
    "# count positive/negative adjectives near fish and compute positive proportion\n",
    "from collections import Counter\n",
    "\n",
    "for i in range(len(adj_fish)):\n",
    "    if(len(adj_fish[i]) != 0):\n",
    "        dictionary=Counter(adj_fish[i])\n",
    "        for word in dictionary.keys():\n",
    "            if (word in dict_adj.keys()):\n",
    "                if (dict_adj[word] == 'positive'):\n",
    "                    fish.iat[i,1]=fish['positive'][i]+dictionary[word]\n",
    "                else:\n",
    "                    fish.iat[i,2]=fish['negative'][i]+dictionary[word]\n",
    "        fish.iat[i,3]=fish['positive'][i]/(fish['positive'][i]+fish['negative'][i])\n",
    "\n",
    "fish['stars']=review_bind['stars']\n",
    "fish.head()"
   ]
  },
  {
   "cell_type": "code",
   "execution_count": 76,
   "metadata": {},
   "outputs": [
    {
     "name": "stdout",
     "output_type": "stream",
     "text": [
      "6646\n",
      "558\n"
     ]
    }
   ],
   "source": [
    "# compute total positive/negative tag\n",
    "print(np.sum(fish['positive']))\n",
    "print(np.sum(fish['negative']))"
   ]
  },
  {
   "cell_type": "code",
   "execution_count": 77,
   "metadata": {},
   "outputs": [
    {
     "data": {
      "text/html": [
       "<div>\n",
       "<style scoped>\n",
       "    .dataframe tbody tr th:only-of-type {\n",
       "        vertical-align: middle;\n",
       "    }\n",
       "\n",
       "    .dataframe tbody tr th {\n",
       "        vertical-align: top;\n",
       "    }\n",
       "\n",
       "    .dataframe thead th {\n",
       "        text-align: right;\n",
       "    }\n",
       "</style>\n",
       "<table border=\"1\" class=\"dataframe\">\n",
       "  <thead>\n",
       "    <tr style=\"text-align: right;\">\n",
       "      <th></th>\n",
       "      <th>proportion</th>\n",
       "      <th>stars</th>\n",
       "    </tr>\n",
       "  </thead>\n",
       "  <tbody>\n",
       "    <tr>\n",
       "      <th>proportion</th>\n",
       "      <td>1.000000</td>\n",
       "      <td>0.269021</td>\n",
       "    </tr>\n",
       "    <tr>\n",
       "      <th>stars</th>\n",
       "      <td>0.269021</td>\n",
       "      <td>1.000000</td>\n",
       "    </tr>\n",
       "  </tbody>\n",
       "</table>\n",
       "</div>"
      ],
      "text/plain": [
       "            proportion     stars\n",
       "proportion    1.000000  0.269021\n",
       "stars         0.269021  1.000000"
      ]
     },
     "execution_count": 77,
     "metadata": {},
     "output_type": "execute_result"
    }
   ],
   "source": [
    "# compute correlation coeficient\n",
    "fish.loc[:,['proportion','stars']].corr()"
   ]
  },
  {
   "cell_type": "code",
   "execution_count": 78,
   "metadata": {},
   "outputs": [],
   "source": [
    "# save data\n",
    "fish.to_csv(\"fish.csv\",index=False)"
   ]
  },
  {
   "cell_type": "markdown",
   "metadata": {},
   "source": [
    "## clam"
   ]
  },
  {
   "cell_type": "code",
   "execution_count": 79,
   "metadata": {},
   "outputs": [],
   "source": [
    "# get adjectives near clam\n",
    "adj_clam=findadj('clam',clean_text)"
   ]
  },
  {
   "cell_type": "code",
   "execution_count": 81,
   "metadata": {},
   "outputs": [
    {
     "name": "stderr",
     "output_type": "stream",
     "text": [
      "C:\\Users\\GAO ZEJIN\\Anaconda3\\lib\\site-packages\\ipykernel_launcher.py:17: RuntimeWarning: invalid value encountered in longlong_scalars\n"
     ]
    },
    {
     "data": {
      "text/html": [
       "<div>\n",
       "<style scoped>\n",
       "    .dataframe tbody tr th:only-of-type {\n",
       "        vertical-align: middle;\n",
       "    }\n",
       "\n",
       "    .dataframe tbody tr th {\n",
       "        vertical-align: top;\n",
       "    }\n",
       "\n",
       "    .dataframe thead th {\n",
       "        text-align: right;\n",
       "    }\n",
       "</style>\n",
       "<table border=\"1\" class=\"dataframe\">\n",
       "  <thead>\n",
       "    <tr style=\"text-align: right;\">\n",
       "      <th></th>\n",
       "      <th>business_id</th>\n",
       "      <th>positive</th>\n",
       "      <th>negative</th>\n",
       "      <th>proportion</th>\n",
       "      <th>stars</th>\n",
       "    </tr>\n",
       "  </thead>\n",
       "  <tbody>\n",
       "    <tr>\n",
       "      <th>0</th>\n",
       "      <td>nsNONDHbV7Vudqh21uicqw</td>\n",
       "      <td>20</td>\n",
       "      <td>2</td>\n",
       "      <td>0.909091</td>\n",
       "      <td>3.5</td>\n",
       "    </tr>\n",
       "    <tr>\n",
       "      <th>1</th>\n",
       "      <td>F06m2yQSPHIrb1IT7heYeQ</td>\n",
       "      <td>4</td>\n",
       "      <td>0</td>\n",
       "      <td>1.000000</td>\n",
       "      <td>4.0</td>\n",
       "    </tr>\n",
       "    <tr>\n",
       "      <th>2</th>\n",
       "      <td>c_FTil8s5PS2l_YJDQAXhA</td>\n",
       "      <td>0</td>\n",
       "      <td>0</td>\n",
       "      <td>NaN</td>\n",
       "      <td>4.0</td>\n",
       "    </tr>\n",
       "    <tr>\n",
       "      <th>3</th>\n",
       "      <td>vAbRNF0hJt91oCUpm_sdKw</td>\n",
       "      <td>9</td>\n",
       "      <td>0</td>\n",
       "      <td>1.000000</td>\n",
       "      <td>3.5</td>\n",
       "    </tr>\n",
       "    <tr>\n",
       "      <th>4</th>\n",
       "      <td>z8H4Mdzl4jS9pYswj6Jf9w</td>\n",
       "      <td>0</td>\n",
       "      <td>0</td>\n",
       "      <td>NaN</td>\n",
       "      <td>3.5</td>\n",
       "    </tr>\n",
       "  </tbody>\n",
       "</table>\n",
       "</div>"
      ],
      "text/plain": [
       "              business_id  positive  negative  proportion  stars\n",
       "0  nsNONDHbV7Vudqh21uicqw        20         2    0.909091    3.5\n",
       "1  F06m2yQSPHIrb1IT7heYeQ         4         0    1.000000    4.0\n",
       "2  c_FTil8s5PS2l_YJDQAXhA         0         0         NaN    4.0\n",
       "3  vAbRNF0hJt91oCUpm_sdKw         9         0    1.000000    3.5\n",
       "4  z8H4Mdzl4jS9pYswj6Jf9w         0         0         NaN    3.5"
      ]
     },
     "execution_count": 81,
     "metadata": {},
     "output_type": "execute_result"
    }
   ],
   "source": [
    "# prepare empty data frame table\n",
    "clam=pd.DataFrame(review_bind['business_id'])\n",
    "clam['positive']=[0]*(len(review_bind))\n",
    "clam['negative']=[0]*len(review_bind)\n",
    "clam['proportion']=[np.nan]*len(review_bind)\n",
    "\n",
    "# count positive/negative adjectives near clam and compute positive proportion\n",
    "from collections import Counter\n",
    "\n",
    "for i in range(len(adj_clam)):\n",
    "    if(len(adj_clam[i]) != 0):\n",
    "        dictionary=Counter(adj_clam[i])\n",
    "        for word in dictionary.keys():\n",
    "            if (word in dict_adj.keys()):\n",
    "                if (dict_adj[word] == 'positive'):\n",
    "                    clam.iat[i,1]=clam['positive'][i]+dictionary[word]\n",
    "                else:\n",
    "                    clam.iat[i,2]=clam['negative'][i]+dictionary[word]\n",
    "        clam.iat[i,3]=clam['positive'][i]/(clam['positive'][i]+clam['negative'][i])\n",
    "\n",
    "clam['stars']=review_bind['stars']\n",
    "clam.head()"
   ]
  },
  {
   "cell_type": "code",
   "execution_count": 82,
   "metadata": {},
   "outputs": [
    {
     "name": "stdout",
     "output_type": "stream",
     "text": [
      "1154\n",
      "100\n"
     ]
    }
   ],
   "source": [
    "# compute total positive/negative tag\n",
    "print(np.sum(clam['positive']))\n",
    "print(np.sum(clam['negative']))"
   ]
  },
  {
   "cell_type": "code",
   "execution_count": 83,
   "metadata": {},
   "outputs": [
    {
     "data": {
      "text/html": [
       "<div>\n",
       "<style scoped>\n",
       "    .dataframe tbody tr th:only-of-type {\n",
       "        vertical-align: middle;\n",
       "    }\n",
       "\n",
       "    .dataframe tbody tr th {\n",
       "        vertical-align: top;\n",
       "    }\n",
       "\n",
       "    .dataframe thead th {\n",
       "        text-align: right;\n",
       "    }\n",
       "</style>\n",
       "<table border=\"1\" class=\"dataframe\">\n",
       "  <thead>\n",
       "    <tr style=\"text-align: right;\">\n",
       "      <th></th>\n",
       "      <th>proportion</th>\n",
       "      <th>stars</th>\n",
       "    </tr>\n",
       "  </thead>\n",
       "  <tbody>\n",
       "    <tr>\n",
       "      <th>proportion</th>\n",
       "      <td>1.000000</td>\n",
       "      <td>0.110865</td>\n",
       "    </tr>\n",
       "    <tr>\n",
       "      <th>stars</th>\n",
       "      <td>0.110865</td>\n",
       "      <td>1.000000</td>\n",
       "    </tr>\n",
       "  </tbody>\n",
       "</table>\n",
       "</div>"
      ],
      "text/plain": [
       "            proportion     stars\n",
       "proportion    1.000000  0.110865\n",
       "stars         0.110865  1.000000"
      ]
     },
     "execution_count": 83,
     "metadata": {},
     "output_type": "execute_result"
    }
   ],
   "source": [
    "# compute correlation coeficient\n",
    "clam.loc[:,['proportion','stars']].corr()"
   ]
  },
  {
   "cell_type": "code",
   "execution_count": 84,
   "metadata": {},
   "outputs": [],
   "source": [
    "# save data\n",
    "clam.to_csv(\"clam.csv\",index=False)"
   ]
  },
  {
   "cell_type": "markdown",
   "metadata": {},
   "source": [
    "## waiter"
   ]
  },
  {
   "cell_type": "code",
   "execution_count": 103,
   "metadata": {},
   "outputs": [],
   "source": [
    "# get adjectives near waiter\n",
    "adj_waiter=findadj('waiter',clean_text)"
   ]
  },
  {
   "cell_type": "code",
   "execution_count": 105,
   "metadata": {},
   "outputs": [
    {
     "name": "stderr",
     "output_type": "stream",
     "text": [
      "C:\\Users\\GAO ZEJIN\\Anaconda3\\lib\\site-packages\\ipykernel_launcher.py:17: RuntimeWarning: invalid value encountered in longlong_scalars\n"
     ]
    },
    {
     "data": {
      "text/html": [
       "<div>\n",
       "<style scoped>\n",
       "    .dataframe tbody tr th:only-of-type {\n",
       "        vertical-align: middle;\n",
       "    }\n",
       "\n",
       "    .dataframe tbody tr th {\n",
       "        vertical-align: top;\n",
       "    }\n",
       "\n",
       "    .dataframe thead th {\n",
       "        text-align: right;\n",
       "    }\n",
       "</style>\n",
       "<table border=\"1\" class=\"dataframe\">\n",
       "  <thead>\n",
       "    <tr style=\"text-align: right;\">\n",
       "      <th></th>\n",
       "      <th>business_id</th>\n",
       "      <th>positive</th>\n",
       "      <th>negative</th>\n",
       "      <th>proportion</th>\n",
       "      <th>stars</th>\n",
       "    </tr>\n",
       "  </thead>\n",
       "  <tbody>\n",
       "    <tr>\n",
       "      <th>0</th>\n",
       "      <td>nsNONDHbV7Vudqh21uicqw</td>\n",
       "      <td>12</td>\n",
       "      <td>1</td>\n",
       "      <td>0.923077</td>\n",
       "      <td>3.5</td>\n",
       "    </tr>\n",
       "    <tr>\n",
       "      <th>1</th>\n",
       "      <td>F06m2yQSPHIrb1IT7heYeQ</td>\n",
       "      <td>1</td>\n",
       "      <td>0</td>\n",
       "      <td>1.000000</td>\n",
       "      <td>4.0</td>\n",
       "    </tr>\n",
       "    <tr>\n",
       "      <th>2</th>\n",
       "      <td>c_FTil8s5PS2l_YJDQAXhA</td>\n",
       "      <td>1</td>\n",
       "      <td>0</td>\n",
       "      <td>1.000000</td>\n",
       "      <td>4.0</td>\n",
       "    </tr>\n",
       "    <tr>\n",
       "      <th>3</th>\n",
       "      <td>vAbRNF0hJt91oCUpm_sdKw</td>\n",
       "      <td>7</td>\n",
       "      <td>3</td>\n",
       "      <td>0.700000</td>\n",
       "      <td>3.5</td>\n",
       "    </tr>\n",
       "    <tr>\n",
       "      <th>4</th>\n",
       "      <td>z8H4Mdzl4jS9pYswj6Jf9w</td>\n",
       "      <td>2</td>\n",
       "      <td>2</td>\n",
       "      <td>0.500000</td>\n",
       "      <td>3.5</td>\n",
       "    </tr>\n",
       "  </tbody>\n",
       "</table>\n",
       "</div>"
      ],
      "text/plain": [
       "              business_id  positive  negative  proportion  stars\n",
       "0  nsNONDHbV7Vudqh21uicqw        12         1    0.923077    3.5\n",
       "1  F06m2yQSPHIrb1IT7heYeQ         1         0    1.000000    4.0\n",
       "2  c_FTil8s5PS2l_YJDQAXhA         1         0    1.000000    4.0\n",
       "3  vAbRNF0hJt91oCUpm_sdKw         7         3    0.700000    3.5\n",
       "4  z8H4Mdzl4jS9pYswj6Jf9w         2         2    0.500000    3.5"
      ]
     },
     "execution_count": 105,
     "metadata": {},
     "output_type": "execute_result"
    }
   ],
   "source": [
    "# prepare empty data frame table\n",
    "waiter=pd.DataFrame(review_bind['business_id'])\n",
    "waiter['positive']=[0]*(len(review_bind))\n",
    "waiter['negative']=[0]*len(review_bind)\n",
    "waiter['proportion']=[np.nan]*len(review_bind)\n",
    "\n",
    "# count positive/negative adjectives near waiter and compute positive proportion\n",
    "from collections import Counter\n",
    "\n",
    "for i in range(len(adj_waiter)):\n",
    "    if(len(adj_waiter[i]) != 0):\n",
    "        dictionary=Counter(adj_waiter[i])\n",
    "        for word in dictionary.keys():\n",
    "            if (word in dict_adj.keys()):\n",
    "                if (dict_adj[word] == 'positive'):\n",
    "                    waiter.iat[i,1]=waiter['positive'][i]+dictionary[word]\n",
    "                else:\n",
    "                    waiter.iat[i,2]=waiter['negative'][i]+dictionary[word]\n",
    "        waiter.iat[i,3]=waiter['positive'][i]/(waiter['positive'][i]+waiter['negative'][i])\n",
    "\n",
    "waiter['stars']=review_bind['stars']\n",
    "waiter.head()"
   ]
  },
  {
   "cell_type": "code",
   "execution_count": 106,
   "metadata": {},
   "outputs": [
    {
     "name": "stdout",
     "output_type": "stream",
     "text": [
      "1468\n",
      "267\n"
     ]
    }
   ],
   "source": [
    "# compute total positive/negative tag\n",
    "print(np.sum(waiter['positive']))\n",
    "print(np.sum(waiter['negative']))"
   ]
  },
  {
   "cell_type": "code",
   "execution_count": 107,
   "metadata": {},
   "outputs": [
    {
     "data": {
      "text/html": [
       "<div>\n",
       "<style scoped>\n",
       "    .dataframe tbody tr th:only-of-type {\n",
       "        vertical-align: middle;\n",
       "    }\n",
       "\n",
       "    .dataframe tbody tr th {\n",
       "        vertical-align: top;\n",
       "    }\n",
       "\n",
       "    .dataframe thead th {\n",
       "        text-align: right;\n",
       "    }\n",
       "</style>\n",
       "<table border=\"1\" class=\"dataframe\">\n",
       "  <thead>\n",
       "    <tr style=\"text-align: right;\">\n",
       "      <th></th>\n",
       "      <th>proportion</th>\n",
       "      <th>stars</th>\n",
       "    </tr>\n",
       "  </thead>\n",
       "  <tbody>\n",
       "    <tr>\n",
       "      <th>proportion</th>\n",
       "      <td>1.000000</td>\n",
       "      <td>0.267945</td>\n",
       "    </tr>\n",
       "    <tr>\n",
       "      <th>stars</th>\n",
       "      <td>0.267945</td>\n",
       "      <td>1.000000</td>\n",
       "    </tr>\n",
       "  </tbody>\n",
       "</table>\n",
       "</div>"
      ],
      "text/plain": [
       "            proportion     stars\n",
       "proportion    1.000000  0.267945\n",
       "stars         0.267945  1.000000"
      ]
     },
     "execution_count": 107,
     "metadata": {},
     "output_type": "execute_result"
    }
   ],
   "source": [
    "# compute correlation coeficient\n",
    "waiter.loc[:,['proportion','stars']].corr()"
   ]
  },
  {
   "cell_type": "code",
   "execution_count": 108,
   "metadata": {},
   "outputs": [],
   "source": [
    "# save data\n",
    "waiter.to_csv(\"waiter.csv\",index=False)"
   ]
  },
  {
   "cell_type": "markdown",
   "metadata": {},
   "source": [
    "## waitress"
   ]
  },
  {
   "cell_type": "code",
   "execution_count": 109,
   "metadata": {},
   "outputs": [],
   "source": [
    "# get adjectives near waitress\n",
    "adj_waitress=findadj('waitress',clean_text)"
   ]
  },
  {
   "cell_type": "code",
   "execution_count": 111,
   "metadata": {},
   "outputs": [
    {
     "name": "stderr",
     "output_type": "stream",
     "text": [
      "C:\\Users\\GAO ZEJIN\\Anaconda3\\lib\\site-packages\\ipykernel_launcher.py:17: RuntimeWarning: invalid value encountered in longlong_scalars\n"
     ]
    },
    {
     "data": {
      "text/html": [
       "<div>\n",
       "<style scoped>\n",
       "    .dataframe tbody tr th:only-of-type {\n",
       "        vertical-align: middle;\n",
       "    }\n",
       "\n",
       "    .dataframe tbody tr th {\n",
       "        vertical-align: top;\n",
       "    }\n",
       "\n",
       "    .dataframe thead th {\n",
       "        text-align: right;\n",
       "    }\n",
       "</style>\n",
       "<table border=\"1\" class=\"dataframe\">\n",
       "  <thead>\n",
       "    <tr style=\"text-align: right;\">\n",
       "      <th></th>\n",
       "      <th>business_id</th>\n",
       "      <th>positive</th>\n",
       "      <th>negative</th>\n",
       "      <th>proportion</th>\n",
       "      <th>stars</th>\n",
       "    </tr>\n",
       "  </thead>\n",
       "  <tbody>\n",
       "    <tr>\n",
       "      <th>0</th>\n",
       "      <td>nsNONDHbV7Vudqh21uicqw</td>\n",
       "      <td>9</td>\n",
       "      <td>2</td>\n",
       "      <td>0.818182</td>\n",
       "      <td>3.5</td>\n",
       "    </tr>\n",
       "    <tr>\n",
       "      <th>1</th>\n",
       "      <td>F06m2yQSPHIrb1IT7heYeQ</td>\n",
       "      <td>3</td>\n",
       "      <td>1</td>\n",
       "      <td>0.750000</td>\n",
       "      <td>4.0</td>\n",
       "    </tr>\n",
       "    <tr>\n",
       "      <th>2</th>\n",
       "      <td>c_FTil8s5PS2l_YJDQAXhA</td>\n",
       "      <td>1</td>\n",
       "      <td>0</td>\n",
       "      <td>1.000000</td>\n",
       "      <td>4.0</td>\n",
       "    </tr>\n",
       "    <tr>\n",
       "      <th>3</th>\n",
       "      <td>vAbRNF0hJt91oCUpm_sdKw</td>\n",
       "      <td>1</td>\n",
       "      <td>0</td>\n",
       "      <td>1.000000</td>\n",
       "      <td>3.5</td>\n",
       "    </tr>\n",
       "    <tr>\n",
       "      <th>4</th>\n",
       "      <td>z8H4Mdzl4jS9pYswj6Jf9w</td>\n",
       "      <td>4</td>\n",
       "      <td>0</td>\n",
       "      <td>1.000000</td>\n",
       "      <td>3.5</td>\n",
       "    </tr>\n",
       "  </tbody>\n",
       "</table>\n",
       "</div>"
      ],
      "text/plain": [
       "              business_id  positive  negative  proportion  stars\n",
       "0  nsNONDHbV7Vudqh21uicqw         9         2    0.818182    3.5\n",
       "1  F06m2yQSPHIrb1IT7heYeQ         3         1    0.750000    4.0\n",
       "2  c_FTil8s5PS2l_YJDQAXhA         1         0    1.000000    4.0\n",
       "3  vAbRNF0hJt91oCUpm_sdKw         1         0    1.000000    3.5\n",
       "4  z8H4Mdzl4jS9pYswj6Jf9w         4         0    1.000000    3.5"
      ]
     },
     "execution_count": 111,
     "metadata": {},
     "output_type": "execute_result"
    }
   ],
   "source": [
    "# prepare empty data frame table\n",
    "waitress=pd.DataFrame(review_bind['business_id'])\n",
    "waitress['positive']=[0]*(len(review_bind))\n",
    "waitress['negative']=[0]*len(review_bind)\n",
    "waitress['proportion']=[np.nan]*len(review_bind)\n",
    "\n",
    "# count positive/negative adjectives near waitress and compute positive proportion\n",
    "from collections import Counter\n",
    "\n",
    "for i in range(len(adj_waitress)):\n",
    "    if(len(adj_waitress[i]) != 0):\n",
    "        dictionary=Counter(adj_waitress[i])\n",
    "        for word in dictionary.keys():\n",
    "            if (word in dict_adj.keys()):\n",
    "                if (dict_adj[word] == 'positive'):\n",
    "                    waitress.iat[i,1]=waitress['positive'][i]+dictionary[word]\n",
    "                else:\n",
    "                    waitress.iat[i,2]=waitress['negative'][i]+dictionary[word]\n",
    "        waitress.iat[i,3]=waitress['positive'][i]/(waitress['positive'][i]+waitress['negative'][i])\n",
    "\n",
    "waitress['stars']=review_bind['stars']\n",
    "waitress.head()"
   ]
  },
  {
   "cell_type": "code",
   "execution_count": 112,
   "metadata": {},
   "outputs": [
    {
     "name": "stdout",
     "output_type": "stream",
     "text": [
      "1424\n",
      "284\n"
     ]
    }
   ],
   "source": [
    "# compute total positive/negative tag\n",
    "print(np.sum(waitress['positive']))\n",
    "print(np.sum(waitress['negative']))"
   ]
  },
  {
   "cell_type": "code",
   "execution_count": 113,
   "metadata": {},
   "outputs": [
    {
     "data": {
      "text/html": [
       "<div>\n",
       "<style scoped>\n",
       "    .dataframe tbody tr th:only-of-type {\n",
       "        vertical-align: middle;\n",
       "    }\n",
       "\n",
       "    .dataframe tbody tr th {\n",
       "        vertical-align: top;\n",
       "    }\n",
       "\n",
       "    .dataframe thead th {\n",
       "        text-align: right;\n",
       "    }\n",
       "</style>\n",
       "<table border=\"1\" class=\"dataframe\">\n",
       "  <thead>\n",
       "    <tr style=\"text-align: right;\">\n",
       "      <th></th>\n",
       "      <th>proportion</th>\n",
       "      <th>stars</th>\n",
       "    </tr>\n",
       "  </thead>\n",
       "  <tbody>\n",
       "    <tr>\n",
       "      <th>proportion</th>\n",
       "      <td>1.000000</td>\n",
       "      <td>0.164274</td>\n",
       "    </tr>\n",
       "    <tr>\n",
       "      <th>stars</th>\n",
       "      <td>0.164274</td>\n",
       "      <td>1.000000</td>\n",
       "    </tr>\n",
       "  </tbody>\n",
       "</table>\n",
       "</div>"
      ],
      "text/plain": [
       "            proportion     stars\n",
       "proportion    1.000000  0.164274\n",
       "stars         0.164274  1.000000"
      ]
     },
     "execution_count": 113,
     "metadata": {},
     "output_type": "execute_result"
    }
   ],
   "source": [
    "# compute correlation coeficient\n",
    "waitress.loc[:,['proportion','stars']].corr()"
   ]
  },
  {
   "cell_type": "code",
   "execution_count": 114,
   "metadata": {},
   "outputs": [],
   "source": [
    "# save data\n",
    "waitress.to_csv(\"waitress.csv\",index=False)"
   ]
  },
  {
   "cell_type": "markdown",
   "metadata": {},
   "source": [
    "## chef"
   ]
  },
  {
   "cell_type": "code",
   "execution_count": 115,
   "metadata": {},
   "outputs": [],
   "source": [
    "# get adjectives near chef\n",
    "adj_chef=findadj('chef',clean_text)"
   ]
  },
  {
   "cell_type": "code",
   "execution_count": 117,
   "metadata": {},
   "outputs": [
    {
     "name": "stderr",
     "output_type": "stream",
     "text": [
      "C:\\Users\\GAO ZEJIN\\Anaconda3\\lib\\site-packages\\ipykernel_launcher.py:17: RuntimeWarning: invalid value encountered in longlong_scalars\n"
     ]
    },
    {
     "data": {
      "text/html": [
       "<div>\n",
       "<style scoped>\n",
       "    .dataframe tbody tr th:only-of-type {\n",
       "        vertical-align: middle;\n",
       "    }\n",
       "\n",
       "    .dataframe tbody tr th {\n",
       "        vertical-align: top;\n",
       "    }\n",
       "\n",
       "    .dataframe thead th {\n",
       "        text-align: right;\n",
       "    }\n",
       "</style>\n",
       "<table border=\"1\" class=\"dataframe\">\n",
       "  <thead>\n",
       "    <tr style=\"text-align: right;\">\n",
       "      <th></th>\n",
       "      <th>business_id</th>\n",
       "      <th>positive</th>\n",
       "      <th>negative</th>\n",
       "      <th>proportion</th>\n",
       "      <th>stars</th>\n",
       "    </tr>\n",
       "  </thead>\n",
       "  <tbody>\n",
       "    <tr>\n",
       "      <th>0</th>\n",
       "      <td>nsNONDHbV7Vudqh21uicqw</td>\n",
       "      <td>2</td>\n",
       "      <td>0</td>\n",
       "      <td>1.0</td>\n",
       "      <td>3.5</td>\n",
       "    </tr>\n",
       "    <tr>\n",
       "      <th>1</th>\n",
       "      <td>F06m2yQSPHIrb1IT7heYeQ</td>\n",
       "      <td>1</td>\n",
       "      <td>0</td>\n",
       "      <td>1.0</td>\n",
       "      <td>4.0</td>\n",
       "    </tr>\n",
       "    <tr>\n",
       "      <th>2</th>\n",
       "      <td>c_FTil8s5PS2l_YJDQAXhA</td>\n",
       "      <td>0</td>\n",
       "      <td>0</td>\n",
       "      <td>NaN</td>\n",
       "      <td>4.0</td>\n",
       "    </tr>\n",
       "    <tr>\n",
       "      <th>3</th>\n",
       "      <td>vAbRNF0hJt91oCUpm_sdKw</td>\n",
       "      <td>1</td>\n",
       "      <td>0</td>\n",
       "      <td>1.0</td>\n",
       "      <td>3.5</td>\n",
       "    </tr>\n",
       "    <tr>\n",
       "      <th>4</th>\n",
       "      <td>z8H4Mdzl4jS9pYswj6Jf9w</td>\n",
       "      <td>3</td>\n",
       "      <td>0</td>\n",
       "      <td>1.0</td>\n",
       "      <td>3.5</td>\n",
       "    </tr>\n",
       "  </tbody>\n",
       "</table>\n",
       "</div>"
      ],
      "text/plain": [
       "              business_id  positive  negative  proportion  stars\n",
       "0  nsNONDHbV7Vudqh21uicqw         2         0         1.0    3.5\n",
       "1  F06m2yQSPHIrb1IT7heYeQ         1         0         1.0    4.0\n",
       "2  c_FTil8s5PS2l_YJDQAXhA         0         0         NaN    4.0\n",
       "3  vAbRNF0hJt91oCUpm_sdKw         1         0         1.0    3.5\n",
       "4  z8H4Mdzl4jS9pYswj6Jf9w         3         0         1.0    3.5"
      ]
     },
     "execution_count": 117,
     "metadata": {},
     "output_type": "execute_result"
    }
   ],
   "source": [
    "# prepare empty data frame table\n",
    "chef=pd.DataFrame(review_bind['business_id'])\n",
    "chef['positive']=[0]*(len(review_bind))\n",
    "chef['negative']=[0]*len(review_bind)\n",
    "chef['proportion']=[np.nan]*len(review_bind)\n",
    "\n",
    "# count positive/negative adjectives near chef and compute positive proportion\n",
    "from collections import Counter\n",
    "\n",
    "for i in range(len(adj_chef)):\n",
    "    if(len(adj_chef[i]) != 0):\n",
    "        dictionary=Counter(adj_chef[i])\n",
    "        for word in dictionary.keys():\n",
    "            if (word in dict_adj.keys()):\n",
    "                if (dict_adj[word] == 'positive'):\n",
    "                    chef.iat[i,1]=chef['positive'][i]+dictionary[word]\n",
    "                else:\n",
    "                    chef.iat[i,2]=chef['negative'][i]+dictionary[word]\n",
    "        chef.iat[i,3]=chef['positive'][i]/(chef['positive'][i]+chef['negative'][i])\n",
    "\n",
    "chef['stars']=review_bind['stars']\n",
    "chef.head()"
   ]
  },
  {
   "cell_type": "code",
   "execution_count": 118,
   "metadata": {},
   "outputs": [
    {
     "name": "stdout",
     "output_type": "stream",
     "text": [
      "818\n",
      "48\n"
     ]
    }
   ],
   "source": [
    "# compute total positive/negative tag\n",
    "print(np.sum(chef['positive']))\n",
    "print(np.sum(chef['negative']))"
   ]
  },
  {
   "cell_type": "code",
   "execution_count": 119,
   "metadata": {},
   "outputs": [
    {
     "data": {
      "text/html": [
       "<div>\n",
       "<style scoped>\n",
       "    .dataframe tbody tr th:only-of-type {\n",
       "        vertical-align: middle;\n",
       "    }\n",
       "\n",
       "    .dataframe tbody tr th {\n",
       "        vertical-align: top;\n",
       "    }\n",
       "\n",
       "    .dataframe thead th {\n",
       "        text-align: right;\n",
       "    }\n",
       "</style>\n",
       "<table border=\"1\" class=\"dataframe\">\n",
       "  <thead>\n",
       "    <tr style=\"text-align: right;\">\n",
       "      <th></th>\n",
       "      <th>proportion</th>\n",
       "      <th>stars</th>\n",
       "    </tr>\n",
       "  </thead>\n",
       "  <tbody>\n",
       "    <tr>\n",
       "      <th>proportion</th>\n",
       "      <td>1.000000</td>\n",
       "      <td>0.252342</td>\n",
       "    </tr>\n",
       "    <tr>\n",
       "      <th>stars</th>\n",
       "      <td>0.252342</td>\n",
       "      <td>1.000000</td>\n",
       "    </tr>\n",
       "  </tbody>\n",
       "</table>\n",
       "</div>"
      ],
      "text/plain": [
       "            proportion     stars\n",
       "proportion    1.000000  0.252342\n",
       "stars         0.252342  1.000000"
      ]
     },
     "execution_count": 119,
     "metadata": {},
     "output_type": "execute_result"
    }
   ],
   "source": [
    "# compute correlation coeficient\n",
    "chef.loc[:,['proportion','stars']].corr()"
   ]
  },
  {
   "cell_type": "code",
   "execution_count": 120,
   "metadata": {},
   "outputs": [],
   "source": [
    "# save data\n",
    "chef.to_csv(\"chef.csv\",index=False)"
   ]
  },
  {
   "cell_type": "markdown",
   "metadata": {},
   "source": [
    "## manager"
   ]
  },
  {
   "cell_type": "code",
   "execution_count": 121,
   "metadata": {},
   "outputs": [],
   "source": [
    "# get adjectives near manager\n",
    "adj_manager=findadj('manager',clean_text)"
   ]
  },
  {
   "cell_type": "code",
   "execution_count": 123,
   "metadata": {},
   "outputs": [
    {
     "name": "stderr",
     "output_type": "stream",
     "text": [
      "C:\\Users\\GAO ZEJIN\\Anaconda3\\lib\\site-packages\\ipykernel_launcher.py:17: RuntimeWarning: invalid value encountered in longlong_scalars\n"
     ]
    },
    {
     "data": {
      "text/html": [
       "<div>\n",
       "<style scoped>\n",
       "    .dataframe tbody tr th:only-of-type {\n",
       "        vertical-align: middle;\n",
       "    }\n",
       "\n",
       "    .dataframe tbody tr th {\n",
       "        vertical-align: top;\n",
       "    }\n",
       "\n",
       "    .dataframe thead th {\n",
       "        text-align: right;\n",
       "    }\n",
       "</style>\n",
       "<table border=\"1\" class=\"dataframe\">\n",
       "  <thead>\n",
       "    <tr style=\"text-align: right;\">\n",
       "      <th></th>\n",
       "      <th>business_id</th>\n",
       "      <th>positive</th>\n",
       "      <th>negative</th>\n",
       "      <th>proportion</th>\n",
       "      <th>stars</th>\n",
       "    </tr>\n",
       "  </thead>\n",
       "  <tbody>\n",
       "    <tr>\n",
       "      <th>0</th>\n",
       "      <td>nsNONDHbV7Vudqh21uicqw</td>\n",
       "      <td>2</td>\n",
       "      <td>2</td>\n",
       "      <td>0.5</td>\n",
       "      <td>3.5</td>\n",
       "    </tr>\n",
       "    <tr>\n",
       "      <th>1</th>\n",
       "      <td>F06m2yQSPHIrb1IT7heYeQ</td>\n",
       "      <td>0</td>\n",
       "      <td>0</td>\n",
       "      <td>NaN</td>\n",
       "      <td>4.0</td>\n",
       "    </tr>\n",
       "    <tr>\n",
       "      <th>2</th>\n",
       "      <td>c_FTil8s5PS2l_YJDQAXhA</td>\n",
       "      <td>1</td>\n",
       "      <td>0</td>\n",
       "      <td>1.0</td>\n",
       "      <td>4.0</td>\n",
       "    </tr>\n",
       "    <tr>\n",
       "      <th>3</th>\n",
       "      <td>vAbRNF0hJt91oCUpm_sdKw</td>\n",
       "      <td>0</td>\n",
       "      <td>0</td>\n",
       "      <td>NaN</td>\n",
       "      <td>3.5</td>\n",
       "    </tr>\n",
       "    <tr>\n",
       "      <th>4</th>\n",
       "      <td>z8H4Mdzl4jS9pYswj6Jf9w</td>\n",
       "      <td>1</td>\n",
       "      <td>0</td>\n",
       "      <td>1.0</td>\n",
       "      <td>3.5</td>\n",
       "    </tr>\n",
       "  </tbody>\n",
       "</table>\n",
       "</div>"
      ],
      "text/plain": [
       "              business_id  positive  negative  proportion  stars\n",
       "0  nsNONDHbV7Vudqh21uicqw         2         2         0.5    3.5\n",
       "1  F06m2yQSPHIrb1IT7heYeQ         0         0         NaN    4.0\n",
       "2  c_FTil8s5PS2l_YJDQAXhA         1         0         1.0    4.0\n",
       "3  vAbRNF0hJt91oCUpm_sdKw         0         0         NaN    3.5\n",
       "4  z8H4Mdzl4jS9pYswj6Jf9w         1         0         1.0    3.5"
      ]
     },
     "execution_count": 123,
     "metadata": {},
     "output_type": "execute_result"
    }
   ],
   "source": [
    "# prepare empty data frame table\n",
    "manager=pd.DataFrame(review_bind['business_id'])\n",
    "manager['positive']=[0]*(len(review_bind))\n",
    "manager['negative']=[0]*len(review_bind)\n",
    "manager['proportion']=[np.nan]*len(review_bind)\n",
    "\n",
    "# count positive/negative adjectives near manager and compute positive proportion\n",
    "from collections import Counter\n",
    "\n",
    "for i in range(len(adj_manager)):\n",
    "    if(len(adj_manager[i]) != 0):\n",
    "        dictionary=Counter(adj_manager[i])\n",
    "        for word in dictionary.keys():\n",
    "            if (word in dict_adj.keys()):\n",
    "                if (dict_adj[word] == 'positive'):\n",
    "                    manager.iat[i,1]=manager['positive'][i]+dictionary[word]\n",
    "                else:\n",
    "                    manager.iat[i,2]=manager['negative'][i]+dictionary[word]\n",
    "        manager.iat[i,3]=manager['positive'][i]/(manager['positive'][i]+manager['negative'][i])\n",
    "\n",
    "manager['stars']=review_bind['stars']\n",
    "manager.head()"
   ]
  },
  {
   "cell_type": "code",
   "execution_count": 124,
   "metadata": {},
   "outputs": [
    {
     "name": "stdout",
     "output_type": "stream",
     "text": [
      "586\n",
      "263\n"
     ]
    }
   ],
   "source": [
    "# compute total positive/negative tag\n",
    "print(np.sum(manager['positive']))\n",
    "print(np.sum(manager['negative']))"
   ]
  },
  {
   "cell_type": "code",
   "execution_count": 125,
   "metadata": {},
   "outputs": [
    {
     "data": {
      "text/html": [
       "<div>\n",
       "<style scoped>\n",
       "    .dataframe tbody tr th:only-of-type {\n",
       "        vertical-align: middle;\n",
       "    }\n",
       "\n",
       "    .dataframe tbody tr th {\n",
       "        vertical-align: top;\n",
       "    }\n",
       "\n",
       "    .dataframe thead th {\n",
       "        text-align: right;\n",
       "    }\n",
       "</style>\n",
       "<table border=\"1\" class=\"dataframe\">\n",
       "  <thead>\n",
       "    <tr style=\"text-align: right;\">\n",
       "      <th></th>\n",
       "      <th>proportion</th>\n",
       "      <th>stars</th>\n",
       "    </tr>\n",
       "  </thead>\n",
       "  <tbody>\n",
       "    <tr>\n",
       "      <th>proportion</th>\n",
       "      <td>1.000000</td>\n",
       "      <td>0.209061</td>\n",
       "    </tr>\n",
       "    <tr>\n",
       "      <th>stars</th>\n",
       "      <td>0.209061</td>\n",
       "      <td>1.000000</td>\n",
       "    </tr>\n",
       "  </tbody>\n",
       "</table>\n",
       "</div>"
      ],
      "text/plain": [
       "            proportion     stars\n",
       "proportion    1.000000  0.209061\n",
       "stars         0.209061  1.000000"
      ]
     },
     "execution_count": 125,
     "metadata": {},
     "output_type": "execute_result"
    }
   ],
   "source": [
    "# compute correlation coeficient\n",
    "manager.loc[:,['proportion','stars']].corr()"
   ]
  },
  {
   "cell_type": "code",
   "execution_count": 126,
   "metadata": {},
   "outputs": [],
   "source": [
    "# save data\n",
    "manager.to_csv(\"manager.csv\",index=False)"
   ]
  },
  {
   "cell_type": "markdown",
   "metadata": {},
   "source": [
    "## service"
   ]
  },
  {
   "cell_type": "code",
   "execution_count": 151,
   "metadata": {},
   "outputs": [],
   "source": [
    "# get adjectives near service\n",
    "adj_service=findadj('service',clean_text)"
   ]
  },
  {
   "cell_type": "code",
   "execution_count": 153,
   "metadata": {},
   "outputs": [
    {
     "data": {
      "text/html": [
       "<div>\n",
       "<style scoped>\n",
       "    .dataframe tbody tr th:only-of-type {\n",
       "        vertical-align: middle;\n",
       "    }\n",
       "\n",
       "    .dataframe tbody tr th {\n",
       "        vertical-align: top;\n",
       "    }\n",
       "\n",
       "    .dataframe thead th {\n",
       "        text-align: right;\n",
       "    }\n",
       "</style>\n",
       "<table border=\"1\" class=\"dataframe\">\n",
       "  <thead>\n",
       "    <tr style=\"text-align: right;\">\n",
       "      <th></th>\n",
       "      <th>business_id</th>\n",
       "      <th>positive</th>\n",
       "      <th>negative</th>\n",
       "      <th>proportion</th>\n",
       "      <th>stars</th>\n",
       "    </tr>\n",
       "  </thead>\n",
       "  <tbody>\n",
       "    <tr>\n",
       "      <th>0</th>\n",
       "      <td>nsNONDHbV7Vudqh21uicqw</td>\n",
       "      <td>94</td>\n",
       "      <td>21</td>\n",
       "      <td>0.817391</td>\n",
       "      <td>3.5</td>\n",
       "    </tr>\n",
       "    <tr>\n",
       "      <th>1</th>\n",
       "      <td>F06m2yQSPHIrb1IT7heYeQ</td>\n",
       "      <td>13</td>\n",
       "      <td>3</td>\n",
       "      <td>0.812500</td>\n",
       "      <td>4.0</td>\n",
       "    </tr>\n",
       "    <tr>\n",
       "      <th>2</th>\n",
       "      <td>c_FTil8s5PS2l_YJDQAXhA</td>\n",
       "      <td>13</td>\n",
       "      <td>1</td>\n",
       "      <td>0.928571</td>\n",
       "      <td>4.0</td>\n",
       "    </tr>\n",
       "    <tr>\n",
       "      <th>3</th>\n",
       "      <td>vAbRNF0hJt91oCUpm_sdKw</td>\n",
       "      <td>20</td>\n",
       "      <td>7</td>\n",
       "      <td>0.740741</td>\n",
       "      <td>3.5</td>\n",
       "    </tr>\n",
       "    <tr>\n",
       "      <th>4</th>\n",
       "      <td>z8H4Mdzl4jS9pYswj6Jf9w</td>\n",
       "      <td>34</td>\n",
       "      <td>2</td>\n",
       "      <td>0.944444</td>\n",
       "      <td>3.5</td>\n",
       "    </tr>\n",
       "  </tbody>\n",
       "</table>\n",
       "</div>"
      ],
      "text/plain": [
       "              business_id  positive  negative  proportion  stars\n",
       "0  nsNONDHbV7Vudqh21uicqw        94        21    0.817391    3.5\n",
       "1  F06m2yQSPHIrb1IT7heYeQ        13         3    0.812500    4.0\n",
       "2  c_FTil8s5PS2l_YJDQAXhA        13         1    0.928571    4.0\n",
       "3  vAbRNF0hJt91oCUpm_sdKw        20         7    0.740741    3.5\n",
       "4  z8H4Mdzl4jS9pYswj6Jf9w        34         2    0.944444    3.5"
      ]
     },
     "execution_count": 153,
     "metadata": {},
     "output_type": "execute_result"
    }
   ],
   "source": [
    "# prepare empty data frame table\n",
    "service=pd.DataFrame(review_bind['business_id'])\n",
    "service['positive']=[0]*(len(review_bind))\n",
    "service['negative']=[0]*len(review_bind)\n",
    "service['proportion']=[np.nan]*len(review_bind)\n",
    "\n",
    "# count positive/negative adjectives near service and compute positive proportion\n",
    "from collections import Counter\n",
    "\n",
    "for i in range(len(adj_service)):\n",
    "    if(len(adj_service[i]) != 0):\n",
    "        dictionary=Counter(adj_service[i])\n",
    "        for word in dictionary.keys():\n",
    "            if (word in dict_adj.keys()):\n",
    "                if (dict_adj[word] == 'positive'):\n",
    "                    service.iat[i,1]=service['positive'][i]+dictionary[word]\n",
    "                else:\n",
    "                    service.iat[i,2]=service['negative'][i]+dictionary[word]\n",
    "        service.iat[i,3]=service['positive'][i]/(service['positive'][i]+service['negative'][i])\n",
    "\n",
    "service['stars']=review_bind['stars']\n",
    "service.head()"
   ]
  },
  {
   "cell_type": "code",
   "execution_count": 154,
   "metadata": {},
   "outputs": [
    {
     "name": "stdout",
     "output_type": "stream",
     "text": [
      "15458\n",
      "3162\n"
     ]
    }
   ],
   "source": [
    "# compute total positive/negative tag\n",
    "print(np.sum(service['positive']))\n",
    "print(np.sum(service['negative']))"
   ]
  },
  {
   "cell_type": "code",
   "execution_count": 155,
   "metadata": {},
   "outputs": [
    {
     "data": {
      "text/html": [
       "<div>\n",
       "<style scoped>\n",
       "    .dataframe tbody tr th:only-of-type {\n",
       "        vertical-align: middle;\n",
       "    }\n",
       "\n",
       "    .dataframe tbody tr th {\n",
       "        vertical-align: top;\n",
       "    }\n",
       "\n",
       "    .dataframe thead th {\n",
       "        text-align: right;\n",
       "    }\n",
       "</style>\n",
       "<table border=\"1\" class=\"dataframe\">\n",
       "  <thead>\n",
       "    <tr style=\"text-align: right;\">\n",
       "      <th></th>\n",
       "      <th>proportion</th>\n",
       "      <th>stars</th>\n",
       "    </tr>\n",
       "  </thead>\n",
       "  <tbody>\n",
       "    <tr>\n",
       "      <th>proportion</th>\n",
       "      <td>1.000000</td>\n",
       "      <td>0.580465</td>\n",
       "    </tr>\n",
       "    <tr>\n",
       "      <th>stars</th>\n",
       "      <td>0.580465</td>\n",
       "      <td>1.000000</td>\n",
       "    </tr>\n",
       "  </tbody>\n",
       "</table>\n",
       "</div>"
      ],
      "text/plain": [
       "            proportion     stars\n",
       "proportion    1.000000  0.580465\n",
       "stars         0.580465  1.000000"
      ]
     },
     "execution_count": 155,
     "metadata": {},
     "output_type": "execute_result"
    }
   ],
   "source": [
    "# compute correlation coeficient\n",
    "service.loc[:,['proportion','stars']].corr()"
   ]
  },
  {
   "cell_type": "code",
   "execution_count": 156,
   "metadata": {},
   "outputs": [],
   "source": [
    "# save data\n",
    "service.to_csv(\"service.csv\",index=False)"
   ]
  },
  {
   "cell_type": "markdown",
   "metadata": {},
   "source": [
    "## price"
   ]
  },
  {
   "cell_type": "code",
   "execution_count": 157,
   "metadata": {},
   "outputs": [],
   "source": [
    "# get adjectives near price\n",
    "adj_price=findadj('price',clean_text)"
   ]
  },
  {
   "cell_type": "code",
   "execution_count": 159,
   "metadata": {},
   "outputs": [
    {
     "name": "stderr",
     "output_type": "stream",
     "text": [
      "C:\\Users\\GAO ZEJIN\\Anaconda3\\lib\\site-packages\\ipykernel_launcher.py:17: RuntimeWarning: invalid value encountered in longlong_scalars\n"
     ]
    },
    {
     "data": {
      "text/html": [
       "<div>\n",
       "<style scoped>\n",
       "    .dataframe tbody tr th:only-of-type {\n",
       "        vertical-align: middle;\n",
       "    }\n",
       "\n",
       "    .dataframe tbody tr th {\n",
       "        vertical-align: top;\n",
       "    }\n",
       "\n",
       "    .dataframe thead th {\n",
       "        text-align: right;\n",
       "    }\n",
       "</style>\n",
       "<table border=\"1\" class=\"dataframe\">\n",
       "  <thead>\n",
       "    <tr style=\"text-align: right;\">\n",
       "      <th></th>\n",
       "      <th>business_id</th>\n",
       "      <th>positive</th>\n",
       "      <th>negative</th>\n",
       "      <th>proportion</th>\n",
       "      <th>stars</th>\n",
       "    </tr>\n",
       "  </thead>\n",
       "  <tbody>\n",
       "    <tr>\n",
       "      <th>0</th>\n",
       "      <td>nsNONDHbV7Vudqh21uicqw</td>\n",
       "      <td>32</td>\n",
       "      <td>5</td>\n",
       "      <td>0.864865</td>\n",
       "      <td>3.5</td>\n",
       "    </tr>\n",
       "    <tr>\n",
       "      <th>1</th>\n",
       "      <td>F06m2yQSPHIrb1IT7heYeQ</td>\n",
       "      <td>11</td>\n",
       "      <td>0</td>\n",
       "      <td>1.000000</td>\n",
       "      <td>4.0</td>\n",
       "    </tr>\n",
       "    <tr>\n",
       "      <th>2</th>\n",
       "      <td>c_FTil8s5PS2l_YJDQAXhA</td>\n",
       "      <td>5</td>\n",
       "      <td>0</td>\n",
       "      <td>1.000000</td>\n",
       "      <td>4.0</td>\n",
       "    </tr>\n",
       "    <tr>\n",
       "      <th>3</th>\n",
       "      <td>vAbRNF0hJt91oCUpm_sdKw</td>\n",
       "      <td>9</td>\n",
       "      <td>2</td>\n",
       "      <td>0.818182</td>\n",
       "      <td>3.5</td>\n",
       "    </tr>\n",
       "    <tr>\n",
       "      <th>4</th>\n",
       "      <td>z8H4Mdzl4jS9pYswj6Jf9w</td>\n",
       "      <td>13</td>\n",
       "      <td>2</td>\n",
       "      <td>0.866667</td>\n",
       "      <td>3.5</td>\n",
       "    </tr>\n",
       "  </tbody>\n",
       "</table>\n",
       "</div>"
      ],
      "text/plain": [
       "              business_id  positive  negative  proportion  stars\n",
       "0  nsNONDHbV7Vudqh21uicqw        32         5    0.864865    3.5\n",
       "1  F06m2yQSPHIrb1IT7heYeQ        11         0    1.000000    4.0\n",
       "2  c_FTil8s5PS2l_YJDQAXhA         5         0    1.000000    4.0\n",
       "3  vAbRNF0hJt91oCUpm_sdKw         9         2    0.818182    3.5\n",
       "4  z8H4Mdzl4jS9pYswj6Jf9w        13         2    0.866667    3.5"
      ]
     },
     "execution_count": 159,
     "metadata": {},
     "output_type": "execute_result"
    }
   ],
   "source": [
    "# prepare empty data frame table\n",
    "price=pd.DataFrame(review_bind['business_id'])\n",
    "price['positive']=[0]*(len(review_bind))\n",
    "price['negative']=[0]*len(review_bind)\n",
    "price['proportion']=[np.nan]*len(review_bind)\n",
    "\n",
    "# count positive/negative adjectives near price and compute positive proportion\n",
    "from collections import Counter\n",
    "\n",
    "for i in range(len(adj_price)):\n",
    "    if(len(adj_price[i]) != 0):\n",
    "        dictionary=Counter(adj_price[i])\n",
    "        for word in dictionary.keys():\n",
    "            if (word in dict_adj.keys()):\n",
    "                if (dict_adj[word] == 'positive'):\n",
    "                    price.iat[i,1]=price['positive'][i]+dictionary[word]\n",
    "                else:\n",
    "                    price.iat[i,2]=price['negative'][i]+dictionary[word]\n",
    "        price.iat[i,3]=price['positive'][i]/(price['positive'][i]+price['negative'][i])\n",
    "\n",
    "price['stars']=review_bind['stars']\n",
    "price.head()"
   ]
  },
  {
   "cell_type": "code",
   "execution_count": 160,
   "metadata": {},
   "outputs": [
    {
     "name": "stdout",
     "output_type": "stream",
     "text": [
      "7869\n",
      "802\n"
     ]
    }
   ],
   "source": [
    "# compute total positive/negative tag\n",
    "print(np.sum(price['positive']))\n",
    "print(np.sum(price['negative']))"
   ]
  },
  {
   "cell_type": "code",
   "execution_count": 161,
   "metadata": {},
   "outputs": [
    {
     "data": {
      "text/html": [
       "<div>\n",
       "<style scoped>\n",
       "    .dataframe tbody tr th:only-of-type {\n",
       "        vertical-align: middle;\n",
       "    }\n",
       "\n",
       "    .dataframe tbody tr th {\n",
       "        vertical-align: top;\n",
       "    }\n",
       "\n",
       "    .dataframe thead th {\n",
       "        text-align: right;\n",
       "    }\n",
       "</style>\n",
       "<table border=\"1\" class=\"dataframe\">\n",
       "  <thead>\n",
       "    <tr style=\"text-align: right;\">\n",
       "      <th></th>\n",
       "      <th>proportion</th>\n",
       "      <th>stars</th>\n",
       "    </tr>\n",
       "  </thead>\n",
       "  <tbody>\n",
       "    <tr>\n",
       "      <th>proportion</th>\n",
       "      <td>1.000000</td>\n",
       "      <td>0.221228</td>\n",
       "    </tr>\n",
       "    <tr>\n",
       "      <th>stars</th>\n",
       "      <td>0.221228</td>\n",
       "      <td>1.000000</td>\n",
       "    </tr>\n",
       "  </tbody>\n",
       "</table>\n",
       "</div>"
      ],
      "text/plain": [
       "            proportion     stars\n",
       "proportion    1.000000  0.221228\n",
       "stars         0.221228  1.000000"
      ]
     },
     "execution_count": 161,
     "metadata": {},
     "output_type": "execute_result"
    }
   ],
   "source": [
    "# compute correlation coeficient\n",
    "price.loc[:,['proportion','stars']].corr()"
   ]
  },
  {
   "cell_type": "code",
   "execution_count": 162,
   "metadata": {},
   "outputs": [],
   "source": [
    "# save data\n",
    "price.to_csv(\"price.csv\",index=False)"
   ]
  },
  {
   "cell_type": "markdown",
   "metadata": {},
   "source": [
    "## food"
   ]
  },
  {
   "cell_type": "code",
   "execution_count": 219,
   "metadata": {},
   "outputs": [],
   "source": [
    "# get adjectives near food\n",
    "adj_food=findadj('food',clean_text)"
   ]
  },
  {
   "cell_type": "code",
   "execution_count": 221,
   "metadata": {},
   "outputs": [
    {
     "data": {
      "text/html": [
       "<div>\n",
       "<style scoped>\n",
       "    .dataframe tbody tr th:only-of-type {\n",
       "        vertical-align: middle;\n",
       "    }\n",
       "\n",
       "    .dataframe tbody tr th {\n",
       "        vertical-align: top;\n",
       "    }\n",
       "\n",
       "    .dataframe thead th {\n",
       "        text-align: right;\n",
       "    }\n",
       "</style>\n",
       "<table border=\"1\" class=\"dataframe\">\n",
       "  <thead>\n",
       "    <tr style=\"text-align: right;\">\n",
       "      <th></th>\n",
       "      <th>business_id</th>\n",
       "      <th>positive</th>\n",
       "      <th>negative</th>\n",
       "      <th>proportion</th>\n",
       "      <th>stars</th>\n",
       "    </tr>\n",
       "  </thead>\n",
       "  <tbody>\n",
       "    <tr>\n",
       "      <th>0</th>\n",
       "      <td>nsNONDHbV7Vudqh21uicqw</td>\n",
       "      <td>102</td>\n",
       "      <td>15</td>\n",
       "      <td>0.871795</td>\n",
       "      <td>3.5</td>\n",
       "    </tr>\n",
       "    <tr>\n",
       "      <th>1</th>\n",
       "      <td>F06m2yQSPHIrb1IT7heYeQ</td>\n",
       "      <td>70</td>\n",
       "      <td>1</td>\n",
       "      <td>0.985915</td>\n",
       "      <td>4.0</td>\n",
       "    </tr>\n",
       "    <tr>\n",
       "      <th>2</th>\n",
       "      <td>c_FTil8s5PS2l_YJDQAXhA</td>\n",
       "      <td>9</td>\n",
       "      <td>0</td>\n",
       "      <td>1.000000</td>\n",
       "      <td>4.0</td>\n",
       "    </tr>\n",
       "    <tr>\n",
       "      <th>3</th>\n",
       "      <td>vAbRNF0hJt91oCUpm_sdKw</td>\n",
       "      <td>13</td>\n",
       "      <td>1</td>\n",
       "      <td>0.928571</td>\n",
       "      <td>3.5</td>\n",
       "    </tr>\n",
       "    <tr>\n",
       "      <th>4</th>\n",
       "      <td>z8H4Mdzl4jS9pYswj6Jf9w</td>\n",
       "      <td>54</td>\n",
       "      <td>4</td>\n",
       "      <td>0.931034</td>\n",
       "      <td>3.5</td>\n",
       "    </tr>\n",
       "  </tbody>\n",
       "</table>\n",
       "</div>"
      ],
      "text/plain": [
       "              business_id  positive  negative  proportion  stars\n",
       "0  nsNONDHbV7Vudqh21uicqw       102        15    0.871795    3.5\n",
       "1  F06m2yQSPHIrb1IT7heYeQ        70         1    0.985915    4.0\n",
       "2  c_FTil8s5PS2l_YJDQAXhA         9         0    1.000000    4.0\n",
       "3  vAbRNF0hJt91oCUpm_sdKw        13         1    0.928571    3.5\n",
       "4  z8H4Mdzl4jS9pYswj6Jf9w        54         4    0.931034    3.5"
      ]
     },
     "execution_count": 221,
     "metadata": {},
     "output_type": "execute_result"
    }
   ],
   "source": [
    "# prepare empty data frame table\n",
    "food=pd.DataFrame(review_bind['business_id'])\n",
    "food['positive']=[0]*(len(review_bind))\n",
    "food['negative']=[0]*len(review_bind)\n",
    "food['proportion']=[np.nan]*len(review_bind)\n",
    "\n",
    "# count positive/negative adjectives near food and compute positive proportion\n",
    "from collections import Counter\n",
    "\n",
    "for i in range(len(adj_food)):\n",
    "    if(len(adj_food[i]) != 0):\n",
    "        dictionary=Counter(adj_food[i])\n",
    "        for word in dictionary.keys():\n",
    "            if (word in dict_adj.keys()):\n",
    "                if (dict_adj[word] == 'positive'):\n",
    "                    food.iat[i,1]=food['positive'][i]+dictionary[word]\n",
    "                else:\n",
    "                    food.iat[i,2]=food['negative'][i]+dictionary[word]\n",
    "        food.iat[i,3]=food['positive'][i]/(food['positive'][i]+food['negative'][i])\n",
    "\n",
    "food['stars']=review_bind['stars']\n",
    "food.head()"
   ]
  },
  {
   "cell_type": "code",
   "execution_count": 222,
   "metadata": {},
   "outputs": [
    {
     "name": "stdout",
     "output_type": "stream",
     "text": [
      "24047\n",
      "1907\n"
     ]
    }
   ],
   "source": [
    "# compute total positive/negative tag\n",
    "print(np.sum(food['positive']))\n",
    "print(np.sum(food['negative']))"
   ]
  },
  {
   "cell_type": "code",
   "execution_count": 223,
   "metadata": {},
   "outputs": [
    {
     "data": {
      "text/html": [
       "<div>\n",
       "<style scoped>\n",
       "    .dataframe tbody tr th:only-of-type {\n",
       "        vertical-align: middle;\n",
       "    }\n",
       "\n",
       "    .dataframe tbody tr th {\n",
       "        vertical-align: top;\n",
       "    }\n",
       "\n",
       "    .dataframe thead th {\n",
       "        text-align: right;\n",
       "    }\n",
       "</style>\n",
       "<table border=\"1\" class=\"dataframe\">\n",
       "  <thead>\n",
       "    <tr style=\"text-align: right;\">\n",
       "      <th></th>\n",
       "      <th>proportion</th>\n",
       "      <th>stars</th>\n",
       "    </tr>\n",
       "  </thead>\n",
       "  <tbody>\n",
       "    <tr>\n",
       "      <th>proportion</th>\n",
       "      <td>1.000000</td>\n",
       "      <td>0.547101</td>\n",
       "    </tr>\n",
       "    <tr>\n",
       "      <th>stars</th>\n",
       "      <td>0.547101</td>\n",
       "      <td>1.000000</td>\n",
       "    </tr>\n",
       "  </tbody>\n",
       "</table>\n",
       "</div>"
      ],
      "text/plain": [
       "            proportion     stars\n",
       "proportion    1.000000  0.547101\n",
       "stars         0.547101  1.000000"
      ]
     },
     "execution_count": 223,
     "metadata": {},
     "output_type": "execute_result"
    }
   ],
   "source": [
    "# compute correlation coeficient\n",
    "food.loc[:,['proportion','stars']].corr()"
   ]
  },
  {
   "cell_type": "code",
   "execution_count": 224,
   "metadata": {},
   "outputs": [],
   "source": [
    "# save data\n",
    "food.to_csv(\"food.csv\",index=False)"
   ]
  }
 ],
 "metadata": {
  "kernelspec": {
   "display_name": "Python 3",
   "language": "python",
   "name": "python3"
  },
  "language_info": {
   "codemirror_mode": {
    "name": "ipython",
    "version": 3
   },
   "file_extension": ".py",
   "mimetype": "text/x-python",
   "name": "python",
   "nbconvert_exporter": "python",
   "pygments_lexer": "ipython3",
   "version": "3.6.7"
  }
 },
 "nbformat": 4,
 "nbformat_minor": 2
}
