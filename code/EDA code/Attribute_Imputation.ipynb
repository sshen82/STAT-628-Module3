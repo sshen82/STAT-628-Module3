{
 "cells": [
  {
   "cell_type": "markdown",
   "metadata": {},
   "source": [
    "# Code for Yelp Data Analysis"
   ]
  },
  {
   "cell_type": "code",
   "execution_count": 1,
   "metadata": {},
   "outputs": [],
   "source": [
    "import numpy as np\n",
    "import json\n",
    "import pandas as pd\n",
    "import nltk\n",
    "import matplotlib.pyplot as plt\n",
    "import re\n",
    "import copy\n",
    "import os\n",
    "import csv\n",
    "from sklearn import tree \n",
    "from sklearn.model_selection import train_test_split\n",
    "from scipy import stats\n",
    "import researchpy as rp"
   ]
  },
  {
   "cell_type": "markdown",
   "metadata": {},
   "source": [
    "## Load Data, Description, Preprocessing\n",
    "#### First load data and filter targeting business."
   ]
  },
  {
   "cell_type": "code",
   "execution_count": 2,
   "metadata": {},
   "outputs": [],
   "source": [
    "def read_json(path):\n",
    "    with open(path, encoding='utf-8') as f:\n",
    "        iter_f = iter(f)\n",
    "        line = f.readline()\n",
    "        text = []\n",
    "        for line in iter_f: \n",
    "            d = json.loads(line)\n",
    "            text.append(d)\n",
    "        f.close()\n",
    "    return(text)"
   ]
  },
  {
   "cell_type": "code",
   "execution_count": 3,
   "metadata": {},
   "outputs": [],
   "source": [
    "def write_json(path, data):\n",
    "    with open(path, 'w', encoding=\"utf-8\") as f:\n",
    "        return json.dump(data, f, indent=2)"
   ]
  },
  {
   "cell_type": "code",
   "execution_count": 4,
   "metadata": {},
   "outputs": [],
   "source": [
    "raw_business=read_json(\"Stat628/business.json\")\n",
    "raw_review=read_json(\"Stat628/review.json\")\n",
    "raw_tip=read_json(\"Stat628/tip.json\")\n",
    "raw_user=read_json(\"Stat628/user.json\")"
   ]
  },
  {
   "cell_type": "code",
   "execution_count": 5,
   "metadata": {},
   "outputs": [],
   "source": [
    "# filter business \n",
    "# filter rule: containing 'seafood', 'restaurant', but no 'Steakhouse'; category's length less than 50(roughly); number of reviews larger than 50;\n",
    "seafood_business=[]\n",
    "index=[]\n",
    "for i in range(len(raw_business)):\n",
    "    if raw_business[i]['categories'] is None:\n",
    "        continue\n",
    "    if \"Seafood\" in raw_business[i]['categories'] and \"Restaurants\" in  raw_business[i]['categories'] and 'Steakhouse' not in raw_business[i]['categories'] and len(raw_business[i]['categories'])<=50 and raw_business[i]['review_count'] >= 50:\n",
    "        seafood_business.append(raw_business[i])\n",
    "        index.append(i)\n",
    "# 433 businesses"
   ]
  },
  {
   "cell_type": "code",
   "execution_count": 6,
   "metadata": {},
   "outputs": [
    {
     "data": {
      "text/plain": [
       "\"\\n# store filtered data\\n# business\\nbusiness_df=pd.DataFrame(seafood_business)\\nbusiness_df.to_csv('seafood_business.csv')\\n#reviews\\nreview_df=pd.DataFrame(all_review)\\nreview_df.to_csv('all_review.csv')\\n\""
      ]
     },
     "execution_count": 6,
     "metadata": {},
     "output_type": "execute_result"
    }
   ],
   "source": [
    "'''\n",
    "# store filtered data\n",
    "# business\n",
    "business_df=pd.DataFrame(seafood_business)\n",
    "business_df.to_csv('seafood_business.csv')\n",
    "#reviews\n",
    "review_df=pd.DataFrame(all_review)\n",
    "review_df.to_csv('all_review.csv')\n",
    "'''"
   ]
  },
  {
   "cell_type": "markdown",
   "metadata": {},
   "source": [
    "#### Analysis of attributes in business data.\n",
    "* Count number of attributes\n",
    "* For each attribute, count the number of business providing this attribute"
   ]
  },
  {
   "cell_type": "code",
   "execution_count": 8,
   "metadata": {},
   "outputs": [],
   "source": [
    "# Put attributes together\n",
    "attributes_all=[]\n",
    "for item in seafood_business:\n",
    "    if item['attributes'] != None:\n",
    "        attributes_all.extend(list(item['attributes'].keys()))\n",
    "attributes_all = list(set(attributes_all))"
   ]
  },
  {
   "cell_type": "code",
   "execution_count": 9,
   "metadata": {},
   "outputs": [],
   "source": [
    "def attributes_counts(attribute):\n",
    "    count = 0\n",
    "    for j in range(len(seafood_business)):\n",
    "        if seafood_business[j]['attributes'] is None:\n",
    "            continue\n",
    "        else:\n",
    "            attributes = seafood_business[j]['attributes'].keys()\n",
    "            attributes = list(attributes)\n",
    "            if attribute in attributes: # if the given attribute exists\n",
    "                count += 1\n",
    "    return(count)"
   ]
  },
  {
   "cell_type": "code",
   "execution_count": 10,
   "metadata": {},
   "outputs": [
    {
     "data": {
      "text/html": [
       "<div>\n",
       "<style scoped>\n",
       "    .dataframe tbody tr th:only-of-type {\n",
       "        vertical-align: middle;\n",
       "    }\n",
       "\n",
       "    .dataframe tbody tr th {\n",
       "        vertical-align: top;\n",
       "    }\n",
       "\n",
       "    .dataframe thead th {\n",
       "        text-align: right;\n",
       "    }\n",
       "</style>\n",
       "<table border=\"1\" class=\"dataframe\">\n",
       "  <thead>\n",
       "    <tr style=\"text-align: right;\">\n",
       "      <th></th>\n",
       "      <th>Attributes</th>\n",
       "      <th>Counts</th>\n",
       "    </tr>\n",
       "  </thead>\n",
       "  <tbody>\n",
       "    <tr>\n",
       "      <th>7</th>\n",
       "      <td>BYOB</td>\n",
       "      <td>1</td>\n",
       "    </tr>\n",
       "    <tr>\n",
       "      <th>13</th>\n",
       "      <td>DriveThru</td>\n",
       "      <td>5</td>\n",
       "    </tr>\n",
       "    <tr>\n",
       "      <th>17</th>\n",
       "      <td>HappyHour</td>\n",
       "      <td>9</td>\n",
       "    </tr>\n",
       "    <tr>\n",
       "      <th>29</th>\n",
       "      <td>Smoking</td>\n",
       "      <td>9</td>\n",
       "    </tr>\n",
       "    <tr>\n",
       "      <th>14</th>\n",
       "      <td>GoodForDancing</td>\n",
       "      <td>10</td>\n",
       "    </tr>\n",
       "    <tr>\n",
       "      <th>10</th>\n",
       "      <td>CoatCheck</td>\n",
       "      <td>10</td>\n",
       "    </tr>\n",
       "    <tr>\n",
       "      <th>2</th>\n",
       "      <td>BestNights</td>\n",
       "      <td>10</td>\n",
       "    </tr>\n",
       "    <tr>\n",
       "      <th>19</th>\n",
       "      <td>Music</td>\n",
       "      <td>11</td>\n",
       "    </tr>\n",
       "    <tr>\n",
       "      <th>11</th>\n",
       "      <td>Corkage</td>\n",
       "      <td>12</td>\n",
       "    </tr>\n",
       "    <tr>\n",
       "      <th>8</th>\n",
       "      <td>BYOBCorkage</td>\n",
       "      <td>35</td>\n",
       "    </tr>\n",
       "    <tr>\n",
       "      <th>12</th>\n",
       "      <td>DogsAllowed</td>\n",
       "      <td>40</td>\n",
       "    </tr>\n",
       "    <tr>\n",
       "      <th>4</th>\n",
       "      <td>BusinessAcceptsBitcoin</td>\n",
       "      <td>43</td>\n",
       "    </tr>\n",
       "    <tr>\n",
       "      <th>30</th>\n",
       "      <td>WheelchairAccessible</td>\n",
       "      <td>102</td>\n",
       "    </tr>\n",
       "    <tr>\n",
       "      <th>27</th>\n",
       "      <td>RestaurantsTableService</td>\n",
       "      <td>225</td>\n",
       "    </tr>\n",
       "    <tr>\n",
       "      <th>5</th>\n",
       "      <td>BusinessAcceptsCreditCards</td>\n",
       "      <td>347</td>\n",
       "    </tr>\n",
       "    <tr>\n",
       "      <th>16</th>\n",
       "      <td>GoodForMeal</td>\n",
       "      <td>381</td>\n",
       "    </tr>\n",
       "    <tr>\n",
       "      <th>9</th>\n",
       "      <td>Caters</td>\n",
       "      <td>401</td>\n",
       "    </tr>\n",
       "    <tr>\n",
       "      <th>3</th>\n",
       "      <td>BikeParking</td>\n",
       "      <td>414</td>\n",
       "    </tr>\n",
       "    <tr>\n",
       "      <th>31</th>\n",
       "      <td>WiFi</td>\n",
       "      <td>426</td>\n",
       "    </tr>\n",
       "    <tr>\n",
       "      <th>20</th>\n",
       "      <td>NoiseLevel</td>\n",
       "      <td>427</td>\n",
       "    </tr>\n",
       "    <tr>\n",
       "      <th>22</th>\n",
       "      <td>RestaurantsAttire</td>\n",
       "      <td>430</td>\n",
       "    </tr>\n",
       "    <tr>\n",
       "      <th>0</th>\n",
       "      <td>Alcohol</td>\n",
       "      <td>431</td>\n",
       "    </tr>\n",
       "    <tr>\n",
       "      <th>18</th>\n",
       "      <td>HasTV</td>\n",
       "      <td>432</td>\n",
       "    </tr>\n",
       "    <tr>\n",
       "      <th>23</th>\n",
       "      <td>RestaurantsDelivery</td>\n",
       "      <td>432</td>\n",
       "    </tr>\n",
       "    <tr>\n",
       "      <th>25</th>\n",
       "      <td>RestaurantsPriceRange2</td>\n",
       "      <td>432</td>\n",
       "    </tr>\n",
       "    <tr>\n",
       "      <th>1</th>\n",
       "      <td>Ambience</td>\n",
       "      <td>432</td>\n",
       "    </tr>\n",
       "    <tr>\n",
       "      <th>21</th>\n",
       "      <td>OutdoorSeating</td>\n",
       "      <td>432</td>\n",
       "    </tr>\n",
       "    <tr>\n",
       "      <th>24</th>\n",
       "      <td>RestaurantsGoodForGroups</td>\n",
       "      <td>433</td>\n",
       "    </tr>\n",
       "    <tr>\n",
       "      <th>26</th>\n",
       "      <td>RestaurantsReservations</td>\n",
       "      <td>433</td>\n",
       "    </tr>\n",
       "    <tr>\n",
       "      <th>6</th>\n",
       "      <td>BusinessParking</td>\n",
       "      <td>433</td>\n",
       "    </tr>\n",
       "    <tr>\n",
       "      <th>28</th>\n",
       "      <td>RestaurantsTakeOut</td>\n",
       "      <td>433</td>\n",
       "    </tr>\n",
       "    <tr>\n",
       "      <th>15</th>\n",
       "      <td>GoodForKids</td>\n",
       "      <td>433</td>\n",
       "    </tr>\n",
       "  </tbody>\n",
       "</table>\n",
       "</div>"
      ],
      "text/plain": [
       "                    Attributes  Counts\n",
       "7                         BYOB       1\n",
       "13                   DriveThru       5\n",
       "17                   HappyHour       9\n",
       "29                     Smoking       9\n",
       "14              GoodForDancing      10\n",
       "10                   CoatCheck      10\n",
       "2                   BestNights      10\n",
       "19                       Music      11\n",
       "11                     Corkage      12\n",
       "8                  BYOBCorkage      35\n",
       "12                 DogsAllowed      40\n",
       "4       BusinessAcceptsBitcoin      43\n",
       "30        WheelchairAccessible     102\n",
       "27     RestaurantsTableService     225\n",
       "5   BusinessAcceptsCreditCards     347\n",
       "16                 GoodForMeal     381\n",
       "9                       Caters     401\n",
       "3                  BikeParking     414\n",
       "31                        WiFi     426\n",
       "20                  NoiseLevel     427\n",
       "22           RestaurantsAttire     430\n",
       "0                      Alcohol     431\n",
       "18                       HasTV     432\n",
       "23         RestaurantsDelivery     432\n",
       "25      RestaurantsPriceRange2     432\n",
       "1                     Ambience     432\n",
       "21              OutdoorSeating     432\n",
       "24    RestaurantsGoodForGroups     433\n",
       "26     RestaurantsReservations     433\n",
       "6              BusinessParking     433\n",
       "28          RestaurantsTakeOut     433\n",
       "15                 GoodForKids     433"
      ]
     },
     "execution_count": 10,
     "metadata": {},
     "output_type": "execute_result"
    }
   ],
   "source": [
    "# Count number of business containing these attributes\n",
    "# Then sort accroding to counts.\n",
    "attributes_all = sorted(attributes_all, key=str.lower)\n",
    "counts = list()\n",
    "\n",
    "for i in range(len(attributes_all)):\n",
    "    count = attributes_counts(attributes_all[i])\n",
    "    counts.append(count)\n",
    "\n",
    "attributes_all_df = pd.DataFrame(attributes_all)\n",
    "counts_df = pd.DataFrame(counts)\n",
    "attributes_counts = pd.concat([attributes_all_df, counts_df], axis=1)\n",
    "attributes_counts.columns = [\"Attributes\", \"Counts\"]\n",
    "\n",
    "attributes_counts = attributes_counts.sort_values(by='Counts')\n",
    "attributes_counts"
   ]
  },
  {
   "cell_type": "markdown",
   "metadata": {},
   "source": [
    "Drop attributes with less than 50% businesses"
   ]
  },
  {
   "cell_type": "code",
   "execution_count": 11,
   "metadata": {},
   "outputs": [
    {
     "data": {
      "text/html": [
       "<div>\n",
       "<style scoped>\n",
       "    .dataframe tbody tr th:only-of-type {\n",
       "        vertical-align: middle;\n",
       "    }\n",
       "\n",
       "    .dataframe tbody tr th {\n",
       "        vertical-align: top;\n",
       "    }\n",
       "\n",
       "    .dataframe thead th {\n",
       "        text-align: right;\n",
       "    }\n",
       "</style>\n",
       "<table border=\"1\" class=\"dataframe\">\n",
       "  <thead>\n",
       "    <tr style=\"text-align: right;\">\n",
       "      <th></th>\n",
       "      <th>Attributes</th>\n",
       "      <th>Counts</th>\n",
       "    </tr>\n",
       "  </thead>\n",
       "  <tbody>\n",
       "    <tr>\n",
       "      <th>27</th>\n",
       "      <td>RestaurantsTableService</td>\n",
       "      <td>225</td>\n",
       "    </tr>\n",
       "    <tr>\n",
       "      <th>5</th>\n",
       "      <td>BusinessAcceptsCreditCards</td>\n",
       "      <td>347</td>\n",
       "    </tr>\n",
       "    <tr>\n",
       "      <th>16</th>\n",
       "      <td>GoodForMeal</td>\n",
       "      <td>381</td>\n",
       "    </tr>\n",
       "    <tr>\n",
       "      <th>9</th>\n",
       "      <td>Caters</td>\n",
       "      <td>401</td>\n",
       "    </tr>\n",
       "    <tr>\n",
       "      <th>3</th>\n",
       "      <td>BikeParking</td>\n",
       "      <td>414</td>\n",
       "    </tr>\n",
       "    <tr>\n",
       "      <th>31</th>\n",
       "      <td>WiFi</td>\n",
       "      <td>426</td>\n",
       "    </tr>\n",
       "    <tr>\n",
       "      <th>20</th>\n",
       "      <td>NoiseLevel</td>\n",
       "      <td>427</td>\n",
       "    </tr>\n",
       "    <tr>\n",
       "      <th>22</th>\n",
       "      <td>RestaurantsAttire</td>\n",
       "      <td>430</td>\n",
       "    </tr>\n",
       "    <tr>\n",
       "      <th>0</th>\n",
       "      <td>Alcohol</td>\n",
       "      <td>431</td>\n",
       "    </tr>\n",
       "    <tr>\n",
       "      <th>18</th>\n",
       "      <td>HasTV</td>\n",
       "      <td>432</td>\n",
       "    </tr>\n",
       "    <tr>\n",
       "      <th>23</th>\n",
       "      <td>RestaurantsDelivery</td>\n",
       "      <td>432</td>\n",
       "    </tr>\n",
       "    <tr>\n",
       "      <th>25</th>\n",
       "      <td>RestaurantsPriceRange2</td>\n",
       "      <td>432</td>\n",
       "    </tr>\n",
       "    <tr>\n",
       "      <th>1</th>\n",
       "      <td>Ambience</td>\n",
       "      <td>432</td>\n",
       "    </tr>\n",
       "    <tr>\n",
       "      <th>21</th>\n",
       "      <td>OutdoorSeating</td>\n",
       "      <td>432</td>\n",
       "    </tr>\n",
       "    <tr>\n",
       "      <th>24</th>\n",
       "      <td>RestaurantsGoodForGroups</td>\n",
       "      <td>433</td>\n",
       "    </tr>\n",
       "    <tr>\n",
       "      <th>26</th>\n",
       "      <td>RestaurantsReservations</td>\n",
       "      <td>433</td>\n",
       "    </tr>\n",
       "    <tr>\n",
       "      <th>6</th>\n",
       "      <td>BusinessParking</td>\n",
       "      <td>433</td>\n",
       "    </tr>\n",
       "    <tr>\n",
       "      <th>28</th>\n",
       "      <td>RestaurantsTakeOut</td>\n",
       "      <td>433</td>\n",
       "    </tr>\n",
       "    <tr>\n",
       "      <th>15</th>\n",
       "      <td>GoodForKids</td>\n",
       "      <td>433</td>\n",
       "    </tr>\n",
       "  </tbody>\n",
       "</table>\n",
       "</div>"
      ],
      "text/plain": [
       "                    Attributes  Counts\n",
       "27     RestaurantsTableService     225\n",
       "5   BusinessAcceptsCreditCards     347\n",
       "16                 GoodForMeal     381\n",
       "9                       Caters     401\n",
       "3                  BikeParking     414\n",
       "31                        WiFi     426\n",
       "20                  NoiseLevel     427\n",
       "22           RestaurantsAttire     430\n",
       "0                      Alcohol     431\n",
       "18                       HasTV     432\n",
       "23         RestaurantsDelivery     432\n",
       "25      RestaurantsPriceRange2     432\n",
       "1                     Ambience     432\n",
       "21              OutdoorSeating     432\n",
       "24    RestaurantsGoodForGroups     433\n",
       "26     RestaurantsReservations     433\n",
       "6              BusinessParking     433\n",
       "28          RestaurantsTakeOut     433\n",
       "15                 GoodForKids     433"
      ]
     },
     "execution_count": 11,
     "metadata": {},
     "output_type": "execute_result"
    }
   ],
   "source": [
    "attributes_selected=list(attributes_counts[attributes_counts['Counts']>=225]['Attributes'])\n",
    "attributes_counts[attributes_counts['Counts']>=225]\n",
    "#len(selected_attributes)\n",
    "#19 attributes are selected"
   ]
  },
  {
   "cell_type": "markdown",
   "metadata": {},
   "source": [
    "Consider all attributes, 5 attributes don't have missing values; 5 miss only 1 value; 1 miss 2 values; 1 miss 3 values; "
   ]
  },
  {
   "cell_type": "code",
   "execution_count": 12,
   "metadata": {},
   "outputs": [],
   "source": [
    "business_attributes=[]\n",
    "for business in seafood_business:\n",
    "    new_dic={}\n",
    "    new_dic['business_id']=business['business_id']\n",
    "    new_dic['stars']=business['stars']\n",
    "    for attribute in attributes_selected:\n",
    "        if attribute not in business['attributes'].keys():\n",
    "            new_dic[attribute]=None\n",
    "        else:\n",
    "            new_dic[attribute]=business['attributes'][attribute]\n",
    "    business_attributes.append(new_dic)"
   ]
  },
  {
   "cell_type": "markdown",
   "metadata": {},
   "source": [
    "Correct the form of some attributes.\\\n",
    "Imputation"
   ]
  },
  {
   "cell_type": "code",
   "execution_count": 13,
   "metadata": {},
   "outputs": [],
   "source": [
    "def correct_form(attribute):\n",
    "    for business in business_attributes:\n",
    "        if business[attribute] != None:\n",
    "            if re.search('^u(.*)',business[attribute]):\n",
    "                business[attribute]=re.search('^u(.*)',business[attribute]).group(1)"
   ]
  },
  {
   "cell_type": "code",
   "execution_count": 14,
   "metadata": {},
   "outputs": [],
   "source": [
    "correct_form('WiFi')\n",
    "correct_form('NoiseLevel')\n",
    "correct_form('RestaurantsAttire')\n",
    "correct_form('Alcohol')"
   ]
  },
  {
   "cell_type": "code",
   "execution_count": 15,
   "metadata": {},
   "outputs": [],
   "source": [
    "business_attributes_df=pd.DataFrame(business_attributes)\n",
    "#business_attributes_df"
   ]
  },
  {
   "cell_type": "code",
   "execution_count": 16,
   "metadata": {},
   "outputs": [],
   "source": [
    "def find_none(attribute):\n",
    "    indexs=[]\n",
    "    for index, row in business_attributes_df.iterrows():\n",
    "        if row[attribute] is None:\n",
    "            indexs.append(index)\n",
    "    return(indexs)\n",
    "def exclude_none(attribute):\n",
    "    indexs=[]\n",
    "    for index, row in business_attributes_df.iterrows():\n",
    "        if row[attribute] != None:\n",
    "            indexs.append(index)\n",
    "    return(indexs)"
   ]
  },
  {
   "cell_type": "markdown",
   "metadata": {},
   "source": [
    "Impute manually for the attributes missing only few businesses.\\\n",
    "Ways: search businesses on Yelp website and impute"
   ]
  },
  {
   "cell_type": "markdown",
   "metadata": {},
   "source": [
    "'HasTV','RestaurantsDelivery','RestaurantsPriceRange2','Ambience','OutdoorSeating' only miss 1 attribute"
   ]
  },
  {
   "cell_type": "code",
   "execution_count": 17,
   "metadata": {},
   "outputs": [
    {
     "name": "stdout",
     "output_type": "stream",
     "text": [
      "[267]\n",
      "[258]\n",
      "[267]\n",
      "[3]\n",
      "[267]\n"
     ]
    }
   ],
   "source": [
    "for item in ['HasTV','RestaurantsDelivery','RestaurantsPriceRange2','Ambience','OutdoorSeating']:\n",
    "    print(find_none(item))"
   ]
  },
  {
   "cell_type": "code",
   "execution_count": 18,
   "metadata": {},
   "outputs": [],
   "source": [
    "seafood_business.pop(3)\n",
    "business_df=pd.DataFrame(seafood_business)\n",
    "business_df.to_csv('seafood_business.csv')"
   ]
  },
  {
   "cell_type": "code",
   "execution_count": 19,
   "metadata": {},
   "outputs": [],
   "source": [
    "# For HasTV: 267, True\n",
    "business_attributes[267]['HasTV']='True'\n",
    "\n",
    "# For RestaurantsDelivery: 258, False\n",
    "business_attributes[258]['RestaurantsDelivery']='False'\n",
    "\n",
    "# For RestaurantsPriceRange2: 267, 2\n",
    "business_attributes[267]['RestaurantsPriceRange2']='2'\n",
    "\n",
    "# OutdoorSeating: Yes\n",
    "business_attributes[267]['OutdoorSeating']='True'\n",
    "\n",
    "# For Ambience: 3, closed, delete\n",
    "#business_attributes.pop(3)"
   ]
  },
  {
   "cell_type": "code",
   "execution_count": 20,
   "metadata": {},
   "outputs": [],
   "source": [
    "business_attributes_df=pd.DataFrame(business_attributes)"
   ]
  },
  {
   "cell_type": "markdown",
   "metadata": {},
   "source": [
    "Alcohol miss 2 values and RestaurantsAttire miss 3 values"
   ]
  },
  {
   "cell_type": "code",
   "execution_count": 21,
   "metadata": {},
   "outputs": [
    {
     "name": "stdout",
     "output_type": "stream",
     "text": [
      "[218, 267]\n",
      "[267, 390, 415]\n"
     ]
    }
   ],
   "source": [
    "for item in ['Alcohol','RestaurantsAttire']:\n",
    "    print(find_none(item))"
   ]
  },
  {
   "cell_type": "code",
   "execution_count": 22,
   "metadata": {},
   "outputs": [],
   "source": [
    "# For Alcohol, 217,  266, full_bar\n",
    "\n",
    "# For RestaurantsAttire, 266, 389, 414 "
   ]
  },
  {
   "cell_type": "markdown",
   "metadata": {},
   "source": [
    "##### Use decison tree to impute missing attributes."
   ]
  },
  {
   "cell_type": "markdown",
   "metadata": {},
   "source": [
    "##### For Alcohol, 2 missing values"
   ]
  },
  {
   "cell_type": "code",
   "execution_count": 32,
   "metadata": {},
   "outputs": [],
   "source": [
    "Al_dict={\"'beer_and_wine'\":1,\"'full_bar'\":2,\"'none'\":3}\n",
    "reverse_Al={1:\"'beer_and_wine'\",2:\"'full_bar'\",3:\"'none'\"}\n",
    "t_Al=exclude_none('Alcohol')\n",
    "f_Al=find_none('Alcohol')\n",
    "X_t=[]\n",
    "Y_t=[]\n",
    "for i in t_Al:\n",
    "    x=[]\n",
    "    for attribute in ['HasTV','RestaurantsDelivery','RestaurantsPriceRange2','OutdoorSeating','RestaurantsGoodForGroups','RestaurantsReservations','RestaurantsTakeOut','GoodForKids']:\n",
    "        if business_attributes[i][attribute]=='False':\n",
    "            x.append(0)\n",
    "        elif business_attributes[i][attribute]=='True':\n",
    "            x.append(1)\n",
    "        else:\n",
    "            x.append(float(business_attributes[i][attribute]))\n",
    "    X_t.append(x)\n",
    "    Y_t.append(Al_dict[business_attributes[i]['Alcohol']])\n",
    "X_f=[]\n",
    "for i in f_Al:\n",
    "    x=[]\n",
    "    for attribute in ['HasTV','RestaurantsDelivery','RestaurantsPriceRange2','OutdoorSeating','RestaurantsGoodForGroups','RestaurantsReservations','RestaurantsTakeOut','GoodForKids']:\n",
    "        if business_attributes[i][attribute]=='False':\n",
    "            x.append(0)\n",
    "        elif business_attributes[i][attribute]=='True':\n",
    "            x.append(1)\n",
    "        else:\n",
    "            x.append(float(business_attributes[i][attribute]))\n",
    "    X_f.append(x)"
   ]
  },
  {
   "cell_type": "code",
   "execution_count": 33,
   "metadata": {},
   "outputs": [
    {
     "name": "stdout",
     "output_type": "stream",
     "text": [
      "0.632183908045977\n"
     ]
    }
   ],
   "source": [
    "X_train, X_test, y_train, y_test = train_test_split(X_t, Y_t, test_size=0.2, random_state=0)\n",
    "clf = tree.DecisionTreeClassifier()\n",
    "clf = clf.fit(X_train, y_train)\n",
    "print(clf.score(X_test,y_test))\n",
    "pre_Al=clf.predict(X_f)"
   ]
  },
  {
   "cell_type": "code",
   "execution_count": 34,
   "metadata": {},
   "outputs": [
    {
     "name": "stderr",
     "output_type": "stream",
     "text": [
      "c:\\program files\\python37\\lib\\site-packages\\pandas\\core\\indexing.py:205: SettingWithCopyWarning: \n",
      "A value is trying to be set on a copy of a slice from a DataFrame\n",
      "\n",
      "See the caveats in the documentation: http://pandas.pydata.org/pandas-docs/stable/user_guide/indexing.html#returning-a-view-versus-a-copy\n",
      "  self._setitem_with_indexer(indexer, value)\n"
     ]
    }
   ],
   "source": [
    "for i in range(2):\n",
    "    business_attributes[f_Al[i]]['Alcohol']=reverse_Al[pre_Al[i]]\n",
    "    business_attributes_df['Alcohol'].loc[f_Al[i]]=reverse_Al[pre_Al[i]]"
   ]
  },
  {
   "cell_type": "markdown",
   "metadata": {},
   "source": [
    "##### For Noiselevel, 5 missing values"
   ]
  },
  {
   "cell_type": "code",
   "execution_count": 35,
   "metadata": {},
   "outputs": [],
   "source": [
    "No_dict={\"'average'\":1, \"'loud'\":2, \"'quiet'\":3, \"'very_loud'\":4}\n",
    "reverse_No={1:\"'average'\", 2:\"'loud'\", 3:\"'quiet'\", 4:\"'very_loud'\"}\n",
    "t_No=exclude_none('NoiseLevel')\n",
    "f_No=find_none('NoiseLevel')\n",
    "X_t=[]\n",
    "Y_t=[]\n",
    "for i in t_No:\n",
    "    x=[]\n",
    "    for attribute in ['HasTV','RestaurantsDelivery','RestaurantsPriceRange2','OutdoorSeating','RestaurantsGoodForGroups','RestaurantsReservations','RestaurantsTakeOut','GoodForKids']:\n",
    "        if business_attributes[i][attribute]=='False':\n",
    "            x.append(0)\n",
    "        elif business_attributes[i][attribute]=='True':\n",
    "            x.append(1)\n",
    "        else:\n",
    "            x.append(float(business_attributes[i][attribute]))\n",
    "    X_t.append(x)\n",
    "    Y_t.append(No_dict[business_attributes[i]['NoiseLevel']])\n",
    "X_f=[]\n",
    "for i in f_No:\n",
    "    x=[]\n",
    "    for attribute in ['HasTV','RestaurantsDelivery','RestaurantsPriceRange2','OutdoorSeating','RestaurantsGoodForGroups','RestaurantsReservations','RestaurantsTakeOut','GoodForKids']:\n",
    "        if business_attributes[i][attribute]=='False':\n",
    "            x.append(0)\n",
    "        elif business_attributes[i][attribute]=='True':\n",
    "            x.append(1)\n",
    "        else:\n",
    "            x.append(float(business_attributes[i][attribute]))\n",
    "    X_f.append(x)"
   ]
  },
  {
   "cell_type": "code",
   "execution_count": 36,
   "metadata": {},
   "outputs": [
    {
     "name": "stdout",
     "output_type": "stream",
     "text": [
      "0.8255813953488372\n"
     ]
    }
   ],
   "source": [
    "X_train, X_test, y_train, y_test = train_test_split(X_t, Y_t, test_size=0.2, random_state=0)\n",
    "clf = tree.DecisionTreeClassifier()\n",
    "clf = clf.fit(X_train, y_train)\n",
    "print(clf.score(X_test,y_test))\n",
    "pre_No=clf.predict(X_f)"
   ]
  },
  {
   "cell_type": "code",
   "execution_count": 37,
   "metadata": {},
   "outputs": [
    {
     "name": "stderr",
     "output_type": "stream",
     "text": [
      "c:\\program files\\python37\\lib\\site-packages\\pandas\\core\\indexing.py:205: SettingWithCopyWarning: \n",
      "A value is trying to be set on a copy of a slice from a DataFrame\n",
      "\n",
      "See the caveats in the documentation: http://pandas.pydata.org/pandas-docs/stable/user_guide/indexing.html#returning-a-view-versus-a-copy\n",
      "  self._setitem_with_indexer(indexer, value)\n"
     ]
    }
   ],
   "source": [
    "for i in range(len(f_No)):\n",
    "    business_attributes[f_No[i]]['NoiseLevel']=reverse_No[pre_No[i]]\n",
    "    business_attributes_df['NoiseLevel'].loc[f_No[i]]=reverse_No[pre_No[i]]"
   ]
  },
  {
   "cell_type": "markdown",
   "metadata": {},
   "source": [
    "##### For BusinessAcceptCreditCard ,  85 missing values"
   ]
  },
  {
   "cell_type": "code",
   "execution_count": 38,
   "metadata": {},
   "outputs": [],
   "source": [
    "Credit_dict={'False':0,'True':1}\n",
    "reverse_Credit={0:'False',1:'True'}\n",
    "t_Credit=exclude_none('BusinessAcceptsCreditCards')\n",
    "f_Credit=find_none('BusinessAcceptsCreditCards')\n",
    "X_t=[]\n",
    "Y_t=[]\n",
    "for i in t_Credit:\n",
    "    x=[]\n",
    "    for attribute in ['HasTV','RestaurantsDelivery','RestaurantsPriceRange2','OutdoorSeating','RestaurantsGoodForGroups','RestaurantsReservations','RestaurantsTakeOut','GoodForKids']:\n",
    "        if business_attributes[i][attribute]=='False':\n",
    "            x.append(0)\n",
    "        elif business_attributes[i][attribute]=='True':\n",
    "            x.append(1)\n",
    "        else:\n",
    "            x.append(float(business_attributes[i][attribute]))\n",
    "    X_t.append(x)\n",
    "    Y_t.append(Credit_dict[business_attributes[i]['BusinessAcceptsCreditCards']])\n",
    "X_f=[]\n",
    "for i in f_Credit:\n",
    "    x=[]\n",
    "    for attribute in ['HasTV','RestaurantsDelivery','RestaurantsPriceRange2','OutdoorSeating','RestaurantsGoodForGroups','RestaurantsReservations','RestaurantsTakeOut','GoodForKids']:\n",
    "        if business_attributes[i][attribute]=='False':\n",
    "            x.append(0)\n",
    "        elif business_attributes[i][attribute]=='True':\n",
    "            x.append(1)\n",
    "        else:\n",
    "            x.append(float(business_attributes[i][attribute]))\n",
    "    X_f.append(x)"
   ]
  },
  {
   "cell_type": "code",
   "execution_count": 39,
   "metadata": {},
   "outputs": [
    {
     "name": "stdout",
     "output_type": "stream",
     "text": [
      "0.9714285714285714\n"
     ]
    }
   ],
   "source": [
    "X_train, X_test, y_train, y_test = train_test_split(X_t, Y_t, test_size=0.2, random_state=0)\n",
    "clf = tree.DecisionTreeClassifier()\n",
    "clf = clf.fit(X_train, y_train)\n",
    "print(clf.score(X_test,y_test))\n",
    "pre_Credit=clf.predict(X_f)"
   ]
  },
  {
   "cell_type": "code",
   "execution_count": 40,
   "metadata": {},
   "outputs": [
    {
     "name": "stderr",
     "output_type": "stream",
     "text": [
      "c:\\program files\\python37\\lib\\site-packages\\pandas\\core\\indexing.py:205: SettingWithCopyWarning: \n",
      "A value is trying to be set on a copy of a slice from a DataFrame\n",
      "\n",
      "See the caveats in the documentation: http://pandas.pydata.org/pandas-docs/stable/user_guide/indexing.html#returning-a-view-versus-a-copy\n",
      "  self._setitem_with_indexer(indexer, value)\n"
     ]
    }
   ],
   "source": [
    "for i in range(len(f_Credit)):\n",
    "    business_attributes[f_Credit[i]]['BusinessAcceptsCreditCards']=reverse_Credit[pre_Credit[i]]\n",
    "    business_attributes_df['BusinessAcceptsCreditCards'].loc[f_Credit[i]]=reverse_Credit[pre_Credit[i]]"
   ]
  },
  {
   "cell_type": "markdown",
   "metadata": {},
   "source": [
    "##### For WiFi, 6 missing values"
   ]
  },
  {
   "cell_type": "code",
   "execution_count": 42,
   "metadata": {},
   "outputs": [],
   "source": [
    "wifi_dict={\"'free'\":1,\"'no'\":2,\"'paid'\":3}\n",
    "reverse_wifi={1:\"'free'\",2:\"'no'\",3:\"'paid'\"}\n",
    "t_wifi=exclude_none('WiFi')\n",
    "f_wifi=find_none('WiFi')\n",
    "X_t=[]\n",
    "Y_t=[]\n",
    "for i in t_wifi:\n",
    "    x=[]\n",
    "    for attribute in ['HasTV','RestaurantsDelivery','RestaurantsPriceRange2','OutdoorSeating','RestaurantsGoodForGroups','RestaurantsReservations','RestaurantsTakeOut','GoodForKids']:\n",
    "        if business_attributes[i][attribute]=='False':\n",
    "            x.append(0)\n",
    "        elif business_attributes[i][attribute]=='True':\n",
    "            x.append(1)\n",
    "        else:\n",
    "            x.append(float(business_attributes[i][attribute]))\n",
    "    X_t.append(x)\n",
    "    Y_t.append(wifi_dict[business_attributes[i]['WiFi']])\n",
    "X_f=[]\n",
    "for i in f_wifi:\n",
    "    x=[]\n",
    "    for attribute in ['HasTV','RestaurantsDelivery','RestaurantsPriceRange2','OutdoorSeating','RestaurantsGoodForGroups','RestaurantsReservations','RestaurantsTakeOut','GoodForKids']:\n",
    "        if business_attributes[i][attribute]=='False':\n",
    "            x.append(0)\n",
    "        elif business_attributes[i][attribute]=='True':\n",
    "            x.append(1)\n",
    "        else:\n",
    "            x.append(float(business_attributes[i][attribute]))\n",
    "    X_f.append(x)"
   ]
  },
  {
   "cell_type": "code",
   "execution_count": 43,
   "metadata": {},
   "outputs": [
    {
     "name": "stdout",
     "output_type": "stream",
     "text": [
      "0.5930232558139535\n"
     ]
    }
   ],
   "source": [
    "X_train, X_test, y_train, y_test = train_test_split(X_t, Y_t, test_size=0.2, random_state=0)\n",
    "clf = tree.DecisionTreeClassifier()\n",
    "clf = clf.fit(X_train, y_train)\n",
    "print(clf.score(X_test,y_test))\n",
    "pre_wifi=clf.predict(X_f)"
   ]
  },
  {
   "cell_type": "code",
   "execution_count": 44,
   "metadata": {},
   "outputs": [
    {
     "name": "stderr",
     "output_type": "stream",
     "text": [
      "c:\\program files\\python37\\lib\\site-packages\\pandas\\core\\indexing.py:205: SettingWithCopyWarning: \n",
      "A value is trying to be set on a copy of a slice from a DataFrame\n",
      "\n",
      "See the caveats in the documentation: http://pandas.pydata.org/pandas-docs/stable/user_guide/indexing.html#returning-a-view-versus-a-copy\n",
      "  self._setitem_with_indexer(indexer, value)\n"
     ]
    }
   ],
   "source": [
    "for i in range(len(f_wifi)):\n",
    "    business_attributes[f_Credit[i]]['WiFi']=reverse_wifi[pre_wifi[i]]\n",
    "    business_attributes_df['WiFi'].loc[f_wifi[i]]=reverse_wifi[pre_wifi[i]]"
   ]
  },
  {
   "cell_type": "markdown",
   "metadata": {},
   "source": [
    "##### For Caters, 32 missing values"
   ]
  },
  {
   "cell_type": "code",
   "execution_count": 45,
   "metadata": {},
   "outputs": [],
   "source": [
    "Cater_dict={'False':0,'True':1}\n",
    "reverse_Cater={0:'False',1:'True'}\n",
    "t_Cater=exclude_none('Caters')\n",
    "f_Cater=find_none('Caters')\n",
    "X_t=[]\n",
    "Y_t=[]\n",
    "for i in t_Cater:\n",
    "    x=[]\n",
    "    for attribute in ['HasTV','RestaurantsDelivery','RestaurantsPriceRange2','OutdoorSeating','RestaurantsGoodForGroups','RestaurantsReservations','RestaurantsTakeOut','GoodForKids']:\n",
    "        if business_attributes[i][attribute]=='False':\n",
    "            x.append(0)\n",
    "        elif business_attributes[i][attribute]=='True':\n",
    "            x.append(1)\n",
    "        else:\n",
    "            x.append(float(business_attributes[i][attribute]))\n",
    "    X_t.append(x)\n",
    "    Y_t.append(Cater_dict[business_attributes[i]['Caters']])\n",
    "X_f=[]\n",
    "for i in f_Cater:\n",
    "    x=[]\n",
    "    for attribute in ['HasTV','RestaurantsDelivery','RestaurantsPriceRange2','OutdoorSeating','RestaurantsGoodForGroups','RestaurantsReservations','RestaurantsTakeOut','GoodForKids']:\n",
    "        if business_attributes[i][attribute]=='False':\n",
    "            x.append(0)\n",
    "        elif business_attributes[i][attribute]=='True':\n",
    "            x.append(1)\n",
    "        else:\n",
    "            x.append(float(business_attributes[i][attribute]))\n",
    "    X_f.append(x)"
   ]
  },
  {
   "cell_type": "code",
   "execution_count": 46,
   "metadata": {},
   "outputs": [
    {
     "name": "stdout",
     "output_type": "stream",
     "text": [
      "0.7160493827160493\n"
     ]
    }
   ],
   "source": [
    "X_train, X_test, y_train, y_test = train_test_split(X_t, Y_t, test_size=0.2, random_state=0)\n",
    "clf = tree.DecisionTreeClassifier()\n",
    "clf = clf.fit(X_train, y_train)\n",
    "print(clf.score(X_test,y_test))\n",
    "pre_Cater=clf.predict(X_f)"
   ]
  },
  {
   "cell_type": "code",
   "execution_count": 47,
   "metadata": {},
   "outputs": [
    {
     "name": "stderr",
     "output_type": "stream",
     "text": [
      "c:\\program files\\python37\\lib\\site-packages\\pandas\\core\\indexing.py:205: SettingWithCopyWarning: \n",
      "A value is trying to be set on a copy of a slice from a DataFrame\n",
      "\n",
      "See the caveats in the documentation: http://pandas.pydata.org/pandas-docs/stable/user_guide/indexing.html#returning-a-view-versus-a-copy\n",
      "  self._setitem_with_indexer(indexer, value)\n"
     ]
    }
   ],
   "source": [
    "for i in range(len(f_Cater)):\n",
    "    business_attributes[f_Cater[i]]['Caters']=reverse_Cater[pre_Cater[i]]\n",
    "    business_attributes_df['Caters'].loc[f_Cater[i]]=reverse_Cater[pre_Cater[i]]"
   ]
  },
  {
   "cell_type": "markdown",
   "metadata": {},
   "source": [
    "##### For BikeParking, 19 missing values"
   ]
  },
  {
   "cell_type": "code",
   "execution_count": 48,
   "metadata": {},
   "outputs": [],
   "source": [
    "bike_dict={'False':0,'True':1}\n",
    "reverse_bike={0:'False',1:'True'}\n",
    "t_bike=exclude_none('BikeParking')\n",
    "f_bike=find_none('BikeParking')\n",
    "X_t=[]\n",
    "Y_t=[]\n",
    "for i in t_bike:\n",
    "    x=[]\n",
    "    for attribute in ['HasTV','RestaurantsDelivery','RestaurantsPriceRange2','OutdoorSeating','RestaurantsGoodForGroups','RestaurantsReservations','RestaurantsTakeOut','GoodForKids']:\n",
    "        if business_attributes[i][attribute]=='False':\n",
    "            x.append(0)\n",
    "        elif business_attributes[i][attribute]=='True':\n",
    "            x.append(1)\n",
    "        else:\n",
    "            x.append(float(business_attributes[i][attribute]))\n",
    "    X_t.append(x)\n",
    "    Y_t.append(Cater_dict[business_attributes[i]['BikeParking']])\n",
    "X_f=[]\n",
    "for i in f_bike:\n",
    "    x=[]\n",
    "    for attribute in ['HasTV','RestaurantsDelivery','RestaurantsPriceRange2','OutdoorSeating','RestaurantsGoodForGroups','RestaurantsReservations','RestaurantsTakeOut','GoodForKids']:\n",
    "        if business_attributes[i][attribute]=='False':\n",
    "            x.append(0)\n",
    "        elif business_attributes[i][attribute]=='True':\n",
    "            x.append(1)\n",
    "        else:\n",
    "            x.append(float(business_attributes[i][attribute]))\n",
    "    X_f.append(x)"
   ]
  },
  {
   "cell_type": "code",
   "execution_count": 49,
   "metadata": {},
   "outputs": [
    {
     "name": "stdout",
     "output_type": "stream",
     "text": [
      "0.7349397590361446\n"
     ]
    }
   ],
   "source": [
    "X_train, X_test, y_train, y_test = train_test_split(X_t, Y_t, test_size=0.2, random_state=0)\n",
    "clf = tree.DecisionTreeClassifier()\n",
    "clf = clf.fit(X_train, y_train)\n",
    "print(clf.score(X_test,y_test))\n",
    "pre_bike=clf.predict(X_f)"
   ]
  },
  {
   "cell_type": "code",
   "execution_count": 50,
   "metadata": {},
   "outputs": [
    {
     "name": "stderr",
     "output_type": "stream",
     "text": [
      "c:\\program files\\python37\\lib\\site-packages\\pandas\\core\\indexing.py:205: SettingWithCopyWarning: \n",
      "A value is trying to be set on a copy of a slice from a DataFrame\n",
      "\n",
      "See the caveats in the documentation: http://pandas.pydata.org/pandas-docs/stable/user_guide/indexing.html#returning-a-view-versus-a-copy\n",
      "  self._setitem_with_indexer(indexer, value)\n"
     ]
    }
   ],
   "source": [
    "for i in range(len(f_bike)):\n",
    "    business_attributes[f_bike[i]]['BikeParking']=reverse_bike[pre_bike[i]]\n",
    "    business_attributes_df['BikeParking'].loc[f_bike[i]]=reverse_bike[pre_bike[i]]"
   ]
  },
  {
   "cell_type": "markdown",
   "metadata": {},
   "source": [
    "##### For RestaurantsAttire, 3 missing values"
   ]
  },
  {
   "cell_type": "code",
   "execution_count": 52,
   "metadata": {},
   "outputs": [],
   "source": [
    "attr_dict={\"'casual'\":1,\"'dressy'\":2}\n",
    "reverse_attr={1:\"'casual'\",2:\"'dressy'\"}\n",
    "t_attr=exclude_none('RestaurantsAttire')\n",
    "f_attr=find_none('RestaurantsAttire')\n",
    "X_t=[]\n",
    "Y_t=[]\n",
    "for i in t_attr:\n",
    "    x=[]\n",
    "    for attribute in ['HasTV','RestaurantsDelivery','RestaurantsPriceRange2','OutdoorSeating','RestaurantsGoodForGroups','RestaurantsReservations','RestaurantsTakeOut','GoodForKids']:\n",
    "        if business_attributes[i][attribute]=='False':\n",
    "            x.append(0)\n",
    "        elif business_attributes[i][attribute]=='True':\n",
    "            x.append(1)\n",
    "        else:\n",
    "            x.append(float(business_attributes[i][attribute]))\n",
    "    X_t.append(x)\n",
    "    Y_t.append(attr_dict[business_attributes[i]['RestaurantsAttire']])\n",
    "X_f=[]\n",
    "for i in f_attr:\n",
    "    x=[]\n",
    "    for attribute in ['HasTV','RestaurantsDelivery','RestaurantsPriceRange2','OutdoorSeating','RestaurantsGoodForGroups','RestaurantsReservations','RestaurantsTakeOut','GoodForKids']:\n",
    "        if business_attributes[i][attribute]=='False':\n",
    "            x.append(0)\n",
    "        elif business_attributes[i][attribute]=='True':\n",
    "            x.append(1)\n",
    "        else:\n",
    "            x.append(float(business_attributes[i][attribute]))\n",
    "    X_f.append(x)"
   ]
  },
  {
   "cell_type": "code",
   "execution_count": 53,
   "metadata": {},
   "outputs": [
    {
     "name": "stdout",
     "output_type": "stream",
     "text": [
      "0.9534883720930233\n"
     ]
    }
   ],
   "source": [
    "X_train, X_test, y_train, y_test = train_test_split(X_t, Y_t, test_size=0.2, random_state=0)\n",
    "clf = tree.DecisionTreeClassifier()\n",
    "clf = clf.fit(X_train, y_train)\n",
    "print(clf.score(X_test,y_test))\n",
    "pre_attr=clf.predict(X_f)"
   ]
  },
  {
   "cell_type": "code",
   "execution_count": 54,
   "metadata": {},
   "outputs": [
    {
     "name": "stderr",
     "output_type": "stream",
     "text": [
      "c:\\program files\\python37\\lib\\site-packages\\pandas\\core\\indexing.py:205: SettingWithCopyWarning: \n",
      "A value is trying to be set on a copy of a slice from a DataFrame\n",
      "\n",
      "See the caveats in the documentation: http://pandas.pydata.org/pandas-docs/stable/user_guide/indexing.html#returning-a-view-versus-a-copy\n",
      "  self._setitem_with_indexer(indexer, value)\n"
     ]
    }
   ],
   "source": [
    "for i in range(len(f_attr)):\n",
    "    business_attributes[f_attr[i]]['RestaurantsAttire']=reverse_attr[pre_attr[i]]\n",
    "    business_attributes_df['RestaurantsAttire'].loc[f_attr[i]]=reverse_attr[pre_attr[i]]"
   ]
  },
  {
   "cell_type": "markdown",
   "metadata": {},
   "source": [
    "##### For RestaurantsTableService, 208 missing values"
   ]
  },
  {
   "cell_type": "code",
   "execution_count": 55,
   "metadata": {},
   "outputs": [],
   "source": [
    "ser_dict={'False':0,'True':1}\n",
    "reverse_ser={0:'False',1:'True'}\n",
    "t_ser=exclude_none('RestaurantsTableService')\n",
    "f_ser=find_none('RestaurantsTableService')\n",
    "X_t=[]\n",
    "Y_t=[]\n",
    "for i in t_ser:\n",
    "    x=[]\n",
    "    for attribute in ['HasTV','RestaurantsDelivery','RestaurantsPriceRange2','OutdoorSeating','RestaurantsGoodForGroups','RestaurantsReservations','RestaurantsTakeOut','GoodForKids']:\n",
    "        if business_attributes[i][attribute]=='False':\n",
    "            x.append(0)\n",
    "        elif business_attributes[i][attribute]=='True':\n",
    "            x.append(1)\n",
    "        else:\n",
    "            x.append(float(business_attributes[i][attribute]))\n",
    "    X_t.append(x)\n",
    "    Y_t.append(ser_dict[business_attributes[i]['RestaurantsTableService']])\n",
    "X_f=[]\n",
    "for i in f_ser:\n",
    "    x=[]\n",
    "    for attribute in ['HasTV','RestaurantsDelivery','RestaurantsPriceRange2','OutdoorSeating','RestaurantsGoodForGroups','RestaurantsReservations','RestaurantsTakeOut','GoodForKids']:\n",
    "        if business_attributes[i][attribute]=='False':\n",
    "            x.append(0)\n",
    "        elif business_attributes[i][attribute]=='True':\n",
    "            x.append(1)\n",
    "        else:\n",
    "            x.append(float(business_attributes[i][attribute]))\n",
    "    X_f.append(x)"
   ]
  },
  {
   "cell_type": "code",
   "execution_count": 56,
   "metadata": {},
   "outputs": [
    {
     "name": "stdout",
     "output_type": "stream",
     "text": [
      "0.9555555555555556\n"
     ]
    }
   ],
   "source": [
    "X_train, X_test, y_train, y_test = train_test_split(X_t, Y_t, test_size=0.2, random_state=0)\n",
    "clf = tree.DecisionTreeClassifier()\n",
    "clf = clf.fit(X_train, y_train)\n",
    "print(clf.score(X_test,y_test))\n",
    "pre_ser=clf.predict(X_f)"
   ]
  },
  {
   "cell_type": "code",
   "execution_count": 57,
   "metadata": {},
   "outputs": [
    {
     "name": "stderr",
     "output_type": "stream",
     "text": [
      "c:\\program files\\python37\\lib\\site-packages\\pandas\\core\\indexing.py:205: SettingWithCopyWarning: \n",
      "A value is trying to be set on a copy of a slice from a DataFrame\n",
      "\n",
      "See the caveats in the documentation: http://pandas.pydata.org/pandas-docs/stable/user_guide/indexing.html#returning-a-view-versus-a-copy\n",
      "  self._setitem_with_indexer(indexer, value)\n"
     ]
    }
   ],
   "source": [
    "for i in range(len(f_ser)):\n",
    "    business_attributes[f_ser[i]]['RestaurantsTableService']=reverse_ser[pre_ser[i]]\n",
    "    business_attributes_df['RestaurantsTableService'].loc[f_ser[i]]=reverse_ser[pre_ser[i]]"
   ]
  },
  {
   "cell_type": "code",
   "execution_count": 58,
   "metadata": {},
   "outputs": [],
   "source": [
    "# restore the data\n",
    "business_attributes_df.to_csv('business_attributes.csv')"
   ]
  },
  {
   "cell_type": "markdown",
   "metadata": {},
   "source": [
    "#### Anova analysis on different attributes"
   ]
  },
  {
   "cell_type": "code",
   "execution_count": 24,
   "metadata": {},
   "outputs": [
    {
     "data": {
      "text/plain": [
       "F_onewayResult(statistic=9.100096148112431, pvalue=0.0027072886734485963)"
      ]
     },
     "execution_count": 24,
     "metadata": {},
     "output_type": "execute_result"
    }
   ],
   "source": [
    "# GoodForKids\n",
    "stats.f_oneway(business_attributes_df['stars'][business_attributes_df['GoodForKids'] == 'False'], \n",
    "             business_attributes_df['stars'][business_attributes_df['GoodForKids'] == 'True'])"
   ]
  },
  {
   "cell_type": "code",
   "execution_count": 25,
   "metadata": {},
   "outputs": [
    {
     "data": {
      "text/plain": [
       "F_onewayResult(statistic=4.090351873401226, pvalue=0.04374575702447464)"
      ]
     },
     "execution_count": 25,
     "metadata": {},
     "output_type": "execute_result"
    }
   ],
   "source": [
    "# RestaurantsTakeOut\n",
    "stats.f_oneway(business_attributes_df['stars'][business_attributes_df['RestaurantsTakeOut'] == 'False'], \n",
    "             business_attributes_df['stars'][business_attributes_df['RestaurantsTakeOut'] == 'True'])"
   ]
  },
  {
   "cell_type": "code",
   "execution_count": 26,
   "metadata": {},
   "outputs": [
    {
     "data": {
      "text/plain": [
       "F_onewayResult(statistic=0.15540637866149778, pvalue=0.6936164344420097)"
      ]
     },
     "execution_count": 26,
     "metadata": {},
     "output_type": "execute_result"
    }
   ],
   "source": [
    "# RestaurantsReservations\n",
    "stats.f_oneway(business_attributes_df['stars'][business_attributes_df['RestaurantsReservations'] == 'False'], \n",
    "             business_attributes_df['stars'][business_attributes_df['RestaurantsReservations'] == 'True'])"
   ]
  },
  {
   "cell_type": "code",
   "execution_count": 27,
   "metadata": {},
   "outputs": [
    {
     "data": {
      "text/plain": [
       "F_onewayResult(statistic=3.8154963753985185, pvalue=0.051427197717029804)"
      ]
     },
     "execution_count": 27,
     "metadata": {},
     "output_type": "execute_result"
    }
   ],
   "source": [
    "# RestaurantsGoodForGroups\n",
    "stats.f_oneway(business_attributes_df['stars'][business_attributes_df['RestaurantsGoodForGroups'] == 'False'], \n",
    "             business_attributes_df['stars'][business_attributes_df['RestaurantsGoodForGroups'] == 'True'])"
   ]
  },
  {
   "cell_type": "code",
   "execution_count": 28,
   "metadata": {},
   "outputs": [
    {
     "data": {
      "text/plain": [
       "F_onewayResult(statistic=0.05842790095446311, pvalue=0.8091131472636344)"
      ]
     },
     "execution_count": 28,
     "metadata": {},
     "output_type": "execute_result"
    }
   ],
   "source": [
    "# OutdoorSeating\n",
    "stats.f_oneway(business_attributes_df['stars'][business_attributes_df['OutdoorSeating'] == 'False'], \n",
    "             business_attributes_df['stars'][business_attributes_df['OutdoorSeating'] == 'True'])"
   ]
  },
  {
   "cell_type": "code",
   "execution_count": 29,
   "metadata": {},
   "outputs": [
    {
     "data": {
      "text/plain": [
       "F_onewayResult(statistic=1.9688781222229454, pvalue=0.1179467902424339)"
      ]
     },
     "execution_count": 29,
     "metadata": {},
     "output_type": "execute_result"
    }
   ],
   "source": [
    "# RestaurantsPriceRange2\n",
    "stats.f_oneway(business_attributes_df['stars'][business_attributes_df['RestaurantsPriceRange2'] == '1'], \n",
    "             business_attributes_df['stars'][business_attributes_df['RestaurantsPriceRange2'] == '2'],\n",
    "              business_attributes_df['stars'][business_attributes_df['RestaurantsPriceRange2'] == '3'],\n",
    "              business_attributes_df['stars'][business_attributes_df['RestaurantsPriceRange2'] == '4'])"
   ]
  },
  {
   "cell_type": "code",
   "execution_count": 30,
   "metadata": {},
   "outputs": [
    {
     "data": {
      "text/plain": [
       "F_onewayResult(statistic=1.1917046680733365, pvalue=0.27559583220665174)"
      ]
     },
     "execution_count": 30,
     "metadata": {},
     "output_type": "execute_result"
    }
   ],
   "source": [
    "# RestaurantsDelivery\n",
    "stats.f_oneway(business_attributes_df['stars'][business_attributes_df['RestaurantsDelivery'] == 'False'], \n",
    "             business_attributes_df['stars'][business_attributes_df['RestaurantsDelivery'] == 'True'])"
   ]
  },
  {
   "cell_type": "code",
   "execution_count": 31,
   "metadata": {},
   "outputs": [
    {
     "data": {
      "text/plain": [
       "F_onewayResult(statistic=0.3704126167173948, pvalue=0.5431000615575006)"
      ]
     },
     "execution_count": 31,
     "metadata": {},
     "output_type": "execute_result"
    }
   ],
   "source": [
    "# HasTV\n",
    "stats.f_oneway(business_attributes_df['stars'][business_attributes_df['HasTV'] == 'False'], \n",
    "             business_attributes_df['stars'][business_attributes_df['HasTV'] == 'True'])"
   ]
  },
  {
   "cell_type": "code",
   "execution_count": 59,
   "metadata": {},
   "outputs": [
    {
     "data": {
      "text/plain": [
       "F_onewayResult(statistic=6.831904166749505, pvalue=0.00016618433473521553)"
      ]
     },
     "execution_count": 59,
     "metadata": {},
     "output_type": "execute_result"
    }
   ],
   "source": [
    "# NoiseLevel\n",
    "stats.f_oneway(business_attributes_df['stars'][business_attributes_df['NoiseLevel'] == \"'average'\"], \n",
    "             business_attributes_df['stars'][business_attributes_df['NoiseLevel'] == \"'loud'\"],\n",
    "             business_attributes_df['stars'][business_attributes_df['NoiseLevel'] == \"'quiet'\"],\n",
    "              business_attributes_df['stars'][business_attributes_df['NoiseLevel'] == \"'very_loud'\"])"
   ]
  },
  {
   "cell_type": "code",
   "execution_count": 60,
   "metadata": {},
   "outputs": [
    {
     "data": {
      "text/plain": [
       "F_onewayResult(statistic=4.546269917669344, pvalue=0.011121551251475353)"
      ]
     },
     "execution_count": 60,
     "metadata": {},
     "output_type": "execute_result"
    }
   ],
   "source": [
    "# Alcohol\n",
    "stats.f_oneway(business_attributes_df['stars'][business_attributes_df['Alcohol'] == \"'beer_and_wine'\"], \n",
    "             business_attributes_df['stars'][business_attributes_df['Alcohol'] == \"'full_bar'\"],\n",
    "             business_attributes_df['stars'][business_attributes_df['Alcohol'] == \"'none'\"] )"
   ]
  },
  {
   "cell_type": "code",
   "execution_count": 61,
   "metadata": {},
   "outputs": [
    {
     "data": {
      "text/plain": [
       "F_onewayResult(statistic=4.3751761991748825, pvalue=0.037050784854024195)"
      ]
     },
     "execution_count": 61,
     "metadata": {},
     "output_type": "execute_result"
    }
   ],
   "source": [
    "# BusinessAcceptsCreditCards\n",
    "stats.f_oneway(business_attributes_df['stars'][business_attributes_df['BusinessAcceptsCreditCards'] == 'False'], \n",
    "             business_attributes_df['stars'][business_attributes_df['BusinessAcceptsCreditCards'] == 'True'])"
   ]
  },
  {
   "cell_type": "code",
   "execution_count": null,
   "metadata": {},
   "outputs": [],
   "source": [
    "# use R to fit a linear regression model."
   ]
  }
 ],
 "metadata": {
  "kernelspec": {
   "display_name": "Python 3",
   "language": "python",
   "name": "python3"
  },
  "language_info": {
   "codemirror_mode": {
    "name": "ipython",
    "version": 3
   },
   "file_extension": ".py",
   "mimetype": "text/x-python",
   "name": "python",
   "nbconvert_exporter": "python",
   "pygments_lexer": "ipython3",
   "version": "3.7.4"
  }
 },
 "nbformat": 4,
 "nbformat_minor": 2
}
