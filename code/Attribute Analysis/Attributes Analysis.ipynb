{
 "cells": [
  {
   "cell_type": "markdown",
   "metadata": {},
   "source": [
    "# Attributes Analysis"
   ]
  },
  {
   "cell_type": "code",
   "execution_count": 1,
   "metadata": {
    "collapsed": true
   },
   "outputs": [],
   "source": [
    "import json, csv\n",
    "import pandas as pd\n",
    "import numpy as np\n",
    "import nltk\n",
    "import matplotlib.pyplot as plt\n",
    "import seaborn as sns\n",
    "from scipy import stats\n",
    "import re\n",
    "import researchpy as rp"
   ]
  },
  {
   "cell_type": "code",
   "execution_count": 2,
   "metadata": {
    "collapsed": true
   },
   "outputs": [],
   "source": [
    "def read_json(path):\n",
    "    with open(path, encoding='utf-8') as f:\n",
    "        iter_f = iter(f)\n",
    "        line = f.readline()\n",
    "        text = []\n",
    "        for line in iter_f: \n",
    "            d = json.loads(line)\n",
    "            text.append(d)\n",
    "        f.close()\n",
    "    return(text)"
   ]
  },
  {
   "cell_type": "code",
   "execution_count": 3,
   "metadata": {
    "collapsed": true
   },
   "outputs": [],
   "source": [
    "raw_business = read_json(\"business.json\")\n",
    "\n",
    "seafood_business = []\n",
    "index = []\n",
    "\n",
    "for i in range(len(raw_business)):\n",
    "    if raw_business[i]['categories'] is None:\n",
    "        continue\n",
    "    if \"Seafood\" in raw_business[i]['categories'] and \"Restaurants\" in raw_business[i]['categories'] \\\n",
    "    and \"Steakhouse\" not in raw_business[i]['categories'] and len(raw_business[i]['categories']) <= 50:\n",
    "        if raw_business[i]['review_count'] >= 50:\n",
    "            seafood_business.append(raw_business[i])\n",
    "            index.append(i)"
   ]
  },
  {
   "cell_type": "code",
   "execution_count": 4,
   "metadata": {},
   "outputs": [
    {
     "data": {
      "text/html": [
       "<div>\n",
       "<style scoped>\n",
       "    .dataframe tbody tr th:only-of-type {\n",
       "        vertical-align: middle;\n",
       "    }\n",
       "\n",
       "    .dataframe tbody tr th {\n",
       "        vertical-align: top;\n",
       "    }\n",
       "\n",
       "    .dataframe thead th {\n",
       "        text-align: right;\n",
       "    }\n",
       "</style>\n",
       "<table border=\"1\" class=\"dataframe\">\n",
       "  <thead>\n",
       "    <tr style=\"text-align: right;\">\n",
       "      <th></th>\n",
       "      <th>Unnamed: 0</th>\n",
       "      <th>address</th>\n",
       "      <th>attributes</th>\n",
       "      <th>business_id</th>\n",
       "      <th>categories</th>\n",
       "      <th>city</th>\n",
       "      <th>hours</th>\n",
       "      <th>is_open</th>\n",
       "      <th>latitude</th>\n",
       "      <th>longitude</th>\n",
       "      <th>name</th>\n",
       "      <th>postal_code</th>\n",
       "      <th>review_count</th>\n",
       "      <th>stars</th>\n",
       "      <th>state</th>\n",
       "    </tr>\n",
       "  </thead>\n",
       "  <tbody>\n",
       "    <tr>\n",
       "      <th>0</th>\n",
       "      <td>0</td>\n",
       "      <td>550 N Hayden Rd</td>\n",
       "      <td>{'BusinessAcceptsCreditCards': 'True', 'Restau...</td>\n",
       "      <td>nsNONDHbV7Vudqh21uicqw</td>\n",
       "      <td>Seafood, Restaurants</td>\n",
       "      <td>Scottsdale</td>\n",
       "      <td>{'Monday': '16:0-0:0', 'Tuesday': '16:0-0:0', ...</td>\n",
       "      <td>1</td>\n",
       "      <td>33.454286</td>\n",
       "      <td>-111.909405</td>\n",
       "      <td>Salt Cellar</td>\n",
       "      <td>85257</td>\n",
       "      <td>526</td>\n",
       "      <td>3.5</td>\n",
       "      <td>AZ</td>\n",
       "    </tr>\n",
       "    <tr>\n",
       "      <th>1</th>\n",
       "      <td>1</td>\n",
       "      <td>7537 S Rainbow Blvd</td>\n",
       "      <td>{'Caters': 'True', 'RestaurantsReservations': ...</td>\n",
       "      <td>F06m2yQSPHIrb1IT7heYeQ</td>\n",
       "      <td>Chinese, Seafood, Cantonese, Noodles, Restaurants</td>\n",
       "      <td>Las Vegas</td>\n",
       "      <td>{'Monday': '11:0-23:0', 'Tuesday': '11:0-23:0'...</td>\n",
       "      <td>1</td>\n",
       "      <td>36.051450</td>\n",
       "      <td>-115.244115</td>\n",
       "      <td>Rainbow Kitchen</td>\n",
       "      <td>89139</td>\n",
       "      <td>101</td>\n",
       "      <td>4.0</td>\n",
       "      <td>NV</td>\n",
       "    </tr>\n",
       "    <tr>\n",
       "      <th>2</th>\n",
       "      <td>2</td>\n",
       "      <td>633 College Street W</td>\n",
       "      <td>{'Ambience': \"{'touristy': False, 'hipster': F...</td>\n",
       "      <td>c_FTil8s5PS2l_YJDQAXhA</td>\n",
       "      <td>Restaurants, Bars, Seafood, Nightlife, Pubs</td>\n",
       "      <td>Toronto</td>\n",
       "      <td>{'Monday': '16:0-1:0', 'Tuesday': '16:0-1:0', ...</td>\n",
       "      <td>1</td>\n",
       "      <td>43.654804</td>\n",
       "      <td>-79.414994</td>\n",
       "      <td>Hogtown Pub &amp; Oysters</td>\n",
       "      <td>M6G 3A7</td>\n",
       "      <td>50</td>\n",
       "      <td>4.0</td>\n",
       "      <td>ON</td>\n",
       "    </tr>\n",
       "    <tr>\n",
       "      <th>3</th>\n",
       "      <td>3</td>\n",
       "      <td>3700 W Flamingo Rd</td>\n",
       "      <td>{'BusinessParking': \"{'garage': True, 'street'...</td>\n",
       "      <td>vAbRNF0hJt91oCUpm_sdKw</td>\n",
       "      <td>Restaurants, Seafood</td>\n",
       "      <td>Las Vegas</td>\n",
       "      <td>{'Monday': '17:0-22:0', 'Tuesday': '17:0-22:0'...</td>\n",
       "      <td>0</td>\n",
       "      <td>36.117433</td>\n",
       "      <td>-115.187379</td>\n",
       "      <td>Buzios Seafood Restaurant</td>\n",
       "      <td>89103</td>\n",
       "      <td>102</td>\n",
       "      <td>3.5</td>\n",
       "      <td>NV</td>\n",
       "    </tr>\n",
       "    <tr>\n",
       "      <th>4</th>\n",
       "      <td>4</td>\n",
       "      <td>53 Scollard Street</td>\n",
       "      <td>{'Ambience': \"{'romantic': False, 'intimate': ...</td>\n",
       "      <td>z8H4Mdzl4jS9pYswj6Jf9w</td>\n",
       "      <td>Seafood, Breakfast &amp; Brunch, Italian, Restaurants</td>\n",
       "      <td>Toronto</td>\n",
       "      <td>{'Monday': '0:0-0:0', 'Tuesday': '11:30-22:0',...</td>\n",
       "      <td>1</td>\n",
       "      <td>43.672142</td>\n",
       "      <td>-79.389392</td>\n",
       "      <td>Buca Yorkville</td>\n",
       "      <td>M5R 0A1</td>\n",
       "      <td>158</td>\n",
       "      <td>3.5</td>\n",
       "      <td>ON</td>\n",
       "    </tr>\n",
       "  </tbody>\n",
       "</table>\n",
       "</div>"
      ],
      "text/plain": [
       "   Unnamed: 0               address  \\\n",
       "0           0       550 N Hayden Rd   \n",
       "1           1   7537 S Rainbow Blvd   \n",
       "2           2  633 College Street W   \n",
       "3           3    3700 W Flamingo Rd   \n",
       "4           4    53 Scollard Street   \n",
       "\n",
       "                                          attributes             business_id  \\\n",
       "0  {'BusinessAcceptsCreditCards': 'True', 'Restau...  nsNONDHbV7Vudqh21uicqw   \n",
       "1  {'Caters': 'True', 'RestaurantsReservations': ...  F06m2yQSPHIrb1IT7heYeQ   \n",
       "2  {'Ambience': \"{'touristy': False, 'hipster': F...  c_FTil8s5PS2l_YJDQAXhA   \n",
       "3  {'BusinessParking': \"{'garage': True, 'street'...  vAbRNF0hJt91oCUpm_sdKw   \n",
       "4  {'Ambience': \"{'romantic': False, 'intimate': ...  z8H4Mdzl4jS9pYswj6Jf9w   \n",
       "\n",
       "                                          categories        city  \\\n",
       "0                               Seafood, Restaurants  Scottsdale   \n",
       "1  Chinese, Seafood, Cantonese, Noodles, Restaurants   Las Vegas   \n",
       "2        Restaurants, Bars, Seafood, Nightlife, Pubs     Toronto   \n",
       "3                               Restaurants, Seafood   Las Vegas   \n",
       "4  Seafood, Breakfast & Brunch, Italian, Restaurants     Toronto   \n",
       "\n",
       "                                               hours  is_open   latitude  \\\n",
       "0  {'Monday': '16:0-0:0', 'Tuesday': '16:0-0:0', ...        1  33.454286   \n",
       "1  {'Monday': '11:0-23:0', 'Tuesday': '11:0-23:0'...        1  36.051450   \n",
       "2  {'Monday': '16:0-1:0', 'Tuesday': '16:0-1:0', ...        1  43.654804   \n",
       "3  {'Monday': '17:0-22:0', 'Tuesday': '17:0-22:0'...        0  36.117433   \n",
       "4  {'Monday': '0:0-0:0', 'Tuesday': '11:30-22:0',...        1  43.672142   \n",
       "\n",
       "    longitude                       name postal_code  review_count  stars  \\\n",
       "0 -111.909405                Salt Cellar       85257           526    3.5   \n",
       "1 -115.244115            Rainbow Kitchen       89139           101    4.0   \n",
       "2  -79.414994      Hogtown Pub & Oysters     M6G 3A7            50    4.0   \n",
       "3 -115.187379  Buzios Seafood Restaurant       89103           102    3.5   \n",
       "4  -79.389392             Buca Yorkville     M5R 0A1           158    3.5   \n",
       "\n",
       "  state  \n",
       "0    AZ  \n",
       "1    NV  \n",
       "2    ON  \n",
       "3    NV  \n",
       "4    ON  "
      ]
     },
     "execution_count": 4,
     "metadata": {},
     "output_type": "execute_result"
    }
   ],
   "source": [
    "seafood_business_df = pd.read_csv(\"seafood_business.csv\")\n",
    "seafood_business_df.head()"
   ]
  },
  {
   "cell_type": "markdown",
   "metadata": {},
   "source": [
    "## All attributes"
   ]
  },
  {
   "cell_type": "code",
   "execution_count": 5,
   "metadata": {},
   "outputs": [
    {
     "data": {
      "text/plain": [
       "['Alcohol',\n",
       " 'Ambience',\n",
       " 'BestNights',\n",
       " 'BikeParking',\n",
       " 'BusinessAcceptsBitcoin',\n",
       " 'BusinessAcceptsCreditCards',\n",
       " 'BusinessParking',\n",
       " 'BYOB',\n",
       " 'BYOBCorkage',\n",
       " 'Caters',\n",
       " 'CoatCheck',\n",
       " 'Corkage',\n",
       " 'DogsAllowed',\n",
       " 'DriveThru',\n",
       " 'GoodForDancing',\n",
       " 'GoodForKids',\n",
       " 'GoodForMeal',\n",
       " 'HappyHour',\n",
       " 'HasTV',\n",
       " 'Music',\n",
       " 'NoiseLevel',\n",
       " 'OutdoorSeating',\n",
       " 'RestaurantsAttire',\n",
       " 'RestaurantsDelivery',\n",
       " 'RestaurantsGoodForGroups',\n",
       " 'RestaurantsPriceRange2',\n",
       " 'RestaurantsReservations',\n",
       " 'RestaurantsTableService',\n",
       " 'RestaurantsTakeOut',\n",
       " 'Smoking',\n",
       " 'WheelchairAccessible',\n",
       " 'WiFi']"
      ]
     },
     "execution_count": 5,
     "metadata": {},
     "output_type": "execute_result"
    }
   ],
   "source": [
    "attributes_all = list()\n",
    "\n",
    "for j in range(len(seafood_business)):\n",
    "    if seafood_business[j]['attributes'] is None:\n",
    "        continue\n",
    "    else:\n",
    "        attributes = seafood_business[j]['attributes'].keys()\n",
    "        attributes = list(attributes)\n",
    "        for i in range(len(attributes)):\n",
    "            if attributes[i] in attributes_all:\n",
    "                continue\n",
    "            else:\n",
    "                attributes_all.append(attributes[i])\n",
    "        \n",
    "sorted(attributes_all, key=str.lower)"
   ]
  },
  {
   "cell_type": "code",
   "execution_count": 6,
   "metadata": {},
   "outputs": [
    {
     "data": {
      "text/plain": [
       "32"
      ]
     },
     "execution_count": 6,
     "metadata": {},
     "output_type": "execute_result"
    }
   ],
   "source": [
    "len(attributes_all)"
   ]
  },
  {
   "cell_type": "markdown",
   "metadata": {},
   "source": [
    "### eg. 'Alcohol'"
   ]
  },
  {
   "cell_type": "code",
   "execution_count": 7,
   "metadata": {
    "collapsed": true
   },
   "outputs": [],
   "source": [
    "def attributes_items(attribute):\n",
    "    items_all = list()\n",
    "    for j in range(len(seafood_business)):\n",
    "        if seafood_business[j]['attributes'] is None:\n",
    "            continue\n",
    "        else:\n",
    "            attributes = seafood_business[j]['attributes'].keys()\n",
    "            attributes = list(attributes)\n",
    "            if attribute in attributes: # if the given attribute exists\n",
    "                items = seafood_business[j]['attributes'][attribute]\n",
    "                if items is None:\n",
    "                    continue\n",
    "                else:                \n",
    "                    if items not in items_all:\n",
    "                        items_all.append(items)                \n",
    "    return(items_all)"
   ]
  },
  {
   "cell_type": "code",
   "execution_count": 8,
   "metadata": {},
   "outputs": [
    {
     "data": {
      "text/plain": [
       "[\"'full_bar'\",\n",
       " \"'beer_and_wine'\",\n",
       " \"u'full_bar'\",\n",
       " \"u'none'\",\n",
       " \"u'beer_and_wine'\",\n",
       " \"'none'\"]"
      ]
     },
     "execution_count": 8,
     "metadata": {},
     "output_type": "execute_result"
    }
   ],
   "source": [
    "attributes_items('Alcohol')"
   ]
  },
  {
   "cell_type": "markdown",
   "metadata": {},
   "source": [
    "## Attributes counts"
   ]
  },
  {
   "cell_type": "code",
   "execution_count": 9,
   "metadata": {
    "collapsed": true
   },
   "outputs": [],
   "source": [
    "def attributes_counts(attribute):\n",
    "    count = 0\n",
    "    for j in range(len(seafood_business)):\n",
    "        if seafood_business[j]['attributes'] is None:\n",
    "            continue\n",
    "        else:\n",
    "            attributes = seafood_business[j]['attributes'].keys()\n",
    "            attributes = list(attributes)\n",
    "            if attribute in attributes: # if the given attribute exists\n",
    "                count += 1\n",
    "    return(count)    "
   ]
  },
  {
   "cell_type": "code",
   "execution_count": 10,
   "metadata": {
    "scrolled": true
   },
   "outputs": [
    {
     "data": {
      "text/plain": [
       "431"
      ]
     },
     "execution_count": 10,
     "metadata": {},
     "output_type": "execute_result"
    }
   ],
   "source": [
    "attributes_counts('Alcohol')"
   ]
  },
  {
   "cell_type": "code",
   "execution_count": 11,
   "metadata": {
    "collapsed": true
   },
   "outputs": [],
   "source": [
    "attributes_all = sorted(attributes_all, key=str.lower)\n",
    "counts = list()\n",
    "\n",
    "for i in range(len(attributes_all)):\n",
    "    count = attributes_counts(attributes_all[i])\n",
    "    counts.append(count)"
   ]
  },
  {
   "cell_type": "code",
   "execution_count": 12,
   "metadata": {
    "scrolled": true
   },
   "outputs": [
    {
     "data": {
      "text/html": [
       "<div>\n",
       "<style scoped>\n",
       "    .dataframe tbody tr th:only-of-type {\n",
       "        vertical-align: middle;\n",
       "    }\n",
       "\n",
       "    .dataframe tbody tr th {\n",
       "        vertical-align: top;\n",
       "    }\n",
       "\n",
       "    .dataframe thead th {\n",
       "        text-align: right;\n",
       "    }\n",
       "</style>\n",
       "<table border=\"1\" class=\"dataframe\">\n",
       "  <thead>\n",
       "    <tr style=\"text-align: right;\">\n",
       "      <th></th>\n",
       "      <th>Attributes</th>\n",
       "      <th>Counts</th>\n",
       "    </tr>\n",
       "  </thead>\n",
       "  <tbody>\n",
       "    <tr>\n",
       "      <th>7</th>\n",
       "      <td>BYOB</td>\n",
       "      <td>1</td>\n",
       "    </tr>\n",
       "    <tr>\n",
       "      <th>13</th>\n",
       "      <td>DriveThru</td>\n",
       "      <td>5</td>\n",
       "    </tr>\n",
       "    <tr>\n",
       "      <th>17</th>\n",
       "      <td>HappyHour</td>\n",
       "      <td>9</td>\n",
       "    </tr>\n",
       "    <tr>\n",
       "      <th>29</th>\n",
       "      <td>Smoking</td>\n",
       "      <td>9</td>\n",
       "    </tr>\n",
       "    <tr>\n",
       "      <th>14</th>\n",
       "      <td>GoodForDancing</td>\n",
       "      <td>10</td>\n",
       "    </tr>\n",
       "    <tr>\n",
       "      <th>10</th>\n",
       "      <td>CoatCheck</td>\n",
       "      <td>10</td>\n",
       "    </tr>\n",
       "    <tr>\n",
       "      <th>2</th>\n",
       "      <td>BestNights</td>\n",
       "      <td>10</td>\n",
       "    </tr>\n",
       "    <tr>\n",
       "      <th>19</th>\n",
       "      <td>Music</td>\n",
       "      <td>11</td>\n",
       "    </tr>\n",
       "    <tr>\n",
       "      <th>11</th>\n",
       "      <td>Corkage</td>\n",
       "      <td>12</td>\n",
       "    </tr>\n",
       "    <tr>\n",
       "      <th>8</th>\n",
       "      <td>BYOBCorkage</td>\n",
       "      <td>35</td>\n",
       "    </tr>\n",
       "    <tr>\n",
       "      <th>12</th>\n",
       "      <td>DogsAllowed</td>\n",
       "      <td>40</td>\n",
       "    </tr>\n",
       "    <tr>\n",
       "      <th>4</th>\n",
       "      <td>BusinessAcceptsBitcoin</td>\n",
       "      <td>43</td>\n",
       "    </tr>\n",
       "    <tr>\n",
       "      <th>30</th>\n",
       "      <td>WheelchairAccessible</td>\n",
       "      <td>102</td>\n",
       "    </tr>\n",
       "    <tr>\n",
       "      <th>27</th>\n",
       "      <td>RestaurantsTableService</td>\n",
       "      <td>225</td>\n",
       "    </tr>\n",
       "    <tr>\n",
       "      <th>5</th>\n",
       "      <td>BusinessAcceptsCreditCards</td>\n",
       "      <td>347</td>\n",
       "    </tr>\n",
       "    <tr>\n",
       "      <th>16</th>\n",
       "      <td>GoodForMeal</td>\n",
       "      <td>381</td>\n",
       "    </tr>\n",
       "    <tr>\n",
       "      <th>9</th>\n",
       "      <td>Caters</td>\n",
       "      <td>401</td>\n",
       "    </tr>\n",
       "    <tr>\n",
       "      <th>3</th>\n",
       "      <td>BikeParking</td>\n",
       "      <td>414</td>\n",
       "    </tr>\n",
       "    <tr>\n",
       "      <th>31</th>\n",
       "      <td>WiFi</td>\n",
       "      <td>426</td>\n",
       "    </tr>\n",
       "    <tr>\n",
       "      <th>20</th>\n",
       "      <td>NoiseLevel</td>\n",
       "      <td>427</td>\n",
       "    </tr>\n",
       "    <tr>\n",
       "      <th>22</th>\n",
       "      <td>RestaurantsAttire</td>\n",
       "      <td>430</td>\n",
       "    </tr>\n",
       "    <tr>\n",
       "      <th>0</th>\n",
       "      <td>Alcohol</td>\n",
       "      <td>431</td>\n",
       "    </tr>\n",
       "    <tr>\n",
       "      <th>18</th>\n",
       "      <td>HasTV</td>\n",
       "      <td>432</td>\n",
       "    </tr>\n",
       "    <tr>\n",
       "      <th>23</th>\n",
       "      <td>RestaurantsDelivery</td>\n",
       "      <td>432</td>\n",
       "    </tr>\n",
       "    <tr>\n",
       "      <th>25</th>\n",
       "      <td>RestaurantsPriceRange2</td>\n",
       "      <td>432</td>\n",
       "    </tr>\n",
       "    <tr>\n",
       "      <th>1</th>\n",
       "      <td>Ambience</td>\n",
       "      <td>432</td>\n",
       "    </tr>\n",
       "    <tr>\n",
       "      <th>21</th>\n",
       "      <td>OutdoorSeating</td>\n",
       "      <td>432</td>\n",
       "    </tr>\n",
       "    <tr>\n",
       "      <th>24</th>\n",
       "      <td>RestaurantsGoodForGroups</td>\n",
       "      <td>433</td>\n",
       "    </tr>\n",
       "    <tr>\n",
       "      <th>26</th>\n",
       "      <td>RestaurantsReservations</td>\n",
       "      <td>433</td>\n",
       "    </tr>\n",
       "    <tr>\n",
       "      <th>6</th>\n",
       "      <td>BusinessParking</td>\n",
       "      <td>433</td>\n",
       "    </tr>\n",
       "    <tr>\n",
       "      <th>28</th>\n",
       "      <td>RestaurantsTakeOut</td>\n",
       "      <td>433</td>\n",
       "    </tr>\n",
       "    <tr>\n",
       "      <th>15</th>\n",
       "      <td>GoodForKids</td>\n",
       "      <td>433</td>\n",
       "    </tr>\n",
       "  </tbody>\n",
       "</table>\n",
       "</div>"
      ],
      "text/plain": [
       "                    Attributes  Counts\n",
       "7                         BYOB       1\n",
       "13                   DriveThru       5\n",
       "17                   HappyHour       9\n",
       "29                     Smoking       9\n",
       "14              GoodForDancing      10\n",
       "10                   CoatCheck      10\n",
       "2                   BestNights      10\n",
       "19                       Music      11\n",
       "11                     Corkage      12\n",
       "8                  BYOBCorkage      35\n",
       "12                 DogsAllowed      40\n",
       "4       BusinessAcceptsBitcoin      43\n",
       "30        WheelchairAccessible     102\n",
       "27     RestaurantsTableService     225\n",
       "5   BusinessAcceptsCreditCards     347\n",
       "16                 GoodForMeal     381\n",
       "9                       Caters     401\n",
       "3                  BikeParking     414\n",
       "31                        WiFi     426\n",
       "20                  NoiseLevel     427\n",
       "22           RestaurantsAttire     430\n",
       "0                      Alcohol     431\n",
       "18                       HasTV     432\n",
       "23         RestaurantsDelivery     432\n",
       "25      RestaurantsPriceRange2     432\n",
       "1                     Ambience     432\n",
       "21              OutdoorSeating     432\n",
       "24    RestaurantsGoodForGroups     433\n",
       "26     RestaurantsReservations     433\n",
       "6              BusinessParking     433\n",
       "28          RestaurantsTakeOut     433\n",
       "15                 GoodForKids     433"
      ]
     },
     "execution_count": 12,
     "metadata": {},
     "output_type": "execute_result"
    }
   ],
   "source": [
    "attributes_counts = pd.concat([pd.Series(attributes_all), pd.Series(counts)], axis=1)\n",
    "attributes_counts.columns = [\"Attributes\", \"Counts\"]\n",
    "attributes_counts = attributes_counts.sort_values(by='Counts')\n",
    "attributes_counts"
   ]
  },
  {
   "cell_type": "markdown",
   "metadata": {},
   "source": [
    "## Attributes selected"
   ]
  },
  {
   "cell_type": "code",
   "execution_count": 13,
   "metadata": {
    "scrolled": false
   },
   "outputs": [
    {
     "data": {
      "text/html": [
       "<div>\n",
       "<style scoped>\n",
       "    .dataframe tbody tr th:only-of-type {\n",
       "        vertical-align: middle;\n",
       "    }\n",
       "\n",
       "    .dataframe tbody tr th {\n",
       "        vertical-align: top;\n",
       "    }\n",
       "\n",
       "    .dataframe thead th {\n",
       "        text-align: right;\n",
       "    }\n",
       "</style>\n",
       "<table border=\"1\" class=\"dataframe\">\n",
       "  <thead>\n",
       "    <tr style=\"text-align: right;\">\n",
       "      <th></th>\n",
       "      <th>Attributes</th>\n",
       "      <th>Counts</th>\n",
       "    </tr>\n",
       "  </thead>\n",
       "  <tbody>\n",
       "    <tr>\n",
       "      <th>5</th>\n",
       "      <td>BusinessAcceptsCreditCards</td>\n",
       "      <td>347</td>\n",
       "    </tr>\n",
       "    <tr>\n",
       "      <th>16</th>\n",
       "      <td>GoodForMeal</td>\n",
       "      <td>381</td>\n",
       "    </tr>\n",
       "    <tr>\n",
       "      <th>9</th>\n",
       "      <td>Caters</td>\n",
       "      <td>401</td>\n",
       "    </tr>\n",
       "    <tr>\n",
       "      <th>3</th>\n",
       "      <td>BikeParking</td>\n",
       "      <td>414</td>\n",
       "    </tr>\n",
       "    <tr>\n",
       "      <th>31</th>\n",
       "      <td>WiFi</td>\n",
       "      <td>426</td>\n",
       "    </tr>\n",
       "    <tr>\n",
       "      <th>20</th>\n",
       "      <td>NoiseLevel</td>\n",
       "      <td>427</td>\n",
       "    </tr>\n",
       "    <tr>\n",
       "      <th>22</th>\n",
       "      <td>RestaurantsAttire</td>\n",
       "      <td>430</td>\n",
       "    </tr>\n",
       "    <tr>\n",
       "      <th>0</th>\n",
       "      <td>Alcohol</td>\n",
       "      <td>431</td>\n",
       "    </tr>\n",
       "    <tr>\n",
       "      <th>18</th>\n",
       "      <td>HasTV</td>\n",
       "      <td>432</td>\n",
       "    </tr>\n",
       "    <tr>\n",
       "      <th>23</th>\n",
       "      <td>RestaurantsDelivery</td>\n",
       "      <td>432</td>\n",
       "    </tr>\n",
       "    <tr>\n",
       "      <th>25</th>\n",
       "      <td>RestaurantsPriceRange2</td>\n",
       "      <td>432</td>\n",
       "    </tr>\n",
       "    <tr>\n",
       "      <th>1</th>\n",
       "      <td>Ambience</td>\n",
       "      <td>432</td>\n",
       "    </tr>\n",
       "    <tr>\n",
       "      <th>21</th>\n",
       "      <td>OutdoorSeating</td>\n",
       "      <td>432</td>\n",
       "    </tr>\n",
       "    <tr>\n",
       "      <th>24</th>\n",
       "      <td>RestaurantsGoodForGroups</td>\n",
       "      <td>433</td>\n",
       "    </tr>\n",
       "    <tr>\n",
       "      <th>26</th>\n",
       "      <td>RestaurantsReservations</td>\n",
       "      <td>433</td>\n",
       "    </tr>\n",
       "    <tr>\n",
       "      <th>6</th>\n",
       "      <td>BusinessParking</td>\n",
       "      <td>433</td>\n",
       "    </tr>\n",
       "    <tr>\n",
       "      <th>28</th>\n",
       "      <td>RestaurantsTakeOut</td>\n",
       "      <td>433</td>\n",
       "    </tr>\n",
       "    <tr>\n",
       "      <th>15</th>\n",
       "      <td>GoodForKids</td>\n",
       "      <td>433</td>\n",
       "    </tr>\n",
       "  </tbody>\n",
       "</table>\n",
       "</div>"
      ],
      "text/plain": [
       "                    Attributes  Counts\n",
       "5   BusinessAcceptsCreditCards     347\n",
       "16                 GoodForMeal     381\n",
       "9                       Caters     401\n",
       "3                  BikeParking     414\n",
       "31                        WiFi     426\n",
       "20                  NoiseLevel     427\n",
       "22           RestaurantsAttire     430\n",
       "0                      Alcohol     431\n",
       "18                       HasTV     432\n",
       "23         RestaurantsDelivery     432\n",
       "25      RestaurantsPriceRange2     432\n",
       "1                     Ambience     432\n",
       "21              OutdoorSeating     432\n",
       "24    RestaurantsGoodForGroups     433\n",
       "26     RestaurantsReservations     433\n",
       "6              BusinessParking     433\n",
       "28          RestaurantsTakeOut     433\n",
       "15                 GoodForKids     433"
      ]
     },
     "execution_count": 13,
     "metadata": {},
     "output_type": "execute_result"
    }
   ],
   "source": [
    "attributes_big = attributes_counts.loc[5:,]\n",
    "attributes_big"
   ]
  },
  {
   "cell_type": "code",
   "execution_count": 14,
   "metadata": {},
   "outputs": [
    {
     "name": "stdout",
     "output_type": "stream",
     "text": [
      "BusinessAcceptsCreditCards : ['True', 'False']\n",
      "GoodForMeal : [\"{'dessert': False, 'latenight': False, 'lunch': False, 'dinner': True, 'brunch': False, 'breakfast': False}\", \"{'dessert': False, 'latenight': True, 'lunch': True, 'dinner': True, 'brunch': False, 'breakfast': False}\", \"{'dessert': False, 'latenight': False, 'lunch': True, 'dinner': True, 'brunch': False, 'breakfast': False}\", \"{'dessert': False, 'latenight': False, 'lunch': True, 'dinner': False, 'brunch': False, 'breakfast': False}\", \"{'dessert': True, 'latenight': False, 'lunch': True, 'dinner': True, 'brunch': False, 'breakfast': False}\", \"{'dessert': True, 'latenight': False, 'lunch': True, 'dinner': True, 'brunch': True, 'breakfast': False}\", \"{'dessert': False, 'latenight': True, 'lunch': True, 'dinner': False, 'brunch': True, 'breakfast': False}\", \"{'dessert': False, 'latenight': False, 'lunch': True, 'dinner': True, 'brunch': True, 'breakfast': False}\", \"{'dessert': False, 'latenight': False, 'lunch': False, 'dinner': False, 'brunch': False, 'breakfast': False}\", \"{'dessert': False, 'latenight': False, 'lunch': True, 'dinner': False, 'brunch': True, 'breakfast': True}\", \"{'dessert': True, 'latenight': False, 'lunch': False, 'dinner': True, 'brunch': False, 'breakfast': False}\", \"{'dessert': True, 'latenight': True, 'lunch': True, 'dinner': True, 'brunch': False, 'breakfast': False}\", \"{'dessert': False, 'latenight': True, 'lunch': False, 'dinner': True, 'brunch': False, 'breakfast': False}\", \"{'dessert': False, 'latenight': False, 'lunch': True, 'dinner': True, 'brunch': True, 'breakfast': True}\", \"{'dessert': False, 'latenight': False, 'lunch': True, 'dinner': True, 'brunch': False, 'breakfast': True}\", \"{'dessert': False, 'latenight': False, 'lunch': False, 'dinner': False, 'brunch': True, 'breakfast': False}\", \"{'dessert': False, 'latenight': False, 'lunch': True, 'dinner': False, 'brunch': True, 'breakfast': False}\", \"{'dessert': True, 'latenight': False, 'lunch': False, 'dinner': True, 'brunch': True, 'breakfast': False}\", \"{'dessert': True, 'latenight': False, 'lunch': True, 'dinner': False, 'brunch': True, 'breakfast': False}\", \"{'dessert': False, 'latenight': True, 'lunch': True, 'dinner': False, 'brunch': False, 'breakfast': False}\", \"{'dessert': True, 'latenight': False, 'lunch': True, 'dinner': False, 'brunch': False, 'breakfast': False}\", \"{'dessert': True, 'latenight': False, 'lunch': False, 'dinner': False, 'brunch': False, 'breakfast': False}\", \"{'dessert': True, 'latenight': False, 'lunch': True, 'dinner': True, 'brunch': True, 'breakfast': True}\"]\n",
      "Caters : ['False', 'True']\n",
      "BikeParking : ['False', 'True']\n",
      "WiFi : [\"u'no'\", \"'free'\", \"'no'\", \"u'free'\", \"u'paid'\"]\n",
      "NoiseLevel : [\"u'average'\", \"u'loud'\", \"'average'\", \"u'quiet'\", \"'loud'\", \"'quiet'\", \"u'very_loud'\"]\n",
      "RestaurantsAttire : [\"u'casual'\", \"'casual'\", \"'dressy'\", \"u'dressy'\"]\n",
      "Alcohol : [\"'full_bar'\", \"'beer_and_wine'\", \"u'full_bar'\", \"u'none'\", \"u'beer_and_wine'\", \"'none'\"]\n",
      "HasTV : ['True', 'False']\n",
      "RestaurantsDelivery : ['False', 'True']\n",
      "RestaurantsPriceRange2 : ['3', '2', '1', '4']\n",
      "Ambience : [\"{'touristy': False, 'hipster': False, 'romantic': False, 'divey': False, 'intimate': False, 'trendy': False, 'upscale': False, 'classy': False, 'casual': False}\", \"{'touristy': False, 'hipster': False, 'romantic': False, 'divey': False, 'intimate': False, 'trendy': False, 'upscale': False, 'classy': False, 'casual': True}\", \"{'touristy': False, 'hipster': False, 'romantic': False, 'intimate': True, 'trendy': False, 'upscale': False, 'classy': False, 'casual': True}\", \"{'romantic': False, 'intimate': False, 'classy': False, 'hipster': False, 'divey': False, 'touristy': False, 'trendy': True, 'upscale': True, 'casual': False}\", \"{'romantic': False, 'intimate': False, 'classy': False, 'hipster': False, 'divey': False, 'touristy': False, 'trendy': False, 'upscale': False, 'casual': True}\", \"{'romantic': False, 'intimate': False, 'touristy': False, 'hipster': False, 'divey': False, 'classy': False, 'trendy': False, 'upscale': False, 'casual': True}\", \"{'touristy': False, 'hipster': False, 'romantic': False, 'intimate': False, 'trendy': False, 'upscale': False, 'classy': False, 'casual': True}\", \"{'romantic': False, 'intimate': False, 'classy': False, 'hipster': False, 'divey': False, 'touristy': False, 'trendy': False, 'upscale': False, 'casual': False}\", \"{'touristy': False, 'hipster': False, 'romantic': False, 'divey': True, 'intimate': False, 'trendy': False, 'upscale': False, 'classy': False, 'casual': True}\", \"{'romantic': False, 'intimate': False, 'classy': False, 'hipster': False, 'divey': False, 'touristy': False, 'trendy': False, 'upscale': True, 'casual': False}\", \"{'touristy': False, 'hipster': False, 'romantic': False, 'divey': False, 'intimate': False, 'trendy': False, 'upscale': False, 'classy': True, 'casual': True}\", \"{'romantic': False, 'intimate': False, 'classy': True, 'hipster': False, 'divey': False, 'touristy': False, 'trendy': False, 'upscale': False, 'casual': False}\", \"{'touristy': True, 'hipster': True, 'romantic': False, 'intimate': False, 'trendy': True, 'upscale': False, 'classy': False, 'casual': True}\", \"{'romantic': False, 'intimate': False, 'classy': True, 'hipster': False, 'divey': False, 'touristy': False, 'trendy': False, 'upscale': True, 'casual': False}\", \"{'touristy': False, 'hipster': False, 'romantic': False, 'intimate': False, 'trendy': False, 'upscale': False, 'classy': False, 'casual': False}\", \"{'touristy': False, 'hipster': False, 'romantic': False, 'divey': False, 'intimate': False, 'trendy': False, 'upscale': True, 'classy': True, 'casual': False}\", \"{'touristy': False, 'hipster': False, 'romantic': False, 'intimate': False, 'trendy': True, 'upscale': False, 'classy': False, 'casual': True}\", \"{'romantic': False, 'intimate': False, 'classy': False, 'hipster': False, 'divey': False, 'touristy': False, 'trendy': True, 'upscale': False, 'casual': False}\", \"{'romantic': False, 'intimate': False, 'classy': False, 'hipster': False, 'divey': True, 'touristy': False, 'trendy': False, 'upscale': False, 'casual': False}\", \"{'touristy': False, 'hipster': False, 'romantic': False, 'divey': False, 'intimate': False, 'trendy': True, 'upscale': True, 'classy': True, 'casual': False}\", \"{'touristy': False, 'hipster': False, 'romantic': False, 'divey': False, 'intimate': True, 'trendy': False, 'upscale': False, 'classy': False, 'casual': True}\", \"{'touristy': False, 'hipster': False, 'romantic': True, 'divey': False, 'intimate': True, 'trendy': False, 'upscale': False, 'classy': False, 'casual': False}\", \"{'touristy': False, 'hipster': False, 'romantic': False, 'divey': True, 'intimate': False, 'trendy': False, 'upscale': False, 'classy': False, 'casual': False}\", \"{'touristy': False, 'hipster': False, 'romantic': True, 'divey': False, 'intimate': True, 'trendy': False, 'upscale': False, 'classy': False, 'casual': True}\", \"{'touristy': False, 'hipster': False, 'romantic': True, 'divey': False, 'intimate': False, 'trendy': True, 'upscale': False, 'classy': False, 'casual': True}\", \"{'touristy': False, 'hipster': False, 'romantic': False, 'divey': False, 'intimate': False, 'trendy': False, 'upscale': False, 'classy': True, 'casual': False}\", \"{'upscale': False, 'romantic': False, 'divey': False, 'intimate': False, 'trendy': False, 'hipster': False, 'classy': False, 'touristy': False, 'casual': True}\", \"{'touristy': True, 'hipster': False, 'romantic': False, 'intimate': False, 'trendy': False, 'upscale': False, 'classy': False, 'casual': True}\", \"{'touristy': False, 'hipster': False, 'romantic': False, 'divey': False, 'intimate': False, 'trendy': True, 'upscale': False, 'classy': False, 'casual': True}\", \"{'romantic': True, 'intimate': False, 'touristy': False, 'hipster': False, 'divey': False, 'classy': False, 'trendy': False, 'upscale': False, 'casual': False}\", \"{'romantic': False, 'intimate': False, 'touristy': False, 'hipster': False, 'divey': False, 'classy': False, 'trendy': False, 'upscale': True, 'casual': False}\", \"{'touristy': False, 'hipster': False, 'romantic': False, 'divey': False, 'intimate': True, 'trendy': True, 'upscale': True, 'classy': True, 'casual': True}\", \"{'romantic': False, 'intimate': True, 'classy': False, 'hipster': False, 'divey': False, 'touristy': False, 'trendy': False, 'upscale': False, 'casual': False}\", \"{'romantic': False, 'intimate': False, 'touristy': False, 'hipster': False, 'divey': False, 'classy': False, 'trendy': True, 'upscale': False, 'casual': False}\", \"{'touristy': False, 'hipster': False, 'romantic': False, 'intimate': True, 'trendy': False, 'upscale': False, 'classy': True, 'casual': False}\", \"{'touristy': False, 'hipster': False, 'romantic': False, 'divey': False, 'intimate': False, 'trendy': False, 'upscale': True, 'classy': False, 'casual': False}\", \"{'touristy': False, 'hipster': False, 'romantic': True, 'divey': False, 'intimate': False, 'trendy': False, 'upscale': False, 'classy': False, 'casual': True}\", \"{'touristy': False, 'hipster': False, 'romantic': False, 'intimate': False, 'trendy': True, 'upscale': False, 'classy': False, 'casual': False}\", \"{'touristy': True, 'hipster': False, 'romantic': False, 'divey': False, 'intimate': False, 'trendy': True, 'upscale': False, 'classy': False, 'casual': True}\", \"{'touristy': False, 'hipster': True, 'romantic': False, 'divey': False, 'intimate': False, 'trendy': False, 'upscale': False, 'classy': False, 'casual': True}\", \"{'touristy': True, 'hipster': False, 'romantic': False, 'divey': False, 'intimate': False, 'trendy': False, 'upscale': False, 'classy': False, 'casual': True}\", \"{'touristy': False, 'hipster': False, 'romantic': True, 'divey': False, 'intimate': False, 'trendy': False, 'upscale': False, 'classy': False, 'casual': False}\", \"{'touristy': False, 'hipster': False, 'romantic': True, 'intimate': False, 'trendy': True, 'upscale': False, 'classy': False, 'casual': False}\", \"{'touristy': False, 'hipster': False, 'romantic': False, 'divey': False, 'intimate': False, 'trendy': False, 'upscale': True, 'classy': False, 'casual': True}\", \"{'romantic': False, 'intimate': False, 'classy': False, 'hipster': True, 'divey': False, 'touristy': False, 'trendy': False, 'upscale': False, 'casual': False}\", \"{'touristy': False, 'hipster': False, 'romantic': False, 'intimate': True, 'trendy': False, 'upscale': False, 'classy': False, 'casual': False}\", \"{'touristy': False, 'hipster': False, 'romantic': True, 'divey': False, 'intimate': False, 'trendy': False, 'upscale': True, 'classy': False, 'casual': True}\", \"{'touristy': False, 'hipster': False, 'romantic': False, 'intimate': False, 'trendy': False, 'upscale': True, 'classy': True, 'casual': False}\", \"{'touristy': False, 'hipster': False, 'romantic': False, 'intimate': False, 'trendy': True, 'upscale': True, 'classy': False, 'casual': False}\", 'None', \"{'romantic': False, 'intimate': True, 'touristy': False, 'hipster': False, 'divey': False, 'classy': False, 'trendy': False, 'upscale': False, 'casual': False}\", \"{'romantic': False, 'intimate': False, 'touristy': False, 'hipster': False, 'divey': False, 'classy': True, 'trendy': False, 'upscale': False, 'casual': False}\", \"{'touristy': False, 'hipster': True, 'romantic': False, 'intimate': False, 'trendy': True, 'upscale': False, 'classy': False, 'casual': False}\"]\n",
      "OutdoorSeating : ['False', 'True']\n",
      "RestaurantsGoodForGroups : ['True', 'False']\n",
      "RestaurantsReservations : ['True', 'False']\n",
      "BusinessParking : [\"{'garage': False, 'street': False, 'validated': False, 'lot': True, 'valet': False}\", \"{'garage': False, 'street': True, 'validated': False, 'lot': False, 'valet': False}\", \"{'garage': True, 'street': False, 'validated': False, 'lot': False, 'valet': True}\", \"{'garage': True, 'street': False, 'validated': False, 'lot': False, 'valet': False}\", \"{'garage': False, 'street': False, 'validated': False, 'lot': False, 'valet': False}\", \"{'garage': False, 'street': True, 'validated': False, 'lot': True, 'valet': False}\", \"{'garage': False, 'street': False, 'validated': False, 'lot': False, 'valet': True}\", \"{'garage': True, 'street': False, 'validated': False, 'lot': True, 'valet': True}\", \"{'garage': True, 'street': True, 'validated': False, 'lot': True, 'valet': True}\", \"{'garage': True, 'street': True, 'validated': False, 'lot': False, 'valet': False}\", \"{'garage': False, 'street': False, 'validated': False, 'lot': True, 'valet': True}\", \"{'garage': False, 'street': False, 'validated': True, 'lot': False, 'valet': False}\", \"{'garage': True, 'street': False, 'validated': False, 'lot': True, 'valet': False}\", \"{'garage': False, 'street': True, 'validated': False, 'lot': False, 'valet': True}\", \"{'garage': True, 'street': True, 'validated': False, 'lot': True, 'valet': False}\", 'None', \"{'garage': False, 'street': False, 'validated': True, 'lot': True, 'valet': False}\", \"{'garage': True, 'street': True, 'validated': False, 'lot': False, 'valet': True}\", \"{'garage': True, 'street': True, 'validated': True, 'lot': False, 'valet': False}\"]\n",
      "RestaurantsTakeOut : ['False', 'True']\n",
      "GoodForKids : ['False', 'True']\n"
     ]
    }
   ],
   "source": [
    "# see attributes contents appeared\n",
    "\n",
    "for i in attributes_big['Attributes']:\n",
    "    print(i, ':', attributes_items(i))"
   ]
  },
  {
   "cell_type": "markdown",
   "metadata": {},
   "source": [
    "### Attributes that have subdivided levels:\n",
    "* \"GoodForMeal\": dessert, latenight, lunch, dinner, brunch, breakfast.\n",
    "* \"Ambience\": touristy, hipster, romantic, divey, intimate, trendy, upscale, classy, casual...\n",
    "* \"BusinessParking\": garage, street, validated, lot, valet..."
   ]
  },
  {
   "cell_type": "code",
   "execution_count": 15,
   "metadata": {},
   "outputs": [
    {
     "data": {
      "text/plain": [
       "['BusinessAcceptsCreditCards',\n",
       " 'GoodForMeal',\n",
       " 'Caters',\n",
       " 'BikeParking',\n",
       " 'WiFi',\n",
       " 'NoiseLevel',\n",
       " 'RestaurantsAttire',\n",
       " 'Alcohol',\n",
       " 'HasTV',\n",
       " 'RestaurantsDelivery',\n",
       " 'RestaurantsPriceRange2',\n",
       " 'Ambience',\n",
       " 'OutdoorSeating',\n",
       " 'RestaurantsGoodForGroups',\n",
       " 'RestaurantsReservations',\n",
       " 'BusinessParking',\n",
       " 'RestaurantsTakeOut',\n",
       " 'GoodForKids']"
      ]
     },
     "execution_count": 15,
     "metadata": {},
     "output_type": "execute_result"
    }
   ],
   "source": [
    "attributes_selected = list(attributes_big['Attributes'])\n",
    "attributes_selected"
   ]
  },
  {
   "cell_type": "code",
   "execution_count": 16,
   "metadata": {
    "collapsed": true
   },
   "outputs": [],
   "source": [
    "business_attributes=[]\n",
    "for business in seafood_business:\n",
    "    new_dic={}\n",
    "    new_dic['business_id']=business['business_id']\n",
    "    for attribute in attributes_selected:\n",
    "        if attribute not in business['attributes'].keys():\n",
    "            new_dic[attribute]=None\n",
    "        else:\n",
    "            new_dic[attribute]=business['attributes'][attribute]\n",
    "    business_attributes.append(new_dic)"
   ]
  },
  {
   "cell_type": "code",
   "execution_count": 17,
   "metadata": {
    "collapsed": true
   },
   "outputs": [],
   "source": [
    "def correct_form(attribute):\n",
    "    for business in business_attributes:\n",
    "        if business[attribute] != None:\n",
    "            if re.search('^u(.*)',business[attribute]):\n",
    "                business[attribute]=re.search('^u(.*)',business[attribute]).group(1)"
   ]
  },
  {
   "cell_type": "code",
   "execution_count": 18,
   "metadata": {
    "collapsed": true
   },
   "outputs": [],
   "source": [
    "correct_form('Alcohol')\n",
    "correct_form('NoiseLevel')\n",
    "correct_form('RestaurantsAttire')\n",
    "correct_form('WiFi')"
   ]
  },
  {
   "cell_type": "code",
   "execution_count": 19,
   "metadata": {
    "scrolled": false
   },
   "outputs": [
    {
     "data": {
      "text/html": [
       "<div>\n",
       "<style scoped>\n",
       "    .dataframe tbody tr th:only-of-type {\n",
       "        vertical-align: middle;\n",
       "    }\n",
       "\n",
       "    .dataframe tbody tr th {\n",
       "        vertical-align: top;\n",
       "    }\n",
       "\n",
       "    .dataframe thead th {\n",
       "        text-align: right;\n",
       "    }\n",
       "</style>\n",
       "<table border=\"1\" class=\"dataframe\">\n",
       "  <thead>\n",
       "    <tr style=\"text-align: right;\">\n",
       "      <th></th>\n",
       "      <th>Alcohol</th>\n",
       "      <th>Ambience</th>\n",
       "      <th>BikeParking</th>\n",
       "      <th>BusinessAcceptsCreditCards</th>\n",
       "      <th>BusinessParking</th>\n",
       "      <th>Caters</th>\n",
       "      <th>GoodForKids</th>\n",
       "      <th>GoodForMeal</th>\n",
       "      <th>HasTV</th>\n",
       "      <th>NoiseLevel</th>\n",
       "      <th>OutdoorSeating</th>\n",
       "      <th>RestaurantsAttire</th>\n",
       "      <th>RestaurantsDelivery</th>\n",
       "      <th>RestaurantsGoodForGroups</th>\n",
       "      <th>RestaurantsPriceRange2</th>\n",
       "      <th>RestaurantsReservations</th>\n",
       "      <th>RestaurantsTakeOut</th>\n",
       "      <th>WiFi</th>\n",
       "      <th>business_id</th>\n",
       "    </tr>\n",
       "  </thead>\n",
       "  <tbody>\n",
       "    <tr>\n",
       "      <th>0</th>\n",
       "      <td>'full_bar'</td>\n",
       "      <td>{'touristy': False, 'hipster': False, 'romanti...</td>\n",
       "      <td>False</td>\n",
       "      <td>True</td>\n",
       "      <td>{'garage': False, 'street': False, 'validated'...</td>\n",
       "      <td>False</td>\n",
       "      <td>False</td>\n",
       "      <td>{'dessert': False, 'latenight': False, 'lunch'...</td>\n",
       "      <td>True</td>\n",
       "      <td>'average'</td>\n",
       "      <td>False</td>\n",
       "      <td>'casual'</td>\n",
       "      <td>False</td>\n",
       "      <td>True</td>\n",
       "      <td>3</td>\n",
       "      <td>True</td>\n",
       "      <td>False</td>\n",
       "      <td>'no'</td>\n",
       "      <td>nsNONDHbV7Vudqh21uicqw</td>\n",
       "    </tr>\n",
       "    <tr>\n",
       "      <th>1</th>\n",
       "      <td>'beer_and_wine'</td>\n",
       "      <td>{'touristy': False, 'hipster': False, 'romanti...</td>\n",
       "      <td>True</td>\n",
       "      <td>True</td>\n",
       "      <td>{'garage': False, 'street': False, 'validated'...</td>\n",
       "      <td>True</td>\n",
       "      <td>True</td>\n",
       "      <td>{'dessert': False, 'latenight': True, 'lunch':...</td>\n",
       "      <td>True</td>\n",
       "      <td>'average'</td>\n",
       "      <td>False</td>\n",
       "      <td>'casual'</td>\n",
       "      <td>False</td>\n",
       "      <td>True</td>\n",
       "      <td>2</td>\n",
       "      <td>True</td>\n",
       "      <td>True</td>\n",
       "      <td>'free'</td>\n",
       "      <td>F06m2yQSPHIrb1IT7heYeQ</td>\n",
       "    </tr>\n",
       "    <tr>\n",
       "      <th>2</th>\n",
       "      <td>'full_bar'</td>\n",
       "      <td>{'touristy': False, 'hipster': False, 'romanti...</td>\n",
       "      <td>True</td>\n",
       "      <td>None</td>\n",
       "      <td>{'garage': False, 'street': True, 'validated':...</td>\n",
       "      <td>False</td>\n",
       "      <td>False</td>\n",
       "      <td>{'dessert': False, 'latenight': True, 'lunch':...</td>\n",
       "      <td>True</td>\n",
       "      <td>'average'</td>\n",
       "      <td>False</td>\n",
       "      <td>'casual'</td>\n",
       "      <td>False</td>\n",
       "      <td>True</td>\n",
       "      <td>2</td>\n",
       "      <td>True</td>\n",
       "      <td>True</td>\n",
       "      <td>'no'</td>\n",
       "      <td>c_FTil8s5PS2l_YJDQAXhA</td>\n",
       "    </tr>\n",
       "    <tr>\n",
       "      <th>3</th>\n",
       "      <td>'full_bar'</td>\n",
       "      <td>None</td>\n",
       "      <td>False</td>\n",
       "      <td>True</td>\n",
       "      <td>{'garage': True, 'street': False, 'validated':...</td>\n",
       "      <td>None</td>\n",
       "      <td>False</td>\n",
       "      <td>None</td>\n",
       "      <td>False</td>\n",
       "      <td>'average'</td>\n",
       "      <td>False</td>\n",
       "      <td>'casual'</td>\n",
       "      <td>False</td>\n",
       "      <td>True</td>\n",
       "      <td>3</td>\n",
       "      <td>True</td>\n",
       "      <td>False</td>\n",
       "      <td>'no'</td>\n",
       "      <td>vAbRNF0hJt91oCUpm_sdKw</td>\n",
       "    </tr>\n",
       "    <tr>\n",
       "      <th>4</th>\n",
       "      <td>'full_bar'</td>\n",
       "      <td>{'romantic': False, 'intimate': False, 'classy...</td>\n",
       "      <td>False</td>\n",
       "      <td>None</td>\n",
       "      <td>{'garage': True, 'street': False, 'validated':...</td>\n",
       "      <td>False</td>\n",
       "      <td>False</td>\n",
       "      <td>{'dessert': False, 'latenight': False, 'lunch'...</td>\n",
       "      <td>False</td>\n",
       "      <td>'loud'</td>\n",
       "      <td>False</td>\n",
       "      <td>'dressy'</td>\n",
       "      <td>False</td>\n",
       "      <td>True</td>\n",
       "      <td>3</td>\n",
       "      <td>True</td>\n",
       "      <td>False</td>\n",
       "      <td>'no'</td>\n",
       "      <td>z8H4Mdzl4jS9pYswj6Jf9w</td>\n",
       "    </tr>\n",
       "  </tbody>\n",
       "</table>\n",
       "</div>"
      ],
      "text/plain": [
       "           Alcohol                                           Ambience  \\\n",
       "0       'full_bar'  {'touristy': False, 'hipster': False, 'romanti...   \n",
       "1  'beer_and_wine'  {'touristy': False, 'hipster': False, 'romanti...   \n",
       "2       'full_bar'  {'touristy': False, 'hipster': False, 'romanti...   \n",
       "3       'full_bar'                                               None   \n",
       "4       'full_bar'  {'romantic': False, 'intimate': False, 'classy...   \n",
       "\n",
       "  BikeParking BusinessAcceptsCreditCards  \\\n",
       "0       False                       True   \n",
       "1        True                       True   \n",
       "2        True                       None   \n",
       "3       False                       True   \n",
       "4       False                       None   \n",
       "\n",
       "                                     BusinessParking Caters GoodForKids  \\\n",
       "0  {'garage': False, 'street': False, 'validated'...  False       False   \n",
       "1  {'garage': False, 'street': False, 'validated'...   True        True   \n",
       "2  {'garage': False, 'street': True, 'validated':...  False       False   \n",
       "3  {'garage': True, 'street': False, 'validated':...   None       False   \n",
       "4  {'garage': True, 'street': False, 'validated':...  False       False   \n",
       "\n",
       "                                         GoodForMeal  HasTV NoiseLevel  \\\n",
       "0  {'dessert': False, 'latenight': False, 'lunch'...   True  'average'   \n",
       "1  {'dessert': False, 'latenight': True, 'lunch':...   True  'average'   \n",
       "2  {'dessert': False, 'latenight': True, 'lunch':...   True  'average'   \n",
       "3                                               None  False  'average'   \n",
       "4  {'dessert': False, 'latenight': False, 'lunch'...  False     'loud'   \n",
       "\n",
       "  OutdoorSeating RestaurantsAttire RestaurantsDelivery  \\\n",
       "0          False          'casual'               False   \n",
       "1          False          'casual'               False   \n",
       "2          False          'casual'               False   \n",
       "3          False          'casual'               False   \n",
       "4          False          'dressy'               False   \n",
       "\n",
       "  RestaurantsGoodForGroups RestaurantsPriceRange2 RestaurantsReservations  \\\n",
       "0                     True                      3                    True   \n",
       "1                     True                      2                    True   \n",
       "2                     True                      2                    True   \n",
       "3                     True                      3                    True   \n",
       "4                     True                      3                    True   \n",
       "\n",
       "  RestaurantsTakeOut    WiFi             business_id  \n",
       "0              False    'no'  nsNONDHbV7Vudqh21uicqw  \n",
       "1               True  'free'  F06m2yQSPHIrb1IT7heYeQ  \n",
       "2               True    'no'  c_FTil8s5PS2l_YJDQAXhA  \n",
       "3              False    'no'  vAbRNF0hJt91oCUpm_sdKw  \n",
       "4              False    'no'  z8H4Mdzl4jS9pYswj6Jf9w  "
      ]
     },
     "execution_count": 19,
     "metadata": {},
     "output_type": "execute_result"
    }
   ],
   "source": [
    "business_attributes_df = pd.DataFrame(business_attributes)\n",
    "business_attributes_df[0:5]"
   ]
  },
  {
   "cell_type": "markdown",
   "metadata": {},
   "source": [
    "## Make up missing attributes"
   ]
  },
  {
   "cell_type": "code",
   "execution_count": 20,
   "metadata": {
    "collapsed": true
   },
   "outputs": [],
   "source": [
    "def find_none(attribute):\n",
    "    indexs=[]\n",
    "    for index, row in business_attributes_df.iterrows():\n",
    "        if row[attribute] is None:\n",
    "            indexs.append(index)\n",
    "    return(indexs)"
   ]
  },
  {
   "cell_type": "markdown",
   "metadata": {},
   "source": [
    "* For **WiFi**:"
   ]
  },
  {
   "cell_type": "code",
   "execution_count": 21,
   "metadata": {},
   "outputs": [
    {
     "name": "stdout",
     "output_type": "stream",
     "text": [
      "index: 54 , Cucina Tagliani , Glendale , 17045 N 59th Ave, Ste 101\n",
      "index: 104 , Ginger Garden , Gilbert , 3310 S Higley Rd, Ste C104\n",
      "index: 210 , Cucina Tagliani , Peoria , 8349 W Bell Rd\n",
      "index: 218 , Ahipoki , Phoenix , 1928 E Highland Ave, Ste F104\n",
      "index: 267 , Island Thyme - A Calypso Grill & Pub , Charlotte , 8129 Ardrey Kell Rd\n",
      "index: 390 , Master Taco , Surprise , 14291 W Grand Ave, Ste 106\n",
      "index: 415 , Poke' Fresh , Akron , 46 N Hawkins Ave, Suite 215\n"
     ]
    }
   ],
   "source": [
    "for i in find_none('WiFi'):\n",
    "    print('index:', i, ',', seafood_business[i]['name'], ',', seafood_business[i]['city'],  ',', seafood_business[i]['address'])"
   ]
  },
  {
   "cell_type": "code",
   "execution_count": 22,
   "metadata": {
    "collapsed": true
   },
   "outputs": [],
   "source": [
    "#business_attributes_df.loc[54]['WiFi'] doesn't provide \n",
    "#business_attributes_df.loc[104]['WiFi'] doesn't provide \n",
    "#business_attributes_df.loc[210]['WiFi'] CLOSED\n",
    "#business_attributes_df.loc[218]['WiFi'] doesn't provide \n",
    "#business_attributes_df.loc[267]['WiFi'] doesn't provide \n",
    "#business_attributes_df.loc[390]['WiFi'] doesn't provide \n",
    "business_attributes_df.loc[415]['WiFi'] = \"'no'\""
   ]
  },
  {
   "cell_type": "markdown",
   "metadata": {},
   "source": [
    "* For **NoiseLevel**:"
   ]
  },
  {
   "cell_type": "code",
   "execution_count": 23,
   "metadata": {},
   "outputs": [
    {
     "name": "stdout",
     "output_type": "stream",
     "text": [
      "index: 21 , Cajun Yard Dog , Fort Mill , 901 Crossroads Plz\n",
      "index: 44 , Ahipoki , Avondale , 10321 W McDowell Rd, Ste A-103\n",
      "index: 267 , Island Thyme - A Calypso Grill & Pub , Charlotte , 8129 Ardrey Kell Rd\n",
      "index: 319 , Mariscos El Pariente , Las Vegas , 6182 W Flamingo Rd\n",
      "index: 361 , Frijoles & Frescas , Las Vegas , 2490 E Desert Inn Rd\n",
      "index: 390 , Master Taco , Surprise , 14291 W Grand Ave, Ste 106\n"
     ]
    }
   ],
   "source": [
    "for i in find_none('NoiseLevel'):\n",
    "    print('index:', i, ',', seafood_business[i]['name'], ',', seafood_business[i]['city'],  ',', seafood_business[i]['address'])"
   ]
  },
  {
   "cell_type": "code",
   "execution_count": 24,
   "metadata": {
    "collapsed": true
   },
   "outputs": [],
   "source": [
    "business_attributes_df.loc[21]['NoiseLevel'] = \"'average'\"\n",
    "#business_attributes_df.loc[44]['NoiseLevel'] doesn't provide \n",
    "business_attributes_df.loc[267]['NoiseLevel'] = \"'average'\"\n",
    "#business_attributes_df.loc[319]['NoiseLevel'] CLOSED\n",
    "#business_attributes_df.loc[361]['NoiseLevel'] doesn't provide \n",
    "business_attributes_df.loc[390]['NoiseLevel'] = \"'quiet'\""
   ]
  },
  {
   "cell_type": "markdown",
   "metadata": {},
   "source": [
    "* For **RestaurantsAttire**:"
   ]
  },
  {
   "cell_type": "code",
   "execution_count": 25,
   "metadata": {},
   "outputs": [
    {
     "name": "stdout",
     "output_type": "stream",
     "text": [
      "index: 267 , Island Thyme - A Calypso Grill & Pub , Charlotte , 8129 Ardrey Kell Rd\n",
      "index: 390 , Master Taco , Surprise , 14291 W Grand Ave, Ste 106\n",
      "index: 415 , Poke' Fresh , Akron , 46 N Hawkins Ave, Suite 215\n"
     ]
    }
   ],
   "source": [
    "for i in find_none('RestaurantsAttire'):\n",
    "    print('index:', i, ',', seafood_business[i]['name'], ',', seafood_business[i]['city'],  ',', seafood_business[i]['address'])"
   ]
  },
  {
   "cell_type": "code",
   "execution_count": 26,
   "metadata": {
    "collapsed": true
   },
   "outputs": [],
   "source": [
    "#business_attributes_df.loc[267]['RestaurantsAttire'] doesn't provide \n",
    "#business_attributes_df.loc[390]['RestaurantsAttire'] doesn't provide \n",
    "#business_attributes_df.loc[415]['RestaurantsAttire'] doesn't provide "
   ]
  },
  {
   "cell_type": "markdown",
   "metadata": {},
   "source": [
    "* For **Alcohol**:"
   ]
  },
  {
   "cell_type": "code",
   "execution_count": 27,
   "metadata": {},
   "outputs": [
    {
     "name": "stdout",
     "output_type": "stream",
     "text": [
      "index: 218 , Ahipoki , Phoenix , 1928 E Highland Ave, Ste F104\n",
      "index: 267 , Island Thyme - A Calypso Grill & Pub , Charlotte , 8129 Ardrey Kell Rd\n"
     ]
    }
   ],
   "source": [
    "for i in find_none('Alcohol'):\n",
    "    print('index:', i, ',', seafood_business[i]['name'], ',', seafood_business[i]['city'],  ',', seafood_business[i]['address'])"
   ]
  },
  {
   "cell_type": "code",
   "execution_count": 28,
   "metadata": {
    "collapsed": true
   },
   "outputs": [],
   "source": [
    "#business_attributes_df.loc[218]['Alcohol'] doesn't provide \n",
    "business_attributes_df.loc[267]['Alcohol'] = \"'full_bar'\""
   ]
  },
  {
   "cell_type": "markdown",
   "metadata": {},
   "source": [
    "* For **HasTV**:"
   ]
  },
  {
   "cell_type": "code",
   "execution_count": 29,
   "metadata": {},
   "outputs": [
    {
     "name": "stdout",
     "output_type": "stream",
     "text": [
      "index: 267 , Island Thyme - A Calypso Grill & Pub , Charlotte , 8129 Ardrey Kell Rd\n"
     ]
    }
   ],
   "source": [
    "for i in find_none('HasTV'):\n",
    "    print('index:', i, ',', seafood_business[i]['name'], ',', seafood_business[i]['city'],  ',', seafood_business[i]['address'])"
   ]
  },
  {
   "cell_type": "code",
   "execution_count": 30,
   "metadata": {
    "collapsed": true
   },
   "outputs": [],
   "source": [
    "business_attributes[267]['HasTV'] = 'True'"
   ]
  },
  {
   "cell_type": "markdown",
   "metadata": {},
   "source": [
    "* For **RestaurantsDelivery**:"
   ]
  },
  {
   "cell_type": "code",
   "execution_count": 31,
   "metadata": {},
   "outputs": [
    {
     "name": "stdout",
     "output_type": "stream",
     "text": [
      "index: 258 , Lobster & Pho , Independence , 6901 Rockside Rd\n"
     ]
    }
   ],
   "source": [
    "for i in find_none('RestaurantsDelivery'):\n",
    "    print('index:', i, ',', seafood_business[i]['name'], ',', seafood_business[i]['city'],  ',', seafood_business[i]['address'])"
   ]
  },
  {
   "cell_type": "code",
   "execution_count": 32,
   "metadata": {
    "collapsed": true
   },
   "outputs": [],
   "source": [
    "business_attributes[258]['RestaurantsDelivery'] = 'False'"
   ]
  },
  {
   "cell_type": "markdown",
   "metadata": {},
   "source": [
    "* For **RestaurantsPriceRange2**:"
   ]
  },
  {
   "cell_type": "code",
   "execution_count": 33,
   "metadata": {},
   "outputs": [
    {
     "name": "stdout",
     "output_type": "stream",
     "text": [
      "index: 267 , Island Thyme - A Calypso Grill & Pub , Charlotte , 8129 Ardrey Kell Rd\n"
     ]
    }
   ],
   "source": [
    "for i in find_none('RestaurantsPriceRange2'):\n",
    "    print('index:', i, ',', seafood_business[i]['name'], ',', seafood_business[i]['city'],  ',', seafood_business[i]['address'])"
   ]
  },
  {
   "cell_type": "code",
   "execution_count": 34,
   "metadata": {
    "collapsed": true
   },
   "outputs": [],
   "source": [
    "business_attributes[267]['RestaurantsPriceRange2'] = '2'"
   ]
  },
  {
   "cell_type": "markdown",
   "metadata": {},
   "source": [
    "* For **Ambience**:"
   ]
  },
  {
   "cell_type": "code",
   "execution_count": 35,
   "metadata": {},
   "outputs": [
    {
     "name": "stdout",
     "output_type": "stream",
     "text": [
      "index: 3 , Buzios Seafood Restaurant , Las Vegas , 3700 W Flamingo Rd\n"
     ]
    }
   ],
   "source": [
    "for i in find_none('Ambience'):\n",
    "    print('index:', i, ',', seafood_business[i]['name'], ',', seafood_business[i]['city'],  ',', seafood_business[i]['address'])"
   ]
  },
  {
   "cell_type": "code",
   "execution_count": 36,
   "metadata": {},
   "outputs": [],
   "source": [
    "#business_attributes[3]['Ambience'] CLOSED"
   ]
  },
  {
   "cell_type": "markdown",
   "metadata": {},
   "source": [
    "* For **OutdoorSeating**:"
   ]
  },
  {
   "cell_type": "code",
   "execution_count": 37,
   "metadata": {},
   "outputs": [
    {
     "name": "stdout",
     "output_type": "stream",
     "text": [
      "index: 267 , Island Thyme - A Calypso Grill & Pub , Charlotte , 8129 Ardrey Kell Rd\n"
     ]
    }
   ],
   "source": [
    "for i in find_none('OutdoorSeating'):\n",
    "    print('index:', i, ',', seafood_business[i]['name'], ',', seafood_business[i]['city'],  ',', seafood_business[i]['address'])"
   ]
  },
  {
   "cell_type": "code",
   "execution_count": 38,
   "metadata": {
    "collapsed": true
   },
   "outputs": [],
   "source": [
    "business_attributes[267]['OutdoorSeating'] = 'True'"
   ]
  },
  {
   "cell_type": "markdown",
   "metadata": {},
   "source": [
    "## One-Way ANOVA"
   ]
  },
  {
   "cell_type": "code",
   "execution_count": 39,
   "metadata": {},
   "outputs": [
    {
     "data": {
      "text/html": [
       "<div>\n",
       "<style scoped>\n",
       "    .dataframe tbody tr th:only-of-type {\n",
       "        vertical-align: middle;\n",
       "    }\n",
       "\n",
       "    .dataframe tbody tr th {\n",
       "        vertical-align: top;\n",
       "    }\n",
       "\n",
       "    .dataframe thead th {\n",
       "        text-align: right;\n",
       "    }\n",
       "</style>\n",
       "<table border=\"1\" class=\"dataframe\">\n",
       "  <thead>\n",
       "    <tr style=\"text-align: right;\">\n",
       "      <th></th>\n",
       "      <th>Alcohol</th>\n",
       "      <th>Ambience</th>\n",
       "      <th>BikeParking</th>\n",
       "      <th>BusinessAcceptsCreditCards</th>\n",
       "      <th>BusinessParking</th>\n",
       "      <th>Caters</th>\n",
       "      <th>GoodForKids</th>\n",
       "      <th>GoodForMeal</th>\n",
       "      <th>HasTV</th>\n",
       "      <th>NoiseLevel</th>\n",
       "      <th>OutdoorSeating</th>\n",
       "      <th>RestaurantsAttire</th>\n",
       "      <th>RestaurantsDelivery</th>\n",
       "      <th>RestaurantsGoodForGroups</th>\n",
       "      <th>RestaurantsPriceRange2</th>\n",
       "      <th>RestaurantsReservations</th>\n",
       "      <th>RestaurantsTakeOut</th>\n",
       "      <th>WiFi</th>\n",
       "      <th>business_id</th>\n",
       "      <th>stars</th>\n",
       "    </tr>\n",
       "  </thead>\n",
       "  <tbody>\n",
       "    <tr>\n",
       "      <th>0</th>\n",
       "      <td>'full_bar'</td>\n",
       "      <td>{'touristy': False, 'hipster': False, 'romanti...</td>\n",
       "      <td>False</td>\n",
       "      <td>True</td>\n",
       "      <td>{'garage': False, 'street': False, 'validated'...</td>\n",
       "      <td>False</td>\n",
       "      <td>False</td>\n",
       "      <td>{'dessert': False, 'latenight': False, 'lunch'...</td>\n",
       "      <td>True</td>\n",
       "      <td>'average'</td>\n",
       "      <td>False</td>\n",
       "      <td>'casual'</td>\n",
       "      <td>False</td>\n",
       "      <td>True</td>\n",
       "      <td>3</td>\n",
       "      <td>True</td>\n",
       "      <td>False</td>\n",
       "      <td>'no'</td>\n",
       "      <td>nsNONDHbV7Vudqh21uicqw</td>\n",
       "      <td>3.5</td>\n",
       "    </tr>\n",
       "    <tr>\n",
       "      <th>1</th>\n",
       "      <td>'beer_and_wine'</td>\n",
       "      <td>{'touristy': False, 'hipster': False, 'romanti...</td>\n",
       "      <td>True</td>\n",
       "      <td>True</td>\n",
       "      <td>{'garage': False, 'street': False, 'validated'...</td>\n",
       "      <td>True</td>\n",
       "      <td>True</td>\n",
       "      <td>{'dessert': False, 'latenight': True, 'lunch':...</td>\n",
       "      <td>True</td>\n",
       "      <td>'average'</td>\n",
       "      <td>False</td>\n",
       "      <td>'casual'</td>\n",
       "      <td>False</td>\n",
       "      <td>True</td>\n",
       "      <td>2</td>\n",
       "      <td>True</td>\n",
       "      <td>True</td>\n",
       "      <td>'free'</td>\n",
       "      <td>F06m2yQSPHIrb1IT7heYeQ</td>\n",
       "      <td>4.0</td>\n",
       "    </tr>\n",
       "    <tr>\n",
       "      <th>2</th>\n",
       "      <td>'full_bar'</td>\n",
       "      <td>{'touristy': False, 'hipster': False, 'romanti...</td>\n",
       "      <td>True</td>\n",
       "      <td>None</td>\n",
       "      <td>{'garage': False, 'street': True, 'validated':...</td>\n",
       "      <td>False</td>\n",
       "      <td>False</td>\n",
       "      <td>{'dessert': False, 'latenight': True, 'lunch':...</td>\n",
       "      <td>True</td>\n",
       "      <td>'average'</td>\n",
       "      <td>False</td>\n",
       "      <td>'casual'</td>\n",
       "      <td>False</td>\n",
       "      <td>True</td>\n",
       "      <td>2</td>\n",
       "      <td>True</td>\n",
       "      <td>True</td>\n",
       "      <td>'no'</td>\n",
       "      <td>c_FTil8s5PS2l_YJDQAXhA</td>\n",
       "      <td>4.0</td>\n",
       "    </tr>\n",
       "    <tr>\n",
       "      <th>3</th>\n",
       "      <td>'full_bar'</td>\n",
       "      <td>None</td>\n",
       "      <td>False</td>\n",
       "      <td>True</td>\n",
       "      <td>{'garage': True, 'street': False, 'validated':...</td>\n",
       "      <td>None</td>\n",
       "      <td>False</td>\n",
       "      <td>None</td>\n",
       "      <td>False</td>\n",
       "      <td>'average'</td>\n",
       "      <td>False</td>\n",
       "      <td>'casual'</td>\n",
       "      <td>False</td>\n",
       "      <td>True</td>\n",
       "      <td>3</td>\n",
       "      <td>True</td>\n",
       "      <td>False</td>\n",
       "      <td>'no'</td>\n",
       "      <td>vAbRNF0hJt91oCUpm_sdKw</td>\n",
       "      <td>3.5</td>\n",
       "    </tr>\n",
       "    <tr>\n",
       "      <th>4</th>\n",
       "      <td>'full_bar'</td>\n",
       "      <td>{'romantic': False, 'intimate': False, 'classy...</td>\n",
       "      <td>False</td>\n",
       "      <td>None</td>\n",
       "      <td>{'garage': True, 'street': False, 'validated':...</td>\n",
       "      <td>False</td>\n",
       "      <td>False</td>\n",
       "      <td>{'dessert': False, 'latenight': False, 'lunch'...</td>\n",
       "      <td>False</td>\n",
       "      <td>'loud'</td>\n",
       "      <td>False</td>\n",
       "      <td>'dressy'</td>\n",
       "      <td>False</td>\n",
       "      <td>True</td>\n",
       "      <td>3</td>\n",
       "      <td>True</td>\n",
       "      <td>False</td>\n",
       "      <td>'no'</td>\n",
       "      <td>z8H4Mdzl4jS9pYswj6Jf9w</td>\n",
       "      <td>3.5</td>\n",
       "    </tr>\n",
       "  </tbody>\n",
       "</table>\n",
       "</div>"
      ],
      "text/plain": [
       "           Alcohol                                           Ambience  \\\n",
       "0       'full_bar'  {'touristy': False, 'hipster': False, 'romanti...   \n",
       "1  'beer_and_wine'  {'touristy': False, 'hipster': False, 'romanti...   \n",
       "2       'full_bar'  {'touristy': False, 'hipster': False, 'romanti...   \n",
       "3       'full_bar'                                               None   \n",
       "4       'full_bar'  {'romantic': False, 'intimate': False, 'classy...   \n",
       "\n",
       "  BikeParking BusinessAcceptsCreditCards  \\\n",
       "0       False                       True   \n",
       "1        True                       True   \n",
       "2        True                       None   \n",
       "3       False                       True   \n",
       "4       False                       None   \n",
       "\n",
       "                                     BusinessParking Caters GoodForKids  \\\n",
       "0  {'garage': False, 'street': False, 'validated'...  False       False   \n",
       "1  {'garage': False, 'street': False, 'validated'...   True        True   \n",
       "2  {'garage': False, 'street': True, 'validated':...  False       False   \n",
       "3  {'garage': True, 'street': False, 'validated':...   None       False   \n",
       "4  {'garage': True, 'street': False, 'validated':...  False       False   \n",
       "\n",
       "                                         GoodForMeal  HasTV NoiseLevel  \\\n",
       "0  {'dessert': False, 'latenight': False, 'lunch'...   True  'average'   \n",
       "1  {'dessert': False, 'latenight': True, 'lunch':...   True  'average'   \n",
       "2  {'dessert': False, 'latenight': True, 'lunch':...   True  'average'   \n",
       "3                                               None  False  'average'   \n",
       "4  {'dessert': False, 'latenight': False, 'lunch'...  False     'loud'   \n",
       "\n",
       "  OutdoorSeating RestaurantsAttire RestaurantsDelivery  \\\n",
       "0          False          'casual'               False   \n",
       "1          False          'casual'               False   \n",
       "2          False          'casual'               False   \n",
       "3          False          'casual'               False   \n",
       "4          False          'dressy'               False   \n",
       "\n",
       "  RestaurantsGoodForGroups RestaurantsPriceRange2 RestaurantsReservations  \\\n",
       "0                     True                      3                    True   \n",
       "1                     True                      2                    True   \n",
       "2                     True                      2                    True   \n",
       "3                     True                      3                    True   \n",
       "4                     True                      3                    True   \n",
       "\n",
       "  RestaurantsTakeOut    WiFi             business_id  stars  \n",
       "0              False    'no'  nsNONDHbV7Vudqh21uicqw    3.5  \n",
       "1               True  'free'  F06m2yQSPHIrb1IT7heYeQ    4.0  \n",
       "2               True    'no'  c_FTil8s5PS2l_YJDQAXhA    4.0  \n",
       "3              False    'no'  vAbRNF0hJt91oCUpm_sdKw    3.5  \n",
       "4              False    'no'  z8H4Mdzl4jS9pYswj6Jf9w    3.5  "
      ]
     },
     "execution_count": 39,
     "metadata": {},
     "output_type": "execute_result"
    }
   ],
   "source": [
    "attributes_stars_df = pd.concat([business_attributes_df, seafood_business_df['stars']], axis=1)\n",
    "attributes_stars_df.head()"
   ]
  },
  {
   "cell_type": "code",
   "execution_count": 40,
   "metadata": {
    "collapsed": true,
    "scrolled": true
   },
   "outputs": [],
   "source": [
    "attributes_list = ['BikeParking', 'BusinessAcceptsCreditCards', 'HasTV', 'Caters', 'GoodForKids', 'OutdoorSeating', \n",
    "                   'RestaurantsDelivery', 'RestaurantsGoodForGroups', 'RestaurantsReservations', 'RestaurantsTakeOut']\n",
    "result_list = []\n",
    "\n",
    "for i in attributes_list:\n",
    "    result = stats.f_oneway(attributes_stars_df['stars'][attributes_stars_df[i] == 'False'], \n",
    "                            attributes_stars_df['stars'][attributes_stars_df[i] == 'True'])\n",
    "    result_list.append(result)"
   ]
  },
  {
   "cell_type": "code",
   "execution_count": 41,
   "metadata": {
    "collapsed": true
   },
   "outputs": [],
   "source": [
    "attributes_list.append('Alcohol')\n",
    "result = stats.f_oneway(attributes_stars_df['stars'][attributes_stars_df['Alcohol'] == \"'full_bar'\"], \n",
    "                        attributes_stars_df['stars'][attributes_stars_df['Alcohol'] == \"'beer_and_wine'\"], \n",
    "                        attributes_stars_df['stars'][attributes_stars_df['Alcohol'] == \"'none'\"])\n",
    "result_list.append(result)"
   ]
  },
  {
   "cell_type": "code",
   "execution_count": 42,
   "metadata": {
    "collapsed": true
   },
   "outputs": [],
   "source": [
    "attributes_list.append('NoiseLevel')\n",
    "result = stats.f_oneway(attributes_stars_df['stars'][attributes_stars_df['NoiseLevel'] == \"'average'\"], \n",
    "                        attributes_stars_df['stars'][attributes_stars_df['NoiseLevel'] == \"'loud'\"], \n",
    "                        attributes_stars_df['stars'][attributes_stars_df['NoiseLevel'] == \"'very_loud'\"],\n",
    "                        attributes_stars_df['stars'][attributes_stars_df['NoiseLevel'] == \"'quiet'\"])\n",
    "result_list.append(result)"
   ]
  },
  {
   "cell_type": "code",
   "execution_count": 43,
   "metadata": {
    "collapsed": true
   },
   "outputs": [],
   "source": [
    "attributes_list.append('RestaurantsAttire')\n",
    "result = stats.f_oneway(attributes_stars_df['stars'][attributes_stars_df['RestaurantsAttire'] == \"'casual'\"], \n",
    "                        attributes_stars_df['stars'][attributes_stars_df['RestaurantsAttire'] == \"'dressy'\"])\n",
    "result_list.append(result)"
   ]
  },
  {
   "cell_type": "code",
   "execution_count": 44,
   "metadata": {
    "collapsed": true
   },
   "outputs": [],
   "source": [
    "attributes_list.append('RestaurantsPriceRange2')\n",
    "result = stats.f_oneway(attributes_stars_df['stars'][attributes_stars_df['RestaurantsPriceRange2'] == '1'], \n",
    "                        attributes_stars_df['stars'][attributes_stars_df['RestaurantsPriceRange2'] == '2'], \n",
    "                        attributes_stars_df['stars'][attributes_stars_df['RestaurantsPriceRange2'] == '3'], \n",
    "                        attributes_stars_df['stars'][attributes_stars_df['RestaurantsPriceRange2'] == '4'], )\n",
    "result_list.append(result)"
   ]
  },
  {
   "cell_type": "code",
   "execution_count": 45,
   "metadata": {
    "collapsed": true
   },
   "outputs": [],
   "source": [
    "attributes_list.append('WiFi')\n",
    "result = stats.f_oneway(attributes_stars_df['stars'][attributes_stars_df['WiFi'] == \"'free'\"], \n",
    "                        attributes_stars_df['stars'][attributes_stars_df['WiFi'] == \"'no'\"], \n",
    "                        attributes_stars_df['stars'][attributes_stars_df['WiFi'] == \"'paid'\"])\n",
    "result_list.append(result)"
   ]
  },
  {
   "cell_type": "code",
   "execution_count": 46,
   "metadata": {},
   "outputs": [
    {
     "data": {
      "text/html": [
       "<div>\n",
       "<style scoped>\n",
       "    .dataframe tbody tr th:only-of-type {\n",
       "        vertical-align: middle;\n",
       "    }\n",
       "\n",
       "    .dataframe tbody tr th {\n",
       "        vertical-align: top;\n",
       "    }\n",
       "\n",
       "    .dataframe thead th {\n",
       "        text-align: right;\n",
       "    }\n",
       "</style>\n",
       "<table border=\"1\" class=\"dataframe\">\n",
       "  <thead>\n",
       "    <tr style=\"text-align: right;\">\n",
       "      <th></th>\n",
       "      <th>Attributes</th>\n",
       "      <th>f-statistic</th>\n",
       "      <th>p-value</th>\n",
       "    </tr>\n",
       "  </thead>\n",
       "  <tbody>\n",
       "    <tr>\n",
       "      <th>11</th>\n",
       "      <td>NoiseLevel</td>\n",
       "      <td>7.286034</td>\n",
       "      <td>0.000089</td>\n",
       "    </tr>\n",
       "    <tr>\n",
       "      <th>1</th>\n",
       "      <td>BusinessAcceptsCreditCards</td>\n",
       "      <td>13.533684</td>\n",
       "      <td>0.000272</td>\n",
       "    </tr>\n",
       "    <tr>\n",
       "      <th>14</th>\n",
       "      <td>WiFi</td>\n",
       "      <td>6.255627</td>\n",
       "      <td>0.002101</td>\n",
       "    </tr>\n",
       "    <tr>\n",
       "      <th>4</th>\n",
       "      <td>GoodForKids</td>\n",
       "      <td>9.100096</td>\n",
       "      <td>0.002707</td>\n",
       "    </tr>\n",
       "    <tr>\n",
       "      <th>12</th>\n",
       "      <td>RestaurantsAttire</td>\n",
       "      <td>8.916933</td>\n",
       "      <td>0.002988</td>\n",
       "    </tr>\n",
       "    <tr>\n",
       "      <th>10</th>\n",
       "      <td>Alcohol</td>\n",
       "      <td>4.637304</td>\n",
       "      <td>0.010174</td>\n",
       "    </tr>\n",
       "    <tr>\n",
       "      <th>9</th>\n",
       "      <td>RestaurantsTakeOut</td>\n",
       "      <td>4.090352</td>\n",
       "      <td>0.043746</td>\n",
       "    </tr>\n",
       "    <tr>\n",
       "      <th>7</th>\n",
       "      <td>RestaurantsGoodForGroups</td>\n",
       "      <td>3.815496</td>\n",
       "      <td>0.051427</td>\n",
       "    </tr>\n",
       "    <tr>\n",
       "      <th>3</th>\n",
       "      <td>Caters</td>\n",
       "      <td>3.018174</td>\n",
       "      <td>0.083108</td>\n",
       "    </tr>\n",
       "    <tr>\n",
       "      <th>13</th>\n",
       "      <td>RestaurantsPriceRange2</td>\n",
       "      <td>1.986279</td>\n",
       "      <td>0.115335</td>\n",
       "    </tr>\n",
       "    <tr>\n",
       "      <th>0</th>\n",
       "      <td>BikeParking</td>\n",
       "      <td>1.365263</td>\n",
       "      <td>0.243303</td>\n",
       "    </tr>\n",
       "    <tr>\n",
       "      <th>6</th>\n",
       "      <td>RestaurantsDelivery</td>\n",
       "      <td>1.222504</td>\n",
       "      <td>0.269488</td>\n",
       "    </tr>\n",
       "    <tr>\n",
       "      <th>2</th>\n",
       "      <td>HasTV</td>\n",
       "      <td>0.399710</td>\n",
       "      <td>0.527575</td>\n",
       "    </tr>\n",
       "    <tr>\n",
       "      <th>8</th>\n",
       "      <td>RestaurantsReservations</td>\n",
       "      <td>0.155406</td>\n",
       "      <td>0.693616</td>\n",
       "    </tr>\n",
       "    <tr>\n",
       "      <th>5</th>\n",
       "      <td>OutdoorSeating</td>\n",
       "      <td>0.039101</td>\n",
       "      <td>0.843342</td>\n",
       "    </tr>\n",
       "  </tbody>\n",
       "</table>\n",
       "</div>"
      ],
      "text/plain": [
       "                    Attributes  f-statistic   p-value\n",
       "11                  NoiseLevel     7.286034  0.000089\n",
       "1   BusinessAcceptsCreditCards    13.533684  0.000272\n",
       "14                        WiFi     6.255627  0.002101\n",
       "4                  GoodForKids     9.100096  0.002707\n",
       "12           RestaurantsAttire     8.916933  0.002988\n",
       "10                     Alcohol     4.637304  0.010174\n",
       "9           RestaurantsTakeOut     4.090352  0.043746\n",
       "7     RestaurantsGoodForGroups     3.815496  0.051427\n",
       "3                       Caters     3.018174  0.083108\n",
       "13      RestaurantsPriceRange2     1.986279  0.115335\n",
       "0                  BikeParking     1.365263  0.243303\n",
       "6          RestaurantsDelivery     1.222504  0.269488\n",
       "2                        HasTV     0.399710  0.527575\n",
       "8      RestaurantsReservations     0.155406  0.693616\n",
       "5               OutdoorSeating     0.039101  0.843342"
      ]
     },
     "execution_count": 46,
     "metadata": {},
     "output_type": "execute_result"
    }
   ],
   "source": [
    "attributes_anova = pd.concat([pd.Series(attributes_list), pd.DataFrame(result_list)], axis=1)\n",
    "attributes_anova.columns = [\"Attributes\", \"f-statistic\", \"p-value\"]\n",
    "attributes_anova = attributes_anova.sort_values(by='p-value')\n",
    "attributes_anova"
   ]
  },
  {
   "cell_type": "code",
   "execution_count": 47,
   "metadata": {},
   "outputs": [
    {
     "data": {
      "text/html": [
       "<div>\n",
       "<style scoped>\n",
       "    .dataframe tbody tr th:only-of-type {\n",
       "        vertical-align: middle;\n",
       "    }\n",
       "\n",
       "    .dataframe tbody tr th {\n",
       "        vertical-align: top;\n",
       "    }\n",
       "\n",
       "    .dataframe thead th {\n",
       "        text-align: right;\n",
       "    }\n",
       "</style>\n",
       "<table border=\"1\" class=\"dataframe\">\n",
       "  <thead>\n",
       "    <tr style=\"text-align: right;\">\n",
       "      <th></th>\n",
       "      <th>Attributes</th>\n",
       "      <th>f-statistic</th>\n",
       "      <th>p-value</th>\n",
       "    </tr>\n",
       "  </thead>\n",
       "  <tbody>\n",
       "    <tr>\n",
       "      <th>11</th>\n",
       "      <td>NoiseLevel</td>\n",
       "      <td>7.286034</td>\n",
       "      <td>0.000089</td>\n",
       "    </tr>\n",
       "    <tr>\n",
       "      <th>1</th>\n",
       "      <td>BusinessAcceptsCreditCards</td>\n",
       "      <td>13.533684</td>\n",
       "      <td>0.000272</td>\n",
       "    </tr>\n",
       "    <tr>\n",
       "      <th>14</th>\n",
       "      <td>WiFi</td>\n",
       "      <td>6.255627</td>\n",
       "      <td>0.002101</td>\n",
       "    </tr>\n",
       "    <tr>\n",
       "      <th>4</th>\n",
       "      <td>GoodForKids</td>\n",
       "      <td>9.100096</td>\n",
       "      <td>0.002707</td>\n",
       "    </tr>\n",
       "    <tr>\n",
       "      <th>12</th>\n",
       "      <td>RestaurantsAttire</td>\n",
       "      <td>8.916933</td>\n",
       "      <td>0.002988</td>\n",
       "    </tr>\n",
       "    <tr>\n",
       "      <th>10</th>\n",
       "      <td>Alcohol</td>\n",
       "      <td>4.637304</td>\n",
       "      <td>0.010174</td>\n",
       "    </tr>\n",
       "    <tr>\n",
       "      <th>9</th>\n",
       "      <td>RestaurantsTakeOut</td>\n",
       "      <td>4.090352</td>\n",
       "      <td>0.043746</td>\n",
       "    </tr>\n",
       "    <tr>\n",
       "      <th>7</th>\n",
       "      <td>RestaurantsGoodForGroups</td>\n",
       "      <td>3.815496</td>\n",
       "      <td>0.051427</td>\n",
       "    </tr>\n",
       "    <tr>\n",
       "      <th>3</th>\n",
       "      <td>Caters</td>\n",
       "      <td>3.018174</td>\n",
       "      <td>0.083108</td>\n",
       "    </tr>\n",
       "  </tbody>\n",
       "</table>\n",
       "</div>"
      ],
      "text/plain": [
       "                    Attributes  f-statistic   p-value\n",
       "11                  NoiseLevel     7.286034  0.000089\n",
       "1   BusinessAcceptsCreditCards    13.533684  0.000272\n",
       "14                        WiFi     6.255627  0.002101\n",
       "4                  GoodForKids     9.100096  0.002707\n",
       "12           RestaurantsAttire     8.916933  0.002988\n",
       "10                     Alcohol     4.637304  0.010174\n",
       "9           RestaurantsTakeOut     4.090352  0.043746\n",
       "7     RestaurantsGoodForGroups     3.815496  0.051427\n",
       "3                       Caters     3.018174  0.083108"
      ]
     },
     "execution_count": 47,
     "metadata": {},
     "output_type": "execute_result"
    }
   ],
   "source": [
    "attributes_imp = attributes_anova.loc[:3]\n",
    "attributes_imp"
   ]
  },
  {
   "cell_type": "code",
   "execution_count": 48,
   "metadata": {},
   "outputs": [
    {
     "name": "stdout",
     "output_type": "stream",
     "text": [
      "\n",
      "\n"
     ]
    },
    {
     "data": {
      "text/plain": [
       "Alcohol\n",
       "'beer_and_wine'    3.747664\n",
       "'full_bar'         3.577731\n",
       "'none'             3.712644\n",
       "Name: Mean, dtype: float64"
      ]
     },
     "execution_count": 48,
     "metadata": {},
     "output_type": "execute_result"
    }
   ],
   "source": [
    "mean_df = rp.summary_cont(attributes_stars_df['stars'].groupby(attributes_stars_df['Alcohol']))\n",
    "mean_df[\"Mean\"]"
   ]
  },
  {
   "cell_type": "code",
   "execution_count": null,
   "metadata": {
    "collapsed": true
   },
   "outputs": [],
   "source": []
  },
  {
   "cell_type": "markdown",
   "metadata": {},
   "source": [
    "## Attributes contain subdivided levels"
   ]
  },
  {
   "cell_type": "markdown",
   "metadata": {},
   "source": [
    "* For **GoodForMeal**:"
   ]
  },
  {
   "cell_type": "code",
   "execution_count": 49,
   "metadata": {},
   "outputs": [
    {
     "data": {
      "text/plain": [
       "{\"{'dessert': False, 'latenight': False, 'lunch': False, 'dinner': True, 'brunch': False, 'breakfast': False}\",\n",
       " \"{'dessert': True, 'latenight': False, 'lunch': True, 'dinner': False, 'brunch': True, 'breakfast': False}\",\n",
       " \"{'dessert': True, 'latenight': False, 'lunch': True, 'dinner': True, 'brunch': True, 'breakfast': True}\",\n",
       " \"{'dessert': False, 'latenight': False, 'lunch': True, 'dinner': False, 'brunch': True, 'breakfast': True}\",\n",
       " \"{'dessert': False, 'latenight': True, 'lunch': True, 'dinner': False, 'brunch': False, 'breakfast': False}\",\n",
       " \"{'dessert': False, 'latenight': True, 'lunch': True, 'dinner': True, 'brunch': False, 'breakfast': False}\",\n",
       " \"{'dessert': False, 'latenight': True, 'lunch': False, 'dinner': True, 'brunch': False, 'breakfast': False}\",\n",
       " \"{'dessert': False, 'latenight': False, 'lunch': True, 'dinner': True, 'brunch': True, 'breakfast': False}\",\n",
       " \"{'dessert': True, 'latenight': False, 'lunch': True, 'dinner': True, 'brunch': False, 'breakfast': False}\",\n",
       " \"{'dessert': False, 'latenight': False, 'lunch': True, 'dinner': True, 'brunch': False, 'breakfast': False}\",\n",
       " \"{'dessert': True, 'latenight': False, 'lunch': False, 'dinner': False, 'brunch': False, 'breakfast': False}\",\n",
       " \"{'dessert': False, 'latenight': False, 'lunch': False, 'dinner': False, 'brunch': False, 'breakfast': False}\",\n",
       " \"{'dessert': True, 'latenight': False, 'lunch': True, 'dinner': True, 'brunch': True, 'breakfast': False}\",\n",
       " \"{'dessert': False, 'latenight': False, 'lunch': True, 'dinner': False, 'brunch': False, 'breakfast': False}\",\n",
       " \"{'dessert': False, 'latenight': False, 'lunch': False, 'dinner': False, 'brunch': True, 'breakfast': False}\",\n",
       " \"{'dessert': True, 'latenight': True, 'lunch': True, 'dinner': True, 'brunch': False, 'breakfast': False}\",\n",
       " \"{'dessert': True, 'latenight': False, 'lunch': False, 'dinner': True, 'brunch': False, 'breakfast': False}\",\n",
       " \"{'dessert': True, 'latenight': False, 'lunch': False, 'dinner': True, 'brunch': True, 'breakfast': False}\",\n",
       " \"{'dessert': False, 'latenight': False, 'lunch': True, 'dinner': True, 'brunch': False, 'breakfast': True}\",\n",
       " \"{'dessert': False, 'latenight': False, 'lunch': True, 'dinner': True, 'brunch': True, 'breakfast': True}\",\n",
       " \"{'dessert': False, 'latenight': False, 'lunch': True, 'dinner': False, 'brunch': True, 'breakfast': False}\",\n",
       " None,\n",
       " \"{'dessert': False, 'latenight': True, 'lunch': True, 'dinner': False, 'brunch': True, 'breakfast': False}\",\n",
       " \"{'dessert': True, 'latenight': False, 'lunch': True, 'dinner': False, 'brunch': False, 'breakfast': False}\"}"
      ]
     },
     "execution_count": 49,
     "metadata": {},
     "output_type": "execute_result"
    }
   ],
   "source": [
    "set(attributes_stars_df['GoodForMeal'])"
   ]
  },
  {
   "cell_type": "code",
   "execution_count": 50,
   "metadata": {},
   "outputs": [],
   "source": [
    "dessert = []\n",
    "latenight = []\n",
    "lunch = []\n",
    "dinner = []\n",
    "brunch = []\n",
    "breakfast = []\n",
    "\n",
    "for i in range(len(attributes_stars_df)):\n",
    "    a = attributes_stars_df['GoodForMeal'][i]\n",
    "    if a is None:\n",
    "        dessert.append(None)\n",
    "        latenight.append(None)\n",
    "        lunch.append(None)\n",
    "        dinner.append(None)\n",
    "        brunch.append(None)\n",
    "        breakfast.append(None)\n",
    "    else:\n",
    "        b = a[1:-1] \n",
    "        c = b.split(\", \")\n",
    "        dessert.append(c[0].split(\": \")[1]) # get True/False and put in the list\n",
    "        latenight.append(c[1].split(\": \")[1])\n",
    "        lunch.append(c[2].split(\": \")[1])\n",
    "        dinner.append(c[3].split(\": \")[1])\n",
    "        brunch.append(c[4].split(\": \")[1])\n",
    "        breakfast.append(c[5].split(\": \")[1])"
   ]
  },
  {
   "cell_type": "code",
   "execution_count": 51,
   "metadata": {},
   "outputs": [
    {
     "data": {
      "text/html": [
       "<div>\n",
       "<style scoped>\n",
       "    .dataframe tbody tr th:only-of-type {\n",
       "        vertical-align: middle;\n",
       "    }\n",
       "\n",
       "    .dataframe tbody tr th {\n",
       "        vertical-align: top;\n",
       "    }\n",
       "\n",
       "    .dataframe thead th {\n",
       "        text-align: right;\n",
       "    }\n",
       "</style>\n",
       "<table border=\"1\" class=\"dataframe\">\n",
       "  <thead>\n",
       "    <tr style=\"text-align: right;\">\n",
       "      <th></th>\n",
       "      <th>business_id</th>\n",
       "      <th>stars</th>\n",
       "      <th>dessert</th>\n",
       "      <th>latenight</th>\n",
       "      <th>lunch</th>\n",
       "      <th>dinner</th>\n",
       "      <th>brunch</th>\n",
       "      <th>breakfast</th>\n",
       "    </tr>\n",
       "  </thead>\n",
       "  <tbody>\n",
       "    <tr>\n",
       "      <th>0</th>\n",
       "      <td>nsNONDHbV7Vudqh21uicqw</td>\n",
       "      <td>3.5</td>\n",
       "      <td>False</td>\n",
       "      <td>False</td>\n",
       "      <td>False</td>\n",
       "      <td>True</td>\n",
       "      <td>False</td>\n",
       "      <td>False</td>\n",
       "    </tr>\n",
       "    <tr>\n",
       "      <th>1</th>\n",
       "      <td>F06m2yQSPHIrb1IT7heYeQ</td>\n",
       "      <td>4.0</td>\n",
       "      <td>False</td>\n",
       "      <td>True</td>\n",
       "      <td>True</td>\n",
       "      <td>True</td>\n",
       "      <td>False</td>\n",
       "      <td>False</td>\n",
       "    </tr>\n",
       "    <tr>\n",
       "      <th>2</th>\n",
       "      <td>c_FTil8s5PS2l_YJDQAXhA</td>\n",
       "      <td>4.0</td>\n",
       "      <td>False</td>\n",
       "      <td>True</td>\n",
       "      <td>True</td>\n",
       "      <td>True</td>\n",
       "      <td>False</td>\n",
       "      <td>False</td>\n",
       "    </tr>\n",
       "    <tr>\n",
       "      <th>3</th>\n",
       "      <td>vAbRNF0hJt91oCUpm_sdKw</td>\n",
       "      <td>3.5</td>\n",
       "      <td>None</td>\n",
       "      <td>None</td>\n",
       "      <td>None</td>\n",
       "      <td>None</td>\n",
       "      <td>None</td>\n",
       "      <td>None</td>\n",
       "    </tr>\n",
       "    <tr>\n",
       "      <th>4</th>\n",
       "      <td>z8H4Mdzl4jS9pYswj6Jf9w</td>\n",
       "      <td>3.5</td>\n",
       "      <td>False</td>\n",
       "      <td>False</td>\n",
       "      <td>False</td>\n",
       "      <td>True</td>\n",
       "      <td>False</td>\n",
       "      <td>False</td>\n",
       "    </tr>\n",
       "  </tbody>\n",
       "</table>\n",
       "</div>"
      ],
      "text/plain": [
       "              business_id  stars dessert latenight  lunch dinner brunch  \\\n",
       "0  nsNONDHbV7Vudqh21uicqw    3.5   False     False  False   True  False   \n",
       "1  F06m2yQSPHIrb1IT7heYeQ    4.0   False      True   True   True  False   \n",
       "2  c_FTil8s5PS2l_YJDQAXhA    4.0   False      True   True   True  False   \n",
       "3  vAbRNF0hJt91oCUpm_sdKw    3.5    None      None   None   None   None   \n",
       "4  z8H4Mdzl4jS9pYswj6Jf9w    3.5   False     False  False   True  False   \n",
       "\n",
       "  breakfast  \n",
       "0     False  \n",
       "1     False  \n",
       "2     False  \n",
       "3      None  \n",
       "4     False  "
      ]
     },
     "execution_count": 51,
     "metadata": {},
     "output_type": "execute_result"
    }
   ],
   "source": [
    "GoodForMeal_df = pd.concat([attributes_stars_df[['business_id', 'stars']], pd.Series(dessert), pd.Series(latenight), \n",
    "                            pd.Series(lunch), pd.Series(dinner), pd.Series(brunch), pd.Series(breakfast)], axis=1)\n",
    "GoodForMeal_df.columns = [\"business_id\", \"stars\", \"dessert\", \"latenight\", \"lunch\", \"dinner\", \"brunch\", \"breakfast\"]\n",
    "GoodForMeal_df.head()"
   ]
  },
  {
   "cell_type": "code",
   "execution_count": 52,
   "metadata": {
    "collapsed": true
   },
   "outputs": [],
   "source": [
    "GoodForMeal_list = [\"dessert\", \"latenight\", \"lunch\", \"dinner\", \"brunch\", \"breakfast\"]\n",
    "result_list = []\n",
    "\n",
    "for i in GoodForMeal_list:\n",
    "    result = stats.f_oneway(GoodForMeal_df['stars'][GoodForMeal_df[i] == 'False'], \n",
    "                            GoodForMeal_df['stars'][GoodForMeal_df[i] == 'True'])\n",
    "    result_list.append(result)"
   ]
  },
  {
   "cell_type": "code",
   "execution_count": 53,
   "metadata": {
    "scrolled": true
   },
   "outputs": [
    {
     "data": {
      "text/html": [
       "<div>\n",
       "<style scoped>\n",
       "    .dataframe tbody tr th:only-of-type {\n",
       "        vertical-align: middle;\n",
       "    }\n",
       "\n",
       "    .dataframe tbody tr th {\n",
       "        vertical-align: top;\n",
       "    }\n",
       "\n",
       "    .dataframe thead th {\n",
       "        text-align: right;\n",
       "    }\n",
       "</style>\n",
       "<table border=\"1\" class=\"dataframe\">\n",
       "  <thead>\n",
       "    <tr style=\"text-align: right;\">\n",
       "      <th></th>\n",
       "      <th>GoodForMeal</th>\n",
       "      <th>f-statistic</th>\n",
       "      <th>p-value</th>\n",
       "    </tr>\n",
       "  </thead>\n",
       "  <tbody>\n",
       "    <tr>\n",
       "      <th>1</th>\n",
       "      <td>latenight</td>\n",
       "      <td>2.677753</td>\n",
       "      <td>0.102589</td>\n",
       "    </tr>\n",
       "    <tr>\n",
       "      <th>4</th>\n",
       "      <td>brunch</td>\n",
       "      <td>1.455042</td>\n",
       "      <td>0.228473</td>\n",
       "    </tr>\n",
       "    <tr>\n",
       "      <th>5</th>\n",
       "      <td>breakfast</td>\n",
       "      <td>0.462183</td>\n",
       "      <td>0.497020</td>\n",
       "    </tr>\n",
       "    <tr>\n",
       "      <th>2</th>\n",
       "      <td>lunch</td>\n",
       "      <td>0.014295</td>\n",
       "      <td>0.904893</td>\n",
       "    </tr>\n",
       "    <tr>\n",
       "      <th>3</th>\n",
       "      <td>dinner</td>\n",
       "      <td>0.010353</td>\n",
       "      <td>0.919010</td>\n",
       "    </tr>\n",
       "    <tr>\n",
       "      <th>0</th>\n",
       "      <td>dessert</td>\n",
       "      <td>0.000989</td>\n",
       "      <td>0.974926</td>\n",
       "    </tr>\n",
       "  </tbody>\n",
       "</table>\n",
       "</div>"
      ],
      "text/plain": [
       "  GoodForMeal  f-statistic   p-value\n",
       "1   latenight     2.677753  0.102589\n",
       "4      brunch     1.455042  0.228473\n",
       "5   breakfast     0.462183  0.497020\n",
       "2       lunch     0.014295  0.904893\n",
       "3      dinner     0.010353  0.919010\n",
       "0     dessert     0.000989  0.974926"
      ]
     },
     "execution_count": 53,
     "metadata": {},
     "output_type": "execute_result"
    }
   ],
   "source": [
    "GoodForMeal_anova = pd.concat([pd.Series(GoodForMeal_list), pd.DataFrame(result_list)], axis=1)\n",
    "GoodForMeal_anova.columns = [\"GoodForMeal\", \"f-statistic\", \"p-value\"]\n",
    "GoodForMeal_anova = GoodForMeal_anova.sort_values(by='p-value')\n",
    "GoodForMeal_anova"
   ]
  },
  {
   "cell_type": "markdown",
   "metadata": {},
   "source": [
    "* For **BusinessParking**:"
   ]
  },
  {
   "cell_type": "code",
   "execution_count": 54,
   "metadata": {},
   "outputs": [
    {
     "data": {
      "text/plain": [
       "{'None',\n",
       " \"{'garage': False, 'street': False, 'validated': False, 'lot': False, 'valet': False}\",\n",
       " \"{'garage': False, 'street': False, 'validated': False, 'lot': False, 'valet': True}\",\n",
       " \"{'garage': False, 'street': False, 'validated': False, 'lot': True, 'valet': False}\",\n",
       " \"{'garage': False, 'street': False, 'validated': False, 'lot': True, 'valet': True}\",\n",
       " \"{'garage': False, 'street': False, 'validated': True, 'lot': False, 'valet': False}\",\n",
       " \"{'garage': False, 'street': False, 'validated': True, 'lot': True, 'valet': False}\",\n",
       " \"{'garage': False, 'street': True, 'validated': False, 'lot': False, 'valet': False}\",\n",
       " \"{'garage': False, 'street': True, 'validated': False, 'lot': False, 'valet': True}\",\n",
       " \"{'garage': False, 'street': True, 'validated': False, 'lot': True, 'valet': False}\",\n",
       " \"{'garage': True, 'street': False, 'validated': False, 'lot': False, 'valet': False}\",\n",
       " \"{'garage': True, 'street': False, 'validated': False, 'lot': False, 'valet': True}\",\n",
       " \"{'garage': True, 'street': False, 'validated': False, 'lot': True, 'valet': False}\",\n",
       " \"{'garage': True, 'street': False, 'validated': False, 'lot': True, 'valet': True}\",\n",
       " \"{'garage': True, 'street': True, 'validated': False, 'lot': False, 'valet': False}\",\n",
       " \"{'garage': True, 'street': True, 'validated': False, 'lot': False, 'valet': True}\",\n",
       " \"{'garage': True, 'street': True, 'validated': False, 'lot': True, 'valet': False}\",\n",
       " \"{'garage': True, 'street': True, 'validated': False, 'lot': True, 'valet': True}\",\n",
       " \"{'garage': True, 'street': True, 'validated': True, 'lot': False, 'valet': False}\"}"
      ]
     },
     "execution_count": 54,
     "metadata": {},
     "output_type": "execute_result"
    }
   ],
   "source": [
    "set(attributes_stars_df['BusinessParking'])"
   ]
  },
  {
   "cell_type": "code",
   "execution_count": 55,
   "metadata": {},
   "outputs": [],
   "source": [
    "garage = []\n",
    "street = []\n",
    "validated = []\n",
    "lot = []\n",
    "valet = []\n",
    "\n",
    "for i in range(len(attributes_stars_df)):\n",
    "    a = attributes_stars_df['BusinessParking'][i]\n",
    "    if a == 'None':\n",
    "        garage.append(False)\n",
    "        street.append(False)\n",
    "        validated.append(False)\n",
    "        lot.append(False)\n",
    "        valet.append(False)\n",
    "    else:\n",
    "        b = a[1:-1] \n",
    "        c = b.split(\", \")\n",
    "        garage.append(c[0].split(\": \")[1]) # get True/False and put in the list\n",
    "        street.append(c[1].split(\": \")[1])\n",
    "        validated.append(c[2].split(\": \")[1])\n",
    "        lot.append(c[3].split(\": \")[1])\n",
    "        valet.append(c[4].split(\": \")[1])"
   ]
  },
  {
   "cell_type": "code",
   "execution_count": 56,
   "metadata": {},
   "outputs": [
    {
     "data": {
      "text/html": [
       "<div>\n",
       "<style scoped>\n",
       "    .dataframe tbody tr th:only-of-type {\n",
       "        vertical-align: middle;\n",
       "    }\n",
       "\n",
       "    .dataframe tbody tr th {\n",
       "        vertical-align: top;\n",
       "    }\n",
       "\n",
       "    .dataframe thead th {\n",
       "        text-align: right;\n",
       "    }\n",
       "</style>\n",
       "<table border=\"1\" class=\"dataframe\">\n",
       "  <thead>\n",
       "    <tr style=\"text-align: right;\">\n",
       "      <th></th>\n",
       "      <th>business_id</th>\n",
       "      <th>stars</th>\n",
       "      <th>garage</th>\n",
       "      <th>street</th>\n",
       "      <th>validated</th>\n",
       "      <th>lot</th>\n",
       "      <th>valet</th>\n",
       "    </tr>\n",
       "  </thead>\n",
       "  <tbody>\n",
       "    <tr>\n",
       "      <th>0</th>\n",
       "      <td>nsNONDHbV7Vudqh21uicqw</td>\n",
       "      <td>3.5</td>\n",
       "      <td>False</td>\n",
       "      <td>False</td>\n",
       "      <td>False</td>\n",
       "      <td>True</td>\n",
       "      <td>False</td>\n",
       "    </tr>\n",
       "    <tr>\n",
       "      <th>1</th>\n",
       "      <td>F06m2yQSPHIrb1IT7heYeQ</td>\n",
       "      <td>4.0</td>\n",
       "      <td>False</td>\n",
       "      <td>False</td>\n",
       "      <td>False</td>\n",
       "      <td>True</td>\n",
       "      <td>False</td>\n",
       "    </tr>\n",
       "    <tr>\n",
       "      <th>2</th>\n",
       "      <td>c_FTil8s5PS2l_YJDQAXhA</td>\n",
       "      <td>4.0</td>\n",
       "      <td>False</td>\n",
       "      <td>True</td>\n",
       "      <td>False</td>\n",
       "      <td>False</td>\n",
       "      <td>False</td>\n",
       "    </tr>\n",
       "    <tr>\n",
       "      <th>3</th>\n",
       "      <td>vAbRNF0hJt91oCUpm_sdKw</td>\n",
       "      <td>3.5</td>\n",
       "      <td>True</td>\n",
       "      <td>False</td>\n",
       "      <td>False</td>\n",
       "      <td>False</td>\n",
       "      <td>True</td>\n",
       "    </tr>\n",
       "    <tr>\n",
       "      <th>4</th>\n",
       "      <td>z8H4Mdzl4jS9pYswj6Jf9w</td>\n",
       "      <td>3.5</td>\n",
       "      <td>True</td>\n",
       "      <td>False</td>\n",
       "      <td>False</td>\n",
       "      <td>False</td>\n",
       "      <td>False</td>\n",
       "    </tr>\n",
       "  </tbody>\n",
       "</table>\n",
       "</div>"
      ],
      "text/plain": [
       "              business_id  stars garage street validated    lot  valet\n",
       "0  nsNONDHbV7Vudqh21uicqw    3.5  False  False     False   True  False\n",
       "1  F06m2yQSPHIrb1IT7heYeQ    4.0  False  False     False   True  False\n",
       "2  c_FTil8s5PS2l_YJDQAXhA    4.0  False   True     False  False  False\n",
       "3  vAbRNF0hJt91oCUpm_sdKw    3.5   True  False     False  False   True\n",
       "4  z8H4Mdzl4jS9pYswj6Jf9w    3.5   True  False     False  False  False"
      ]
     },
     "execution_count": 56,
     "metadata": {},
     "output_type": "execute_result"
    }
   ],
   "source": [
    "BusinessParking_df = pd.concat([attributes_stars_df[['business_id', 'stars']], pd.Series(garage), pd.Series(street), \n",
    "                                pd.Series(validated), pd.Series(lot), pd.Series(valet)], axis=1)\n",
    "BusinessParking_df.columns = [\"business_id\", \"stars\", \"garage\", \"street\", \"validated\", \"lot\", \"valet\"]\n",
    "BusinessParking_df.head()"
   ]
  },
  {
   "cell_type": "code",
   "execution_count": 57,
   "metadata": {
    "collapsed": true
   },
   "outputs": [],
   "source": [
    "BusinessParking_list = [\"garage\", \"street\", \"validated\", \"lot\", \"valet\"]\n",
    "result_list = []\n",
    "\n",
    "for i in BusinessParking_list:\n",
    "    result = stats.f_oneway(BusinessParking_df['stars'][BusinessParking_df[i] == 'False'], \n",
    "                            BusinessParking_df['stars'][BusinessParking_df[i] == 'True'])\n",
    "    result_list.append(result)"
   ]
  },
  {
   "cell_type": "code",
   "execution_count": 58,
   "metadata": {
    "scrolled": true
   },
   "outputs": [
    {
     "data": {
      "text/html": [
       "<div>\n",
       "<style scoped>\n",
       "    .dataframe tbody tr th:only-of-type {\n",
       "        vertical-align: middle;\n",
       "    }\n",
       "\n",
       "    .dataframe tbody tr th {\n",
       "        vertical-align: top;\n",
       "    }\n",
       "\n",
       "    .dataframe thead th {\n",
       "        text-align: right;\n",
       "    }\n",
       "</style>\n",
       "<table border=\"1\" class=\"dataframe\">\n",
       "  <thead>\n",
       "    <tr style=\"text-align: right;\">\n",
       "      <th></th>\n",
       "      <th>BusinessParking</th>\n",
       "      <th>f-statistic</th>\n",
       "      <th>p-value</th>\n",
       "    </tr>\n",
       "  </thead>\n",
       "  <tbody>\n",
       "    <tr>\n",
       "      <th>2</th>\n",
       "      <td>validated</td>\n",
       "      <td>5.177691</td>\n",
       "      <td>0.023371</td>\n",
       "    </tr>\n",
       "    <tr>\n",
       "      <th>1</th>\n",
       "      <td>street</td>\n",
       "      <td>0.707008</td>\n",
       "      <td>0.400907</td>\n",
       "    </tr>\n",
       "    <tr>\n",
       "      <th>4</th>\n",
       "      <td>valet</td>\n",
       "      <td>0.475792</td>\n",
       "      <td>0.490708</td>\n",
       "    </tr>\n",
       "    <tr>\n",
       "      <th>0</th>\n",
       "      <td>garage</td>\n",
       "      <td>0.066927</td>\n",
       "      <td>0.795988</td>\n",
       "    </tr>\n",
       "    <tr>\n",
       "      <th>3</th>\n",
       "      <td>lot</td>\n",
       "      <td>0.027634</td>\n",
       "      <td>0.868050</td>\n",
       "    </tr>\n",
       "  </tbody>\n",
       "</table>\n",
       "</div>"
      ],
      "text/plain": [
       "  BusinessParking  f-statistic   p-value\n",
       "2       validated     5.177691  0.023371\n",
       "1          street     0.707008  0.400907\n",
       "4           valet     0.475792  0.490708\n",
       "0          garage     0.066927  0.795988\n",
       "3             lot     0.027634  0.868050"
      ]
     },
     "execution_count": 58,
     "metadata": {},
     "output_type": "execute_result"
    }
   ],
   "source": [
    "BusinessParking_anova = pd.concat([pd.Series(BusinessParking_list), pd.DataFrame(result_list)], axis=1)\n",
    "BusinessParking_anova.columns = [\"BusinessParking\", \"f-statistic\", \"p-value\"]\n",
    "BusinessParking_anova = BusinessParking_anova.sort_values(by='p-value')\n",
    "BusinessParking_anova"
   ]
  },
  {
   "cell_type": "markdown",
   "metadata": {},
   "source": [
    "## MANOVA"
   ]
  },
  {
   "cell_type": "code",
   "execution_count": 75,
   "metadata": {},
   "outputs": [
    {
     "data": {
      "text/html": [
       "<div>\n",
       "<style scoped>\n",
       "    .dataframe tbody tr th:only-of-type {\n",
       "        vertical-align: middle;\n",
       "    }\n",
       "\n",
       "    .dataframe tbody tr th {\n",
       "        vertical-align: top;\n",
       "    }\n",
       "\n",
       "    .dataframe thead th {\n",
       "        text-align: right;\n",
       "    }\n",
       "</style>\n",
       "<table border=\"1\" class=\"dataframe\">\n",
       "  <thead>\n",
       "    <tr style=\"text-align: right;\">\n",
       "      <th></th>\n",
       "      <th>Unnamed: 0</th>\n",
       "      <th>business_id</th>\n",
       "      <th>stars</th>\n",
       "      <th>RestaurantsTableService</th>\n",
       "      <th>BusinessAcceptsCreditCards</th>\n",
       "      <th>GoodForMeal</th>\n",
       "      <th>Caters</th>\n",
       "      <th>BikeParking</th>\n",
       "      <th>WiFi</th>\n",
       "      <th>NoiseLevel</th>\n",
       "      <th>...</th>\n",
       "      <th>HasTV</th>\n",
       "      <th>RestaurantsDelivery</th>\n",
       "      <th>RestaurantsPriceRange2</th>\n",
       "      <th>Ambience</th>\n",
       "      <th>OutdoorSeating</th>\n",
       "      <th>RestaurantsGoodForGroups</th>\n",
       "      <th>RestaurantsReservations</th>\n",
       "      <th>BusinessParking</th>\n",
       "      <th>RestaurantsTakeOut</th>\n",
       "      <th>GoodForKids</th>\n",
       "    </tr>\n",
       "  </thead>\n",
       "  <tbody>\n",
       "    <tr>\n",
       "      <th>0</th>\n",
       "      <td>0</td>\n",
       "      <td>nsNONDHbV7Vudqh21uicqw</td>\n",
       "      <td>3.5</td>\n",
       "      <td>NaN</td>\n",
       "      <td>True</td>\n",
       "      <td>{'dessert': False, 'latenight': False, 'lunch'...</td>\n",
       "      <td>False</td>\n",
       "      <td>False</td>\n",
       "      <td>'no'</td>\n",
       "      <td>'average'</td>\n",
       "      <td>...</td>\n",
       "      <td>True</td>\n",
       "      <td>False</td>\n",
       "      <td>3</td>\n",
       "      <td>{'touristy': False, 'hipster': False, 'romanti...</td>\n",
       "      <td>False</td>\n",
       "      <td>True</td>\n",
       "      <td>True</td>\n",
       "      <td>{'garage': False, 'street': False, 'validated'...</td>\n",
       "      <td>False</td>\n",
       "      <td>False</td>\n",
       "    </tr>\n",
       "    <tr>\n",
       "      <th>1</th>\n",
       "      <td>1</td>\n",
       "      <td>F06m2yQSPHIrb1IT7heYeQ</td>\n",
       "      <td>4.0</td>\n",
       "      <td>True</td>\n",
       "      <td>True</td>\n",
       "      <td>{'dessert': False, 'latenight': True, 'lunch':...</td>\n",
       "      <td>True</td>\n",
       "      <td>True</td>\n",
       "      <td>'free'</td>\n",
       "      <td>'average'</td>\n",
       "      <td>...</td>\n",
       "      <td>True</td>\n",
       "      <td>False</td>\n",
       "      <td>2</td>\n",
       "      <td>{'touristy': False, 'hipster': False, 'romanti...</td>\n",
       "      <td>False</td>\n",
       "      <td>True</td>\n",
       "      <td>True</td>\n",
       "      <td>{'garage': False, 'street': False, 'validated'...</td>\n",
       "      <td>True</td>\n",
       "      <td>True</td>\n",
       "    </tr>\n",
       "    <tr>\n",
       "      <th>2</th>\n",
       "      <td>2</td>\n",
       "      <td>c_FTil8s5PS2l_YJDQAXhA</td>\n",
       "      <td>4.0</td>\n",
       "      <td>NaN</td>\n",
       "      <td>True</td>\n",
       "      <td>{'dessert': False, 'latenight': True, 'lunch':...</td>\n",
       "      <td>False</td>\n",
       "      <td>True</td>\n",
       "      <td>'no'</td>\n",
       "      <td>'average'</td>\n",
       "      <td>...</td>\n",
       "      <td>True</td>\n",
       "      <td>False</td>\n",
       "      <td>2</td>\n",
       "      <td>{'touristy': False, 'hipster': False, 'romanti...</td>\n",
       "      <td>False</td>\n",
       "      <td>True</td>\n",
       "      <td>True</td>\n",
       "      <td>{'garage': False, 'street': True, 'validated':...</td>\n",
       "      <td>True</td>\n",
       "      <td>False</td>\n",
       "    </tr>\n",
       "    <tr>\n",
       "      <th>3</th>\n",
       "      <td>3</td>\n",
       "      <td>vAbRNF0hJt91oCUpm_sdKw</td>\n",
       "      <td>3.5</td>\n",
       "      <td>NaN</td>\n",
       "      <td>True</td>\n",
       "      <td>NaN</td>\n",
       "      <td>NaN</td>\n",
       "      <td>False</td>\n",
       "      <td>'no'</td>\n",
       "      <td>'average'</td>\n",
       "      <td>...</td>\n",
       "      <td>False</td>\n",
       "      <td>False</td>\n",
       "      <td>3</td>\n",
       "      <td>NaN</td>\n",
       "      <td>False</td>\n",
       "      <td>True</td>\n",
       "      <td>True</td>\n",
       "      <td>{'garage': True, 'street': False, 'validated':...</td>\n",
       "      <td>False</td>\n",
       "      <td>False</td>\n",
       "    </tr>\n",
       "    <tr>\n",
       "      <th>4</th>\n",
       "      <td>4</td>\n",
       "      <td>z8H4Mdzl4jS9pYswj6Jf9w</td>\n",
       "      <td>3.5</td>\n",
       "      <td>True</td>\n",
       "      <td>True</td>\n",
       "      <td>{'dessert': False, 'latenight': False, 'lunch'...</td>\n",
       "      <td>False</td>\n",
       "      <td>False</td>\n",
       "      <td>'no'</td>\n",
       "      <td>'loud'</td>\n",
       "      <td>...</td>\n",
       "      <td>False</td>\n",
       "      <td>False</td>\n",
       "      <td>3</td>\n",
       "      <td>{'romantic': False, 'intimate': False, 'classy...</td>\n",
       "      <td>False</td>\n",
       "      <td>True</td>\n",
       "      <td>True</td>\n",
       "      <td>{'garage': True, 'street': False, 'validated':...</td>\n",
       "      <td>False</td>\n",
       "      <td>False</td>\n",
       "    </tr>\n",
       "  </tbody>\n",
       "</table>\n",
       "<p>5 rows × 22 columns</p>\n",
       "</div>"
      ],
      "text/plain": [
       "   Unnamed: 0             business_id  stars RestaurantsTableService  \\\n",
       "0           0  nsNONDHbV7Vudqh21uicqw    3.5                     NaN   \n",
       "1           1  F06m2yQSPHIrb1IT7heYeQ    4.0                    True   \n",
       "2           2  c_FTil8s5PS2l_YJDQAXhA    4.0                     NaN   \n",
       "3           3  vAbRNF0hJt91oCUpm_sdKw    3.5                     NaN   \n",
       "4           4  z8H4Mdzl4jS9pYswj6Jf9w    3.5                    True   \n",
       "\n",
       "   BusinessAcceptsCreditCards  \\\n",
       "0                        True   \n",
       "1                        True   \n",
       "2                        True   \n",
       "3                        True   \n",
       "4                        True   \n",
       "\n",
       "                                         GoodForMeal Caters BikeParking  \\\n",
       "0  {'dessert': False, 'latenight': False, 'lunch'...  False       False   \n",
       "1  {'dessert': False, 'latenight': True, 'lunch':...   True        True   \n",
       "2  {'dessert': False, 'latenight': True, 'lunch':...  False        True   \n",
       "3                                                NaN    NaN       False   \n",
       "4  {'dessert': False, 'latenight': False, 'lunch'...  False       False   \n",
       "\n",
       "     WiFi NoiseLevel  ...  HasTV RestaurantsDelivery  RestaurantsPriceRange2  \\\n",
       "0    'no'  'average'  ...   True               False                       3   \n",
       "1  'free'  'average'  ...   True               False                       2   \n",
       "2    'no'  'average'  ...   True               False                       2   \n",
       "3    'no'  'average'  ...  False               False                       3   \n",
       "4    'no'     'loud'  ...  False               False                       3   \n",
       "\n",
       "                                            Ambience  OutdoorSeating  \\\n",
       "0  {'touristy': False, 'hipster': False, 'romanti...           False   \n",
       "1  {'touristy': False, 'hipster': False, 'romanti...           False   \n",
       "2  {'touristy': False, 'hipster': False, 'romanti...           False   \n",
       "3                                                NaN           False   \n",
       "4  {'romantic': False, 'intimate': False, 'classy...           False   \n",
       "\n",
       "  RestaurantsGoodForGroups  RestaurantsReservations  \\\n",
       "0                     True                     True   \n",
       "1                     True                     True   \n",
       "2                     True                     True   \n",
       "3                     True                     True   \n",
       "4                     True                     True   \n",
       "\n",
       "                                     BusinessParking  RestaurantsTakeOut  \\\n",
       "0  {'garage': False, 'street': False, 'validated'...               False   \n",
       "1  {'garage': False, 'street': False, 'validated'...                True   \n",
       "2  {'garage': False, 'street': True, 'validated':...                True   \n",
       "3  {'garage': True, 'street': False, 'validated':...               False   \n",
       "4  {'garage': True, 'street': False, 'validated':...               False   \n",
       "\n",
       "  GoodForKids  \n",
       "0       False  \n",
       "1        True  \n",
       "2       False  \n",
       "3       False  \n",
       "4       False  \n",
       "\n",
       "[5 rows x 22 columns]"
      ]
     },
     "execution_count": 75,
     "metadata": {},
     "output_type": "execute_result"
    }
   ],
   "source": [
    "final_df = pd.read_csv(\"business_attributes.csv\")\n",
    "final_df.head()"
   ]
  },
  {
   "cell_type": "code",
   "execution_count": 78,
   "metadata": {},
   "outputs": [],
   "source": [
    "stars = final_df['stars']\n",
    "NoiseLevel = final_df['NoiseLevel']\n",
    "BusinessAcceptsCreditCards = final_df['BusinessAcceptsCreditCards']\n",
    "WiFi = final_df['WiFi']\n",
    "GoodForKids = final_df['GoodForKids']\n",
    "RestaurantsAttire = final_df['RestaurantsAttire']\n",
    "Alcohol = final_df['Alcohol']\n",
    "RestaurantsTakeOut = final_df['RestaurantsTakeOut']\n",
    "RestaurantsGoodForGroups = final_df['RestaurantsGoodForGroups']\n",
    "Caters = final_df['Caters']"
   ]
  },
  {
   "cell_type": "code",
   "execution_count": null,
   "metadata": {
    "collapsed": true
   },
   "outputs": [],
   "source": []
  },
  {
   "cell_type": "code",
   "execution_count": null,
   "metadata": {
    "collapsed": true
   },
   "outputs": [],
   "source": []
  },
  {
   "cell_type": "code",
   "execution_count": 61,
   "metadata": {},
   "outputs": [],
   "source": [
    "import statsmodels.api as sm\n",
    "from statsmodels.formula.api import ols"
   ]
  },
  {
   "cell_type": "code",
   "execution_count": 82,
   "metadata": {},
   "outputs": [
    {
     "ename": "ValueError",
     "evalue": "Type 9 not understood",
     "output_type": "error",
     "traceback": [
      "\u001b[0;31m---------------------------------------------------------------------------\u001b[0m",
      "\u001b[0;31mValueError\u001b[0m                                Traceback (most recent call last)",
      "\u001b[0;32m<ipython-input-82-f842bb2ea89b>\u001b[0m in \u001b[0;36m<module>\u001b[0;34m()\u001b[0m\n\u001b[1;32m      1\u001b[0m \u001b[0mmodel\u001b[0m \u001b[0;34m=\u001b[0m \u001b[0mols\u001b[0m\u001b[0;34m(\u001b[0m\u001b[0;34m'stars ~ NoiseLevel * BusinessAcceptsCreditCards * WiFi * GoodForKids * RestaurantsAttire * Alcohol *             RestaurantsTakeOut * RestaurantsGoodForGroups * Caters'\u001b[0m\u001b[0;34m,\u001b[0m \u001b[0mdata\u001b[0m\u001b[0;34m=\u001b[0m\u001b[0mfinal_df\u001b[0m\u001b[0;34m)\u001b[0m\u001b[0;34m.\u001b[0m\u001b[0mfit\u001b[0m\u001b[0;34m(\u001b[0m\u001b[0;34m)\u001b[0m\u001b[0;34m\u001b[0m\u001b[0m\n\u001b[0;32m----> 2\u001b[0;31m \u001b[0mtable\u001b[0m \u001b[0;34m=\u001b[0m \u001b[0msm\u001b[0m\u001b[0;34m.\u001b[0m\u001b[0mstats\u001b[0m\u001b[0;34m.\u001b[0m\u001b[0manova_lm\u001b[0m\u001b[0;34m(\u001b[0m\u001b[0mmodel\u001b[0m\u001b[0;34m,\u001b[0m \u001b[0mtyp\u001b[0m\u001b[0;34m=\u001b[0m\u001b[0;36m9\u001b[0m\u001b[0;34m)\u001b[0m \u001b[0;31m# Type 9 ANOVA DataFrame\u001b[0m\u001b[0;34m\u001b[0m\u001b[0m\n\u001b[0m\u001b[1;32m      3\u001b[0m \u001b[0mprint\u001b[0m\u001b[0;34m(\u001b[0m\u001b[0mtable\u001b[0m\u001b[0;34m)\u001b[0m\u001b[0;34m\u001b[0m\u001b[0m\n",
      "\u001b[0;32m~/anaconda/lib/python3.6/site-packages/statsmodels/stats/anova.py\u001b[0m in \u001b[0;36manova_lm\u001b[0;34m(*args, **kwargs)\u001b[0m\n\u001b[1;32m    324\u001b[0m     \u001b[0;32mif\u001b[0m \u001b[0mlen\u001b[0m\u001b[0;34m(\u001b[0m\u001b[0margs\u001b[0m\u001b[0;34m)\u001b[0m \u001b[0;34m==\u001b[0m \u001b[0;36m1\u001b[0m\u001b[0;34m:\u001b[0m\u001b[0;34m\u001b[0m\u001b[0m\n\u001b[1;32m    325\u001b[0m         \u001b[0mmodel\u001b[0m \u001b[0;34m=\u001b[0m \u001b[0margs\u001b[0m\u001b[0;34m[\u001b[0m\u001b[0;36m0\u001b[0m\u001b[0;34m]\u001b[0m\u001b[0;34m\u001b[0m\u001b[0m\n\u001b[0;32m--> 326\u001b[0;31m         \u001b[0;32mreturn\u001b[0m \u001b[0manova_single\u001b[0m\u001b[0;34m(\u001b[0m\u001b[0mmodel\u001b[0m\u001b[0;34m,\u001b[0m \u001b[0;34m**\u001b[0m\u001b[0mkwargs\u001b[0m\u001b[0;34m)\u001b[0m\u001b[0;34m\u001b[0m\u001b[0m\n\u001b[0m\u001b[1;32m    327\u001b[0m \u001b[0;34m\u001b[0m\u001b[0m\n\u001b[1;32m    328\u001b[0m     \u001b[0;32mtry\u001b[0m\u001b[0;34m:\u001b[0m\u001b[0;34m\u001b[0m\u001b[0m\n",
      "\u001b[0;32m~/anaconda/lib/python3.6/site-packages/statsmodels/stats/anova.py\u001b[0m in \u001b[0;36manova_single\u001b[0;34m(model, **kwargs)\u001b[0m\n\u001b[1;32m     88\u001b[0m         \u001b[0;32mraise\u001b[0m \u001b[0mNotImplemented\u001b[0m\u001b[0;34m(\u001b[0m\u001b[0;34m\"Type IV not yet implemented\"\u001b[0m\u001b[0;34m)\u001b[0m\u001b[0;34m\u001b[0m\u001b[0m\n\u001b[1;32m     89\u001b[0m     \u001b[0;32melse\u001b[0m\u001b[0;34m:\u001b[0m \u001b[0;31m# pragma: no cover\u001b[0m\u001b[0;34m\u001b[0m\u001b[0m\n\u001b[0;32m---> 90\u001b[0;31m         \u001b[0;32mraise\u001b[0m \u001b[0mValueError\u001b[0m\u001b[0;34m(\u001b[0m\u001b[0;34m\"Type %s not understood\"\u001b[0m \u001b[0;34m%\u001b[0m \u001b[0mstr\u001b[0m\u001b[0;34m(\u001b[0m\u001b[0mtyp\u001b[0m\u001b[0;34m)\u001b[0m\u001b[0;34m)\u001b[0m\u001b[0;34m\u001b[0m\u001b[0m\n\u001b[0m\u001b[1;32m     91\u001b[0m \u001b[0;34m\u001b[0m\u001b[0m\n\u001b[1;32m     92\u001b[0m def anova1_lm_single(model, endog, exog, nobs, design_info, table, n_rows, test,\n",
      "\u001b[0;31mValueError\u001b[0m: Type 9 not understood"
     ]
    }
   ],
   "source": [
    "model = ols('stars ~ NoiseLevel * BusinessAcceptsCreditCards * WiFi * GoodForKids * RestaurantsAttire * Alcohol * \\\n",
    "            RestaurantsTakeOut * RestaurantsGoodForGroups * Caters', data=final_df).fit()\n",
    "table = sm.stats.anova_lm(model, typ=9) # Type 9 ANOVA DataFrame\n",
    "print(table)"
   ]
  },
  {
   "cell_type": "code",
   "execution_count": 85,
   "metadata": {},
   "outputs": [
    {
     "data": {
      "text/plain": [
       "array([2.14285714, 0.25      ])"
      ]
     },
     "execution_count": 85,
     "metadata": {},
     "output_type": "execute_result"
    }
   ],
   "source": [
    "Y = [1,3,4,5,2,3,4]\n",
    "X = range(1,8)\n",
    "X = sm.add_constant(X)\n",
    "model = sm.OLS(Y,X)\n",
    "results = model.fit()\n",
    "results.params"
   ]
  },
  {
   "cell_type": "code",
   "execution_count": null,
   "metadata": {
    "collapsed": true
   },
   "outputs": [],
   "source": []
  },
  {
   "cell_type": "code",
   "execution_count": null,
   "metadata": {
    "collapsed": true
   },
   "outputs": [],
   "source": []
  },
  {
   "cell_type": "code",
   "execution_count": null,
   "metadata": {
    "collapsed": true
   },
   "outputs": [],
   "source": []
  },
  {
   "cell_type": "code",
   "execution_count": null,
   "metadata": {
    "collapsed": true
   },
   "outputs": [],
   "source": []
  },
  {
   "cell_type": "code",
   "execution_count": null,
   "metadata": {
    "collapsed": true
   },
   "outputs": [],
   "source": []
  }
 ],
 "metadata": {
  "kernelspec": {
   "display_name": "Python 3",
   "language": "python",
   "name": "python3"
  },
  "language_info": {
   "codemirror_mode": {
    "name": "ipython",
    "version": 3
   },
   "file_extension": ".py",
   "mimetype": "text/x-python",
   "name": "python",
   "nbconvert_exporter": "python",
   "pygments_lexer": "ipython3",
   "version": "3.6.3"
  }
 },
 "nbformat": 4,
 "nbformat_minor": 2
}
