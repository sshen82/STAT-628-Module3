{
 "cells": [
  {
   "cell_type": "markdown",
   "metadata": {
    "collapsed": true
   },
   "source": [
    "# Seafood Business Dataset"
   ]
  },
  {
   "cell_type": "code",
   "execution_count": 1,
   "metadata": {
    "collapsed": true
   },
   "outputs": [],
   "source": [
    "import json\n",
    "import pandas as pd\n",
    "import numpy as np\n",
    "import nltk\n",
    "import matplotlib.pyplot as plt\n",
    "import seaborn as sns"
   ]
  },
  {
   "cell_type": "code",
   "execution_count": 2,
   "metadata": {
    "collapsed": true
   },
   "outputs": [],
   "source": [
    "def read_json(path):\n",
    "    with open(path, encoding='utf-8') as f:\n",
    "        iter_f = iter(f)\n",
    "        line = f.readline()\n",
    "        text = []\n",
    "        for line in iter_f: \n",
    "            d = json.loads(line)\n",
    "            text.append(d)\n",
    "        f.close()\n",
    "    return(text)"
   ]
  },
  {
   "cell_type": "code",
   "execution_count": 3,
   "metadata": {
    "collapsed": true
   },
   "outputs": [],
   "source": [
    "def write_json(path, data):\n",
    "    with open(path, 'w', encoding=\"utf-8\") as f:\n",
    "        return json.dump(data, f, indent=2)"
   ]
  },
  {
   "cell_type": "markdown",
   "metadata": {},
   "source": [
    "## Step 1: Filter business"
   ]
  },
  {
   "cell_type": "code",
   "execution_count": 4,
   "metadata": {
    "collapsed": true
   },
   "outputs": [],
   "source": [
    "raw_business = read_json(\"business.json\")"
   ]
  },
  {
   "cell_type": "code",
   "execution_count": 5,
   "metadata": {},
   "outputs": [
    {
     "data": {
      "text/plain": [
       "192608"
      ]
     },
     "execution_count": 5,
     "metadata": {},
     "output_type": "execute_result"
    }
   ],
   "source": [
    "len(raw_business)"
   ]
  },
  {
   "cell_type": "markdown",
   "metadata": {},
   "source": [
    "### Filtering rules:\n",
    "* \"Seafood\", \"Restaurant\" **must** in the category of the business\n",
    "* \"Steakhouse\" **must not** in the category of the business\n",
    "* the length of category **must** less than or equal to 50\n",
    "* the amount of reviews **must** greater than or equal to 50\n",
    "\n",
    "We got **433** seafood business in total."
   ]
  },
  {
   "cell_type": "code",
   "execution_count": 6,
   "metadata": {
    "collapsed": true
   },
   "outputs": [],
   "source": [
    "seafood_business = []\n",
    "index = []\n",
    "\n",
    "for i in range(len(raw_business)):\n",
    "    if raw_business[i]['categories'] is None:\n",
    "        continue\n",
    "    if \"Seafood\" in raw_business[i]['categories'] and \"Restaurants\" in raw_business[i]['categories'] \\\n",
    "    and \"Steakhouse\" not in raw_business[i]['categories'] and len(raw_business[i]['categories']) <= 50:\n",
    "        if raw_business[i]['review_count'] >= 50:\n",
    "            seafood_business.append(raw_business[i])\n",
    "            index.append(i)"
   ]
  },
  {
   "cell_type": "code",
   "execution_count": 7,
   "metadata": {
    "scrolled": true
   },
   "outputs": [
    {
     "data": {
      "text/plain": [
       "433"
      ]
     },
     "execution_count": 7,
     "metadata": {},
     "output_type": "execute_result"
    }
   ],
   "source": [
    "len(seafood_business)"
   ]
  },
  {
   "cell_type": "markdown",
   "metadata": {},
   "source": [
    "### See the range of:\n",
    "* the length of category: 20 ~ 50\n",
    "* the amount of reviews: 50 ~ 2423"
   ]
  },
  {
   "cell_type": "code",
   "execution_count": 8,
   "metadata": {
    "collapsed": true
   },
   "outputs": [],
   "source": [
    "length_max = 0\n",
    "length_min = 195\n",
    "index_max = None\n",
    "index_min = None\n",
    "\n",
    "for i in range(len(seafood_business)):   \n",
    "    if len(seafood_business[i]['categories']) >= length_max:\n",
    "        length_max = len(seafood_business[i]['categories'])\n",
    "        index_max = i\n",
    "        \n",
    "for i in range(len(seafood_business)):   \n",
    "    if len(seafood_business[i]['categories']) <= length_min:\n",
    "        length_min = len(seafood_business[i]['categories'])\n",
    "        index_min = i"
   ]
  },
  {
   "cell_type": "code",
   "execution_count": 9,
   "metadata": {},
   "outputs": [
    {
     "name": "stdout",
     "output_type": "stream",
     "text": [
      "50 20\n"
     ]
    }
   ],
   "source": [
    "print(length_max, length_min)"
   ]
  },
  {
   "cell_type": "code",
   "execution_count": 10,
   "metadata": {
    "collapsed": true
   },
   "outputs": [],
   "source": [
    "count_max = 0\n",
    "count_min = 100000\n",
    "index_max = 0\n",
    "index_min = 0\n",
    "\n",
    "for i in range(len(seafood_business)):   \n",
    "    if seafood_business[i]['review_count'] >= count_max:\n",
    "        count_max = seafood_business[i]['review_count']\n",
    "        index_max = i\n",
    "        \n",
    "for i in range(len(seafood_business)):   \n",
    "    if seafood_business[i]['review_count'] <= count_min:\n",
    "        count_min = seafood_business[i]['review_count']\n",
    "        index_min = i"
   ]
  },
  {
   "cell_type": "code",
   "execution_count": 11,
   "metadata": {},
   "outputs": [
    {
     "name": "stdout",
     "output_type": "stream",
     "text": [
      "2423 50\n"
     ]
    }
   ],
   "source": [
    "print(count_max,count_min)"
   ]
  },
  {
   "cell_type": "markdown",
   "metadata": {},
   "source": [
    "## Step 2: Combine reviews to business"
   ]
  },
  {
   "cell_type": "code",
   "execution_count": 12,
   "metadata": {
    "collapsed": true
   },
   "outputs": [],
   "source": [
    "raw_review = read_json(\"review.json\")"
   ]
  },
  {
   "cell_type": "code",
   "execution_count": 13,
   "metadata": {
    "collapsed": true
   },
   "outputs": [],
   "source": [
    "business_id=[]\n",
    "for i in range(len(seafood_business)):\n",
    "    business_id.append(seafood_business[i]['business_id'])\n",
    "    \n",
    "seafood_review={}\n",
    "for i in range(len(seafood_business)):\n",
    "    seafood_review[seafood_business[i]['business_id']]=[]\n",
    "    \n",
    "for i in range(len(raw_review)):\n",
    "    if raw_review[i]['business_id'] in business_id:\n",
    "        seafood_review[raw_review[i]['business_id']].append(raw_review[i])\n",
    "        \n",
    "#put reviews together\n",
    "all_review=[]\n",
    "for i in range(len(seafood_business)):\n",
    "    all_review.extend(seafood_review[seafood_business[i]['business_id']])"
   ]
  },
  {
   "cell_type": "code",
   "execution_count": 14,
   "metadata": {},
   "outputs": [
    {
     "data": {
      "text/plain": [
       "433"
      ]
     },
     "execution_count": 14,
     "metadata": {},
     "output_type": "execute_result"
    }
   ],
   "source": [
    "len(seafood_review)"
   ]
  },
  {
   "cell_type": "markdown",
   "metadata": {},
   "source": [
    "### See the 1st seafood business \"Salt Cellar\":"
   ]
  },
  {
   "cell_type": "code",
   "execution_count": 15,
   "metadata": {
    "scrolled": false
   },
   "outputs": [
    {
     "data": {
      "text/plain": [
       "{'address': '550 N Hayden Rd',\n",
       " 'attributes': {'Alcohol': \"'full_bar'\",\n",
       "  'Ambience': \"{'touristy': False, 'hipster': False, 'romantic': False, 'divey': False, 'intimate': False, 'trendy': False, 'upscale': False, 'classy': False, 'casual': False}\",\n",
       "  'BikeParking': 'False',\n",
       "  'BusinessAcceptsCreditCards': 'True',\n",
       "  'BusinessParking': \"{'garage': False, 'street': False, 'validated': False, 'lot': True, 'valet': False}\",\n",
       "  'Caters': 'False',\n",
       "  'GoodForKids': 'False',\n",
       "  'GoodForMeal': \"{'dessert': False, 'latenight': False, 'lunch': False, 'dinner': True, 'brunch': False, 'breakfast': False}\",\n",
       "  'HasTV': 'True',\n",
       "  'NoiseLevel': \"u'average'\",\n",
       "  'OutdoorSeating': 'False',\n",
       "  'RestaurantsAttire': \"u'casual'\",\n",
       "  'RestaurantsDelivery': 'False',\n",
       "  'RestaurantsGoodForGroups': 'True',\n",
       "  'RestaurantsPriceRange2': '3',\n",
       "  'RestaurantsReservations': 'True',\n",
       "  'RestaurantsTakeOut': 'False',\n",
       "  'WiFi': \"u'no'\"},\n",
       " 'business_id': 'nsNONDHbV7Vudqh21uicqw',\n",
       " 'categories': 'Seafood, Restaurants',\n",
       " 'city': 'Scottsdale',\n",
       " 'hours': {'Friday': '16:0-0:0',\n",
       "  'Monday': '16:0-0:0',\n",
       "  'Saturday': '16:0-0:0',\n",
       "  'Sunday': '16:0-0:0',\n",
       "  'Thursday': '16:0-0:0',\n",
       "  'Tuesday': '16:0-0:0',\n",
       "  'Wednesday': '16:0-0:0'},\n",
       " 'is_open': 1,\n",
       " 'latitude': 33.454286,\n",
       " 'longitude': -111.909405,\n",
       " 'name': 'Salt Cellar',\n",
       " 'postal_code': '85257',\n",
       " 'review_count': 526,\n",
       " 'stars': 3.5,\n",
       " 'state': 'AZ'}"
      ]
     },
     "execution_count": 15,
     "metadata": {},
     "output_type": "execute_result"
    }
   ],
   "source": [
    "seafood_business[0]"
   ]
  },
  {
   "cell_type": "code",
   "execution_count": 16,
   "metadata": {},
   "outputs": [
    {
     "data": {
      "text/plain": [
       "'nsNONDHbV7Vudqh21uicqw'"
      ]
     },
     "execution_count": 16,
     "metadata": {},
     "output_type": "execute_result"
    }
   ],
   "source": [
    "business_id[0]"
   ]
  },
  {
   "cell_type": "code",
   "execution_count": 22,
   "metadata": {},
   "outputs": [
    {
     "data": {
      "text/plain": [
       "[{'business_id': 'nsNONDHbV7Vudqh21uicqw',\n",
       "  'cool': 0,\n",
       "  'date': '2017-05-26 02:22:41',\n",
       "  'funny': 0,\n",
       "  'review_id': 'eKgibXL3A2DeRkQjF5BQDA',\n",
       "  'stars': 1.0,\n",
       "  'text': \"Was very excited for happy hour and heard great things. Food was less then average we were charged $10 for BREAD.  Most apps were greasy or fried and still spent $250 on happy hour menu for a group of 4. First review on yelp so cared enough to take the time to write this. Sorry won't come back.\",\n",
       "  'useful': 0,\n",
       "  'user_id': 'iFnEh9lsL2CIFnddSaEHAw'},\n",
       " {'business_id': 'nsNONDHbV7Vudqh21uicqw',\n",
       "  'cool': 1,\n",
       "  'date': '2018-05-08 17:18:20',\n",
       "  'funny': 1,\n",
       "  'review_id': '8NBE5q5UWLQUqWyM7GpQ2g',\n",
       "  'stars': 2.0,\n",
       "  'text': 'Seems old and tired!   I ate here frequently about 20 years ago and returned for happy hour this year.  This used to be a good place many years ago, but too many great restaurants have opened in recent years to eat here.  Strange rules about what you can eat in the bar area.  Food just meh.',\n",
       "  'useful': 1,\n",
       "  'user_id': 'StZTVDuFzahNvjl5qu6l7Q'},\n",
       " {'business_id': 'nsNONDHbV7Vudqh21uicqw',\n",
       "  'cool': 0,\n",
       "  'date': '2015-12-05 04:07:02',\n",
       "  'funny': 0,\n",
       "  'review_id': '0LlXj_E-pG_h7Pp8SP8xOw',\n",
       "  'stars': 1.0,\n",
       "  'text': 'Poor service, had to sit there and ask my wife continuesly about why we have been waiting SO long for our waitress to bring us food, to bring us service etc, we talked to the \"owner\" who cared about nothing we had to say, only cared about the money. The manager did not refund us, did not give us a discount, as a first time customer here for me, and a returning customer for my wife, as she has grown up here this will be the LAST time we ever come to this place. Did i forget to mention that me and my 9 month prego wife left HUNGRY??? Even after telling the manager that we pretty much paid $70 for bread...  Yeah! We will be disputing the bill. My wife is truely hurt by the way we were treated tonight, she tried to surprise me with this \"fantastic\" place.....  Thanks for reading my review, and please remember, you can get way better service at Red lobster for the same amount you would pay here. Please contact me with any questions or concerns you may have , 480-269-1834.',\n",
       "  'useful': 0,\n",
       "  'user_id': 'tWxxQ90qRChDmb9RNQ9d6A'},\n",
       " {'business_id': 'nsNONDHbV7Vudqh21uicqw',\n",
       "  'cool': 0,\n",
       "  'date': '2016-12-19 17:22:19',\n",
       "  'funny': 0,\n",
       "  'review_id': 'ShPD1jthF34sDv4YcirvSw',\n",
       "  'stars': 1.0,\n",
       "  'text': \"Yesterday I took my husband to eat on his birthday.  Both the food and service was horrible.  I ordered a steak and they brought me out fish.  The server immediately removed my plate and let the chef know of the error.  The server said the steak would take 14 minutes to cook.  By then my husband would be done eating his meal.  So I sat there watching my husband eat his meal.  My husband ordered the blackened halibut, I took at bite and the fish was very dry and burned around the edges.  I tasted the carrots and the they were not cooked all the way, they were still hard.  The baked potato was the size of a roma tomato and it was also dry.  What a waste of time and money.  I spoke with Marie the manager and she came across as not caring and let me know that my steak was removed from my bill.  I would have been very upset had she charged me for a meal I did not eat. She didn't do anything to have me want to come back.  Save your money and go to a more reputable restaurant that knows how to serve delicious meals.\",\n",
       "  'useful': 0,\n",
       "  'user_id': '9elk7mBv_BanREA2KrBdCw'},\n",
       " {'business_id': 'nsNONDHbV7Vudqh21uicqw',\n",
       "  'cool': 0,\n",
       "  'date': '2015-08-30 15:24:33',\n",
       "  'funny': 0,\n",
       "  'review_id': '0G5AlwBF93rEWeJm1CkSFg',\n",
       "  'stars': 1.0,\n",
       "  'text': 'Second and last time. Sadly I had to wait for my food while everyone ate and then was served what was clearly rotten mussels. Veggies are frozen and the salads are out of a bag. Wont waste my money again',\n",
       "  'useful': 1,\n",
       "  'user_id': 'zXzVjdTM7LLgAreaAEUaeQ'}]"
      ]
     },
     "execution_count": 22,
     "metadata": {},
     "output_type": "execute_result"
    }
   ],
   "source": [
    "seafood_review['nsNONDHbV7Vudqh21uicqw'][0:5]"
   ]
  },
  {
   "cell_type": "markdown",
   "metadata": {},
   "source": [
    "## Step 3: Save to csv files"
   ]
  },
  {
   "cell_type": "code",
   "execution_count": 19,
   "metadata": {},
   "outputs": [],
   "source": [
    "seafood_business_df = pd.DataFrame(seafood_business)\n",
    "seafood_business_df.to_csv('seafood_business.csv')"
   ]
  },
  {
   "cell_type": "code",
   "execution_count": 20,
   "metadata": {
    "collapsed": true
   },
   "outputs": [],
   "source": [
    "all_review_df = pd.DataFrame(all_review)\n",
    "all_review_df.to_csv('all_review.csv')"
   ]
  },
  {
   "cell_type": "code",
   "execution_count": null,
   "metadata": {
    "collapsed": true
   },
   "outputs": [],
   "source": []
  }
 ],
 "metadata": {
  "kernelspec": {
   "display_name": "Python 3",
   "language": "python",
   "name": "python3"
  },
  "language_info": {
   "codemirror_mode": {
    "name": "ipython",
    "version": 3
   },
   "file_extension": ".py",
   "mimetype": "text/x-python",
   "name": "python",
   "nbconvert_exporter": "python",
   "pygments_lexer": "ipython3",
   "version": "3.6.3"
  }
 },
 "nbformat": 4,
 "nbformat_minor": 2
}
