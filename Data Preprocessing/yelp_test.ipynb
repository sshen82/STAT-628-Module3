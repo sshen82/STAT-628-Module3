{
 "cells": [
  {
   "cell_type": "code",
   "execution_count": 17,
   "metadata": {},
   "outputs": [],
   "source": [
    "import numpy as np\n",
    "import json\n",
    "import pandas as pd\n",
    "import nltk\n",
    "import matplotlib.pyplot as plt"
   ]
  },
  {
   "cell_type": "code",
   "execution_count": 2,
   "metadata": {},
   "outputs": [],
   "source": [
    "def read_json(path):\n",
    "    with open(path, encoding='utf-8') as f:\n",
    "        iter_f = iter(f)\n",
    "        line = f.readline()\n",
    "        text = []\n",
    "        for line in iter_f: \n",
    "            d = json.loads(line)\n",
    "            text.append(d)\n",
    "        f.close()\n",
    "    return(text)"
   ]
  },
  {
   "cell_type": "code",
   "execution_count": 3,
   "metadata": {},
   "outputs": [],
   "source": [
    "def write_json(path, data):\n",
    "    with open(path, 'w', encoding=\"utf-8\") as f:\n",
    "        return json.dump(data, f, indent=2)"
   ]
  },
  {
   "cell_type": "code",
   "execution_count": 4,
   "metadata": {},
   "outputs": [],
   "source": [
    "raw_business=read_json(\"Stat628/business.json\")\n",
    "raw_review=read_json(\"Stat628/review.json\")\n",
    "raw_tip=read_json(\"Stat628/tip.json\")\n",
    "raw_user=read_json(\"Stat628/user.json\")"
   ]
  },
  {
   "cell_type": "code",
   "execution_count": null,
   "metadata": {},
   "outputs": [],
   "source": [
    "frame_business=pd.DataFrame(raw_business)\n",
    "frame_review=pd.DataFrame(raw_review)\n",
    "frame_tip=pd.DataFrame(raw_tip)\n",
    "frame_user=pd.DataFrame(raw_user)"
   ]
  },
  {
   "cell_type": "code",
   "execution_count": 5,
   "metadata": {},
   "outputs": [],
   "source": [
    "seafood_business=[]\n",
    "index=[]\n",
    "for i in range(len(raw_business)):\n",
    "    if raw_business[i]['categories'] is None:\n",
    "        continue\n",
    "    if \"Seafood\" in raw_business[i]['categories'] and \"Restaurants\" in  raw_business[i]['categories']:\n",
    "        seafood_business.append(raw_business[i])\n",
    "        index.append(i)"
   ]
  },
  {
   "cell_type": "code",
   "execution_count": 6,
   "metadata": {},
   "outputs": [],
   "source": [
    "seafood_review={}\n",
    "for i in range(len(seafood_business)):\n",
    "    seafood_review[seafood_business[i]['business_id']]=[]"
   ]
  },
  {
   "cell_type": "code",
   "execution_count": 7,
   "metadata": {},
   "outputs": [],
   "source": [
    "for i in range(len(raw_review)):\n",
    "    for key in seafood_review.keys():\n",
    "        if raw_review[i]['business_id']==key:\n",
    "            seafood_review[key].append(raw_review[i])"
   ]
  },
  {
   "cell_type": "code",
   "execution_count": 48,
   "metadata": {},
   "outputs": [],
   "source": [
    "#put reviews together\n",
    "all_review=[]\n",
    "for i in range(len(seafood_business)):\n",
    "    all_review.extend(seafood_review[seafood_business[i]['business_id']])"
   ]
  },
  {
   "cell_type": "code",
   "execution_count": 87,
   "metadata": {},
   "outputs": [
    {
     "data": {
      "text/plain": [
       "{'review_id': 'IwBsa2BDyVU_slbaFqGeNw',\n",
       " 'user_id': 'zh3C0Nner3tyJ98NXAiSsw',\n",
       " 'business_id': 'nsNONDHbV7Vudqh21uicqw',\n",
       " 'stars': 2.0,\n",
       " 'useful': 1,\n",
       " 'funny': 0,\n",
       " 'cool': 0,\n",
       " 'text': \"Happy hour is great if that is just what you are going for. Otherwise, dinner is very hit or miss. Sides are always cold and you don't have many options. You would think if you only have four options they would be excellent for what you are paying. From steak to lobster it's just meh...Service is just mediocre, very snooty. It's a cute place but don't waste your time or especially your money if you want a great seafood dinner. We have been here 4+ times hoping for a change but nothing. Mediocre is the consistency here.\",\n",
       " 'date': '2016-07-28 05:44:21'}"
      ]
     },
     "execution_count": 87,
     "metadata": {},
     "output_type": "execute_result"
    }
   ],
   "source": [
    "all_review[300]"
   ]
  },
  {
   "cell_type": "code",
   "execution_count": null,
   "metadata": {},
   "outputs": [],
   "source": [
    "#words list\n",
    "word_food=['hot','fresh','oyster']\n",
    "word_price=['expensive','pricey','cheap',]\n",
    "word_service=['']\n",
    "word_environment=['comfortable','clean']\n",
    "word_positive=['good','great','comparable','ample','efficient','huge','nice','tasty','enjoyable','fancy','comfortable','enjoy','decent','beautiful']\n",
    "word_negative=['horrible','disgusting','disappoint'.'mediocre','bad','pricey','poor']"
   ]
  },
  {
   "cell_type": "code",
   "execution_count": 44,
   "metadata": {},
   "outputs": [],
   "source": [
    "# check rating vs review_num\n",
    "rating={}\n",
    "for i in range(len(seafood_business)):\n",
    "    if seafood_business[i]['stars'] not in rating.keys():\n",
    "        rating[seafood_business[i]['stars']]=1\n",
    "    else:\n",
    "        rating[seafood_business[i]['stars']]+=1"
   ]
  },
  {
   "cell_type": "code",
   "execution_count": 55,
   "metadata": {},
   "outputs": [
    {
     "data": {
      "image/png": "[encoded data removed]",
      "text/plain": [
       "<Figure size 432x288 with 1 Axes>"
      ]
     },
     "metadata": {
      "needs_background": "light"
     },
     "output_type": "display_data"
    }
   ],
   "source": [
    "# plot of rating \n",
    "plt.bar(rating.keys(),rating.values())\n",
    "plt.xlabel(\"stars\")\n",
    "plt.ylabel(\"frequency\")\n",
    "plt.title(\"number of restaurants of each rating star\")\n",
    "None"
   ]
  },
  {
   "cell_type": "code",
   "execution_count": 51,
   "metadata": {},
   "outputs": [],
   "source": [
    "#check reviews and star\n",
    "review_star={}\n",
    "for i in range(len(all_review)):\n",
    "    if all_review[i]['stars'] not in review_star.keys():\n",
    "        review_star[all_review[i]['stars']]=1\n",
    "    else:\n",
    "        review_star[all_review[i]['stars']]+=1"
   ]
  },
  {
   "cell_type": "code",
   "execution_count": 54,
   "metadata": {},
   "outputs": [
    {
     "data": {
      "image/png": "[encoded data removed]",
      "text/plain": [
       "<Figure size 432x288 with 1 Axes>"
      ]
     },
     "metadata": {
      "needs_background": "light"
     },
     "output_type": "display_data"
    }
   ],
   "source": [
    "#plot star vs review_num\n",
    "plt.bar(review_star.keys(),review_star.values())\n",
    "plt.xlabel(\"stars\")\n",
    "plt.ylabel(\"frequency\")\n",
    "plt.title(\"number of reviews vs stars\")\n",
    "None"
   ]
  },
  {
   "cell_type": "code",
   "execution_count": 71,
   "metadata": {},
   "outputs": [],
   "source": [
    "# review_star\n",
    "review_star={}\n",
    "for item in all_review:\n",
    "    if item['stars'] not in review_star.keys():\n",
    "        review_star[item['stars']]=[]\n",
    "        review_star[item['stars']].append(item)\n",
    "    else:\n",
    "        review_star[item['stars']].append(item)"
   ]
  },
  {
   "cell_type": "code",
   "execution_count": 83,
   "metadata": {},
   "outputs": [],
   "source": [
    "# plot word occurrence vs review\n",
    "def plot_word(word,reviews):\n",
    "    word_star={}\n",
    "    for i in range(1,6):\n",
    "        occurence=0\n",
    "        for review in review_star[i]:\n",
    "            if word in review['text'].lower():\n",
    "                occurence+=1\n",
    "        word_star[i]=occurence/len(review_star[i])\n",
    "    plt.bar(word_star.keys(),word_star.values())\n",
    "    plt.xlabel(\"stars\")\n",
    "    plt.ylabel(\"frequency\")\n",
    "    plt.title(word)\n",
    "    plt.show()"
   ]
  },
  {
   "cell_type": "code",
   "execution_count": 84,
   "metadata": {},
   "outputs": [
    {
     "data": {
      "image/png": "[encoded data removed]",
      "text/plain": [
       "<Figure size 432x288 with 1 Axes>"
      ]
     },
     "metadata": {
      "needs_background": "light"
     },
     "output_type": "display_data"
    }
   ],
   "source": [
    "plot_word('good',all_review)"
   ]
  },
  {
   "cell_type": "code",
   "execution_count": null,
   "metadata": {},
   "outputs": [],
   "source": []
  }
 ],
 "metadata": {
  "kernelspec": {
   "display_name": "Python 3",
   "language": "python",
   "name": "python3"
  },
  "language_info": {
   "codemirror_mode": {
    "name": "ipython",
    "version": 3
   },
   "file_extension": ".py",
   "mimetype": "text/x-python",
   "name": "python",
   "nbconvert_exporter": "python",
   "pygments_lexer": "ipython3",
   "version": "3.7.4"
  }
 },
 "nbformat": 4,
 "nbformat_minor": 2
}
